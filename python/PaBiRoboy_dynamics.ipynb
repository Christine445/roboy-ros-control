{
 "cells": [
  {
   "cell_type": "markdown",
   "metadata": {},
   "source": [
    "# PaBiRoboy dynamic equations"
   ]
  },
  {
   "cell_type": "markdown",
   "metadata": {},
   "source": [
    "First, import the necessary functions from SymPy that will allow us to construct time varying vectors in the reference frames."
   ]
  },
  {
   "cell_type": "code",
   "execution_count": 1,
   "metadata": {
    "collapsed": true
   },
   "outputs": [],
   "source": [
    "from __future__ import print_function, division\n",
    "from sympy import symbols, simplify, Matrix\n",
    "from sympy import trigsimp\n",
    "from sympy.physics.mechanics import dynamicsymbols, ReferenceFrame, Point, inertia, RigidBody, KanesMethod\n",
    "from numpy import deg2rad, rad2deg, array, zeros, linspace\n",
    "from sympy.physics.vector import init_vprinting, vlatex\n",
    "import numpy as np\n",
    "from scipy.integrate import odeint\n",
    "from pydy.codegen.ode_function_generators import generate_ode_function\n",
    "%matplotlib inline\n",
    "from matplotlib.pyplot import plot, legend, xlabel, ylabel, rcParams\n",
    "rcParams['figure.figsize'] = (14.0, 6.0)\n",
    "import rospy"
   ]
  },
  {
   "cell_type": "markdown",
   "metadata": {},
   "source": [
    "SymPy has a rich printing system. Here we initialize printing so that all of the mathematical equations are rendered in standard mathematical notation."
   ]
  },
  {
   "cell_type": "code",
   "execution_count": 2,
   "metadata": {
    "collapsed": true
   },
   "outputs": [],
   "source": [
    "from sympy.physics.vector import init_vprinting\n",
    "init_vprinting(use_latex='mathjax', pretty_print=False)"
   ]
  },
  {
   "cell_type": "markdown",
   "metadata": {},
   "source": [
    "## Interial frames"
   ]
  },
  {
   "cell_type": "code",
   "execution_count": 3,
   "metadata": {
    "collapsed": true
   },
   "outputs": [],
   "source": [
    "inertial_frame = ReferenceFrame('I')\n",
    "lower_leg_left_frame = ReferenceFrame('R_1')\n",
    "upper_leg_left_frame = ReferenceFrame('R_2')\n",
    "hip_frame = ReferenceFrame('R_3')\n",
    "upper_leg_right_frame = ReferenceFrame('R_4')\n",
    "lower_leg_right_frame = ReferenceFrame('R_5')"
   ]
  },
  {
   "cell_type": "markdown",
   "metadata": {},
   "source": [
    "## Angles"
   ]
  },
  {
   "cell_type": "code",
   "execution_count": 4,
   "metadata": {
    "collapsed": true
   },
   "outputs": [],
   "source": [
    "theta0, theta1, theta2, theta3, theta4, theta5 = dynamicsymbols('theta0, theta1, theta2, theta3, theta4, theta5')"
   ]
  },
  {
   "cell_type": "code",
   "execution_count": 5,
   "metadata": {},
   "outputs": [
    {
     "data": {
      "text/latex": [
       "$$\\left[\\begin{matrix}\\operatorname{cos}\\left(\\theta_{0}\\right) & \\operatorname{sin}\\left(\\theta_{0}\\right) & 0\\\\- \\operatorname{sin}\\left(\\theta_{0}\\right) & \\operatorname{cos}\\left(\\theta_{0}\\right) & 0\\\\0 & 0 & 1\\end{matrix}\\right]$$"
      ],
      "text/plain": [
       "Matrix([\n",
       "[ cos(theta0), sin(theta0), 0],\n",
       "[-sin(theta0), cos(theta0), 0],\n",
       "[           0,           0, 1]])"
      ]
     },
     "execution_count": 5,
     "metadata": {},
     "output_type": "execute_result"
    }
   ],
   "source": [
    "lower_leg_left_frame.orient(inertial_frame, 'Axis', (theta0, inertial_frame.z))\n",
    "lower_leg_left_frame.dcm(inertial_frame)"
   ]
  },
  {
   "cell_type": "code",
   "execution_count": 6,
   "metadata": {},
   "outputs": [
    {
     "data": {
      "text/latex": [
       "$$\\left[\\begin{matrix}\\operatorname{cos}\\left(\\theta_{0} + \\theta_{1}\\right) & \\operatorname{sin}\\left(\\theta_{0} + \\theta_{1}\\right) & 0\\\\- \\operatorname{sin}\\left(\\theta_{0} + \\theta_{1}\\right) & \\operatorname{cos}\\left(\\theta_{0} + \\theta_{1}\\right) & 0\\\\0 & 0 & 1\\end{matrix}\\right]$$"
      ],
      "text/plain": [
       "Matrix([\n",
       "[ cos(theta0 + theta1), sin(theta0 + theta1), 0],\n",
       "[-sin(theta0 + theta1), cos(theta0 + theta1), 0],\n",
       "[                    0,                    0, 1]])"
      ]
     },
     "execution_count": 6,
     "metadata": {},
     "output_type": "execute_result"
    }
   ],
   "source": [
    "upper_leg_left_frame.orient(lower_leg_left_frame, 'Axis', (theta1, lower_leg_left_frame.z))\n",
    "simplify(upper_leg_left_frame.dcm(inertial_frame))"
   ]
  },
  {
   "cell_type": "code",
   "execution_count": 7,
   "metadata": {},
   "outputs": [
    {
     "data": {
      "text/latex": [
       "$$\\left[\\begin{matrix}\\operatorname{cos}\\left(\\theta_{0} + \\theta_{1} + \\theta_{2}\\right) & \\operatorname{sin}\\left(\\theta_{0} + \\theta_{1} + \\theta_{2}\\right) & 0\\\\- \\operatorname{sin}\\left(\\theta_{0} + \\theta_{1} + \\theta_{2}\\right) & \\operatorname{cos}\\left(\\theta_{0} + \\theta_{1} + \\theta_{2}\\right) & 0\\\\0 & 0 & 1\\end{matrix}\\right]$$"
      ],
      "text/plain": [
       "Matrix([\n",
       "[ cos(theta0 + theta1 + theta2), sin(theta0 + theta1 + theta2), 0],\n",
       "[-sin(theta0 + theta1 + theta2), cos(theta0 + theta1 + theta2), 0],\n",
       "[                             0,                             0, 1]])"
      ]
     },
     "execution_count": 7,
     "metadata": {},
     "output_type": "execute_result"
    }
   ],
   "source": [
    "hip_frame.orient(upper_leg_left_frame, 'Axis', (theta2, upper_leg_left_frame.z))\n",
    "simplify(hip_frame.dcm(inertial_frame))"
   ]
  },
  {
   "cell_type": "code",
   "execution_count": 8,
   "metadata": {},
   "outputs": [
    {
     "data": {
      "text/latex": [
       "$$\\left[\\begin{matrix}\\operatorname{cos}\\left(\\theta_{0} + \\theta_{1} + \\theta_{2} + \\theta_{3}\\right) & \\operatorname{sin}\\left(\\theta_{0} + \\theta_{1} + \\theta_{2} + \\theta_{3}\\right) & 0\\\\- \\operatorname{sin}\\left(\\theta_{0} + \\theta_{1} + \\theta_{2} + \\theta_{3}\\right) & \\operatorname{cos}\\left(\\theta_{0} + \\theta_{1} + \\theta_{2} + \\theta_{3}\\right) & 0\\\\0 & 0 & 1\\end{matrix}\\right]$$"
      ],
      "text/plain": [
       "Matrix([\n",
       "[ cos(theta0 + theta1 + theta2 + theta3), sin(theta0 + theta1 + theta2 + theta3), 0],\n",
       "[-sin(theta0 + theta1 + theta2 + theta3), cos(theta0 + theta1 + theta2 + theta3), 0],\n",
       "[                                      0,                                      0, 1]])"
      ]
     },
     "execution_count": 8,
     "metadata": {},
     "output_type": "execute_result"
    }
   ],
   "source": [
    "upper_leg_right_frame.orient(hip_frame, 'Axis', (theta3, hip_frame.z))\n",
    "simplify(upper_leg_right_frame.dcm(inertial_frame))"
   ]
  },
  {
   "cell_type": "code",
   "execution_count": 9,
   "metadata": {},
   "outputs": [
    {
     "data": {
      "text/latex": [
       "$$\\left[\\begin{matrix}\\operatorname{cos}\\left(\\theta_{0} + \\theta_{1} + \\theta_{2} + \\theta_{3} + \\theta_{4}\\right) & \\operatorname{sin}\\left(\\theta_{0} + \\theta_{1} + \\theta_{2} + \\theta_{3} + \\theta_{4}\\right) & 0\\\\- \\operatorname{sin}\\left(\\theta_{0} + \\theta_{1} + \\theta_{2} + \\theta_{3} + \\theta_{4}\\right) & \\operatorname{cos}\\left(\\theta_{0} + \\theta_{1} + \\theta_{2} + \\theta_{3} + \\theta_{4}\\right) & 0\\\\0 & 0 & 1\\end{matrix}\\right]$$"
      ],
      "text/plain": [
       "Matrix([\n",
       "[ cos(theta0 + theta1 + theta2 + theta3 + theta4), sin(theta0 + theta1 + theta2 + theta3 + theta4), 0],\n",
       "[-sin(theta0 + theta1 + theta2 + theta3 + theta4), cos(theta0 + theta1 + theta2 + theta3 + theta4), 0],\n",
       "[                                               0,                                               0, 1]])"
      ]
     },
     "execution_count": 9,
     "metadata": {},
     "output_type": "execute_result"
    }
   ],
   "source": [
    "lower_leg_right_frame.orient(upper_leg_right_frame, 'Axis', (theta4, upper_leg_right_frame.z))\n",
    "simplify(lower_leg_right_frame.dcm(inertial_frame))"
   ]
  },
  {
   "cell_type": "markdown",
   "metadata": {},
   "source": [
    "## Points and Locations"
   ]
  },
  {
   "cell_type": "code",
   "execution_count": 10,
   "metadata": {},
   "outputs": [],
   "source": [
    "ankle_left = Point('AnkleLeft')\n",
    "knee_left = Point('KneeLeft')\n",
    "hip_left = Point('HipLeft')\n",
    "hip_right = Point('HipRight')\n",
    "knee_right = Point('KneeRight')\n",
    "ankle_right = Point('AnkleRight')"
   ]
  },
  {
   "cell_type": "code",
   "execution_count": 11,
   "metadata": {
    "collapsed": true
   },
   "outputs": [],
   "source": [
    "lower_leg_length, upper_leg_length, hip_length = symbols('l1, l2, l3')"
   ]
  },
  {
   "cell_type": "code",
   "execution_count": 12,
   "metadata": {},
   "outputs": [
    {
     "data": {
      "text/latex": [
       "$$-  l_{1} \\operatorname{sin}\\left(\\theta_{0}\\right)\\mathbf{\\hat{i}_x} + l_{1} \\operatorname{cos}\\left(\\theta_{0}\\right)\\mathbf{\\hat{i}_y}$$"
      ],
      "text/plain": [
       "- l1*sin(theta0)*I.x + l1*cos(theta0)*I.y"
      ]
     },
     "execution_count": 12,
     "metadata": {},
     "output_type": "execute_result"
    }
   ],
   "source": [
    "knee_left.set_pos(ankle_left, lower_leg_length * lower_leg_left_frame.y)\n",
    "knee_left.pos_from(ankle_left).express(inertial_frame).simplify()"
   ]
  },
  {
   "cell_type": "code",
   "execution_count": 13,
   "metadata": {},
   "outputs": [
    {
     "data": {
      "text/latex": [
       "$$(- l_{1} \\operatorname{sin}\\left(\\theta_{0}\\right) - l_{2} \\operatorname{sin}\\left(\\theta_{0} + \\theta_{1}\\right))\\mathbf{\\hat{i}_x} + (l_{1} \\operatorname{cos}\\left(\\theta_{0}\\right) + l_{2} \\operatorname{cos}\\left(\\theta_{0} + \\theta_{1}\\right))\\mathbf{\\hat{i}_y}$$"
      ],
      "text/plain": [
       "(-l1*sin(theta0) - l2*sin(theta0 + theta1))*I.x + (l1*cos(theta0) + l2*cos(theta0 + theta1))*I.y"
      ]
     },
     "execution_count": 13,
     "metadata": {},
     "output_type": "execute_result"
    }
   ],
   "source": [
    "hip_left.set_pos(knee_left, upper_leg_length * upper_leg_left_frame.y)\n",
    "hip_left.pos_from(ankle_left).express(inertial_frame).simplify()"
   ]
  },
  {
   "cell_type": "code",
   "execution_count": 14,
   "metadata": {},
   "outputs": [
    {
     "data": {
      "text/latex": [
       "$$(- l_{1} \\operatorname{sin}\\left(\\theta_{0}\\right) - l_{2} \\operatorname{sin}\\left(\\theta_{0} + \\theta_{1}\\right) - l_{3} \\operatorname{sin}\\left(\\theta_{0} + \\theta_{1} + \\theta_{2}\\right))\\mathbf{\\hat{i}_x} + (l_{1} \\operatorname{cos}\\left(\\theta_{0}\\right) + l_{2} \\operatorname{cos}\\left(\\theta_{0} + \\theta_{1}\\right) + l_{3} \\operatorname{cos}\\left(\\theta_{0} + \\theta_{1} + \\theta_{2}\\right))\\mathbf{\\hat{i}_y}$$"
      ],
      "text/plain": [
       "(-l1*sin(theta0) - l2*sin(theta0 + theta1) - l3*sin(theta0 + theta1 + theta2))*I.x + (l1*cos(theta0) + l2*cos(theta0 + theta1) + l3*cos(theta0 + theta1 + theta2))*I.y"
      ]
     },
     "execution_count": 14,
     "metadata": {},
     "output_type": "execute_result"
    }
   ],
   "source": [
    "hip_right.set_pos(hip_left, hip_length * hip_frame.y)\n",
    "hip_right.pos_from(ankle_left).express(inertial_frame).simplify()"
   ]
  },
  {
   "cell_type": "code",
   "execution_count": 15,
   "metadata": {},
   "outputs": [
    {
     "data": {
      "text/latex": [
       "$$(- l_{1} \\operatorname{sin}\\left(\\theta_{0}\\right) - l_{2} \\operatorname{sin}\\left(\\theta_{0} + \\theta_{1}\\right) - l_{2} \\operatorname{sin}\\left(\\theta_{0} + \\theta_{1} + \\theta_{2} + \\theta_{3}\\right) - l_{3} \\operatorname{sin}\\left(\\theta_{0} + \\theta_{1} + \\theta_{2}\\right))\\mathbf{\\hat{i}_x} + (l_{1} \\operatorname{cos}\\left(\\theta_{0}\\right) + l_{2} \\operatorname{cos}\\left(\\theta_{0} + \\theta_{1}\\right) + l_{2} \\operatorname{cos}\\left(\\theta_{0} + \\theta_{1} + \\theta_{2} + \\theta_{3}\\right) + l_{3} \\operatorname{cos}\\left(\\theta_{0} + \\theta_{1} + \\theta_{2}\\right))\\mathbf{\\hat{i}_y}$$"
      ],
      "text/plain": [
       "(-l1*sin(theta0) - l2*sin(theta0 + theta1) - l2*sin(theta0 + theta1 + theta2 + theta3) - l3*sin(theta0 + theta1 + theta2))*I.x + (l1*cos(theta0) + l2*cos(theta0 + theta1) + l2*cos(theta0 + theta1 + theta2 + theta3) + l3*cos(theta0 + theta1 + theta2))*I.y"
      ]
     },
     "execution_count": 15,
     "metadata": {},
     "output_type": "execute_result"
    }
   ],
   "source": [
    "knee_right.set_pos(hip_right, upper_leg_length * upper_leg_right_frame.y)\n",
    "knee_right.pos_from(ankle_left).express(inertial_frame).simplify()"
   ]
  },
  {
   "cell_type": "code",
   "execution_count": 16,
   "metadata": {},
   "outputs": [
    {
     "data": {
      "text/latex": [
       "$$(- l_{1} \\operatorname{sin}\\left(\\theta_{0} + \\theta_{1} + \\theta_{2} + \\theta_{3} + \\theta_{4}\\right) - l_{1} \\operatorname{sin}\\left(\\theta_{0}\\right) - l_{2} \\operatorname{sin}\\left(\\theta_{0} + \\theta_{1}\\right) - l_{2} \\operatorname{sin}\\left(\\theta_{0} + \\theta_{1} + \\theta_{2} + \\theta_{3}\\right) - l_{3} \\operatorname{sin}\\left(\\theta_{0} + \\theta_{1} + \\theta_{2}\\right))\\mathbf{\\hat{i}_x} + (l_{1} \\operatorname{cos}\\left(\\theta_{0} + \\theta_{1} + \\theta_{2} + \\theta_{3} + \\theta_{4}\\right) + l_{1} \\operatorname{cos}\\left(\\theta_{0}\\right) + l_{2} \\operatorname{cos}\\left(\\theta_{0} + \\theta_{1}\\right) + l_{2} \\operatorname{cos}\\left(\\theta_{0} + \\theta_{1} + \\theta_{2} + \\theta_{3}\\right) + l_{3} \\operatorname{cos}\\left(\\theta_{0} + \\theta_{1} + \\theta_{2}\\right))\\mathbf{\\hat{i}_y}$$"
      ],
      "text/plain": [
       "(-l1*sin(theta0 + theta1 + theta2 + theta3 + theta4) - l1*sin(theta0) - l2*sin(theta0 + theta1) - l2*sin(theta0 + theta1 + theta2 + theta3) - l3*sin(theta0 + theta1 + theta2))*I.x + (l1*cos(theta0 + theta1 + theta2 + theta3 + theta4) + l1*cos(theta0) + l2*cos(theta0 + theta1) + l2*cos(theta0 + theta1 + theta2 + theta3) + l3*cos(theta0 + theta1 + theta2))*I.y"
      ]
     },
     "execution_count": 16,
     "metadata": {},
     "output_type": "execute_result"
    }
   ],
   "source": [
    "ankle_right.set_pos(knee_right, lower_leg_length * lower_leg_right_frame.y)\n",
    "ankle_right.pos_from(ankle_left).express(inertial_frame).simplify()"
   ]
  },
  {
   "cell_type": "code",
   "execution_count": 17,
   "metadata": {
    "collapsed": true
   },
   "outputs": [],
   "source": [
    "lower_leg_left_com_length = lower_leg_length/2\n",
    "upper_leg_left_com_length = upper_leg_length/2\n",
    "hip_com_length = hip_length/2\n",
    "upper_leg_right_com_length = upper_leg_length/2\n",
    "lower_leg_right_com_length = lower_leg_length/2\n",
    "\n",
    "lower_leg_left_mass_center = Point('L_COMleft')\n",
    "upper_leg_left_mass_center = Point('U_COMleft')\n",
    "hip_mass_center = Point('H_COMleft')\n",
    "upper_leg_right_mass_center = Point('U_COMright')\n",
    "lower_leg_right_mass_center = Point('L_COMright')"
   ]
  },
  {
   "cell_type": "code",
   "execution_count": 18,
   "metadata": {},
   "outputs": [
    {
     "data": {
      "text/latex": [
       "$$-  \\frac{l_{1} \\operatorname{sin}\\left(\\theta_{0}\\right)}{2}\\mathbf{\\hat{i}_x} + \\frac{l_{1} \\operatorname{cos}\\left(\\theta_{0}\\right)}{2}\\mathbf{\\hat{i}_y}$$"
      ],
      "text/plain": [
       "- l1*sin(theta0)/2*I.x + l1*cos(theta0)/2*I.y"
      ]
     },
     "execution_count": 18,
     "metadata": {},
     "output_type": "execute_result"
    }
   ],
   "source": [
    "lower_leg_left_mass_center.set_pos(ankle_left, lower_leg_left_com_length * lower_leg_left_frame.y)\n",
    "lower_leg_left_mass_center.pos_from(ankle_left).express(inertial_frame).simplify()"
   ]
  },
  {
   "cell_type": "code",
   "execution_count": 19,
   "metadata": {},
   "outputs": [
    {
     "data": {
      "text/latex": [
       "$$(- l_{1} \\operatorname{sin}\\left(\\theta_{0}\\right) - \\frac{l_{2}}{2} \\operatorname{sin}\\left(\\theta_{0} + \\theta_{1}\\right))\\mathbf{\\hat{i}_x} + (l_{1} \\operatorname{cos}\\left(\\theta_{0}\\right) + \\frac{l_{2}}{2} \\operatorname{cos}\\left(\\theta_{0} + \\theta_{1}\\right))\\mathbf{\\hat{i}_y}$$"
      ],
      "text/plain": [
       "(-l1*sin(theta0) - l2*sin(theta0 + theta1)/2)*I.x + (l1*cos(theta0) + l2*cos(theta0 + theta1)/2)*I.y"
      ]
     },
     "execution_count": 19,
     "metadata": {},
     "output_type": "execute_result"
    }
   ],
   "source": [
    "upper_leg_left_mass_center.set_pos(knee_left, upper_leg_left_com_length * upper_leg_left_frame.y)\n",
    "upper_leg_left_mass_center.pos_from(ankle_left).express(inertial_frame).simplify()"
   ]
  },
  {
   "cell_type": "code",
   "execution_count": 20,
   "metadata": {},
   "outputs": [
    {
     "data": {
      "text/latex": [
       "$$(- l_{1} \\operatorname{sin}\\left(\\theta_{0}\\right) - l_{2} \\operatorname{sin}\\left(\\theta_{0} + \\theta_{1}\\right) - \\frac{l_{3}}{2} \\operatorname{sin}\\left(\\theta_{0} + \\theta_{1} + \\theta_{2}\\right))\\mathbf{\\hat{i}_x} + (l_{1} \\operatorname{cos}\\left(\\theta_{0}\\right) + l_{2} \\operatorname{cos}\\left(\\theta_{0} + \\theta_{1}\\right) + \\frac{l_{3}}{2} \\operatorname{cos}\\left(\\theta_{0} + \\theta_{1} + \\theta_{2}\\right))\\mathbf{\\hat{i}_y}$$"
      ],
      "text/plain": [
       "(-l1*sin(theta0) - l2*sin(theta0 + theta1) - l3*sin(theta0 + theta1 + theta2)/2)*I.x + (l1*cos(theta0) + l2*cos(theta0 + theta1) + l3*cos(theta0 + theta1 + theta2)/2)*I.y"
      ]
     },
     "execution_count": 20,
     "metadata": {},
     "output_type": "execute_result"
    }
   ],
   "source": [
    "hip_mass_center.set_pos(hip_left, hip_com_length * hip_frame.y)\n",
    "hip_mass_center.pos_from(ankle_left).express(inertial_frame).simplify()"
   ]
  },
  {
   "cell_type": "code",
   "execution_count": 21,
   "metadata": {},
   "outputs": [
    {
     "data": {
      "text/latex": [
       "$$(- l_{1} \\operatorname{sin}\\left(\\theta_{0}\\right) - l_{2} \\operatorname{sin}\\left(\\theta_{0} + \\theta_{1}\\right) - \\frac{l_{2}}{2} \\operatorname{sin}\\left(\\theta_{0} + \\theta_{1} + \\theta_{2} + \\theta_{3}\\right) - l_{3} \\operatorname{sin}\\left(\\theta_{0} + \\theta_{1} + \\theta_{2}\\right))\\mathbf{\\hat{i}_x} + (l_{1} \\operatorname{cos}\\left(\\theta_{0}\\right) + l_{2} \\operatorname{cos}\\left(\\theta_{0} + \\theta_{1}\\right) + \\frac{l_{2}}{2} \\operatorname{cos}\\left(\\theta_{0} + \\theta_{1} + \\theta_{2} + \\theta_{3}\\right) + l_{3} \\operatorname{cos}\\left(\\theta_{0} + \\theta_{1} + \\theta_{2}\\right))\\mathbf{\\hat{i}_y}$$"
      ],
      "text/plain": [
       "(-l1*sin(theta0) - l2*sin(theta0 + theta1) - l2*sin(theta0 + theta1 + theta2 + theta3)/2 - l3*sin(theta0 + theta1 + theta2))*I.x + (l1*cos(theta0) + l2*cos(theta0 + theta1) + l2*cos(theta0 + theta1 + theta2 + theta3)/2 + l3*cos(theta0 + theta1 + theta2))*I.y"
      ]
     },
     "execution_count": 21,
     "metadata": {},
     "output_type": "execute_result"
    }
   ],
   "source": [
    "upper_leg_right_mass_center.set_pos(hip_right, upper_leg_right_com_length * upper_leg_right_frame.y)\n",
    "upper_leg_right_mass_center.pos_from(ankle_left).express(inertial_frame).simplify()"
   ]
  },
  {
   "cell_type": "code",
   "execution_count": 22,
   "metadata": {},
   "outputs": [
    {
     "data": {
      "text/latex": [
       "$$(- \\frac{l_{1}}{2} \\operatorname{sin}\\left(\\theta_{0} + \\theta_{1} + \\theta_{2} + \\theta_{3} + \\theta_{4}\\right) - l_{1} \\operatorname{sin}\\left(\\theta_{0}\\right) - l_{2} \\operatorname{sin}\\left(\\theta_{0} + \\theta_{1}\\right) - l_{2} \\operatorname{sin}\\left(\\theta_{0} + \\theta_{1} + \\theta_{2} + \\theta_{3}\\right) - l_{3} \\operatorname{sin}\\left(\\theta_{0} + \\theta_{1} + \\theta_{2}\\right))\\mathbf{\\hat{i}_x} + (\\frac{l_{1}}{2} \\operatorname{cos}\\left(\\theta_{0} + \\theta_{1} + \\theta_{2} + \\theta_{3} + \\theta_{4}\\right) + l_{1} \\operatorname{cos}\\left(\\theta_{0}\\right) + l_{2} \\operatorname{cos}\\left(\\theta_{0} + \\theta_{1}\\right) + l_{2} \\operatorname{cos}\\left(\\theta_{0} + \\theta_{1} + \\theta_{2} + \\theta_{3}\\right) + l_{3} \\operatorname{cos}\\left(\\theta_{0} + \\theta_{1} + \\theta_{2}\\right))\\mathbf{\\hat{i}_y}$$"
      ],
      "text/plain": [
       "(-l1*sin(theta0 + theta1 + theta2 + theta3 + theta4)/2 - l1*sin(theta0) - l2*sin(theta0 + theta1) - l2*sin(theta0 + theta1 + theta2 + theta3) - l3*sin(theta0 + theta1 + theta2))*I.x + (l1*cos(theta0 + theta1 + theta2 + theta3 + theta4)/2 + l1*cos(theta0) + l2*cos(theta0 + theta1) + l2*cos(theta0 + theta1 + theta2 + theta3) + l3*cos(theta0 + theta1 + theta2))*I.y"
      ]
     },
     "execution_count": 22,
     "metadata": {},
     "output_type": "execute_result"
    }
   ],
   "source": [
    "lower_leg_right_mass_center.set_pos(knee_right, lower_leg_right_com_length * lower_leg_right_frame.y)\n",
    "lower_leg_right_mass_center.pos_from(ankle_left).express(inertial_frame).simplify()"
   ]
  },
  {
   "cell_type": "markdown",
   "metadata": {},
   "source": [
    "# Jacobian"
   ]
  },
  {
   "cell_type": "markdown",
   "metadata": {},
   "source": [
    "#### We want to control the hip com position. The hip com seen from ankle_left in inertial_frame is:"
   ]
  },
  {
   "cell_type": "code",
   "execution_count": 23,
   "metadata": {},
   "outputs": [
    {
     "data": {
      "text/latex": [
       "$$\\left[\\begin{matrix}l_{1} \\operatorname{sin}\\left(\\theta_{0}\\right) + l_{2} \\operatorname{sin}\\left(\\theta_{0} + \\theta_{1}\\right) + \\frac{l_{3}}{2} \\operatorname{sin}\\left(\\theta_{0} + \\theta_{1} + \\theta_{2}\\right)\\\\- l_{1} \\operatorname{cos}\\left(\\theta_{0}\\right) - l_{2} \\operatorname{cos}\\left(\\theta_{0} + \\theta_{1}\\right) - \\frac{l_{3}}{2} \\operatorname{cos}\\left(\\theta_{0} + \\theta_{1} + \\theta_{2}\\right)\\end{matrix}\\right]$$"
      ],
      "text/plain": [
       "Matrix([\n",
       "[ l1*sin(theta0) + l2*sin(theta0 + theta1) + l3*sin(theta0 + theta1 + theta2)/2],\n",
       "[-l1*cos(theta0) - l2*cos(theta0 + theta1) - l3*cos(theta0 + theta1 + theta2)/2]])"
      ]
     },
     "execution_count": 23,
     "metadata": {},
     "output_type": "execute_result"
    }
   ],
   "source": [
    "F0 = ankle_left.pos_from(hip_mass_center).express(inertial_frame).simplify().to_matrix(inertial_frame)\n",
    "F0 = Matrix([F0[0], F0[1]])\n",
    "F0"
   ]
  },
  {
   "cell_type": "code",
   "execution_count": 24,
   "metadata": {},
   "outputs": [
    {
     "data": {
      "text/latex": [
       "$$\\left[\\begin{matrix}l_{1} \\operatorname{cos}\\left(\\theta_{0}\\right) + l_{2} \\operatorname{cos}\\left(\\theta_{0} + \\theta_{1}\\right) + \\frac{l_{3}}{2} \\operatorname{cos}\\left(\\theta_{0} + \\theta_{1} + \\theta_{2}\\right) & l_{2} \\operatorname{cos}\\left(\\theta_{0} + \\theta_{1}\\right) + \\frac{l_{3}}{2} \\operatorname{cos}\\left(\\theta_{0} + \\theta_{1} + \\theta_{2}\\right) & \\frac{l_{3}}{2} \\operatorname{cos}\\left(\\theta_{0} + \\theta_{1} + \\theta_{2}\\right) & 0 & 0\\\\l_{1} \\operatorname{sin}\\left(\\theta_{0}\\right) + l_{2} \\operatorname{sin}\\left(\\theta_{0} + \\theta_{1}\\right) + \\frac{l_{3}}{2} \\operatorname{sin}\\left(\\theta_{0} + \\theta_{1} + \\theta_{2}\\right) & l_{2} \\operatorname{sin}\\left(\\theta_{0} + \\theta_{1}\\right) + \\frac{l_{3}}{2} \\operatorname{sin}\\left(\\theta_{0} + \\theta_{1} + \\theta_{2}\\right) & \\frac{l_{3}}{2} \\operatorname{sin}\\left(\\theta_{0} + \\theta_{1} + \\theta_{2}\\right) & 0 & 0\\end{matrix}\\right]$$"
      ],
      "text/plain": [
       "Matrix([\n",
       "[l1*cos(theta0) + l2*cos(theta0 + theta1) + l3*cos(theta0 + theta1 + theta2)/2, l2*cos(theta0 + theta1) + l3*cos(theta0 + theta1 + theta2)/2, l3*cos(theta0 + theta1 + theta2)/2, 0, 0],\n",
       "[l1*sin(theta0) + l2*sin(theta0 + theta1) + l3*sin(theta0 + theta1 + theta2)/2, l2*sin(theta0 + theta1) + l3*sin(theta0 + theta1 + theta2)/2, l3*sin(theta0 + theta1 + theta2)/2, 0, 0]])"
      ]
     },
     "execution_count": 24,
     "metadata": {},
     "output_type": "execute_result"
    }
   ],
   "source": [
    "J_hipCOM = F0.jacobian([theta0, theta1, theta2, theta3, theta4])\n",
    "J_hipCOM"
   ]
  },
  {
   "cell_type": "markdown",
   "metadata": {},
   "source": [
    "#### We want to constraint the ankle_right stay at the initial step size"
   ]
  },
  {
   "cell_type": "code",
   "execution_count": 25,
   "metadata": {
    "collapsed": true
   },
   "outputs": [],
   "source": [
    "step_length = symbols('L')"
   ]
  },
  {
   "cell_type": "code",
   "execution_count": 26,
   "metadata": {},
   "outputs": [
    {
     "data": {
      "text/latex": [
       "$$\\left[\\begin{matrix}- l_{1} \\operatorname{sin}\\left(\\theta_{0} + \\theta_{1} + \\theta_{2} + \\theta_{3} + \\theta_{4}\\right) - l_{1} \\operatorname{sin}\\left(\\theta_{0}\\right) - l_{2} \\operatorname{sin}\\left(\\theta_{0} + \\theta_{1}\\right) - l_{2} \\operatorname{sin}\\left(\\theta_{0} + \\theta_{1} + \\theta_{2} + \\theta_{3}\\right) - l_{3} \\operatorname{sin}\\left(\\theta_{0} + \\theta_{1} + \\theta_{2}\\right)\\\\l_{1} \\operatorname{cos}\\left(\\theta_{0} + \\theta_{1} + \\theta_{2} + \\theta_{3} + \\theta_{4}\\right) + l_{1} \\operatorname{cos}\\left(\\theta_{0}\\right) + l_{2} \\operatorname{cos}\\left(\\theta_{0} + \\theta_{1}\\right) + l_{2} \\operatorname{cos}\\left(\\theta_{0} + \\theta_{1} + \\theta_{2} + \\theta_{3}\\right) + l_{3} \\operatorname{cos}\\left(\\theta_{0} + \\theta_{1} + \\theta_{2}\\right)\\end{matrix}\\right]$$"
      ],
      "text/plain": [
       "Matrix([\n",
       "[-l1*sin(theta0 + theta1 + theta2 + theta3 + theta4) - l1*sin(theta0) - l2*sin(theta0 + theta1) - l2*sin(theta0 + theta1 + theta2 + theta3) - l3*sin(theta0 + theta1 + theta2)],\n",
       "[ l1*cos(theta0 + theta1 + theta2 + theta3 + theta4) + l1*cos(theta0) + l2*cos(theta0 + theta1) + l2*cos(theta0 + theta1 + theta2 + theta3) + l3*cos(theta0 + theta1 + theta2)]])"
      ]
     },
     "execution_count": 26,
     "metadata": {},
     "output_type": "execute_result"
    }
   ],
   "source": [
    "F1 = ankle_right.pos_from(ankle_left).express(inertial_frame).simplify().to_matrix(inertial_frame)\n",
    "F1 = Matrix([F1[0], F1[1]])\n",
    "F1"
   ]
  },
  {
   "cell_type": "code",
   "execution_count": 27,
   "metadata": {},
   "outputs": [
    {
     "data": {
      "text/latex": [
       "$$\\left[\\begin{matrix}L\\\\- l_{1} \\operatorname{cos}\\left(\\theta_{0}\\right) - l_{2} \\operatorname{cos}\\left(\\theta_{0} + \\theta_{1}\\right) - \\frac{l_{3}}{2} \\operatorname{cos}\\left(\\theta_{0} + \\theta_{1} + \\theta_{2}\\right)\\end{matrix}\\right]$$"
      ],
      "text/plain": [
       "Matrix([\n",
       "[                                                                             L],\n",
       "[-l1*cos(theta0) - l2*cos(theta0 + theta1) - l3*cos(theta0 + theta1 + theta2)/2]])"
      ]
     },
     "execution_count": 27,
     "metadata": {},
     "output_type": "execute_result"
    }
   ],
   "source": [
    "offset = Matrix([step_length, F0[1]])\n",
    "offset"
   ]
  },
  {
   "cell_type": "code",
   "execution_count": 28,
   "metadata": {},
   "outputs": [
    {
     "data": {
      "text/latex": [
       "$$\\left[\\begin{matrix}- l_{1} \\operatorname{cos}\\left(\\theta_{0} + \\theta_{1} + \\theta_{2} + \\theta_{3} + \\theta_{4}\\right) - l_{1} \\operatorname{cos}\\left(\\theta_{0}\\right) - l_{2} \\operatorname{cos}\\left(\\theta_{0} + \\theta_{1}\\right) - l_{2} \\operatorname{cos}\\left(\\theta_{0} + \\theta_{1} + \\theta_{2} + \\theta_{3}\\right) - l_{3} \\operatorname{cos}\\left(\\theta_{0} + \\theta_{1} + \\theta_{2}\\right) & - l_{1} \\operatorname{cos}\\left(\\theta_{0} + \\theta_{1} + \\theta_{2} + \\theta_{3} + \\theta_{4}\\right) - l_{2} \\operatorname{cos}\\left(\\theta_{0} + \\theta_{1}\\right) - l_{2} \\operatorname{cos}\\left(\\theta_{0} + \\theta_{1} + \\theta_{2} + \\theta_{3}\\right) - l_{3} \\operatorname{cos}\\left(\\theta_{0} + \\theta_{1} + \\theta_{2}\\right) & - l_{1} \\operatorname{cos}\\left(\\theta_{0} + \\theta_{1} + \\theta_{2} + \\theta_{3} + \\theta_{4}\\right) - l_{2} \\operatorname{cos}\\left(\\theta_{0} + \\theta_{1} + \\theta_{2} + \\theta_{3}\\right) - l_{3} \\operatorname{cos}\\left(\\theta_{0} + \\theta_{1} + \\theta_{2}\\right) & - l_{1} \\operatorname{cos}\\left(\\theta_{0} + \\theta_{1} + \\theta_{2} + \\theta_{3} + \\theta_{4}\\right) - l_{2} \\operatorname{cos}\\left(\\theta_{0} + \\theta_{1} + \\theta_{2} + \\theta_{3}\\right) & - l_{1} \\operatorname{cos}\\left(\\theta_{0} + \\theta_{1} + \\theta_{2} + \\theta_{3} + \\theta_{4}\\right)\\\\- l_{1} \\operatorname{sin}\\left(\\theta_{0} + \\theta_{1} + \\theta_{2} + \\theta_{3} + \\theta_{4}\\right) - 2 l_{1} \\operatorname{sin}\\left(\\theta_{0}\\right) - 2 l_{2} \\operatorname{sin}\\left(\\theta_{0} + \\theta_{1}\\right) - l_{2} \\operatorname{sin}\\left(\\theta_{0} + \\theta_{1} + \\theta_{2} + \\theta_{3}\\right) - \\frac{3 l_{3}}{2} \\operatorname{sin}\\left(\\theta_{0} + \\theta_{1} + \\theta_{2}\\right) & - l_{1} \\operatorname{sin}\\left(\\theta_{0} + \\theta_{1} + \\theta_{2} + \\theta_{3} + \\theta_{4}\\right) - 2 l_{2} \\operatorname{sin}\\left(\\theta_{0} + \\theta_{1}\\right) - l_{2} \\operatorname{sin}\\left(\\theta_{0} + \\theta_{1} + \\theta_{2} + \\theta_{3}\\right) - \\frac{3 l_{3}}{2} \\operatorname{sin}\\left(\\theta_{0} + \\theta_{1} + \\theta_{2}\\right) & - l_{1} \\operatorname{sin}\\left(\\theta_{0} + \\theta_{1} + \\theta_{2} + \\theta_{3} + \\theta_{4}\\right) - l_{2} \\operatorname{sin}\\left(\\theta_{0} + \\theta_{1} + \\theta_{2} + \\theta_{3}\\right) - \\frac{3 l_{3}}{2} \\operatorname{sin}\\left(\\theta_{0} + \\theta_{1} + \\theta_{2}\\right) & - l_{1} \\operatorname{sin}\\left(\\theta_{0} + \\theta_{1} + \\theta_{2} + \\theta_{3} + \\theta_{4}\\right) - l_{2} \\operatorname{sin}\\left(\\theta_{0} + \\theta_{1} + \\theta_{2} + \\theta_{3}\\right) & - l_{1} \\operatorname{sin}\\left(\\theta_{0} + \\theta_{1} + \\theta_{2} + \\theta_{3} + \\theta_{4}\\right)\\end{matrix}\\right]$$"
      ],
      "text/plain": [
       "Matrix([\n",
       "[        -l1*cos(theta0 + theta1 + theta2 + theta3 + theta4) - l1*cos(theta0) - l2*cos(theta0 + theta1) - l2*cos(theta0 + theta1 + theta2 + theta3) - l3*cos(theta0 + theta1 + theta2),       -l1*cos(theta0 + theta1 + theta2 + theta3 + theta4) - l2*cos(theta0 + theta1) - l2*cos(theta0 + theta1 + theta2 + theta3) - l3*cos(theta0 + theta1 + theta2),     -l1*cos(theta0 + theta1 + theta2 + theta3 + theta4) - l2*cos(theta0 + theta1 + theta2 + theta3) - l3*cos(theta0 + theta1 + theta2), -l1*cos(theta0 + theta1 + theta2 + theta3 + theta4) - l2*cos(theta0 + theta1 + theta2 + theta3), -l1*cos(theta0 + theta1 + theta2 + theta3 + theta4)],\n",
       "[-l1*sin(theta0 + theta1 + theta2 + theta3 + theta4) - 2*l1*sin(theta0) - 2*l2*sin(theta0 + theta1) - l2*sin(theta0 + theta1 + theta2 + theta3) - 3*l3*sin(theta0 + theta1 + theta2)/2, -l1*sin(theta0 + theta1 + theta2 + theta3 + theta4) - 2*l2*sin(theta0 + theta1) - l2*sin(theta0 + theta1 + theta2 + theta3) - 3*l3*sin(theta0 + theta1 + theta2)/2, -l1*sin(theta0 + theta1 + theta2 + theta3 + theta4) - l2*sin(theta0 + theta1 + theta2 + theta3) - 3*l3*sin(theta0 + theta1 + theta2)/2, -l1*sin(theta0 + theta1 + theta2 + theta3 + theta4) - l2*sin(theta0 + theta1 + theta2 + theta3), -l1*sin(theta0 + theta1 + theta2 + theta3 + theta4)]])"
      ]
     },
     "execution_count": 28,
     "metadata": {},
     "output_type": "execute_result"
    }
   ],
   "source": [
    "constraint = F1 - offset\n",
    "J_ankleRight = constraint.jacobian([theta0, theta1, theta2, theta3, theta4])\n",
    "J_ankleRight"
   ]
  },
  {
   "cell_type": "code",
   "execution_count": 29,
   "metadata": {
    "scrolled": true
   },
   "outputs": [
    {
     "data": {
      "text/latex": [
       "$$\\left[\\begin{matrix}l_{1} \\operatorname{cos}\\left(\\theta_{0}\\right) + l_{2} \\operatorname{cos}\\left(\\theta_{0} + \\theta_{1}\\right) + \\frac{l_{3}}{2} \\operatorname{cos}\\left(\\theta_{0} + \\theta_{1} + \\theta_{2}\\right) & l_{2} \\operatorname{cos}\\left(\\theta_{0} + \\theta_{1}\\right) + \\frac{l_{3}}{2} \\operatorname{cos}\\left(\\theta_{0} + \\theta_{1} + \\theta_{2}\\right) & \\frac{l_{3}}{2} \\operatorname{cos}\\left(\\theta_{0} + \\theta_{1} + \\theta_{2}\\right) & 0 & 0\\\\l_{1} \\operatorname{sin}\\left(\\theta_{0}\\right) + l_{2} \\operatorname{sin}\\left(\\theta_{0} + \\theta_{1}\\right) + \\frac{l_{3}}{2} \\operatorname{sin}\\left(\\theta_{0} + \\theta_{1} + \\theta_{2}\\right) & l_{2} \\operatorname{sin}\\left(\\theta_{0} + \\theta_{1}\\right) + \\frac{l_{3}}{2} \\operatorname{sin}\\left(\\theta_{0} + \\theta_{1} + \\theta_{2}\\right) & \\frac{l_{3}}{2} \\operatorname{sin}\\left(\\theta_{0} + \\theta_{1} + \\theta_{2}\\right) & 0 & 0\\\\- l_{1} \\operatorname{cos}\\left(\\theta_{0} + \\theta_{1} + \\theta_{2} + \\theta_{3} + \\theta_{4}\\right) - l_{1} \\operatorname{cos}\\left(\\theta_{0}\\right) - l_{2} \\operatorname{cos}\\left(\\theta_{0} + \\theta_{1}\\right) - l_{2} \\operatorname{cos}\\left(\\theta_{0} + \\theta_{1} + \\theta_{2} + \\theta_{3}\\right) - l_{3} \\operatorname{cos}\\left(\\theta_{0} + \\theta_{1} + \\theta_{2}\\right) & - l_{1} \\operatorname{cos}\\left(\\theta_{0} + \\theta_{1} + \\theta_{2} + \\theta_{3} + \\theta_{4}\\right) - l_{2} \\operatorname{cos}\\left(\\theta_{0} + \\theta_{1}\\right) - l_{2} \\operatorname{cos}\\left(\\theta_{0} + \\theta_{1} + \\theta_{2} + \\theta_{3}\\right) - l_{3} \\operatorname{cos}\\left(\\theta_{0} + \\theta_{1} + \\theta_{2}\\right) & - l_{1} \\operatorname{cos}\\left(\\theta_{0} + \\theta_{1} + \\theta_{2} + \\theta_{3} + \\theta_{4}\\right) - l_{2} \\operatorname{cos}\\left(\\theta_{0} + \\theta_{1} + \\theta_{2} + \\theta_{3}\\right) - l_{3} \\operatorname{cos}\\left(\\theta_{0} + \\theta_{1} + \\theta_{2}\\right) & - l_{1} \\operatorname{cos}\\left(\\theta_{0} + \\theta_{1} + \\theta_{2} + \\theta_{3} + \\theta_{4}\\right) - l_{2} \\operatorname{cos}\\left(\\theta_{0} + \\theta_{1} + \\theta_{2} + \\theta_{3}\\right) & - l_{1} \\operatorname{cos}\\left(\\theta_{0} + \\theta_{1} + \\theta_{2} + \\theta_{3} + \\theta_{4}\\right)\\\\- l_{1} \\operatorname{sin}\\left(\\theta_{0} + \\theta_{1} + \\theta_{2} + \\theta_{3} + \\theta_{4}\\right) - 2 l_{1} \\operatorname{sin}\\left(\\theta_{0}\\right) - 2 l_{2} \\operatorname{sin}\\left(\\theta_{0} + \\theta_{1}\\right) - l_{2} \\operatorname{sin}\\left(\\theta_{0} + \\theta_{1} + \\theta_{2} + \\theta_{3}\\right) - \\frac{3 l_{3}}{2} \\operatorname{sin}\\left(\\theta_{0} + \\theta_{1} + \\theta_{2}\\right) & - l_{1} \\operatorname{sin}\\left(\\theta_{0} + \\theta_{1} + \\theta_{2} + \\theta_{3} + \\theta_{4}\\right) - 2 l_{2} \\operatorname{sin}\\left(\\theta_{0} + \\theta_{1}\\right) - l_{2} \\operatorname{sin}\\left(\\theta_{0} + \\theta_{1} + \\theta_{2} + \\theta_{3}\\right) - \\frac{3 l_{3}}{2} \\operatorname{sin}\\left(\\theta_{0} + \\theta_{1} + \\theta_{2}\\right) & - l_{1} \\operatorname{sin}\\left(\\theta_{0} + \\theta_{1} + \\theta_{2} + \\theta_{3} + \\theta_{4}\\right) - l_{2} \\operatorname{sin}\\left(\\theta_{0} + \\theta_{1} + \\theta_{2} + \\theta_{3}\\right) - \\frac{3 l_{3}}{2} \\operatorname{sin}\\left(\\theta_{0} + \\theta_{1} + \\theta_{2}\\right) & - l_{1} \\operatorname{sin}\\left(\\theta_{0} + \\theta_{1} + \\theta_{2} + \\theta_{3} + \\theta_{4}\\right) - l_{2} \\operatorname{sin}\\left(\\theta_{0} + \\theta_{1} + \\theta_{2} + \\theta_{3}\\right) & - l_{1} \\operatorname{sin}\\left(\\theta_{0} + \\theta_{1} + \\theta_{2} + \\theta_{3} + \\theta_{4}\\right)\\end{matrix}\\right]$$"
      ],
      "text/plain": [
       "Matrix([\n",
       "[                                                                                                        l1*cos(theta0) + l2*cos(theta0 + theta1) + l3*cos(theta0 + theta1 + theta2)/2,                                                                                                       l2*cos(theta0 + theta1) + l3*cos(theta0 + theta1 + theta2)/2,                                                                                                     l3*cos(theta0 + theta1 + theta2)/2,                                                                                               0,                                                   0],\n",
       "[                                                                                                        l1*sin(theta0) + l2*sin(theta0 + theta1) + l3*sin(theta0 + theta1 + theta2)/2,                                                                                                       l2*sin(theta0 + theta1) + l3*sin(theta0 + theta1 + theta2)/2,                                                                                                     l3*sin(theta0 + theta1 + theta2)/2,                                                                                               0,                                                   0],\n",
       "[        -l1*cos(theta0 + theta1 + theta2 + theta3 + theta4) - l1*cos(theta0) - l2*cos(theta0 + theta1) - l2*cos(theta0 + theta1 + theta2 + theta3) - l3*cos(theta0 + theta1 + theta2),       -l1*cos(theta0 + theta1 + theta2 + theta3 + theta4) - l2*cos(theta0 + theta1) - l2*cos(theta0 + theta1 + theta2 + theta3) - l3*cos(theta0 + theta1 + theta2),     -l1*cos(theta0 + theta1 + theta2 + theta3 + theta4) - l2*cos(theta0 + theta1 + theta2 + theta3) - l3*cos(theta0 + theta1 + theta2), -l1*cos(theta0 + theta1 + theta2 + theta3 + theta4) - l2*cos(theta0 + theta1 + theta2 + theta3), -l1*cos(theta0 + theta1 + theta2 + theta3 + theta4)],\n",
       "[-l1*sin(theta0 + theta1 + theta2 + theta3 + theta4) - 2*l1*sin(theta0) - 2*l2*sin(theta0 + theta1) - l2*sin(theta0 + theta1 + theta2 + theta3) - 3*l3*sin(theta0 + theta1 + theta2)/2, -l1*sin(theta0 + theta1 + theta2 + theta3 + theta4) - 2*l2*sin(theta0 + theta1) - l2*sin(theta0 + theta1 + theta2 + theta3) - 3*l3*sin(theta0 + theta1 + theta2)/2, -l1*sin(theta0 + theta1 + theta2 + theta3 + theta4) - l2*sin(theta0 + theta1 + theta2 + theta3) - 3*l3*sin(theta0 + theta1 + theta2)/2, -l1*sin(theta0 + theta1 + theta2 + theta3 + theta4) - l2*sin(theta0 + theta1 + theta2 + theta3), -l1*sin(theta0 + theta1 + theta2 + theta3 + theta4)]])"
      ]
     },
     "execution_count": 29,
     "metadata": {},
     "output_type": "execute_result"
    }
   ],
   "source": [
    "J = J_hipCOM.col_join(J_ankleRight)\n",
    "J"
   ]
  },
  {
   "cell_type": "code",
   "execution_count": 30,
   "metadata": {},
   "outputs": [
    {
     "data": {
      "text/latex": [
       "$$\\left[\\begin{matrix}3.24197721742672 & -16.2764183239215 & -1.295692049053 & 2.54805972845702\\\\-2.53918372183114 & 22.548228436548 & 3.20564610197954 & -6.3041042368892\\\\-7.63496793145106 & 26.7927095751062 & -7.09272224914093 & 13.9482834222648\\\\0.59375470240343 & -12.6921656291146 & -1.8003428317574 & 2.33036301670791\\\\14.3570793965002 & -58.2361185617551 & 15.4391222509288 & -33.0394894146124\\end{matrix}\\right]$$"
      ],
      "text/plain": [
       "Matrix([\n",
       "[ 3.24197721742672, -16.2764183239215,   -1.295692049053,  2.54805972845702],\n",
       "[-2.53918372183114,   22.548228436548,  3.20564610197954,  -6.3041042368892],\n",
       "[-7.63496793145106,  26.7927095751062, -7.09272224914093,  13.9482834222648],\n",
       "[ 0.59375470240343, -12.6921656291146,  -1.8003428317574,  2.33036301670791],\n",
       "[ 14.3570793965002, -58.2361185617551,  15.4391222509288, -33.0394894146124]])"
      ]
     },
     "execution_count": 30,
     "metadata": {},
     "output_type": "execute_result"
    }
   ],
   "source": [
    "values = {lower_leg_length: 0.4, upper_leg_length: 0.54, hip_length: 0.2, theta0: 0.1, theta1: 0.1, theta2: 0.1, theta3: 0.1, theta4: 0.1}\n",
    "J.subs(values).pinv()"
   ]
  },
  {
   "cell_type": "code",
   "execution_count": 31,
   "metadata": {},
   "outputs": [
    {
     "data": {
      "text/latex": [
       "$$\\left[\\begin{matrix}0.5\\\\0.5\\\\1.5\\\\0\\end{matrix}\\right]$$"
      ],
      "text/plain": [
       "Matrix([\n",
       "[0.5],\n",
       "[0.5],\n",
       "[1.5],\n",
       "[  0]])"
      ]
     },
     "execution_count": 31,
     "metadata": {},
     "output_type": "execute_result"
    }
   ],
   "source": [
    "kp=5\n",
    "hip_desired = Matrix([0.5, 0.5])\n",
    "ankle_right_desired = Matrix([1.5, 0])\n",
    "x_des = Matrix([hip_desired, ankle_right_desired])\n",
    "x_des"
   ]
  },
  {
   "cell_type": "code",
   "execution_count": null,
   "metadata": {
    "collapsed": true
   },
   "outputs": [],
   "source": [
    "ankle_left_pos_equation = ankle_left.pos_from(ankle_left).express(inertial_frame).simplify()\n",
    "knee_left_pos_equation = knee_left.pos_from(ankle_left).express(inertial_frame).simplify()\n",
    "hip_left_pos_equation = hip_left.pos_from(ankle_left).express(inertial_frame).simplify()\n",
    "hip_right_pos_equation = hip_right.pos_from(ankle_left).express(inertial_frame).simplify()\n",
    "knee_right_pos_equation = knee_right.pos_from(ankle_left).express(inertial_frame).simplify()\n",
    "ankle_right_pos_equation = ankle_right.pos_from(ankle_left).express(inertial_frame).simplify()\n",
    "hip_mass_center_pos_equation = ankle_left.pos_from(hip_mass_center).express(inertial_frame).simplify()"
   ]
  },
  {
   "cell_type": "code",
   "execution_count": null,
   "metadata": {},
   "outputs": [
    {
     "name": "stdout",
     "output_type": "stream",
     "text": [
      "4.35803941838 1.32535940073 2.71667997535 2.06167017892\n",
      "4.35803941838 1.32535940073 2.71667997535 2.06167017892\n",
      "4.35803941838 1.32535940073 2.71667997535 2.06320415971\n",
      "4.35803941838 1.32535940073 2.71667997535 2.06167017892\n",
      "4.35957339917 1.32535940073 2.71667997535 2.06167017892\n",
      "4.35803941838 1.32535940073 2.71667997535 2.06167017892\n",
      "4.35803941838 1.32535940073 2.71667997535 2.06167017892\n",
      "4.35803941838 1.32535940073 2.71667997535 2.06167017892\n",
      "4.35803941838 1.32535940073 2.71667997535 2.06167017892\n",
      "4.35803941838 1.32535940073 2.71667997535 2.06320415971\n",
      "4.35803941838 1.32535940073 2.71667997535 2.06167017892\n",
      "4.35803941838 1.32535940073 2.71667997535 2.06167017892\n",
      "4.35803941838 1.32535940073 2.71667997535 2.06320415971\n",
      "4.35803941838 1.32535940073 2.71667997535 2.06320415971\n",
      "4.35803941838 1.32535940073 2.71667997535 2.06320415971\n",
      "4.35803941838 1.32535940073 2.71667997535 2.06320415971\n",
      "4.35803941838 1.32535940073 2.71667997535 2.06320415971\n",
      "4.35803941838 1.32535940073 2.71667997535 2.06320415971\n",
      "4.35803941838 1.32535940073 2.71667997535 2.06167017892\n",
      "4.35803941838 1.32535940073 2.71667997535 2.06167017892\n",
      "4.35803941838 1.32535940073 2.71667997535 2.06167017892\n",
      "4.35803941838 1.32535940073 2.71667997535 2.06167017892\n",
      "4.35803941838 1.32535940073 2.71667997535 2.06167017892\n",
      "4.35803941838 1.32535940073 2.71667997535 2.06167017892\n",
      "4.35803941838 1.32535940073 2.71667997535 2.06167017892\n",
      "4.35803941838 1.32535940073 2.71667997535 2.06167017892\n",
      "4.35803941838 1.32535940073 2.71667997535 2.06167017892\n",
      "4.35803941838 1.32535940073 2.71667997535 2.06167017892\n",
      "4.35803941838 1.32535940073 2.71667997535 2.06167017892\n",
      "4.35803941838 1.32535940073 2.71667997535 2.06167017892\n",
      "4.35803941838 1.32535940073 2.71667997535 2.06167017892\n",
      "4.35803941838 1.32535940073 2.71667997535 2.06167017892\n",
      "4.35803941838 1.32535940073 2.71667997535 2.06320415971\n",
      "4.35803941838 1.32535940073 2.71667997535 2.06167017892\n",
      "4.35803941838 1.32535940073 2.71667997535 2.06320415971\n",
      "4.35803941838 1.32535940073 2.71667997535 2.06167017892\n",
      "4.35803941838 1.32535940073 2.71667997535 2.06167017892\n",
      "4.35803941838 1.32535940073 2.71667997535 2.06167017892\n",
      "4.35803941838 1.32535940073 2.71667997535 2.06320415971\n",
      "4.35803941838 1.32535940073 2.71667997535 2.06167017892\n",
      "4.35803941838 1.32535940073 2.71667997535 2.06167017892\n",
      "4.35803941838 1.32535940073 2.71667997535 2.06167017892\n",
      "4.35803941838 1.32535940073 2.71667997535 2.06167017892\n",
      "4.35803941838 1.32535940073 2.71667997535 2.06167017892\n",
      "4.35803941838 1.32535940073 2.71667997535 2.06167017892\n",
      "4.35803941838 1.32535940073 2.71667997535 2.06167017892\n",
      "4.35803941838 1.32535940073 2.71667997535 2.06167017892\n",
      "4.35803941838 1.32535940073 2.71667997535 2.06167017892\n",
      "4.35803941838 1.32535940073 2.71667997535 2.06167017892\n",
      "4.35803941838 1.32535940073 2.71667997535 2.06167017892\n",
      "4.35803941838 1.32535940073 2.71667997535 2.06167017892\n",
      "4.35803941838 1.32535940073 2.71667997535 2.06167017892\n",
      "4.35803941838 1.32535940073 2.71667997535 2.06167017892\n",
      "4.35803941838 1.32535940073 2.71667997535 2.06167017892\n",
      "4.35803941838 1.32535940073 2.71667997535 2.06167017892\n",
      "4.35803941838 1.32535940073 2.71667997535 2.06167017892\n",
      "4.35803941838 1.32535940073 2.71667997535 2.06167017892\n",
      "4.35803941838 1.32535940073 2.71667997535 2.06167017892\n",
      "4.35803941838 1.32535940073 2.71667997535 2.06167017892\n",
      "4.35803941838 1.32535940073 2.71667997535 2.06320415971\n",
      "4.35803941838 1.32535940073 2.71667997535 2.06320415971\n",
      "4.35803941838 1.32535940073 2.71667997535 2.06167017892\n",
      "4.35803941838 1.32535940073 2.71667997535 2.06167017892\n",
      "4.35803941838 1.32535940073 2.71667997535 2.06167017892\n",
      "4.35803941838 1.32535940073 2.71667997535 2.06167017892\n",
      "4.35803941838 1.32535940073 2.71667997535 2.06167017892\n",
      "4.35957339917 1.32535940073 2.71667997535 2.06167017892\n",
      "4.35803941838 1.32535940073 2.71667997535 2.06167017892\n",
      "4.35803941838 1.32535940073 2.71667997535 2.06167017892\n",
      "4.35803941838 1.32535940073 2.71667997535 2.06167017892\n",
      "4.35803941838 1.32535940073 2.71667997535 2.06167017892\n",
      "4.35803941838 1.32535940073 2.71667997535 2.06167017892\n",
      "4.35803941838 1.32535940073 2.71667997535 2.06320415971\n",
      "4.35803941838 1.32535940073 2.71667997535 2.06167017892\n",
      "4.35803941838 1.32535940073 2.71667997535 2.06167017892\n",
      "4.35803941838 1.32535940073 2.71667997535 2.06320415971\n",
      "4.35803941838 1.32535940073 2.71667997535 2.06167017892\n",
      "4.35803941838 1.32535940073 2.71667997535 2.06167017892\n",
      "4.35803941838 1.32535940073 2.71667997535 2.06167017892\n",
      "4.35803941838 1.32535940073 2.71667997535 2.06167017892\n",
      "4.35803941838 1.32535940073 2.71667997535 2.06167017892\n",
      "4.35803941838 1.32535940073 2.71667997535 2.06167017892\n",
      "4.3565054376 1.32535940073 2.71667997535 2.06167017892\n",
      "4.35803941838 1.32535940073 2.71667997535 2.06167017892\n",
      "4.35803941838 1.32535940073 2.71667997535 2.06167017892\n",
      "4.35803941838 1.32535940073 2.71667997535 2.06167017892\n",
      "4.35803941838 1.32535940073 2.71667997535 2.06167017892\n",
      "4.35803941838 1.32535940073 2.71667997535 2.06167017892\n",
      "4.35803941838 1.32535940073 2.71667997535 2.06167017892\n",
      "4.35803941838 1.32535940073 2.71667997535 2.06167017892\n",
      "4.35803941838 1.32535940073 2.71667997535 2.06320415971\n",
      "4.35803941838 1.32535940073 2.71667997535 2.06167017892\n",
      "4.35803941838 1.32535940073 2.71667997535 2.06167017892\n",
      "4.35803941838 1.32535940073 2.71667997535 2.06167017892\n",
      "4.35803941838 1.32535940073 2.71667997535 2.06167017892\n",
      "4.35803941838 1.32535940073 2.71667997535 2.06167017892\n",
      "4.35803941838 1.32535940073 2.71667997535 2.06167017892\n",
      "4.35803941838 1.32535940073 2.71667997535 2.06167017892\n",
      "4.35803941838 1.32535940073 2.71667997535 2.06320415971\n",
      "4.35803941838 1.32535940073 2.71667997535 2.06167017892\n",
      "4.35803941838 1.32535940073 2.71667997535 2.06167017892\n",
      "4.35803941838 1.32535940073 2.71667997535 2.06167017892\n",
      "4.35803941838 1.32535940073 2.71667997535 2.06167017892\n",
      "4.35957339917 1.32535940073 2.71667997535 2.06320415971\n",
      "4.35803941838 1.32535940073 2.71667997535 2.06167017892\n",
      "4.35803941838 1.32535940073 2.71667997535 2.06167017892\n",
      "4.35803941838 1.32535940073 2.71667997535 2.06167017892\n",
      "4.35803941838 1.32535940073 2.71667997535 2.06167017892\n",
      "4.35803941838 1.32535940073 2.71667997535 2.06167017892\n",
      "4.35803941838 1.32535940073 2.71667997535 2.06167017892\n",
      "4.35803941838 1.32535940073 2.71667997535 2.06167017892\n",
      "4.35803941838 1.32535940073 2.71667997535 2.06167017892\n",
      "4.35803941838 1.32535940073 2.71667997535 2.06167017892\n",
      "4.35803941838 1.32535940073 2.71667997535 2.06167017892\n",
      "4.35803941838 1.32535940073 2.71667997535 2.06320415971\n",
      "4.35803941838 1.32535940073 2.71667997535 2.06167017892\n",
      "4.35803941838 1.32535940073 2.71667997535 2.06167017892\n",
      "4.35803941838 1.32535940073 2.71667997535 2.06167017892\n",
      "4.35803941838 1.32535940073 2.71667997535 2.06320415971\n",
      "4.35803941838 1.32535940073 2.71667997535 2.06167017892\n",
      "4.35957339917 1.32535940073 2.71667997535 2.06167017892\n",
      "4.35803941838 1.32535940073 2.71667997535 2.06167017892\n",
      "4.35957339917 1.32535940073 2.71667997535 2.06167017892\n",
      "4.35803941838 1.32535940073 2.71667997535 2.06167017892\n",
      "4.35803941838 1.32535940073 2.71667997535 2.06167017892\n",
      "4.35803941838 1.32535940073 2.71667997535 2.06320415971\n",
      "4.35957339917 1.32535940073 2.71667997535 2.06320415971\n",
      "4.35803941838 1.32535940073 2.71667997535 2.06320415971\n",
      "4.35803941838 1.32535940073 2.71667997535 2.06167017892\n",
      "4.35803941838 1.32535940073 2.71667997535 2.06167017892\n",
      "4.35803941838 1.32535940073 2.71667997535 2.06167017892\n",
      "4.35803941838 1.32535940073 2.71667997535 2.06167017892\n",
      "4.35803941838 1.32535940073 2.71667997535 2.06320415971\n",
      "4.35803941838 1.32535940073 2.71667997535 2.06320415971\n",
      "4.35803941838 1.32535940073 2.71667997535 2.06320415971\n",
      "4.35803941838 1.32535940073 2.71667997535 2.06320415971\n",
      "4.35803941838 1.32535940073 2.71667997535 2.06167017892\n",
      "4.35803941838 1.32535940073 2.71667997535 2.06167017892\n",
      "4.35803941838 1.32535940073 2.71667997535 2.06167017892\n",
      "4.35803941838 1.32535940073 2.71667997535 2.06167017892\n",
      "4.35803941838 1.32535940073 2.71667997535 2.06320415971\n",
      "4.35803941838 1.32535940073 2.71667997535 2.06167017892\n",
      "4.35803941838 1.32535940073 2.71667997535 2.06167017892\n",
      "4.35803941838 1.32535940073 2.71667997535 2.06167017892\n",
      "4.35803941838 1.32535940073 2.71667997535 2.06167017892\n",
      "4.35803941838 1.32535940073 2.71667997535 2.06167017892\n",
      "4.35803941838 1.32535940073 2.71667997535 2.06167017892\n"
     ]
    },
    {
     "name": "stdout",
     "output_type": "stream",
     "text": [
      "4.35803941838 1.32535940073 2.71667997535 2.06167017892\n",
      "4.35803941838 1.32535940073 2.71667997535 2.06167017892\n",
      "4.35803941838 1.32535940073 2.71667997535 2.06167017892\n",
      "4.35803941838 1.32535940073 2.71667997535 2.06167017892\n",
      "4.35803941838 1.32535940073 2.71667997535 2.06167017892\n",
      "4.35803941838 1.32535940073 2.71667997535 2.06167017892\n",
      "4.35803941838 1.32535940073 2.71667997535 2.06167017892\n",
      "4.35803941838 1.32535940073 2.71667997535 2.06167017892\n",
      "4.35803941838 1.32535940073 2.71667997535 2.06167017892\n",
      "4.35803941838 1.32535940073 2.71667997535 2.06320415971\n",
      "4.35803941838 1.32535940073 2.71667997535 2.06320415971\n",
      "4.35803941838 1.32535940073 2.71667997535 2.06320415971\n",
      "4.35803941838 1.32535940073 2.71667997535 2.06320415971\n",
      "4.35803941838 1.32535940073 2.71667997535 2.06167017892\n",
      "4.35803941838 1.32535940073 2.71667997535 2.06167017892\n",
      "4.35803941838 1.32535940073 2.71667997535 2.06167017892\n",
      "4.35803941838 1.32535940073 2.71667997535 2.06167017892\n",
      "4.35803941838 1.32535940073 2.71667997535 2.06320415971\n",
      "4.35803941838 1.32535940073 2.71667997535 2.06320415971\n",
      "4.35803941838 1.32535940073 2.71667997535 2.06320415971\n",
      "4.35803941838 1.32535940073 2.71667997535 2.06167017892\n",
      "4.35803941838 1.32535940073 2.71667997535 2.06167017892\n",
      "4.35803941838 1.32535940073 2.71667997535 2.06167017892\n",
      "4.35803941838 1.32535940073 2.71667997535 2.06167017892\n",
      "4.35803941838 1.32535940073 2.71667997535 2.06167017892\n",
      "4.35803941838 1.32535940073 2.71667997535 2.06167017892\n",
      "4.35803941838 1.32535940073 2.71667997535 2.06167017892\n",
      "4.35803941838 1.32535940073 2.71667997535 2.06167017892\n",
      "4.35957339917 1.32535940073 2.71667997535 2.06167017892\n",
      "4.35803941838 1.32535940073 2.71667997535 2.06320415971\n",
      "4.35803941838 1.32535940073 2.71667997535 2.06167017892\n",
      "4.35803941838 1.32535940073 2.71667997535 2.06167017892\n",
      "4.35803941838 1.32535940073 2.71667997535 2.06167017892\n",
      "4.35803941838 1.32535940073 2.71667997535 2.06320415971\n",
      "4.35803941838 1.32535940073 2.71667997535 2.06167017892\n",
      "4.35803941838 1.32535940073 2.71667997535 2.06167017892\n",
      "4.35803941838 1.32535940073 2.71667997535 2.06320415971\n",
      "4.35803941838 1.32535940073 2.71667997535 2.06167017892\n",
      "4.35803941838 1.32535940073 2.71667997535 2.06167017892\n",
      "4.35803941838 1.32535940073 2.71667997535 2.06167017892\n",
      "4.35803941838 1.32535940073 2.71667997535 2.06167017892\n",
      "4.35803941838 1.32535940073 2.71667997535 2.06167017892\n",
      "4.35803941838 1.32535940073 2.71667997535 2.06167017892\n",
      "4.35803941838 1.32535940073 2.71667997535 2.06167017892\n",
      "4.35803941838 1.32535940073 2.71667997535 2.06320415971\n",
      "4.35803941838 1.32535940073 2.71667997535 2.06320415971\n",
      "4.35803941838 1.32535940073 2.71667997535 2.06167017892\n",
      "4.35803941838 1.32535940073 2.71667997535 2.06167017892\n",
      "4.35803941838 1.32535940073 2.71667997535 2.06167017892\n",
      "4.35803941838 1.32535940073 2.71667997535 2.06167017892\n",
      "4.35803941838 1.32535940073 2.71667997535 2.06167017892\n",
      "4.35803941838 1.32535940073 2.71667997535 2.06167017892\n",
      "4.35803941838 1.32535940073 2.71667997535 2.06167017892\n",
      "4.35803941838 1.32535940073 2.71667997535 2.06167017892\n",
      "4.35803941838 1.32535940073 2.71667997535 2.06167017892\n",
      "4.35803941838 1.32535940073 2.71667997535 2.06167017892\n",
      "4.35803941838 1.32535940073 2.71667997535 2.06320415971\n",
      "4.35803941838 1.32535940073 2.71667997535 2.06167017892\n",
      "4.35803941838 1.32535940073 2.71667997535 2.06167017892\n",
      "4.35803941838 1.32535940073 2.71667997535 2.06167017892\n",
      "4.35803941838 1.32535940073 2.71667997535 2.06167017892\n",
      "4.35803941838 1.32535940073 2.71667997535 2.06167017892\n",
      "4.35803941838 1.32535940073 2.71667997535 2.06167017892\n",
      "4.35803941838 1.32535940073 2.71667997535 2.06167017892\n",
      "4.35803941838 1.32535940073 2.71667997535 2.06167017892\n",
      "4.35803941838 1.32535940073 2.71667997535 2.06167017892\n",
      "4.35803941838 1.32535940073 2.71667997535 2.06320415971\n",
      "4.35803941838 1.32535940073 2.71667997535 2.06167017892\n",
      "4.35803941838 1.32535940073 2.71667997535 2.06167017892\n",
      "4.35803941838 1.32535940073 2.71667997535 2.06167017892\n",
      "4.35803941838 1.32535940073 2.71667997535 2.06320415971\n",
      "4.35803941838 1.32535940073 2.71667997535 2.06320415971\n",
      "4.35803941838 1.32535940073 2.71667997535 2.06320415971\n",
      "4.35803941838 1.32535940073 2.71667997535 2.06320415971\n",
      "4.35803941838 1.32535940073 2.71667997535 2.06167017892\n",
      "4.35803941838 1.32535940073 2.71667997535 2.06320415971\n",
      "4.35803941838 1.32535940073 2.71667997535 2.06167017892\n",
      "4.35803941838 1.32535940073 2.71667997535 2.06167017892\n",
      "4.35803941838 1.32535940073 2.71667997535 2.06320415971\n",
      "4.35803941838 1.32535940073 2.71667997535 2.06167017892\n",
      "4.35803941838 1.32535940073 2.71667997535 2.06167017892\n",
      "4.35803941838 1.32535940073 2.71667997535 2.06320415971\n",
      "4.35803941838 1.32535940073 2.71667997535 2.06167017892\n",
      "4.35803941838 1.32535940073 2.71667997535 2.06167017892\n",
      "4.35803941838 1.32535940073 2.71667997535 2.06167017892\n",
      "4.35803941838 1.32535940073 2.71667997535 2.06167017892\n",
      "4.35803941838 1.32535940073 2.71667997535 2.06167017892\n",
      "4.35803941838 1.32535940073 2.71667997535 2.06167017892\n",
      "4.35803941838 1.32535940073 2.71667997535 2.06167017892\n",
      "4.35803941838 1.32535940073 2.71667997535 2.06167017892\n",
      "4.35803941838 1.32535940073 2.71667997535 2.06167017892\n",
      "4.35803941838 1.32535940073 2.71667997535 2.06167017892\n",
      "4.35803941838 1.32535940073 2.71667997535 2.06320415971\n",
      "4.35803941838 1.32535940073 2.71667997535 2.06320415971\n",
      "4.35803941838 1.32535940073 2.71667997535 2.06320415971\n",
      "4.3565054376 1.32535940073 2.71667997535 2.06167017892\n",
      "4.35803941838 1.32535940073 2.71667997535 2.06167017892\n",
      "4.35803941838 1.32535940073 2.71667997535 2.06167017892\n",
      "4.35803941838 1.32535940073 2.71667997535 2.06167017892\n",
      "4.35803941838 1.32535940073 2.71667997535 2.06167017892\n",
      "4.35803941838 1.32535940073 2.71667997535 2.06167017892\n",
      "4.35803941838 1.32535940073 2.71667997535 2.06320415971\n",
      "4.35803941838 1.32535940073 2.71667997535 2.06167017892\n",
      "4.35803941838 1.32535940073 2.71667997535 2.06167017892\n",
      "4.35803941838 1.32535940073 2.71667997535 2.06320415971\n",
      "4.35803941838 1.32535940073 2.71667997535 2.06320415971\n",
      "4.35803941838 1.32535940073 2.71667997535 2.06320415971\n",
      "4.35803941838 1.32535940073 2.71667997535 2.06167017892\n",
      "4.35803941838 1.32535940073 2.71667997535 2.06167017892\n",
      "4.35803941838 1.32535940073 2.71667997535 2.06320415971\n",
      "4.35803941838 1.32535940073 2.71667997535 2.06320415971\n",
      "4.35803941838 1.32535940073 2.71667997535 2.06320415971\n",
      "4.35803941838 1.32535940073 2.71667997535 2.06320415971\n",
      "4.35803941838 1.32535940073 2.71667997535 2.06320415971\n",
      "4.35803941838 1.32535940073 2.71667997535 2.06320415971\n",
      "4.35803941838 1.32535940073 2.71667997535 2.06167017892\n",
      "4.35803941838 1.32535940073 2.71667997535 2.06167017892\n",
      "4.3565054376 1.32535940073 2.71667997535 2.06167017892\n",
      "4.35803941838 1.32535940073 2.71667997535 2.06320415971\n",
      "4.35803941838 1.32535940073 2.71667997535 2.06320415971\n",
      "4.35803941838 1.32535940073 2.71667997535 2.06320415971\n",
      "4.35803941838 1.32535940073 2.71667997535 2.06167017892\n",
      "4.35803941838 1.32535940073 2.71667997535 2.06320415971\n",
      "4.35957339917 1.32535940073 2.71667997535 2.06167017892\n",
      "4.35803941838 1.32535940073 2.71667997535 2.06167017892\n",
      "4.35803941838 1.32535940073 2.71667997535 2.06320415971\n",
      "4.35803941838 1.32535940073 2.71667997535 2.06320415971\n",
      "4.35803941838 1.32535940073 2.71667997535 2.06167017892\n",
      "4.35803941838 1.32535940073 2.71667997535 2.06167017892\n",
      "4.35803941838 1.32535940073 2.71667997535 2.06167017892\n",
      "4.3565054376 1.32535940073 2.71667997535 2.06320415971\n",
      "4.35803941838 1.32535940073 2.71667997535 2.06320415971\n",
      "4.35803941838 1.32535940073 2.71667997535 2.06320415971\n",
      "4.35803941838 1.32535940073 2.71667997535 2.06167017892\n",
      "4.35803941838 1.32535940073 2.71667997535 2.06320415971\n",
      "4.35803941838 1.32535940073 2.71667997535 2.06320415971\n",
      "4.35803941838 1.32535940073 2.71667997535 2.06167017892\n",
      "4.35803941838 1.32535940073 2.71667997535 2.06167017892\n",
      "4.35803941838 1.32535940073 2.71667997535 2.06167017892\n",
      "4.35803941838 1.32535940073 2.71667997535 2.06167017892\n",
      "4.35803941838 1.32535940073 2.71667997535 2.06167017892\n",
      "4.35803941838 1.32535940073 2.71667997535 2.06167017892\n",
      "4.35803941838 1.32535940073 2.71667997535 2.06167017892\n",
      "4.35803941838 1.32535940073 2.71667997535 2.06167017892\n",
      "4.35803941838 1.32535940073 2.71667997535 2.06167017892\n",
      "4.35803941838 1.32535940073 2.71667997535 2.06167017892\n",
      "4.35803941838 1.32535940073 2.71667997535 2.06320415971\n",
      "4.35803941838 1.32535940073 2.71667997535 2.06320415971\n"
     ]
    },
    {
     "name": "stdout",
     "output_type": "stream",
     "text": [
      "4.35803941838 1.32535940073 2.71667997535 2.06320415971\n",
      "4.35803941838 1.32535940073 2.71667997535 2.06320415971\n",
      "4.35803941838 1.32535940073 2.71667997535 2.06167017892\n",
      "4.35803941838 1.32535940073 2.71667997535 2.06167017892\n",
      "4.35803941838 1.32535940073 2.71667997535 2.06320415971\n",
      "4.35803941838 1.32535940073 2.71667997535 2.06167017892\n",
      "4.3565054376 1.32535940073 2.71667997535 2.06167017892\n",
      "4.35803941838 1.32535940073 2.71667997535 2.06167017892\n",
      "4.35803941838 1.32535940073 2.71667997535 2.06167017892\n",
      "4.35803941838 1.32535940073 2.71667997535 2.06167017892\n",
      "4.35803941838 1.32535940073 2.71667997535 2.06167017892\n",
      "4.35803941838 1.32535940073 2.71667997535 2.06167017892\n",
      "4.35803941838 1.32535940073 2.71821395613 2.06167017892\n",
      "4.35803941838 1.32535940073 2.71667997535 2.06167017892\n",
      "4.35803941838 1.32535940073 2.71667997535 2.06167017892\n",
      "4.35803941838 1.32535940073 2.71667997535 2.06167017892\n",
      "4.35803941838 1.32535940073 2.71667997535 2.06167017892\n",
      "4.35803941838 1.32535940073 2.71667997535 2.06167017892\n",
      "4.35803941838 1.32535940073 2.71667997535 2.06167017892\n",
      "4.35803941838 1.32535940073 2.71667997535 2.06167017892\n",
      "4.35803941838 1.32535940073 2.71667997535 2.06320415971\n",
      "4.35803941838 1.32535940073 2.71667997535 2.06167017892\n",
      "4.35803941838 1.32535940073 2.71667997535 2.06320415971\n",
      "4.35957339917 1.32535940073 2.71667997535 2.06320415971\n",
      "4.35803941838 1.32535940073 2.71667997535 2.06320415971\n",
      "4.35803941838 1.32535940073 2.71667997535 2.06320415971\n",
      "4.35803941838 1.32535940073 2.71667997535 2.06320415971\n",
      "4.35803941838 1.32535940073 2.71667997535 2.06320415971\n",
      "4.35803941838 1.32535940073 2.71667997535 2.06320415971\n",
      "4.35803941838 1.32535940073 2.71667997535 2.06320415971\n",
      "4.35803941838 1.32535940073 2.71667997535 2.06320415971\n",
      "4.35803941838 1.32535940073 2.71667997535 2.06167017892\n",
      "4.35803941838 1.32535940073 2.71667997535 2.06167017892\n",
      "4.35803941838 1.32535940073 2.71667997535 2.06167017892\n",
      "4.35803941838 1.32535940073 2.71667997535 2.06320415971\n",
      "4.35803941838 1.32535940073 2.71667997535 2.06320415971\n",
      "4.35803941838 1.32535940073 2.71667997535 2.06320415971\n",
      "4.35957339917 1.32535940073 2.71667997535 2.06167017892\n",
      "4.35803941838 1.32535940073 2.71667997535 2.06167017892\n",
      "4.35803941838 1.32535940073 2.71667997535 2.06167017892\n",
      "4.35803941838 1.32535940073 2.71667997535 2.06320415971\n",
      "4.35803941838 1.32535940073 2.71667997535 2.06320415971\n",
      "4.35957339917 1.32535940073 2.71667997535 2.06167017892\n",
      "4.35803941838 1.32535940073 2.71667997535 2.06167017892\n",
      "4.35803941838 1.32535940073 2.71667997535 2.06320415971\n",
      "4.35803941838 1.32535940073 2.71667997535 2.06320415971\n",
      "4.35803941838 1.32535940073 2.71667997535 2.06320415971\n",
      "4.35803941838 1.32535940073 2.71667997535 2.06167017892\n",
      "4.35803941838 1.32535940073 2.71667997535 2.06167017892\n",
      "4.35803941838 1.32535940073 2.71667997535 2.06167017892\n",
      "4.35803941838 1.32535940073 2.71667997535 2.06167017892\n",
      "4.35803941838 1.32535940073 2.71667997535 2.06167017892\n",
      "4.35803941838 1.32382541995 2.71667997535 2.06167017892\n",
      "4.35803941838 1.32535940073 2.71667997535 2.06167017892\n",
      "4.35803941838 1.32535940073 2.71667997535 2.06167017892\n",
      "4.35803941838 1.32535940073 2.71667997535 2.06167017892\n",
      "4.35957339917 1.32535940073 2.71667997535 2.06167017892\n",
      "4.35957339917 1.32535940073 2.71667997535 2.06167017892\n",
      "4.35803941838 1.32535940073 2.71667997535 2.06167017892\n",
      "4.35803941838 1.32535940073 2.71667997535 2.06167017892\n",
      "4.3565054376 1.32535940073 2.71514599456 2.06167017892\n",
      "4.35803941838 1.32535940073 2.71667997535 2.06167017892\n",
      "4.35803941838 1.32535940073 2.71667997535 2.06167017892\n",
      "4.35803941838 1.32535940073 2.71667997535 2.06167017892\n",
      "4.35803941838 1.32535940073 2.71667997535 2.06167017892\n",
      "4.35803941838 1.32535940073 2.71667997535 2.06167017892\n",
      "4.35803941838 1.32535940073 2.71667997535 2.06167017892\n",
      "4.35957339917 1.32535940073 2.71667997535 2.06167017892\n",
      "4.35803941838 1.32535940073 2.71667997535 2.06167017892\n",
      "4.35803941838 1.32535940073 2.71667997535 2.06167017892\n",
      "4.35803941838 1.32535940073 2.71667997535 2.06167017892\n",
      "4.35803941838 1.32535940073 2.71667997535 2.06167017892\n",
      "4.35803941838 1.32535940073 2.71667997535 2.06320415971\n",
      "4.35803941838 1.32535940073 2.71667997535 2.06167017892\n",
      "4.35803941838 1.32535940073 2.71667997535 2.06167017892\n",
      "4.35803941838 1.32535940073 2.71667997535 2.06320415971\n",
      "4.35803941838 1.32535940073 2.71667997535 2.06320415971\n",
      "4.35803941838 1.32535940073 2.71667997535 2.06320415971\n",
      "4.35803941838 1.32535940073 2.71667997535 2.06320415971\n",
      "4.35803941838 1.32535940073 2.71667997535 2.06320415971\n",
      "4.35803941838 1.32535940073 2.71667997535 2.06320415971\n",
      "4.35803941838 1.32535940073 2.71667997535 2.06167017892\n",
      "4.35803941838 1.32535940073 2.71667997535 2.06167017892\n",
      "4.35803941838 1.32535940073 2.71667997535 2.06320415971\n",
      "4.35803941838 1.32535940073 2.71667997535 2.06320415971\n",
      "4.35803941838 1.32535940073 2.71667997535 2.06167017892\n",
      "4.35803941838 1.32535940073 2.71667997535 2.06167017892\n",
      "4.35803941838 1.32535940073 2.71667997535 2.06320415971\n",
      "4.35803941838 1.32535940073 2.71667997535 2.06320415971\n",
      "4.35803941838 1.32535940073 2.71667997535 2.06320415971\n",
      "4.35803941838 1.32535940073 2.71667997535 2.06320415971\n",
      "4.35803941838 1.32535940073 2.71667997535 2.06167017892\n",
      "4.35803941838 1.32535940073 2.71667997535 2.06167017892\n",
      "4.35803941838 1.32535940073 2.71667997535 2.06320415971\n",
      "4.35803941838 1.32535940073 2.71667997535 2.06167017892\n",
      "4.35803941838 1.32535940073 2.71667997535 2.06167017892\n",
      "4.35803941838 1.32535940073 2.71667997535 2.06167017892\n",
      "4.35803941838 1.32535940073 2.71667997535 2.06167017892\n",
      "4.35803941838 1.32535940073 2.71667997535 2.06167017892\n",
      "4.35803941838 1.32535940073 2.71667997535 2.06167017892\n",
      "4.35803941838 1.32535940073 2.71667997535 2.06167017892\n",
      "4.35803941838 1.32535940073 2.71667997535 2.06167017892\n",
      "4.35803941838 1.32535940073 2.71667997535 2.06167017892\n",
      "4.35803941838 1.32535940073 2.71667997535 2.06320415971\n",
      "4.35803941838 1.32535940073 2.71667997535 2.06320415971\n",
      "4.35803941838 1.32535940073 2.71667997535 2.06320415971\n",
      "4.35803941838 1.32535940073 2.71667997535 2.06167017892\n",
      "4.35803941838 1.32535940073 2.71667997535 2.06167017892\n",
      "4.35803941838 1.32535940073 2.71667997535 2.06167017892\n",
      "4.35803941838 1.32535940073 2.71667997535 2.06167017892\n",
      "4.35803941838 1.32535940073 2.71667997535 2.06320415971\n",
      "4.35803941838 1.32535940073 2.71667997535 2.06167017892\n",
      "4.35803941838 1.32535940073 2.71667997535 2.06167017892\n",
      "4.35803941838 1.32535940073 2.71667997535 2.06167017892\n",
      "4.35803941838 1.32535940073 2.71667997535 2.06167017892\n",
      "4.35803941838 1.32535940073 2.71667997535 2.06167017892\n",
      "4.35803941838 1.32535940073 2.71667997535 2.06167017892\n",
      "4.35803941838 1.32535940073 2.71667997535 2.06167017892\n",
      "4.35803941838 1.32535940073 2.71667997535 2.06167017892\n",
      "4.35803941838 1.32535940073 2.71667997535 2.06167017892\n",
      "4.35803941838 1.32535940073 2.71667997535 2.06167017892\n",
      "4.35803941838 1.32535940073 2.71667997535 2.06167017892\n",
      "4.35803941838 1.32535940073 2.71667997535 2.06167017892\n",
      "4.35803941838 1.32535940073 2.71667997535 2.06167017892\n",
      "4.35803941838 1.32535940073 2.71667997535 2.06320415971\n",
      "4.35803941838 1.32535940073 2.71667997535 2.06167017892\n",
      "4.35803941838 1.32535940073 2.71667997535 2.06167017892\n",
      "4.35803941838 1.32535940073 2.71667997535 2.06167017892\n",
      "4.35803941838 1.32535940073 2.71667997535 2.06167017892\n",
      "4.35803941838 1.32535940073 2.71667997535 2.06167017892\n",
      "4.35803941838 1.32535940073 2.71667997535 2.06320415971\n",
      "4.35803941838 1.32535940073 2.71667997535 2.06320415971\n",
      "4.35803941838 1.32535940073 2.71667997535 2.06167017892\n",
      "4.35803941838 1.32535940073 2.71667997535 2.06167017892\n",
      "4.35803941838 1.32535940073 2.71667997535 2.06167017892\n",
      "4.35803941838 1.32535940073 2.71667997535 2.06167017892\n",
      "4.35803941838 1.32535940073 2.71667997535 2.06320415971\n",
      "4.3565054376 1.32535940073 2.71667997535 2.06167017892\n",
      "4.35803941838 1.32535940073 2.71667997535 2.06167017892\n",
      "4.35803941838 1.32535940073 2.71667997535 2.06320415971\n",
      "4.35803941838 1.32535940073 2.71667997535 2.06167017892\n",
      "4.35803941838 1.32535940073 2.71667997535 2.06167017892\n",
      "4.35803941838 1.32535940073 2.71667997535 2.06167017892\n",
      "4.35803941838 1.32382541995 2.71667997535 2.06167017892\n",
      "4.35803941838 1.32535940073 2.71667997535 2.06167017892\n",
      "4.35803941838 1.32535940073 2.71667997535 2.06167017892\n",
      "4.35803941838 1.32535940073 2.71667997535 2.06167017892\n"
     ]
    },
    {
     "name": "stdout",
     "output_type": "stream",
     "text": [
      "4.35803941838 1.32535940073 2.71667997535 2.06167017892\n",
      "4.35803941838 1.32535940073 2.71667997535 2.06167017892\n",
      "4.35803941838 1.32535940073 2.71667997535 2.06167017892\n",
      "4.35803941838 1.32535940073 2.71667997535 2.06167017892\n",
      "4.35803941838 1.32535940073 2.71667997535 2.06167017892\n",
      "4.35803941838 1.32535940073 2.71667997535 2.06167017892\n",
      "4.35803941838 1.32535940073 2.71667997535 2.06320415971\n",
      "4.35803941838 1.32535940073 2.71667997535 2.06320415971\n",
      "4.35803941838 1.32535940073 2.71667997535 2.06167017892\n",
      "4.35803941838 1.32535940073 2.71667997535 2.06167017892\n",
      "4.35957339917 1.32535940073 2.71667997535 2.06167017892\n",
      "4.35803941838 1.32535940073 2.71667997535 2.06167017892\n",
      "4.35803941838 1.32535940073 2.71667997535 2.06320415971\n",
      "4.35803941838 1.32535940073 2.71667997535 2.06167017892\n",
      "4.35803941838 1.32535940073 2.71667997535 2.06167017892\n",
      "4.35803941838 1.32535940073 2.71667997535 2.06167017892\n",
      "4.35803941838 1.32535940073 2.71667997535 2.06167017892\n",
      "4.35803941838 1.32535940073 2.71667997535 2.06167017892\n",
      "4.35803941838 1.32535940073 2.71667997535 2.06167017892\n",
      "4.35803941838 1.32535940073 2.71667997535 2.06167017892\n",
      "4.35803941838 1.32535940073 2.71667997535 2.06167017892\n",
      "4.35803941838 1.32382541995 2.71667997535 2.06167017892\n",
      "4.35803941838 1.32535940073 2.71667997535 2.06167017892\n",
      "4.35803941838 1.32535940073 2.71667997535 2.06167017892\n",
      "4.35803941838 1.32535940073 2.71667997535 2.06320415971\n",
      "4.35803941838 1.32535940073 2.71667997535 2.06320415971\n",
      "4.35803941838 1.32535940073 2.71667997535 2.06320415971\n",
      "4.35803941838 1.32535940073 2.71667997535 2.06320415971\n",
      "4.35803941838 1.32535940073 2.71667997535 2.06167017892\n",
      "4.35803941838 1.32535940073 2.71667997535 2.06167017892\n",
      "4.35803941838 1.32535940073 2.71667997535 2.06320415971\n",
      "4.35803941838 1.32535940073 2.71667997535 2.06320415971\n",
      "4.35803941838 1.32535940073 2.71667997535 2.06167017892\n",
      "4.35803941838 1.32535940073 2.71667997535 2.06320415971\n",
      "4.35803941838 1.32535940073 2.71667997535 2.06320415971\n",
      "4.35803941838 1.32535940073 2.71667997535 2.06320415971\n",
      "4.35803941838 1.32535940073 2.71667997535 2.06320415971\n",
      "4.35803941838 1.32535940073 2.71667997535 2.06320415971\n",
      "4.35803941838 1.32535940073 2.71667997535 2.06320415971\n",
      "4.35957339917 1.32535940073 2.71667997535 2.06320415971\n",
      "4.35803941838 1.32535940073 2.71667997535 2.06320415971\n",
      "4.35803941838 1.32535940073 2.71667997535 2.06167017892\n",
      "4.35803941838 1.32535940073 2.71667997535 2.06320415971\n",
      "4.35803941838 1.32535940073 2.71667997535 2.06320415971\n",
      "4.35803941838 1.32535940073 2.71667997535 2.06320415971\n",
      "4.35803941838 1.32535940073 2.71667997535 2.06320415971\n",
      "4.35803941838 1.32535940073 2.71667997535 2.06167017892\n",
      "4.35803941838 1.32535940073 2.71667997535 2.06167017892\n",
      "4.35803941838 1.32535940073 2.71667997535 2.06167017892\n",
      "4.35803941838 1.32535940073 2.71667997535 2.06167017892\n",
      "4.35803941838 1.32535940073 2.71667997535 2.06167017892\n",
      "4.35803941838 1.32535940073 2.71667997535 2.06167017892\n",
      "4.35803941838 1.32535940073 2.71667997535 2.06167017892\n",
      "4.35803941838 1.32535940073 2.71667997535 2.06167017892\n",
      "4.35803941838 1.32535940073 2.71667997535 2.06167017892\n",
      "4.35803941838 1.32535940073 2.71667997535 2.06167017892\n",
      "4.35803941838 1.32535940073 2.71667997535 2.06167017892\n",
      "4.35803941838 1.32535940073 2.71667997535 2.06167017892\n",
      "4.35803941838 1.32535940073 2.71667997535 2.06167017892\n",
      "4.35803941838 1.32535940073 2.71667997535 2.06167017892\n",
      "4.35803941838 1.32535940073 2.71667997535 2.06167017892\n",
      "4.35803941838 1.32535940073 2.71667997535 2.06167017892\n",
      "4.35803941838 1.32535940073 2.71667997535 2.06167017892\n",
      "4.35803941838 1.32535940073 2.71667997535 2.06167017892\n",
      "4.35803941838 1.32535940073 2.71667997535 2.06167017892\n",
      "4.35803941838 1.32535940073 2.71667997535 2.06167017892\n",
      "4.35803941838 1.32535940073 2.71667997535 2.06167017892\n",
      "4.35803941838 1.32535940073 2.71667997535 2.06320415971\n",
      "4.35803941838 1.32535940073 2.71667997535 2.06167017892\n",
      "4.35803941838 1.32382541995 2.71667997535 2.06167017892\n",
      "4.35803941838 1.32535940073 2.71667997535 2.06320415971\n",
      "4.35803941838 1.32535940073 2.71821395613 2.06167017892\n",
      "4.35803941838 1.32382541995 2.71667997535 2.06167017892\n",
      "4.35803941838 1.32382541995 2.71667997535 2.06167017892\n",
      "4.35803941838 1.32535940073 2.71667997535 2.06167017892\n",
      "4.35803941838 1.32535940073 2.71667997535 2.06167017892\n",
      "4.35803941838 1.32535940073 2.71667997535 2.06167017892\n",
      "4.35803941838 1.32535940073 2.71667997535 2.06167017892\n",
      "4.35803941838 1.32535940073 2.71667997535 2.06320415971\n",
      "4.35803941838 1.32535940073 2.71514599456 2.06320415971\n",
      "4.3565054376 1.32535940073 2.71514599456 2.06320415971\n",
      "4.35803941838 1.32535940073 2.71514599456 2.06320415971\n",
      "4.35803941838 1.32689338152 2.71514599456 2.06320415971\n",
      "4.35803941838 1.32689338152 2.71514599456 2.06320415971\n",
      "4.35803941838 1.32842736231 2.71361201377 2.06320415971\n",
      "4.35803941838 1.32842736231 2.71361201377 2.06627212128\n",
      "4.35957339917 1.3299613431 2.71207803298 2.06627212128\n",
      "4.35957339917 1.3299613431 2.71054405219 2.06627212128\n",
      "4.36110737996 1.3299613431 2.71054405219 2.06627212128\n",
      "4.36264136075 1.33149532388 2.70901007141 2.06780610207\n",
      "4.36264136075 1.33302930467 2.70747609062 2.06780610207\n",
      "4.36264136075 1.33456328546 2.70594210983 2.06934008286\n",
      "4.36417534153 1.33609726625 2.70440812904 2.07087406365\n",
      "4.36417534153 1.33763124704 2.70440812904 2.07240804443\n",
      "4.36724330311 1.33916522782 2.70287414825 2.07394202522\n",
      "4.36724330311 1.34069920861 2.70134016747 2.07394202522\n",
      "4.3687772839 1.3422331894 2.69980618668 2.0770099868\n",
      "4.3687772839 1.34530115098 2.69827220589 2.07854396759\n",
      "4.37184524547 1.34683513176 2.69520424432 2.07854396759\n",
      "4.37337922626 1.34836911255 2.69367026353 2.08161192916\n",
      "4.37491320705 1.34990309334 2.69213628274 2.08314590995\n",
      "4.37644718784 1.35297105492 2.68906832116 2.08621387152\n",
      "4.37951514941 1.3545050357 2.68753434038 2.08774785231\n",
      "4.3810491302 1.35603901649 2.68600035959 2.09081581389\n",
      "4.38258311099 1.35910697807 2.68293239801 2.09234979468\n",
      "4.38718505335 1.36064095885 2.68139841722 2.09541775625\n",
      "4.38871903414 1.36217493964 2.67986443644 2.09695173704\n",
      "4.39025301493 1.36524290122 2.67679647486 2.10001969862\n",
      "4.39178699572 1.36677688201 2.67526249407 2.1015536794\n",
      "4.39485495729 1.36984484358 2.67372851328 2.10308766019\n",
      "4.39792291887 1.37291280516 2.67066055171 2.10615562177\n",
      "4.39945689966 1.37444678595 2.66912657092 2.10922358334\n",
      "4.40252486123 1.37751474752 2.66605860935 2.11229154492\n",
      "4.40405884202 1.3805827091 2.66299064777 2.11382552571\n",
      "4.4071268036 1.38211668988 2.66145666698 2.11689348728\n",
      "4.41019476517 1.38518465146 2.65685472462 2.11842746807\n",
      "4.41019476517 1.38825261304 2.65532074383 2.12302941043\n",
      "4.41326272675 1.39132057461 2.65225278225 2.12456339122\n",
      "4.41479670753 1.39438853619 2.65071880147 2.1276313528\n",
      "4.41786466911 1.39592251698 2.64765083989 2.12916533359\n",
      "4.4193986499 1.39899047855 2.6461168591 2.13223329516\n",
      "4.42246661147 1.40205844013 2.64304889753 2.13376727595\n",
      "4.42400059226 1.4051264017 2.64151491674 2.13836921831\n",
      "4.42553457305 1.40666038249 2.63998093595 2.1399031991\n",
      "4.42860253463 1.40819436328 2.63844695516 2.14297116068\n",
      "4.43013651541 1.41126232485 2.63537899359 2.14603912225\n",
      "4.4316704962 1.41279630564 2.6338450128 2.14757310304\n",
      "4.43320447699 1.41586426722 2.63231103201 2.15064106462\n",
      "4.43473845778 1.41739824801 2.63077705122 2.1521750454\n",
      "4.43627243857 1.41893222879 2.62924307044 2.15524300698\n",
      "4.43780641935 1.42046620958 2.62770908965 2.15677698777\n",
      "4.43780641935 1.42353417116 2.62617510886 2.15984494934\n",
      "4.43780641935 1.42353417116 2.62617510886 2.16137893013\n",
      "4.44087438093 1.42660213273 2.62464112807 2.16291291092\n",
      "4.44087438093 1.42813611352 2.62310714728 2.16444689171\n",
      "4.44240836172 1.42967009431 2.6215731665 2.16598087249\n",
      "4.4439423425 1.43273805589 2.61850520492 2.16751485328\n",
      "4.4439423425 1.43427203667 2.61850520492 2.17058281486\n",
      "4.4439423425 1.43580601746 2.61697122413 2.17211679565\n",
      "4.44547632329 1.43733999825 2.61543724335 2.17365077643\n",
      "4.44547632329 1.43887397904 2.61236928177 2.17365077643\n",
      "4.44701030408 1.44040795982 2.61236928177 2.17518475722\n",
      "4.44701030408 1.44194194061 2.61083530098 2.1782527188\n",
      "4.44701030408 1.4434759214 2.60930132019 2.1782527188\n",
      "4.44701030408 1.44500990219 2.60930132019 2.1782527188\n",
      "4.44701030408 1.44654388298 2.60776733941 2.17978669959\n",
      "4.44701030408 1.44807786376 2.60776733941 2.18285466116\n",
      "4.44701030408 1.44807786376 2.60623335862 2.17978669959\n"
     ]
    },
    {
     "name": "stdout",
     "output_type": "stream",
     "text": [
      "4.44701030408 1.44961184455 2.60623335862 2.18285466116\n",
      "4.44701030408 1.44961184455 2.60469937783 2.18285466116\n",
      "4.44701030408 1.45114582534 2.60469937783 2.18285466116\n",
      "4.44854428487 1.45114582534 2.60316539704 2.18438864195\n",
      "4.44854428487 1.45267980613 2.60316539704 2.18592262274\n",
      "4.44854428487 1.45267980613 2.60316539704 2.18745660352\n",
      "4.44854428487 1.45421378692 2.60316539704 2.18745660352\n",
      "4.44854428487 1.45421378692 2.60163141625 2.18745660352\n",
      "4.44854428487 1.45421378692 2.60163141625 2.18745660352\n",
      "4.44854428487 1.4557477677 2.60009743547 2.18899058431\n",
      "4.44854428487 1.45728174849 2.60009743547 2.18899058431\n",
      "4.44854428487 1.45728174849 2.59856345468 2.1905245651\n",
      "4.44854428487 1.45881572928 2.59702947389 2.19205854589\n",
      "4.45007826566 1.46034971007 2.59702947389 2.19205854589\n",
      "4.44854428487 1.46188369086 2.5954954931 2.19359252668\n",
      "4.45007826566 1.46188369086 2.59396151231 2.19512650746\n",
      "4.45007826566 1.46341767164 2.59242753153 2.19512650746\n",
      "4.45007826566 1.46495165243 2.59242753153 2.19819446904\n",
      "4.45007826566 1.46648563322 2.59089355074 2.19819446904\n",
      "4.45161224644 1.46801961401 2.58935956995 2.19972844983\n",
      "4.45161224644 1.46955359479 2.58935956995 2.2027964114\n",
      "4.45161224644 1.47108757558 2.58782558916 2.2027964114\n",
      "4.45161224644 1.47108757558 2.58782558916 2.20433039219\n",
      "4.45161224644 1.47262155637 2.58629160838 2.20739835377\n",
      "4.45161224644 1.47262155637 2.58629160838 2.20893233456\n",
      "4.45161224644 1.47415553716 2.58629160838 2.21046631534\n",
      "4.45161224644 1.47568951795 2.58475762759 2.21200029613\n",
      "4.45161224644 1.47568951795 2.58475762759 2.21353427692\n",
      "4.45161224644 1.47722349873 2.58475762759 2.21506825771\n",
      "4.45314622723 1.47875747952 2.58475762759 2.21506825771\n",
      "4.45314622723 1.47875747952 2.5832236468 2.21813621928\n",
      "4.45314622723 1.48029146031 2.5832236468 2.21967020007\n",
      "4.45314622723 1.4818254411 2.58168966601 2.22120418086\n",
      "4.45314622723 1.4818254411 2.58015568522 2.22273816165\n",
      "4.45314622723 1.48335942189 2.58015568522 2.22427214243\n",
      "4.45314622723 1.48489340267 2.57862170444 2.22580612322\n",
      "4.45468020802 1.48796136425 2.57708772365 2.22734010401\n",
      "4.45468020802 1.48796136425 2.57555374286 2.2288740848\n",
      "4.45468020802 1.49102932582 2.57401976207 2.23194204637\n",
      "4.45468020802 1.49256330661 2.57248578128 2.23194204637\n",
      "4.45468020802 1.49563126819 2.5709518005 2.23501000795\n",
      "4.45468020802 1.49716524898 2.5709518005 2.23501000795\n",
      "4.45621418881 1.49869922976 2.56941781971 2.23807796953\n",
      "4.45468020802 1.50023321055 2.56788383892 2.23807796953\n",
      "4.45621418881 1.50176719134 2.56634985813 2.2411459311\n",
      "4.45621418881 1.50330117213 2.56481587734 2.24267991189\n",
      "4.45621418881 1.5063691337 2.56481587734 2.24421389268\n",
      "4.45621418881 1.5063691337 2.56328189656 2.24421389268\n",
      "4.45621418881 1.50790311449 2.56328189656 2.24728185425\n",
      "4.4577481696 1.50943709528 2.56174791577 2.24728185425\n",
      "4.45621418881 1.51097107607 2.56174791577 2.24881583504\n",
      "4.4577481696 1.51097107607 2.56174791577 2.25034981583\n",
      "4.4577481696 1.51250505686 2.56021393498 2.25034981583\n",
      "4.4577481696 1.51250505686 2.56174791577 2.25188379662\n",
      "4.4577481696 1.51250505686 2.56174791577 2.25188379662\n",
      "4.4577481696 1.51250505686 2.56021393498 2.25495175819\n",
      "4.4577481696 1.51403903764 2.56021393498 2.2534177774\n",
      "4.4577481696 1.51403903764 2.56021393498 2.2534177774\n",
      "4.4577481696 1.51403903764 2.56021393498 2.2534177774\n",
      "4.4577481696 1.51403903764 2.55867995419 2.2534177774\n",
      "4.4577481696 1.51557301843 2.56021393498 2.2534177774\n",
      "4.4577481696 1.51557301843 2.55867995419 2.2534177774\n",
      "4.4577481696 1.51557301843 2.55867995419 2.25188379662\n",
      "4.4577481696 1.51557301843 2.55867995419 2.25188379662\n",
      "4.4577481696 1.51557301843 2.55867995419 2.25188379662\n",
      "4.4577481696 1.51557301843 2.55867995419 2.25034981583\n",
      "4.4577481696 1.51403903764 2.55867995419 2.24881583504\n",
      "4.4577481696 1.51403903764 2.55867995419 2.24728185425\n",
      "4.4577481696 1.51250505686 2.56021393498 2.24574787346\n",
      "4.45621418881 1.51250505686 2.56021393498 2.24421389268\n",
      "4.45621418881 1.50943709528 2.56021393498 2.2411459311\n",
      "4.45621418881 1.50943709528 2.56174791577 2.2411459311\n",
      "4.45621418881 1.5063691337 2.56174791577 2.23807796953\n",
      "4.45468020802 1.5063691337 2.56328189656 2.23654398874\n",
      "4.45468020802 1.50330117213 2.56328189656 2.23347602716\n",
      "4.45468020802 1.50176719134 2.56634985813 2.23040806559\n",
      "4.45314622723 1.49869922976 2.56788383892 2.22734010401\n",
      "4.45314622723 1.49716524898 2.56788383892 2.22580612322\n",
      "4.45314622723 1.4940972874 2.5709518005 2.22427214243\n",
      "4.45161224644 1.49256330661 2.57248578128 2.21967020007\n",
      "4.45161224644 1.48949534504 2.57401976207 2.21660223849\n",
      "4.45161224644 1.48642738346 2.57555374286 2.21506825771\n",
      "4.45007826566 1.48335942189 2.57862170444 2.21200029613\n",
      "4.45007826566 1.47875747952 2.58015568522 2.20893233456\n",
      "4.44854428487 1.47568951795 2.5832236468 2.20586437298\n",
      "4.44854428487 1.47108757558 2.58629160838 2.2027964114\n",
      "4.44701030408 1.46801961401 2.58935956995 2.19819446904\n",
      "4.44701030408 1.46341767164 2.59242753153 2.19666048825\n",
      "4.44547632329 1.46034971007 2.5954954931 2.19359252668\n",
      "4.4439423425 1.4557477677 2.60009743547 2.18899058431\n",
      "4.44240836172 1.45114582534 2.60316539704 2.18438864195\n",
      "4.44240836172 1.44654388298 2.60623335862 2.18132068037\n",
      "4.43934040014 1.44194194061 2.61083530098 2.1782527188\n",
      "4.43780641935 1.43733999825 2.61543724335 2.17518475722\n",
      "4.43780641935 1.43273805589 2.61850520492 2.17058281486\n",
      "4.43473845778 1.42813611352 2.6215731665 2.16598087249\n",
      "4.4316704962 1.42353417116 2.62617510886 2.16137893013\n",
      "4.42860253463 1.41893222879 2.62924307044 2.15677698777\n",
      "4.42706855384 1.41586426722 2.63231103201 2.15370902619\n",
      "4.42400059226 1.41126232485 2.63537899359 2.14910708383\n",
      "4.4193986499 1.4051264017 2.63844695516 2.14450514146\n",
      "4.41786466911 1.40205844013 2.64151491674 2.1399031991\n",
      "4.41326272675 1.39899047855 2.64458287831 2.13530125674\n",
      "4.40866078438 1.39592251698 2.64918482068 2.12916533359\n",
      "4.40405884202 1.39132057461 2.65071880147 2.12609737201\n",
      "4.40099088044 1.38671863225 2.65532074383 2.11996144886\n",
      "4.39792291887 1.38365067067 2.65838870541 2.11535950649\n",
      "4.39485495729 1.3805827091 2.66145666698 2.11229154492\n",
      "4.38871903414 1.37598076673 2.66605860935 2.10615562177\n",
      "4.38411709178 1.37137882437 2.67066055171 2.10308766019\n",
      "4.37951514941 1.36831086279 2.67372851328 2.09695173704\n",
      "4.37491320705 1.36370892043 2.67833045565 2.09388377546\n",
      "4.37031126469 1.35910697807 2.68293239801 2.0892818331\n",
      "4.36724330311 1.3545050357 2.68753434038 2.08467989074\n",
      "4.36417534153 1.34990309334 2.69213628274 2.08007794837\n",
      "4.35957339917 1.34376717019 2.69520424432 2.0770099868\n",
      "4.35803941838 1.34069920861 2.69980618668 2.07240804443\n",
      "4.35343747602 1.33609726625 2.70440812904 2.06934008286\n",
      "4.35190349523 1.33149532388 2.70747609062 2.06627212128\n",
      "4.34730155287 1.32689338152 2.71361201377 2.06167017892\n",
      "4.34576757208 1.32075745837 2.71821395613 2.05860221734\n",
      "4.34116562972 1.31768949679 2.72128191771 2.05553425577\n",
      "4.33963164893 1.31308755443 2.72588386007 2.05246629419\n",
      "4.33656368735 1.30848561207 2.73048580244 2.04939833262\n",
      "4.33349572578 1.30541765049 2.73355376401 2.04786435183\n",
      "4.3304277642 1.30081570813 2.73662172559 2.04326240946\n",
      "4.32735980263 1.29774774655 2.73968968716 2.04172842868\n",
      "4.32582582184 1.29467978498 2.74429162953 2.0386604671\n",
      "4.32275786026 1.2916118234 2.7473595911 2.03712648631\n",
      "4.32122387947 1.28854386182 2.75042755268 2.03405852474\n",
      "4.31662193711 1.28547590025 2.75349551425 2.03099056316\n",
      "4.31508795632 1.28240793867 2.75502949504 2.02945658237\n",
      "4.31201999475 1.2793399771 2.75809745662 2.02792260158\n",
      "4.30895203317 1.27780599631 2.76116541819 2.02485464001\n",
      "4.30741805238 1.27473803473 2.76269939898 2.02332065922\n",
      "4.30435009081 1.27320405395 2.76576736056 2.02178667843\n",
      "4.30281611002 1.27167007316 2.76730134135 2.01871871686\n",
      "4.29974814844 1.26860211158 2.76883532213 2.01718473607\n",
      "4.29821416766 1.26706813079 2.77190328371 2.01565075528\n",
      "4.29514620608 1.26553415001 2.7734372645 2.01411677449\n",
      "4.29361222529 1.26400016922 2.77497124529 2.01258279371\n",
      "4.29054426372 1.26246618843 2.77803920686 2.00951483213\n",
      "4.28901028293 1.26093220764 2.77957318765 2.00951483213\n",
      "4.28747630214 1.25786424607 2.78264114922 2.00644687055\n",
      "4.28594232135 1.25633026528 2.78417513001 2.00491288977\n",
      "4.28287435978 1.25479628449 2.78724309159 2.00491288977\n",
      "4.28134037899 1.25172832291 2.78877707238 2.00184492819\n",
      "4.2798063982 1.25019434213 2.79184503395 2.00184492819\n",
      "4.27673843663 1.24712638055 2.79491299553 1.99877696661\n"
     ]
    },
    {
     "name": "stdout",
     "output_type": "stream",
     "text": [
      "4.27520445584 1.24559239976 2.79644697632 1.99877696661\n",
      "4.27367047505 1.24252443819 2.79951493789 1.99724298583\n",
      "4.27213649426 1.2409904574 2.80104891868 1.99570900504\n",
      "4.26906853269 1.23945647661 2.80411688025 1.99417502425\n",
      "4.2675345519 1.23638851504 2.80718484183 1.99417502425\n",
      "4.26600057111 1.23485453425 2.80871882262 1.99110706268\n",
      "4.26446659032 1.23332055346 2.81025280341 1.99110706268\n",
      "4.26139862875 1.23178657267 2.81178678419 1.98957308189\n",
      "4.25986464796 1.23025259188 2.81332076498 1.9880391011\n",
      "4.25833066717 1.23025259188 2.81332076498 1.98650512031\n",
      "4.25833066717 1.23025259188 2.81485474577 1.98650512031\n",
      "4.25526270559 1.23025259188 2.81485474577 1.98497113952\n",
      "4.25372872481 1.23025259188 2.81485474577 1.98343715874\n",
      "4.25066076323 1.23025259188 2.81485474577 1.98190317795\n",
      "4.25066076323 1.23025259188 2.81485474577 1.98190317795\n",
      "4.24912678244 1.23025259188 2.81485474577 1.98036919716\n",
      "4.24759280166 1.23025259188 2.81485474577 1.98036919716\n",
      "4.24759280166 1.23025259188 2.81485474577 1.97883521637\n",
      "4.24605882087 1.23025259188 2.81485474577 1.97883521637\n",
      "4.24605882087 1.23025259188 2.81638872656 1.97883521637\n",
      "4.24452484008 1.23025259188 2.81638872656 1.97730123558\n",
      "4.24452484008 1.2287186111 2.81792270735 1.97730123558\n",
      "4.24452484008 1.2287186111 2.81792270735 1.97730123558\n",
      "4.24452484008 1.22718463031 2.81792270735 1.97730123558\n",
      "4.24452484008 1.22718463031 2.81792270735 1.97730123558\n",
      "4.24452484008 1.22718463031 2.81945668813 1.97883521637\n",
      "4.24605882087 1.22718463031 2.81945668813 1.97883521637\n",
      "4.24605882087 1.22718463031 2.81945668813 1.98036919716\n",
      "4.24759280166 1.22718463031 2.81945668813 1.98036919716\n",
      "4.25066076323 1.22718463031 2.81792270735 1.98190317795\n",
      "4.25066076323 1.2287186111 2.81638872656 1.98190317795\n",
      "4.25372872481 1.2287186111 2.81638872656 1.98343715874\n",
      "4.25526270559 1.23025259188 2.81332076498 1.98497113952\n",
      "4.25679668638 1.23178657267 2.81178678419 1.9880391011\n",
      "4.26139862875 1.23332055346 2.81025280341 1.98957308189\n",
      "4.26293260953 1.23485453425 2.80718484183 1.99110706268\n",
      "4.26600057111 1.23792249582 2.80565086104 1.99417502425\n",
      "4.26906853269 1.23945647661 2.80258289947 1.99570900504\n",
      "4.27213649426 1.2409904574 2.79951493789 1.99724298583\n",
      "4.27673843663 1.24405841898 2.79644697632 2.0003109474\n",
      "4.27827241741 1.24712638055 2.79337901474 2.00337890898\n",
      "4.28287435978 1.24866036134 2.79031105316 2.00644687055\n",
      "4.28747630214 1.2532623037 2.7857091108 2.00798085134\n",
      "4.29054426372 1.25479628449 2.78264114922 2.01104881292\n",
      "4.29514620608 1.25939822685 2.77650522607 2.01565075528\n",
      "4.29821416766 1.26246618843 2.77497124529 2.01871871686\n",
      "4.30281611002 1.26706813079 2.76883532213 2.02025269765\n",
      "4.30588407159 1.27167007316 2.76423337977 2.02485464001\n",
      "4.31201999475 1.27780599631 2.75963143741 2.02945658237\n",
      "4.31662193711 1.28240793867 2.75349551425 2.03099056316\n",
      "4.3181559179 1.28700988104 2.74889357189 2.03559250552\n",
      "4.32429184105 1.2916118234 2.74275764874 2.04019444789\n",
      "4.32735980263 1.29928172734 2.73662172559 2.04479639025\n",
      "4.33196174499 1.3038836697 2.73201978322 2.04786435183\n",
      "4.33656368735 1.31001959285 2.72588386007 2.05246629419\n",
      "4.34116562972 1.31615551601 2.72128191771 2.05553425577\n",
      "4.34576757208 1.32075745837 2.71667997535 2.06013619813\n",
      "4.34730155287 1.32689338152 2.71054405219 2.06320415971\n",
      "4.35190349523 1.33149532388 2.70594210983 2.06934008286\n",
      "4.3565054376 1.33609726625 2.70134016747 2.07394202522\n",
      "4.35957339917 1.34069920861 2.69520424432 2.07854396759\n",
      "4.36417534153 1.34683513176 2.69213628274 2.08161192916\n",
      "4.36724330311 1.35143707413 2.68753434038 2.08621387152\n",
      "4.37184524547 1.3545050357 2.6844663788 2.09081581389\n",
      "4.37644718784 1.35910697807 2.67986443644 2.09695173704\n",
      "4.38258311099 1.36217493964 2.67679647486 2.10001969862\n",
      "4.38565107257 1.36524290122 2.67372851328 2.10308766019\n",
      "4.39025301493 1.36984484358 2.67066055171 2.10768960255\n",
      "4.3933209765 1.37137882437 2.66759259013 2.11229154492\n",
      "4.39792291887 1.37598076673 2.66299064777 2.11689348728\n",
      "4.40099088044 1.3805827091 2.65992268619 2.12149542965\n",
      "4.40559282281 1.38518465146 2.65685472462 2.12609737201\n",
      "4.40866078438 1.38825261304 2.65225278225 2.12916533359\n",
      "4.41172874596 1.3928545554 2.64918482068 2.13376727595\n",
      "4.41479670753 1.39745649776 2.64458287831 2.13836921831\n",
      "4.4193986499 1.40205844013 2.63998093595 2.14297116068\n",
      "4.42093263069 1.40666038249 2.63691297438 2.14757310304\n",
      "4.42400059226 1.41126232485 2.6338450128 2.15064106462\n",
      "4.42706855384 1.41586426722 2.62924307044 2.15524300698\n",
      "4.43013651541 1.42046620958 2.62464112807 2.15677698777\n",
      "4.4316704962 1.42506815195 2.6215731665 2.16137893013\n",
      "4.43473845778 1.42967009431 2.61697122413 2.16598087249\n",
      "4.43627243857 1.43427203667 2.61543724335 2.16904883407\n",
      "4.43780641935 1.43733999825 2.61236928177 2.17365077643\n",
      "4.43934040014 1.44194194061 2.60930132019 2.17671873801\n",
      "4.44087438093 1.44500990219 2.60623335862 2.1782527188\n",
      "4.44240836172 1.44807786376 2.60316539704 2.18285466116\n",
      "4.44240836172 1.45114582534 2.60163141625 2.18592262274\n",
      "4.44547632329 1.45421378692 2.60009743547 2.1905245651\n",
      "4.44547632329 1.45728174849 2.59702947389 2.19205854589\n",
      "4.44701030408 1.45881572928 2.5954954931 2.19512650746\n",
      "4.44701030408 1.46188369086 2.59396151231 2.19819446904\n",
      "4.44854428487 1.46495165243 2.59242753153 2.20126243062\n",
      "4.44854428487 1.46648563322 2.59089355074 2.20433039219\n",
      "4.45007826566 1.46955359479 2.58935956995 2.20586437298\n",
      "4.45007826566 1.47108757558 2.58782558916 2.20893233456\n",
      "4.45007826566 1.47415553716 2.58629160838 2.21046631534\n",
      "4.45161224644 1.47568951795 2.58475762759 2.21353427692\n",
      "4.45161224644 1.47875747952 2.5832236468 2.21506825771\n",
      "4.45007826566 1.4818254411 2.58015568522 2.21813621928\n",
      "4.45161224644 1.48335942189 2.58015568522 2.21813621928\n",
      "4.45161224644 1.48642738346 2.57708772365 2.22120418086\n",
      "4.45161224644 1.48949534504 2.57555374286 2.22273816165\n",
      "4.45314622723 1.49256330661 2.57248578128 2.22580612322\n",
      "4.45314622723 1.4940972874 2.5709518005 2.22580612322\n",
      "4.45314622723 1.49716524898 2.56941781971 2.22734010401\n",
      "4.45314622723 1.50023321055 2.56788383892 2.2288740848\n",
      "4.45314622723 1.50176719134 2.56634985813 2.23040806559\n",
      "4.45314622723 1.50483515292 2.56481587734 2.23194204637\n",
      "4.45314622723 1.50483515292 2.56328189656 2.23501000795\n",
      "4.45314622723 1.5063691337 2.56328189656 2.23654398874\n",
      "4.45314622723 1.50790311449 2.56174791577 2.23807796953\n",
      "4.45468020802 1.50943709528 2.56174791577 2.23807796953\n",
      "4.45468020802 1.50943709528 2.56174791577 2.23961195031\n",
      "4.45468020802 1.51097107607 2.56174791577 2.2411459311\n",
      "4.45621418881 1.50943709528 2.56174791577 2.2411459311\n",
      "4.45621418881 1.50943709528 2.56174791577 2.24421389268\n",
      "4.45621418881 1.51097107607 2.56328189656 2.24421389268\n",
      "4.45621418881 1.50943709528 2.56328189656 2.24574787346\n",
      "4.45621418881 1.50943709528 2.56328189656 2.24728185425\n",
      "4.45621418881 1.51097107607 2.56328189656 2.24728185425\n",
      "4.45621418881 1.51097107607 2.56328189656 2.24881583504\n",
      "4.45621418881 1.51097107607 2.56328189656 2.24881583504\n",
      "4.45621418881 1.51250505686 2.56174791577 2.25034981583\n",
      "4.45621418881 1.51403903764 2.56174791577 2.25034981583\n",
      "4.45621418881 1.51403903764 2.56174791577 2.25034981583\n",
      "4.45621418881 1.51557301843 2.56021393498 2.25034981583\n",
      "4.45621418881 1.51557301843 2.56021393498 2.25188379662\n",
      "4.45621418881 1.51557301843 2.56021393498 2.25188379662\n",
      "4.45621418881 1.51710699922 2.56021393498 2.25188379662\n",
      "4.45621418881 1.51710699922 2.56021393498 2.25188379662\n",
      "4.45621418881 1.51710699922 2.56021393498 2.25188379662\n",
      "4.4577481696 1.51710699922 2.56021393498 2.25188379662\n",
      "4.4577481696 1.51710699922 2.56021393498 2.25188379662\n",
      "4.4577481696 1.51557301843 2.56021393498 2.25188379662\n",
      "4.45621418881 1.51557301843 2.56021393498 2.25188379662\n",
      "4.45621418881 1.51557301843 2.56021393498 2.25188379662\n",
      "4.45621418881 1.51557301843 2.56021393498 2.25034981583\n",
      "4.45621418881 1.51403903764 2.56021393498 2.25034981583\n",
      "4.45621418881 1.51403903764 2.56021393498 2.24881583504\n",
      "4.45621418881 1.51403903764 2.56021393498 2.24728185425\n",
      "4.45621418881 1.51250505686 2.56021393498 2.24574787346\n",
      "4.45621418881 1.51250505686 2.56174791577 2.24574787346\n",
      "4.45621418881 1.51097107607 2.56174791577 2.24267991189\n",
      "4.45621418881 1.50943709528 2.56174791577 2.23961195031\n",
      "4.45621418881 1.50790311449 2.56328189656 2.23807796953\n",
      "4.45468020802 1.50483515292 2.56481587734 2.23654398874\n",
      "4.45468020802 1.50330117213 2.56481587734 2.23347602716\n",
      "4.45468020802 1.50176719134 2.56634985813 2.23040806559\n"
     ]
    },
    {
     "name": "stdout",
     "output_type": "stream",
     "text": [
      "4.45314622723 1.49869922976 2.56941781971 2.22734010401\n",
      "4.45314622723 1.49563126819 2.5709518005 2.22580612322\n",
      "4.45161224644 1.49256330661 2.57401976207 2.22120418086\n",
      "4.45161224644 1.48949534504 2.57555374286 2.21813621928\n",
      "4.45007826566 1.48489340267 2.57862170444 2.21506825771\n",
      "4.45007826566 1.48029146031 2.58168966601 2.21046631534\n",
      "4.44854428487 1.47568951795 2.58475762759 2.20739835377\n",
      "4.44854428487 1.47108757558 2.58935956995 2.2027964114\n",
      "4.44701030408 1.46648563322 2.59242753153 2.19819446904\n",
      "4.44547632329 1.46188369086 2.5954954931 2.19512650746\n",
      "4.44547632329 1.4557477677 2.60163141625 2.1905245651\n",
      "4.4439423425 1.44961184455 2.60623335862 2.18592262274\n",
      "4.44240836172 1.4434759214 2.60930132019 2.17978669959\n",
      "4.44087438093 1.43733999825 2.61543724335 2.17518475722\n",
      "4.43627243857 1.4312040751 2.62003918571 2.17058281486\n",
      "4.43320447699 1.42506815195 2.62617510886 2.16444689171\n",
      "4.43013651541 1.41893222879 2.63077705122 2.15831096856\n",
      "4.42706855384 1.41433028643 2.63537899359 2.15524300698\n",
      "4.42246661147 1.40666038249 2.64151491674 2.14603912225\n",
      "4.41786466911 1.40052445934 2.64458287831 2.14297116068\n",
      "4.41326272675 1.39592251698 2.65071880147 2.13683523752\n",
      "4.40866078438 1.38978659382 2.65532074383 2.12916533359\n",
      "4.40559282281 1.38518465146 2.65992268619 2.12456339122\n",
      "4.39945689966 1.37904872831 2.66452462856 2.11842746807\n",
      "4.3933209765 1.37291280516 2.66912657092 2.11075756413\n",
      "4.38718505335 1.36831086279 2.67526249407 2.10462164098\n",
      "4.3810491302 1.36217493964 2.67833045565 2.09848571783\n",
      "4.37491320705 1.35757299728 2.6844663788 2.09234979468\n",
      "4.37031126469 1.35143707413 2.69060230195 2.08621387152\n",
      "4.36417534153 1.34530115098 2.6967382251 2.0770099868\n",
      "4.35803941838 1.33916522782 2.70287414825 2.07394202522\n",
      "4.35190349523 1.33149532388 2.70901007141 2.06627212128\n",
      "4.34730155287 1.32535940073 2.71514599456 2.06167017892\n",
      "4.34116562972 1.31922347758 2.72128191771 2.05400027498\n",
      "4.33502970656 1.31155357364 2.72895182165 2.04786435183\n",
      "4.3304277642 1.30541765049 2.7350877448 2.04326240946\n",
      "4.32122387947 1.29774774655 2.74275764874 2.03712648631\n",
      "4.3181559179 1.29007784261 2.75042755268 2.02945658237\n",
      "4.31201999475 1.28394191946 2.75656347583 2.02485464001\n",
      "4.30588407159 1.27473803473 2.76423337977 2.01871871686\n",
      "4.29668018687 1.26860211158 2.77190328371 2.01411677449\n",
      "4.29054426372 1.26093220764 2.78264114922 2.00798085134\n",
      "4.28440834056 1.25479628449 2.78877707238 2.00491288977\n",
      "4.27827241741 1.24712638055 2.79644697632 2.0003109474\n",
      "4.26906853269 1.2409904574 2.80411688025 1.99570900504\n",
      "4.26600057111 1.23485453425 2.81178678419 1.99264104346\n",
      "4.25833066717 1.22718463031 2.81792270735 1.9880391011\n",
      "4.25372872481 1.22104870716 2.8240586305 1.98343715874\n",
      "4.24605882087 1.21798074558 2.83019455365 1.97883521637\n",
      "4.23992289772 1.21337880322 2.83479649601 1.9757672548\n",
      "4.23378697456 1.21031084164 2.83786445759 1.97116531243\n",
      "4.22611707062 1.20877686085 2.84093241916 1.96656337007\n",
      "4.22304910905 1.20877686085 2.84246639995 1.96349540849\n",
      "4.2169131859 1.20724288007 2.84246639995 1.95889346613\n",
      "4.21077726275 1.20724288007 2.84246639995 1.95582550455\n",
      "4.20617532038 1.20877686085 2.84246639995 1.95275754298\n",
      "4.20310735881 1.20877686085 2.84246639995 1.95122356219\n",
      "4.19697143566 1.21031084164 2.84400038074 1.94815560061\n",
      "4.19390347408 1.21031084164 2.84400038074 1.94355365825\n",
      "4.1908355125 1.21031084164 2.84553436153 1.94201967746\n",
      "4.18776755093 1.21031084164 2.84706834232 1.94048569668\n",
      "4.18469958935 1.20877686085 2.8486023231 1.93895171589\n",
      "4.18163162778 1.20724288007 2.85013630389 1.9374177351\n",
      "4.18009764699 1.20570889928 2.85320426547 1.9374177351\n",
      "4.1785636662 1.20417491849 2.85473824626 1.93434977352\n",
      "4.1785636662 1.2026409377 2.85780620783 1.93434977352\n",
      "4.1785636662 1.20110695691 2.85934018862 1.93434977352\n",
      "4.17702968541 1.19957297613 2.85934018862 1.93434977352\n",
      "4.17702968541 1.19957297613 2.86087416941 1.93434977352\n",
      "4.17702968541 1.19957297613 2.85934018862 1.93588375431\n",
      "4.1785636662 1.19957297613 2.85780620783 1.9374177351\n",
      "4.1785636662 1.20110695691 2.85627222704 1.9374177351\n",
      "4.18163162778 1.20110695691 2.85473824626 1.93895171589\n",
      "4.18316560856 1.2026409377 2.85167028468 1.94048569668\n",
      "4.18776755093 1.20417491849 2.85013630389 1.94201967746\n",
      "4.19236949329 1.20570889928 2.8486023231 1.94508763904\n",
      "4.19697143566 1.20724288007 2.84553436153 1.94815560061\n",
      "4.20003939723 1.20724288007 2.84400038074 1.9496895814\n",
      "4.20617532038 1.20877686085 2.84246639995 1.95429152377\n",
      "4.21077726275 1.21031084164 2.84093241916 1.95889346613\n",
      "4.2169131859 1.21031084164 2.83939843838 1.96349540849\n",
      "4.22304910905 1.21184482243 2.8363304768 1.96809735086\n",
      "4.23071901299 1.21337880322 2.83326251522 1.97269929322\n",
      "4.23838891693 1.21644676479 2.83019455365 1.97730123558\n",
      "4.24452484008 1.21798074558 2.82559261129 1.98190317795\n",
      "4.25219474402 1.22104870716 2.82252464971 1.98650512031\n",
      "4.25986464796 1.22411666873 2.81792270735 1.99110706268\n",
      "4.2675345519 1.2287186111 2.81332076498 1.99724298583\n",
      "4.27520445584 1.23178657267 2.80718484183 2.00337890898\n",
      "4.28287435978 1.23792249582 2.79951493789 2.01104881292\n",
      "4.2920782445 1.24252443819 2.79491299553 2.01411677449\n",
      "4.29974814844 1.24866036134 2.78724309159 2.02025269765\n",
      "4.30588407159 1.25633026528 2.77957318765 2.0263886208\n",
      "4.31508795632 1.26400016922 2.77036930292 2.03559250552\n",
      "4.32275786026 1.27473803473 2.75963143741 2.04172842868\n",
      "4.32889378341 1.28394191946 2.75042755268 2.04633037104\n",
      "4.33809766814 1.29774774655 2.73662172559 2.05553425577\n",
      "4.34423359129 1.30695163128 2.72741784086 2.06167017892\n",
      "4.35036951444 1.31768949679 2.71667997535 2.06934008286\n",
      "4.35803941838 1.33149532388 2.70287414825 2.0770099868\n",
      "4.36264136075 1.3422331894 2.69367026353 2.08161192916\n",
      "4.3687772839 1.3545050357 2.68139841722 2.0892818331\n",
      "4.37644718784 1.36524290122 2.6721945325 2.09848571783\n",
      "4.38411709178 1.37598076673 2.66299064777 2.10615562177\n",
      "4.39025301493 1.38518465146 2.65532074383 2.11382552571\n",
      "4.39945689966 1.3928545554 2.64765083989 2.12149542965\n",
      "4.40559282281 1.40052445934 2.63998093595 2.12916533359\n",
      "4.41172874596 1.40819436328 2.6338450128 2.13836921831\n",
      "4.41786466911 1.41433028643 2.62924307044 2.14450514146\n",
      "4.42400059226 1.42046620958 2.62464112807 2.15370902619\n",
      "4.43013651541 1.42506815195 2.62003918571 2.16137893013\n",
      "4.43320447699 1.42967009431 2.61850520492 2.16751485328\n",
      "4.43934040014 1.43273805589 2.61697122413 2.17518475722\n",
      "4.44240836172 1.43580601746 2.61390326256 2.18132068037\n",
      "4.44547632329 1.44040795982 2.61236928177 2.18745660352\n",
      "4.44854428487 1.44194194061 2.61083530098 2.19512650746\n",
      "4.44854428487 1.44654388298 2.60930132019 2.20126243062\n",
      "4.45007826566 1.44961184455 2.60623335862 2.20739835377\n",
      "4.45161224644 1.45421378692 2.60469937783 2.21200029613\n",
      "4.45161224644 1.45728174849 2.60163141625 2.21660223849\n",
      "4.45314622723 1.46188369086 2.59856345468 2.22120418086\n",
      "4.45314622723 1.46495165243 2.5954954931 2.22427214243\n",
      "4.45468020802 1.46955359479 2.59242753153 2.22734010401\n",
      "4.45468020802 1.47415553716 2.58935956995 2.2288740848\n",
      "4.45468020802 1.47875747952 2.58475762759 2.23040806559\n",
      "4.45468020802 1.48335942189 2.58168966601 2.23040806559\n",
      "4.45468020802 1.48642738346 2.57862170444 2.23194204637\n",
      "4.45314622723 1.49102932582 2.57555374286 2.23194204637\n",
      "4.45468020802 1.49256330661 2.57248578128 2.23040806559\n",
      "4.45468020802 1.49563126819 2.5709518005 2.23040806559\n",
      "4.45314622723 1.49563126819 2.56941781971 2.22734010401\n",
      "4.45314622723 1.49563126819 2.56941781971 2.22580612322\n",
      "4.45314622723 1.4940972874 2.5709518005 2.22273816165\n",
      "4.45161224644 1.49256330661 2.57248578128 2.21813621928\n",
      "4.45161224644 1.48949534504 2.57401976207 2.21506825771\n",
      "4.45007826566 1.48489340267 2.57708772365 2.21200029613\n",
      "4.45007826566 1.47875747952 2.58168966601 2.20739835377\n",
      "4.44854428487 1.47262155637 2.58629160838 2.2027964114\n",
      "4.44854428487 1.46801961401 2.59089355074 2.19972844983\n",
      "4.44701030408 1.45881572928 2.59856345468 2.19205854589\n",
      "4.44547632329 1.45114582534 2.60469937783 2.18899058431\n",
      "4.4439423425 1.4434759214 2.61083530098 2.18285466116\n",
      "4.44087438093 1.43427203667 2.62003918571 2.17671873801\n",
      "4.43780641935 1.42660213273 2.62617510886 2.17058281486\n",
      "4.43473845778 1.41739824801 2.6338450128 2.16444689171\n",
      "4.43013651541 1.40972834407 2.63998093595 2.15831096856\n",
      "4.42553457305 1.40052445934 2.64765083989 2.1521750454\n",
      "4.42093263069 1.3928545554 2.65532074383 2.14450514146\n",
      "4.41633068832 1.38671863225 2.65992268619 2.13836921831\n"
     ]
    },
    {
     "name": "stdout",
     "output_type": "stream",
     "text": [
      "4.40866078438 1.37904872831 2.66605860935 2.13069931437\n",
      "4.40252486123 1.37291280516 2.6721945325 2.12302941043\n",
      "4.39638893808 1.36831086279 2.67679647486 2.11689348728\n",
      "4.39025301493 1.36217493964 2.68139841722 2.10922358334\n",
      "4.38258311099 1.35757299728 2.68600035959 2.1015536794\n",
      "4.37491320705 1.35297105492 2.69060230195 2.09388377546\n",
      "4.3687772839 1.34683513176 2.69520424432 2.08621387152\n",
      "4.36264136075 1.34069920861 2.69980618668 2.07854396759\n",
      "4.35497145681 1.33456328546 2.70747609062 2.06934008286\n",
      "4.34730155287 1.32842736231 2.71361201377 2.06167017892\n",
      "4.33963164893 1.32229143916 2.71974793692 2.05553425577\n",
      "4.33349572578 1.31615551601 2.72588386007 2.04786435183\n",
      "4.32582582184 1.30848561207 2.73355376401 2.04172842868\n",
      "4.31968989869 1.30081570813 2.74122366795 2.03405852474\n",
      "4.31048601396 1.29314580419 2.75042755268 2.0263886208\n",
      "4.30435009081 1.28547590025 2.75809745662 2.01871871686\n",
      "4.29514620608 1.27627201552 2.76730134135 2.01411677449\n",
      "4.28747630214 1.26706813079 2.77803920686 2.00951483213\n",
      "4.2798063982 1.25786424607 2.78724309159 2.00184492819\n",
      "4.27060251347 1.24866036134 2.79951493789 1.99724298583\n",
      "4.26293260953 1.23945647661 2.81025280341 1.99264104346\n",
      "4.25526270559 1.23025259188 2.81945668813 1.98650512031\n",
      "4.24605882087 1.21951472637 2.83019455365 1.98190317795\n",
      "4.23838891693 1.21031084164 2.83939843838 1.97730123558\n",
      "4.23071901299 1.20417491849 2.8486023231 1.97269929322\n",
      "4.22304910905 1.19957297613 2.85320426547 1.96656337007\n",
      "4.21537920511 1.19803899534 2.85780620783 1.96196142771\n",
      "4.20617532038 1.19650501455 2.85934018862 1.95582550455\n",
      "4.20003939723 1.19650501455 2.85934018862 1.95122356219\n",
      "4.19236949329 1.19803899534 2.85780620783 1.94508763904\n",
      "4.18469958935 1.20110695691 2.85627222704 1.94201967746\n",
      "4.1785636662 1.20417491849 2.85473824626 1.9374177351\n",
      "4.17089376226 1.20570889928 2.85473824626 1.93281579274\n",
      "4.16475783911 1.20724288007 2.85473824626 1.92974783116\n",
      "4.15862191596 1.20877686085 2.85473824626 1.92667986958\n",
      "4.15401997359 1.20877686085 2.85627222704 1.92361190801\n",
      "4.14941803123 1.20724288007 2.86087416941 1.92054394643\n",
      "4.14635006965 1.20417491849 2.86394213098 1.91900996564\n",
      "4.14174812729 1.20110695691 2.87007805413 1.91747598486\n",
      "4.1402141465 1.19803899534 2.8746799965 1.91594200407\n",
      "4.13714618493 1.19497103376 2.87774795807 1.91594200407\n",
      "4.13561220414 1.19343705298 2.88081591965 1.91440802328\n",
      "4.13407822335 1.19343705298 2.88234990044 1.91287404249\n",
      "4.13254424256 1.19190307219 2.88234990044 1.91287404249\n",
      "4.13101026178 1.19190307219 2.88081591965 1.91287404249\n",
      "4.13101026178 1.19343705298 2.87928193886 1.91134006171\n",
      "4.13101026178 1.19497103376 2.87774795807 1.91287404249\n",
      "4.13101026178 1.19650501455 2.87621397729 1.91287404249\n",
      "4.13254424256 1.19803899534 2.87314601571 1.91440802328\n",
      "4.13407822335 1.19957297613 2.87161203492 1.91440802328\n",
      "4.13714618493 1.19957297613 2.87007805413 1.91594200407\n",
      "4.14174812729 1.19957297613 2.87007805413 1.91900996564\n",
      "4.14635006965 1.19957297613 2.86854407335 1.92207792722\n",
      "4.15095201202 1.19957297613 2.86854407335 1.92361190801\n",
      "4.15862191596 1.19803899534 2.86701009256 1.92821385037\n",
      "4.16322385832 1.19803899534 2.86547611177 1.92974783116\n",
      "4.17242774305 1.19803899534 2.86394213098 1.93434977352\n",
      "4.17549570462 1.19803899534 2.86240815019 1.93895171589\n",
      "4.18316560856 1.19957297613 2.85934018862 1.94508763904\n",
      "4.19236949329 1.20110695691 2.85627222704 1.9496895814\n",
      "4.20003939723 1.2026409377 2.85167028468 1.95429152377\n",
      "4.20770930117 1.20417491849 2.8486023231 1.95889346613\n",
      "4.21537920511 1.20724288007 2.84400038074 1.96502938928\n",
      "4.22458308984 1.21031084164 2.83939843838 1.97116531243\n",
      "4.23378697456 1.21337880322 2.83479649601 1.97730123558\n",
      "4.24299085929 1.21644676479 2.82866057286 1.98343715874\n",
      "4.25219474402 1.22258268794 2.82252464971 1.98957308189\n",
      "4.26293260953 1.22718463031 2.81485474577 1.99570900504\n",
      "4.27060251347 1.23178657267 2.80871882262 2.00184492819\n",
      "4.28134037899 1.23792249582 2.80104891868 2.00951483213\n",
      "4.28747630214 1.24405841898 2.79491299553 2.01411677449\n",
      "4.29668018687 1.25019434213 2.7857091108 2.02178667843\n",
      "4.30588407159 1.25786424607 2.77803920686 2.02792260158\n",
      "4.31355397553 1.26706813079 2.77036930292 2.03559250552\n",
      "4.32275786026 1.27627201552 2.75963143741 2.04326240946\n",
      "4.33196174499 1.28700988104 2.7473595911 2.05246629419\n",
      "4.33963164893 1.29928172734 2.73662172559 2.06013619813\n",
      "4.34730155287 1.31155357364 2.72588386007 2.06627212128\n",
      "4.35497145681 1.32382541995 2.71207803298 2.0770099868\n",
      "4.36110737996 1.33456328546 2.70287414825 2.08314590995\n",
      "4.3687772839 1.34836911255 2.68906832116 2.09081581389\n",
      "4.37491320705 1.36064095885 2.67679647486 2.10001969862\n",
      "4.38258311099 1.37137882437 2.66759259013 2.10922358334\n",
      "4.39178699572 1.38211668988 2.65838870541 2.11842746807\n",
      "4.39945689966 1.3928545554 2.64918482068 2.12609737201\n",
      "4.40866078438 1.40205844013 2.63998093595 2.13530125674\n",
      "4.41479670753 1.40972834407 2.6338450128 2.14603912225\n",
      "4.42093263069 1.41893222879 2.62617510886 2.1521750454\n",
      "4.42706855384 1.42506815195 2.62003918571 2.16137893013\n",
      "4.43320447699 1.43427203667 2.61543724335 2.17058281486\n",
      "4.43780641935 1.44040795982 2.61083530098 2.17978669959\n",
      "4.44240836172 1.44654388298 2.60776733941 2.18745660352\n",
      "4.44701030408 1.45114582534 2.60316539704 2.19512650746\n",
      "4.44854428487 1.4557477677 2.60009743547 2.20433039219\n",
      "4.45161224644 1.46034971007 2.59856345468 2.21353427692\n",
      "4.45161224644 1.46495165243 2.5954954931 2.21967020007\n",
      "4.45468020802 1.47108757558 2.59242753153 2.22734010401\n",
      "4.45468020802 1.47568951795 2.58935956995 2.23347602716\n",
      "4.45621418881 1.48029146031 2.58782558916 2.2411459311\n",
      "4.45621418881 1.48489340267 2.5832236468 2.24574787346\n",
      "4.4577481696 1.48949534504 2.58015568522 2.25188379662\n",
      "4.4577481696 1.49563126819 2.57555374286 2.25648573898\n",
      "4.4577481696 1.50023321055 2.57248578128 2.25955370056\n",
      "4.45928215038 1.5063691337 2.56788383892 2.26262166213\n",
      "4.45928215038 1.51250505686 2.56328189656 2.26568962371\n",
      "4.45928215038 1.51710699922 2.56021393498 2.26722360449\n",
      "4.4577481696 1.52170894158 2.55714597341 2.26875758528\n",
      "4.45928215038 1.52477690316 2.55561199262 2.27182554686\n",
      "4.4577481696 1.52784486473 2.55407801183 2.27029156607\n",
      "4.4577481696 1.52937884552 2.55407801183 2.27182554686\n",
      "4.45928215038 1.52937884552 2.55407801183 2.27029156607\n",
      "4.45928215038 1.52784486473 2.55407801183 2.27029156607\n",
      "4.4577481696 1.52631088395 2.55407801183 2.27029156607\n",
      "4.45928215038 1.52477690316 2.55561199262 2.26722360449\n",
      "4.45928215038 1.52170894158 2.55714597341 2.26568962371\n",
      "4.45928215038 1.51864098001 2.56021393498 2.26415564292\n",
      "4.45928215038 1.51557301843 2.56174791577 2.26108768134\n",
      "4.4577481696 1.51250505686 2.56328189656 2.25648573898\n",
      "4.4577481696 1.50943709528 2.56634985813 2.25495175819\n",
      "4.45621418881 1.5063691337 2.56941781971 2.25034981583\n",
      "4.45621418881 1.50176719134 2.56941781971 2.24574787346\n",
      "4.45621418881 1.49869922976 2.57248578128 2.2411459311\n",
      "4.45314622723 1.49563126819 2.57555374286 2.23654398874\n",
      "4.45314622723 1.49102932582 2.57708772365 2.23040806559\n",
      "4.45161224644 1.48642738346 2.58015568522 2.22580612322\n",
      "4.45007826566 1.48335942189 2.5832236468 2.21967020007\n",
      "4.44854428487 1.47722349873 2.58629160838 2.21506825771\n",
      "4.44701030408 1.47108757558 2.59089355074 2.20893233456\n",
      "4.44547632329 1.46648563322 2.5954954931 2.20126243062\n",
      "4.44240836172 1.45881572928 2.60009743547 2.19666048825\n",
      "4.43934040014 1.45267980613 2.60469937783 2.18899058431\n",
      "4.43627243857 1.44500990219 2.61083530098 2.17978669959\n",
      "4.43320447699 1.43733999825 2.61697122413 2.17365077643\n",
      "4.42860253463 1.42813611352 2.62310714728 2.16751485328\n",
      "4.42400059226 1.42046620958 2.62924307044 2.15831096856\n",
      "4.41786466911 1.41279630564 2.63691297438 2.15064106462\n",
      "4.41172874596 1.40359242092 2.6461168591 2.14297116068\n",
      "4.4071268036 1.39438853619 2.65225278225 2.13683523752\n",
      "4.40099088044 1.38518465146 2.66145666698 2.1276313528\n",
      "4.39485495729 1.37751474752 2.66759259013 2.12149542965\n",
      "4.38565107257 1.36831086279 2.67679647486 2.11229154492\n",
      "4.37951514941 1.35910697807 2.68600035959 2.10308766019\n",
      "4.37184524547 1.35143707413 2.69367026353 2.09695173704\n",
      "4.36570932232 1.3422331894 2.70134016747 2.08774785231\n",
      "4.35957339917 1.33302930467 2.71054405219 2.08007794837\n",
      "4.35036951444 1.32229143916 2.71821395613 2.07240804443\n",
      "4.34576757208 1.31462153522 2.72588386007 2.06473814049\n",
      "4.33656368735 1.30541765049 2.7350877448 2.05400027498\n",
      "4.32889378341 1.29774774655 2.74275764874 2.04633037104\n"
     ]
    },
    {
     "name": "stdout",
     "output_type": "stream",
     "text": [
      "4.31968989869 1.29007784261 2.74889357189 2.0386604671\n",
      "4.31355397553 1.28394191946 2.75656347583 2.03252454395\n",
      "4.30435009081 1.27627201552 2.76269939898 2.0263886208\n",
      "4.29821416766 1.27013609237 2.77036930292 2.02025269765\n",
      "4.28747630214 1.26246618843 2.77803920686 2.01258279371\n",
      "4.2798063982 1.25633026528 2.7857091108 2.00491288977\n",
      "4.27213649426 1.25019434213 2.79337901474 2.0003109474\n",
      "4.26293260953 1.24405841898 2.80258289947 1.99417502425\n",
      "4.25526270559 1.23638851504 2.80871882262 1.98957308189\n",
      "4.24605882087 1.23025259188 2.81945668813 1.98343715874\n",
      "4.23992289772 1.22258268794 2.82712659207 1.97883521637\n",
      "4.23225299378 1.21644676479 2.83326251522 1.97423327401\n",
      "4.22458308984 1.21031084164 2.84093241916 1.96963133165\n",
      "4.21537920511 1.20417491849 2.84706834232 1.96349540849\n",
      "4.20924328196 1.20110695691 2.85167028468 1.96042744692\n",
      "4.20157337802 1.19957297613 2.85473824626 1.95582550455\n",
      "4.19390347408 1.19803899534 2.85627222704 1.95122356219\n",
      "4.18930153172 1.19803899534 2.85780620783 1.94662161983\n",
      "4.18316560856 1.19803899534 2.85934018862 1.94355365825\n",
      "4.17702968541 1.19957297613 2.85934018862 1.93895171589\n",
      "4.17242774305 1.20110695691 2.85934018862 1.93588375431\n",
      "4.16782580069 1.2026409377 2.85934018862 1.93434977352\n",
      "4.16322385832 1.20417491849 2.85780620783 1.93128181195\n",
      "4.16015589675 1.20417491849 2.85934018862 1.92974783116\n",
      "4.15708793517 1.20417491849 2.86087416941 1.92821385037\n",
      "4.15401997359 1.20417491849 2.86240815019 1.92821385037\n",
      "4.15248599281 1.20110695691 2.86547611177 1.92667986958\n",
      "4.15248599281 1.20110695691 2.86701009256 1.92667986958\n",
      "4.15095201202 1.19957297613 2.86854407335 1.9251458888\n",
      "4.15095201202 1.19803899534 2.87007805413 1.9251458888\n",
      "4.15095201202 1.19803899534 2.87007805413 1.9251458888\n",
      "4.15401997359 1.19803899534 2.87007805413 1.92667986958\n",
      "4.15401997359 1.19650501455 2.86854407335 1.92667986958\n",
      "4.15555395438 1.19803899534 2.86854407335 1.92974783116\n",
      "4.15862191596 1.19803899534 2.86547611177 1.93128181195\n",
      "4.16322385832 1.19957297613 2.86394213098 1.93281579274\n",
      "4.16475783911 1.20110695691 2.86087416941 1.93588375431\n",
      "4.17089376226 1.20110695691 2.85934018862 1.9374177351\n",
      "4.17396172384 1.2026409377 2.85780620783 1.94048569668\n",
      "4.18009764699 1.2026409377 2.85627222704 1.94662161983\n",
      "4.18623357014 1.20417491849 2.85473824626 1.94815560061\n",
      "4.19236949329 1.20417491849 2.85167028468 1.95275754298\n",
      "4.20003939723 1.20417491849 2.85013630389 1.95889346613\n",
      "4.20617532038 1.20570889928 2.8486023231 1.96196142771\n",
      "4.21231124353 1.20724288007 2.84553436153 1.96809735086\n",
      "4.22151512826 1.20724288007 2.84246639995 1.97269929322\n",
      "4.22765105141 1.21031084164 2.83939843838 1.9757672548\n",
      "4.23378697456 1.21184482243 2.83479649601 1.98190317795\n",
      "4.24299085929 1.21491278401 2.83172853444 1.9880391011\n",
      "4.25066076323 1.21951472637 2.82712659207 1.99264104346\n",
      "4.25833066717 1.22411666873 2.81945668813 1.99724298583\n",
      "4.2675345519 1.22718463031 2.81485474577 2.00337890898\n",
      "4.27520445584 1.23332055346 2.80871882262 2.00951483213\n",
      "4.28440834056 1.23945647661 2.80104891868 2.01565075528\n",
      "4.2920782445 1.24559239976 2.79337901474 2.02178667843\n",
      "4.29974814844 1.2532623037 2.7857091108 2.0263886208\n",
      "4.30741805238 1.26246618843 2.77497124529 2.03252454395\n",
      "4.31508795632 1.27167007316 2.76576736056 2.0386604671\n",
      "4.32275786026 1.28087395788 2.75502949504 2.04633037104\n",
      "4.32889378341 1.2916118234 2.74582561032 2.05246629419\n",
      "4.33656368735 1.30234968891 2.7350877448 2.05860221734\n",
      "4.34423359129 1.31462153522 2.72128191771 2.06780610207\n",
      "4.35036951444 1.32535940073 2.71207803298 2.07240804443\n",
      "4.3565054376 1.33916522782 2.69980618668 2.08007794837\n",
      "4.36264136075 1.34990309334 2.68906832116 2.08774785231\n",
      "4.3687772839 1.36064095885 2.67986443644 2.09695173704\n",
      "4.37644718784 1.37137882437 2.66912657092 2.10462164098\n",
      "4.38258311099 1.3805827091 2.66145666698 2.11229154492\n",
      "4.39178699572 1.38978659382 2.65225278225 2.12149542965\n",
      "4.39792291887 1.39592251698 2.6461168591 2.12916533359\n",
      "4.40405884202 1.40359242092 2.64151491674 2.13530125674\n",
      "4.41172874596 1.40972834407 2.63537899359 2.14603912225\n",
      "4.41633068832 1.41586426722 2.63077705122 2.1521750454\n",
      "4.42246661147 1.42046620958 2.62770908965 2.16137893013\n",
      "4.42860253463 1.42506815195 2.62310714728 2.17058281486\n",
      "4.43320447699 1.42967009431 2.6215731665 2.17671873801\n",
      "4.43934040014 1.43427203667 2.61850520492 2.18438864195\n",
      "4.4439423425 1.43887397904 2.61543724335 2.19205854589\n",
      "4.44547632329 1.44194194061 2.61236928177 2.19972844983\n",
      "4.44854428487 1.44654388298 2.61083530098 2.20586437298\n",
      "4.44854428487 1.45114582534 2.60776733941 2.21200029613\n",
      "4.45007826566 1.45728174849 2.60316539704 2.21967020007\n",
      "4.45314622723 1.46188369086 2.60163141625 2.22580612322\n",
      "4.45314622723 1.46648563322 2.59702947389 2.23194204637\n",
      "4.45468020802 1.47262155637 2.59242753153 2.23654398874\n",
      "4.45468020802 1.47722349873 2.58935956995 2.23961195031\n",
      "4.45468020802 1.48489340267 2.5832236468 2.24267991189\n",
      "4.45468020802 1.49102932582 2.57862170444 2.24728185425\n",
      "4.45621418881 1.49563126819 2.57555374286 2.25034981583\n",
      "4.45621418881 1.50330117213 2.56941781971 2.25188379662\n",
      "4.45621418881 1.5063691337 2.56634985813 2.2534177774\n",
      "4.45621418881 1.51250505686 2.56328189656 2.25648573898\n",
      "4.45621418881 1.51557301843 2.56021393498 2.25648573898\n",
      "4.45621418881 1.51864098001 2.55867995419 2.25648573898\n",
      "4.45621418881 1.52017496079 2.55714597341 2.25648573898\n",
      "4.45621418881 1.52170894158 2.55714597341 2.25648573898\n",
      "4.45621418881 1.52017496079 2.55714597341 2.25648573898\n",
      "4.45621418881 1.51864098001 2.55867995419 2.25495175819\n",
      "4.45468020802 1.51557301843 2.56174791577 2.2534177774\n",
      "4.45468020802 1.51250505686 2.56328189656 2.25034981583\n",
      "4.45468020802 1.50943709528 2.56634985813 2.24881583504\n",
      "4.45468020802 1.50483515292 2.56941781971 2.24574787346\n",
      "4.45468020802 1.49869922976 2.57248578128 2.24267991189\n",
      "4.45468020802 1.4940972874 2.57708772365 2.23807796953\n",
      "4.45314622723 1.48949534504 2.58015568522 2.23501000795\n",
      "4.45314622723 1.48335942189 2.58475762759 2.23194204637\n"
     ]
    }
   ],
   "source": [
    "from roboy_communication_middleware.msg import JointStatus\n",
    "from roboy_communication_middleware.msg import JointCommand\n",
    "from visualization_msgs.msg import Marker\n",
    "from geometry_msgs.msg import Point as geometry_msgsPoint\n",
    "rospy.init_node('PaBiRoboy_dynamics', anonymous=True)\n",
    "\n",
    "class PaBiRoboy_DanceController:\n",
    "    jointCommand_pub = rospy.Publisher('/roboy/middleware/JointCommand', JointCommand, queue_size=1)\n",
    "    visualization_pub = rospy.Publisher('/visualization_marker', Marker, queue_size=1)\n",
    "    msg_viz = Marker()\n",
    "    def __init__(self):\n",
    "        self.msg_viz.header.frame_id = \"world\"\n",
    "        self.msg_viz.type = Marker.ARROW\n",
    "        self.msg_viz.scale.x = 0.005\n",
    "        self.msg_viz.scale.y = 0.05\n",
    "        self.msg_viz.scale.z = 0.05\n",
    "        self.msg_viz.color.a = 0.5\n",
    "        self.msg_viz.color.r = 1.0\n",
    "        self.msg_viz.color.g = 0.0\n",
    "        self.msg_viz.color.b = 0.0\n",
    "        self.listener()\n",
    "    def ros_callback(self, data):\n",
    "        q1 = deg2rad(data.relAngles[1]/4096.0*360.0)\n",
    "        q2 = deg2rad(data.relAngles[0]/4096.0*360.0)\n",
    "        q3 = deg2rad(data.relAngles[2]/4096.0*360.0)\n",
    "        q4 = deg2rad(data.relAngles[3]/4096.0*360.0)\n",
    "        print (q1, q2, q3, q4)\n",
    "        values = {lower_leg_length: 0.4, upper_leg_length: 0.54, hip_length: 0.2, theta0: deg2rad(30), theta1: q1 , theta2: q2, theta3: q3, theta4: q4}\n",
    "        Jpinv = J.subs(values).pinv()\n",
    "        x_mes_hip = hip_mass_center_pos_equation.subs(values).to_matrix(inertial_frame)\n",
    "        x_mes_ankle_right = ankle_right_pos_equation.subs(values).to_matrix(inertial_frame)\n",
    "        x_mes = Matrix([x_mes_hip[0], x_mes_hip[1], x_mes_ankle_right[0], x_mes_ankle_right[1]])\n",
    "        dq=Jpinv*( x_des + kp*(x_des - x_mes ))\n",
    "        msg = JointCommand()\n",
    "        msg.dq = dq\n",
    "        self.jointCommand_pub.publish(msg)\n",
    "        \n",
    "        self.msg_viz.header.stamp = rospy.Time.now()\n",
    "        ankle_left_pos = ankle_left_pos_equation.subs(values).to_matrix(inertial_frame)\n",
    "        knee_left_pos = knee_left_pos_equation.subs(values).to_matrix(inertial_frame)\n",
    "        hip_left_pos = hip_left_pos_equation.subs(values).to_matrix(inertial_frame)\n",
    "        hip_right_pos = hip_right_pos_equation.subs(values).to_matrix(inertial_frame)\n",
    "        knee_right_pos = knee_right_pos_equation.subs(values).to_matrix(inertial_frame)\n",
    "        ankle_right_pos = ankle_right_pos_equation.subs(values).to_matrix(inertial_frame)\n",
    "\n",
    "        self.msg_viz.id = 0\n",
    "        del self.msg_viz.points[:]\n",
    "        self.msg_viz.points.append(geometry_msgsPoint(ankle_left_pos[0],ankle_left_pos[1],ankle_left_pos[2]))\n",
    "        self.msg_viz.points.append(geometry_msgsPoint(knee_left_pos[0],knee_left_pos[1],knee_left_pos[2]))\n",
    "        self.visualization_pub.publish(self.msg_viz)\n",
    "\n",
    "        self.msg_viz.id = 1\n",
    "        del self.msg_viz.points[:]\n",
    "        self.msg_viz.points.append(geometry_msgsPoint(knee_left_pos[0],knee_left_pos[1],knee_left_pos[2]))\n",
    "        self.msg_viz.points.append(geometry_msgsPoint(hip_left_pos[0],hip_left_pos[1],hip_left_pos[2]))\n",
    "        self.visualization_pub.publish(self.msg_viz)\n",
    "\n",
    "        self.msg_viz.id = 2\n",
    "        del self.msg_viz.points[:]\n",
    "        self.msg_viz.points.append(geometry_msgsPoint(hip_left_pos[0],hip_left_pos[1],hip_left_pos[2]))\n",
    "        self.msg_viz.points.append(geometry_msgsPoint(hip_right_pos[0],hip_right_pos[1],hip_right_pos[2]))\n",
    "        self.visualization_pub.publish(self.msg_viz)\n",
    "\n",
    "        self.msg_viz.id = 3\n",
    "        del self.msg_viz.points[:]\n",
    "        self.msg_viz.points.append(geometry_msgsPoint(hip_right_pos[0],hip_right_pos[1],hip_right_pos[2]))\n",
    "        self.msg_viz.points.append(geometry_msgsPoint(knee_right_pos[0],knee_right_pos[1],knee_right_pos[2]))\n",
    "        self.visualization_pub.publish(self.msg_viz)\n",
    "\n",
    "        self.msg_viz.id = 4\n",
    "        del self.msg_viz.points[:]\n",
    "        self.msg_viz.points.append(geometry_msgsPoint(knee_right_pos[0],knee_right_pos[1],knee_right_pos[2]))\n",
    "        self.msg_viz.points.append(geometry_msgsPoint(ankle_right_pos[0],ankle_right_pos[1],ankle_right_pos[2]))\n",
    "        self.visualization_pub.publish(self.msg_viz)\n",
    "        \n",
    "    def listener(self):\n",
    "        rospy.Subscriber(\"roboy/middleware/JointStatus\", JointStatus, self.ros_callback)\n",
    "        rospy.spin()\n",
    "\n",
    "\n",
    "# In[34]:\n",
    "danceController = PaBiRoboy_DanceController()"
   ]
  },
  {
   "cell_type": "markdown",
   "metadata": {},
   "source": [
    "## Kinematical Differential Equations"
   ]
  },
  {
   "cell_type": "code",
   "execution_count": null,
   "metadata": {},
   "outputs": [],
   "source": [
    "omega0, omega1, omega2, omega3, omega4 = dynamicsymbols('omega0, omega1, omega2, omega3, omega4')\n",
    "kinematical_differential_equations = [omega0 - theta0.diff(),\n",
    "                                      omega1 - theta1.diff(),\n",
    "                                      omega2 - theta2.diff(),\n",
    "                                      omega3 - theta3.diff(),\n",
    "                                      omega4 - theta4.diff(),]\n",
    "\n",
    "kinematical_differential_equations"
   ]
  },
  {
   "cell_type": "markdown",
   "metadata": {},
   "source": [
    "## Angular Velocities"
   ]
  },
  {
   "cell_type": "code",
   "execution_count": null,
   "metadata": {},
   "outputs": [],
   "source": [
    "lower_leg_left_frame.set_ang_vel(inertial_frame,         omega0 * inertial_frame.z)\n",
    "lower_leg_left_frame.ang_vel_in(inertial_frame)"
   ]
  },
  {
   "cell_type": "code",
   "execution_count": null,
   "metadata": {},
   "outputs": [],
   "source": [
    "upper_leg_left_frame.set_ang_vel(lower_leg_left_frame,   omega1     * inertial_frame.z)\n",
    "upper_leg_left_frame.ang_vel_in(inertial_frame)"
   ]
  },
  {
   "cell_type": "code",
   "execution_count": null,
   "metadata": {},
   "outputs": [],
   "source": [
    "hip_frame.set_ang_vel(upper_leg_left_frame,              omega2     * inertial_frame.z)\n",
    "hip_frame.ang_vel_in(inertial_frame)"
   ]
  },
  {
   "cell_type": "code",
   "execution_count": null,
   "metadata": {},
   "outputs": [],
   "source": [
    "upper_leg_right_frame.set_ang_vel(hip_frame,             omega3     * inertial_frame.z)\n",
    "upper_leg_right_frame.ang_vel_in(inertial_frame)"
   ]
  },
  {
   "cell_type": "code",
   "execution_count": null,
   "metadata": {},
   "outputs": [],
   "source": [
    "lower_leg_right_frame.set_ang_vel(upper_leg_right_frame, omega4     * inertial_frame.z)\n",
    "lower_leg_right_frame.ang_vel_in(inertial_frame)"
   ]
  },
  {
   "cell_type": "markdown",
   "metadata": {},
   "source": [
    "# Linear Velocities"
   ]
  },
  {
   "cell_type": "markdown",
   "metadata": {},
   "source": [
    "Finally, the linear velocities of the mass centers are needed. Starting at the ankle which has a velocity of 0."
   ]
  },
  {
   "cell_type": "code",
   "execution_count": null,
   "metadata": {
    "collapsed": true
   },
   "outputs": [],
   "source": [
    "ankle_left.set_vel(inertial_frame, 0)"
   ]
  },
  {
   "cell_type": "markdown",
   "metadata": {},
   "source": [
    "Working our way up the chain we can make use of the fact that the joint points are located on two rigid bodies. Any fixed point in a reference frame can be computed if the linear velocity of another point on that frame is known and the frame's angular velocity is known.\n",
    "\n",
    "$$^I\\mathbf{v}^{P_2} = ^I\\mathbf{v}^{P_1} + ^I\\omega^A \\times \\mathbf{r}^{\\frac{P_2}{P_1}}$$\n",
    "\n",
    "The `Point.v2pt_theory()` method makes it easy to do this calculation."
   ]
  },
  {
   "cell_type": "code",
   "execution_count": null,
   "metadata": {},
   "outputs": [],
   "source": [
    "lower_leg_left_mass_center.v2pt_theory(ankle_left, inertial_frame, lower_leg_left_frame)\n",
    "lower_leg_left_mass_center.vel(inertial_frame)"
   ]
  },
  {
   "cell_type": "code",
   "execution_count": null,
   "metadata": {},
   "outputs": [],
   "source": [
    "knee_left.v2pt_theory(ankle_left, inertial_frame, lower_leg_left_frame)\n",
    "knee_left.vel(inertial_frame)"
   ]
  },
  {
   "cell_type": "code",
   "execution_count": null,
   "metadata": {},
   "outputs": [],
   "source": [
    "upper_leg_left_mass_center.v2pt_theory(knee_left, inertial_frame, upper_leg_left_frame)\n",
    "upper_leg_left_mass_center.vel(inertial_frame)"
   ]
  },
  {
   "cell_type": "code",
   "execution_count": null,
   "metadata": {},
   "outputs": [],
   "source": [
    "hip_left.v2pt_theory(knee_left, inertial_frame, upper_leg_left_frame)\n",
    "hip_left.vel(inertial_frame)"
   ]
  },
  {
   "cell_type": "code",
   "execution_count": null,
   "metadata": {},
   "outputs": [],
   "source": [
    "hip_mass_center.v2pt_theory(hip_left, inertial_frame, hip_frame)\n",
    "hip_mass_center.vel(inertial_frame)"
   ]
  },
  {
   "cell_type": "code",
   "execution_count": null,
   "metadata": {},
   "outputs": [],
   "source": [
    "hip_right.v2pt_theory(hip_left, inertial_frame, hip_frame)\n",
    "hip_right.vel(inertial_frame)"
   ]
  },
  {
   "cell_type": "code",
   "execution_count": null,
   "metadata": {},
   "outputs": [],
   "source": [
    "knee_right.v2pt_theory(hip_right, inertial_frame, upper_leg_right_frame)\n",
    "knee_right.vel(inertial_frame)"
   ]
  },
  {
   "cell_type": "code",
   "execution_count": null,
   "metadata": {},
   "outputs": [],
   "source": [
    "upper_leg_right_mass_center.v2pt_theory(knee_right, inertial_frame, upper_leg_right_frame)\n",
    "upper_leg_right_mass_center.vel(inertial_frame)"
   ]
  },
  {
   "cell_type": "code",
   "execution_count": null,
   "metadata": {},
   "outputs": [],
   "source": [
    "ankle_right.v2pt_theory(knee_right, inertial_frame, lower_leg_right_frame)\n",
    "ankle_right.vel(inertial_frame)"
   ]
  },
  {
   "cell_type": "code",
   "execution_count": null,
   "metadata": {},
   "outputs": [],
   "source": [
    "lower_leg_right_mass_center.v2pt_theory(knee_right, inertial_frame, lower_leg_right_frame)\n",
    "lower_leg_right_mass_center.vel(inertial_frame)"
   ]
  },
  {
   "cell_type": "markdown",
   "metadata": {},
   "source": [
    "# Masses, Inertia, Rigid Bodies"
   ]
  },
  {
   "cell_type": "code",
   "execution_count": null,
   "metadata": {
    "collapsed": true
   },
   "outputs": [],
   "source": [
    "lower_leg_mass, upper_leg_mass, hip_mass = symbols('m_L, m_U, m_H')"
   ]
  },
  {
   "cell_type": "code",
   "execution_count": null,
   "metadata": {
    "collapsed": true
   },
   "outputs": [],
   "source": [
    "lower_leg_inertia, upper_leg_inertia, hip_inertia = symbols('I_Lz, I_Uz, I_Hz')"
   ]
  },
  {
   "cell_type": "code",
   "execution_count": null,
   "metadata": {},
   "outputs": [],
   "source": [
    "lower_leg_left_inertia_dyadic = inertia(lower_leg_left_frame, 0, 0, lower_leg_inertia)\n",
    "lower_leg_left_central_inertia = (lower_leg_left_inertia_dyadic, lower_leg_left_mass_center)\n",
    "lower_leg_left_inertia_dyadic.to_matrix(lower_leg_left_frame)"
   ]
  },
  {
   "cell_type": "code",
   "execution_count": null,
   "metadata": {},
   "outputs": [],
   "source": [
    "upper_leg_left_inertia_dyadic = inertia(upper_leg_left_frame, 0, 0, upper_leg_inertia)\n",
    "upper_leg_left_central_inertia = (upper_leg_left_inertia_dyadic, upper_leg_left_mass_center)\n",
    "upper_leg_left_inertia_dyadic.to_matrix(upper_leg_left_frame)"
   ]
  },
  {
   "cell_type": "code",
   "execution_count": null,
   "metadata": {},
   "outputs": [],
   "source": [
    "hip_inertia_dyadic = inertia(hip_frame, 0, 0, hip_inertia)\n",
    "hip_central_inertia = (hip_inertia_dyadic, hip_mass_center)\n",
    "hip_inertia_dyadic.to_matrix(hip_frame)"
   ]
  },
  {
   "cell_type": "code",
   "execution_count": null,
   "metadata": {},
   "outputs": [],
   "source": [
    "upper_leg_right_inertia_dyadic = inertia(upper_leg_right_frame, 0, 0, upper_leg_inertia)\n",
    "upper_leg_right_central_inertia = (upper_leg_right_inertia_dyadic, upper_leg_right_mass_center)\n",
    "upper_leg_right_inertia_dyadic.to_matrix(upper_leg_right_frame)"
   ]
  },
  {
   "cell_type": "code",
   "execution_count": null,
   "metadata": {},
   "outputs": [],
   "source": [
    "lower_leg_right_inertia_dyadic = inertia(lower_leg_right_frame, 0, 0, lower_leg_inertia)\n",
    "lower_leg_right_central_inertia = (lower_leg_right_inertia_dyadic, lower_leg_right_mass_center)\n",
    "lower_leg_right_inertia_dyadic.to_matrix(lower_leg_right_frame)"
   ]
  },
  {
   "cell_type": "code",
   "execution_count": null,
   "metadata": {
    "collapsed": true
   },
   "outputs": [],
   "source": [
    "lower_leg_left = RigidBody('Lower Leg Left', lower_leg_left_mass_center, lower_leg_left_frame,\n",
    "                      lower_leg_mass, lower_leg_left_central_inertia)"
   ]
  },
  {
   "cell_type": "code",
   "execution_count": null,
   "metadata": {
    "collapsed": true
   },
   "outputs": [],
   "source": [
    "upper_leg_left = RigidBody('Upper Leg Left', upper_leg_left_mass_center, upper_leg_left_frame,\n",
    "                      upper_leg_mass, upper_leg_left_central_inertia)"
   ]
  },
  {
   "cell_type": "code",
   "execution_count": null,
   "metadata": {
    "collapsed": true
   },
   "outputs": [],
   "source": [
    "hip = RigidBody('Hip', hip_mass_center, hip_frame, hip_mass, hip_central_inertia)"
   ]
  },
  {
   "cell_type": "code",
   "execution_count": null,
   "metadata": {
    "collapsed": true
   },
   "outputs": [],
   "source": [
    "upper_leg_right = RigidBody('Upper Leg Right', upper_leg_right_mass_center, upper_leg_right_frame,\n",
    "                      upper_leg_mass, upper_leg_right_central_inertia)"
   ]
  },
  {
   "cell_type": "code",
   "execution_count": null,
   "metadata": {
    "collapsed": true
   },
   "outputs": [],
   "source": [
    "lower_leg_right = RigidBody('Lower Leg Right', lower_leg_right_mass_center, lower_leg_right_frame,\n",
    "                      lower_leg_mass, lower_leg_right_central_inertia)"
   ]
  },
  {
   "cell_type": "markdown",
   "metadata": {},
   "source": [
    "# Forces and Torques"
   ]
  },
  {
   "cell_type": "code",
   "execution_count": null,
   "metadata": {
    "collapsed": true
   },
   "outputs": [],
   "source": [
    "g = symbols('g')"
   ]
  },
  {
   "cell_type": "code",
   "execution_count": null,
   "metadata": {
    "collapsed": true
   },
   "outputs": [],
   "source": [
    "lower_leg_left_grav_force = (lower_leg_left_mass_center, -lower_leg_mass * g * inertial_frame.y)\n",
    "upper_leg_left_grav_force = (upper_leg_left_mass_center, -upper_leg_mass * g * inertial_frame.y)\n",
    "hip_grav_force = (hip_mass_center, -hip_mass * g * inertial_frame.y)\n",
    "upper_leg_right_grav_force = (upper_leg_right_mass_center, -upper_leg_mass * g * inertial_frame.y)\n",
    "lower_leg_right_grav_force = (lower_leg_right_mass_center, -lower_leg_mass * g * inertial_frame.y)"
   ]
  },
  {
   "cell_type": "code",
   "execution_count": null,
   "metadata": {
    "collapsed": true
   },
   "outputs": [],
   "source": [
    "ankle_torque0, knee_torque0, hip_torque0, hip_torque1, knee_torque1, ankle_torque1 = dynamicsymbols('T_a0, T_k0, T_h0, T_h1, T_k1, T_a1')"
   ]
  },
  {
   "cell_type": "code",
   "execution_count": null,
   "metadata": {
    "collapsed": true
   },
   "outputs": [],
   "source": [
    "lower_leg_left_torque_vector = ankle_torque0 * inertial_frame.z - knee_torque0 * inertial_frame.z\n",
    "upper_leg_left_torque_vector = knee_torque0 * inertial_frame.z - hip_torque0 * inertial_frame.z\n",
    "hip_left_torque_vector = hip_torque0 * inertial_frame.z - hip_torque1 * inertial_frame.z\n",
    "hip_right_torque_vector = hip_torque1 * inertial_frame.z - knee_torque1 * inertial_frame.z\n",
    "upper_leg_right_torque_vector = knee_torque1 * inertial_frame.z - ankle_torque1 * inertial_frame.z\n",
    "lower_leg_right_torque_vector = ankle_torque1 * inertial_frame.z"
   ]
  },
  {
   "cell_type": "code",
   "execution_count": null,
   "metadata": {
    "collapsed": true
   },
   "outputs": [],
   "source": [
    "lower_leg_left_torque = (lower_leg_left_frame, lower_leg_left_torque_vector)\n",
    "upper_leg_left_torque = (upper_leg_left_frame, upper_leg_left_torque_vector)\n",
    "hip_left_torque = (hip_frame, hip_left_torque_vector)\n",
    "hip_right_torque = (hip_frame, hip_right_torque_vector)\n",
    "upper_leg_right_torque = (upper_leg_right_frame, upper_leg_right_torque_vector)\n",
    "lower_leg_right_torque = (lower_leg_right_frame, lower_leg_right_torque_vector)"
   ]
  },
  {
   "cell_type": "markdown",
   "metadata": {},
   "source": [
    "# Equations of Motion"
   ]
  },
  {
   "cell_type": "code",
   "execution_count": null,
   "metadata": {},
   "outputs": [],
   "source": [
    "coordinates = [theta0, theta1, theta2, theta3, theta4]\n",
    "coordinates"
   ]
  },
  {
   "cell_type": "code",
   "execution_count": null,
   "metadata": {},
   "outputs": [],
   "source": [
    "speeds = [omega0, omega1, omega2, omega3, omega4]\n",
    "speeds"
   ]
  },
  {
   "cell_type": "code",
   "execution_count": null,
   "metadata": {},
   "outputs": [],
   "source": [
    "kinematical_differential_equations"
   ]
  },
  {
   "cell_type": "code",
   "execution_count": null,
   "metadata": {
    "collapsed": true
   },
   "outputs": [],
   "source": [
    "kane = KanesMethod(inertial_frame, coordinates, speeds, kinematical_differential_equations)"
   ]
  },
  {
   "cell_type": "code",
   "execution_count": null,
   "metadata": {},
   "outputs": [],
   "source": [
    "loads = [lower_leg_left_grav_force,\n",
    "         upper_leg_left_grav_force,\n",
    "         hip_grav_force, \n",
    "         upper_leg_right_grav_force,\n",
    "         lower_leg_right_grav_force,\n",
    "         lower_leg_left_torque,\n",
    "         upper_leg_left_torque,\n",
    "         hip_left_torque,\n",
    "         hip_right_torque,\n",
    "         upper_leg_right_torque,\n",
    "         lower_leg_right_torque]\n",
    "loads"
   ]
  },
  {
   "cell_type": "code",
   "execution_count": null,
   "metadata": {},
   "outputs": [],
   "source": [
    "bodies = [lower_leg_left, upper_leg_left, hip, upper_leg_right, lower_leg_right]\n",
    "bodies"
   ]
  },
  {
   "cell_type": "code",
   "execution_count": null,
   "metadata": {
    "collapsed": true
   },
   "outputs": [],
   "source": [
    "fr, frstar = kane.kanes_equations(loads, bodies)"
   ]
  },
  {
   "cell_type": "code",
   "execution_count": null,
   "metadata": {
    "collapsed": true
   },
   "outputs": [],
   "source": [
    "#trigsimp(fr + frstar)"
   ]
  },
  {
   "cell_type": "markdown",
   "metadata": {},
   "source": [
    "Keep in mind that out utlimate goal is to have the equations of motion in first order form:\n",
    "\n",
    "$$ \\dot{\\mathbf{x}} = \\mathbf{g}(\\mathbf{x}, t) $$\n",
    "\n",
    "The equations of motion are linear in terms of the derivatives of the generalized speeds and the `KanesMethod` class automatically puts the equations in a more useful form for the next step of numerical simulation:\n",
    "\n",
    "$$ \\mathbf{M}(\\mathbf{x}, t)\\dot{\\mathbf{x}} = \\mathbf{f}(\\mathbf{x}, t) $$\n",
    "\n",
    "Note that\n",
    "\n",
    "$$ \\mathbf{g} = \\mathbf{M}^{-1}(\\mathbf{x}, t) \\mathbf{f}(\\mathbf{x}, t) $$\n",
    "\n",
    "and that $\\mathbf{g}$ can be computed analytically but for non-toy problems, it is best to do this numerically. So we will simply generate the $\\mathbf{M}$ and $\\mathbf{f}$ matrices for later use.\n",
    "\n",
    "The mass matrix, $\\mathbf{M}$, can be accessed with the `mass_matrix` method (use `mass_matrix_full` to include the kinematical differential equations too. We can use `trigsimp` again to make this relatively compact: "
   ]
  },
  {
   "cell_type": "code",
   "execution_count": null,
   "metadata": {},
   "outputs": [],
   "source": [
    "mass_matrix = trigsimp(kane.mass_matrix_full)\n",
    "mass_matrix"
   ]
  },
  {
   "cell_type": "markdown",
   "metadata": {},
   "source": [
    "The right hand side, $\\mathbf{f}$, is a vector function of all the non-inertial forces (gyroscopic, external, coriolis, etc):"
   ]
  },
  {
   "cell_type": "code",
   "execution_count": null,
   "metadata": {},
   "outputs": [],
   "source": [
    "forcing_vector = trigsimp(kane.forcing_full)\n",
    "forcing_vector"
   ]
  },
  {
   "cell_type": "markdown",
   "metadata": {},
   "source": [
    "# Simulation"
   ]
  },
  {
   "cell_type": "code",
   "execution_count": null,
   "metadata": {},
   "outputs": [],
   "source": [
    "constants = [lower_leg_length,\n",
    "             upper_leg_length,\n",
    "             hip_length,\n",
    "             \n",
    "             lower_leg_left_com_length,\n",
    "             upper_leg_left_com_length,\n",
    "             hip_com_length,\n",
    "             upper_leg_right_com_length,\n",
    "             lower_leg_right_com_length,\n",
    "             \n",
    "             lower_leg_mass,\n",
    "             upper_leg_mass,\n",
    "             hip_mass,\n",
    "             \n",
    "             lower_leg_inertia,\n",
    "             upper_leg_inertia,\n",
    "             hip_inertia,\n",
    "             \n",
    "             g]\n",
    "constants"
   ]
  },
  {
   "cell_type": "code",
   "execution_count": null,
   "metadata": {},
   "outputs": [],
   "source": [
    "numerical_constants = array([0.42,  # lower_leg_length [m]\n",
    "                             0.54, # upper_leg_length [m]\n",
    "                             0.2, # hip_length\n",
    "                             \n",
    "                             0.21,  # lower_leg_com_length [m]\n",
    "                             0.27,  # upper_leg_com_length\n",
    "                             0.10,  # hip_com_length\n",
    "                             0.27,  # upper_leg_com_length\n",
    "                             0.21,  # lower_leg_com_length [m]\n",
    "                             \n",
    "                             1.0,  # lower_leg_mass [kg]\n",
    "                             1.5,  # upper_leg_mass [kg]\n",
    "                             2.0,  # hip_mass [kg]\n",
    "                             \n",
    "                             0.1,  # lower_leg_inertia [kg*m^2]                             \n",
    "                             0.2,  # upper_leg_inertia [kg*m^2]\n",
    "                             0.1,  # hip_inertia [kg*m^2]\n",
    "                             \n",
    "                             9.81],  # acceleration due to gravity [m/s^2]\n",
    "                            ) \n",
    "numerical_constants"
   ]
  },
  {
   "cell_type": "code",
   "execution_count": null,
   "metadata": {},
   "outputs": [],
   "source": [
    "coordinates = [theta0, theta1, theta2, theta3, theta4]\n",
    "coordinates"
   ]
  },
  {
   "cell_type": "code",
   "execution_count": null,
   "metadata": {},
   "outputs": [],
   "source": [
    "speeds = [omega0, omega1, omega2, omega3, omega4]\n",
    "speeds"
   ]
  },
  {
   "cell_type": "code",
   "execution_count": null,
   "metadata": {
    "collapsed": true
   },
   "outputs": [],
   "source": [
    "specified = [ankle_torque0, knee_torque0, hip_torque0, hip_torque1, knee_torque1, ankle_torque1]"
   ]
  },
  {
   "cell_type": "code",
   "execution_count": null,
   "metadata": {
    "collapsed": true
   },
   "outputs": [],
   "source": [
    "right_hand_side = generate_ode_function(forcing_vector, coordinates,\n",
    "                                        speeds, constants,\n",
    "                                        mass_matrix=mass_matrix,\n",
    "                                        specifieds=specified)"
   ]
  },
  {
   "cell_type": "code",
   "execution_count": null,
   "metadata": {},
   "outputs": [],
   "source": [
    "x0 = zeros(10)\n",
    "x0"
   ]
  },
  {
   "cell_type": "code",
   "execution_count": null,
   "metadata": {},
   "outputs": [],
   "source": [
    "x0[0] = deg2rad(60)\n",
    "x0[1] = deg2rad(-30)\n",
    "x0[2] = deg2rad(-30)\n",
    "x0[3] = deg2rad(-30)\n",
    "x0[4] = deg2rad(-30)\n",
    "x0"
   ]
  },
  {
   "cell_type": "code",
   "execution_count": null,
   "metadata": {
    "collapsed": true
   },
   "outputs": [],
   "source": [
    "numerical_specified = zeros(6)\n",
    "\n",
    "args = {'constants': numerical_constants,\n",
    "        'specified': numerical_specified}\n",
    "frames_per_sec = 60\n",
    "final_time = 5.0\n",
    "\n",
    "t = linspace(0.0, final_time, final_time * frames_per_sec)"
   ]
  },
  {
   "cell_type": "code",
   "execution_count": null,
   "metadata": {},
   "outputs": [],
   "source": [
    "right_hand_side(x0, 0.0, numerical_specified, numerical_constants)"
   ]
  },
  {
   "cell_type": "code",
   "execution_count": null,
   "metadata": {},
   "outputs": [],
   "source": [
    "y = odeint(right_hand_side, x0, t, args=(numerical_specified, numerical_constants))\n",
    "y.shape"
   ]
  },
  {
   "cell_type": "code",
   "execution_count": null,
   "metadata": {},
   "outputs": [],
   "source": [
    "plot(t, rad2deg(y[:, :5]))\n",
    "xlabel('Time [s]')\n",
    "ylabel('Angle [deg]')\n",
    "legend([\"${}$\".format(vlatex(c)) for c in coordinates])"
   ]
  },
  {
   "cell_type": "code",
   "execution_count": null,
   "metadata": {},
   "outputs": [],
   "source": [
    "plot(t, rad2deg(y[:, 5:]))\n",
    "xlabel('Time [s]')\n",
    "ylabel('Angular Rate [deg/s]')\n",
    "legend([\"${}$\".format(vlatex(s)) for s in speeds])"
   ]
  },
  {
   "cell_type": "markdown",
   "metadata": {},
   "source": [
    "# Visualization"
   ]
  },
  {
   "cell_type": "code",
   "execution_count": null,
   "metadata": {},
   "outputs": [],
   "source": [
    "from visualization_msgs.msg import Marker\n",
    "from geometry_msgs.msg import Point\n",
    "visualization_pub = rospy.Publisher('/visualization_marker', Marker, queue_size=1)\n",
    "msg = Marker()\n",
    "msg.header.frame_id = \"world\"\n",
    "msg.header.stamp = rospy.Time.now()\n",
    "msg.type = Marker.ARROW\n",
    "msg.scale.x = 0.005\n",
    "msg.scale.y = 0.05\n",
    "msg.scale.z = 0.05\n",
    "msg.color.a = 0.5\n",
    "msg.color.r = 1.0\n",
    "msg.color.g = 0.0\n",
    "msg.color.b = 0.0"
   ]
  },
  {
   "cell_type": "code",
   "execution_count": null,
   "metadata": {
    "collapsed": true
   },
   "outputs": [],
   "source": [
    "for i in range(0,int(final_time * frames_per_sec)):#\n",
    "    values = {lower_leg_length: 0.4, upper_leg_length: 0.54, hip_length: 0.2, theta0: y[i, 0], theta1: y[i, 1], theta2: y[i, 2], theta3: y[i, 3], theta4: y[i, 4]}\n",
    "    \n",
    "    ankle_left_pos = ankle_left_pos_equation.subs(values).to_matrix(inertial_frame)\n",
    "    knee_left_pos = knee_left_pos_equation.subs(values).to_matrix(inertial_frame)\n",
    "    hip_left_pos = hip_left_pos_equation.subs(values).to_matrix(inertial_frame)\n",
    "    hip_right_pos = hip_right_pos_equation.subs(values).to_matrix(inertial_frame)\n",
    "    knee_right_pos = knee_right_pos_equation.subs(values).to_matrix(inertial_frame)\n",
    "    ankle_right_pos = ankle_right_pos_equation.subs(values).to_matrix(inertial_frame)\n",
    "    \n",
    "    msg.id = 0\n",
    "    del msg.points[:]\n",
    "    msg.points.append(Point(ankle_left_pos[0],ankle_left_pos[1],ankle_left_pos[2]))\n",
    "    msg.points.append(Point(knee_left_pos[0],knee_left_pos[1],knee_left_pos[2]))\n",
    "    visualization_pub.publish(msg)\n",
    "    \n",
    "    msg.id = 1\n",
    "    del msg.points[:]\n",
    "    msg.points.append(Point(knee_left_pos[0],knee_left_pos[1],knee_left_pos[2]))\n",
    "    msg.points.append(Point(hip_left_pos[0],hip_left_pos[1],hip_left_pos[2]))\n",
    "    visualization_pub.publish(msg)\n",
    "    \n",
    "    msg.id = 2\n",
    "    del msg.points[:]\n",
    "    msg.points.append(Point(hip_left_pos[0],hip_left_pos[1],hip_left_pos[2]))\n",
    "    msg.points.append(Point(hip_right_pos[0],hip_right_pos[1],hip_right_pos[2]))\n",
    "    visualization_pub.publish(msg)\n",
    "    \n",
    "    msg.id = 3\n",
    "    del msg.points[:]\n",
    "    msg.points.append(Point(hip_right_pos[0],hip_right_pos[1],hip_right_pos[2]))\n",
    "    msg.points.append(Point(knee_right_pos[0],knee_right_pos[1],knee_right_pos[2]))\n",
    "    visualization_pub.publish(msg)\n",
    "    \n",
    "    msg.id = 4\n",
    "    del msg.points[:]\n",
    "    msg.points.append(Point(knee_right_pos[0],knee_right_pos[1],knee_right_pos[2]))\n",
    "    msg.points.append(Point(ankle_right_pos[0],ankle_right_pos[1],ankle_right_pos[2]))\n",
    "    visualization_pub.publish(msg)\n",
    "    \n"
   ]
  }
 ],
 "metadata": {
  "kernelspec": {
   "display_name": "Python 2",
   "language": "python",
   "name": "python2"
  },
  "language_info": {
   "codemirror_mode": {
    "name": "ipython",
    "version": 2
   },
   "file_extension": ".py",
   "mimetype": "text/x-python",
   "name": "python",
   "nbconvert_exporter": "python",
   "pygments_lexer": "ipython2",
   "version": "2.7.12"
  }
 },
 "nbformat": 4,
 "nbformat_minor": 2
}
