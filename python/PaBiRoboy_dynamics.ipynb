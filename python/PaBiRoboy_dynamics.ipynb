{
 "cells": [
  {
   "cell_type": "markdown",
   "metadata": {},
   "source": [
    "# PaBiRoboy dynamic equations"
   ]
  },
  {
   "cell_type": "markdown",
   "metadata": {},
   "source": [
    "First, import the necessary functions from SymPy that will allow us to construct time varying vectors in the reference frames."
   ]
  },
  {
   "cell_type": "code",
   "execution_count": 1,
   "metadata": {
    "collapsed": true
   },
   "outputs": [],
   "source": [
    "from __future__ import print_function, division\n",
    "from sympy import symbols, simplify, Matrix\n",
    "from sympy import trigsimp\n",
    "from sympy.physics.mechanics import dynamicsymbols, ReferenceFrame, Point, inertia, RigidBody, KanesMethod\n",
    "from numpy import deg2rad, rad2deg, array, zeros, linspace\n",
    "from sympy.physics.vector import init_vprinting, vlatex\n",
    "import numpy as np\n",
    "from scipy.integrate import odeint\n",
    "from pydy.codegen.ode_function_generators import generate_ode_function\n",
    "%matplotlib inline\n",
    "from matplotlib.pyplot import plot, legend, xlabel, ylabel, rcParams\n",
    "rcParams['figure.figsize'] = (14.0, 6.0)\n",
    "import rospy"
   ]
  },
  {
   "cell_type": "markdown",
   "metadata": {},
   "source": [
    "SymPy has a rich printing system. Here we initialize printing so that all of the mathematical equations are rendered in standard mathematical notation."
   ]
  },
  {
   "cell_type": "code",
   "execution_count": 2,
   "metadata": {
    "collapsed": true
   },
   "outputs": [],
   "source": [
    "from sympy.physics.vector import init_vprinting\n",
    "init_vprinting(use_latex='mathjax', pretty_print=False)"
   ]
  },
  {
   "cell_type": "markdown",
   "metadata": {},
   "source": [
    "## Interial frames"
   ]
  },
  {
   "cell_type": "code",
   "execution_count": 3,
   "metadata": {
    "collapsed": true
   },
   "outputs": [],
   "source": [
    "inertial_frame = ReferenceFrame('I')\n",
    "lower_leg_left_frame = ReferenceFrame('R_1')\n",
    "upper_leg_left_frame = ReferenceFrame('R_2')\n",
    "hip_frame = ReferenceFrame('R_3')\n",
    "upper_leg_right_frame = ReferenceFrame('R_4')\n",
    "lower_leg_right_frame = ReferenceFrame('R_5')"
   ]
  },
  {
   "cell_type": "markdown",
   "metadata": {},
   "source": [
    "## Angles"
   ]
  },
  {
   "cell_type": "code",
   "execution_count": 4,
   "metadata": {
    "collapsed": true
   },
   "outputs": [],
   "source": [
    "theta0, theta1, theta2, theta3, theta4 = dynamicsymbols('theta0, theta1, theta2, theta3, theta4')"
   ]
  },
  {
   "cell_type": "code",
   "execution_count": 5,
   "metadata": {},
   "outputs": [
    {
     "data": {
      "text/latex": [
       "$$\\left[\\begin{matrix}\\operatorname{cos}\\left(\\theta_{0}\\right) & \\operatorname{sin}\\left(\\theta_{0}\\right) & 0\\\\- \\operatorname{sin}\\left(\\theta_{0}\\right) & \\operatorname{cos}\\left(\\theta_{0}\\right) & 0\\\\0 & 0 & 1\\end{matrix}\\right]$$"
      ],
      "text/plain": [
       "Matrix([\n",
       "[ cos(theta0), sin(theta0), 0],\n",
       "[-sin(theta0), cos(theta0), 0],\n",
       "[           0,           0, 1]])"
      ]
     },
     "execution_count": 5,
     "metadata": {},
     "output_type": "execute_result"
    }
   ],
   "source": [
    "hip_frame.orient(inertial_frame, 'Axis', (theta0, inertial_frame.z))\n",
    "hip_frame.dcm(inertial_frame)"
   ]
  },
  {
   "cell_type": "code",
   "execution_count": 6,
   "metadata": {},
   "outputs": [
    {
     "data": {
      "text/latex": [
       "$$\\left[\\begin{matrix}\\operatorname{cos}\\left(\\theta_{0} + \\theta_{1}\\right) & \\operatorname{sin}\\left(\\theta_{0} + \\theta_{1}\\right) & 0\\\\- \\operatorname{sin}\\left(\\theta_{0} + \\theta_{1}\\right) & \\operatorname{cos}\\left(\\theta_{0} + \\theta_{1}\\right) & 0\\\\0 & 0 & 1\\end{matrix}\\right]$$"
      ],
      "text/plain": [
       "Matrix([\n",
       "[ cos(theta0 + theta1), sin(theta0 + theta1), 0],\n",
       "[-sin(theta0 + theta1), cos(theta0 + theta1), 0],\n",
       "[                    0,                    0, 1]])"
      ]
     },
     "execution_count": 6,
     "metadata": {},
     "output_type": "execute_result"
    }
   ],
   "source": [
    "upper_leg_left_frame.orient(hip_frame, 'Axis', (theta1, hip_frame.z))\n",
    "simplify(upper_leg_left_frame.dcm(inertial_frame))"
   ]
  },
  {
   "cell_type": "code",
   "execution_count": 7,
   "metadata": {},
   "outputs": [
    {
     "data": {
      "text/latex": [
       "$$\\left[\\begin{matrix}\\operatorname{cos}\\left(\\theta_{0} + \\theta_{1} + \\theta_{2}\\right) & \\operatorname{sin}\\left(\\theta_{0} + \\theta_{1} + \\theta_{2}\\right) & 0\\\\- \\operatorname{sin}\\left(\\theta_{0} + \\theta_{1} + \\theta_{2}\\right) & \\operatorname{cos}\\left(\\theta_{0} + \\theta_{1} + \\theta_{2}\\right) & 0\\\\0 & 0 & 1\\end{matrix}\\right]$$"
      ],
      "text/plain": [
       "Matrix([\n",
       "[ cos(theta0 + theta1 + theta2), sin(theta0 + theta1 + theta2), 0],\n",
       "[-sin(theta0 + theta1 + theta2), cos(theta0 + theta1 + theta2), 0],\n",
       "[                             0,                             0, 1]])"
      ]
     },
     "execution_count": 7,
     "metadata": {},
     "output_type": "execute_result"
    }
   ],
   "source": [
    "lower_leg_left_frame.orient(upper_leg_left_frame, 'Axis', (theta2, upper_leg_left_frame.z))\n",
    "simplify(lower_leg_left_frame.dcm(inertial_frame))"
   ]
  },
  {
   "cell_type": "code",
   "execution_count": 8,
   "metadata": {},
   "outputs": [
    {
     "data": {
      "text/latex": [
       "$$\\left[\\begin{matrix}\\operatorname{cos}\\left(\\theta_{0} + \\theta_{3}\\right) & \\operatorname{sin}\\left(\\theta_{0} + \\theta_{3}\\right) & 0\\\\- \\operatorname{sin}\\left(\\theta_{0} + \\theta_{3}\\right) & \\operatorname{cos}\\left(\\theta_{0} + \\theta_{3}\\right) & 0\\\\0 & 0 & 1\\end{matrix}\\right]$$"
      ],
      "text/plain": [
       "Matrix([\n",
       "[ cos(theta0 + theta3), sin(theta0 + theta3), 0],\n",
       "[-sin(theta0 + theta3), cos(theta0 + theta3), 0],\n",
       "[                    0,                    0, 1]])"
      ]
     },
     "execution_count": 8,
     "metadata": {},
     "output_type": "execute_result"
    }
   ],
   "source": [
    "upper_leg_right_frame.orient(hip_frame, 'Axis', (theta3, hip_frame.z))\n",
    "simplify(upper_leg_right_frame.dcm(inertial_frame))"
   ]
  },
  {
   "cell_type": "code",
   "execution_count": 9,
   "metadata": {},
   "outputs": [
    {
     "data": {
      "text/latex": [
       "$$\\left[\\begin{matrix}\\operatorname{cos}\\left(\\theta_{0} + \\theta_{3} + \\theta_{4}\\right) & \\operatorname{sin}\\left(\\theta_{0} + \\theta_{3} + \\theta_{4}\\right) & 0\\\\- \\operatorname{sin}\\left(\\theta_{0} + \\theta_{3} + \\theta_{4}\\right) & \\operatorname{cos}\\left(\\theta_{0} + \\theta_{3} + \\theta_{4}\\right) & 0\\\\0 & 0 & 1\\end{matrix}\\right]$$"
      ],
      "text/plain": [
       "Matrix([\n",
       "[ cos(theta0 + theta3 + theta4), sin(theta0 + theta3 + theta4), 0],\n",
       "[-sin(theta0 + theta3 + theta4), cos(theta0 + theta3 + theta4), 0],\n",
       "[                             0,                             0, 1]])"
      ]
     },
     "execution_count": 9,
     "metadata": {},
     "output_type": "execute_result"
    }
   ],
   "source": [
    "lower_leg_right_frame.orient(upper_leg_right_frame, 'Axis', (theta4, upper_leg_right_frame.z))\n",
    "simplify(lower_leg_right_frame.dcm(inertial_frame))"
   ]
  },
  {
   "cell_type": "markdown",
   "metadata": {},
   "source": [
    "## Points and Locations"
   ]
  },
  {
   "cell_type": "code",
   "execution_count": 10,
   "metadata": {
    "collapsed": true
   },
   "outputs": [],
   "source": [
    "origin = Point('Origin')\n",
    "ankle_left = Point('AnkleLeft')\n",
    "knee_left = Point('KneeLeft')\n",
    "hip_left = Point('HipLeft')\n",
    "hip_center = Point('HipCenter')\n",
    "hip_right = Point('HipRight')\n",
    "knee_right = Point('KneeRight')\n",
    "ankle_right = Point('AnkleRight')"
   ]
  },
  {
   "cell_type": "code",
   "execution_count": 11,
   "metadata": {
    "collapsed": true
   },
   "outputs": [],
   "source": [
    "lower_leg_length, upper_leg_length, hip_length = symbols('l1, l2, l3')"
   ]
  },
  {
   "cell_type": "code",
   "execution_count": 12,
   "metadata": {
    "collapsed": true
   },
   "outputs": [],
   "source": [
    "hip_offset_x, hip_offset_y = symbols('hip_x, hip_y')"
   ]
  },
  {
   "cell_type": "code",
   "execution_count": 13,
   "metadata": {},
   "outputs": [
    {
     "data": {
      "text/latex": [
       "$$hip_{x}\\mathbf{\\hat{i}_x} + hip_{y}\\mathbf{\\hat{i}_y}$$"
      ],
      "text/plain": [
       "hip_x*I.x + hip_y*I.y"
      ]
     },
     "execution_count": 13,
     "metadata": {},
     "output_type": "execute_result"
    }
   ],
   "source": [
    "hip_center.set_pos(origin, (hip_offset_y * inertial_frame.y)+(hip_offset_x * inertial_frame.x))\n",
    "hip_center.pos_from(origin).express(inertial_frame).simplify()"
   ]
  },
  {
   "cell_type": "code",
   "execution_count": 14,
   "metadata": {},
   "outputs": [
    {
     "data": {
      "text/latex": [
       "$$(hip_{x} - \\frac{l_{3} \\operatorname{sin}\\left(\\theta_{0}\\right)}{2})\\mathbf{\\hat{i}_x} + (hip_{y} + \\frac{l_{3} \\operatorname{cos}\\left(\\theta_{0}\\right)}{2})\\mathbf{\\hat{i}_y}$$"
      ],
      "text/plain": [
       "(hip_x - l3*sin(theta0)/2)*I.x + (hip_y + l3*cos(theta0)/2)*I.y"
      ]
     },
     "execution_count": 14,
     "metadata": {},
     "output_type": "execute_result"
    }
   ],
   "source": [
    "hip_left.set_pos(hip_center, hip_length/2 * hip_frame.y)\n",
    "hip_left.pos_from(origin).express(inertial_frame).simplify()"
   ]
  },
  {
   "cell_type": "code",
   "execution_count": 15,
   "metadata": {},
   "outputs": [
    {
     "data": {
      "text/latex": [
       "$$(hip_{x} + \\frac{l_{3} \\operatorname{sin}\\left(\\theta_{0}\\right)}{2})\\mathbf{\\hat{i}_x} + (hip_{y} - \\frac{l_{3} \\operatorname{cos}\\left(\\theta_{0}\\right)}{2})\\mathbf{\\hat{i}_y}$$"
      ],
      "text/plain": [
       "(hip_x + l3*sin(theta0)/2)*I.x + (hip_y - l3*cos(theta0)/2)*I.y"
      ]
     },
     "execution_count": 15,
     "metadata": {},
     "output_type": "execute_result"
    }
   ],
   "source": [
    "hip_right.set_pos(hip_center, -hip_length/2 * hip_frame.y)\n",
    "hip_right.pos_from(origin).express(inertial_frame).simplify()"
   ]
  },
  {
   "cell_type": "code",
   "execution_count": 16,
   "metadata": {},
   "outputs": [
    {
     "data": {
      "text/latex": [
       "$$(hip_{x} - l_{2} \\operatorname{sin}\\left(\\theta_{0} + \\theta_{1}\\right) - \\frac{l_{3} \\operatorname{sin}\\left(\\theta_{0}\\right)}{2})\\mathbf{\\hat{i}_x} + (hip_{y} + l_{2} \\operatorname{cos}\\left(\\theta_{0} + \\theta_{1}\\right) + \\frac{l_{3} \\operatorname{cos}\\left(\\theta_{0}\\right)}{2})\\mathbf{\\hat{i}_y}$$"
      ],
      "text/plain": [
       "(hip_x - l2*sin(theta0 + theta1) - l3*sin(theta0)/2)*I.x + (hip_y + l2*cos(theta0 + theta1) + l3*cos(theta0)/2)*I.y"
      ]
     },
     "execution_count": 16,
     "metadata": {},
     "output_type": "execute_result"
    }
   ],
   "source": [
    "knee_left.set_pos(hip_left, upper_leg_length * upper_leg_left_frame.y)\n",
    "knee_left.pos_from(origin).express(inertial_frame).simplify()"
   ]
  },
  {
   "cell_type": "code",
   "execution_count": 17,
   "metadata": {},
   "outputs": [
    {
     "data": {
      "text/latex": [
       "$$(hip_{x} - l_{2} \\operatorname{sin}\\left(\\theta_{0} + \\theta_{3}\\right) + \\frac{l_{3} \\operatorname{sin}\\left(\\theta_{0}\\right)}{2})\\mathbf{\\hat{i}_x} + (hip_{y} + l_{2} \\operatorname{cos}\\left(\\theta_{0} + \\theta_{3}\\right) - \\frac{l_{3} \\operatorname{cos}\\left(\\theta_{0}\\right)}{2})\\mathbf{\\hat{i}_y}$$"
      ],
      "text/plain": [
       "(hip_x - l2*sin(theta0 + theta3) + l3*sin(theta0)/2)*I.x + (hip_y + l2*cos(theta0 + theta3) - l3*cos(theta0)/2)*I.y"
      ]
     },
     "execution_count": 17,
     "metadata": {},
     "output_type": "execute_result"
    }
   ],
   "source": [
    "knee_right.set_pos(hip_right, upper_leg_length * upper_leg_right_frame.y)\n",
    "knee_right.pos_from(origin).express(inertial_frame).simplify()"
   ]
  },
  {
   "cell_type": "code",
   "execution_count": 18,
   "metadata": {},
   "outputs": [
    {
     "data": {
      "text/latex": [
       "$$(hip_{x} - l_{1} \\operatorname{sin}\\left(\\theta_{0} + \\theta_{1} + \\theta_{2}\\right) - l_{2} \\operatorname{sin}\\left(\\theta_{0} + \\theta_{1}\\right) - \\frac{l_{3} \\operatorname{sin}\\left(\\theta_{0}\\right)}{2})\\mathbf{\\hat{i}_x} + (hip_{y} + l_{1} \\operatorname{cos}\\left(\\theta_{0} + \\theta_{1} + \\theta_{2}\\right) + l_{2} \\operatorname{cos}\\left(\\theta_{0} + \\theta_{1}\\right) + \\frac{l_{3} \\operatorname{cos}\\left(\\theta_{0}\\right)}{2})\\mathbf{\\hat{i}_y}$$"
      ],
      "text/plain": [
       "(hip_x - l1*sin(theta0 + theta1 + theta2) - l2*sin(theta0 + theta1) - l3*sin(theta0)/2)*I.x + (hip_y + l1*cos(theta0 + theta1 + theta2) + l2*cos(theta0 + theta1) + l3*cos(theta0)/2)*I.y"
      ]
     },
     "execution_count": 18,
     "metadata": {},
     "output_type": "execute_result"
    }
   ],
   "source": [
    "ankle_left.set_pos(knee_left, lower_leg_length * lower_leg_left_frame.y)\n",
    "ankle_left.pos_from(origin).express(inertial_frame).simplify()"
   ]
  },
  {
   "cell_type": "code",
   "execution_count": 19,
   "metadata": {},
   "outputs": [
    {
     "data": {
      "text/latex": [
       "$$(hip_{x} - l_{1} \\operatorname{sin}\\left(\\theta_{0} + \\theta_{3} + \\theta_{4}\\right) - l_{2} \\operatorname{sin}\\left(\\theta_{0} + \\theta_{3}\\right) + \\frac{l_{3} \\operatorname{sin}\\left(\\theta_{0}\\right)}{2})\\mathbf{\\hat{i}_x} + (hip_{y} + l_{1} \\operatorname{cos}\\left(\\theta_{0} + \\theta_{3} + \\theta_{4}\\right) + l_{2} \\operatorname{cos}\\left(\\theta_{0} + \\theta_{3}\\right) - \\frac{l_{3} \\operatorname{cos}\\left(\\theta_{0}\\right)}{2})\\mathbf{\\hat{i}_y}$$"
      ],
      "text/plain": [
       "(hip_x - l1*sin(theta0 + theta3 + theta4) - l2*sin(theta0 + theta3) + l3*sin(theta0)/2)*I.x + (hip_y + l1*cos(theta0 + theta3 + theta4) + l2*cos(theta0 + theta3) - l3*cos(theta0)/2)*I.y"
      ]
     },
     "execution_count": 19,
     "metadata": {},
     "output_type": "execute_result"
    }
   ],
   "source": [
    "ankle_right.set_pos(knee_right, lower_leg_length * lower_leg_right_frame.y)\n",
    "ankle_right.pos_from(origin).express(inertial_frame).simplify()"
   ]
  },
  {
   "cell_type": "code",
   "execution_count": 20,
   "metadata": {
    "collapsed": true
   },
   "outputs": [],
   "source": [
    "lower_leg_left_com_length = lower_leg_length/2\n",
    "upper_leg_left_com_length = upper_leg_length/2\n",
    "hip_com_length = hip_length/2\n",
    "upper_leg_right_com_length = upper_leg_length/2\n",
    "lower_leg_right_com_length = lower_leg_length/2\n",
    "\n",
    "lower_leg_left_mass_center = Point('L_COMleft')\n",
    "upper_leg_left_mass_center = Point('U_COMleft')\n",
    "hip_mass_center = Point('H_COMleft')\n",
    "upper_leg_right_mass_center = Point('U_COMright')\n",
    "lower_leg_right_mass_center = Point('L_COMright')"
   ]
  },
  {
   "cell_type": "code",
   "execution_count": 21,
   "metadata": {},
   "outputs": [
    {
     "data": {
      "text/latex": [
       "$$(hip_{x} - \\frac{3 l_{1}}{2} \\operatorname{sin}\\left(\\theta_{0} + \\theta_{1} + \\theta_{2}\\right) - l_{2} \\operatorname{sin}\\left(\\theta_{0} + \\theta_{1}\\right) - \\frac{l_{3} \\operatorname{sin}\\left(\\theta_{0}\\right)}{2})\\mathbf{\\hat{i}_x} + (hip_{y} + \\frac{3 l_{1}}{2} \\operatorname{cos}\\left(\\theta_{0} + \\theta_{1} + \\theta_{2}\\right) + l_{2} \\operatorname{cos}\\left(\\theta_{0} + \\theta_{1}\\right) + \\frac{l_{3} \\operatorname{cos}\\left(\\theta_{0}\\right)}{2})\\mathbf{\\hat{i}_y}$$"
      ],
      "text/plain": [
       "(hip_x - 3*l1*sin(theta0 + theta1 + theta2)/2 - l2*sin(theta0 + theta1) - l3*sin(theta0)/2)*I.x + (hip_y + 3*l1*cos(theta0 + theta1 + theta2)/2 + l2*cos(theta0 + theta1) + l3*cos(theta0)/2)*I.y"
      ]
     },
     "execution_count": 21,
     "metadata": {},
     "output_type": "execute_result"
    }
   ],
   "source": [
    "lower_leg_left_mass_center.set_pos(ankle_left, lower_leg_left_com_length * lower_leg_left_frame.y)\n",
    "lower_leg_left_mass_center.pos_from(origin).express(inertial_frame).simplify()"
   ]
  },
  {
   "cell_type": "code",
   "execution_count": 22,
   "metadata": {},
   "outputs": [
    {
     "data": {
      "text/latex": [
       "$$(hip_{x} - \\frac{3 l_{2}}{2} \\operatorname{sin}\\left(\\theta_{0} + \\theta_{1}\\right) - \\frac{l_{3} \\operatorname{sin}\\left(\\theta_{0}\\right)}{2})\\mathbf{\\hat{i}_x} + (hip_{y} + \\frac{3 l_{2}}{2} \\operatorname{cos}\\left(\\theta_{0} + \\theta_{1}\\right) + \\frac{l_{3} \\operatorname{cos}\\left(\\theta_{0}\\right)}{2})\\mathbf{\\hat{i}_y}$$"
      ],
      "text/plain": [
       "(hip_x - 3*l2*sin(theta0 + theta1)/2 - l3*sin(theta0)/2)*I.x + (hip_y + 3*l2*cos(theta0 + theta1)/2 + l3*cos(theta0)/2)*I.y"
      ]
     },
     "execution_count": 22,
     "metadata": {},
     "output_type": "execute_result"
    }
   ],
   "source": [
    "upper_leg_left_mass_center.set_pos(knee_left, upper_leg_left_com_length * upper_leg_left_frame.y)\n",
    "upper_leg_left_mass_center.pos_from(origin).express(inertial_frame).simplify()"
   ]
  },
  {
   "cell_type": "code",
   "execution_count": 23,
   "metadata": {},
   "outputs": [
    {
     "data": {
      "text/latex": [
       "$$hip_{x}\\mathbf{\\hat{i}_x} + hip_{y}\\mathbf{\\hat{i}_y}$$"
      ],
      "text/plain": [
       "hip_x*I.x + hip_y*I.y"
      ]
     },
     "execution_count": 23,
     "metadata": {},
     "output_type": "execute_result"
    }
   ],
   "source": [
    "hip_mass_center.set_pos(hip_center, 0 * hip_frame.y)\n",
    "hip_mass_center.pos_from(origin).express(inertial_frame).simplify()"
   ]
  },
  {
   "cell_type": "code",
   "execution_count": 24,
   "metadata": {},
   "outputs": [
    {
     "data": {
      "text/latex": [
       "$$(hip_{x} - \\frac{l_{2}}{2} \\operatorname{sin}\\left(\\theta_{0} + \\theta_{3}\\right) + \\frac{l_{3} \\operatorname{sin}\\left(\\theta_{0}\\right)}{2})\\mathbf{\\hat{i}_x} + (hip_{y} + \\frac{l_{2}}{2} \\operatorname{cos}\\left(\\theta_{0} + \\theta_{3}\\right) - \\frac{l_{3} \\operatorname{cos}\\left(\\theta_{0}\\right)}{2})\\mathbf{\\hat{i}_y}$$"
      ],
      "text/plain": [
       "(hip_x - l2*sin(theta0 + theta3)/2 + l3*sin(theta0)/2)*I.x + (hip_y + l2*cos(theta0 + theta3)/2 - l3*cos(theta0)/2)*I.y"
      ]
     },
     "execution_count": 24,
     "metadata": {},
     "output_type": "execute_result"
    }
   ],
   "source": [
    "upper_leg_right_mass_center.set_pos(hip_right, upper_leg_right_com_length * upper_leg_right_frame.y)\n",
    "upper_leg_right_mass_center.pos_from(origin).express(inertial_frame).simplify()"
   ]
  },
  {
   "cell_type": "code",
   "execution_count": 25,
   "metadata": {},
   "outputs": [
    {
     "data": {
      "text/latex": [
       "$$(hip_{x} - \\frac{l_{1}}{2} \\operatorname{sin}\\left(\\theta_{0} + \\theta_{3} + \\theta_{4}\\right) - l_{2} \\operatorname{sin}\\left(\\theta_{0} + \\theta_{3}\\right) + \\frac{l_{3} \\operatorname{sin}\\left(\\theta_{0}\\right)}{2})\\mathbf{\\hat{i}_x} + (hip_{y} + \\frac{l_{1}}{2} \\operatorname{cos}\\left(\\theta_{0} + \\theta_{3} + \\theta_{4}\\right) + l_{2} \\operatorname{cos}\\left(\\theta_{0} + \\theta_{3}\\right) - \\frac{l_{3} \\operatorname{cos}\\left(\\theta_{0}\\right)}{2})\\mathbf{\\hat{i}_y}$$"
      ],
      "text/plain": [
       "(hip_x - l1*sin(theta0 + theta3 + theta4)/2 - l2*sin(theta0 + theta3) + l3*sin(theta0)/2)*I.x + (hip_y + l1*cos(theta0 + theta3 + theta4)/2 + l2*cos(theta0 + theta3) - l3*cos(theta0)/2)*I.y"
      ]
     },
     "execution_count": 25,
     "metadata": {},
     "output_type": "execute_result"
    }
   ],
   "source": [
    "lower_leg_right_mass_center.set_pos(knee_right, lower_leg_right_com_length * lower_leg_right_frame.y)\n",
    "lower_leg_right_mass_center.pos_from(origin).express(inertial_frame).simplify()"
   ]
  },
  {
   "cell_type": "markdown",
   "metadata": {},
   "source": [
    "# Jacobian"
   ]
  },
  {
   "cell_type": "raw",
   "metadata": {},
   "source": [
    "#### We want to control the hip_center wrt to each foot"
   ]
  },
  {
   "cell_type": "code",
   "execution_count": 26,
   "metadata": {},
   "outputs": [
    {
     "data": {
      "text/latex": [
       "$$\\left[\\begin{matrix}l_{1} \\operatorname{sin}\\left(\\theta_{0} + \\theta_{1} + \\theta_{2}\\right) + l_{2} \\operatorname{sin}\\left(\\theta_{0} + \\theta_{1}\\right) + \\frac{l_{3} \\operatorname{sin}\\left(\\theta_{0}\\right)}{2}\\\\- l_{1} \\operatorname{cos}\\left(\\theta_{0} + \\theta_{1} + \\theta_{2}\\right) - l_{2} \\operatorname{cos}\\left(\\theta_{0} + \\theta_{1}\\right) - \\frac{l_{3} \\operatorname{cos}\\left(\\theta_{0}\\right)}{2}\\end{matrix}\\right]$$"
      ],
      "text/plain": [
       "Matrix([\n",
       "[ l1*sin(theta0 + theta1 + theta2) + l2*sin(theta0 + theta1) + l3*sin(theta0)/2],\n",
       "[-l1*cos(theta0 + theta1 + theta2) - l2*cos(theta0 + theta1) - l3*cos(theta0)/2]])"
      ]
     },
     "execution_count": 26,
     "metadata": {},
     "output_type": "execute_result"
    }
   ],
   "source": [
    "F0 = hip_center.pos_from(ankle_left).express(inertial_frame).simplify().to_matrix(inertial_frame)\n",
    "F0 = Matrix([F0[0], F0[1]])\n",
    "F0"
   ]
  },
  {
   "cell_type": "code",
   "execution_count": 27,
   "metadata": {},
   "outputs": [
    {
     "data": {
      "text/latex": [
       "$$\\left[\\begin{matrix}l_{1} \\operatorname{sin}\\left(\\theta_{0} + \\theta_{3} + \\theta_{4}\\right) + l_{2} \\operatorname{sin}\\left(\\theta_{0} + \\theta_{3}\\right) - \\frac{l_{3} \\operatorname{sin}\\left(\\theta_{0}\\right)}{2}\\\\- l_{1} \\operatorname{cos}\\left(\\theta_{0} + \\theta_{3} + \\theta_{4}\\right) - l_{2} \\operatorname{cos}\\left(\\theta_{0} + \\theta_{3}\\right) + \\frac{l_{3} \\operatorname{cos}\\left(\\theta_{0}\\right)}{2}\\end{matrix}\\right]$$"
      ],
      "text/plain": [
       "Matrix([\n",
       "[ l1*sin(theta0 + theta3 + theta4) + l2*sin(theta0 + theta3) - l3*sin(theta0)/2],\n",
       "[-l1*cos(theta0 + theta3 + theta4) - l2*cos(theta0 + theta3) + l3*cos(theta0)/2]])"
      ]
     },
     "execution_count": 27,
     "metadata": {},
     "output_type": "execute_result"
    }
   ],
   "source": [
    "F1 = hip_center.pos_from(ankle_right).express(inertial_frame).simplify().to_matrix(inertial_frame)\n",
    "F1 = Matrix([F1[0], F1[1]])\n",
    "F1"
   ]
  },
  {
   "cell_type": "code",
   "execution_count": 28,
   "metadata": {},
   "outputs": [
    {
     "data": {
      "text/latex": [
       "$$\\left[\\begin{matrix}l_{1} \\operatorname{cos}\\left(\\theta_{0} + \\theta_{1} + \\theta_{2}\\right) + l_{2} \\operatorname{cos}\\left(\\theta_{0} + \\theta_{1}\\right) & l_{1} \\operatorname{cos}\\left(\\theta_{0} + \\theta_{1} + \\theta_{2}\\right)\\\\l_{1} \\operatorname{sin}\\left(\\theta_{0} + \\theta_{1} + \\theta_{2}\\right) + l_{2} \\operatorname{sin}\\left(\\theta_{0} + \\theta_{1}\\right) & l_{1} \\operatorname{sin}\\left(\\theta_{0} + \\theta_{1} + \\theta_{2}\\right)\\end{matrix}\\right]$$"
      ],
      "text/plain": [
       "Matrix([\n",
       "[l1*cos(theta0 + theta1 + theta2) + l2*cos(theta0 + theta1), l1*cos(theta0 + theta1 + theta2)],\n",
       "[l1*sin(theta0 + theta1 + theta2) + l2*sin(theta0 + theta1), l1*sin(theta0 + theta1 + theta2)]])"
      ]
     },
     "execution_count": 28,
     "metadata": {},
     "output_type": "execute_result"
    }
   ],
   "source": [
    "J_ankleLeft = F0.jacobian([theta1, theta2])\n",
    "J_ankleLeft"
   ]
  },
  {
   "cell_type": "code",
   "execution_count": 29,
   "metadata": {},
   "outputs": [
    {
     "data": {
      "text/latex": [
       "$$\\left[\\begin{matrix}l_{1} \\operatorname{cos}\\left(\\theta_{0} + \\theta_{3} + \\theta_{4}\\right) + l_{2} \\operatorname{cos}\\left(\\theta_{0} + \\theta_{3}\\right) & l_{1} \\operatorname{cos}\\left(\\theta_{0} + \\theta_{3} + \\theta_{4}\\right)\\\\l_{1} \\operatorname{sin}\\left(\\theta_{0} + \\theta_{3} + \\theta_{4}\\right) + l_{2} \\operatorname{sin}\\left(\\theta_{0} + \\theta_{3}\\right) & l_{1} \\operatorname{sin}\\left(\\theta_{0} + \\theta_{3} + \\theta_{4}\\right)\\end{matrix}\\right]$$"
      ],
      "text/plain": [
       "Matrix([\n",
       "[l1*cos(theta0 + theta3 + theta4) + l2*cos(theta0 + theta3), l1*cos(theta0 + theta3 + theta4)],\n",
       "[l1*sin(theta0 + theta3 + theta4) + l2*sin(theta0 + theta3), l1*sin(theta0 + theta3 + theta4)]])"
      ]
     },
     "execution_count": 29,
     "metadata": {},
     "output_type": "execute_result"
    }
   ],
   "source": [
    "J_ankleRight = F1.jacobian([theta3, theta4])\n",
    "J_ankleRight"
   ]
  },
  {
   "cell_type": "code",
   "execution_count": 30,
   "metadata": {},
   "outputs": [
    {
     "data": {
      "text/latex": [
       "$$\\left[\\begin{matrix}l_{1} \\operatorname{cos}\\left(\\theta_{0} + \\theta_{1} + \\theta_{2}\\right) + l_{2} \\operatorname{cos}\\left(\\theta_{0} + \\theta_{1}\\right) & l_{1} \\operatorname{cos}\\left(\\theta_{0} + \\theta_{1} + \\theta_{2}\\right) & l_{1} \\operatorname{cos}\\left(\\theta_{0} + \\theta_{3} + \\theta_{4}\\right) + l_{2} \\operatorname{cos}\\left(\\theta_{0} + \\theta_{3}\\right) & l_{1} \\operatorname{cos}\\left(\\theta_{0} + \\theta_{3} + \\theta_{4}\\right)\\\\l_{1} \\operatorname{sin}\\left(\\theta_{0} + \\theta_{1} + \\theta_{2}\\right) + l_{2} \\operatorname{sin}\\left(\\theta_{0} + \\theta_{1}\\right) & l_{1} \\operatorname{sin}\\left(\\theta_{0} + \\theta_{1} + \\theta_{2}\\right) & l_{1} \\operatorname{sin}\\left(\\theta_{0} + \\theta_{3} + \\theta_{4}\\right) + l_{2} \\operatorname{sin}\\left(\\theta_{0} + \\theta_{3}\\right) & l_{1} \\operatorname{sin}\\left(\\theta_{0} + \\theta_{3} + \\theta_{4}\\right)\\end{matrix}\\right]$$"
      ],
      "text/plain": [
       "Matrix([\n",
       "[l1*cos(theta0 + theta1 + theta2) + l2*cos(theta0 + theta1), l1*cos(theta0 + theta1 + theta2), l1*cos(theta0 + theta3 + theta4) + l2*cos(theta0 + theta3), l1*cos(theta0 + theta3 + theta4)],\n",
       "[l1*sin(theta0 + theta1 + theta2) + l2*sin(theta0 + theta1), l1*sin(theta0 + theta1 + theta2), l1*sin(theta0 + theta3 + theta4) + l2*sin(theta0 + theta3), l1*sin(theta0 + theta3 + theta4)]])"
      ]
     },
     "execution_count": 30,
     "metadata": {},
     "output_type": "execute_result"
    }
   ],
   "source": [
    "J = J_ankleLeft.row_join(J_ankleRight)\n",
    "J"
   ]
  },
  {
   "cell_type": "code",
   "execution_count": 31,
   "metadata": {
    "collapsed": true
   },
   "outputs": [],
   "source": [
    "# constraint = F1 - offset\n",
    "# J_ankleRight = constraint.jacobian([theta0, theta1, theta2, theta3, theta4])\n",
    "# J_ankleRight"
   ]
  },
  {
   "cell_type": "code",
   "execution_count": 32,
   "metadata": {},
   "outputs": [
    {
     "data": {
      "text/latex": [
       "$$\\left[\\begin{matrix}1.84260030607042 & -9.08983268364918\\\\-3.09260030607042 & 21.5481382127232\\\\1.84260030607042 & -9.08983268364918\\\\-3.09260030607042 & 21.5481382127232\\end{matrix}\\right]$$"
      ],
      "text/plain": [
       "Matrix([\n",
       "[ 1.84260030607042, -9.08983268364918],\n",
       "[-3.09260030607042,  21.5481382127232],\n",
       "[ 1.84260030607042, -9.08983268364918],\n",
       "[-3.09260030607042,  21.5481382127232]])"
      ]
     },
     "execution_count": 32,
     "metadata": {},
     "output_type": "execute_result"
    }
   ],
   "source": [
    "values = {lower_leg_length: 0.4, upper_leg_length: 0.54, hip_length: 0.2, theta0: 0.0, theta1: 0.1, theta2: 0.1, theta3: 0.1, theta4: 0.1}\n",
    "J.subs(values).pinv()"
   ]
  },
  {
   "cell_type": "code",
   "execution_count": 33,
   "metadata": {},
   "outputs": [
    {
     "data": {
      "text/latex": [
       "$$\\left[\\begin{matrix}0.6\\\\0.8\\end{matrix}\\right]$$"
      ],
      "text/plain": [
       "Matrix([\n",
       "[0.6],\n",
       "[0.8]])"
      ]
     },
     "execution_count": 33,
     "metadata": {},
     "output_type": "execute_result"
    }
   ],
   "source": [
    "kp=500\n",
    "hip_desired = Matrix([0.6, 0.8])\n",
    "x_des = Matrix([hip_desired])\n",
    "x_des"
   ]
  },
  {
   "cell_type": "code",
   "execution_count": 34,
   "metadata": {
    "collapsed": true
   },
   "outputs": [],
   "source": [
    "ankle_left_pos_equation = ankle_left.pos_from(hip_center).express(inertial_frame).simplify()\n",
    "knee_left_pos_equation = knee_left.pos_from(hip_center).express(inertial_frame).simplify()\n",
    "hip_left_pos_equation = hip_left.pos_from(hip_center).express(inertial_frame).simplify()\n",
    "hip_right_pos_equation = hip_right.pos_from(hip_center).express(inertial_frame).simplify()\n",
    "knee_right_pos_equation = knee_right.pos_from(hip_center).express(inertial_frame).simplify()\n",
    "ankle_right_pos_equation = ankle_right.pos_from(hip_center).express(inertial_frame).simplify()\n",
    "hip_center_pos_equation = hip_center.pos_from(origin).express(inertial_frame).simplify()"
   ]
  },
  {
   "cell_type": "code",
   "execution_count": null,
   "metadata": {},
   "outputs": [
    {
     "data": {
      "text/latex": [
       "$$\\left[\\begin{matrix}hip_{x}\\\\hip_{y}\\\\0\\end{matrix}\\right]$$"
      ],
      "text/plain": [
       "Matrix([\n",
       "[hip_x],\n",
       "[hip_y],\n",
       "[    0]])"
      ]
     },
     "execution_count": 35,
     "metadata": {},
     "output_type": "execute_result"
    }
   ],
   "source": [
    "values = {lower_leg_length: 0.48, upper_leg_length: 0.54, hip_length: 0.175, theta0: 1, theta1: 0 , theta2: 0, theta3: 0, theta4: 0}\n",
    "hip_center_pos_equation.subs(values).to_matrix(inertial_frame)"
   ]
  },
  {
   "cell_type": "code",
   "execution_count": null,
   "metadata": {},
   "outputs": [
    {
     "name": "stdout",
     "output_type": "stream",
     "text": [
      "1.09372830176 0.424912678244 2.63844695516 -1.05384480128\n",
      "1.09372830176 0.424912678244 2.63844695516 -1.05384480128\n",
      "1.09372830176 0.426446659032 2.63844695516 -1.05384480128\n",
      "1.09372830176 0.426446659032 2.63844695516 -1.05384480128\n",
      "1.09372830176 0.424912678244 2.63844695516 -1.05384480128\n",
      "1.09372830176 0.424912678244 2.63844695516 -1.05384480128\n",
      "1.09372830176 0.424912678244 2.63844695516 -1.05384480128\n",
      "1.09372830176 0.424912678244 2.63844695516 -1.05384480128\n",
      "1.09372830176 0.424912678244 2.63844695516 -1.05384480128\n",
      "1.09372830176 0.424912678244 2.63844695516 -1.05384480128\n",
      "1.09372830176 0.426446659032 2.63844695516 -1.05384480128\n",
      "1.09372830176 0.424912678244 2.63844695516 -1.05384480128\n",
      "1.09372830176 0.424912678244 2.63844695516 -1.05384480128\n",
      "1.09372830176 0.424912678244 2.63844695516 -1.05384480128\n",
      "1.09372830176 0.424912678244 2.63844695516 -1.05384480128\n",
      "1.09219432097 0.424912678244 2.63844695516 -1.05691276285\n",
      "1.09066034019 0.421844716669 2.63844695516 -1.06611664758\n",
      "1.08299043625 0.420310735881 2.63844695516 -1.06765062837\n",
      "1.07992247467 0.421844716669 2.63844695516 -1.07071858994\n",
      "1.07532053231 0.421844716669 2.63691297438 -1.07378655152\n",
      "1.07378655152 0.420310735881 2.63691297438 -1.07378655152\n",
      "1.07532053231 0.420310735881 2.63691297438 -1.07225257073\n",
      "1.07532053231 0.420310735881 2.63691297438 -1.07225257073\n",
      "1.0768545131 0.420310735881 2.63691297438 -1.07225257073\n",
      "1.0768545131 0.420310735881 2.63691297438 -1.07071858994\n",
      "1.07532053231 0.420310735881 2.63691297438 -1.07071858994\n",
      "1.07532053231 0.420310735881 2.63691297438 -1.07225257073\n",
      "1.07532053231 0.418776755093 2.63691297438 -1.07378655152\n",
      "1.07532053231 0.418776755093 2.63691297438 -1.07225257073\n",
      "1.07532053231 0.418776755093 2.63691297438 -1.07225257073\n",
      "1.07378655152 0.418776755093 2.63537899359 -1.07225257073\n",
      "1.07532053231 0.418776755093 2.63537899359 -1.07225257073\n",
      "1.07378655152 0.418776755093 2.63537899359 -1.07225257073\n",
      "1.07532053231 0.417242774305 2.63537899359 -1.07071858994\n",
      "1.07532053231 0.417242774305 2.63537899359 -1.07225257073\n",
      "1.07378655152 0.417242774305 2.63537899359 -1.07225257073\n",
      "1.07532053231 0.417242774305 2.63537899359 -1.07225257073\n",
      "1.07378655152 0.417242774305 2.63537899359 -1.07225257073\n",
      "1.07378655152 0.417242774305 2.63537899359 -1.07225257073\n",
      "1.07532053231 0.417242774305 2.63537899359 -1.07225257073\n",
      "1.07378655152 0.417242774305 2.63537899359 -1.07071858994\n",
      "1.07378655152 0.417242774305 2.63537899359 -1.07071858994\n",
      "1.07532053231 0.417242774305 2.63537899359 -1.07071858994\n",
      "1.07378655152 0.417242774305 2.63537899359 -1.07071858994\n",
      "1.07378655152 0.417242774305 2.63537899359 -1.07071858994\n",
      "1.07378655152 0.417242774305 2.63537899359 -1.07071858994\n",
      "1.07532053231 0.417242774305 2.63537899359 -1.07225257073\n",
      "1.07378655152 0.417242774305 2.63537899359 -1.07225257073\n",
      "1.07378655152 0.417242774305 2.63537899359 -1.07225257073\n",
      "1.07378655152 0.417242774305 2.63537899359 -1.07225257073\n",
      "1.07378655152 0.417242774305 2.63537899359 -1.07225257073\n",
      "1.07225257073 0.415708793517 2.63537899359 -1.07071858994\n",
      "1.07225257073 0.415708793517 2.63537899359 -1.07225257073\n",
      "1.07225257073 0.415708793517 2.63537899359 -1.07071858994\n",
      "1.07225257073 0.415708793517 2.63537899359 -1.07071858994\n",
      "1.07225257073 0.415708793517 2.63537899359 -1.07225257073\n",
      "1.07225257073 0.415708793517 2.63537899359 -1.07225257073\n",
      "1.07225257073 0.415708793517 2.63537899359 -1.07071858994\n",
      "1.07225257073 0.415708793517 2.63537899359 -1.07225257073\n",
      "1.07225257073 0.415708793517 2.63537899359 -1.07225257073\n",
      "1.07225257073 0.415708793517 2.63537899359 -1.07225257073\n",
      "1.07225257073 0.415708793517 2.63537899359 -1.07225257073\n",
      "1.07225257073 0.415708793517 2.63537899359 -1.07225257073\n",
      "1.07225257073 0.415708793517 2.63537899359 -1.07071858994\n",
      "1.07225257073 0.415708793517 2.63537899359 -1.07071858994\n",
      "1.07225257073 0.415708793517 2.63537899359 -1.07225257073\n",
      "1.07225257073 0.415708793517 2.6338450128 -1.07071858994\n",
      "1.07225257073 0.415708793517 2.63537899359 -1.07071858994\n",
      "1.07071858994 0.415708793517 2.6338450128 -1.07225257073\n",
      "1.07225257073 0.415708793517 2.6338450128 -1.07071858994\n",
      "1.07071858994 0.415708793517 2.63537899359 -1.07071858994\n",
      "1.07071858994 0.415708793517 2.63537899359 -1.07225257073\n",
      "1.07071858994 0.415708793517 2.6338450128 -1.07225257073\n",
      "1.07071858994 0.415708793517 2.6338450128 -1.07225257073\n",
      "1.07071858994 0.415708793517 2.6338450128 -1.07225257073\n",
      "1.07071858994 0.415708793517 2.6338450128 -1.07225257073\n",
      "1.07071858994 0.415708793517 2.63537899359 -1.07225257073\n",
      "1.07071858994 0.414174812729 2.6338450128 -1.07225257073\n",
      "1.06918460916 0.414174812729 2.6338450128 -1.07071858994\n",
      "1.07071858994 0.415708793517 2.6338450128 -1.07071858994\n",
      "1.07071858994 0.415708793517 2.6338450128 -1.07071858994\n",
      "1.07071858994 0.415708793517 2.6338450128 -1.07071858994\n",
      "1.07071858994 0.414174812729 2.6338450128 -1.07071858994\n",
      "1.07071858994 0.414174812729 2.6338450128 -1.07071858994\n",
      "1.07071858994 0.414174812729 2.6338450128 -1.07071858994\n",
      "1.06918460916 0.414174812729 2.6338450128 -1.07071858994\n",
      "1.06918460916 0.414174812729 2.6338450128 -1.07071858994\n",
      "1.06918460916 0.414174812729 2.6338450128 -1.07071858994\n",
      "1.06918460916 0.414174812729 2.6338450128 -1.07071858994\n",
      "1.06918460916 0.414174812729 2.6338450128 -1.07071858994\n",
      "1.06918460916 0.414174812729 2.6338450128 -1.07071858994\n",
      "1.06918460916 0.414174812729 2.6338450128 -1.07225257073\n",
      "1.06918460916 0.414174812729 2.6338450128 -1.07071858994\n",
      "1.06918460916 0.414174812729 2.6338450128 -1.07071858994\n",
      "1.06918460916 0.414174812729 2.6338450128 -1.07225257073\n",
      "1.06918460916 0.414174812729 2.6338450128 -1.07071858994\n",
      "1.06918460916 0.414174812729 2.6338450128 -1.07071858994\n",
      "1.06918460916 0.414174812729 2.6338450128 -1.07071858994\n",
      "1.06918460916 0.414174812729 2.6338450128 -1.07071858994\n",
      "1.06918460916 0.414174812729 2.6338450128 -1.07071858994\n",
      "1.06918460916 0.414174812729 2.6338450128 -1.07071858994\n",
      "1.06765062837 0.414174812729 2.6338450128 -1.07071858994\n",
      "1.06765062837 0.414174812729 2.63231103201 -1.07071858994\n",
      "1.06765062837 0.414174812729 2.63231103201 -1.06918460916\n",
      "1.06918460916 0.414174812729 2.63231103201 -1.07071858994\n",
      "1.06765062837 0.414174812729 2.63231103201 -1.07071858994\n",
      "1.06765062837 0.414174812729 2.63231103201 -1.07071858994\n",
      "1.06918460916 0.414174812729 2.63231103201 -1.07071858994\n",
      "1.06765062837 0.414174812729 2.63231103201 -1.07071858994\n",
      "1.06765062837 0.414174812729 2.63231103201 -1.07071858994\n",
      "1.06765062837 0.414174812729 2.63231103201 -1.06918460916\n",
      "1.06765062837 0.414174812729 2.63077705122 -1.07071858994\n",
      "1.06765062837 0.414174812729 2.63231103201 -1.07071858994\n",
      "1.06765062837 0.414174812729 2.63231103201 -1.07071858994\n",
      "1.06918460916 0.414174812729 2.63231103201 -1.07071858994\n",
      "1.06765062837 0.414174812729 2.63231103201 -1.07071858994\n",
      "1.06765062837 0.414174812729 2.63231103201 -1.07071858994\n",
      "1.06765062837 0.414174812729 2.63231103201 -1.07071858994\n",
      "1.06765062837 0.414174812729 2.63231103201 -1.07071858994\n",
      "1.06765062837 0.414174812729 2.63231103201 -1.07071858994\n",
      "1.06918460916 0.414174812729 2.63077705122 -1.07071858994\n",
      "1.06765062837 0.414174812729 2.63077705122 -1.07071858994\n",
      "1.06765062837 0.414174812729 2.63077705122 -1.07071858994\n",
      "1.06765062837 0.414174812729 2.63077705122 -1.06918460916\n",
      "1.06765062837 0.414174812729 2.63077705122 -1.06918460916\n",
      "1.06765062837 0.414174812729 2.63077705122 -1.06918460916\n",
      "1.06765062837 0.414174812729 2.63077705122 -1.06918460916\n",
      "1.06765062837 0.412640831941 2.63077705122 -1.07071858994\n",
      "1.06765062837 0.414174812729 2.63077705122 -1.06918460916\n",
      "1.06611664758 0.414174812729 2.63077705122 -1.07071858994\n",
      "1.06765062837 0.414174812729 2.63077705122 -1.06918460916\n",
      "1.06611664758 0.414174812729 2.63077705122 -1.06918460916\n",
      "1.06611664758 0.414174812729 2.63077705122 -1.07071858994\n",
      "1.06765062837 0.414174812729 2.63077705122 -1.07071858994\n",
      "1.06765062837 0.414174812729 2.62924307044 -1.07071858994\n",
      "1.06611664758 0.414174812729 2.63077705122 -1.06918460916\n",
      "1.06765062837 0.414174812729 2.63077705122 -1.06918460916\n",
      "1.06611664758 0.414174812729 2.62924307044 -1.06918460916\n",
      "1.06765062837 0.414174812729 2.63077705122 -1.06918460916\n",
      "1.06765062837 0.414174812729 2.62924307044 -1.06918460916\n",
      "1.06765062837 0.412640831941 2.62924307044 -1.06918460916\n",
      "1.06611664758 0.414174812729 2.63077705122 -1.07071858994\n",
      "1.06611664758 0.414174812729 2.63077705122 -1.06918460916\n",
      "1.06611664758 0.412640831941 2.62924307044 -1.06918460916\n",
      "1.06611664758 0.412640831941 2.62924307044 -1.06918460916\n",
      "1.06765062837 0.414174812729 2.62924307044 -1.07071858994\n",
      "1.06765062837 0.414174812729 2.62924307044 -1.07071858994\n",
      "1.06611664758 0.412640831941 2.62924307044 -1.06918460916\n"
     ]
    },
    {
     "name": "stdout",
     "output_type": "stream",
     "text": [
      "1.06611664758 0.414174812729 2.62924307044 -1.06918460916\n",
      "1.06611664758 0.414174812729 2.63077705122 -1.06918460916\n",
      "1.06611664758 0.414174812729 2.62924307044 -1.06918460916\n",
      "1.06611664758 0.414174812729 2.62924307044 -1.06918460916\n",
      "1.06611664758 0.412640831941 2.62924307044 -1.06918460916\n",
      "1.06611664758 0.414174812729 2.62924307044 -1.06918460916\n",
      "1.06611664758 0.414174812729 2.62924307044 -1.07071858994\n",
      "1.06611664758 0.414174812729 2.62924307044 -1.06918460916\n",
      "1.06765062837 0.412640831941 2.62924307044 -1.07071858994\n",
      "1.06611664758 0.412640831941 2.62924307044 -1.07071858994\n",
      "1.06611664758 0.414174812729 2.62924307044 -1.07071858994\n",
      "1.06611664758 0.414174812729 2.62924307044 -1.06918460916\n",
      "1.06611664758 0.414174812729 2.62924307044 -1.06918460916\n",
      "1.06765062837 0.414174812729 2.62924307044 -1.06918460916\n",
      "1.06765062837 0.412640831941 2.62924307044 -1.06918460916\n",
      "1.06611664758 0.414174812729 2.62924307044 -1.06918460916\n",
      "1.06611664758 0.414174812729 2.62924307044 -1.06918460916\n",
      "1.06611664758 0.412640831941 2.62924307044 -1.06765062837\n",
      "1.06611664758 0.412640831941 2.62924307044 -1.06918460916\n",
      "1.06611664758 0.414174812729 2.62924307044 -1.06918460916\n",
      "1.06611664758 0.412640831941 2.62924307044 -1.06918460916\n",
      "1.06611664758 0.412640831941 2.62924307044 -1.06918460916\n",
      "1.06458266679 0.412640831941 2.62924307044 -1.06918460916\n",
      "1.06611664758 0.412640831941 2.62924307044 -1.07071858994\n",
      "1.06611664758 0.412640831941 2.62770908965 -1.06918460916\n",
      "1.06611664758 0.412640831941 2.62770908965 -1.06918460916\n",
      "1.06611664758 0.412640831941 2.62924307044 -1.06918460916\n",
      "1.06458266679 0.414174812729 2.62924307044 -1.06918460916\n",
      "1.06611664758 0.412640831941 2.62924307044 -1.06918460916\n",
      "1.06611664758 0.412640831941 2.62770908965 -1.06918460916\n",
      "1.06611664758 0.412640831941 2.62924307044 -1.06918460916\n",
      "1.06611664758 0.412640831941 2.62770908965 -1.06918460916\n",
      "1.06611664758 0.412640831941 2.62770908965 -1.06918460916\n",
      "1.06611664758 0.412640831941 2.62924307044 -1.06918460916\n",
      "1.06611664758 0.414174812729 2.62770908965 -1.06918460916\n",
      "1.06458266679 0.414174812729 2.62770908965 -1.06918460916\n",
      "1.06611664758 0.414174812729 2.62770908965 -1.06918460916\n",
      "1.06611664758 0.412640831941 2.62770908965 -1.06918460916\n",
      "1.06611664758 0.412640831941 2.62770908965 -1.06765062837\n",
      "1.06611664758 0.412640831941 2.62770908965 -1.06918460916\n",
      "1.06611664758 0.412640831941 2.62770908965 -1.07071858994\n",
      "1.06611664758 0.412640831941 2.62770908965 -1.07071858994\n",
      "1.06611664758 0.414174812729 2.62770908965 -1.06918460916\n",
      "1.06458266679 0.412640831941 2.62770908965 -1.06918460916\n",
      "1.06458266679 0.414174812729 2.62770908965 -1.06918460916\n",
      "1.06611664758 0.412640831941 2.62770908965 -1.06918460916\n",
      "1.06611664758 0.412640831941 2.62770908965 -1.06918460916\n",
      "1.06458266679 0.412640831941 2.62770908965 -1.06918460916\n",
      "1.06611664758 0.412640831941 2.62770908965 -1.06918460916\n",
      "1.06611664758 0.412640831941 2.62770908965 -1.06918460916\n",
      "1.06611664758 0.414174812729 2.62770908965 -1.06918460916\n",
      "1.06611664758 0.412640831941 2.62770908965 -1.06918460916\n",
      "1.06458266679 0.412640831941 2.62770908965 -1.06918460916\n",
      "1.06458266679 0.412640831941 2.62770908965 -1.06918460916\n",
      "1.06611664758 0.412640831941 2.62770908965 -1.06918460916\n",
      "1.06458266679 0.412640831941 2.62770908965 -1.06918460916\n",
      "1.06458266679 0.412640831941 2.62770908965 -1.06918460916\n",
      "1.06458266679 0.412640831941 2.62770908965 -1.06918460916\n",
      "1.06611664758 0.412640831941 2.62770908965 -1.06918460916\n",
      "1.06458266679 0.412640831941 2.62770908965 -1.06918460916\n",
      "1.06611664758 0.412640831941 2.62770908965 -1.06918460916\n",
      "1.06458266679 0.412640831941 2.62770908965 -1.06918460916\n",
      "1.06458266679 0.412640831941 2.62770908965 -1.06765062837\n",
      "1.06458266679 0.412640831941 2.62770908965 -1.06918460916\n",
      "1.06611664758 0.412640831941 2.62770908965 -1.06918460916\n",
      "1.06458266679 0.414174812729 2.62770908965 -1.06918460916\n",
      "1.06611664758 0.414174812729 2.62770908965 -1.06918460916\n",
      "1.06458266679 0.412640831941 2.62770908965 -1.06918460916\n",
      "1.06611664758 0.414174812729 2.62770908965 -1.06918460916\n",
      "1.06458266679 0.412640831941 2.62770908965 -1.06918460916\n",
      "1.06611664758 0.412640831941 2.62770908965 -1.06918460916\n",
      "1.06458266679 0.412640831941 2.62770908965 -1.06918460916\n",
      "1.06458266679 0.412640831941 2.62770908965 -1.06918460916\n",
      "1.06458266679 0.412640831941 2.62770908965 -1.06918460916\n",
      "1.06458266679 0.412640831941 2.62770908965 -1.06918460916\n",
      "1.06458266679 0.412640831941 2.62770908965 -1.06918460916\n",
      "1.06458266679 0.412640831941 2.62770908965 -1.06765062837\n",
      "1.06458266679 0.412640831941 2.62770908965 -1.06765062837\n",
      "1.06458266679 0.412640831941 2.62770908965 -1.06765062837\n",
      "1.06458266679 0.412640831941 2.62770908965 -1.06918460916\n",
      "1.06458266679 0.412640831941 2.62770908965 -1.06918460916\n",
      "1.06458266679 0.412640831941 2.62770908965 -1.06765062837\n",
      "1.06458266679 0.412640831941 2.62770908965 -1.06918460916\n",
      "1.06458266679 0.412640831941 2.62770908965 -1.06918460916\n",
      "1.06458266679 0.412640831941 2.62770908965 -1.06918460916\n",
      "1.06458266679 0.412640831941 2.62770908965 -1.06918460916\n",
      "1.06458266679 0.412640831941 2.62770908965 -1.06918460916\n",
      "1.06458266679 0.412640831941 2.62770908965 -1.06918460916\n",
      "1.06458266679 0.412640831941 2.62770908965 -1.06918460916\n",
      "1.06458266679 0.412640831941 2.62770908965 -1.06918460916\n",
      "1.06458266679 0.412640831941 2.62770908965 -1.06918460916\n",
      "1.06458266679 0.412640831941 2.62770908965 -1.06918460916\n",
      "1.06458266679 0.412640831941 2.62770908965 -1.06918460916\n",
      "1.06458266679 0.412640831941 2.62770908965 -1.06918460916\n",
      "1.06458266679 0.412640831941 2.62617510886 -1.06918460916\n",
      "1.06458266679 0.412640831941 2.62770908965 -1.06918460916\n",
      "1.06458266679 0.412640831941 2.62770908965 -1.06918460916\n",
      "1.06458266679 0.412640831941 2.62770908965 -1.06918460916\n",
      "1.06458266679 0.414174812729 2.62770908965 -1.06918460916\n",
      "1.06458266679 0.412640831941 2.62770908965 -1.06918460916\n",
      "1.06458266679 0.414174812729 2.62770908965 -1.06918460916\n",
      "1.06458266679 0.412640831941 2.62770908965 -1.06918460916\n",
      "1.06458266679 0.412640831941 2.62770908965 -1.06918460916\n",
      "1.06458266679 0.412640831941 2.62770908965 -1.06918460916\n",
      "1.06458266679 0.412640831941 2.62770908965 -1.06918460916\n",
      "1.06458266679 0.412640831941 2.62770908965 -1.06918460916\n",
      "1.06458266679 0.412640831941 2.62770908965 -1.06918460916\n",
      "1.06458266679 0.412640831941 2.62770908965 -1.06918460916\n",
      "1.06458266679 0.412640831941 2.62770908965 -1.06918460916\n",
      "1.06458266679 0.412640831941 2.62770908965 -1.06918460916\n",
      "1.06458266679 0.412640831941 2.62617510886 -1.06918460916\n",
      "1.06458266679 0.412640831941 2.62617510886 -1.06918460916\n",
      "1.06458266679 0.414174812729 2.62770908965 -1.06918460916\n",
      "1.06458266679 0.412640831941 2.62770908965 -1.06918460916\n",
      "1.06458266679 0.412640831941 2.62770908965 -1.06918460916\n",
      "1.06458266679 0.412640831941 2.62770908965 -1.06918460916\n",
      "1.06458266679 0.412640831941 2.62770908965 -1.06918460916\n",
      "1.06458266679 0.412640831941 2.62770908965 -1.06918460916\n",
      "1.06458266679 0.412640831941 2.62770908965 -1.06918460916\n",
      "1.06458266679 0.412640831941 2.62617510886 -1.06918460916\n",
      "1.06458266679 0.412640831941 2.62770908965 -1.06918460916\n",
      "1.06458266679 0.412640831941 2.62770908965 -1.06918460916\n",
      "1.06458266679 0.412640831941 2.62770908965 -1.06918460916\n",
      "1.06458266679 0.412640831941 2.62770908965 -1.06918460916\n",
      "1.06458266679 0.412640831941 2.62770908965 -1.06918460916\n",
      "1.06458266679 0.412640831941 2.62770908965 -1.06918460916\n",
      "1.06458266679 0.412640831941 2.62770908965 -1.06918460916\n",
      "1.06458266679 0.412640831941 2.62770908965 -1.06918460916\n",
      "1.06458266679 0.412640831941 2.62770908965 -1.06918460916\n",
      "1.06458266679 0.412640831941 2.62770908965 -1.06918460916\n",
      "1.06458266679 0.412640831941 2.62770908965 -1.06918460916\n",
      "1.06458266679 0.412640831941 2.62770908965 -1.06918460916\n",
      "1.06458266679 0.412640831941 2.62770908965 -1.06918460916\n",
      "1.06458266679 0.412640831941 2.62770908965 -1.06918460916\n",
      "1.06458266679 0.412640831941 2.62770908965 -1.06918460916\n",
      "1.06458266679 0.412640831941 2.62770908965 -1.07071858994\n",
      "1.06458266679 0.412640831941 2.62770908965 -1.06918460916\n",
      "1.06458266679 0.412640831941 2.62770908965 -1.06918460916\n",
      "1.06458266679 0.412640831941 2.62770908965 -1.06918460916\n",
      "1.06458266679 0.412640831941 2.62770908965 -1.06918460916\n",
      "1.06458266679 0.412640831941 2.62770908965 -1.06918460916\n",
      "1.06458266679 0.412640831941 2.62770908965 -1.06918460916\n",
      "1.06458266679 0.412640831941 2.62770908965 -1.06765062837\n",
      "1.06458266679 0.414174812729 2.62617510886 -1.06918460916\n",
      "1.06458266679 0.412640831941 2.62770908965 -1.06918460916\n"
     ]
    },
    {
     "name": "stdout",
     "output_type": "stream",
     "text": [
      "1.06458266679 0.412640831941 2.62770908965 -1.06918460916\n",
      "1.06458266679 0.412640831941 2.62770908965 -1.06918460916\n",
      "1.06458266679 0.412640831941 2.62770908965 -1.06918460916\n",
      "1.06458266679 0.412640831941 2.62770908965 -1.06765062837\n",
      "1.06458266679 0.412640831941 2.62617510886 -1.07071858994\n",
      "1.06458266679 0.412640831941 2.62770908965 -1.06765062837\n",
      "1.06458266679 0.412640831941 2.62770908965 -1.06918460916\n",
      "1.06458266679 0.414174812729 2.62770908965 -1.06918460916\n",
      "1.06458266679 0.412640831941 2.62770908965 -1.06918460916\n",
      "1.06458266679 0.412640831941 2.62770908965 -1.06918460916\n",
      "1.06458266679 0.412640831941 2.62770908965 -1.06918460916\n",
      "1.06458266679 0.412640831941 2.62617510886 -1.06918460916\n",
      "1.06458266679 0.412640831941 2.62770908965 -1.06918460916\n",
      "1.06458266679 0.412640831941 2.62770908965 -1.06918460916\n",
      "1.06458266679 0.412640831941 2.62770908965 -1.06918460916\n",
      "1.06458266679 0.412640831941 2.62770908965 -1.06918460916\n",
      "1.06458266679 0.412640831941 2.62617510886 -1.06918460916\n",
      "1.06458266679 0.412640831941 2.62770908965 -1.06918460916\n",
      "1.06458266679 0.412640831941 2.62770908965 -1.06918460916\n",
      "1.06458266679 0.412640831941 2.62770908965 -1.06918460916\n",
      "1.06458266679 0.412640831941 2.62770908965 -1.06918460916\n",
      "1.06458266679 0.412640831941 2.62770908965 -1.06918460916\n",
      "1.06458266679 0.412640831941 2.62770908965 -1.06918460916\n",
      "1.06458266679 0.412640831941 2.62770908965 -1.06918460916\n",
      "1.06458266679 0.412640831941 2.62770908965 -1.06918460916\n",
      "1.06458266679 0.412640831941 2.62770908965 -1.06918460916\n",
      "1.06458266679 0.412640831941 2.62770908965 -1.06918460916\n",
      "1.06458266679 0.412640831941 2.62770908965 -1.06918460916\n",
      "1.06458266679 0.412640831941 2.62770908965 -1.06918460916\n",
      "1.06458266679 0.412640831941 2.62770908965 -1.06918460916\n",
      "1.06458266679 0.412640831941 2.62770908965 -1.06918460916\n",
      "1.06458266679 0.414174812729 2.62770908965 -1.06918460916\n",
      "1.06458266679 0.412640831941 2.62770908965 -1.06765062837\n",
      "1.06458266679 0.412640831941 2.62770908965 -1.06918460916\n",
      "1.06458266679 0.412640831941 2.62770908965 -1.06918460916\n",
      "1.06458266679 0.412640831941 2.62770908965 -1.06918460916\n",
      "1.06458266679 0.412640831941 2.62770908965 -1.06918460916\n",
      "1.06458266679 0.412640831941 2.62770908965 -1.06918460916\n",
      "1.06458266679 0.412640831941 2.62770908965 -1.06918460916\n",
      "1.06611664758 0.412640831941 2.62770908965 -1.06918460916\n",
      "1.06458266679 0.412640831941 2.62770908965 -1.06918460916\n",
      "1.06458266679 0.412640831941 2.62617510886 -1.07071858994\n",
      "1.06458266679 0.412640831941 2.62770908965 -1.06918460916\n",
      "1.06458266679 0.412640831941 2.62617510886 -1.06765062837\n",
      "1.06458266679 0.412640831941 2.62617510886 -1.06918460916\n",
      "1.06458266679 0.412640831941 2.62770908965 -1.06918460916\n",
      "1.06458266679 0.412640831941 2.62617510886 -1.06918460916\n",
      "1.06458266679 0.412640831941 2.62770908965 -1.06918460916\n",
      "1.06458266679 0.412640831941 2.62617510886 -1.06611664758\n",
      "1.06458266679 0.412640831941 2.62617510886 -1.06918460916\n",
      "1.06458266679 0.412640831941 2.62617510886 -1.06918460916\n",
      "1.06458266679 0.412640831941 2.62770908965 -1.06918460916\n",
      "1.06458266679 0.412640831941 2.62770908965 -1.06918460916\n",
      "1.06458266679 0.412640831941 2.62770908965 -1.06918460916\n",
      "1.06458266679 0.412640831941 2.62770908965 -1.06918460916\n",
      "1.06458266679 0.412640831941 2.62617510886 -1.06918460916\n",
      "1.06458266679 0.412640831941 2.62770908965 -1.06918460916\n",
      "1.06458266679 0.412640831941 2.62617510886 -1.06918460916\n",
      "1.06458266679 0.412640831941 2.62617510886 -1.06918460916\n",
      "1.06458266679 0.412640831941 2.62770908965 -1.07071858994\n",
      "1.063048686 0.412640831941 2.62770908965 -1.06918460916\n",
      "1.06458266679 0.412640831941 2.62770908965 -1.06918460916\n",
      "1.06458266679 0.412640831941 2.62617510886 -1.06918460916\n",
      "1.06458266679 0.412640831941 2.62770908965 -1.06918460916\n",
      "1.06458266679 0.412640831941 2.62770908965 -1.06918460916\n",
      "1.06458266679 0.412640831941 2.62770908965 -1.06765062837\n",
      "1.06458266679 0.412640831941 2.62617510886 -1.06765062837\n",
      "1.06458266679 0.412640831941 2.62770908965 -1.06918460916\n",
      "1.06458266679 0.412640831941 2.62617510886 -1.06918460916\n",
      "1.06458266679 0.412640831941 2.62617510886 -1.06918460916\n",
      "1.06458266679 0.412640831941 2.62617510886 -1.06918460916\n",
      "1.06458266679 0.412640831941 2.62617510886 -1.06918460916\n",
      "1.063048686 0.412640831941 2.62770908965 -1.06918460916\n",
      "1.06458266679 0.412640831941 2.62617510886 -1.06918460916\n",
      "1.06458266679 0.412640831941 2.62617510886 -1.06918460916\n",
      "1.06458266679 0.412640831941 2.62617510886 -1.06918460916\n",
      "1.06458266679 0.412640831941 2.62770908965 -1.06918460916\n",
      "1.06458266679 0.412640831941 2.62617510886 -1.06918460916\n",
      "1.06458266679 0.412640831941 2.62617510886 -1.06918460916\n",
      "1.06458266679 0.412640831941 2.62770908965 -1.06765062837\n",
      "1.06458266679 0.412640831941 2.62617510886 -1.06765062837\n",
      "1.06458266679 0.412640831941 2.62770908965 -1.06918460916\n",
      "1.06458266679 0.412640831941 2.62617510886 -1.06918460916\n",
      "1.06458266679 0.412640831941 2.62770908965 -1.06918460916\n",
      "1.06458266679 0.412640831941 2.62617510886 -1.06765062837\n",
      "1.06458266679 0.412640831941 2.62617510886 -1.06918460916\n",
      "1.06458266679 0.412640831941 2.62617510886 -1.06765062837\n",
      "1.06458266679 0.412640831941 2.62617510886 -1.06918460916\n",
      "1.063048686 0.412640831941 2.62617510886 -1.06918460916\n",
      "1.06458266679 0.412640831941 2.62770908965 -1.06918460916\n",
      "1.06458266679 0.412640831941 2.62617510886 -1.06918460916\n",
      "1.06458266679 0.412640831941 2.62617510886 -1.06918460916\n",
      "1.06458266679 0.412640831941 2.62617510886 -1.06918460916\n",
      "1.06458266679 0.412640831941 2.62770908965 -1.06918460916\n",
      "1.063048686 0.412640831941 2.62617510886 -1.06918460916\n",
      "1.06458266679 0.412640831941 2.62617510886 -1.07071858994\n",
      "1.063048686 0.412640831941 2.62617510886 -1.06918460916\n",
      "1.06458266679 0.412640831941 2.62770908965 -1.06918460916\n",
      "1.06458266679 0.412640831941 2.62617510886 -1.06918460916\n",
      "1.06458266679 0.412640831941 2.62617510886 -1.06918460916\n",
      "1.06458266679 0.412640831941 2.62617510886 -1.06918460916\n",
      "1.06458266679 0.412640831941 2.62770908965 -1.06918460916\n",
      "1.06458266679 0.412640831941 2.62617510886 -1.07071858994\n",
      "1.06458266679 0.412640831941 2.62617510886 -1.07071858994\n",
      "1.06458266679 0.412640831941 2.62617510886 -1.06918460916\n",
      "1.06458266679 0.412640831941 2.62617510886 -1.06918460916\n",
      "1.06458266679 0.412640831941 2.62617510886 -1.07071858994\n",
      "1.06458266679 0.412640831941 2.62617510886 -1.07071858994\n",
      "1.06458266679 0.412640831941 2.62617510886 -1.06918460916\n",
      "1.063048686 0.412640831941 2.62617510886 -1.06918460916\n",
      "1.06458266679 0.412640831941 2.62617510886 -1.06918460916\n",
      "1.06458266679 0.412640831941 2.62617510886 -1.06918460916\n",
      "1.06458266679 0.412640831941 2.62617510886 -1.06918460916\n",
      "1.06458266679 0.412640831941 2.62770908965 -1.06765062837\n",
      "1.06458266679 0.412640831941 2.62617510886 -1.06918460916\n",
      "1.06458266679 0.412640831941 2.62617510886 -1.06918460916\n",
      "1.063048686 0.412640831941 2.62617510886 -1.06918460916\n",
      "1.06458266679 0.412640831941 2.62617510886 -1.06918460916\n",
      "1.06458266679 0.412640831941 2.62617510886 -1.06918460916\n",
      "1.06458266679 0.412640831941 2.62617510886 -1.07071858994\n",
      "1.063048686 0.412640831941 2.62617510886 -1.06918460916\n",
      "1.06458266679 0.412640831941 2.62617510886 -1.06918460916\n",
      "1.06458266679 0.412640831941 2.62617510886 -1.06918460916\n",
      "1.063048686 0.412640831941 2.62617510886 -1.06918460916\n",
      "1.06458266679 0.412640831941 2.62617510886 -1.06918460916\n",
      "1.06458266679 0.412640831941 2.62617510886 -1.06918460916\n",
      "1.06458266679 0.412640831941 2.62617510886 -1.06918460916\n",
      "1.06458266679 0.412640831941 2.62770908965 -1.06918460916\n",
      "1.06458266679 0.412640831941 2.62617510886 -1.06918460916\n",
      "1.06458266679 0.412640831941 2.62770908965 -1.07071858994\n",
      "1.06458266679 0.412640831941 2.62617510886 -1.06918460916\n",
      "1.063048686 0.412640831941 2.62617510886 -1.06918460916\n",
      "1.06458266679 0.412640831941 2.62770908965 -1.06918460916\n",
      "1.06458266679 0.412640831941 2.62617510886 -1.06918460916\n",
      "1.06458266679 0.412640831941 2.62770908965 -1.06918460916\n",
      "1.06458266679 0.412640831941 2.62770908965 -1.06918460916\n",
      "1.06458266679 0.412640831941 2.62617510886 -1.06918460916\n",
      "1.06458266679 0.412640831941 2.62617510886 -1.06918460916\n",
      "1.06458266679 0.412640831941 2.62770908965 -1.06918460916\n",
      "1.06458266679 0.412640831941 2.62617510886 -1.06765062837\n",
      "1.06458266679 0.412640831941 2.62617510886 -1.06918460916\n",
      "1.06458266679 0.412640831941 2.62770908965 -1.06918460916\n",
      "1.06458266679 0.412640831941 2.62617510886 -1.06918460916\n",
      "1.063048686 0.412640831941 2.62617510886 -1.06918460916\n",
      "1.06458266679 0.412640831941 2.62770908965 -1.07071858994\n",
      "1.063048686 0.412640831941 2.62617510886 -1.06918460916\n",
      "1.06458266679 0.412640831941 2.62617510886 -1.06918460916\n",
      "1.06458266679 0.412640831941 2.62770908965 -1.06918460916\n",
      "1.06611664758 0.412640831941 2.62617510886 -1.06918460916\n"
     ]
    },
    {
     "name": "stdout",
     "output_type": "stream",
     "text": [
      "1.06458266679 0.412640831941 2.62617510886 -1.06918460916\n",
      "1.06458266679 0.412640831941 2.62617510886 -1.06918460916\n",
      "1.06458266679 0.412640831941 2.62617510886 -1.06918460916\n",
      "1.06458266679 0.412640831941 2.62617510886 -1.06918460916\n",
      "1.06458266679 0.412640831941 2.62617510886 -1.06918460916\n",
      "1.06458266679 0.412640831941 2.62617510886 -1.06918460916\n",
      "1.063048686 0.412640831941 2.62617510886 -1.06918460916\n",
      "1.063048686 0.412640831941 2.62617510886 -1.06918460916\n",
      "1.063048686 0.412640831941 2.62617510886 -1.06918460916\n",
      "1.063048686 0.412640831941 2.62617510886 -1.06765062837\n",
      "1.063048686 0.412640831941 2.62617510886 -1.06918460916\n",
      "1.063048686 0.412640831941 2.62617510886 -1.06918460916\n",
      "1.06458266679 0.412640831941 2.62617510886 -1.06918460916\n",
      "1.06458266679 0.412640831941 2.62617510886 -1.06765062837\n",
      "1.06458266679 0.412640831941 2.62617510886 -1.06918460916\n",
      "1.06458266679 0.412640831941 2.62770908965 -1.06918460916\n",
      "1.06458266679 0.412640831941 2.62617510886 -1.06918460916\n",
      "1.06458266679 0.412640831941 2.62617510886 -1.06918460916\n",
      "1.06458266679 0.412640831941 2.62617510886 -1.06918460916\n",
      "1.063048686 0.412640831941 2.62617510886 -1.06918460916\n",
      "1.06458266679 0.412640831941 2.62617510886 -1.06918460916\n",
      "1.06458266679 0.412640831941 2.62617510886 -1.06918460916\n",
      "1.063048686 0.412640831941 2.62617510886 -1.07071858994\n",
      "1.06458266679 0.412640831941 2.62770908965 -1.06918460916\n",
      "1.063048686 0.412640831941 2.62617510886 -1.07071858994\n",
      "1.06458266679 0.412640831941 2.62617510886 -1.06918460916\n",
      "1.06458266679 0.412640831941 2.62617510886 -1.06918460916\n",
      "1.063048686 0.412640831941 2.62617510886 -1.06918460916\n",
      "1.06458266679 0.412640831941 2.62617510886 -1.06765062837\n",
      "1.06458266679 0.412640831941 2.62617510886 -1.06918460916\n",
      "1.06458266679 0.412640831941 2.62617510886 -1.06918460916\n",
      "1.063048686 0.412640831941 2.62617510886 -1.06918460916\n",
      "1.063048686 0.412640831941 2.62617510886 -1.06918460916\n",
      "1.06458266679 0.412640831941 2.62617510886 -1.06918460916\n",
      "1.063048686 0.412640831941 2.62617510886 -1.06918460916\n",
      "1.063048686 0.412640831941 2.62617510886 -1.07071858994\n",
      "1.063048686 0.412640831941 2.62617510886 -1.07071858994\n",
      "1.063048686 0.412640831941 2.62617510886 -1.06918460916\n",
      "1.06458266679 0.412640831941 2.62617510886 -1.06918460916\n",
      "1.06458266679 0.414174812729 2.62617510886 -1.06918460916\n",
      "1.06458266679 0.412640831941 2.62617510886 -1.06918460916\n",
      "1.063048686 0.412640831941 2.62617510886 -1.06918460916\n",
      "1.06458266679 0.412640831941 2.62617510886 -1.06918460916\n",
      "1.06458266679 0.412640831941 2.62617510886 -1.06918460916\n",
      "1.063048686 0.412640831941 2.62617510886 -1.06918460916\n",
      "1.063048686 0.412640831941 2.62617510886 -1.06918460916\n",
      "1.063048686 0.412640831941 2.62617510886 -1.06918460916\n",
      "1.06458266679 0.412640831941 2.62617510886 -1.06918460916\n",
      "1.06458266679 0.412640831941 2.62617510886 -1.06918460916\n",
      "1.06458266679 0.412640831941 2.62617510886 -1.06918460916\n",
      "1.06458266679 0.412640831941 2.62617510886 -1.06918460916\n",
      "1.063048686 0.412640831941 2.62617510886 -1.06918460916\n",
      "1.06458266679 0.412640831941 2.62770908965 -1.06918460916\n",
      "1.06458266679 0.412640831941 2.62617510886 -1.06918460916\n",
      "1.06458266679 0.412640831941 2.62617510886 -1.06918460916\n",
      "1.063048686 0.412640831941 2.62617510886 -1.06918460916\n",
      "1.06458266679 0.412640831941 2.62617510886 -1.06918460916\n",
      "1.063048686 0.412640831941 2.62617510886 -1.06918460916\n",
      "1.06458266679 0.412640831941 2.62617510886 -1.06918460916\n",
      "1.06458266679 0.412640831941 2.62617510886 -1.06918460916\n",
      "1.063048686 0.412640831941 2.62617510886 -1.06918460916\n",
      "1.06458266679 0.412640831941 2.62617510886 -1.06918460916\n",
      "1.06458266679 0.412640831941 2.62617510886 -1.06918460916\n",
      "1.06458266679 0.412640831941 2.62617510886 -1.06918460916\n",
      "1.06458266679 0.412640831941 2.62617510886 -1.06918460916\n",
      "1.06458266679 0.412640831941 2.62617510886 -1.06918460916\n",
      "1.06458266679 0.412640831941 2.62617510886 -1.07071858994\n",
      "1.06458266679 0.412640831941 2.62617510886 -1.06918460916\n",
      "1.06458266679 0.412640831941 2.62617510886 -1.06918460916\n",
      "1.063048686 0.412640831941 2.62617510886 -1.06918460916\n",
      "1.063048686 0.412640831941 2.62617510886 -1.06918460916\n",
      "1.06458266679 0.412640831941 2.62617510886 -1.06918460916\n",
      "1.06458266679 0.412640831941 2.62617510886 -1.06918460916\n",
      "1.06458266679 0.412640831941 2.62617510886 -1.06918460916\n",
      "1.063048686 0.412640831941 2.62617510886 -1.06918460916\n",
      "1.06458266679 0.412640831941 2.62617510886 -1.06918460916\n",
      "1.06458266679 0.412640831941 2.62617510886 -1.06918460916\n",
      "1.06458266679 0.412640831941 2.62617510886 -1.06918460916\n",
      "1.06458266679 0.412640831941 2.62617510886 -1.06918460916\n",
      "1.06458266679 0.412640831941 2.62617510886 -1.06918460916\n",
      "1.06458266679 0.412640831941 2.62617510886 -1.06918460916\n",
      "1.06458266679 0.412640831941 2.62617510886 -1.06918460916\n",
      "1.06458266679 0.412640831941 2.62617510886 -1.06918460916\n",
      "1.063048686 0.412640831941 2.62617510886 -1.06918460916\n",
      "1.06458266679 0.412640831941 2.62617510886 -1.06918460916\n",
      "1.06458266679 0.412640831941 2.62617510886 -1.06918460916\n",
      "1.063048686 0.412640831941 2.62617510886 -1.06918460916\n",
      "1.06458266679 0.412640831941 2.62617510886 -1.06765062837\n",
      "1.063048686 0.412640831941 2.62617510886 -1.06918460916\n",
      "1.06458266679 0.412640831941 2.62617510886 -1.06918460916\n",
      "1.06458266679 0.412640831941 2.62617510886 -1.06918460916\n",
      "1.06458266679 0.412640831941 2.62617510886 -1.06918460916\n",
      "1.06458266679 0.412640831941 2.62617510886 -1.06765062837\n",
      "1.06458266679 0.412640831941 2.62617510886 -1.06918460916\n",
      "1.06458266679 0.412640831941 2.62617510886 -1.06918460916\n",
      "1.06458266679 0.412640831941 2.62617510886 -1.06918460916\n",
      "1.06458266679 0.412640831941 2.62617510886 -1.06918460916\n",
      "1.063048686 0.412640831941 2.62617510886 -1.06918460916\n",
      "1.063048686 0.412640831941 2.62617510886 -1.06918460916\n",
      "1.06458266679 0.412640831941 2.62617510886 -1.06918460916\n",
      "1.06458266679 0.412640831941 2.62617510886 -1.06918460916\n",
      "1.063048686 0.412640831941 2.62617510886 -1.06918460916\n",
      "1.06458266679 0.412640831941 2.62617510886 -1.06918460916\n",
      "1.06458266679 0.412640831941 2.62617510886 -1.06918460916\n",
      "1.06458266679 0.412640831941 2.62617510886 -1.06918460916\n",
      "1.06458266679 0.412640831941 2.62617510886 -1.06918460916\n",
      "1.063048686 0.412640831941 2.62617510886 -1.06918460916\n",
      "1.06458266679 0.412640831941 2.62617510886 -1.07071858994\n",
      "1.06458266679 0.412640831941 2.62617510886 -1.06918460916\n",
      "1.063048686 0.412640831941 2.62617510886 -1.06765062837\n",
      "1.063048686 0.412640831941 2.62617510886 -1.06918460916\n",
      "1.06458266679 0.412640831941 2.62617510886 -1.06918460916\n",
      "1.06458266679 0.412640831941 2.62617510886 -1.06765062837\n",
      "1.06458266679 0.412640831941 2.62617510886 -1.06918460916\n",
      "1.063048686 0.412640831941 2.62617510886 -1.06918460916\n",
      "1.06458266679 0.412640831941 2.62617510886 -1.06918460916\n",
      "1.063048686 0.412640831941 2.62770908965 -1.07071858994\n",
      "1.063048686 0.412640831941 2.62617510886 -1.06918460916\n",
      "1.063048686 0.412640831941 2.62617510886 -1.06918460916\n",
      "1.06458266679 0.412640831941 2.62617510886 -1.06918460916\n",
      "1.063048686 0.412640831941 2.62617510886 -1.06765062837\n",
      "1.063048686 0.412640831941 2.62617510886 -1.06918460916\n",
      "1.06458266679 0.412640831941 2.62617510886 -1.06918460916\n",
      "1.06458266679 0.412640831941 2.62617510886 -1.06918460916\n",
      "1.06458266679 0.412640831941 2.62617510886 -1.06918460916\n",
      "1.06458266679 0.412640831941 2.62617510886 -1.06918460916\n",
      "1.06458266679 0.412640831941 2.62617510886 -1.06918460916\n",
      "1.063048686 0.412640831941 2.62617510886 -1.06918460916\n",
      "1.063048686 0.412640831941 2.62617510886 -1.06918460916\n",
      "1.063048686 0.412640831941 2.62617510886 -1.06765062837\n",
      "1.06458266679 0.412640831941 2.62617510886 -1.06918460916\n",
      "1.06458266679 0.412640831941 2.62617510886 -1.07071858994\n",
      "1.06458266679 0.412640831941 2.62617510886 -1.06918460916\n",
      "1.06458266679 0.412640831941 2.62617510886 -1.06918460916\n",
      "1.063048686 0.412640831941 2.62617510886 -1.06918460916\n",
      "1.063048686 0.412640831941 2.62617510886 -1.06918460916\n",
      "1.06458266679 0.412640831941 2.62770908965 -1.06918460916\n",
      "1.063048686 0.412640831941 2.62617510886 -1.06918460916\n",
      "1.06458266679 0.412640831941 2.62617510886 -1.06918460916\n",
      "1.06458266679 0.412640831941 2.62617510886 -1.06918460916\n",
      "1.06458266679 0.412640831941 2.62617510886 -1.06918460916\n",
      "1.063048686 0.412640831941 2.62617510886 -1.06918460916\n",
      "1.06458266679 0.412640831941 2.62617510886 -1.06918460916\n",
      "1.06458266679 0.412640831941 2.62617510886 -1.06918460916\n",
      "1.06458266679 0.412640831941 2.62617510886 -1.06918460916\n",
      "1.06458266679 0.412640831941 2.62617510886 -1.06918460916\n",
      "1.06458266679 0.412640831941 2.62617510886 -1.06918460916\n"
     ]
    },
    {
     "name": "stdout",
     "output_type": "stream",
     "text": [
      "1.06458266679 0.412640831941 2.62617510886 -1.06918460916\n",
      "1.06458266679 0.412640831941 2.62617510886 -1.06918460916\n",
      "1.06458266679 0.412640831941 2.62617510886 -1.06918460916\n",
      "1.063048686 0.412640831941 2.62617510886 -1.07071858994\n",
      "1.063048686 0.412640831941 2.62617510886 -1.06918460916\n",
      "1.063048686 0.412640831941 2.62617510886 -1.06918460916\n",
      "1.06458266679 0.412640831941 2.62617510886 -1.06918460916\n",
      "1.06458266679 0.412640831941 2.62617510886 -1.06918460916\n",
      "1.06458266679 0.412640831941 2.62617510886 -1.06918460916\n",
      "1.063048686 0.412640831941 2.62617510886 -1.06918460916\n",
      "1.063048686 0.412640831941 2.62617510886 -1.06918460916\n",
      "1.063048686 0.412640831941 2.62617510886 -1.06918460916\n",
      "1.06458266679 0.412640831941 2.62617510886 -1.06918460916\n",
      "1.063048686 0.412640831941 2.62617510886 -1.06918460916\n",
      "1.06458266679 0.412640831941 2.62617510886 -1.06918460916\n",
      "1.063048686 0.412640831941 2.62617510886 -1.06918460916\n",
      "1.063048686 0.412640831941 2.62617510886 -1.06918460916\n",
      "1.06458266679 0.412640831941 2.62617510886 -1.06918460916\n",
      "1.063048686 0.412640831941 2.62617510886 -1.06918460916\n",
      "1.063048686 0.412640831941 2.62617510886 -1.06918460916\n",
      "1.06458266679 0.412640831941 2.62617510886 -1.06918460916\n",
      "1.06458266679 0.412640831941 2.62617510886 -1.06918460916\n",
      "1.063048686 0.412640831941 2.62617510886 -1.06918460916\n",
      "1.06458266679 0.412640831941 2.62617510886 -1.06918460916\n",
      "1.06458266679 0.412640831941 2.62617510886 -1.06918460916\n",
      "1.063048686 0.412640831941 2.62617510886 -1.06918460916\n",
      "1.06458266679 0.412640831941 2.62617510886 -1.06765062837\n",
      "1.063048686 0.412640831941 2.62617510886 -1.06918460916\n",
      "1.06458266679 0.412640831941 2.62617510886 -1.06918460916\n",
      "1.06458266679 0.412640831941 2.62617510886 -1.06918460916\n",
      "1.063048686 0.412640831941 2.62617510886 -1.06765062837\n",
      "1.063048686 0.412640831941 2.62617510886 -1.06918460916\n",
      "1.06458266679 0.412640831941 2.62617510886 -1.06918460916\n",
      "1.063048686 0.412640831941 2.62617510886 -1.06918460916\n",
      "1.063048686 0.412640831941 2.62617510886 -1.06918460916\n",
      "1.063048686 0.412640831941 2.62617510886 -1.06918460916\n",
      "1.06458266679 0.412640831941 2.62617510886 -1.06918460916\n",
      "1.06458266679 0.412640831941 2.62617510886 -1.06918460916\n",
      "1.063048686 0.412640831941 2.62617510886 -1.06918460916\n",
      "1.06458266679 0.412640831941 2.62617510886 -1.06918460916\n",
      "1.06458266679 0.412640831941 2.62770908965 -1.06918460916\n",
      "1.06458266679 0.412640831941 2.62617510886 -1.06918460916\n",
      "1.063048686 0.412640831941 2.62617510886 -1.06918460916\n",
      "1.06458266679 0.412640831941 2.62617510886 -1.06918460916\n",
      "1.063048686 0.412640831941 2.62617510886 -1.06918460916\n",
      "1.06458266679 0.412640831941 2.62617510886 -1.06918460916\n",
      "1.063048686 0.412640831941 2.62617510886 -1.06918460916\n",
      "1.063048686 0.412640831941 2.62617510886 -1.06765062837\n",
      "1.063048686 0.412640831941 2.62617510886 -1.06765062837\n",
      "1.063048686 0.412640831941 2.62617510886 -1.06918460916\n",
      "1.063048686 0.412640831941 2.62617510886 -1.06918460916\n",
      "1.063048686 0.412640831941 2.62617510886 -1.06918460916\n",
      "1.063048686 0.412640831941 2.62617510886 -1.06918460916\n",
      "1.06458266679 0.412640831941 2.62617510886 -1.06918460916\n",
      "1.06458266679 0.412640831941 2.62617510886 -1.06918460916\n",
      "1.063048686 0.412640831941 2.62617510886 -1.06918460916\n",
      "1.063048686 0.412640831941 2.62617510886 -1.06918460916\n",
      "1.063048686 0.412640831941 2.62617510886 -1.07071858994\n",
      "1.06458266679 0.412640831941 2.62617510886 -1.06918460916\n",
      "1.063048686 0.412640831941 2.62770908965 -1.06918460916\n",
      "1.063048686 0.412640831941 2.62617510886 -1.06918460916\n",
      "1.06458266679 0.412640831941 2.62617510886 -1.06918460916\n",
      "1.06458266679 0.412640831941 2.62617510886 -1.06765062837\n",
      "1.06458266679 0.412640831941 2.62617510886 -1.06918460916\n",
      "1.063048686 0.412640831941 2.62617510886 -1.06918460916\n",
      "1.063048686 0.412640831941 2.62617510886 -1.06918460916\n",
      "1.063048686 0.412640831941 2.62617510886 -1.06918460916\n",
      "1.06458266679 0.412640831941 2.62617510886 -1.06918460916\n",
      "1.063048686 0.412640831941 2.62617510886 -1.06918460916\n",
      "1.063048686 0.412640831941 2.62617510886 -1.06765062837\n",
      "1.06458266679 0.412640831941 2.62617510886 -1.06918460916\n",
      "1.06458266679 0.412640831941 2.62617510886 -1.06918460916\n",
      "1.063048686 0.412640831941 2.62617510886 -1.07071858994\n",
      "1.06458266679 0.412640831941 2.62770908965 -1.06918460916\n",
      "1.06458266679 0.414174812729 2.62617510886 -1.07071858994\n",
      "1.06458266679 0.412640831941 2.62617510886 -1.06918460916\n",
      "1.06458266679 0.412640831941 2.62617510886 -1.06765062837\n",
      "1.06458266679 0.412640831941 2.62617510886 -1.07071858994\n",
      "1.063048686 0.412640831941 2.62617510886 -1.07071858994\n",
      "1.063048686 0.412640831941 2.62617510886 -1.07071858994\n",
      "1.063048686 0.412640831941 2.62617510886 -1.06918460916\n",
      "1.063048686 0.412640831941 2.62617510886 -1.06918460916\n",
      "1.06458266679 0.412640831941 2.62617510886 -1.06918460916\n",
      "1.063048686 0.412640831941 2.62617510886 -1.06918460916\n",
      "1.06458266679 0.412640831941 2.62617510886 -1.06918460916\n",
      "1.063048686 0.412640831941 2.62617510886 -1.06918460916\n",
      "1.06458266679 0.412640831941 2.62617510886 -1.06918460916\n",
      "1.063048686 0.412640831941 2.62617510886 -1.06918460916\n",
      "1.06458266679 0.412640831941 2.62617510886 -1.06918460916\n",
      "1.06458266679 0.412640831941 2.62617510886 -1.06918460916\n",
      "1.06458266679 0.412640831941 2.62617510886 -1.07071858994\n",
      "1.06458266679 0.412640831941 2.62617510886 -1.07071858994\n",
      "1.06458266679 0.412640831941 2.62617510886 -1.06918460916\n",
      "1.063048686 0.412640831941 2.62617510886 -1.06918460916\n",
      "1.06458266679 0.412640831941 2.62617510886 -1.06918460916\n",
      "1.06458266679 0.412640831941 2.62617510886 -1.06918460916\n",
      "1.06458266679 0.412640831941 2.62617510886 -1.06918460916\n",
      "1.063048686 0.412640831941 2.62617510886 -1.06918460916\n",
      "1.063048686 0.412640831941 2.62617510886 -1.06918460916\n",
      "1.06458266679 0.412640831941 2.62617510886 -1.06918460916\n",
      "1.06458266679 0.412640831941 2.62617510886 -1.06918460916\n",
      "1.063048686 0.412640831941 2.62617510886 -1.06918460916\n",
      "1.063048686 0.412640831941 2.62617510886 -1.06918460916\n",
      "1.063048686 0.412640831941 2.62617510886 -1.06918460916\n",
      "1.063048686 0.412640831941 2.62617510886 -1.06918460916\n",
      "1.063048686 0.412640831941 2.62617510886 -1.06918460916\n",
      "1.06458266679 0.412640831941 2.62617510886 -1.06918460916\n",
      "1.06458266679 0.412640831941 2.62617510886 -1.06918460916\n",
      "1.063048686 0.412640831941 2.62617510886 -1.06918460916\n",
      "1.063048686 0.412640831941 2.62617510886 -1.06918460916\n",
      "1.06458266679 0.412640831941 2.62617510886 -1.06918460916\n",
      "1.063048686 0.412640831941 2.62617510886 -1.06765062837\n",
      "1.06458266679 0.412640831941 2.62617510886 -1.06918460916\n",
      "1.06458266679 0.412640831941 2.62617510886 -1.06918460916\n",
      "1.06458266679 0.412640831941 2.62617510886 -1.06918460916\n",
      "1.06458266679 0.412640831941 2.62617510886 -1.06918460916\n",
      "1.06458266679 0.412640831941 2.62617510886 -1.06918460916\n",
      "1.06458266679 0.412640831941 2.62617510886 -1.06918460916\n",
      "1.06458266679 0.412640831941 2.62617510886 -1.06918460916\n",
      "1.06458266679 0.412640831941 2.62617510886 -1.06765062837\n",
      "1.06458266679 0.412640831941 2.62617510886 -1.06918460916\n",
      "1.063048686 0.412640831941 2.62617510886 -1.06918460916\n",
      "1.06458266679 0.412640831941 2.62617510886 -1.06918460916\n",
      "1.063048686 0.412640831941 2.62617510886 -1.06765062837\n",
      "1.06458266679 0.412640831941 2.62617510886 -1.06918460916\n",
      "1.06458266679 0.412640831941 2.62617510886 -1.06918460916\n",
      "1.06458266679 0.412640831941 2.62617510886 -1.06918460916\n",
      "1.063048686 0.412640831941 2.62770908965 -1.06918460916\n",
      "1.06458266679 0.412640831941 2.62617510886 -1.06918460916\n",
      "1.06458266679 0.412640831941 2.62617510886 -1.06918460916\n",
      "1.063048686 0.412640831941 2.62617510886 -1.06918460916\n",
      "1.06458266679 0.412640831941 2.62617510886 -1.06918460916\n",
      "1.06458266679 0.412640831941 2.62617510886 -1.06765062837\n",
      "1.063048686 0.412640831941 2.62617510886 -1.06918460916\n",
      "1.06458266679 0.412640831941 2.62617510886 -1.06765062837\n",
      "1.06458266679 0.412640831941 2.62617510886 -1.06918460916\n",
      "1.063048686 0.412640831941 2.62617510886 -1.06918460916\n",
      "1.06458266679 0.412640831941 2.62617510886 -1.06918460916\n",
      "1.06458266679 0.412640831941 2.62617510886 -1.06918460916\n",
      "1.063048686 0.412640831941 2.62617510886 -1.06918460916\n",
      "1.063048686 0.412640831941 2.62617510886 -1.07071858994\n",
      "1.06458266679 0.412640831941 2.62617510886 -1.06918460916\n",
      "1.063048686 0.412640831941 2.62617510886 -1.06918460916\n",
      "1.06458266679 0.414174812729 2.62617510886 -1.06765062837\n",
      "1.06611664758 0.414174812729 2.62617510886 -1.06611664758\n",
      "1.06611664758 0.414174812729 2.62464112807 -1.06611664758\n",
      "1.06765062837 0.414174812729 2.62464112807 -1.063048686\n"
     ]
    },
    {
     "name": "stdout",
     "output_type": "stream",
     "text": [
      "1.06918460916 0.414174812729 2.62617510886 -1.06151470522\n",
      "1.06918460916 0.414174812729 2.62617510886 -1.06151470522\n",
      "1.06918460916 0.414174812729 2.62617510886 -1.063048686\n",
      "1.06918460916 0.414174812729 2.62770908965 -1.063048686\n",
      "1.06918460916 0.414174812729 2.62770908965 -1.06458266679\n",
      "1.06918460916 0.414174812729 2.62924307044 -1.06458266679\n",
      "1.06918460916 0.414174812729 2.62924307044 -1.06458266679\n",
      "1.07071858994 0.414174812729 2.62924307044 -1.06458266679\n",
      "1.06918460916 0.414174812729 2.62924307044 -1.06458266679\n",
      "1.06918460916 0.415708793517 2.63077705122 -1.06458266679\n",
      "1.06918460916 0.414174812729 2.62924307044 -1.06458266679\n",
      "1.06918460916 0.414174812729 2.62924307044 -1.06611664758\n",
      "1.06918460916 0.415708793517 2.62924307044 -1.06458266679\n",
      "1.06918460916 0.414174812729 2.62924307044 -1.06458266679\n",
      "1.06918460916 0.415708793517 2.63077705122 -1.06611664758\n",
      "1.06918460916 0.415708793517 2.62924307044 -1.06458266679\n",
      "1.06918460916 0.415708793517 2.63077705122 -1.06458266679\n",
      "1.06918460916 0.415708793517 2.62924307044 -1.06458266679\n",
      "1.07071858994 0.415708793517 2.63077705122 -1.06458266679\n",
      "1.06918460916 0.415708793517 2.62924307044 -1.06458266679\n",
      "1.07071858994 0.414174812729 2.62924307044 -1.06458266679\n",
      "1.06918460916 0.415708793517 2.63077705122 -1.06458266679\n",
      "1.07071858994 0.415708793517 2.62924307044 -1.06458266679\n",
      "1.06918460916 0.414174812729 2.63077705122 -1.06458266679\n",
      "1.06918460916 0.415708793517 2.63077705122 -1.06458266679\n",
      "1.06918460916 0.415708793517 2.62924307044 -1.063048686\n",
      "1.06918460916 0.414174812729 2.62924307044 -1.06458266679\n",
      "1.06918460916 0.415708793517 2.62924307044 -1.06458266679\n",
      "1.06918460916 0.415708793517 2.63077705122 -1.063048686\n",
      "1.06918460916 0.415708793517 2.62924307044 -1.06458266679\n",
      "1.06918460916 0.415708793517 2.62924307044 -1.06611664758\n",
      "1.06918460916 0.415708793517 2.62924307044 -1.06611664758\n",
      "1.06918460916 0.415708793517 2.62924307044 -1.06611664758\n",
      "1.06918460916 0.415708793517 2.63077705122 -1.06611664758\n",
      "1.06918460916 0.415708793517 2.63077705122 -1.06458266679\n",
      "1.06918460916 0.415708793517 2.63077705122 -1.06458266679\n",
      "1.06918460916 0.415708793517 2.62924307044 -1.06458266679\n",
      "1.07071858994 0.415708793517 2.62924307044 -1.06611664758\n",
      "1.06918460916 0.415708793517 2.62924307044 -1.06458266679\n",
      "1.06918460916 0.415708793517 2.63077705122 -1.06458266679\n",
      "1.06918460916 0.415708793517 2.62924307044 -1.06458266679\n",
      "1.06918460916 0.414174812729 2.62924307044 -1.06458266679\n",
      "1.07071858994 0.414174812729 2.62924307044 -1.06458266679\n",
      "1.06918460916 0.415708793517 2.62924307044 -1.06458266679\n",
      "1.06918460916 0.415708793517 2.62924307044 -1.06458266679\n",
      "1.06918460916 0.414174812729 2.62924307044 -1.06458266679\n",
      "1.06918460916 0.414174812729 2.62924307044 -1.063048686\n",
      "1.06918460916 0.414174812729 2.62924307044 -1.06458266679\n",
      "1.06918460916 0.414174812729 2.62924307044 -1.06458266679\n",
      "1.06918460916 0.415708793517 2.62924307044 -1.06458266679\n",
      "1.06918460916 0.414174812729 2.62924307044 -1.06458266679\n",
      "1.06918460916 0.414174812729 2.62924307044 -1.06458266679\n",
      "1.06918460916 0.414174812729 2.62924307044 -1.06458266679\n",
      "1.06918460916 0.414174812729 2.62924307044 -1.06458266679\n",
      "1.06918460916 0.415708793517 2.62924307044 -1.06458266679\n",
      "1.07071858994 0.414174812729 2.62924307044 -1.06458266679\n",
      "1.06918460916 0.414174812729 2.62924307044 -1.063048686\n",
      "1.06918460916 0.414174812729 2.62924307044 -1.06458266679\n",
      "1.06918460916 0.414174812729 2.62924307044 -1.06611664758\n",
      "1.06918460916 0.414174812729 2.62924307044 -1.06458266679\n",
      "1.06918460916 0.414174812729 2.62770908965 -1.06458266679\n",
      "1.06918460916 0.414174812729 2.62770908965 -1.06458266679\n",
      "1.06918460916 0.414174812729 2.62770908965 -1.063048686\n",
      "1.06918460916 0.414174812729 2.62924307044 -1.06458266679\n",
      "1.06918460916 0.414174812729 2.62770908965 -1.063048686\n",
      "1.06918460916 0.414174812729 2.62770908965 -1.063048686\n",
      "1.06918460916 0.414174812729 2.62770908965 -1.06458266679\n",
      "1.06918460916 0.414174812729 2.62770908965 -1.06458266679\n",
      "1.06918460916 0.414174812729 2.62770908965 -1.063048686\n",
      "1.06918460916 0.414174812729 2.62770908965 -1.06458266679\n",
      "1.07071858994 0.414174812729 2.62770908965 -1.06458266679\n",
      "1.06918460916 0.414174812729 2.62770908965 -1.063048686\n",
      "1.06918460916 0.414174812729 2.62770908965 -1.06458266679\n",
      "1.06918460916 0.414174812729 2.62770908965 -1.063048686\n",
      "1.06765062837 0.414174812729 2.62770908965 -1.06458266679\n",
      "1.06918460916 0.415708793517 2.62770908965 -1.063048686\n",
      "1.06918460916 0.414174812729 2.62924307044 -1.06458266679\n",
      "1.06918460916 0.415708793517 2.62924307044 -1.06458266679\n",
      "1.06918460916 0.415708793517 2.62924307044 -1.06458266679\n",
      "1.06918460916 0.414174812729 2.63077705122 -1.06458266679\n",
      "1.06918460916 0.415708793517 2.62924307044 -1.06458266679\n",
      "1.06918460916 0.415708793517 2.63077705122 -1.06458266679\n",
      "1.06918460916 0.415708793517 2.63077705122 -1.06458266679\n",
      "1.07071858994 0.415708793517 2.63077705122 -1.06458266679\n",
      "1.07071858994 0.415708793517 2.63077705122 -1.06458266679\n",
      "1.07071858994 0.415708793517 2.63077705122 -1.06458266679\n",
      "1.07071858994 0.415708793517 2.63077705122 -1.06458266679\n",
      "1.07071858994 0.415708793517 2.63077705122 -1.06458266679\n",
      "1.07071858994 0.415708793517 2.63077705122 -1.06458266679\n",
      "1.07071858994 0.415708793517 2.63077705122 -1.06458266679\n",
      "1.07071858994 0.415708793517 2.63077705122 -1.06458266679\n",
      "1.07071858994 0.415708793517 2.63077705122 -1.06458266679\n",
      "1.06918460916 0.415708793517 2.63077705122 -1.06611664758\n",
      "1.06918460916 0.415708793517 2.63077705122 -1.06458266679\n",
      "1.07071858994 0.415708793517 2.63077705122 -1.06458266679\n",
      "1.07071858994 0.415708793517 2.63077705122 -1.06458266679\n",
      "1.07071858994 0.415708793517 2.63077705122 -1.06458266679\n",
      "1.07071858994 0.415708793517 2.63077705122 -1.06458266679\n",
      "1.07071858994 0.415708793517 2.63077705122 -1.06458266679\n",
      "1.07071858994 0.415708793517 2.63077705122 -1.06611664758\n",
      "1.07071858994 0.415708793517 2.63077705122 -1.06611664758\n",
      "1.07071858994 0.415708793517 2.63077705122 -1.06458266679\n",
      "1.07071858994 0.415708793517 2.63077705122 -1.06458266679\n",
      "1.07071858994 0.415708793517 2.63077705122 -1.06458266679\n",
      "1.07071858994 0.415708793517 2.63077705122 -1.06458266679\n",
      "1.07071858994 0.415708793517 2.63077705122 -1.06458266679\n",
      "1.07071858994 0.415708793517 2.63077705122 -1.06458266679\n",
      "1.07071858994 0.415708793517 2.63077705122 -1.06458266679\n",
      "1.07071858994 0.415708793517 2.63077705122 -1.06611664758\n",
      "1.07071858994 0.415708793517 2.63077705122 -1.06611664758\n",
      "1.07071858994 0.415708793517 2.63077705122 -1.06611664758\n",
      "1.07071858994 0.415708793517 2.63077705122 -1.06458266679\n",
      "1.07071858994 0.415708793517 2.63077705122 -1.06458266679\n",
      "1.07071858994 0.415708793517 2.63077705122 -1.06611664758\n",
      "1.07071858994 0.415708793517 2.63077705122 -1.06458266679\n",
      "1.07071858994 0.415708793517 2.63077705122 -1.06458266679\n",
      "1.07071858994 0.415708793517 2.63077705122 -1.06458266679\n",
      "1.07071858994 0.415708793517 2.63077705122 -1.06458266679\n",
      "1.07071858994 0.415708793517 2.63077705122 -1.06458266679\n",
      "1.07071858994 0.415708793517 2.63077705122 -1.06458266679\n",
      "1.07071858994 0.415708793517 2.63077705122 -1.06458266679\n",
      "1.06918460916 0.415708793517 2.63077705122 -1.06458266679\n",
      "1.07071858994 0.415708793517 2.63077705122 -1.06458266679\n",
      "1.07071858994 0.415708793517 2.63077705122 -1.06458266679\n",
      "1.07071858994 0.415708793517 2.63077705122 -1.06611664758\n",
      "1.07071858994 0.415708793517 2.63077705122 -1.06611664758\n",
      "1.07071858994 0.415708793517 2.63077705122 -1.06458266679\n",
      "1.07071858994 0.415708793517 2.63077705122 -1.06458266679\n",
      "1.07071858994 0.415708793517 2.63077705122 -1.06458266679\n",
      "1.07071858994 0.415708793517 2.63077705122 -1.06458266679\n",
      "1.07071858994 0.415708793517 2.63077705122 -1.06458266679\n",
      "1.07071858994 0.415708793517 2.63077705122 -1.06611664758\n",
      "1.07071858994 0.415708793517 2.63077705122 -1.06458266679\n",
      "1.07071858994 0.415708793517 2.63077705122 -1.06458266679\n",
      "1.07071858994 0.415708793517 2.63077705122 -1.06458266679\n",
      "1.07071858994 0.415708793517 2.63077705122 -1.06611664758\n",
      "1.07071858994 0.415708793517 2.63077705122 -1.06611664758\n",
      "1.07071858994 0.415708793517 2.63077705122 -1.06611664758\n",
      "1.07071858994 0.415708793517 2.63077705122 -1.06458266679\n",
      "1.07071858994 0.415708793517 2.63077705122 -1.06458266679\n",
      "1.07071858994 0.415708793517 2.63077705122 -1.06458266679\n",
      "1.07071858994 0.415708793517 2.63077705122 -1.06458266679\n"
     ]
    },
    {
     "name": "stdout",
     "output_type": "stream",
     "text": [
      "1.07071858994 0.415708793517 2.63077705122 -1.06458266679\n",
      "1.07071858994 0.415708793517 2.63077705122 -1.06458266679\n",
      "1.07071858994 0.415708793517 2.63077705122 -1.06611664758\n",
      "1.07071858994 0.415708793517 2.63077705122 -1.06458266679\n",
      "1.07071858994 0.415708793517 2.63077705122 -1.06458266679\n",
      "1.07071858994 0.415708793517 2.63077705122 -1.06458266679\n",
      "1.06918460916 0.415708793517 2.63077705122 -1.06458266679\n",
      "1.07071858994 0.415708793517 2.63077705122 -1.06611664758\n",
      "1.07071858994 0.415708793517 2.63077705122 -1.06458266679\n",
      "1.07071858994 0.415708793517 2.63077705122 -1.06458266679\n",
      "1.07071858994 0.415708793517 2.63077705122 -1.06458266679\n",
      "1.07071858994 0.415708793517 2.63077705122 -1.06611664758\n",
      "1.07071858994 0.415708793517 2.63077705122 -1.06611664758\n",
      "1.07071858994 0.415708793517 2.63077705122 -1.06458266679\n",
      "1.07071858994 0.415708793517 2.63077705122 -1.06458266679\n",
      "1.07071858994 0.415708793517 2.63077705122 -1.06458266679\n",
      "1.07071858994 0.415708793517 2.63077705122 -1.06458266679\n",
      "1.07071858994 0.415708793517 2.63077705122 -1.063048686\n",
      "1.07071858994 0.415708793517 2.63077705122 -1.06611664758\n",
      "1.07071858994 0.415708793517 2.63077705122 -1.06611664758\n",
      "1.07071858994 0.415708793517 2.63077705122 -1.06458266679\n",
      "1.07071858994 0.415708793517 2.63077705122 -1.06458266679\n",
      "1.07071858994 0.415708793517 2.63077705122 -1.06611664758\n",
      "1.07071858994 0.415708793517 2.63077705122 -1.06458266679\n",
      "1.07071858994 0.415708793517 2.63077705122 -1.06458266679\n",
      "1.07071858994 0.415708793517 2.63077705122 -1.06611664758\n",
      "1.07071858994 0.415708793517 2.63077705122 -1.06458266679\n",
      "1.07071858994 0.415708793517 2.63077705122 -1.06611664758\n",
      "1.07071858994 0.415708793517 2.63077705122 -1.06458266679\n",
      "1.07071858994 0.415708793517 2.63077705122 -1.06458266679\n",
      "1.07071858994 0.415708793517 2.63077705122 -1.06611664758\n",
      "1.07071858994 0.415708793517 2.63077705122 -1.06611664758\n",
      "1.07071858994 0.415708793517 2.63077705122 -1.06611664758\n",
      "1.07071858994 0.415708793517 2.63077705122 -1.06458266679\n",
      "1.07071858994 0.415708793517 2.63077705122 -1.06458266679\n",
      "1.07071858994 0.415708793517 2.63077705122 -1.06458266679\n",
      "1.07071858994 0.415708793517 2.63077705122 -1.06458266679\n",
      "1.07071858994 0.415708793517 2.63077705122 -1.06458266679\n",
      "1.07071858994 0.415708793517 2.63077705122 -1.06458266679\n",
      "1.07225257073 0.415708793517 2.63077705122 -1.06458266679\n",
      "1.07071858994 0.415708793517 2.63077705122 -1.06458266679\n",
      "1.07071858994 0.415708793517 2.63077705122 -1.06458266679\n",
      "1.07071858994 0.415708793517 2.63077705122 -1.06458266679\n",
      "1.07071858994 0.415708793517 2.63077705122 -1.06458266679\n",
      "1.07071858994 0.415708793517 2.63077705122 -1.06611664758\n",
      "1.07071858994 0.415708793517 2.63077705122 -1.06611664758\n",
      "1.07071858994 0.415708793517 2.63077705122 -1.06458266679\n",
      "1.07071858994 0.415708793517 2.63077705122 -1.06458266679\n",
      "1.07071858994 0.415708793517 2.63077705122 -1.06458266679\n",
      "1.06918460916 0.415708793517 2.63077705122 -1.06611664758\n",
      "1.07071858994 0.415708793517 2.63077705122 -1.06458266679\n",
      "1.07071858994 0.415708793517 2.63077705122 -1.06458266679\n",
      "1.07071858994 0.415708793517 2.63077705122 -1.06458266679\n",
      "1.07071858994 0.415708793517 2.63077705122 -1.06458266679\n",
      "1.07071858994 0.415708793517 2.63077705122 -1.06611664758\n",
      "1.07071858994 0.415708793517 2.63077705122 -1.06611664758\n",
      "1.07071858994 0.415708793517 2.63077705122 -1.06611664758\n",
      "1.07071858994 0.415708793517 2.63077705122 -1.06611664758\n",
      "1.07071858994 0.415708793517 2.63077705122 -1.06458266679\n",
      "1.07071858994 0.415708793517 2.63077705122 -1.06458266679\n",
      "1.07071858994 0.415708793517 2.63077705122 -1.06611664758\n",
      "1.07071858994 0.415708793517 2.63077705122 -1.06458266679\n",
      "1.07071858994 0.415708793517 2.63077705122 -1.06458266679\n",
      "1.07071858994 0.415708793517 2.63077705122 -1.06458266679\n",
      "1.07071858994 0.415708793517 2.63077705122 -1.06611664758\n",
      "1.07071858994 0.415708793517 2.63077705122 -1.06458266679\n",
      "1.07071858994 0.415708793517 2.63077705122 -1.06458266679\n",
      "1.07071858994 0.415708793517 2.63077705122 -1.06611664758\n",
      "1.07071858994 0.415708793517 2.63077705122 -1.06611664758\n",
      "1.07071858994 0.415708793517 2.63077705122 -1.06611664758\n",
      "1.07071858994 0.415708793517 2.63077705122 -1.06458266679\n",
      "1.07071858994 0.415708793517 2.63077705122 -1.06611664758\n",
      "1.07071858994 0.415708793517 2.63077705122 -1.06611664758\n",
      "1.07071858994 0.415708793517 2.63077705122 -1.06458266679\n",
      "1.07071858994 0.415708793517 2.63077705122 -1.06458266679\n",
      "1.07071858994 0.415708793517 2.63077705122 -1.06611664758\n",
      "1.07071858994 0.415708793517 2.63077705122 -1.06458266679\n",
      "1.07071858994 0.415708793517 2.63077705122 -1.06458266679\n",
      "1.07071858994 0.415708793517 2.63077705122 -1.06458266679\n",
      "1.07071858994 0.415708793517 2.63077705122 -1.06458266679\n",
      "1.07071858994 0.417242774305 2.63077705122 -1.06458266679\n",
      "1.07071858994 0.417242774305 2.63077705122 -1.06458266679\n",
      "1.07071858994 0.415708793517 2.63077705122 -1.06458266679\n",
      "1.07071858994 0.417242774305 2.63077705122 -1.06458266679\n",
      "1.07071858994 0.417242774305 2.63077705122 -1.06458266679\n",
      "1.07071858994 0.417242774305 2.63077705122 -1.06458266679\n",
      "1.07071858994 0.417242774305 2.63077705122 -1.06458266679\n",
      "1.07071858994 0.417242774305 2.63077705122 -1.06611664758\n",
      "1.07071858994 0.417242774305 2.63077705122 -1.06458266679\n",
      "1.07071858994 0.417242774305 2.63077705122 -1.06458266679\n",
      "1.07071858994 0.417242774305 2.63077705122 -1.06458266679\n",
      "1.07071858994 0.417242774305 2.63077705122 -1.06458266679\n",
      "1.07071858994 0.417242774305 2.63077705122 -1.063048686\n",
      "1.06918460916 0.417242774305 2.63077705122 -1.06458266679\n",
      "1.07071858994 0.417242774305 2.63077705122 -1.06458266679\n",
      "1.07071858994 0.417242774305 2.63077705122 -1.06458266679\n",
      "1.07071858994 0.417242774305 2.63077705122 -1.06458266679\n",
      "1.07071858994 0.417242774305 2.63077705122 -1.06611664758\n",
      "1.07071858994 0.417242774305 2.63077705122 -1.06611664758\n",
      "1.06918460916 0.417242774305 2.63077705122 -1.06611664758\n",
      "1.07071858994 0.417242774305 2.63077705122 -1.06458266679\n",
      "1.07071858994 0.417242774305 2.63077705122 -1.06458266679\n",
      "1.07071858994 0.417242774305 2.63077705122 -1.06611664758\n",
      "1.07071858994 0.417242774305 2.63077705122 -1.06458266679\n",
      "1.07071858994 0.417242774305 2.63077705122 -1.06458266679\n",
      "1.07071858994 0.417242774305 2.63077705122 -1.06458266679\n",
      "1.07071858994 0.417242774305 2.63077705122 -1.06458266679\n",
      "1.06918460916 0.417242774305 2.63077705122 -1.06458266679\n",
      "1.07071858994 0.417242774305 2.63077705122 -1.06458266679\n",
      "1.07071858994 0.417242774305 2.63077705122 -1.06458266679\n",
      "1.07071858994 0.417242774305 2.63077705122 -1.06458266679\n",
      "1.07071858994 0.417242774305 2.63077705122 -1.06458266679\n",
      "1.07071858994 0.417242774305 2.63077705122 -1.06458266679\n",
      "1.07071858994 0.417242774305 2.63077705122 -1.06458266679\n",
      "1.07071858994 0.417242774305 2.63231103201 -1.06458266679\n",
      "1.07071858994 0.417242774305 2.63231103201 -1.06458266679\n",
      "1.07071858994 0.417242774305 2.63077705122 -1.06458266679\n",
      "1.07071858994 0.417242774305 2.63231103201 -1.06458266679\n",
      "1.07071858994 0.417242774305 2.63077705122 -1.063048686\n",
      "1.07071858994 0.417242774305 2.63077705122 -1.06458266679\n",
      "1.07071858994 0.417242774305 2.63077705122 -1.06611664758\n",
      "1.07071858994 0.417242774305 2.63077705122 -1.06458266679\n",
      "1.07071858994 0.417242774305 2.63077705122 -1.06458266679\n",
      "1.07071858994 0.418776755093 2.63077705122 -1.06458266679\n",
      "1.07071858994 0.418776755093 2.63077705122 -1.06458266679\n",
      "1.06918460916 0.417242774305 2.63077705122 -1.06458266679\n",
      "1.07071858994 0.417242774305 2.63077705122 -1.06458266679\n",
      "1.07071858994 0.418776755093 2.63077705122 -1.06458266679\n",
      "1.07071858994 0.417242774305 2.63231103201 -1.06458266679\n",
      "1.07071858994 0.417242774305 2.63077705122 -1.06458266679\n",
      "1.07071858994 0.417242774305 2.63077705122 -1.06458266679\n",
      "1.07071858994 0.418776755093 2.63077705122 -1.06611664758\n",
      "1.07071858994 0.417242774305 2.63077705122 -1.06458266679\n",
      "1.07071858994 0.418776755093 2.63077705122 -1.06458266679\n",
      "1.06918460916 0.418776755093 2.63231103201 -1.063048686\n",
      "1.07071858994 0.418776755093 2.63077705122 -1.06458266679\n",
      "1.07071858994 0.418776755093 2.63077705122 -1.06458266679\n",
      "1.06918460916 0.417242774305 2.63231103201 -1.06458266679\n",
      "1.07071858994 0.418776755093 2.63077705122 -1.063048686\n",
      "1.07071858994 0.418776755093 2.63077705122 -1.063048686\n",
      "1.07071858994 0.418776755093 2.63077705122 -1.063048686\n",
      "1.07071858994 0.418776755093 2.63231103201 -1.06458266679\n",
      "1.06918460916 0.418776755093 2.63077705122 -1.06458266679\n",
      "1.06918460916 0.418776755093 2.63231103201 -1.06458266679\n"
     ]
    },
    {
     "name": "stdout",
     "output_type": "stream",
     "text": [
      "1.07071858994 0.418776755093 2.63077705122 -1.06458266679\n",
      "1.07071858994 0.418776755093 2.63231103201 -1.06458266679\n",
      "1.06918460916 0.418776755093 2.63077705122 -1.06458266679\n",
      "1.06918460916 0.418776755093 2.63231103201 -1.06458266679\n",
      "1.06918460916 0.418776755093 2.63231103201 -1.06458266679\n",
      "1.07071858994 0.418776755093 2.63231103201 -1.06458266679\n",
      "1.07071858994 0.418776755093 2.63231103201 -1.06458266679\n",
      "1.07071858994 0.418776755093 2.63231103201 -1.06458266679\n",
      "1.07071858994 0.418776755093 2.63077705122 -1.063048686\n",
      "1.06918460916 0.418776755093 2.63231103201 -1.063048686\n",
      "1.07071858994 0.418776755093 2.63231103201 -1.063048686\n",
      "1.06918460916 0.420310735881 2.63231103201 -1.063048686\n",
      "1.06918460916 0.420310735881 2.63231103201 -1.063048686\n",
      "1.06918460916 0.420310735881 2.63077705122 -1.063048686\n",
      "1.06918460916 0.420310735881 2.63231103201 -1.063048686\n",
      "1.06918460916 0.420310735881 2.63231103201 -1.063048686\n",
      "1.06918460916 0.420310735881 2.63231103201 -1.063048686\n",
      "1.06918460916 0.420310735881 2.63231103201 -1.06458266679\n",
      "1.06918460916 0.420310735881 2.63231103201 -1.063048686\n",
      "1.06918460916 0.420310735881 2.63231103201 -1.063048686\n",
      "1.06918460916 0.420310735881 2.63231103201 -1.063048686\n",
      "1.06918460916 0.420310735881 2.63231103201 -1.063048686\n",
      "1.06918460916 0.420310735881 2.63231103201 -1.063048686\n",
      "1.06918460916 0.421844716669 2.63231103201 -1.063048686\n",
      "1.06918460916 0.421844716669 2.63231103201 -1.063048686\n",
      "1.06918460916 0.421844716669 2.63231103201 -1.063048686\n",
      "1.06918460916 0.421844716669 2.63231103201 -1.063048686\n",
      "1.06765062837 0.421844716669 2.63231103201 -1.063048686\n",
      "1.06765062837 0.421844716669 2.63231103201 -1.063048686\n",
      "1.06765062837 0.421844716669 2.63231103201 -1.063048686\n",
      "1.06765062837 0.421844716669 2.63231103201 -1.063048686\n",
      "1.06765062837 0.421844716669 2.63231103201 -1.06151470522\n",
      "1.06765062837 0.421844716669 2.63231103201 -1.06151470522\n",
      "1.06765062837 0.423378697456 2.63231103201 -1.06151470522\n",
      "1.06765062837 0.423378697456 2.63231103201 -1.06151470522\n",
      "1.06765062837 0.423378697456 2.63231103201 -1.063048686\n",
      "1.06765062837 0.423378697456 2.63231103201 -1.06151470522\n",
      "1.06765062837 0.423378697456 2.63231103201 -1.06151470522\n",
      "1.06765062837 0.423378697456 2.63231103201 -1.06151470522\n",
      "1.06765062837 0.423378697456 2.63231103201 -1.06151470522\n",
      "1.06765062837 0.423378697456 2.63231103201 -1.05998072443\n",
      "1.06765062837 0.423378697456 2.63231103201 -1.06151470522\n",
      "1.06765062837 0.423378697456 2.63231103201 -1.05998072443\n",
      "1.06765062837 0.423378697456 2.63231103201 -1.05998072443\n",
      "1.06765062837 0.424912678244 2.63231103201 -1.05998072443\n",
      "1.06918460916 0.424912678244 2.63231103201 -1.05998072443\n",
      "1.06765062837 0.424912678244 2.63231103201 -1.05844674364\n",
      "1.06765062837 0.424912678244 2.63231103201 -1.05844674364\n",
      "1.06765062837 0.424912678244 2.63231103201 -1.05844674364\n",
      "1.06765062837 0.424912678244 2.63231103201 -1.05998072443\n",
      "1.06765062837 0.426446659032 2.63231103201 -1.05844674364\n",
      "1.06611664758 0.424912678244 2.63231103201 -1.05844674364\n",
      "1.06765062837 0.426446659032 2.63231103201 -1.05691276285\n",
      "1.06611664758 0.426446659032 2.63231103201 -1.05691276285\n",
      "1.06611664758 0.426446659032 2.63231103201 -1.05691276285\n",
      "1.06765062837 0.426446659032 2.63231103201 -1.05691276285\n",
      "1.06611664758 0.426446659032 2.63231103201 -1.05691276285\n",
      "1.06765062837 0.426446659032 2.63231103201 -1.05691276285\n",
      "1.06611664758 0.426446659032 2.63231103201 -1.05691276285\n",
      "1.06611664758 0.426446659032 2.63231103201 -1.05691276285\n",
      "1.06611664758 0.426446659032 2.63231103201 -1.05691276285\n",
      "1.06611664758 0.426446659032 2.63231103201 -1.05691276285\n",
      "1.06611664758 0.426446659032 2.63231103201 -1.05691276285\n",
      "1.06765062837 0.426446659032 2.63231103201 -1.05691276285\n",
      "1.06611664758 0.426446659032 2.63231103201 -1.05691276285\n",
      "1.06611664758 0.426446659032 2.63231103201 -1.05691276285\n",
      "1.06611664758 0.42798063982 2.63231103201 -1.05691276285\n",
      "1.06611664758 0.42798063982 2.63231103201 -1.05537878207\n",
      "1.06611664758 0.42798063982 2.6338450128 -1.05691276285\n",
      "1.06611664758 0.42798063982 2.63231103201 -1.05537878207\n",
      "1.06611664758 0.42798063982 2.63231103201 -1.05537878207\n",
      "1.06611664758 0.42798063982 2.63231103201 -1.05537878207\n",
      "1.06611664758 0.42798063982 2.63231103201 -1.05384480128\n",
      "1.06611664758 0.42798063982 2.63231103201 -1.05537878207\n",
      "1.06611664758 0.42798063982 2.63231103201 -1.05537878207\n",
      "1.06611664758 0.42798063982 2.63231103201 -1.05537878207\n",
      "1.06611664758 0.42798063982 2.63231103201 -1.05384480128\n",
      "1.06611664758 0.42798063982 2.63231103201 -1.05384480128\n",
      "1.06611664758 0.42798063982 2.63231103201 -1.05384480128\n",
      "1.06611664758 0.42798063982 2.63231103201 -1.05384480128\n",
      "1.06611664758 0.42798063982 2.63231103201 -1.05384480128\n",
      "1.06611664758 0.42798063982 2.6338450128 -1.05384480128\n",
      "1.06611664758 0.42798063982 2.63231103201 -1.05384480128\n",
      "1.06611664758 0.42798063982 2.63231103201 -1.05384480128\n",
      "1.06611664758 0.42798063982 2.63231103201 -1.05384480128\n",
      "1.06611664758 0.42798063982 2.63231103201 -1.05231082049\n",
      "1.06611664758 0.42798063982 2.63231103201 -1.05231082049\n",
      "1.06611664758 0.42798063982 2.63231103201 -1.05231082049\n",
      "1.06611664758 0.429514620608 2.63231103201 -1.05231082049\n",
      "1.06611664758 0.42798063982 2.63231103201 -1.05231082049\n",
      "1.06611664758 0.429514620608 2.6338450128 -1.05384480128\n",
      "1.06611664758 0.429514620608 2.63231103201 -1.05231082049\n",
      "1.06611664758 0.42798063982 2.63231103201 -1.05231082049\n",
      "1.06611664758 0.429514620608 2.6338450128 -1.05231082049\n",
      "1.06611664758 0.429514620608 2.6338450128 -1.05231082049\n",
      "1.06611664758 0.42798063982 2.63231103201 -1.05231082049\n",
      "1.06611664758 0.429514620608 2.63231103201 -1.05231082049\n",
      "1.06611664758 0.429514620608 2.63231103201 -1.05384480128\n",
      "1.06611664758 0.42798063982 2.6338450128 -1.05384480128\n",
      "1.06611664758 0.429514620608 2.63231103201 -1.05384480128\n",
      "1.06611664758 0.429514620608 2.6338450128 -1.05231082049\n",
      "1.06611664758 0.429514620608 2.63231103201 -1.05384480128\n",
      "1.06611664758 0.42798063982 2.63231103201 -1.05384480128\n",
      "1.06611664758 0.429514620608 2.6338450128 -1.05231082049\n",
      "1.06611664758 0.429514620608 2.63231103201 -1.05231082049\n",
      "1.06611664758 0.429514620608 2.6338450128 -1.05384480128\n",
      "1.06611664758 0.429514620608 2.63231103201 -1.05231082049\n",
      "1.06611664758 0.429514620608 2.6338450128 -1.05231082049\n",
      "1.06611664758 0.429514620608 2.6338450128 -1.05231082049\n",
      "1.06611664758 0.429514620608 2.63231103201 -1.05231082049\n",
      "1.06611664758 0.429514620608 2.6338450128 -1.05231082049\n",
      "1.06611664758 0.42798063982 2.6338450128 -1.05231082049\n",
      "1.06611664758 0.42798063982 2.6338450128 -1.05231082049\n",
      "1.06611664758 0.42798063982 2.63231103201 -1.05231082049\n",
      "1.06611664758 0.42798063982 2.63231103201 -1.05231082049\n",
      "1.06611664758 0.42798063982 2.63231103201 -1.05231082049\n",
      "1.06611664758 0.429514620608 2.63231103201 -1.05231082049\n",
      "1.06611664758 0.42798063982 2.6338450128 -1.05231082049\n",
      "1.06611664758 0.42798063982 2.63231103201 -1.05384480128\n",
      "1.06611664758 0.42798063982 2.63231103201 -1.0507768397\n",
      "1.06611664758 0.429514620608 2.63231103201 -1.05384480128\n",
      "1.06611664758 0.42798063982 2.63231103201 -1.05231082049\n",
      "1.06458266679 0.42798063982 2.63231103201 -1.05231082049\n",
      "1.06611664758 0.42798063982 2.63231103201 -1.05384480128\n",
      "1.06611664758 0.42798063982 2.63231103201 -1.05384480128\n",
      "1.06611664758 0.42798063982 2.63231103201 -1.05384480128\n",
      "1.06611664758 0.42798063982 2.63231103201 -1.05231082049\n",
      "1.06611664758 0.42798063982 2.63231103201 -1.05231082049\n",
      "1.06611664758 0.42798063982 2.63231103201 -1.05231082049\n",
      "1.06611664758 0.42798063982 2.6338450128 -1.05231082049\n",
      "1.06611664758 0.42798063982 2.63231103201 -1.05231082049\n",
      "1.06611664758 0.42798063982 2.6338450128 -1.05231082049\n",
      "1.06611664758 0.42798063982 2.63231103201 -1.05384480128\n",
      "1.06611664758 0.42798063982 2.63231103201 -1.05231082049\n",
      "1.06611664758 0.42798063982 2.63231103201 -1.05231082049\n",
      "1.06611664758 0.42798063982 2.6338450128 -1.05231082049\n",
      "1.06611664758 0.42798063982 2.63231103201 -1.05384480128\n",
      "1.06611664758 0.42798063982 2.6338450128 -1.05231082049\n",
      "1.06611664758 0.42798063982 2.63231103201 -1.05231082049\n",
      "1.06611664758 0.42798063982 2.6338450128 -1.05384480128\n",
      "1.06611664758 0.42798063982 2.6338450128 -1.05231082049\n",
      "1.06611664758 0.42798063982 2.63231103201 -1.05384480128\n",
      "1.06611664758 0.42798063982 2.63231103201 -1.05384480128\n",
      "1.06611664758 0.42798063982 2.63231103201 -1.05384480128\n",
      "1.06611664758 0.42798063982 2.6338450128 -1.05231082049\n",
      "1.06611664758 0.42798063982 2.63231103201 -1.05231082049\n",
      "1.06765062837 0.42798063982 2.6338450128 -1.05231082049\n"
     ]
    },
    {
     "name": "stdout",
     "output_type": "stream",
     "text": [
      "1.06611664758 0.42798063982 2.63231103201 -1.05231082049\n",
      "1.06611664758 0.42798063982 2.6338450128 -1.05231082049\n",
      "1.06611664758 0.42798063982 2.6338450128 -1.05231082049\n",
      "1.06611664758 0.42798063982 2.63231103201 -1.05231082049\n",
      "1.06611664758 0.42798063982 2.63231103201 -1.05384480128\n",
      "1.06611664758 0.42798063982 2.63231103201 -1.05231082049\n",
      "1.06765062837 0.42798063982 2.63231103201 -1.05384480128\n",
      "1.06611664758 0.42798063982 2.63231103201 -1.05231082049\n",
      "1.06611664758 0.42798063982 2.63231103201 -1.05384480128\n",
      "1.06611664758 0.42798063982 2.63231103201 -1.05231082049\n",
      "1.06611664758 0.42798063982 2.63231103201 -1.05231082049\n",
      "1.06611664758 0.42798063982 2.63231103201 -1.05231082049\n",
      "1.06765062837 0.42798063982 2.63231103201 -1.05384480128\n",
      "1.06611664758 0.42798063982 2.63231103201 -1.05231082049\n",
      "1.06611664758 0.42798063982 2.6338450128 -1.05231082049\n",
      "1.06611664758 0.42798063982 2.6338450128 -1.05231082049\n",
      "1.06611664758 0.42798063982 2.63231103201 -1.05231082049\n",
      "1.06611664758 0.42798063982 2.63231103201 -1.05231082049\n",
      "1.06611664758 0.42798063982 2.63231103201 -1.05231082049\n",
      "1.06611664758 0.42798063982 2.63231103201 -1.05384480128\n",
      "1.06611664758 0.42798063982 2.63231103201 -1.05231082049\n",
      "1.06765062837 0.42798063982 2.63231103201 -1.05231082049\n",
      "1.06611664758 0.42798063982 2.63231103201 -1.05231082049\n",
      "1.06611664758 0.42798063982 2.63231103201 -1.05384480128\n",
      "1.06611664758 0.42798063982 2.63231103201 -1.05384480128\n",
      "1.06611664758 0.42798063982 2.63231103201 -1.05384480128\n",
      "1.06611664758 0.42798063982 2.63231103201 -1.05384480128\n",
      "1.06611664758 0.42798063982 2.63231103201 -1.05384480128\n",
      "1.06611664758 0.42798063982 2.63231103201 -1.05231082049\n",
      "1.06611664758 0.42798063982 2.6338450128 -1.05231082049\n",
      "1.06458266679 0.42798063982 2.6338450128 -1.05231082049\n",
      "1.06611664758 0.42798063982 2.63231103201 -1.05231082049\n",
      "1.06611664758 0.42798063982 2.6338450128 -1.05384480128\n",
      "1.06611664758 0.42798063982 2.6338450128 -1.05231082049\n",
      "1.06611664758 0.42798063982 2.6338450128 -1.05384480128\n",
      "1.06611664758 0.42798063982 2.63231103201 -1.05384480128\n",
      "1.06611664758 0.42798063982 2.63231103201 -1.05384480128\n",
      "1.06611664758 0.42798063982 2.63231103201 -1.05231082049\n",
      "1.06611664758 0.42798063982 2.63231103201 -1.05231082049\n",
      "1.06765062837 0.42798063982 2.6338450128 -1.05231082049\n",
      "1.06611664758 0.42798063982 2.6338450128 -1.05384480128\n",
      "1.06611664758 0.42798063982 2.63231103201 -1.05231082049\n",
      "1.06611664758 0.42798063982 2.6338450128 -1.05231082049\n",
      "1.06611664758 0.42798063982 2.6338450128 -1.05231082049\n",
      "1.06611664758 0.42798063982 2.63231103201 -1.05231082049\n",
      "1.06611664758 0.42798063982 2.63231103201 -1.05384480128\n",
      "1.06611664758 0.42798063982 2.6338450128 -1.05231082049\n",
      "1.06611664758 0.42798063982 2.63231103201 -1.05231082049\n",
      "1.06611664758 0.42798063982 2.6338450128 -1.05231082049\n",
      "1.06611664758 0.42798063982 2.6338450128 -1.05231082049\n",
      "1.06611664758 0.42798063982 2.63231103201 -1.05231082049\n",
      "1.06611664758 0.42798063982 2.6338450128 -1.05231082049\n",
      "1.06611664758 0.42798063982 2.63231103201 -1.05231082049\n",
      "1.06611664758 0.42798063982 2.63231103201 -1.05231082049\n",
      "1.06611664758 0.42798063982 2.63231103201 -1.05231082049\n",
      "1.06611664758 0.42798063982 2.63231103201 -1.05384480128\n",
      "1.06611664758 0.42798063982 2.63231103201 -1.05384480128\n",
      "1.06611664758 0.42798063982 2.6338450128 -1.05384480128\n",
      "1.06611664758 0.42798063982 2.63231103201 -1.05384480128\n",
      "1.06611664758 0.42798063982 2.6338450128 -1.05384480128\n",
      "1.06611664758 0.42798063982 2.63231103201 -1.05384480128\n",
      "1.06611664758 0.42798063982 2.6338450128 -1.05384480128\n",
      "1.06611664758 0.42798063982 2.63231103201 -1.05231082049\n",
      "1.06611664758 0.42798063982 2.6338450128 -1.05384480128\n",
      "1.06611664758 0.42798063982 2.63231103201 -1.05384480128\n",
      "1.06611664758 0.42798063982 2.63231103201 -1.05231082049\n",
      "1.06611664758 0.42798063982 2.63231103201 -1.05231082049\n",
      "1.06611664758 0.42798063982 2.63231103201 -1.05231082049\n",
      "1.06611664758 0.42798063982 2.63231103201 -1.05384480128\n",
      "1.06611664758 0.42798063982 2.6338450128 -1.05231082049\n",
      "1.06611664758 0.42798063982 2.6338450128 -1.05384480128\n",
      "1.06611664758 0.42798063982 2.63231103201 -1.05231082049\n",
      "1.06611664758 0.42798063982 2.63231103201 -1.05231082049\n",
      "1.06611664758 0.42798063982 2.6338450128 -1.05384480128\n",
      "1.06611664758 0.42798063982 2.63231103201 -1.05231082049\n",
      "1.06611664758 0.42798063982 2.63231103201 -1.05384480128\n",
      "1.06611664758 0.42798063982 2.6338450128 -1.05231082049\n",
      "1.06611664758 0.42798063982 2.6338450128 -1.05231082049\n",
      "1.06611664758 0.42798063982 2.63231103201 -1.05231082049\n",
      "1.06611664758 0.42798063982 2.63231103201 -1.05231082049\n",
      "1.06611664758 0.42798063982 2.63231103201 -1.05231082049\n",
      "1.06611664758 0.42798063982 2.63231103201 -1.05231082049\n",
      "1.06611664758 0.42798063982 2.63231103201 -1.05231082049\n",
      "1.06765062837 0.42798063982 2.63231103201 -1.05231082049\n",
      "1.06611664758 0.42798063982 2.63231103201 -1.05231082049\n",
      "1.06765062837 0.42798063982 2.63231103201 -1.05231082049\n",
      "1.06611664758 0.42798063982 2.6338450128 -1.05231082049\n",
      "1.06611664758 0.42798063982 2.6338450128 -1.05384480128\n",
      "1.06611664758 0.42798063982 2.6338450128 -1.05384480128\n",
      "1.06765062837 0.42798063982 2.63231103201 -1.05384480128\n",
      "1.06611664758 0.42798063982 2.6338450128 -1.05384480128\n",
      "1.06611664758 0.42798063982 2.63231103201 -1.0507768397\n",
      "1.06611664758 0.42798063982 2.63231103201 -1.05384480128\n",
      "1.06611664758 0.42798063982 2.6338450128 -1.05384480128\n",
      "1.06611664758 0.42798063982 2.63231103201 -1.05231082049\n",
      "1.06611664758 0.42798063982 2.63231103201 -1.05384480128\n",
      "1.06765062837 0.42798063982 2.6338450128 -1.05384480128\n",
      "1.06611664758 0.42798063982 2.6338450128 -1.05384480128\n",
      "1.06611664758 0.42798063982 2.6338450128 -1.05231082049\n",
      "1.06611664758 0.42798063982 2.6338450128 -1.05231082049\n",
      "1.06611664758 0.42798063982 2.63231103201 -1.05231082049\n",
      "1.06611664758 0.42798063982 2.63231103201 -1.05231082049\n",
      "1.06611664758 0.42798063982 2.6338450128 -1.05231082049\n",
      "1.06611664758 0.42798063982 2.6338450128 -1.05231082049\n",
      "1.06611664758 0.42798063982 2.6338450128 -1.05384480128\n",
      "1.06611664758 0.42798063982 2.6338450128 -1.05384480128\n",
      "1.06611664758 0.42798063982 2.63231103201 -1.05231082049\n",
      "1.06611664758 0.42798063982 2.63231103201 -1.05384480128\n",
      "1.06611664758 0.42798063982 2.63231103201 -1.05231082049\n",
      "1.06611664758 0.42798063982 2.63231103201 -1.05231082049\n",
      "1.06611664758 0.42798063982 2.6338450128 -1.05231082049\n",
      "1.06765062837 0.42798063982 2.63231103201 -1.05231082049\n",
      "1.06611664758 0.42798063982 2.63231103201 -1.05231082049\n",
      "1.06611664758 0.42798063982 2.63231103201 -1.05231082049\n",
      "1.06611664758 0.42798063982 2.63231103201 -1.05231082049\n",
      "1.06611664758 0.42798063982 2.63231103201 -1.05231082049\n",
      "1.06611664758 0.42798063982 2.63231103201 -1.05231082049\n",
      "1.06611664758 0.42798063982 2.63231103201 -1.05231082049\n",
      "1.06611664758 0.42798063982 2.63231103201 -1.0507768397\n",
      "1.06611664758 0.42798063982 2.63231103201 -1.0507768397\n",
      "1.06611664758 0.42798063982 2.63231103201 -1.0507768397\n",
      "1.06611664758 0.42798063982 2.6338450128 -1.05231082049\n",
      "1.06611664758 0.42798063982 2.63231103201 -1.05231082049\n",
      "1.06458266679 0.42798063982 2.63231103201 -1.05231082049\n",
      "1.06611664758 0.42798063982 2.63231103201 -1.05231082049\n",
      "1.06611664758 0.42798063982 2.63231103201 -1.05231082049\n",
      "1.06611664758 0.42798063982 2.63231103201 -1.05231082049\n",
      "1.06611664758 0.42798063982 2.63231103201 -1.05231082049\n",
      "1.06611664758 0.42798063982 2.63231103201 -1.0507768397\n",
      "1.06458266679 0.42798063982 2.63231103201 -1.0507768397\n",
      "1.06458266679 0.42798063982 2.63231103201 -1.0507768397\n",
      "1.06458266679 0.42798063982 2.63231103201 -1.0507768397\n",
      "1.06611664758 0.42798063982 2.63231103201 -1.05231082049\n",
      "1.06458266679 0.42798063982 2.63231103201 -1.05231082049\n",
      "1.06458266679 0.42798063982 2.63231103201 -1.0507768397\n",
      "1.06458266679 0.42798063982 2.63231103201 -1.05231082049\n",
      "1.06458266679 0.42798063982 2.63231103201 -1.0507768397\n",
      "1.06458266679 0.42798063982 2.63231103201 -1.0507768397\n",
      "1.06458266679 0.42798063982 2.63231103201 -1.0507768397\n",
      "1.06458266679 0.42798063982 2.63231103201 -1.0507768397\n",
      "1.06458266679 0.42798063982 2.63231103201 -1.0507768397\n",
      "1.063048686 0.42798063982 2.63231103201 -1.0507768397\n",
      "1.06458266679 0.42798063982 2.63231103201 -1.0507768397\n",
      "1.06458266679 0.42798063982 2.63231103201 -1.0507768397\n",
      "1.06458266679 0.42798063982 2.63231103201 -1.04924285891\n",
      "1.06458266679 0.42798063982 2.63231103201 -1.0507768397\n"
     ]
    },
    {
     "name": "stdout",
     "output_type": "stream",
     "text": [
      "1.06458266679 0.42798063982 2.63231103201 -1.0507768397\n",
      "1.06458266679 0.42798063982 2.63231103201 -1.0507768397\n",
      "1.06458266679 0.42798063982 2.63231103201 -1.0507768397\n",
      "1.06458266679 0.42798063982 2.63231103201 -1.0507768397\n",
      "1.06458266679 0.42798063982 2.63077705122 -1.0507768397\n",
      "1.06458266679 0.42798063982 2.63077705122 -1.05231082049\n",
      "1.06458266679 0.42798063982 2.63077705122 -1.04924285891\n",
      "1.06458266679 0.42798063982 2.63077705122 -1.04924285891\n",
      "1.06458266679 0.42798063982 2.63077705122 -1.0507768397\n",
      "1.06458266679 0.42798063982 2.63077705122 -1.0507768397\n",
      "1.06458266679 0.42798063982 2.63231103201 -1.0507768397\n",
      "1.06458266679 0.42798063982 2.63077705122 -1.0507768397\n",
      "1.06458266679 0.42798063982 2.63077705122 -1.0507768397\n",
      "1.06458266679 0.42798063982 2.63077705122 -1.0507768397\n",
      "1.06458266679 0.42798063982 2.63077705122 -1.0507768397\n",
      "1.06458266679 0.42798063982 2.63077705122 -1.04924285891\n",
      "1.063048686 0.426446659032 2.63077705122 -1.04924285891\n",
      "1.063048686 0.426446659032 2.63077705122 -1.0507768397\n",
      "1.063048686 0.42798063982 2.63077705122 -1.04924285891\n",
      "1.06458266679 0.426446659032 2.63077705122 -1.04924285891\n",
      "1.063048686 0.426446659032 2.63077705122 -1.04770887813\n",
      "1.063048686 0.42798063982 2.62924307044 -1.0507768397\n",
      "1.063048686 0.426446659032 2.63077705122 -1.0507768397\n",
      "1.063048686 0.42798063982 2.63077705122 -1.0507768397\n",
      "1.063048686 0.426446659032 2.62924307044 -1.0507768397\n",
      "1.063048686 0.42798063982 2.62924307044 -1.0507768397\n",
      "1.063048686 0.42798063982 2.62924307044 -1.0507768397\n",
      "1.063048686 0.42798063982 2.62924307044 -1.0507768397\n",
      "1.063048686 0.426446659032 2.62924307044 -1.0507768397\n",
      "1.063048686 0.426446659032 2.62924307044 -1.0507768397\n",
      "1.063048686 0.42798063982 2.62924307044 -1.0507768397\n",
      "1.063048686 0.42798063982 2.62924307044 -1.0507768397\n",
      "1.063048686 0.426446659032 2.62924307044 -1.0507768397\n",
      "1.063048686 0.42798063982 2.62924307044 -1.0507768397\n",
      "1.063048686 0.426446659032 2.62924307044 -1.04924285891\n",
      "1.063048686 0.426446659032 2.62924307044 -1.04924285891\n",
      "1.063048686 0.426446659032 2.62924307044 -1.04924285891\n",
      "1.063048686 0.426446659032 2.62924307044 -1.0507768397\n",
      "1.06151470522 0.426446659032 2.62924307044 -1.04924285891\n",
      "1.063048686 0.426446659032 2.62924307044 -1.0507768397\n",
      "1.063048686 0.426446659032 2.62924307044 -1.0507768397\n",
      "1.063048686 0.426446659032 2.62924307044 -1.0507768397\n",
      "1.063048686 0.426446659032 2.62770908965 -1.04924285891\n",
      "1.06151470522 0.426446659032 2.62924307044 -1.04924285891\n",
      "1.06151470522 0.426446659032 2.62924307044 -1.04924285891\n",
      "1.06151470522 0.42798063982 2.62770908965 -1.0507768397\n",
      "1.06151470522 0.42798063982 2.62924307044 -1.0507768397\n",
      "1.06151470522 0.426446659032 2.62924307044 -1.04924285891\n",
      "1.06151470522 0.426446659032 2.62924307044 -1.0507768397\n",
      "1.06151470522 0.426446659032 2.62924307044 -1.04924285891\n",
      "1.06151470522 0.426446659032 2.62924307044 -1.04924285891\n",
      "1.06151470522 0.426446659032 2.62924307044 -1.04924285891\n",
      "1.06151470522 0.426446659032 2.62924307044 -1.04924285891\n",
      "1.06151470522 0.426446659032 2.62924307044 -1.04924285891\n",
      "1.063048686 0.426446659032 2.62924307044 -1.0507768397\n",
      "1.06151470522 0.426446659032 2.62924307044 -1.04924285891\n",
      "1.06151470522 0.426446659032 2.62924307044 -1.04924285891\n",
      "1.06151470522 0.426446659032 2.62924307044 -1.0507768397\n",
      "1.06151470522 0.426446659032 2.62770908965 -1.04924285891\n",
      "1.06151470522 0.426446659032 2.62770908965 -1.04924285891\n",
      "1.06151470522 0.426446659032 2.62770908965 -1.04924285891\n",
      "1.06151470522 0.426446659032 2.62770908965 -1.04924285891\n",
      "1.06151470522 0.426446659032 2.62770908965 -1.04924285891\n",
      "1.05998072443 0.426446659032 2.62617510886 -1.04924285891\n",
      "1.06151470522 0.426446659032 2.62770908965 -1.04924285891\n",
      "1.06151470522 0.426446659032 2.62770908965 -1.04924285891\n",
      "1.06151470522 0.426446659032 2.62770908965 -1.04924285891\n",
      "1.06151470522 0.426446659032 2.62770908965 -1.04924285891\n",
      "1.05998072443 0.426446659032 2.62770908965 -1.04924285891\n",
      "1.06151470522 0.426446659032 2.62770908965 -1.04924285891\n",
      "1.05998072443 0.426446659032 2.62770908965 -1.04924285891\n",
      "1.06151470522 0.426446659032 2.62770908965 -1.04924285891\n",
      "1.05998072443 0.426446659032 2.62617510886 -1.04924285891\n",
      "1.05998072443 0.426446659032 2.62770908965 -1.04924285891\n",
      "1.06151470522 0.426446659032 2.62770908965 -1.04924285891\n",
      "1.05998072443 0.426446659032 2.62770908965 -1.05231082049\n",
      "1.06151470522 0.426446659032 2.62770908965 -1.04924285891\n",
      "1.06151470522 0.426446659032 2.62770908965 -1.04924285891\n",
      "1.06151470522 0.426446659032 2.62770908965 -1.04924285891\n",
      "1.05998072443 0.426446659032 2.62770908965 -1.04924285891\n",
      "1.06151470522 0.426446659032 2.62770908965 -1.0507768397\n",
      "1.05998072443 0.426446659032 2.62770908965 -1.04924285891\n",
      "1.05998072443 0.426446659032 2.62770908965 -1.04924285891\n",
      "1.05998072443 0.426446659032 2.62770908965 -1.04924285891\n",
      "1.06151470522 0.426446659032 2.62770908965 -1.04924285891\n",
      "1.06151470522 0.426446659032 2.62770908965 -1.04924285891\n",
      "1.06151470522 0.426446659032 2.62770908965 -1.04924285891\n",
      "1.06151470522 0.426446659032 2.62770908965 -1.04924285891\n",
      "1.06151470522 0.426446659032 2.62770908965 -1.04924285891\n",
      "1.06151470522 0.426446659032 2.62770908965 -1.04924285891\n",
      "1.05998072443 0.426446659032 2.62770908965 -1.04924285891\n",
      "1.06151470522 0.426446659032 2.62770908965 -1.04924285891\n",
      "1.06151470522 0.426446659032 2.62770908965 -1.04924285891\n",
      "1.06151470522 0.426446659032 2.62770908965 -1.04924285891\n",
      "1.06151470522 0.426446659032 2.62770908965 -1.04924285891\n",
      "1.06151470522 0.426446659032 2.62770908965 -1.04924285891\n",
      "1.05998072443 0.426446659032 2.62770908965 -1.04924285891\n",
      "1.05998072443 0.426446659032 2.62770908965 -1.04924285891\n",
      "1.06151470522 0.426446659032 2.62770908965 -1.04924285891\n",
      "1.05998072443 0.426446659032 2.62770908965 -1.04924285891\n",
      "1.06151470522 0.426446659032 2.62770908965 -1.04924285891\n",
      "1.06151470522 0.426446659032 2.62770908965 -1.04924285891\n",
      "1.06151470522 0.426446659032 2.62770908965 -1.04924285891\n",
      "1.05998072443 0.426446659032 2.62770908965 -1.04924285891\n",
      "1.05998072443 0.426446659032 2.62770908965 -1.04924285891\n",
      "1.06151470522 0.426446659032 2.62770908965 -1.04924285891\n",
      "1.06151470522 0.426446659032 2.62770908965 -1.04924285891\n",
      "1.06151470522 0.426446659032 2.62770908965 -1.0507768397\n",
      "1.06151470522 0.426446659032 2.62770908965 -1.04924285891\n",
      "1.06151470522 0.426446659032 2.62770908965 -1.04924285891\n",
      "1.05998072443 0.426446659032 2.62770908965 -1.04924285891\n",
      "1.06151470522 0.426446659032 2.62770908965 -1.04924285891\n",
      "1.06151470522 0.426446659032 2.62770908965 -1.04924285891\n",
      "1.06151470522 0.42798063982 2.62770908965 -1.04924285891\n",
      "1.06151470522 0.426446659032 2.62770908965 -1.04924285891\n",
      "1.06151470522 0.426446659032 2.62770908965 -1.0507768397\n",
      "1.06151470522 0.426446659032 2.62770908965 -1.04924285891\n",
      "1.06151470522 0.426446659032 2.62770908965 -1.04924285891\n",
      "1.06151470522 0.426446659032 2.62770908965 -1.04924285891\n",
      "1.06151470522 0.426446659032 2.62770908965 -1.04924285891\n",
      "1.06151470522 0.426446659032 2.62770908965 -1.04924285891\n",
      "1.06151470522 0.426446659032 2.62770908965 -1.0507768397\n",
      "1.05998072443 0.426446659032 2.62770908965 -1.04924285891\n",
      "1.06151470522 0.42798063982 2.62770908965 -1.04924285891\n",
      "1.06151470522 0.426446659032 2.62770908965 -1.04924285891\n",
      "1.05998072443 0.426446659032 2.62770908965 -1.0507768397\n",
      "1.06151470522 0.426446659032 2.62770908965 -1.0507768397\n",
      "1.05998072443 0.426446659032 2.62770908965 -1.04924285891\n",
      "1.05998072443 0.426446659032 2.62770908965 -1.04924285891\n",
      "1.05998072443 0.426446659032 2.62770908965 -1.04924285891\n",
      "1.06151470522 0.426446659032 2.62770908965 -1.04924285891\n",
      "1.06151470522 0.426446659032 2.62770908965 -1.04924285891\n",
      "1.06151470522 0.426446659032 2.62770908965 -1.04924285891\n",
      "1.05998072443 0.426446659032 2.62770908965 -1.0507768397\n",
      "1.05998072443 0.426446659032 2.62770908965 -1.04924285891\n",
      "1.06151470522 0.426446659032 2.62770908965 -1.04924285891\n",
      "1.05998072443 0.426446659032 2.62770908965 -1.04924285891\n",
      "1.06151470522 0.426446659032 2.62770908965 -1.0507768397\n",
      "1.06151470522 0.426446659032 2.62770908965 -1.0507768397\n",
      "1.06151470522 0.426446659032 2.62770908965 -1.0507768397\n",
      "1.06151470522 0.426446659032 2.62770908965 -1.04924285891\n",
      "1.06151470522 0.426446659032 2.62770908965 -1.04924285891\n",
      "1.06151470522 0.42798063982 2.62770908965 -1.04924285891\n",
      "1.05998072443 0.426446659032 2.62770908965 -1.04924285891\n"
     ]
    },
    {
     "name": "stdout",
     "output_type": "stream",
     "text": [
      "1.06151470522 0.426446659032 2.62770908965 -1.04924285891\n",
      "1.06151470522 0.426446659032 2.62770908965 -1.04924285891\n",
      "1.06151470522 0.426446659032 2.62770908965 -1.0507768397\n",
      "1.06151470522 0.426446659032 2.62770908965 -1.04924285891\n",
      "1.06151470522 0.426446659032 2.62770908965 -1.04924285891\n",
      "1.06151470522 0.426446659032 2.62770908965 -1.04924285891\n",
      "1.06151470522 0.426446659032 2.62770908965 -1.04924285891\n",
      "1.06151470522 0.426446659032 2.62770908965 -1.04924285891\n",
      "1.06151470522 0.42798063982 2.62770908965 -1.0507768397\n",
      "1.05998072443 0.426446659032 2.62770908965 -1.04924285891\n",
      "1.06151470522 0.426446659032 2.62770908965 -1.04924285891\n",
      "1.06151470522 0.426446659032 2.62770908965 -1.04924285891\n",
      "1.06151470522 0.426446659032 2.62770908965 -1.04924285891\n",
      "1.06151470522 0.426446659032 2.62770908965 -1.04924285891\n",
      "1.05998072443 0.426446659032 2.62770908965 -1.04924285891\n",
      "1.06151470522 0.426446659032 2.62770908965 -1.04924285891\n",
      "1.06151470522 0.426446659032 2.62770908965 -1.04924285891\n",
      "1.05998072443 0.426446659032 2.62770908965 -1.04924285891\n",
      "1.06151470522 0.426446659032 2.62770908965 -1.04924285891\n",
      "1.06151470522 0.42798063982 2.62770908965 -1.04924285891\n",
      "1.06151470522 0.426446659032 2.62617510886 -1.04924285891\n",
      "1.06151470522 0.426446659032 2.62770908965 -1.0507768397\n",
      "1.06151470522 0.426446659032 2.62770908965 -1.0507768397\n",
      "1.06151470522 0.426446659032 2.62770908965 -1.04924285891\n",
      "1.06151470522 0.426446659032 2.62770908965 -1.0507768397\n",
      "1.06151470522 0.42798063982 2.62770908965 -1.0507768397\n",
      "1.05998072443 0.426446659032 2.62770908965 -1.04924285891\n",
      "1.05998072443 0.426446659032 2.62770908965 -1.04924285891\n",
      "1.06151470522 0.426446659032 2.62770908965 -1.04924285891\n",
      "1.06151470522 0.426446659032 2.62770908965 -1.04924285891\n",
      "1.06151470522 0.426446659032 2.62770908965 -1.0507768397\n",
      "1.06151470522 0.426446659032 2.62770908965 -1.04924285891\n",
      "1.06151470522 0.426446659032 2.62770908965 -1.04924285891\n",
      "1.06151470522 0.426446659032 2.62770908965 -1.04924285891\n",
      "1.06151470522 0.426446659032 2.62770908965 -1.04924285891\n",
      "1.06151470522 0.426446659032 2.62770908965 -1.04924285891\n",
      "1.06151470522 0.42798063982 2.62770908965 -1.0507768397\n",
      "1.06151470522 0.42798063982 2.62770908965 -1.04924285891\n",
      "1.06151470522 0.42798063982 2.62770908965 -1.04924285891\n",
      "1.06151470522 0.42798063982 2.62770908965 -1.04924285891\n",
      "1.063048686 0.42798063982 2.62770908965 -1.04924285891\n",
      "1.063048686 0.42798063982 2.62770908965 -1.04770887813\n",
      "1.063048686 0.42798063982 2.62617510886 -1.04617489734\n",
      "1.063048686 0.42798063982 2.62617510886 -1.04617489734\n",
      "1.06458266679 0.42798063982 2.62770908965 -1.04617489734\n",
      "1.06458266679 0.42798063982 2.62617510886 -1.04464091655\n",
      "1.06611664758 0.42798063982 2.62617510886 -1.04157295497\n",
      "1.06611664758 0.429514620608 2.62617510886 -1.04003897419\n",
      "1.06611664758 0.429514620608 2.62617510886 -1.0385049934\n",
      "1.06765062837 0.429514620608 2.62464112807 -1.03697101261\n",
      "1.06765062837 0.429514620608 2.62464112807 -1.03390305103\n",
      "1.06765062837 0.429514620608 2.62464112807 -1.03390305103\n",
      "1.06918460916 0.429514620608 2.62464112807 -1.03236907025\n",
      "1.06918460916 0.429514620608 2.62464112807 -1.02930110867\n",
      "1.06918460916 0.429514620608 2.62310714728 -1.02930110867\n",
      "1.06918460916 0.431048601396 2.62310714728 -1.02930110867\n",
      "1.06918460916 0.431048601396 2.62310714728 -1.02776712788\n",
      "1.06918460916 0.431048601396 2.62310714728 -1.02776712788\n",
      "1.06918460916 0.431048601396 2.62310714728 -1.02776712788\n",
      "1.07071858994 0.431048601396 2.62310714728 -1.02776712788\n",
      "1.06918460916 0.431048601396 2.62310714728 -1.02930110867\n",
      "1.06918460916 0.431048601396 2.62310714728 -1.02930110867\n",
      "1.06918460916 0.431048601396 2.62310714728 -1.02930110867\n",
      "1.06918460916 0.431048601396 2.62310714728 -1.02776712788\n",
      "1.06918460916 0.431048601396 2.62310714728 -1.02930110867\n",
      "1.06918460916 0.431048601396 2.62310714728 -1.02776712788\n",
      "1.06918460916 0.431048601396 2.62310714728 -1.02776712788\n",
      "1.06918460916 0.431048601396 2.62310714728 -1.02930110867\n",
      "1.06918460916 0.431048601396 2.62310714728 -1.02776712788\n",
      "1.06918460916 0.431048601396 2.62310714728 -1.02776712788\n",
      "1.06918460916 0.431048601396 2.62310714728 -1.02776712788\n",
      "1.06918460916 0.431048601396 2.62310714728 -1.02930110867\n",
      "1.06918460916 0.431048601396 2.62310714728 -1.02930110867\n",
      "1.06918460916 0.431048601396 2.62310714728 -1.02776712788\n",
      "1.06918460916 0.431048601396 2.62310714728 -1.02776712788\n",
      "1.06918460916 0.431048601396 2.62310714728 -1.02930110867\n",
      "1.06918460916 0.431048601396 2.62310714728 -1.02930110867\n",
      "1.06918460916 0.431048601396 2.62310714728 -1.02930110867\n",
      "1.06918460916 0.431048601396 2.62310714728 -1.02776712788\n",
      "1.06918460916 0.431048601396 2.62310714728 -1.02930110867\n",
      "1.06918460916 0.431048601396 2.62310714728 -1.02776712788\n",
      "1.06918460916 0.431048601396 2.62310714728 -1.02776712788\n",
      "1.06918460916 0.431048601396 2.62310714728 -1.02776712788\n",
      "1.06918460916 0.431048601396 2.62310714728 -1.02776712788\n",
      "1.06918460916 0.431048601396 2.62310714728 -1.02776712788\n",
      "1.06918460916 0.431048601396 2.62310714728 -1.02776712788\n",
      "1.07071858994 0.431048601396 2.62310714728 -1.02776712788\n",
      "1.06918460916 0.431048601396 2.62310714728 -1.02776712788\n",
      "1.06918460916 0.431048601396 2.62310714728 -1.02776712788\n",
      "1.06918460916 0.431048601396 2.62310714728 -1.02776712788\n",
      "1.06918460916 0.431048601396 2.62310714728 -1.02776712788\n",
      "1.06918460916 0.431048601396 2.62310714728 -1.02776712788\n",
      "1.06918460916 0.431048601396 2.62310714728 -1.02776712788\n",
      "1.06918460916 0.431048601396 2.62310714728 -1.02776712788\n",
      "1.06918460916 0.431048601396 2.62310714728 -1.02776712788\n",
      "1.07071858994 0.431048601396 2.62310714728 -1.02776712788\n",
      "1.06918460916 0.431048601396 2.62310714728 -1.02776712788\n",
      "1.06918460916 0.431048601396 2.62310714728 -1.02930110867\n",
      "1.06918460916 0.431048601396 2.62310714728 -1.02776712788\n",
      "1.06918460916 0.431048601396 2.62310714728 -1.02776712788\n",
      "1.06918460916 0.431048601396 2.62310714728 -1.02776712788\n",
      "1.06918460916 0.431048601396 2.62310714728 -1.02776712788\n",
      "1.06918460916 0.431048601396 2.62310714728 -1.02776712788\n",
      "1.06918460916 0.431048601396 2.62310714728 -1.02776712788\n",
      "1.06918460916 0.431048601396 2.62310714728 -1.02776712788\n",
      "1.06918460916 0.431048601396 2.62310714728 -1.02776712788\n",
      "1.06918460916 0.431048601396 2.62310714728 -1.0262331471\n",
      "1.06918460916 0.431048601396 2.62310714728 -1.0262331471\n",
      "1.06918460916 0.431048601396 2.62310714728 -1.02776712788\n",
      "1.06918460916 0.431048601396 2.62310714728 -1.02776712788\n",
      "1.06918460916 0.431048601396 2.62310714728 -1.0262331471\n",
      "1.06918460916 0.431048601396 2.62310714728 -1.02776712788\n",
      "1.06918460916 0.431048601396 2.62310714728 -1.0262331471\n",
      "1.06918460916 0.431048601396 2.62310714728 -1.0262331471\n",
      "1.06918460916 0.431048601396 2.62310714728 -1.0262331471\n",
      "1.06918460916 0.431048601396 2.6215731665 -1.0262331471\n",
      "1.06918460916 0.431048601396 2.62310714728 -1.02469916631\n",
      "1.06918460916 0.431048601396 2.6215731665 -1.0262331471\n",
      "1.06918460916 0.431048601396 2.6215731665 -1.02469916631\n",
      "1.06918460916 0.431048601396 2.6215731665 -1.02469916631\n",
      "1.06918460916 0.431048601396 2.6215731665 -1.02469916631\n",
      "1.06918460916 0.431048601396 2.6215731665 -1.0262331471\n",
      "1.07071858994 0.431048601396 2.6215731665 -1.0262331471\n",
      "1.06918460916 0.431048601396 2.6215731665 -1.0262331471\n",
      "1.07071858994 0.431048601396 2.6215731665 -1.0262331471\n",
      "1.06918460916 0.431048601396 2.6215731665 -1.0262331471\n",
      "1.06918460916 0.431048601396 2.6215731665 -1.02469916631\n",
      "1.06918460916 0.431048601396 2.6215731665 -1.02469916631\n",
      "1.07071858994 0.431048601396 2.6215731665 -1.02469916631\n",
      "1.06918460916 0.431048601396 2.6215731665 -1.0262331471\n",
      "1.06918460916 0.431048601396 2.6215731665 -1.02469916631\n",
      "1.06918460916 0.431048601396 2.6215731665 -1.02469916631\n",
      "1.06918460916 0.431048601396 2.6215731665 -1.0262331471\n",
      "1.06918460916 0.432582582184 2.6215731665 -1.02469916631\n",
      "1.06918460916 0.432582582184 2.6215731665 -1.0262331471\n",
      "1.06918460916 0.432582582184 2.6215731665 -1.0262331471\n",
      "1.07071858994 0.432582582184 2.6215731665 -1.02469916631\n",
      "1.06918460916 0.432582582184 2.6215731665 -1.02316518552\n",
      "1.06918460916 0.432582582184 2.6215731665 -1.02316518552\n",
      "1.06918460916 0.432582582184 2.6215731665 -1.02316518552\n",
      "1.06918460916 0.432582582184 2.6215731665 -1.02316518552\n",
      "1.07071858994 0.432582582184 2.6215731665 -1.02316518552\n",
      "1.06918460916 0.432582582184 2.6215731665 -1.02316518552\n"
     ]
    },
    {
     "name": "stdout",
     "output_type": "stream",
     "text": [
      "1.06918460916 0.432582582184 2.6215731665 -1.02316518552\n",
      "1.06918460916 0.432582582184 2.6215731665 -1.02316518552\n",
      "1.06918460916 0.432582582184 2.6215731665 -1.02316518552\n",
      "1.06918460916 0.434116562972 2.6215731665 -1.02316518552\n",
      "1.06918460916 0.434116562972 2.6215731665 -1.02163120473\n",
      "1.07071858994 0.434116562972 2.6215731665 -1.02316518552\n",
      "1.07071858994 0.434116562972 2.6215731665 -1.02163120473\n",
      "1.06918460916 0.434116562972 2.6215731665 -1.02316518552\n",
      "1.07071858994 0.434116562972 2.6215731665 -1.02163120473\n",
      "1.06918460916 0.434116562972 2.6215731665 -1.02316518552\n",
      "1.06918460916 0.434116562972 2.6215731665 -1.02316518552\n",
      "1.07071858994 0.434116562972 2.6215731665 -1.02316518552\n",
      "1.06918460916 0.434116562972 2.6215731665 -1.02316518552\n",
      "1.06918460916 0.434116562972 2.6215731665 -1.02163120473\n",
      "1.06918460916 0.434116562972 2.6215731665 -1.02163120473\n",
      "1.07071858994 0.434116562972 2.6215731665 -1.02163120473\n",
      "1.06918460916 0.434116562972 2.6215731665 -1.02163120473\n",
      "1.06918460916 0.434116562972 2.6215731665 -1.02163120473\n",
      "1.07071858994 0.434116562972 2.6215731665 -1.02163120473\n",
      "1.06918460916 0.434116562972 2.6215731665 -1.02163120473\n",
      "1.06918460916 0.434116562972 2.6215731665 -1.02163120473\n",
      "1.06918460916 0.434116562972 2.6215731665 -1.02163120473\n",
      "1.06918460916 0.434116562972 2.6215731665 -1.02163120473\n",
      "1.06918460916 0.434116562972 2.6215731665 -1.02163120473\n",
      "1.06918460916 0.434116562972 2.6215731665 -1.02163120473\n",
      "1.06918460916 0.434116562972 2.6215731665 -1.02163120473\n",
      "1.06918460916 0.434116562972 2.6215731665 -1.02163120473\n",
      "1.06918460916 0.434116562972 2.6215731665 -1.02163120473\n",
      "1.06918460916 0.434116562972 2.6215731665 -1.02163120473\n",
      "1.06918460916 0.434116562972 2.6215731665 -1.02163120473\n",
      "1.07071858994 0.434116562972 2.6215731665 -1.02316518552\n",
      "1.07071858994 0.432582582184 2.6215731665 -1.02163120473\n",
      "1.07071858994 0.432582582184 2.6215731665 -1.02163120473\n",
      "1.06918460916 0.432582582184 2.62003918571 -1.02316518552\n",
      "1.07071858994 0.432582582184 2.6215731665 -1.02316518552\n",
      "1.07071858994 0.432582582184 2.6215731665 -1.02163120473\n",
      "1.07071858994 0.432582582184 2.6215731665 -1.02316518552\n",
      "1.07071858994 0.432582582184 2.6215731665 -1.02316518552\n",
      "1.07071858994 0.432582582184 2.6215731665 -1.02316518552\n",
      "1.07071858994 0.432582582184 2.6215731665 -1.02469916631\n",
      "1.07071858994 0.432582582184 2.6215731665 -1.02469916631\n",
      "1.07071858994 0.432582582184 2.6215731665 -1.02316518552\n",
      "1.07071858994 0.432582582184 2.6215731665 -1.02163120473\n",
      "1.07071858994 0.432582582184 2.6215731665 -1.02316518552\n",
      "1.07071858994 0.432582582184 2.6215731665 -1.02316518552\n",
      "1.07225257073 0.432582582184 2.6215731665 -1.02316518552\n",
      "1.07071858994 0.432582582184 2.6215731665 -1.02316518552\n",
      "1.07071858994 0.432582582184 2.6215731665 -1.02163120473\n",
      "1.07071858994 0.432582582184 2.6215731665 -1.02316518552\n",
      "1.07071858994 0.432582582184 2.6215731665 -1.02163120473\n",
      "1.07071858994 0.432582582184 2.6215731665 -1.02316518552\n",
      "1.07071858994 0.432582582184 2.6215731665 -1.02316518552\n",
      "1.07071858994 0.432582582184 2.6215731665 -1.02316518552\n",
      "1.07225257073 0.432582582184 2.6215731665 -1.02316518552\n",
      "1.07071858994 0.432582582184 2.6215731665 -1.02163120473\n",
      "1.07071858994 0.432582582184 2.6215731665 -1.02316518552\n",
      "1.07071858994 0.432582582184 2.6215731665 -1.02316518552\n",
      "1.07071858994 0.432582582184 2.6215731665 -1.02316518552\n",
      "1.07071858994 0.432582582184 2.6215731665 -1.02316518552\n",
      "1.07071858994 0.432582582184 2.6215731665 -1.02316518552\n",
      "1.07225257073 0.432582582184 2.6215731665 -1.02316518552\n",
      "1.07071858994 0.432582582184 2.62003918571 -1.02316518552\n",
      "1.07071858994 0.432582582184 2.6215731665 -1.02316518552\n",
      "1.07071858994 0.432582582184 2.6215731665 -1.02316518552\n",
      "1.07071858994 0.432582582184 2.6215731665 -1.02316518552\n",
      "1.07071858994 0.432582582184 2.6215731665 -1.02316518552\n",
      "1.07071858994 0.432582582184 2.6215731665 -1.02316518552\n",
      "1.07071858994 0.432582582184 2.62003918571 -1.02163120473\n",
      "1.07071858994 0.432582582184 2.6215731665 -1.02163120473\n",
      "1.07071858994 0.432582582184 2.6215731665 -1.02163120473\n",
      "1.07071858994 0.432582582184 2.6215731665 -1.02163120473\n",
      "1.07071858994 0.432582582184 2.6215731665 -1.02163120473\n",
      "1.07071858994 0.432582582184 2.6215731665 -1.02163120473\n",
      "1.07071858994 0.432582582184 2.6215731665 -1.02163120473\n",
      "1.07071858994 0.432582582184 2.6215731665 -1.02163120473\n",
      "1.07071858994 0.432582582184 2.62003918571 -1.02163120473\n",
      "1.07071858994 0.432582582184 2.62003918571 -1.02316518552\n",
      "1.06918460916 0.432582582184 2.6215731665 -1.02163120473\n",
      "1.07071858994 0.432582582184 2.6215731665 -1.02163120473\n",
      "1.07071858994 0.432582582184 2.6215731665 -1.02163120473\n",
      "1.07071858994 0.432582582184 2.6215731665 -1.02163120473\n",
      "1.07225257073 0.432582582184 2.6215731665 -1.02163120473\n",
      "1.07071858994 0.434116562972 2.6215731665 -1.02163120473\n",
      "1.07071858994 0.432582582184 2.6215731665 -1.02316518552\n",
      "1.07071858994 0.434116562972 2.6215731665 -1.02163120473\n",
      "1.07071858994 0.434116562972 2.6215731665 -1.02163120473\n",
      "1.07071858994 0.434116562972 2.6215731665 -1.02163120473\n",
      "1.07071858994 0.434116562972 2.6215731665 -1.02163120473\n",
      "1.07071858994 0.434116562972 2.6215731665 -1.02163120473\n",
      "1.07071858994 0.434116562972 2.6215731665 -1.02163120473\n",
      "1.07071858994 0.434116562972 2.6215731665 -1.02163120473\n",
      "1.07071858994 0.434116562972 2.6215731665 -1.02009722394\n",
      "1.07071858994 0.434116562972 2.6215731665 -1.02009722394\n",
      "1.07071858994 0.434116562972 2.6215731665 -1.02009722394\n",
      "1.07071858994 0.434116562972 2.6215731665 -1.02009722394\n",
      "1.07071858994 0.434116562972 2.6215731665 -1.01856324316\n",
      "1.07071858994 0.434116562972 2.6215731665 -1.02009722394\n",
      "1.07071858994 0.434116562972 2.6215731665 -1.01856324316\n",
      "1.07071858994 0.434116562972 2.6215731665 -1.02009722394\n",
      "1.07071858994 0.434116562972 2.6215731665 -1.02009722394\n",
      "1.07071858994 0.434116562972 2.6215731665 -1.02009722394\n",
      "1.07071858994 0.434116562972 2.6215731665 -1.02009722394\n",
      "1.07071858994 0.434116562972 2.6215731665 -1.02009722394\n",
      "1.07071858994 0.434116562972 2.6215731665 -1.02163120473\n",
      "1.07071858994 0.434116562972 2.6215731665 -1.02009722394\n",
      "1.07071858994 0.434116562972 2.6215731665 -1.02009722394\n",
      "1.07071858994 0.434116562972 2.6215731665 -1.01856324316\n",
      "1.07071858994 0.434116562972 2.6215731665 -1.01856324316\n",
      "1.07071858994 0.434116562972 2.6215731665 -1.02009722394\n",
      "1.07071858994 0.434116562972 2.6215731665 -1.02009722394\n",
      "1.07071858994 0.434116562972 2.6215731665 -1.02009722394\n",
      "1.07071858994 0.434116562972 2.6215731665 -1.02009722394\n",
      "1.07071858994 0.434116562972 2.6215731665 -1.02009722394\n",
      "1.07071858994 0.434116562972 2.6215731665 -1.02009722394\n",
      "1.07071858994 0.434116562972 2.6215731665 -1.02009722394\n",
      "1.07071858994 0.434116562972 2.6215731665 -1.02009722394\n",
      "1.07071858994 0.434116562972 2.62003918571 -1.02009722394\n",
      "1.07071858994 0.434116562972 2.6215731665 -1.02009722394\n",
      "1.07071858994 0.434116562972 2.6215731665 -1.02009722394\n",
      "1.07071858994 0.434116562972 2.6215731665 -1.02009722394\n",
      "1.07071858994 0.434116562972 2.6215731665 -1.02009722394\n",
      "1.07071858994 0.434116562972 2.6215731665 -1.02009722394\n",
      "1.07071858994 0.434116562972 2.6215731665 -1.02009722394\n",
      "1.07071858994 0.434116562972 2.6215731665 -1.02009722394\n",
      "1.07071858994 0.434116562972 2.6215731665 -1.02009722394\n",
      "1.07071858994 0.434116562972 2.6215731665 -1.02009722394\n",
      "1.07071858994 0.434116562972 2.6215731665 -1.02009722394\n",
      "1.07071858994 0.434116562972 2.6215731665 -1.02009722394\n",
      "1.07071858994 0.434116562972 2.6215731665 -1.02009722394\n",
      "1.07071858994 0.434116562972 2.6215731665 -1.01856324316\n",
      "1.07071858994 0.434116562972 2.6215731665 -1.02009722394\n",
      "1.07071858994 0.434116562972 2.6215731665 -1.02163120473\n",
      "1.07071858994 0.434116562972 2.6215731665 -1.02009722394\n",
      "1.07071858994 0.434116562972 2.6215731665 -1.02009722394\n",
      "1.07071858994 0.434116562972 2.6215731665 -1.02009722394\n",
      "1.07071858994 0.434116562972 2.6215731665 -1.02009722394\n",
      "1.07071858994 0.434116562972 2.6215731665 -1.02009722394\n",
      "1.07071858994 0.434116562972 2.6215731665 -1.02009722394\n",
      "1.07071858994 0.434116562972 2.6215731665 -1.02009722394\n",
      "1.07071858994 0.434116562972 2.6215731665 -1.01856324316\n",
      "1.07071858994 0.434116562972 2.6215731665 -1.02009722394\n",
      "1.07071858994 0.434116562972 2.6215731665 -1.02009722394\n",
      "1.07071858994 0.434116562972 2.6215731665 -1.02009722394\n",
      "1.07071858994 0.434116562972 2.6215731665 -1.02009722394\n",
      "1.07071858994 0.434116562972 2.6215731665 -1.02009722394\n",
      "1.07071858994 0.434116562972 2.6215731665 -1.02163120473\n",
      "1.06918460916 0.434116562972 2.62003918571 -1.02009722394\n",
      "1.06918460916 0.434116562972 2.6215731665 -1.02009722394\n",
      "1.06918460916 0.434116562972 2.6215731665 -1.02009722394\n"
     ]
    },
    {
     "name": "stdout",
     "output_type": "stream",
     "text": [
      "1.06918460916 0.434116562972 2.6215731665 -1.02009722394\n",
      "1.06918460916 0.434116562972 2.6215731665 -1.02163120473\n",
      "1.06918460916 0.434116562972 2.62003918571 -1.02009722394\n",
      "1.06918460916 0.434116562972 2.6215731665 -1.02009722394\n",
      "1.06918460916 0.434116562972 2.62003918571 -1.02009722394\n",
      "1.06918460916 0.434116562972 2.6215731665 -1.02009722394\n",
      "1.06918460916 0.434116562972 2.62003918571 -1.02163120473\n",
      "1.06918460916 0.434116562972 2.6215731665 -1.02163120473\n",
      "1.06918460916 0.434116562972 2.62003918571 -1.02163120473\n",
      "1.06918460916 0.434116562972 2.62003918571 -1.02163120473\n",
      "1.06918460916 0.434116562972 2.62003918571 -1.02316518552\n",
      "1.06918460916 0.434116562972 2.62003918571 -1.02009722394\n",
      "1.06765062837 0.43565054376 2.62003918571 -1.02163120473\n",
      "1.06918460916 0.434116562972 2.62003918571 -1.02163120473\n",
      "1.06765062837 0.434116562972 2.62003918571 -1.02163120473\n",
      "1.06765062837 0.434116562972 2.62003918571 -1.02163120473\n",
      "1.06765062837 0.434116562972 2.62003918571 -1.02009722394\n",
      "1.06918460916 0.434116562972 2.62003918571 -1.02009722394\n",
      "1.06765062837 0.43565054376 2.62003918571 -1.02009722394\n",
      "1.06765062837 0.43565054376 2.62003918571 -1.02163120473\n",
      "1.06765062837 0.43565054376 2.62003918571 -1.02163120473\n",
      "1.06765062837 0.43565054376 2.62003918571 -1.02009722394\n",
      "1.06765062837 0.434116562972 2.62003918571 -1.02163120473\n",
      "1.06765062837 0.434116562972 2.62003918571 -1.02163120473\n",
      "1.06765062837 0.434116562972 2.62003918571 -1.02163120473\n",
      "1.06765062837 0.434116562972 2.62003918571 -1.02163120473\n",
      "1.06765062837 0.434116562972 2.62003918571 -1.02163120473\n",
      "1.06765062837 0.434116562972 2.62003918571 -1.02163120473\n",
      "1.06765062837 0.434116562972 2.62003918571 -1.02163120473\n",
      "1.06611664758 0.434116562972 2.62003918571 -1.02163120473\n",
      "1.06765062837 0.434116562972 2.62003918571 -1.02163120473\n",
      "1.06611664758 0.43565054376 2.62003918571 -1.02163120473\n",
      "1.06611664758 0.434116562972 2.62003918571 -1.02316518552\n",
      "1.06611664758 0.43565054376 2.62003918571 -1.02316518552\n",
      "1.06611664758 0.43565054376 2.62003918571 -1.02316518552\n",
      "1.06458266679 0.43565054376 2.62003918571 -1.02469916631\n",
      "1.06458266679 0.43565054376 2.62003918571 -1.02469916631\n",
      "1.06458266679 0.43565054376 2.62003918571 -1.02316518552\n",
      "1.06458266679 0.43565054376 2.62003918571 -1.02316518552\n",
      "1.06458266679 0.43565054376 2.62003918571 -1.02469916631\n",
      "1.06458266679 0.43565054376 2.62003918571 -1.02469916631\n",
      "1.06458266679 0.43565054376 2.62003918571 -1.02469916631\n",
      "1.06458266679 0.43565054376 2.61850520492 -1.02469916631\n",
      "1.063048686 0.43565054376 2.61850520492 -1.02316518552\n",
      "1.063048686 0.43565054376 2.61850520492 -1.02469916631\n",
      "1.06151470522 0.43565054376 2.61697122413 -1.02469916631\n",
      "1.05998072443 0.43565054376 2.61543724335 -1.0262331471\n",
      "1.05691276285 0.43565054376 2.61390326256 -1.0262331471\n",
      "1.05537878207 0.43565054376 2.61390326256 -1.03083508946\n",
      "1.05691276285 0.43565054376 2.61390326256 -1.03083508946\n",
      "1.05691276285 0.43565054376 2.61390326256 -1.03083508946\n",
      "1.05691276285 0.43565054376 2.61390326256 -1.02930110867\n",
      "1.05998072443 0.43565054376 2.61390326256 -1.02776712788\n",
      "1.06151470522 0.43565054376 2.61390326256 -1.0262331471\n",
      "1.06458266679 0.43565054376 2.61543724335 -1.0262331471\n",
      "1.06611664758 0.43565054376 2.61390326256 -1.02163120473\n",
      "1.06765062837 0.43565054376 2.61390326256 -1.01856324316\n",
      "1.06918460916 0.43565054376 2.61390326256 -1.01396130079\n",
      "1.07225257073 0.43565054376 2.61543724335 -1.00935935843\n",
      "1.08145645546 0.43565054376 2.61543724335 -0.99401955055\n",
      "1.08452441704 0.43565054376 2.61543724335 -0.984815665823\n",
      "1.08759237861 0.43565054376 2.61543724335 -0.971009838732\n",
      "1.09066034019 0.43565054376 2.61543724335 -0.960271973216\n",
      "1.09066034019 0.437184524547 2.61543724335 -0.958737992429\n",
      "1.09526228255 0.434116562972 2.61543724335 -0.94339818455\n",
      "1.09526228255 0.432582582184 2.61390326256 -0.940330222974\n",
      "1.09526228255 0.432582582184 2.61390326256 -0.938796242186\n",
      "1.09526228255 0.432582582184 2.61390326256 -0.938796242186\n",
      "1.09526228255 0.432582582184 2.61390326256 -0.941864203762\n",
      "1.09526228255 0.432582582184 2.61390326256 -0.941864203762\n",
      "1.09526228255 0.432582582184 2.61390326256 -0.941864203762\n",
      "1.09526228255 0.432582582184 2.61543724335 -0.94339818455\n",
      "1.09526228255 0.432582582184 2.61390326256 -0.944932165338\n",
      "1.09372830176 0.432582582184 2.61390326256 -0.94339818455\n",
      "1.09526228255 0.432582582184 2.61543724335 -0.944932165338\n",
      "1.09372830176 0.432582582184 2.61543724335 -0.944932165338\n",
      "1.09372830176 0.432582582184 2.61390326256 -0.94339818455\n",
      "1.09372830176 0.432582582184 2.61390326256 -0.94339818455\n",
      "1.09526228255 0.432582582184 2.61390326256 -0.940330222974\n",
      "1.09526228255 0.432582582184 2.61390326256 -0.940330222974\n",
      "1.09526228255 0.432582582184 2.61390326256 -0.940330222974\n",
      "1.09526228255 0.432582582184 2.61390326256 -0.941864203762\n",
      "1.09526228255 0.432582582184 2.61543724335 -0.940330222974\n",
      "1.09526228255 0.432582582184 2.61390326256 -0.938796242186\n",
      "1.09526228255 0.432582582184 2.61390326256 -0.940330222974\n",
      "1.09526228255 0.432582582184 2.61390326256 -0.940330222974\n",
      "1.09526228255 0.432582582184 2.61390326256 -0.940330222974\n",
      "1.09526228255 0.432582582184 2.61390326256 -0.941864203762\n",
      "1.09526228255 0.432582582184 2.61390326256 -0.938796242186\n",
      "1.09526228255 0.432582582184 2.61390326256 -0.938796242186\n",
      "1.09526228255 0.432582582184 2.61543724335 -0.938796242186\n",
      "1.09526228255 0.432582582184 2.61543724335 -0.938796242186\n",
      "1.09526228255 0.432582582184 2.61543724335 -0.938796242186\n",
      "1.09526228255 0.432582582184 2.61543724335 -0.938796242186\n",
      "1.09526228255 0.432582582184 2.61390326256 -0.938796242186\n",
      "1.09526228255 0.432582582184 2.61543724335 -0.938796242186\n",
      "1.09526228255 0.432582582184 2.61390326256 -0.937262261398\n",
      "1.09679626334 0.432582582184 2.61390326256 -0.937262261398\n",
      "1.09526228255 0.432582582184 2.61543724335 -0.93572828061\n",
      "1.09679626334 0.432582582184 2.61543724335 -0.934194299822\n",
      "1.09679626334 0.432582582184 2.61543724335 -0.93572828061\n",
      "1.09679626334 0.432582582184 2.61390326256 -0.934194299822\n",
      "1.09679626334 0.432582582184 2.61543724335 -0.934194299822\n",
      "1.09679626334 0.432582582184 2.61390326256 -0.934194299822\n",
      "1.09679626334 0.434116562972 2.61390326256 -0.934194299822\n",
      "1.09679626334 0.434116562972 2.61390326256 -0.932660319034\n",
      "1.09679626334 0.432582582184 2.61390326256 -0.931126338247\n",
      "1.09526228255 0.432582582184 2.61390326256 -0.931126338247\n",
      "1.09679626334 0.432582582184 2.61390326256 -0.931126338247\n",
      "1.09679626334 0.432582582184 2.61543724335 -0.932660319034\n",
      "1.09679626334 0.432582582184 2.61390326256 -0.932660319034\n",
      "1.09679626334 0.432582582184 2.61390326256 -0.932660319034\n",
      "1.09679626334 0.432582582184 2.61390326256 -0.931126338247\n",
      "1.09833024413 0.432582582184 2.61390326256 -0.932660319034\n",
      "1.09679626334 0.432582582184 2.61390326256 -0.931126338247\n",
      "1.09833024413 0.432582582184 2.61390326256 -0.931126338247\n",
      "1.09679626334 0.432582582184 2.61390326256 -0.931126338247\n",
      "1.09679626334 0.432582582184 2.61390326256 -0.931126338247\n",
      "1.09679626334 0.432582582184 2.61390326256 -0.931126338247\n",
      "1.09679626334 0.432582582184 2.61390326256 -0.931126338247\n",
      "1.09833024413 0.432582582184 2.61390326256 -0.931126338247\n",
      "1.09679626334 0.432582582184 2.61390326256 -0.931126338247\n",
      "1.09679626334 0.432582582184 2.61390326256 -0.931126338247\n",
      "1.09679626334 0.432582582184 2.61390326256 -0.932660319034\n",
      "1.09679626334 0.434116562972 2.61390326256 -0.932660319034\n",
      "1.09679626334 0.432582582184 2.61390326256 -0.932660319034\n",
      "1.09679626334 0.432582582184 2.61390326256 -0.932660319034\n",
      "1.09679626334 0.432582582184 2.61543724335 -0.934194299822\n",
      "1.09679626334 0.432582582184 2.61390326256 -0.934194299822\n",
      "1.09679626334 0.432582582184 2.61390326256 -0.934194299822\n",
      "1.09679626334 0.432582582184 2.61390326256 -0.93572828061\n",
      "1.09679626334 0.432582582184 2.61543724335 -0.93572828061\n",
      "1.09679626334 0.434116562972 2.61390326256 -0.937262261398\n",
      "1.09679626334 0.432582582184 2.61390326256 -0.937262261398\n",
      "1.09526228255 0.432582582184 2.61390326256 -0.937262261398\n",
      "1.09679626334 0.432582582184 2.61390326256 -0.938796242186\n",
      "1.09526228255 0.432582582184 2.61390326256 -0.938796242186\n",
      "1.09679626334 0.432582582184 2.61390326256 -0.938796242186\n",
      "1.09679626334 0.432582582184 2.61543724335 -0.937262261398\n",
      "1.09526228255 0.432582582184 2.61390326256 -0.937262261398\n",
      "1.09526228255 0.432582582184 2.61390326256 -0.937262261398\n",
      "1.09526228255 0.434116562972 2.61390326256 -0.937262261398\n",
      "1.09526228255 0.434116562972 2.61390326256 -0.937262261398\n",
      "1.09526228255 0.432582582184 2.61390326256 -0.938796242186\n"
     ]
    },
    {
     "name": "stdout",
     "output_type": "stream",
     "text": [
      "1.09526228255 0.434116562972 2.61390326256 -0.938796242186\n",
      "1.09526228255 0.434116562972 2.61390326256 -0.938796242186\n",
      "1.09526228255 0.434116562972 2.61390326256 -0.940330222974\n",
      "1.09526228255 0.434116562972 2.61390326256 -0.941864203762\n",
      "1.09372830176 0.434116562972 2.61390326256 -0.944932165338\n",
      "1.09219432097 0.434116562972 2.61390326256 -0.946466146125\n",
      "1.09372830176 0.434116562972 2.61390326256 -0.951068088489\n",
      "1.09219432097 0.434116562972 2.61390326256 -0.951068088489\n",
      "1.09219432097 0.434116562972 2.61543724335 -0.952602069277\n",
      "1.09219432097 0.434116562972 2.61390326256 -0.952602069277\n",
      "1.09066034019 0.434116562972 2.61390326256 -0.954136050065\n",
      "1.09066034019 0.434116562972 2.61390326256 -0.954136050065\n",
      "1.09066034019 0.434116562972 2.61390326256 -0.955670030853\n",
      "1.09066034019 0.434116562972 2.61390326256 -0.955670030853\n",
      "1.09066034019 0.432582582184 2.61390326256 -0.957204011641\n",
      "1.09066034019 0.434116562972 2.61390326256 -0.955670030853\n",
      "1.09066034019 0.434116562972 2.61390326256 -0.955670030853\n",
      "1.09066034019 0.434116562972 2.61390326256 -0.957204011641\n",
      "1.09066034019 0.434116562972 2.61390326256 -0.955670030853\n",
      "1.09066034019 0.434116562972 2.61390326256 -0.955670030853\n",
      "1.09066034019 0.434116562972 2.61390326256 -0.955670030853\n",
      "1.09066034019 0.434116562972 2.61390326256 -0.954136050065\n",
      "1.09066034019 0.434116562972 2.61543724335 -0.955670030853\n",
      "1.09066034019 0.434116562972 2.61390326256 -0.955670030853\n",
      "1.0891263594 0.432582582184 2.61543724335 -0.957204011641\n",
      "1.09066034019 0.434116562972 2.61543724335 -0.954136050065\n",
      "1.09066034019 0.434116562972 2.61543724335 -0.955670030853\n",
      "1.09219432097 0.434116562972 2.61543724335 -0.954136050065\n",
      "1.09372830176 0.434116562972 2.61543724335 -0.952602069277\n",
      "1.09372830176 0.434116562972 2.61390326256 -0.94339818455\n",
      "1.09372830176 0.434116562972 2.61390326256 -0.94339818455\n",
      "1.09372830176 0.434116562972 2.61390326256 -0.941864203762\n",
      "1.09526228255 0.434116562972 2.61390326256 -0.941864203762\n",
      "1.09372830176 0.434116562972 2.61543724335 -0.940330222974\n",
      "1.09372830176 0.434116562972 2.61390326256 -0.940330222974\n",
      "1.09526228255 0.434116562972 2.61390326256 -0.940330222974\n",
      "1.09526228255 0.434116562972 2.61390326256 -0.940330222974\n",
      "1.09526228255 0.434116562972 2.61390326256 -0.941864203762\n",
      "1.09526228255 0.434116562972 2.61390326256 -0.941864203762\n",
      "1.09372830176 0.434116562972 2.61390326256 -0.941864203762\n",
      "1.09372830176 0.434116562972 2.61390326256 -0.94339818455\n",
      "1.09372830176 0.434116562972 2.61390326256 -0.94339818455\n",
      "1.09372830176 0.434116562972 2.61543724335 -0.94339818455\n",
      "1.09526228255 0.434116562972 2.61390326256 -0.944932165338\n",
      "1.09372830176 0.434116562972 2.61390326256 -0.94339818455\n",
      "1.09372830176 0.434116562972 2.61390326256 -0.94339818455\n",
      "1.09372830176 0.434116562972 2.61390326256 -0.94339818455\n",
      "1.09372830176 0.434116562972 2.61543724335 -0.941864203762\n",
      "1.09372830176 0.434116562972 2.61390326256 -0.941864203762\n",
      "1.09372830176 0.434116562972 2.61390326256 -0.941864203762\n",
      "1.09526228255 0.434116562972 2.61390326256 -0.941864203762\n",
      "1.09526228255 0.434116562972 2.61390326256 -0.941864203762\n",
      "1.09526228255 0.434116562972 2.61390326256 -0.941864203762\n",
      "1.09526228255 0.434116562972 2.61390326256 -0.940330222974\n",
      "1.09526228255 0.434116562972 2.61390326256 -0.940330222974\n",
      "1.09372830176 0.434116562972 2.61390326256 -0.941864203762\n",
      "1.09372830176 0.434116562972 2.61390326256 -0.941864203762\n",
      "1.09372830176 0.434116562972 2.61390326256 -0.94339818455\n",
      "1.09526228255 0.434116562972 2.61390326256 -0.94339818455\n",
      "1.09372830176 0.434116562972 2.61390326256 -0.941864203762\n",
      "1.09372830176 0.434116562972 2.61390326256 -0.941864203762\n",
      "1.09372830176 0.434116562972 2.61390326256 -0.941864203762\n",
      "1.09372830176 0.434116562972 2.61390326256 -0.941864203762\n",
      "1.09526228255 0.434116562972 2.61390326256 -0.941864203762\n",
      "1.09372830176 0.434116562972 2.61390326256 -0.941864203762\n",
      "1.09526228255 0.434116562972 2.61390326256 -0.941864203762\n",
      "1.09372830176 0.434116562972 2.61390326256 -0.941864203762\n",
      "1.09372830176 0.434116562972 2.61390326256 -0.94339818455\n",
      "1.09372830176 0.434116562972 2.61390326256 -0.941864203762\n",
      "1.09372830176 0.434116562972 2.61390326256 -0.94339818455\n",
      "1.09372830176 0.434116562972 2.61390326256 -0.94339818455\n",
      "1.09372830176 0.434116562972 2.61390326256 -0.94339818455\n",
      "1.09372830176 0.434116562972 2.61543724335 -0.941864203762\n",
      "1.09372830176 0.434116562972 2.61390326256 -0.94339818455\n",
      "1.09526228255 0.434116562972 2.61390326256 -0.941864203762\n",
      "1.09526228255 0.434116562972 2.61390326256 -0.941864203762\n",
      "1.09526228255 0.434116562972 2.61390326256 -0.941864203762\n",
      "1.09526228255 0.434116562972 2.61390326256 -0.941864203762\n",
      "1.09372830176 0.434116562972 2.61390326256 -0.941864203762\n",
      "1.09372830176 0.434116562972 2.61390326256 -0.941864203762\n",
      "1.09372830176 0.434116562972 2.61390326256 -0.941864203762\n",
      "1.09526228255 0.434116562972 2.61390326256 -0.941864203762\n",
      "1.09526228255 0.434116562972 2.61390326256 -0.941864203762\n",
      "1.09372830176 0.434116562972 2.61390326256 -0.941864203762\n",
      "1.09372830176 0.434116562972 2.61390326256 -0.941864203762\n",
      "1.09526228255 0.434116562972 2.61390326256 -0.941864203762\n",
      "1.09526228255 0.434116562972 2.61390326256 -0.94339818455\n",
      "1.09526228255 0.434116562972 2.61390326256 -0.94339818455\n",
      "1.09372830176 0.434116562972 2.61390326256 -0.941864203762\n",
      "1.09372830176 0.434116562972 2.61390326256 -0.94339818455\n",
      "1.09526228255 0.434116562972 2.61390326256 -0.941864203762\n",
      "1.09372830176 0.434116562972 2.61390326256 -0.941864203762\n",
      "1.09372830176 0.434116562972 2.61390326256 -0.941864203762\n",
      "1.09526228255 0.434116562972 2.61390326256 -0.941864203762\n",
      "1.09372830176 0.434116562972 2.61390326256 -0.941864203762\n",
      "1.09372830176 0.434116562972 2.61390326256 -0.941864203762\n",
      "1.09526228255 0.434116562972 2.61390326256 -0.941864203762\n",
      "1.09526228255 0.434116562972 2.61390326256 -0.941864203762\n",
      "1.09372830176 0.434116562972 2.61390326256 -0.941864203762\n",
      "1.09372830176 0.434116562972 2.61390326256 -0.941864203762\n",
      "1.09372830176 0.434116562972 2.61390326256 -0.941864203762\n",
      "1.09372830176 0.434116562972 2.61390326256 -0.941864203762\n",
      "1.09526228255 0.434116562972 2.61390326256 -0.941864203762\n",
      "1.09526228255 0.434116562972 2.61390326256 -0.940330222974\n",
      "1.09526228255 0.434116562972 2.61390326256 -0.94339818455\n",
      "1.09372830176 0.434116562972 2.61390326256 -0.941864203762\n",
      "1.09526228255 0.434116562972 2.61390326256 -0.941864203762\n",
      "1.09526228255 0.434116562972 2.61390326256 -0.94339818455\n",
      "1.09526228255 0.434116562972 2.61390326256 -0.941864203762\n",
      "1.09526228255 0.434116562972 2.61390326256 -0.941864203762\n",
      "1.09372830176 0.434116562972 2.61390326256 -0.94339818455\n",
      "1.09372830176 0.434116562972 2.61543724335 -0.941864203762\n",
      "1.09526228255 0.434116562972 2.61390326256 -0.941864203762\n",
      "1.09372830176 0.434116562972 2.61390326256 -0.941864203762\n",
      "1.09372830176 0.434116562972 2.61390326256 -0.941864203762\n",
      "1.09372830176 0.434116562972 2.61390326256 -0.940330222974\n",
      "1.09526228255 0.434116562972 2.61543724335 -0.941864203762\n",
      "1.09526228255 0.434116562972 2.61390326256 -0.941864203762\n",
      "1.09372830176 0.434116562972 2.61390326256 -0.941864203762\n",
      "1.09526228255 0.434116562972 2.61390326256 -0.941864203762\n",
      "1.09372830176 0.434116562972 2.61390326256 -0.940330222974\n",
      "1.09526228255 0.434116562972 2.61390326256 -0.941864203762\n",
      "1.09526228255 0.434116562972 2.61390326256 -0.940330222974\n",
      "1.09526228255 0.434116562972 2.61390326256 -0.940330222974\n",
      "1.09526228255 0.434116562972 2.61390326256 -0.941864203762\n",
      "1.09526228255 0.434116562972 2.61390326256 -0.941864203762\n",
      "1.09526228255 0.434116562972 2.61390326256 -0.941864203762\n",
      "1.09526228255 0.434116562972 2.61390326256 -0.941864203762\n",
      "1.09526228255 0.434116562972 2.61390326256 -0.941864203762\n",
      "1.09372830176 0.434116562972 2.61390326256 -0.941864203762\n",
      "1.09526228255 0.434116562972 2.61390326256 -0.941864203762\n",
      "1.09372830176 0.434116562972 2.61390326256 -0.94339818455\n",
      "1.09372830176 0.434116562972 2.61390326256 -0.941864203762\n",
      "1.09372830176 0.434116562972 2.61390326256 -0.941864203762\n",
      "1.09526228255 0.434116562972 2.61390326256 -0.94339818455\n",
      "1.09526228255 0.434116562972 2.61390326256 -0.94339818455\n",
      "1.09526228255 0.434116562972 2.61390326256 -0.941864203762\n",
      "1.09526228255 0.434116562972 2.61390326256 -0.941864203762\n",
      "1.09372830176 0.434116562972 2.61390326256 -0.941864203762\n",
      "1.09372830176 0.434116562972 2.61390326256 -0.941864203762\n",
      "1.09372830176 0.434116562972 2.61390326256 -0.941864203762\n"
     ]
    },
    {
     "name": "stdout",
     "output_type": "stream",
     "text": [
      "1.09372830176 0.434116562972 2.61543724335 -0.941864203762\n",
      "1.09526228255 0.434116562972 2.61390326256 -0.941864203762\n",
      "1.09372830176 0.434116562972 2.61390326256 -0.941864203762\n",
      "1.09526228255 0.434116562972 2.61390326256 -0.94339818455\n",
      "1.09526228255 0.434116562972 2.61390326256 -0.941864203762\n",
      "1.09526228255 0.434116562972 2.61543724335 -0.941864203762\n",
      "1.09526228255 0.434116562972 2.61390326256 -0.94339818455\n",
      "1.09372830176 0.434116562972 2.61390326256 -0.94339818455\n",
      "1.09372830176 0.434116562972 2.61390326256 -0.941864203762\n",
      "1.09372830176 0.434116562972 2.61390326256 -0.941864203762\n",
      "1.09526228255 0.434116562972 2.61390326256 -0.941864203762\n",
      "1.09372830176 0.434116562972 2.61390326256 -0.941864203762\n",
      "1.09526228255 0.434116562972 2.61390326256 -0.941864203762\n",
      "1.09372830176 0.434116562972 2.61390326256 -0.941864203762\n",
      "1.09372830176 0.434116562972 2.61390326256 -0.941864203762\n",
      "1.09526228255 0.434116562972 2.61390326256 -0.941864203762\n",
      "1.09526228255 0.434116562972 2.61390326256 -0.940330222974\n",
      "1.09526228255 0.434116562972 2.61390326256 -0.941864203762\n",
      "1.09526228255 0.434116562972 2.61390326256 -0.941864203762\n",
      "1.09526228255 0.434116562972 2.61390326256 -0.941864203762\n",
      "1.09372830176 0.434116562972 2.61390326256 -0.941864203762\n",
      "1.09372830176 0.434116562972 2.61390326256 -0.941864203762\n",
      "1.09372830176 0.434116562972 2.61390326256 -0.941864203762\n",
      "1.09372830176 0.434116562972 2.61543724335 -0.941864203762\n",
      "1.09372830176 0.434116562972 2.61390326256 -0.94339818455\n",
      "1.09526228255 0.434116562972 2.61390326256 -0.941864203762\n",
      "1.09526228255 0.434116562972 2.61390326256 -0.941864203762\n",
      "1.09372830176 0.434116562972 2.61390326256 -0.941864203762\n",
      "1.09526228255 0.434116562972 2.61390326256 -0.941864203762\n",
      "1.09372830176 0.434116562972 2.61390326256 -0.94339818455\n",
      "1.09372830176 0.434116562972 2.61390326256 -0.941864203762\n",
      "1.09526228255 0.434116562972 2.61390326256 -0.941864203762\n",
      "1.09526228255 0.434116562972 2.61390326256 -0.941864203762\n",
      "1.09372830176 0.434116562972 2.61390326256 -0.941864203762\n",
      "1.09372830176 0.434116562972 2.61390326256 -0.941864203762\n",
      "1.09526228255 0.434116562972 2.61390326256 -0.940330222974\n",
      "1.09372830176 0.434116562972 2.61390326256 -0.941864203762\n",
      "1.09526228255 0.434116562972 2.61390326256 -0.941864203762\n",
      "1.09372830176 0.434116562972 2.61390326256 -0.941864203762\n",
      "1.09526228255 0.434116562972 2.61390326256 -0.94339818455\n",
      "1.09526228255 0.43565054376 2.61390326256 -0.94339818455\n",
      "1.09526228255 0.434116562972 2.61390326256 -0.94339818455\n",
      "1.09372830176 0.434116562972 2.61390326256 -0.941864203762\n",
      "1.09526228255 0.434116562972 2.61390326256 -0.941864203762\n",
      "1.09526228255 0.434116562972 2.61390326256 -0.941864203762\n",
      "1.09526228255 0.434116562972 2.61390326256 -0.941864203762\n",
      "1.09372830176 0.434116562972 2.61390326256 -0.94339818455\n",
      "1.09372830176 0.434116562972 2.61390326256 -0.941864203762\n",
      "1.09526228255 0.434116562972 2.61390326256 -0.941864203762\n",
      "1.09372830176 0.434116562972 2.61390326256 -0.941864203762\n",
      "1.09526228255 0.434116562972 2.61390326256 -0.94339818455\n",
      "1.09526228255 0.434116562972 2.61390326256 -0.94339818455\n",
      "1.09526228255 0.434116562972 2.61390326256 -0.941864203762\n",
      "1.09526228255 0.434116562972 2.61390326256 -0.940330222974\n",
      "1.09526228255 0.434116562972 2.61390326256 -0.940330222974\n",
      "1.09526228255 0.434116562972 2.61543724335 -0.941864203762\n",
      "1.09372830176 0.434116562972 2.61390326256 -0.940330222974\n",
      "1.09372830176 0.434116562972 2.61390326256 -0.940330222974\n",
      "1.09372830176 0.434116562972 2.61390326256 -0.940330222974\n",
      "1.09372830176 0.434116562972 2.61390326256 -0.940330222974\n",
      "1.09526228255 0.434116562972 2.61390326256 -0.941864203762\n",
      "1.09526228255 0.434116562972 2.61390326256 -0.940330222974\n",
      "1.09526228255 0.434116562972 2.61390326256 -0.941864203762\n",
      "1.09526228255 0.434116562972 2.61390326256 -0.941864203762\n",
      "1.09526228255 0.434116562972 2.61390326256 -0.941864203762\n",
      "1.09372830176 0.434116562972 2.61543724335 -0.941864203762\n",
      "1.09526228255 0.434116562972 2.61390326256 -0.941864203762\n",
      "1.09526228255 0.434116562972 2.61390326256 -0.941864203762\n",
      "1.09372830176 0.434116562972 2.61390326256 -0.94339818455\n",
      "1.09526228255 0.434116562972 2.61390326256 -0.941864203762\n",
      "1.09372830176 0.434116562972 2.61390326256 -0.941864203762\n",
      "1.09526228255 0.434116562972 2.61390326256 -0.940330222974\n",
      "1.09526228255 0.434116562972 2.61390326256 -0.940330222974\n",
      "1.09526228255 0.434116562972 2.61390326256 -0.941864203762\n",
      "1.09372830176 0.434116562972 2.61390326256 -0.941864203762\n",
      "1.09526228255 0.434116562972 2.61390326256 -0.941864203762\n",
      "1.09526228255 0.434116562972 2.61390326256 -0.940330222974\n",
      "1.09372830176 0.434116562972 2.61390326256 -0.941864203762\n",
      "1.09372830176 0.434116562972 2.61390326256 -0.941864203762\n",
      "1.09372830176 0.434116562972 2.61390326256 -0.94339818455\n",
      "1.09526228255 0.434116562972 2.61390326256 -0.941864203762\n",
      "1.09372830176 0.434116562972 2.61390326256 -0.944932165338\n",
      "1.09526228255 0.434116562972 2.61390326256 -0.941864203762\n",
      "1.09526228255 0.434116562972 2.61390326256 -0.941864203762\n",
      "1.09372830176 0.434116562972 2.61390326256 -0.941864203762\n",
      "1.09526228255 0.434116562972 2.61390326256 -0.941864203762\n",
      "1.09372830176 0.434116562972 2.61390326256 -0.941864203762\n",
      "1.09372830176 0.434116562972 2.61390326256 -0.941864203762\n",
      "1.09526228255 0.434116562972 2.61543724335 -0.941864203762\n",
      "1.09372830176 0.434116562972 2.61390326256 -0.940330222974\n",
      "1.09372830176 0.434116562972 2.61390326256 -0.938796242186\n",
      "1.09372830176 0.434116562972 2.61236928177 -0.937262261398\n",
      "1.09372830176 0.434116562972 2.61390326256 -0.93572828061\n",
      "1.09372830176 0.43565054376 2.61236928177 -0.931126338247\n",
      "1.09372830176 0.440252486123 2.61083530098 -0.928058376671\n",
      "1.09372830176 0.455592294002 2.60930132019 -0.915786530368\n",
      "1.08759237861 0.475534044245 2.60469937783 -0.877437010671\n",
      "1.08605839782 0.484737928972 2.59856345468 -0.831417587034\n",
      "1.08759237861 0.490873852123 2.59702947389 -0.791534086549\n",
      "1.09372830176 0.498543756063 2.59702947389 -0.756252528428\n",
      "1.09372830176 0.498543756063 2.5954954931 -0.750116605276\n",
      "1.09526228255 0.504679679214 2.59242753153 -0.727106893458\n",
      "1.09526228255 0.51541754473 2.58475762759 -0.690291354549\n",
      "1.09219432097 0.516951525517 2.58168966601 -0.688757373761\n",
      "1.09219432097 0.513883563942 2.58168966601 -0.6964272777\n",
      "1.09219432097 0.512349583154 2.58168966601 -0.697961258488\n",
      "1.09219432097 0.513883563942 2.58168966601 -0.6964272777\n",
      "1.0891263594 0.51541754473 2.58015568522 -0.693359316124\n",
      "1.08452441704 0.521553467881 2.57708772365 -0.685689412185\n",
      "1.07838849388 0.527689391033 2.57401976207 -0.678019508245\n",
      "1.0768545131 0.535359294972 2.57248578128 -0.671883585094\n",
      "1.07225257073 0.538427256548 2.56941781971 -0.664213681154\n",
      "1.06918460916 0.544563179699 2.56481587734 -0.651941834851\n",
      "1.063048686 0.553767064427 2.55867995419 -0.635068046185\n",
      "1.0507768397 0.56603891073 2.54180616553 -0.605922411215\n",
      "1.04003897419 0.575242795457 2.52646635765 -0.581378718609\n",
      "1.02930110867 0.584446680184 2.50959256898 -0.553767064427\n",
      "1.01702926237 0.596718526488 2.49578674189 -0.529223371821\n",
      "1.00935935843 0.604388430427 2.48504887637 -0.50774764079\n",
      "1.00168945449 0.608990372791 2.47431101086 -0.490873852123\n",
      "0.995553531338 0.613592315154 2.46203916456 -0.472466082669\n",
      "0.984815665823 0.622796199882 2.45130129904 -0.452524332426\n",
      "0.957204011641 0.639669988548 2.42829158722 -0.417242774305\n",
      "0.952602069277 0.641203969336 2.41295177934 -0.40650490879\n",
      "0.966407896368 0.641203969336 2.38840808674 -0.394233062487\n",
      "0.961805954004 0.641203969336 2.37000031728 -0.388097139335\n",
      "0.948000126913 0.639669988548 2.35772847098 -0.389631120123\n",
      "0.937262261398 0.639669988548 2.35005856704 -0.386563158547\n",
      "0.929592357459 0.63813600776 2.33932070153 -0.378893254608\n",
      "0.926524395883 0.639669988548 2.33471875916 -0.36968936988\n",
      "0.926524395883 0.641203969336 2.32858283601 -0.354349562002\n",
      "0.926524395883 0.641203969336 2.32704885522 -0.354349562002\n",
      "0.926524395883 0.641203969336 2.32244691286 -0.34821363885\n",
      "0.928058376671 0.641203969336 2.32091293207 -0.343611696486\n",
      "0.924990415095 0.641203969336 2.31477700892 -0.332873830971\n",
      "0.912718568792 0.641203969336 2.29483525868 -0.316000042304\n",
      "0.897378760913 0.644271930912 2.2794954508 -0.300660234426\n",
      "0.883572933822 0.642737950124 2.26262166213 -0.292990330486\n",
      "0.875903029883 0.642737950124 2.25801971977 -0.292990330486\n",
      "0.869767106731 0.644271930912 2.25801971977 -0.294524311274\n",
      "0.878970991458 0.639669988548 2.27029156607 -0.31906800388\n",
      "0.897378760913 0.636602026973 2.29023331631 -0.345145677274\n",
      "0.929592357459 0.633534065397 2.32244691286 -0.375825293032\n"
     ]
    },
    {
     "name": "stdout",
     "output_type": "stream",
     "text": [
      "0.955670030853 0.633534065397 2.34852458625 -0.389631120123\n",
      "0.984815665823 0.632000084609 2.37767022122 -0.40650490879\n",
      "1.02930110867 0.627398142245 2.41601974092 -0.426446659032\n",
      "1.063048686 0.621262219094 2.46664110692 -0.454058313214\n",
      "1.07838849388 0.621262219094 2.49732072268 -0.472466082669\n",
      "1.08759237861 0.619728238306 2.52186441528 -0.492407832911\n",
      "1.0891263594 0.615126295942 2.53720422316 -0.51541754473\n",
      "1.0891263594 0.5951845457 2.55254403104 -0.569106872306\n",
      "1.09066034019 0.546097160487 2.56328189656 -0.650407854064\n",
      "1.09833024413 0.512349583154 2.5832236468 -0.728640874246\n",
      "1.09679626334 0.503145698426 2.59089355074 -0.77619427867\n",
      "1.0891263594 0.501611717639 2.59089355074 -0.800737971276\n",
      "1.08759237861 0.500077736851 2.59242753153 -0.808407875216\n",
      "1.09372830176 0.498543756063 2.59702947389 -0.806873894428\n",
      "1.09679626334 0.498543756063 2.59702947389 -0.799203990488\n",
      "1.09679626334 0.498543756063 2.59702947389 -0.796136028913\n",
      "1.09986422491 0.498543756063 2.59702947389 -0.790000105761\n",
      "1.09986422491 0.498543756063 2.59702947389 -0.788466124973\n",
      "1.09986422491 0.498543756063 2.59702947389 -0.788466124973\n",
      "1.09986422491 0.498543756063 2.59702947389 -0.788466124973\n",
      "1.09986422491 0.498543756063 2.59702947389 -0.791534086549\n",
      "1.09986422491 0.498543756063 2.59702947389 -0.793068067337\n",
      "1.09986422491 0.498543756063 2.59702947389 -0.793068067337\n",
      "1.09986422491 0.498543756063 2.59702947389 -0.794602048125\n",
      "1.09986422491 0.498543756063 2.59702947389 -0.796136028913\n",
      "1.09986422491 0.497009775275 2.59856345468 -0.800737971276\n",
      "1.09986422491 0.497009775275 2.59856345468 -0.800737971276\n",
      "1.09986422491 0.497009775275 2.59856345468 -0.802271952064\n",
      "1.09986422491 0.495475794487 2.59856345468 -0.802271952064\n",
      "1.09986422491 0.495475794487 2.59856345468 -0.802271952064\n",
      "1.09986422491 0.495475794487 2.59856345468 -0.802271952064\n",
      "1.09986422491 0.495475794487 2.59856345468 -0.802271952064\n",
      "1.09986422491 0.495475794487 2.59856345468 -0.800737971276\n",
      "1.09986422491 0.495475794487 2.59856345468 -0.800737971276\n",
      "1.09986422491 0.495475794487 2.59856345468 -0.800737971276\n",
      "1.1013982057 0.495475794487 2.59856345468 -0.800737971276\n",
      "1.09986422491 0.495475794487 2.59856345468 -0.800737971276\n",
      "1.09986422491 0.495475794487 2.59856345468 -0.800737971276\n",
      "1.09833024413 0.495475794487 2.59856345468 -0.802271952064\n",
      "1.09986422491 0.495475794487 2.59856345468 -0.802271952064\n",
      "1.09986422491 0.495475794487 2.59856345468 -0.803805932852\n",
      "1.09986422491 0.495475794487 2.59856345468 -0.802271952064\n",
      "1.09986422491 0.495475794487 2.59856345468 -0.802271952064\n",
      "1.09986422491 0.495475794487 2.59856345468 -0.802271952064\n",
      "1.09986422491 0.495475794487 2.59856345468 -0.802271952064\n",
      "1.09986422491 0.495475794487 2.59856345468 -0.803805932852\n",
      "1.09986422491 0.495475794487 2.59856345468 -0.802271952064\n",
      "1.09986422491 0.495475794487 2.59856345468 -0.802271952064\n",
      "1.09986422491 0.495475794487 2.59856345468 -0.802271952064\n",
      "1.09986422491 0.495475794487 2.59856345468 -0.802271952064\n",
      "1.09986422491 0.495475794487 2.59856345468 -0.802271952064\n",
      "1.09986422491 0.495475794487 2.59856345468 -0.802271952064\n",
      "1.09833024413 0.495475794487 2.59856345468 -0.802271952064\n",
      "1.09986422491 0.495475794487 2.59856345468 -0.803805932852\n",
      "1.09986422491 0.495475794487 2.59856345468 -0.802271952064\n",
      "1.09986422491 0.495475794487 2.59856345468 -0.800737971276\n",
      "1.09833024413 0.495475794487 2.59856345468 -0.799203990488\n",
      "1.09833024413 0.497009775275 2.59702947389 -0.796136028913\n",
      "1.09372830176 0.503145698426 2.59242753153 -0.77619427867\n",
      "1.08605839782 0.51541754473 2.58475762759 -0.748582624488\n",
      "1.06458266679 0.550699102851 2.56634985813 -0.684155431397\n",
      "1.03543703182 0.5951845457 2.54640810789 -0.615126295942\n",
      "1.00475741607 0.628932123033 2.52646635765 -0.543029198912\n",
      "0.983281685035 0.665747661942 2.49118479953 -0.447922390063\n",
      "0.981747704247 0.690291354549 2.44976731825 -0.357417523577\n",
      "0.983281685035 0.690291354549 2.42215566407 -0.316000042304\n",
      "0.98634964661 0.690291354549 2.4190877025 -0.311398099941\n",
      "0.995553531338 0.687223392973 2.42215566407 -0.314466061517\n",
      "1.00782537764 0.682621450609 2.43442751037 -0.331339850183\n",
      "1.02469916631 0.678019508245 2.45436926062 -0.355883542789\n",
      "1.08145645546 0.656543777215 2.53873820395 -0.458660255578\n",
      "1.0891263594 0.622796199882 2.58168966601 -0.539961237336\n",
      "1.09219432097 0.55836900679 2.57862170444 -0.5951845457\n",
      "1.1013982057 0.513883563942 2.5832236468 -0.656543777215\n",
      "1.09986422491 0.509281621578 2.58935956995 -0.682621450609\n",
      "1.09526228255 0.509281621578 2.58935956995 -0.691825335336\n",
      "1.09372830176 0.509281621578 2.58935956995 -0.694893296912\n",
      "1.09372830176 0.50774764079 2.59089355074 -0.702563200852\n",
      "1.09372830176 0.506213660002 2.59242753153 -0.710233104791\n",
      "1.09679626334 0.506213660002 2.59396151231 -0.708699124003\n",
      "1.09526228255 0.50774764079 2.59242753153 -0.694893296912\n",
      "1.08759237861 0.518485506305 2.58629160838 -0.67495154667\n",
      "1.07838849388 0.532291333396 2.57555374286 -0.650407854064\n",
      "1.04464091655 0.576776776245 2.55101005025 -0.578310757033\n",
      "1.01396130079 0.615126295942 2.53106830001 -0.523087448669\n",
      "0.966407896368 0.650407854064 2.48965081874 -0.423378697456\n",
      "0.974077800307 0.668815623518 2.45130129904 -0.360485485153\n",
      "0.997087512126 0.668815623518 2.43289352959 -0.335941792547\n",
      "1.02316518552 0.661145719579 2.45130129904 -0.355883542789\n",
      "1.05844674364 0.651941834851 2.48965081874 -0.403436947214\n",
      "1.0768545131 0.636602026973 2.51879645371 -0.437184524547\n",
      "1.0891263594 0.619728238306 2.57248578128 -0.504679679214\n",
      "1.0891263594 0.58751464176 2.58168966601 -0.550699102851\n",
      "1.09066034019 0.569106872306 2.58168966601 -0.564504929942\n",
      "1.09833024413 0.516951525517 2.5832236468 -0.63813600776\n",
      "1.09679626334 0.509281621578 2.58935956995 -0.671883585094\n",
      "1.09679626334 0.506213660002 2.59242753153 -0.694893296912\n",
      "1.09679626334 0.506213660002 2.59242753153 -0.6964272777\n",
      "1.09679626334 0.503145698426 2.59396151231 -0.708699124003\n",
      "1.09679626334 0.501611717639 2.5954954931 -0.711767085579\n",
      "1.09833024413 0.500077736851 2.59702947389 -0.711767085579\n",
      "1.09833024413 0.501611717639 2.59702947389 -0.705631162427\n",
      "1.09833024413 0.501611717639 2.59702947389 -0.705631162427\n",
      "1.09986422491 0.501611717639 2.59702947389 -0.702563200852\n",
      "1.1013982057 0.500077736851 2.59702947389 -0.702563200852\n",
      "1.09986422491 0.501611717639 2.59702947389 -0.701029220064\n",
      "1.1013982057 0.500077736851 2.59702947389 -0.702563200852\n",
      "1.09986422491 0.500077736851 2.59702947389 -0.701029220064\n",
      "1.09986422491 0.501611717639 2.59702947389 -0.702563200852\n",
      "1.09986422491 0.501611717639 2.59702947389 -0.702563200852\n",
      "1.1013982057 0.500077736851 2.59702947389 -0.70409718164\n",
      "1.09986422491 0.500077736851 2.59702947389 -0.705631162427\n",
      "1.1013982057 0.500077736851 2.59856345468 -0.707165143215\n",
      "1.09986422491 0.500077736851 2.59702947389 -0.705631162427\n",
      "1.09986422491 0.500077736851 2.59702947389 -0.707165143215\n",
      "1.09986422491 0.500077736851 2.59702947389 -0.707165143215\n",
      "1.09986422491 0.500077736851 2.59702947389 -0.707165143215\n",
      "1.09986422491 0.500077736851 2.59702947389 -0.707165143215\n",
      "1.1013982057 0.500077736851 2.59702947389 -0.707165143215\n",
      "1.1013982057 0.500077736851 2.59702947389 -0.70409718164\n",
      "1.09986422491 0.500077736851 2.59702947389 -0.705631162427\n",
      "1.1013982057 0.500077736851 2.59702947389 -0.705631162427\n",
      "1.09986422491 0.500077736851 2.59702947389 -0.707165143215\n",
      "1.1013982057 0.500077736851 2.59702947389 -0.70409718164\n",
      "1.1013982057 0.500077736851 2.59702947389 -0.705631162427\n",
      "1.09986422491 0.500077736851 2.59702947389 -0.705631162427\n",
      "1.09986422491 0.500077736851 2.59702947389 -0.705631162427\n",
      "1.09986422491 0.500077736851 2.59702947389 -0.705631162427\n",
      "1.09986422491 0.500077736851 2.59702947389 -0.707165143215\n",
      "1.09986422491 0.500077736851 2.59702947389 -0.707165143215\n",
      "1.09986422491 0.500077736851 2.59702947389 -0.705631162427\n",
      "1.09986422491 0.500077736851 2.59702947389 -0.707165143215\n",
      "1.09986422491 0.500077736851 2.59702947389 -0.705631162427\n",
      "1.09986422491 0.500077736851 2.59702947389 -0.707165143215\n",
      "1.09986422491 0.500077736851 2.59702947389 -0.707165143215\n",
      "1.09986422491 0.500077736851 2.59702947389 -0.705631162427\n",
      "1.1013982057 0.500077736851 2.59702947389 -0.707165143215\n",
      "1.09986422491 0.500077736851 2.59702947389 -0.707165143215\n",
      "1.1013982057 0.500077736851 2.59702947389 -0.705631162427\n",
      "1.09986422491 0.500077736851 2.59702947389 -0.705631162427\n",
      "1.1013982057 0.500077736851 2.59702947389 -0.707165143215\n",
      "1.1013982057 0.500077736851 2.59702947389 -0.705631162427\n"
     ]
    },
    {
     "name": "stdout",
     "output_type": "stream",
     "text": [
      "1.1013982057 0.500077736851 2.59702947389 -0.707165143215\n",
      "1.09986422491 0.500077736851 2.59702947389 -0.707165143215\n",
      "1.09986422491 0.500077736851 2.59856345468 -0.707165143215\n",
      "1.09986422491 0.500077736851 2.59702947389 -0.707165143215\n",
      "1.1013982057 0.500077736851 2.59702947389 -0.705631162427\n",
      "1.1013982057 0.500077736851 2.59702947389 -0.707165143215\n",
      "1.1013982057 0.500077736851 2.59702947389 -0.707165143215\n",
      "1.09986422491 0.500077736851 2.59856345468 -0.705631162427\n",
      "1.09986422491 0.500077736851 2.59702947389 -0.707165143215\n",
      "1.09986422491 0.500077736851 2.59702947389 -0.705631162427\n",
      "1.09986422491 0.500077736851 2.59702947389 -0.707165143215\n",
      "1.1013982057 0.500077736851 2.59702947389 -0.707165143215\n",
      "1.09986422491 0.500077736851 2.59702947389 -0.708699124003\n",
      "1.09986422491 0.500077736851 2.59702947389 -0.707165143215\n",
      "1.09986422491 0.500077736851 2.59702947389 -0.705631162427\n",
      "1.1013982057 0.500077736851 2.59702947389 -0.707165143215\n",
      "1.09986422491 0.500077736851 2.59702947389 -0.707165143215\n",
      "1.09986422491 0.500077736851 2.59702947389 -0.707165143215\n",
      "1.1013982057 0.500077736851 2.59702947389 -0.708699124003\n",
      "1.09986422491 0.500077736851 2.59702947389 -0.707165143215\n",
      "1.09986422491 0.500077736851 2.59702947389 -0.708699124003\n",
      "1.1013982057 0.498543756063 2.59856345468 -0.707165143215\n",
      "1.09986422491 0.500077736851 2.59702947389 -0.708699124003\n",
      "1.1013982057 0.500077736851 2.59702947389 -0.707165143215\n",
      "1.1013982057 0.500077736851 2.59702947389 -0.707165143215\n",
      "1.1013982057 0.500077736851 2.59702947389 -0.707165143215\n",
      "1.1013982057 0.500077736851 2.59702947389 -0.708699124003\n",
      "1.1013982057 0.500077736851 2.59702947389 -0.707165143215\n",
      "1.1013982057 0.500077736851 2.59702947389 -0.708699124003\n",
      "1.1013982057 0.500077736851 2.59702947389 -0.707165143215\n",
      "1.1013982057 0.498543756063 2.59702947389 -0.707165143215\n",
      "1.1013982057 0.498543756063 2.59702947389 -0.708699124003\n",
      "1.09986422491 0.500077736851 2.59702947389 -0.705631162427\n",
      "1.09986422491 0.500077736851 2.59702947389 -0.708699124003\n",
      "1.09986422491 0.500077736851 2.59702947389 -0.707165143215\n",
      "1.09986422491 0.500077736851 2.59856345468 -0.705631162427\n",
      "1.1013982057 0.500077736851 2.59702947389 -0.707165143215\n",
      "1.1013982057 0.500077736851 2.59702947389 -0.708699124003\n",
      "1.1013982057 0.498543756063 2.59702947389 -0.707165143215\n",
      "1.09986422491 0.500077736851 2.59702947389 -0.707165143215\n",
      "1.1013982057 0.498543756063 2.59702947389 -0.707165143215\n",
      "1.1013982057 0.500077736851 2.59702947389 -0.707165143215\n",
      "1.09986422491 0.498543756063 2.59702947389 -0.707165143215\n",
      "1.1013982057 0.498543756063 2.59702947389 -0.707165143215\n",
      "1.1013982057 0.498543756063 2.59702947389 -0.707165143215\n",
      "1.09986422491 0.500077736851 2.59856345468 -0.708699124003\n",
      "1.09986422491 0.498543756063 2.59702947389 -0.708699124003\n",
      "1.1013982057 0.498543756063 2.59702947389 -0.708699124003\n",
      "1.1013982057 0.498543756063 2.59856345468 -0.708699124003\n",
      "1.09986422491 0.498543756063 2.59702947389 -0.707165143215\n",
      "1.1013982057 0.498543756063 2.59702947389 -0.708699124003\n",
      "1.09986422491 0.498543756063 2.59856345468 -0.708699124003\n",
      "1.09986422491 0.498543756063 2.59856345468 -0.708699124003\n",
      "1.1013982057 0.500077736851 2.59702947389 -0.708699124003\n",
      "1.09986422491 0.498543756063 2.59702947389 -0.708699124003\n",
      "1.1013982057 0.500077736851 2.59702947389 -0.708699124003\n",
      "1.1013982057 0.500077736851 2.59702947389 -0.708699124003\n",
      "1.1013982057 0.498543756063 2.59702947389 -0.707165143215\n",
      "1.09986422491 0.500077736851 2.59702947389 -0.708699124003\n",
      "1.09986422491 0.498543756063 2.59702947389 -0.707165143215\n",
      "1.1013982057 0.498543756063 2.59702947389 -0.707165143215\n",
      "1.1013982057 0.498543756063 2.59702947389 -0.708699124003\n",
      "1.09986422491 0.498543756063 2.59702947389 -0.708699124003\n",
      "1.1013982057 0.500077736851 2.59702947389 -0.707165143215\n",
      "1.1013982057 0.498543756063 2.59702947389 -0.707165143215\n",
      "1.1013982057 0.498543756063 2.59702947389 -0.707165143215\n",
      "1.1013982057 0.498543756063 2.59702947389 -0.708699124003\n",
      "1.1013982057 0.498543756063 2.59702947389 -0.708699124003\n",
      "1.1013982057 0.498543756063 2.59856345468 -0.708699124003\n",
      "1.1013982057 0.498543756063 2.59702947389 -0.708699124003\n",
      "1.1013982057 0.498543756063 2.59702947389 -0.708699124003\n",
      "1.09986422491 0.498543756063 2.59856345468 -0.708699124003\n",
      "1.1013982057 0.498543756063 2.59856345468 -0.708699124003\n",
      "1.09986422491 0.498543756063 2.59856345468 -0.708699124003\n",
      "1.1013982057 0.498543756063 2.59702947389 -0.708699124003\n",
      "1.1013982057 0.498543756063 2.59856345468 -0.707165143215\n",
      "1.09986422491 0.498543756063 2.59702947389 -0.707165143215\n",
      "1.09986422491 0.498543756063 2.59856345468 -0.708699124003\n",
      "1.1013982057 0.500077736851 2.59856345468 -0.707165143215\n",
      "1.1013982057 0.498543756063 2.59856345468 -0.708699124003\n",
      "1.1013982057 0.498543756063 2.59856345468 -0.708699124003\n",
      "1.1013982057 0.498543756063 2.59702947389 -0.707165143215\n",
      "1.09986422491 0.498543756063 2.59702947389 -0.708699124003\n",
      "1.1013982057 0.500077736851 2.59856345468 -0.708699124003\n",
      "1.1013982057 0.498543756063 2.59856345468 -0.708699124003\n",
      "1.1013982057 0.498543756063 2.59856345468 -0.708699124003\n",
      "1.1013982057 0.498543756063 2.59856345468 -0.708699124003\n",
      "1.09986422491 0.498543756063 2.59702947389 -0.707165143215\n",
      "1.1013982057 0.498543756063 2.59702947389 -0.708699124003\n",
      "1.1013982057 0.498543756063 2.59856345468 -0.708699124003\n",
      "1.1013982057 0.498543756063 2.59856345468 -0.708699124003\n",
      "1.1013982057 0.498543756063 2.59856345468 -0.708699124003\n",
      "1.09986422491 0.498543756063 2.59856345468 -0.708699124003\n",
      "1.1013982057 0.498543756063 2.59856345468 -0.708699124003\n",
      "1.1013982057 0.498543756063 2.59856345468 -0.707165143215\n",
      "1.09986422491 0.498543756063 2.59856345468 -0.708699124003\n",
      "1.09986422491 0.498543756063 2.59856345468 -0.708699124003\n",
      "1.09986422491 0.498543756063 2.59856345468 -0.710233104791\n",
      "1.1013982057 0.498543756063 2.59856345468 -0.710233104791\n",
      "1.1013982057 0.498543756063 2.59856345468 -0.708699124003\n",
      "1.09986422491 0.498543756063 2.59856345468 -0.708699124003\n",
      "1.1013982057 0.498543756063 2.59856345468 -0.708699124003\n",
      "1.09986422491 0.498543756063 2.59856345468 -0.708699124003\n",
      "1.09986422491 0.498543756063 2.59856345468 -0.708699124003\n",
      "1.1013982057 0.498543756063 2.59856345468 -0.708699124003\n",
      "1.1013982057 0.498543756063 2.59856345468 -0.708699124003\n",
      "1.09986422491 0.498543756063 2.59856345468 -0.708699124003\n",
      "1.1013982057 0.498543756063 2.59856345468 -0.708699124003\n",
      "1.09986422491 0.498543756063 2.59856345468 -0.710233104791\n",
      "1.1013982057 0.498543756063 2.59702947389 -0.710233104791\n",
      "1.1013982057 0.498543756063 2.59856345468 -0.708699124003\n",
      "1.1013982057 0.498543756063 2.59856345468 -0.710233104791\n",
      "1.09986422491 0.498543756063 2.59702947389 -0.710233104791\n",
      "1.1013982057 0.498543756063 2.59856345468 -0.710233104791\n",
      "1.09986422491 0.498543756063 2.59856345468 -0.708699124003\n",
      "1.1013982057 0.498543756063 2.59856345468 -0.710233104791\n",
      "1.09986422491 0.498543756063 2.59856345468 -0.708699124003\n",
      "1.1013982057 0.498543756063 2.59856345468 -0.708699124003\n",
      "1.1013982057 0.498543756063 2.59856345468 -0.708699124003\n",
      "1.1013982057 0.498543756063 2.59856345468 -0.708699124003\n",
      "1.1013982057 0.498543756063 2.59856345468 -0.710233104791\n",
      "1.1013982057 0.498543756063 2.59702947389 -0.710233104791\n",
      "1.09986422491 0.498543756063 2.59856345468 -0.708699124003\n",
      "1.1013982057 0.498543756063 2.59856345468 -0.710233104791\n",
      "1.1013982057 0.498543756063 2.59856345468 -0.708699124003\n",
      "1.1013982057 0.498543756063 2.59702947389 -0.708699124003\n",
      "1.1013982057 0.498543756063 2.59856345468 -0.708699124003\n",
      "1.1013982057 0.498543756063 2.59702947389 -0.708699124003\n",
      "1.1013982057 0.498543756063 2.59702947389 -0.708699124003\n",
      "1.1013982057 0.498543756063 2.59856345468 -0.710233104791\n",
      "1.1013982057 0.498543756063 2.59856345468 -0.710233104791\n",
      "1.1013982057 0.498543756063 2.59856345468 -0.710233104791\n",
      "1.09986422491 0.498543756063 2.59856345468 -0.710233104791\n",
      "1.1013982057 0.498543756063 2.59856345468 -0.710233104791\n",
      "1.1013982057 0.498543756063 2.59856345468 -0.710233104791\n",
      "1.1013982057 0.498543756063 2.59856345468 -0.710233104791\n",
      "1.1013982057 0.498543756063 2.59856345468 -0.710233104791\n",
      "1.1013982057 0.498543756063 2.59856345468 -0.710233104791\n",
      "1.1013982057 0.495475794487 2.59856345468 -0.708699124003\n",
      "1.10293218649 0.492407832911 2.59856345468 -0.713301066367\n",
      "1.10906810964 0.45712627479 2.61850520492 -0.759320490003\n",
      "1.10753412885 0.447922390063 2.62924307044 -0.83448554861\n",
      "1.10906810964 0.411106851153 2.65378676304 -1.01396130079\n"
     ]
    },
    {
     "name": "stdout",
     "output_type": "stream",
     "text": [
      "1.08299043625 0.408038889578 2.65378676304 -1.06458266679\n",
      "0.966407896368 0.418776755093 2.64151491674 -1.07838849388\n",
      "0.912718568792 0.423378697456 2.63998093595 -1.08299043625\n",
      "0.900446722489 0.420310735881 2.64151491674 -1.08299043625\n",
      "0.909650607216 0.414174812729 2.6461168591 -1.08605839782\n",
      "0.912718568792 0.412640831941 2.64765083989 -1.08452441704\n",
      "0.90658264564 0.415708793517 2.6461168591 -1.0768545131\n",
      "0.917320511156 0.415708793517 2.6461168591 -1.07378655152\n",
      "0.918854491943 0.415708793517 2.6461168591 -1.07378655152\n",
      "0.938796242186 0.412640831941 2.64765083989 -1.07532053231\n",
      "0.961805954004 0.411106851153 2.64918482068 -1.07071858994\n",
      "0.967941877156 0.412640831941 2.64918482068 -1.06458266679\n",
      "0.978679742671 0.412640831941 2.64918482068 -1.063048686\n",
      "0.989417608186 0.411106851153 2.65071880147 -1.063048686\n",
      "0.995553531338 0.409572870365 2.65071880147 -1.06151470522\n",
      "0.995553531338 0.411106851153 2.64918482068 -1.05998072443\n",
      "0.99401955055 0.411106851153 2.65071880147 -1.05844674364\n",
      "0.990951588974 0.411106851153 2.65071880147 -1.05844674364\n",
      "0.989417608186 0.411106851153 2.65071880147 -1.05844674364\n",
      "0.987883627398 0.411106851153 2.65071880147 -1.06151470522\n",
      "0.983281685035 0.411106851153 2.65071880147 -1.063048686\n",
      "0.981747704247 0.411106851153 2.65071880147 -1.063048686\n",
      "0.971009838732 0.411106851153 2.65071880147 -1.06458266679\n",
      "0.967941877156 0.411106851153 2.64918482068 -1.06611664758\n",
      "0.96487391558 0.411106851153 2.64918482068 -1.06765062837\n",
      "0.963339934792 0.411106851153 2.64918482068 -1.06765062837\n",
      "0.961805954004 0.411106851153 2.64918482068 -1.06765062837\n",
      "0.961805954004 0.412640831941 2.64918482068 -1.06918460916\n",
      "0.963339934792 0.412640831941 2.65071880147 -1.06918460916\n",
      "0.966407896368 0.411106851153 2.65071880147 -1.06918460916\n",
      "0.967941877156 0.411106851153 2.65071880147 -1.06918460916\n",
      "0.969475857944 0.411106851153 2.65071880147 -1.06765062837\n",
      "0.974077800307 0.411106851153 2.65071880147 -1.06611664758\n",
      "0.975611781095 0.411106851153 2.65071880147 -1.06765062837\n",
      "0.975611781095 0.411106851153 2.65071880147 -1.06611664758\n",
      "0.977145761883 0.411106851153 2.65071880147 -1.06611664758\n",
      "0.977145761883 0.411106851153 2.65071880147 -1.06611664758\n",
      "0.975611781095 0.411106851153 2.65071880147 -1.06611664758\n",
      "0.975611781095 0.411106851153 2.65071880147 -1.06611664758\n",
      "0.974077800307 0.411106851153 2.65071880147 -1.06611664758\n",
      "0.972543819519 0.411106851153 2.65071880147 -1.06611664758\n",
      "0.971009838732 0.412640831941 2.65071880147 -1.06765062837\n",
      "0.969475857944 0.411106851153 2.65071880147 -1.06765062837\n",
      "0.969475857944 0.411106851153 2.65071880147 -1.06765062837\n",
      "0.969475857944 0.411106851153 2.64918482068 -1.06765062837\n",
      "0.967941877156 0.411106851153 2.64918482068 -1.06765062837\n",
      "0.969475857944 0.411106851153 2.65071880147 -1.06765062837\n",
      "0.969475857944 0.411106851153 2.65071880147 -1.06611664758\n",
      "0.971009838732 0.411106851153 2.65071880147 -1.06611664758\n",
      "0.972543819519 0.411106851153 2.65071880147 -1.06611664758\n",
      "0.972543819519 0.411106851153 2.64918482068 -1.06765062837\n",
      "0.972543819519 0.411106851153 2.64918482068 -1.06611664758\n",
      "0.974077800307 0.411106851153 2.65071880147 -1.06611664758\n",
      "0.975611781095 0.411106851153 2.65071880147 -1.06611664758\n",
      "0.975611781095 0.411106851153 2.65071880147 -1.06611664758\n",
      "0.975611781095 0.411106851153 2.65071880147 -1.06611664758\n",
      "0.975611781095 0.411106851153 2.64918482068 -1.06611664758\n",
      "0.975611781095 0.411106851153 2.64918482068 -1.06611664758\n",
      "0.975611781095 0.411106851153 2.65071880147 -1.06611664758\n",
      "0.974077800307 0.411106851153 2.65071880147 -1.06611664758\n",
      "0.974077800307 0.411106851153 2.65071880147 -1.06611664758\n",
      "0.974077800307 0.411106851153 2.65071880147 -1.06611664758\n",
      "0.972543819519 0.411106851153 2.64918482068 -1.06611664758\n",
      "0.972543819519 0.411106851153 2.64918482068 -1.06765062837\n",
      "0.972543819519 0.411106851153 2.65071880147 -1.06765062837\n",
      "0.971009838732 0.411106851153 2.64918482068 -1.06765062837\n",
      "0.971009838732 0.411106851153 2.65071880147 -1.06765062837\n",
      "0.971009838732 0.411106851153 2.65071880147 -1.06765062837\n",
      "0.971009838732 0.411106851153 2.65071880147 -1.06611664758\n",
      "0.971009838732 0.411106851153 2.65071880147 -1.06611664758\n",
      "0.971009838732 0.411106851153 2.65071880147 -1.06765062837\n",
      "0.971009838732 0.411106851153 2.64918482068 -1.06765062837\n",
      "0.972543819519 0.411106851153 2.64918482068 -1.06611664758\n",
      "0.972543819519 0.411106851153 2.65071880147 -1.06611664758\n",
      "0.974077800307 0.411106851153 2.65071880147 -1.06611664758\n",
      "0.974077800307 0.411106851153 2.65071880147 -1.06611664758\n",
      "0.974077800307 0.411106851153 2.65071880147 -1.06611664758\n",
      "0.974077800307 0.411106851153 2.65071880147 -1.06611664758\n",
      "0.974077800307 0.411106851153 2.65071880147 -1.06611664758\n",
      "0.975611781095 0.411106851153 2.65071880147 -1.06611664758\n",
      "0.975611781095 0.411106851153 2.64918482068 -1.06458266679\n",
      "0.975611781095 0.411106851153 2.65071880147 -1.06765062837\n",
      "0.975611781095 0.411106851153 2.65071880147 -1.06765062837\n",
      "0.977145761883 0.411106851153 2.65071880147 -1.06611664758\n",
      "0.975611781095 0.411106851153 2.65071880147 -1.06765062837\n",
      "0.975611781095 0.411106851153 2.65071880147 -1.06765062837\n",
      "0.975611781095 0.411106851153 2.65071880147 -1.06765062837\n",
      "0.974077800307 0.411106851153 2.65071880147 -1.06765062837\n",
      "0.974077800307 0.411106851153 2.64918482068 -1.06611664758\n",
      "0.974077800307 0.411106851153 2.65071880147 -1.06765062837\n",
      "0.972543819519 0.411106851153 2.65071880147 -1.06611664758\n",
      "0.972543819519 0.411106851153 2.65071880147 -1.06918460916\n",
      "0.972543819519 0.411106851153 2.65071880147 -1.06765062837\n",
      "0.972543819519 0.411106851153 2.64918482068 -1.06765062837\n",
      "0.972543819519 0.411106851153 2.65071880147 -1.06611664758\n",
      "0.972543819519 0.411106851153 2.65071880147 -1.06765062837\n",
      "0.972543819519 0.411106851153 2.65071880147 -1.06611664758\n",
      "0.972543819519 0.411106851153 2.65071880147 -1.06611664758\n",
      "0.974077800307 0.411106851153 2.65071880147 -1.06765062837\n",
      "0.974077800307 0.411106851153 2.65071880147 -1.06765062837\n",
      "0.974077800307 0.411106851153 2.65071880147 -1.06765062837\n",
      "0.975611781095 0.411106851153 2.65071880147 -1.06765062837\n",
      "0.975611781095 0.411106851153 2.65071880147 -1.06611664758\n",
      "0.975611781095 0.411106851153 2.65071880147 -1.06765062837\n",
      "0.975611781095 0.411106851153 2.65071880147 -1.06765062837\n",
      "0.975611781095 0.411106851153 2.65071880147 -1.06765062837\n",
      "0.975611781095 0.411106851153 2.65071880147 -1.06611664758\n",
      "0.975611781095 0.411106851153 2.65071880147 -1.06765062837\n",
      "0.975611781095 0.411106851153 2.65071880147 -1.06765062837\n",
      "0.975611781095 0.411106851153 2.65071880147 -1.06765062837\n",
      "0.975611781095 0.411106851153 2.65071880147 -1.06765062837\n",
      "0.975611781095 0.411106851153 2.65071880147 -1.06765062837\n",
      "0.975611781095 0.411106851153 2.65071880147 -1.06765062837\n",
      "0.975611781095 0.411106851153 2.64918482068 -1.06611664758\n",
      "0.974077800307 0.411106851153 2.65071880147 -1.06765062837\n",
      "0.974077800307 0.411106851153 2.65071880147 -1.06611664758\n",
      "0.974077800307 0.411106851153 2.65071880147 -1.06611664758\n",
      "0.974077800307 0.411106851153 2.65071880147 -1.06611664758\n",
      "0.974077800307 0.411106851153 2.64918482068 -1.06611664758\n",
      "0.974077800307 0.411106851153 2.65071880147 -1.06611664758\n",
      "0.974077800307 0.411106851153 2.65071880147 -1.06765062837\n",
      "0.974077800307 0.411106851153 2.65071880147 -1.06765062837\n",
      "0.974077800307 0.411106851153 2.65071880147 -1.06765062837\n",
      "0.974077800307 0.411106851153 2.65071880147 -1.06611664758\n",
      "0.974077800307 0.411106851153 2.65071880147 -1.06611664758\n",
      "0.974077800307 0.411106851153 2.65071880147 -1.06611664758\n",
      "0.974077800307 0.411106851153 2.64918482068 -1.06765062837\n",
      "0.974077800307 0.411106851153 2.65071880147 -1.06765062837\n",
      "0.974077800307 0.411106851153 2.65071880147 -1.06611664758\n",
      "0.975611781095 0.411106851153 2.65071880147 -1.06765062837\n",
      "0.974077800307 0.411106851153 2.65071880147 -1.06765062837\n",
      "0.975611781095 0.411106851153 2.65071880147 -1.06611664758\n",
      "0.975611781095 0.411106851153 2.64918482068 -1.06611664758\n",
      "0.975611781095 0.411106851153 2.65071880147 -1.06611664758\n",
      "0.975611781095 0.411106851153 2.65071880147 -1.06611664758\n",
      "0.975611781095 0.411106851153 2.64918482068 -1.06611664758\n",
      "0.975611781095 0.411106851153 2.65071880147 -1.06611664758\n",
      "0.975611781095 0.411106851153 2.65071880147 -1.06611664758\n",
      "0.975611781095 0.411106851153 2.65071880147 -1.06765062837\n",
      "0.975611781095 0.411106851153 2.65071880147 -1.06611664758\n"
     ]
    },
    {
     "name": "stdout",
     "output_type": "stream",
     "text": [
      "0.975611781095 0.411106851153 2.65071880147 -1.06611664758\n",
      "0.975611781095 0.411106851153 2.65071880147 -1.06611664758\n",
      "0.975611781095 0.411106851153 2.65071880147 -1.06611664758\n",
      "0.974077800307 0.411106851153 2.64918482068 -1.06611664758\n",
      "0.975611781095 0.411106851153 2.65071880147 -1.06611664758\n",
      "0.975611781095 0.411106851153 2.65071880147 -1.06765062837\n",
      "0.974077800307 0.411106851153 2.65071880147 -1.06765062837\n",
      "0.974077800307 0.411106851153 2.65071880147 -1.06611664758\n",
      "0.974077800307 0.411106851153 2.65071880147 -1.06611664758\n",
      "0.974077800307 0.411106851153 2.65071880147 -1.06611664758\n",
      "0.974077800307 0.411106851153 2.65071880147 -1.06611664758\n",
      "0.974077800307 0.411106851153 2.65071880147 -1.06611664758\n",
      "0.975611781095 0.411106851153 2.65071880147 -1.06611664758\n",
      "0.975611781095 0.411106851153 2.65071880147 -1.06611664758\n",
      "0.975611781095 0.411106851153 2.65071880147 -1.06611664758\n",
      "0.975611781095 0.411106851153 2.65071880147 -1.06765062837\n",
      "0.975611781095 0.411106851153 2.65071880147 -1.06765062837\n",
      "0.975611781095 0.411106851153 2.65071880147 -1.06611664758\n",
      "0.975611781095 0.411106851153 2.65071880147 -1.06611664758\n",
      "0.975611781095 0.411106851153 2.65071880147 -1.06611664758\n",
      "0.975611781095 0.411106851153 2.65071880147 -1.06611664758\n",
      "0.975611781095 0.411106851153 2.65071880147 -1.06611664758\n",
      "0.975611781095 0.411106851153 2.65071880147 -1.06765062837\n",
      "0.975611781095 0.411106851153 2.65071880147 -1.06611664758\n",
      "0.975611781095 0.411106851153 2.65071880147 -1.06611664758\n",
      "0.975611781095 0.411106851153 2.65071880147 -1.06611664758\n",
      "0.975611781095 0.411106851153 2.65071880147 -1.06765062837\n",
      "0.975611781095 0.409572870365 2.65071880147 -1.06611664758\n",
      "0.975611781095 0.409572870365 2.65071880147 -1.06765062837\n",
      "0.975611781095 0.411106851153 2.65071880147 -1.06765062837\n",
      "0.975611781095 0.411106851153 2.65071880147 -1.06765062837\n",
      "0.975611781095 0.411106851153 2.65071880147 -1.06765062837\n",
      "0.975611781095 0.411106851153 2.65071880147 -1.06765062837\n",
      "0.975611781095 0.411106851153 2.65071880147 -1.06765062837\n",
      "0.975611781095 0.411106851153 2.65071880147 -1.06765062837\n",
      "0.975611781095 0.411106851153 2.65071880147 -1.06765062837\n",
      "0.975611781095 0.411106851153 2.65071880147 -1.06765062837\n",
      "0.975611781095 0.411106851153 2.65071880147 -1.06765062837\n",
      "0.975611781095 0.411106851153 2.64918482068 -1.06765062837\n",
      "0.975611781095 0.411106851153 2.65071880147 -1.06765062837\n",
      "0.975611781095 0.411106851153 2.65071880147 -1.06765062837\n",
      "0.975611781095 0.411106851153 2.65071880147 -1.06765062837\n",
      "0.975611781095 0.411106851153 2.65071880147 -1.06765062837\n",
      "0.975611781095 0.411106851153 2.65071880147 -1.06765062837\n",
      "0.975611781095 0.411106851153 2.65071880147 -1.06611664758\n",
      "0.977145761883 0.411106851153 2.65071880147 -1.06765062837\n",
      "0.975611781095 0.411106851153 2.65071880147 -1.06611664758\n",
      "0.977145761883 0.411106851153 2.65071880147 -1.06611664758\n",
      "0.977145761883 0.411106851153 2.65071880147 -1.06611664758\n",
      "0.977145761883 0.411106851153 2.65071880147 -1.06611664758\n",
      "0.977145761883 0.411106851153 2.65071880147 -1.06765062837\n",
      "0.977145761883 0.411106851153 2.65071880147 -1.06765062837\n",
      "0.977145761883 0.411106851153 2.65071880147 -1.06765062837\n",
      "0.975611781095 0.411106851153 2.65071880147 -1.06765062837\n",
      "0.975611781095 0.411106851153 2.65071880147 -1.06765062837\n",
      "0.975611781095 0.411106851153 2.65071880147 -1.06765062837\n",
      "0.975611781095 0.411106851153 2.65071880147 -1.06765062837\n",
      "0.975611781095 0.411106851153 2.64918482068 -1.06611664758\n",
      "0.977145761883 0.411106851153 2.65071880147 -1.06611664758\n",
      "0.975611781095 0.411106851153 2.65071880147 -1.06765062837\n",
      "0.975611781095 0.411106851153 2.65071880147 -1.06611664758\n",
      "0.975611781095 0.411106851153 2.65071880147 -1.06765062837\n",
      "0.975611781095 0.411106851153 2.65071880147 -1.06765062837\n"
     ]
    }
   ],
   "source": [
    "from roboy_communication_middleware.msg import JointStatus\n",
    "from roboy_communication_middleware.msg import JointCommand\n",
    "from visualization_msgs.msg import Marker\n",
    "from geometry_msgs.msg import Point as geometry_msgsPoint\n",
    "from geometry_msgs.msg import Pose\n",
    "rospy.init_node('PaBiRoboy_dynamics', anonymous=True)\n",
    "\n",
    "class PaBiRoboy_DanceController:\n",
    "    jointCommand_pub = rospy.Publisher('/roboy/middleware/JointCommand', JointCommand, queue_size=1)\n",
    "    visualization_pub = rospy.Publisher('/visualization_marker', Marker, queue_size=1)\n",
    "    msg_viz = Marker()\n",
    "    hipCenter = Pose()\n",
    "    def __init__(self):\n",
    "        self.msg_viz.header.frame_id = \"world\"\n",
    "        self.msg_viz.type = Marker.ARROW\n",
    "        self.msg_viz.scale.x = 0.005\n",
    "        self.msg_viz.scale.y = 0.05\n",
    "        self.msg_viz.scale.z = 0.05\n",
    "        self.msg_viz.color.a = 0.5\n",
    "        self.msg_viz.color.r = 1.0\n",
    "        self.msg_viz.color.g = 0.0\n",
    "        self.msg_viz.color.b = 0.0\n",
    "        \n",
    "        self.hipCenter.position.x = 0.6\n",
    "        self.hipCenter.position.y = 0.8\n",
    "        \n",
    "        self.listener()\n",
    "    def ros_callback(self, data):\n",
    "        q1 = deg2rad(180-data.relAngles[1]/4096.0*360.0)\n",
    "        q2 = deg2rad(180-data.relAngles[0]/4096.0*360.0)\n",
    "        q3 = deg2rad(180-data.relAngles[2]/4096.0*360.0)\n",
    "        q4 = deg2rad(180-data.relAngles[3]/4096.0*360.0)\n",
    "        print (q1, q2, q3, q4)\n",
    "        values = {lower_leg_length: 0.48, upper_leg_length: 0.54, hip_length: 0.175, theta0: 0, theta1: q1 , theta2: q2, theta3: q3, theta4: q4}\n",
    "        Jpinv = J.subs(values).pinv()\n",
    "        x_mes = Matrix([self.hipCenter.position.x, self.hipCenter.position.y])\n",
    "        dq=Jpinv*( x_des + kp*(x_des - x_mes ))\n",
    "        msg = JointCommand()\n",
    "        msg.dq = dq\n",
    "        self.jointCommand_pub.publish(msg)\n",
    "        \n",
    "        self.msg_viz.header.stamp = rospy.Time.now()\n",
    "        ankle_left_pos = ankle_left_pos_equation.subs(values).to_matrix(inertial_frame)\n",
    "        knee_left_pos = knee_left_pos_equation.subs(values).to_matrix(inertial_frame)\n",
    "        hip_left_pos = hip_left_pos_equation.subs(values).to_matrix(inertial_frame)\n",
    "        hip_right_pos = hip_right_pos_equation.subs(values).to_matrix(inertial_frame)\n",
    "        knee_right_pos = knee_right_pos_equation.subs(values).to_matrix(inertial_frame)\n",
    "        ankle_right_pos = ankle_right_pos_equation.subs(values).to_matrix(inertial_frame)\n",
    "\n",
    "        self.msg_viz.id = 0\n",
    "        del self.msg_viz.points[:]\n",
    "        self.msg_viz.points.append(geometry_msgsPoint(ankle_left_pos[0],ankle_left_pos[1],ankle_left_pos[2]))\n",
    "        self.msg_viz.points.append(geometry_msgsPoint(knee_left_pos[0],knee_left_pos[1],knee_left_pos[2]))\n",
    "        self.visualization_pub.publish(self.msg_viz)\n",
    "\n",
    "        self.msg_viz.id = 1\n",
    "        del self.msg_viz.points[:]\n",
    "        self.msg_viz.points.append(geometry_msgsPoint(knee_left_pos[0],knee_left_pos[1],knee_left_pos[2]))\n",
    "        self.msg_viz.points.append(geometry_msgsPoint(hip_left_pos[0],hip_left_pos[1],hip_left_pos[2]))\n",
    "        self.visualization_pub.publish(self.msg_viz)\n",
    "\n",
    "        self.msg_viz.id = 2\n",
    "        del self.msg_viz.points[:]\n",
    "        self.msg_viz.points.append(geometry_msgsPoint(hip_left_pos[0],hip_left_pos[1],hip_left_pos[2]))\n",
    "        self.msg_viz.points.append(geometry_msgsPoint(hip_right_pos[0],hip_right_pos[1],hip_right_pos[2]))\n",
    "        self.visualization_pub.publish(self.msg_viz)\n",
    "\n",
    "        self.msg_viz.id = 3\n",
    "        del self.msg_viz.points[:]\n",
    "        self.msg_viz.points.append(geometry_msgsPoint(hip_right_pos[0],hip_right_pos[1],hip_right_pos[2]))\n",
    "        self.msg_viz.points.append(geometry_msgsPoint(knee_right_pos[0],knee_right_pos[1],knee_right_pos[2]))\n",
    "        self.visualization_pub.publish(self.msg_viz)\n",
    "\n",
    "        self.msg_viz.id = 4\n",
    "        del self.msg_viz.points[:]\n",
    "        self.msg_viz.points.append(geometry_msgsPoint(knee_right_pos[0],knee_right_pos[1],knee_right_pos[2]))\n",
    "        self.msg_viz.points.append(geometry_msgsPoint(ankle_right_pos[0],ankle_right_pos[1],ankle_right_pos[2]))\n",
    "        self.visualization_pub.publish(self.msg_viz)\n",
    "        \n",
    "    def hipCenter_callback(self, data):\n",
    "        self.hipCenter = data\n",
    "        \n",
    "    def listener(self):\n",
    "        rospy.Subscriber(\"roboy/middleware/HipCenter\", Pose, self.hipCenter_callback, queue_size=1)\n",
    "        rospy.Subscriber(\"roboy/middleware/JointStatus\", JointStatus, self.ros_callback, queue_size=1)\n",
    "        rospy.spin()\n",
    "\n",
    "\n",
    "# In[34]:\n",
    "danceController = PaBiRoboy_DanceController()"
   ]
  },
  {
   "cell_type": "markdown",
   "metadata": {},
   "source": [
    "## Kinematical Differential Equations"
   ]
  },
  {
   "cell_type": "code",
   "execution_count": null,
   "metadata": {
    "collapsed": true
   },
   "outputs": [],
   "source": [
    "omega0, omega1, omega2, omega3, omega4 = dynamicsymbols('omega0, omega1, omega2, omega3, omega4')\n",
    "kinematical_differential_equations = [omega0 - theta0.diff(),\n",
    "                                      omega1 - theta1.diff(),\n",
    "                                      omega2 - theta2.diff(),\n",
    "                                      omega3 - theta3.diff(),\n",
    "                                      omega4 - theta4.diff(),]\n",
    "\n",
    "kinematical_differential_equations"
   ]
  },
  {
   "cell_type": "markdown",
   "metadata": {},
   "source": [
    "## Angular Velocities"
   ]
  },
  {
   "cell_type": "code",
   "execution_count": null,
   "metadata": {
    "collapsed": true
   },
   "outputs": [],
   "source": [
    "lower_leg_left_frame.set_ang_vel(inertial_frame,         omega0 * inertial_frame.z)\n",
    "lower_leg_left_frame.ang_vel_in(inertial_frame)"
   ]
  },
  {
   "cell_type": "code",
   "execution_count": null,
   "metadata": {
    "collapsed": true
   },
   "outputs": [],
   "source": [
    "upper_leg_left_frame.set_ang_vel(lower_leg_left_frame,   omega1     * inertial_frame.z)\n",
    "upper_leg_left_frame.ang_vel_in(inertial_frame)"
   ]
  },
  {
   "cell_type": "code",
   "execution_count": null,
   "metadata": {
    "collapsed": true
   },
   "outputs": [],
   "source": [
    "hip_frame.set_ang_vel(upper_leg_left_frame,              omega2     * inertial_frame.z)\n",
    "hip_frame.ang_vel_in(inertial_frame)"
   ]
  },
  {
   "cell_type": "code",
   "execution_count": null,
   "metadata": {
    "collapsed": true
   },
   "outputs": [],
   "source": [
    "upper_leg_right_frame.set_ang_vel(hip_frame,             omega3     * inertial_frame.z)\n",
    "upper_leg_right_frame.ang_vel_in(inertial_frame)"
   ]
  },
  {
   "cell_type": "code",
   "execution_count": null,
   "metadata": {
    "collapsed": true
   },
   "outputs": [],
   "source": [
    "lower_leg_right_frame.set_ang_vel(upper_leg_right_frame, omega4     * inertial_frame.z)\n",
    "lower_leg_right_frame.ang_vel_in(inertial_frame)"
   ]
  },
  {
   "cell_type": "markdown",
   "metadata": {},
   "source": [
    "# Linear Velocities"
   ]
  },
  {
   "cell_type": "markdown",
   "metadata": {},
   "source": [
    "Finally, the linear velocities of the mass centers are needed. Starting at the ankle which has a velocity of 0."
   ]
  },
  {
   "cell_type": "code",
   "execution_count": null,
   "metadata": {
    "collapsed": true
   },
   "outputs": [],
   "source": [
    "ankle_left.set_vel(inertial_frame, 0)"
   ]
  },
  {
   "cell_type": "markdown",
   "metadata": {},
   "source": [
    "Working our way up the chain we can make use of the fact that the joint points are located on two rigid bodies. Any fixed point in a reference frame can be computed if the linear velocity of another point on that frame is known and the frame's angular velocity is known.\n",
    "\n",
    "$$^I\\mathbf{v}^{P_2} = ^I\\mathbf{v}^{P_1} + ^I\\omega^A \\times \\mathbf{r}^{\\frac{P_2}{P_1}}$$\n",
    "\n",
    "The `Point.v2pt_theory()` method makes it easy to do this calculation."
   ]
  },
  {
   "cell_type": "code",
   "execution_count": null,
   "metadata": {
    "collapsed": true
   },
   "outputs": [],
   "source": [
    "lower_leg_left_mass_center.v2pt_theory(ankle_left, inertial_frame, lower_leg_left_frame)\n",
    "lower_leg_left_mass_center.vel(inertial_frame)"
   ]
  },
  {
   "cell_type": "code",
   "execution_count": null,
   "metadata": {
    "collapsed": true
   },
   "outputs": [],
   "source": [
    "knee_left.v2pt_theory(ankle_left, inertial_frame, lower_leg_left_frame)\n",
    "knee_left.vel(inertial_frame)"
   ]
  },
  {
   "cell_type": "code",
   "execution_count": null,
   "metadata": {
    "collapsed": true
   },
   "outputs": [],
   "source": [
    "upper_leg_left_mass_center.v2pt_theory(knee_left, inertial_frame, upper_leg_left_frame)\n",
    "upper_leg_left_mass_center.vel(inertial_frame)"
   ]
  },
  {
   "cell_type": "code",
   "execution_count": null,
   "metadata": {
    "collapsed": true
   },
   "outputs": [],
   "source": [
    "hip_left.v2pt_theory(knee_left, inertial_frame, upper_leg_left_frame)\n",
    "hip_left.vel(inertial_frame)"
   ]
  },
  {
   "cell_type": "code",
   "execution_count": null,
   "metadata": {
    "collapsed": true
   },
   "outputs": [],
   "source": [
    "hip_mass_center.v2pt_theory(hip_left, inertial_frame, hip_frame)\n",
    "hip_mass_center.vel(inertial_frame)"
   ]
  },
  {
   "cell_type": "code",
   "execution_count": null,
   "metadata": {
    "collapsed": true
   },
   "outputs": [],
   "source": [
    "hip_right.v2pt_theory(hip_left, inertial_frame, hip_frame)\n",
    "hip_right.vel(inertial_frame)"
   ]
  },
  {
   "cell_type": "code",
   "execution_count": null,
   "metadata": {
    "collapsed": true
   },
   "outputs": [],
   "source": [
    "knee_right.v2pt_theory(hip_right, inertial_frame, upper_leg_right_frame)\n",
    "knee_right.vel(inertial_frame)"
   ]
  },
  {
   "cell_type": "code",
   "execution_count": null,
   "metadata": {
    "collapsed": true
   },
   "outputs": [],
   "source": [
    "upper_leg_right_mass_center.v2pt_theory(knee_right, inertial_frame, upper_leg_right_frame)\n",
    "upper_leg_right_mass_center.vel(inertial_frame)"
   ]
  },
  {
   "cell_type": "code",
   "execution_count": null,
   "metadata": {
    "collapsed": true
   },
   "outputs": [],
   "source": [
    "ankle_right.v2pt_theory(knee_right, inertial_frame, lower_leg_right_frame)\n",
    "ankle_right.vel(inertial_frame)"
   ]
  },
  {
   "cell_type": "code",
   "execution_count": null,
   "metadata": {
    "collapsed": true
   },
   "outputs": [],
   "source": [
    "lower_leg_right_mass_center.v2pt_theory(knee_right, inertial_frame, lower_leg_right_frame)\n",
    "lower_leg_right_mass_center.vel(inertial_frame)"
   ]
  },
  {
   "cell_type": "markdown",
   "metadata": {},
   "source": [
    "# Masses, Inertia, Rigid Bodies"
   ]
  },
  {
   "cell_type": "code",
   "execution_count": null,
   "metadata": {
    "collapsed": true
   },
   "outputs": [],
   "source": [
    "lower_leg_mass, upper_leg_mass, hip_mass = symbols('m_L, m_U, m_H')"
   ]
  },
  {
   "cell_type": "code",
   "execution_count": null,
   "metadata": {
    "collapsed": true
   },
   "outputs": [],
   "source": [
    "lower_leg_inertia, upper_leg_inertia, hip_inertia = symbols('I_Lz, I_Uz, I_Hz')"
   ]
  },
  {
   "cell_type": "code",
   "execution_count": null,
   "metadata": {
    "collapsed": true
   },
   "outputs": [],
   "source": [
    "lower_leg_left_inertia_dyadic = inertia(lower_leg_left_frame, 0, 0, lower_leg_inertia)\n",
    "lower_leg_left_central_inertia = (lower_leg_left_inertia_dyadic, lower_leg_left_mass_center)\n",
    "lower_leg_left_inertia_dyadic.to_matrix(lower_leg_left_frame)"
   ]
  },
  {
   "cell_type": "code",
   "execution_count": null,
   "metadata": {
    "collapsed": true
   },
   "outputs": [],
   "source": [
    "upper_leg_left_inertia_dyadic = inertia(upper_leg_left_frame, 0, 0, upper_leg_inertia)\n",
    "upper_leg_left_central_inertia = (upper_leg_left_inertia_dyadic, upper_leg_left_mass_center)\n",
    "upper_leg_left_inertia_dyadic.to_matrix(upper_leg_left_frame)"
   ]
  },
  {
   "cell_type": "code",
   "execution_count": null,
   "metadata": {
    "collapsed": true
   },
   "outputs": [],
   "source": [
    "hip_inertia_dyadic = inertia(hip_frame, 0, 0, hip_inertia)\n",
    "hip_central_inertia = (hip_inertia_dyadic, hip_mass_center)\n",
    "hip_inertia_dyadic.to_matrix(hip_frame)"
   ]
  },
  {
   "cell_type": "code",
   "execution_count": null,
   "metadata": {
    "collapsed": true
   },
   "outputs": [],
   "source": [
    "upper_leg_right_inertia_dyadic = inertia(upper_leg_right_frame, 0, 0, upper_leg_inertia)\n",
    "upper_leg_right_central_inertia = (upper_leg_right_inertia_dyadic, upper_leg_right_mass_center)\n",
    "upper_leg_right_inertia_dyadic.to_matrix(upper_leg_right_frame)"
   ]
  },
  {
   "cell_type": "code",
   "execution_count": null,
   "metadata": {
    "collapsed": true
   },
   "outputs": [],
   "source": [
    "lower_leg_right_inertia_dyadic = inertia(lower_leg_right_frame, 0, 0, lower_leg_inertia)\n",
    "lower_leg_right_central_inertia = (lower_leg_right_inertia_dyadic, lower_leg_right_mass_center)\n",
    "lower_leg_right_inertia_dyadic.to_matrix(lower_leg_right_frame)"
   ]
  },
  {
   "cell_type": "code",
   "execution_count": null,
   "metadata": {
    "collapsed": true
   },
   "outputs": [],
   "source": [
    "lower_leg_left = RigidBody('Lower Leg Left', lower_leg_left_mass_center, lower_leg_left_frame,\n",
    "                      lower_leg_mass, lower_leg_left_central_inertia)"
   ]
  },
  {
   "cell_type": "code",
   "execution_count": null,
   "metadata": {
    "collapsed": true
   },
   "outputs": [],
   "source": [
    "upper_leg_left = RigidBody('Upper Leg Left', upper_leg_left_mass_center, upper_leg_left_frame,\n",
    "                      upper_leg_mass, upper_leg_left_central_inertia)"
   ]
  },
  {
   "cell_type": "code",
   "execution_count": null,
   "metadata": {
    "collapsed": true
   },
   "outputs": [],
   "source": [
    "hip = RigidBody('Hip', hip_mass_center, hip_frame, hip_mass, hip_central_inertia)"
   ]
  },
  {
   "cell_type": "code",
   "execution_count": null,
   "metadata": {
    "collapsed": true
   },
   "outputs": [],
   "source": [
    "upper_leg_right = RigidBody('Upper Leg Right', upper_leg_right_mass_center, upper_leg_right_frame,\n",
    "                      upper_leg_mass, upper_leg_right_central_inertia)"
   ]
  },
  {
   "cell_type": "code",
   "execution_count": null,
   "metadata": {
    "collapsed": true
   },
   "outputs": [],
   "source": [
    "lower_leg_right = RigidBody('Lower Leg Right', lower_leg_right_mass_center, lower_leg_right_frame,\n",
    "                      lower_leg_mass, lower_leg_right_central_inertia)"
   ]
  },
  {
   "cell_type": "markdown",
   "metadata": {},
   "source": [
    "# Forces and Torques"
   ]
  },
  {
   "cell_type": "code",
   "execution_count": null,
   "metadata": {
    "collapsed": true
   },
   "outputs": [],
   "source": [
    "g = symbols('g')"
   ]
  },
  {
   "cell_type": "code",
   "execution_count": null,
   "metadata": {
    "collapsed": true
   },
   "outputs": [],
   "source": [
    "lower_leg_left_grav_force = (lower_leg_left_mass_center, -lower_leg_mass * g * inertial_frame.y)\n",
    "upper_leg_left_grav_force = (upper_leg_left_mass_center, -upper_leg_mass * g * inertial_frame.y)\n",
    "hip_grav_force = (hip_mass_center, -hip_mass * g * inertial_frame.y)\n",
    "upper_leg_right_grav_force = (upper_leg_right_mass_center, -upper_leg_mass * g * inertial_frame.y)\n",
    "lower_leg_right_grav_force = (lower_leg_right_mass_center, -lower_leg_mass * g * inertial_frame.y)"
   ]
  },
  {
   "cell_type": "code",
   "execution_count": null,
   "metadata": {
    "collapsed": true
   },
   "outputs": [],
   "source": [
    "ankle_torque0, knee_torque0, hip_torque0, hip_torque1, knee_torque1, ankle_torque1 = dynamicsymbols('T_a0, T_k0, T_h0, T_h1, T_k1, T_a1')"
   ]
  },
  {
   "cell_type": "code",
   "execution_count": null,
   "metadata": {
    "collapsed": true
   },
   "outputs": [],
   "source": [
    "lower_leg_left_torque_vector = ankle_torque0 * inertial_frame.z - knee_torque0 * inertial_frame.z\n",
    "upper_leg_left_torque_vector = knee_torque0 * inertial_frame.z - hip_torque0 * inertial_frame.z\n",
    "hip_left_torque_vector = hip_torque0 * inertial_frame.z - hip_torque1 * inertial_frame.z\n",
    "hip_right_torque_vector = hip_torque1 * inertial_frame.z - knee_torque1 * inertial_frame.z\n",
    "upper_leg_right_torque_vector = knee_torque1 * inertial_frame.z - ankle_torque1 * inertial_frame.z\n",
    "lower_leg_right_torque_vector = ankle_torque1 * inertial_frame.z"
   ]
  },
  {
   "cell_type": "code",
   "execution_count": null,
   "metadata": {
    "collapsed": true
   },
   "outputs": [],
   "source": [
    "lower_leg_left_torque = (lower_leg_left_frame, lower_leg_left_torque_vector)\n",
    "upper_leg_left_torque = (upper_leg_left_frame, upper_leg_left_torque_vector)\n",
    "hip_left_torque = (hip_frame, hip_left_torque_vector)\n",
    "hip_right_torque = (hip_frame, hip_right_torque_vector)\n",
    "upper_leg_right_torque = (upper_leg_right_frame, upper_leg_right_torque_vector)\n",
    "lower_leg_right_torque = (lower_leg_right_frame, lower_leg_right_torque_vector)"
   ]
  },
  {
   "cell_type": "markdown",
   "metadata": {},
   "source": [
    "# Equations of Motion"
   ]
  },
  {
   "cell_type": "code",
   "execution_count": null,
   "metadata": {
    "collapsed": true
   },
   "outputs": [],
   "source": [
    "coordinates = [theta0, theta1, theta2, theta3, theta4]\n",
    "coordinates"
   ]
  },
  {
   "cell_type": "code",
   "execution_count": null,
   "metadata": {
    "collapsed": true
   },
   "outputs": [],
   "source": [
    "speeds = [omega0, omega1, omega2, omega3, omega4]\n",
    "speeds"
   ]
  },
  {
   "cell_type": "code",
   "execution_count": null,
   "metadata": {
    "collapsed": true
   },
   "outputs": [],
   "source": [
    "kinematical_differential_equations"
   ]
  },
  {
   "cell_type": "code",
   "execution_count": null,
   "metadata": {
    "collapsed": true
   },
   "outputs": [],
   "source": [
    "kane = KanesMethod(inertial_frame, coordinates, speeds, kinematical_differential_equations)"
   ]
  },
  {
   "cell_type": "code",
   "execution_count": null,
   "metadata": {
    "collapsed": true
   },
   "outputs": [],
   "source": [
    "loads = [lower_leg_left_grav_force,\n",
    "         upper_leg_left_grav_force,\n",
    "         hip_grav_force, \n",
    "         upper_leg_right_grav_force,\n",
    "         lower_leg_right_grav_force,\n",
    "         lower_leg_left_torque,\n",
    "         upper_leg_left_torque,\n",
    "         hip_left_torque,\n",
    "         hip_right_torque,\n",
    "         upper_leg_right_torque,\n",
    "         lower_leg_right_torque]\n",
    "loads"
   ]
  },
  {
   "cell_type": "code",
   "execution_count": null,
   "metadata": {
    "collapsed": true
   },
   "outputs": [],
   "source": [
    "bodies = [lower_leg_left, upper_leg_left, hip, upper_leg_right, lower_leg_right]\n",
    "bodies"
   ]
  },
  {
   "cell_type": "code",
   "execution_count": null,
   "metadata": {
    "collapsed": true
   },
   "outputs": [],
   "source": [
    "fr, frstar = kane.kanes_equations(loads, bodies)"
   ]
  },
  {
   "cell_type": "code",
   "execution_count": null,
   "metadata": {
    "collapsed": true
   },
   "outputs": [],
   "source": [
    "#trigsimp(fr + frstar)"
   ]
  },
  {
   "cell_type": "markdown",
   "metadata": {},
   "source": [
    "Keep in mind that out utlimate goal is to have the equations of motion in first order form:\n",
    "\n",
    "$$ \\dot{\\mathbf{x}} = \\mathbf{g}(\\mathbf{x}, t) $$\n",
    "\n",
    "The equations of motion are linear in terms of the derivatives of the generalized speeds and the `KanesMethod` class automatically puts the equations in a more useful form for the next step of numerical simulation:\n",
    "\n",
    "$$ \\mathbf{M}(\\mathbf{x}, t)\\dot{\\mathbf{x}} = \\mathbf{f}(\\mathbf{x}, t) $$\n",
    "\n",
    "Note that\n",
    "\n",
    "$$ \\mathbf{g} = \\mathbf{M}^{-1}(\\mathbf{x}, t) \\mathbf{f}(\\mathbf{x}, t) $$\n",
    "\n",
    "and that $\\mathbf{g}$ can be computed analytically but for non-toy problems, it is best to do this numerically. So we will simply generate the $\\mathbf{M}$ and $\\mathbf{f}$ matrices for later use.\n",
    "\n",
    "The mass matrix, $\\mathbf{M}$, can be accessed with the `mass_matrix` method (use `mass_matrix_full` to include the kinematical differential equations too. We can use `trigsimp` again to make this relatively compact: "
   ]
  },
  {
   "cell_type": "code",
   "execution_count": null,
   "metadata": {
    "collapsed": true
   },
   "outputs": [],
   "source": [
    "mass_matrix = trigsimp(kane.mass_matrix_full)\n",
    "mass_matrix"
   ]
  },
  {
   "cell_type": "markdown",
   "metadata": {},
   "source": [
    "The right hand side, $\\mathbf{f}$, is a vector function of all the non-inertial forces (gyroscopic, external, coriolis, etc):"
   ]
  },
  {
   "cell_type": "code",
   "execution_count": null,
   "metadata": {
    "collapsed": true
   },
   "outputs": [],
   "source": [
    "forcing_vector = trigsimp(kane.forcing_full)\n",
    "forcing_vector"
   ]
  },
  {
   "cell_type": "markdown",
   "metadata": {},
   "source": [
    "# Simulation"
   ]
  },
  {
   "cell_type": "code",
   "execution_count": null,
   "metadata": {
    "collapsed": true
   },
   "outputs": [],
   "source": [
    "constants = [lower_leg_length,\n",
    "             upper_leg_length,\n",
    "             hip_length,\n",
    "             \n",
    "             lower_leg_left_com_length,\n",
    "             upper_leg_left_com_length,\n",
    "             hip_com_length,\n",
    "             upper_leg_right_com_length,\n",
    "             lower_leg_right_com_length,\n",
    "             \n",
    "             lower_leg_mass,\n",
    "             upper_leg_mass,\n",
    "             hip_mass,\n",
    "             \n",
    "             lower_leg_inertia,\n",
    "             upper_leg_inertia,\n",
    "             hip_inertia,\n",
    "             \n",
    "             g]\n",
    "constants"
   ]
  },
  {
   "cell_type": "code",
   "execution_count": null,
   "metadata": {
    "collapsed": true
   },
   "outputs": [],
   "source": [
    "numerical_constants = array([0.42,  # lower_leg_length [m]\n",
    "                             0.54, # upper_leg_length [m]\n",
    "                             0.2, # hip_length\n",
    "                             \n",
    "                             0.21,  # lower_leg_com_length [m]\n",
    "                             0.27,  # upper_leg_com_length\n",
    "                             0.10,  # hip_com_length\n",
    "                             0.27,  # upper_leg_com_length\n",
    "                             0.21,  # lower_leg_com_length [m]\n",
    "                             \n",
    "                             1.0,  # lower_leg_mass [kg]\n",
    "                             1.5,  # upper_leg_mass [kg]\n",
    "                             2.0,  # hip_mass [kg]\n",
    "                             \n",
    "                             0.1,  # lower_leg_inertia [kg*m^2]                             \n",
    "                             0.2,  # upper_leg_inertia [kg*m^2]\n",
    "                             0.1,  # hip_inertia [kg*m^2]\n",
    "                             \n",
    "                             9.81],  # acceleration due to gravity [m/s^2]\n",
    "                            ) \n",
    "numerical_constants"
   ]
  },
  {
   "cell_type": "code",
   "execution_count": null,
   "metadata": {
    "collapsed": true
   },
   "outputs": [],
   "source": [
    "coordinates = [theta0, theta1, theta2, theta3, theta4]\n",
    "coordinates"
   ]
  },
  {
   "cell_type": "code",
   "execution_count": null,
   "metadata": {
    "collapsed": true
   },
   "outputs": [],
   "source": [
    "speeds = [omega0, omega1, omega2, omega3, omega4]\n",
    "speeds"
   ]
  },
  {
   "cell_type": "code",
   "execution_count": null,
   "metadata": {
    "collapsed": true
   },
   "outputs": [],
   "source": [
    "specified = [ankle_torque0, knee_torque0, hip_torque0, hip_torque1, knee_torque1, ankle_torque1]"
   ]
  },
  {
   "cell_type": "code",
   "execution_count": null,
   "metadata": {
    "collapsed": true
   },
   "outputs": [],
   "source": [
    "right_hand_side = generate_ode_function(forcing_vector, coordinates,\n",
    "                                        speeds, constants,\n",
    "                                        mass_matrix=mass_matrix,\n",
    "                                        specifieds=specified)"
   ]
  },
  {
   "cell_type": "code",
   "execution_count": null,
   "metadata": {
    "collapsed": true
   },
   "outputs": [],
   "source": [
    "x0 = zeros(10)\n",
    "x0"
   ]
  },
  {
   "cell_type": "code",
   "execution_count": null,
   "metadata": {
    "collapsed": true
   },
   "outputs": [],
   "source": [
    "x0[0] = deg2rad(60)\n",
    "x0[1] = deg2rad(-30)\n",
    "x0[2] = deg2rad(-30)\n",
    "x0[3] = deg2rad(-30)\n",
    "x0[4] = deg2rad(-30)\n",
    "x0"
   ]
  },
  {
   "cell_type": "code",
   "execution_count": null,
   "metadata": {
    "collapsed": true
   },
   "outputs": [],
   "source": [
    "numerical_specified = zeros(6)\n",
    "\n",
    "args = {'constants': numerical_constants,\n",
    "        'specified': numerical_specified}\n",
    "frames_per_sec = 60\n",
    "final_time = 5.0\n",
    "\n",
    "t = linspace(0.0, final_time, final_time * frames_per_sec)"
   ]
  },
  {
   "cell_type": "code",
   "execution_count": null,
   "metadata": {
    "collapsed": true
   },
   "outputs": [],
   "source": [
    "right_hand_side(x0, 0.0, numerical_specified, numerical_constants)"
   ]
  },
  {
   "cell_type": "code",
   "execution_count": null,
   "metadata": {
    "collapsed": true
   },
   "outputs": [],
   "source": [
    "y = odeint(right_hand_side, x0, t, args=(numerical_specified, numerical_constants))\n",
    "y.shape"
   ]
  },
  {
   "cell_type": "code",
   "execution_count": null,
   "metadata": {
    "collapsed": true
   },
   "outputs": [],
   "source": [
    "plot(t, rad2deg(y[:, :5]))\n",
    "xlabel('Time [s]')\n",
    "ylabel('Angle [deg]')\n",
    "legend([\"${}$\".format(vlatex(c)) for c in coordinates])"
   ]
  },
  {
   "cell_type": "code",
   "execution_count": null,
   "metadata": {
    "collapsed": true
   },
   "outputs": [],
   "source": [
    "plot(t, rad2deg(y[:, 5:]))\n",
    "xlabel('Time [s]')\n",
    "ylabel('Angular Rate [deg/s]')\n",
    "legend([\"${}$\".format(vlatex(s)) for s in speeds])"
   ]
  },
  {
   "cell_type": "markdown",
   "metadata": {},
   "source": [
    "# Visualization"
   ]
  },
  {
   "cell_type": "code",
   "execution_count": null,
   "metadata": {
    "collapsed": true
   },
   "outputs": [],
   "source": [
    "from visualization_msgs.msg import Marker\n",
    "from geometry_msgs.msg import Point\n",
    "visualization_pub = rospy.Publisher('/visualization_marker', Marker, queue_size=1)\n",
    "msg = Marker()\n",
    "msg.header.frame_id = \"world\"\n",
    "msg.header.stamp = rospy.Time.now()\n",
    "msg.type = Marker.ARROW\n",
    "msg.scale.x = 0.005\n",
    "msg.scale.y = 0.05\n",
    "msg.scale.z = 0.05\n",
    "msg.color.a = 0.5\n",
    "msg.color.r = 1.0\n",
    "msg.color.g = 0.0\n",
    "msg.color.b = 0.0"
   ]
  },
  {
   "cell_type": "code",
   "execution_count": null,
   "metadata": {
    "collapsed": true
   },
   "outputs": [],
   "source": [
    "for i in range(0,int(final_time * frames_per_sec)):#\n",
    "    values = {lower_leg_length: 0.4, upper_leg_length: 0.54, hip_length: 0.2, theta0: y[i, 0], theta1: y[i, 1], theta2: y[i, 2], theta3: y[i, 3], theta4: y[i, 4]}\n",
    "    \n",
    "    ankle_left_pos = ankle_left_pos_equation.subs(values).to_matrix(inertial_frame)\n",
    "    knee_left_pos = knee_left_pos_equation.subs(values).to_matrix(inertial_frame)\n",
    "    hip_left_pos = hip_left_pos_equation.subs(values).to_matrix(inertial_frame)\n",
    "    hip_right_pos = hip_right_pos_equation.subs(values).to_matrix(inertial_frame)\n",
    "    knee_right_pos = knee_right_pos_equation.subs(values).to_matrix(inertial_frame)\n",
    "    ankle_right_pos = ankle_right_pos_equation.subs(values).to_matrix(inertial_frame)\n",
    "    \n",
    "    msg.id = 0\n",
    "    del msg.points[:]\n",
    "    msg.points.append(Point(ankle_left_pos[0],ankle_left_pos[1],ankle_left_pos[2]))\n",
    "    msg.points.append(Point(knee_left_pos[0],knee_left_pos[1],knee_left_pos[2]))\n",
    "    visualization_pub.publish(msg)\n",
    "    \n",
    "    msg.id = 1\n",
    "    del msg.points[:]\n",
    "    msg.points.append(Point(knee_left_pos[0],knee_left_pos[1],knee_left_pos[2]))\n",
    "    msg.points.append(Point(hip_left_pos[0],hip_left_pos[1],hip_left_pos[2]))\n",
    "    visualization_pub.publish(msg)\n",
    "    \n",
    "    msg.id = 2\n",
    "    del msg.points[:]\n",
    "    msg.points.append(Point(hip_left_pos[0],hip_left_pos[1],hip_left_pos[2]))\n",
    "    msg.points.append(Point(hip_right_pos[0],hip_right_pos[1],hip_right_pos[2]))\n",
    "    visualization_pub.publish(msg)\n",
    "    \n",
    "    msg.id = 3\n",
    "    del msg.points[:]\n",
    "    msg.points.append(Point(hip_right_pos[0],hip_right_pos[1],hip_right_pos[2]))\n",
    "    msg.points.append(Point(knee_right_pos[0],knee_right_pos[1],knee_right_pos[2]))\n",
    "    visualization_pub.publish(msg)\n",
    "    \n",
    "    msg.id = 4\n",
    "    del msg.points[:]\n",
    "    msg.points.append(Point(knee_right_pos[0],knee_right_pos[1],knee_right_pos[2]))\n",
    "    msg.points.append(Point(ankle_right_pos[0],ankle_right_pos[1],ankle_right_pos[2]))\n",
    "    visualization_pub.publish(msg)\n",
    "    \n"
   ]
  }
 ],
 "metadata": {
  "kernelspec": {
   "display_name": "Python 2",
   "language": "python",
   "name": "python2"
  },
  "language_info": {
   "codemirror_mode": {
    "name": "ipython",
    "version": 2
   },
   "file_extension": ".py",
   "mimetype": "text/x-python",
   "name": "python",
   "nbconvert_exporter": "python",
   "pygments_lexer": "ipython2",
   "version": "2.7.12"
  }
 },
 "nbformat": 4,
 "nbformat_minor": 2
}
