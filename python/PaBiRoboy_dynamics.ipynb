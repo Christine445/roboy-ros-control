{
 "cells": [
  {
   "cell_type": "markdown",
   "metadata": {},
   "source": [
    "# PaBiRoboy dynamic equations"
   ]
  },
  {
   "cell_type": "markdown",
   "metadata": {},
   "source": [
    "First, import the necessary functions from SymPy that will allow us to construct time varying vectors in the reference frames."
   ]
  },
  {
   "cell_type": "code",
   "execution_count": 88,
   "metadata": {
    "collapsed": true
   },
   "outputs": [],
   "source": [
    "from __future__ import print_function, division\n",
    "from sympy import symbols, simplify, Matrix\n",
    "from sympy import trigsimp\n",
    "from sympy.physics.mechanics import dynamicsymbols, ReferenceFrame, Point, inertia, RigidBody, KanesMethod\n",
    "from numpy import deg2rad, rad2deg, array, zeros, linspace\n",
    "from sympy.physics.vector import init_vprinting, vlatex\n",
    "import numpy as np"
   ]
  },
  {
   "cell_type": "markdown",
   "metadata": {},
   "source": [
    "SymPy has a rich printing system. Here we initialize printing so that all of the mathematical equations are rendered in standard mathematical notation."
   ]
  },
  {
   "cell_type": "code",
   "execution_count": 2,
   "metadata": {
    "collapsed": true
   },
   "outputs": [],
   "source": [
    "from sympy.physics.vector import init_vprinting\n",
    "init_vprinting(use_latex='mathjax', pretty_print=False)"
   ]
  },
  {
   "cell_type": "markdown",
   "metadata": {},
   "source": [
    "## Interial frames"
   ]
  },
  {
   "cell_type": "code",
   "execution_count": 3,
   "metadata": {
    "collapsed": true
   },
   "outputs": [],
   "source": [
    "inertial_frame = ReferenceFrame('I')\n",
    "lower_leg_left_frame = ReferenceFrame('R_1')\n",
    "upper_leg_left_frame = ReferenceFrame('R_2')\n",
    "hip_frame = ReferenceFrame('R_3')\n",
    "upper_leg_right_frame = ReferenceFrame('R_4')\n",
    "lower_leg_right_frame = ReferenceFrame('R_5')"
   ]
  },
  {
   "cell_type": "markdown",
   "metadata": {},
   "source": [
    "## Angles"
   ]
  },
  {
   "cell_type": "code",
   "execution_count": 4,
   "metadata": {
    "collapsed": true
   },
   "outputs": [],
   "source": [
    "theta0, theta1, theta2, theta3, theta4, theta5 = dynamicsymbols('theta0, theta1, theta2, theta3, theta4, theta5')"
   ]
  },
  {
   "cell_type": "code",
   "execution_count": 5,
   "metadata": {},
   "outputs": [
    {
     "data": {
      "text/latex": [
       "$$\\left[\\begin{matrix}\\operatorname{cos}\\left(\\theta_{0}\\right) & \\operatorname{sin}\\left(\\theta_{0}\\right) & 0\\\\- \\operatorname{sin}\\left(\\theta_{0}\\right) & \\operatorname{cos}\\left(\\theta_{0}\\right) & 0\\\\0 & 0 & 1\\end{matrix}\\right]$$"
      ],
      "text/plain": [
       "Matrix([\n",
       "[ cos(theta0), sin(theta0), 0],\n",
       "[-sin(theta0), cos(theta0), 0],\n",
       "[           0,           0, 1]])"
      ]
     },
     "execution_count": 5,
     "metadata": {},
     "output_type": "execute_result"
    }
   ],
   "source": [
    "lower_leg_left_frame.orient(inertial_frame, 'Axis', (theta0, inertial_frame.z))\n",
    "lower_leg_left_frame.dcm(inertial_frame)"
   ]
  },
  {
   "cell_type": "code",
   "execution_count": 6,
   "metadata": {},
   "outputs": [
    {
     "data": {
      "text/latex": [
       "$$\\left[\\begin{matrix}\\operatorname{cos}\\left(\\theta_{0} + \\theta_{1}\\right) & \\operatorname{sin}\\left(\\theta_{0} + \\theta_{1}\\right) & 0\\\\- \\operatorname{sin}\\left(\\theta_{0} + \\theta_{1}\\right) & \\operatorname{cos}\\left(\\theta_{0} + \\theta_{1}\\right) & 0\\\\0 & 0 & 1\\end{matrix}\\right]$$"
      ],
      "text/plain": [
       "Matrix([\n",
       "[ cos(theta0 + theta1), sin(theta0 + theta1), 0],\n",
       "[-sin(theta0 + theta1), cos(theta0 + theta1), 0],\n",
       "[                    0,                    0, 1]])"
      ]
     },
     "execution_count": 6,
     "metadata": {},
     "output_type": "execute_result"
    }
   ],
   "source": [
    "upper_leg_left_frame.orient(lower_leg_left_frame, 'Axis', (theta1, lower_leg_left_frame.z))\n",
    "simplify(upper_leg_left_frame.dcm(inertial_frame))"
   ]
  },
  {
   "cell_type": "code",
   "execution_count": 7,
   "metadata": {},
   "outputs": [
    {
     "data": {
      "text/latex": [
       "$$\\left[\\begin{matrix}\\operatorname{cos}\\left(\\theta_{0} + \\theta_{1} + \\theta_{2}\\right) & \\operatorname{sin}\\left(\\theta_{0} + \\theta_{1} + \\theta_{2}\\right) & 0\\\\- \\operatorname{sin}\\left(\\theta_{0} + \\theta_{1} + \\theta_{2}\\right) & \\operatorname{cos}\\left(\\theta_{0} + \\theta_{1} + \\theta_{2}\\right) & 0\\\\0 & 0 & 1\\end{matrix}\\right]$$"
      ],
      "text/plain": [
       "Matrix([\n",
       "[ cos(theta0 + theta1 + theta2), sin(theta0 + theta1 + theta2), 0],\n",
       "[-sin(theta0 + theta1 + theta2), cos(theta0 + theta1 + theta2), 0],\n",
       "[                             0,                             0, 1]])"
      ]
     },
     "execution_count": 7,
     "metadata": {},
     "output_type": "execute_result"
    }
   ],
   "source": [
    "hip_frame.orient(upper_leg_left_frame, 'Axis', (theta2, upper_leg_left_frame.z))\n",
    "simplify(hip_frame.dcm(inertial_frame))"
   ]
  },
  {
   "cell_type": "code",
   "execution_count": 8,
   "metadata": {},
   "outputs": [
    {
     "data": {
      "text/latex": [
       "$$\\left[\\begin{matrix}\\operatorname{cos}\\left(\\theta_{0} + \\theta_{1} + \\theta_{2} + \\theta_{3}\\right) & \\operatorname{sin}\\left(\\theta_{0} + \\theta_{1} + \\theta_{2} + \\theta_{3}\\right) & 0\\\\- \\operatorname{sin}\\left(\\theta_{0} + \\theta_{1} + \\theta_{2} + \\theta_{3}\\right) & \\operatorname{cos}\\left(\\theta_{0} + \\theta_{1} + \\theta_{2} + \\theta_{3}\\right) & 0\\\\0 & 0 & 1\\end{matrix}\\right]$$"
      ],
      "text/plain": [
       "Matrix([\n",
       "[ cos(theta0 + theta1 + theta2 + theta3), sin(theta0 + theta1 + theta2 + theta3), 0],\n",
       "[-sin(theta0 + theta1 + theta2 + theta3), cos(theta0 + theta1 + theta2 + theta3), 0],\n",
       "[                                      0,                                      0, 1]])"
      ]
     },
     "execution_count": 8,
     "metadata": {},
     "output_type": "execute_result"
    }
   ],
   "source": [
    "upper_leg_right_frame.orient(hip_frame, 'Axis', (theta3, hip_frame.z))\n",
    "simplify(upper_leg_right_frame.dcm(inertial_frame))"
   ]
  },
  {
   "cell_type": "code",
   "execution_count": 9,
   "metadata": {},
   "outputs": [
    {
     "data": {
      "text/latex": [
       "$$\\left[\\begin{matrix}\\operatorname{cos}\\left(\\theta_{0} + \\theta_{1} + \\theta_{2} + \\theta_{3} + \\theta_{4}\\right) & \\operatorname{sin}\\left(\\theta_{0} + \\theta_{1} + \\theta_{2} + \\theta_{3} + \\theta_{4}\\right) & 0\\\\- \\operatorname{sin}\\left(\\theta_{0} + \\theta_{1} + \\theta_{2} + \\theta_{3} + \\theta_{4}\\right) & \\operatorname{cos}\\left(\\theta_{0} + \\theta_{1} + \\theta_{2} + \\theta_{3} + \\theta_{4}\\right) & 0\\\\0 & 0 & 1\\end{matrix}\\right]$$"
      ],
      "text/plain": [
       "Matrix([\n",
       "[ cos(theta0 + theta1 + theta2 + theta3 + theta4), sin(theta0 + theta1 + theta2 + theta3 + theta4), 0],\n",
       "[-sin(theta0 + theta1 + theta2 + theta3 + theta4), cos(theta0 + theta1 + theta2 + theta3 + theta4), 0],\n",
       "[                                               0,                                               0, 1]])"
      ]
     },
     "execution_count": 9,
     "metadata": {},
     "output_type": "execute_result"
    }
   ],
   "source": [
    "lower_leg_right_frame.orient(upper_leg_right_frame, 'Axis', (theta4, upper_leg_right_frame.z))\n",
    "simplify(lower_leg_right_frame.dcm(inertial_frame))"
   ]
  },
  {
   "cell_type": "markdown",
   "metadata": {},
   "source": [
    "## Points and Locations"
   ]
  },
  {
   "cell_type": "code",
   "execution_count": 10,
   "metadata": {
    "collapsed": true
   },
   "outputs": [],
   "source": [
    "ankle_left = Point('AnkleLeft')\n",
    "knee_left = Point('KneeLeft')\n",
    "hip_left = Point('HipLeft')\n",
    "hip_right = Point('HipRight')\n",
    "knee_right = Point('KneeRight')\n",
    "ankle_right = Point('AnkleRight')"
   ]
  },
  {
   "cell_type": "code",
   "execution_count": 11,
   "metadata": {
    "collapsed": true
   },
   "outputs": [],
   "source": [
    "lower_leg_length, upper_leg_length, hip_length = symbols('l1, l2, l3')"
   ]
  },
  {
   "cell_type": "code",
   "execution_count": 12,
   "metadata": {},
   "outputs": [
    {
     "data": {
      "text/latex": [
       "$$-  l_{1} \\operatorname{sin}\\left(\\theta_{0}\\right)\\mathbf{\\hat{i}_x} + l_{1} \\operatorname{cos}\\left(\\theta_{0}\\right)\\mathbf{\\hat{i}_y}$$"
      ],
      "text/plain": [
       "- l1*sin(theta0)*I.x + l1*cos(theta0)*I.y"
      ]
     },
     "execution_count": 12,
     "metadata": {},
     "output_type": "execute_result"
    }
   ],
   "source": [
    "knee_left.set_pos(ankle_left, lower_leg_length * lower_leg_left_frame.y)\n",
    "knee_left.pos_from(ankle_left).express(inertial_frame).simplify()"
   ]
  },
  {
   "cell_type": "code",
   "execution_count": 13,
   "metadata": {},
   "outputs": [
    {
     "data": {
      "text/latex": [
       "$$(- l_{1} \\operatorname{sin}\\left(\\theta_{0}\\right) - l_{2} \\operatorname{sin}\\left(\\theta_{0} + \\theta_{1}\\right))\\mathbf{\\hat{i}_x} + (l_{1} \\operatorname{cos}\\left(\\theta_{0}\\right) + l_{2} \\operatorname{cos}\\left(\\theta_{0} + \\theta_{1}\\right))\\mathbf{\\hat{i}_y}$$"
      ],
      "text/plain": [
       "(-l1*sin(theta0) - l2*sin(theta0 + theta1))*I.x + (l1*cos(theta0) + l2*cos(theta0 + theta1))*I.y"
      ]
     },
     "execution_count": 13,
     "metadata": {},
     "output_type": "execute_result"
    }
   ],
   "source": [
    "hip_left.set_pos(knee_left, upper_leg_length * upper_leg_left_frame.y)\n",
    "hip_left.pos_from(ankle_left).express(inertial_frame).simplify()"
   ]
  },
  {
   "cell_type": "code",
   "execution_count": 14,
   "metadata": {},
   "outputs": [
    {
     "data": {
      "text/latex": [
       "$$(- l_{1} \\operatorname{sin}\\left(\\theta_{0}\\right) - l_{2} \\operatorname{sin}\\left(\\theta_{0} + \\theta_{1}\\right) - l_{3} \\operatorname{sin}\\left(\\theta_{0} + \\theta_{1} + \\theta_{2}\\right))\\mathbf{\\hat{i}_x} + (l_{1} \\operatorname{cos}\\left(\\theta_{0}\\right) + l_{2} \\operatorname{cos}\\left(\\theta_{0} + \\theta_{1}\\right) + l_{3} \\operatorname{cos}\\left(\\theta_{0} + \\theta_{1} + \\theta_{2}\\right))\\mathbf{\\hat{i}_y}$$"
      ],
      "text/plain": [
       "(-l1*sin(theta0) - l2*sin(theta0 + theta1) - l3*sin(theta0 + theta1 + theta2))*I.x + (l1*cos(theta0) + l2*cos(theta0 + theta1) + l3*cos(theta0 + theta1 + theta2))*I.y"
      ]
     },
     "execution_count": 14,
     "metadata": {},
     "output_type": "execute_result"
    }
   ],
   "source": [
    "hip_right.set_pos(hip_left, hip_length * hip_frame.y)\n",
    "hip_right.pos_from(ankle_left).express(inertial_frame).simplify()"
   ]
  },
  {
   "cell_type": "code",
   "execution_count": 15,
   "metadata": {},
   "outputs": [
    {
     "data": {
      "text/latex": [
       "$$(- l_{1} \\operatorname{sin}\\left(\\theta_{0}\\right) - l_{2} \\operatorname{sin}\\left(\\theta_{0} + \\theta_{1}\\right) - l_{2} \\operatorname{sin}\\left(\\theta_{0} + \\theta_{1} + \\theta_{2} + \\theta_{3}\\right) - l_{3} \\operatorname{sin}\\left(\\theta_{0} + \\theta_{1} + \\theta_{2}\\right))\\mathbf{\\hat{i}_x} + (l_{1} \\operatorname{cos}\\left(\\theta_{0}\\right) + l_{2} \\operatorname{cos}\\left(\\theta_{0} + \\theta_{1}\\right) + l_{2} \\operatorname{cos}\\left(\\theta_{0} + \\theta_{1} + \\theta_{2} + \\theta_{3}\\right) + l_{3} \\operatorname{cos}\\left(\\theta_{0} + \\theta_{1} + \\theta_{2}\\right))\\mathbf{\\hat{i}_y}$$"
      ],
      "text/plain": [
       "(-l1*sin(theta0) - l2*sin(theta0 + theta1) - l2*sin(theta0 + theta1 + theta2 + theta3) - l3*sin(theta0 + theta1 + theta2))*I.x + (l1*cos(theta0) + l2*cos(theta0 + theta1) + l2*cos(theta0 + theta1 + theta2 + theta3) + l3*cos(theta0 + theta1 + theta2))*I.y"
      ]
     },
     "execution_count": 15,
     "metadata": {},
     "output_type": "execute_result"
    }
   ],
   "source": [
    "knee_right.set_pos(hip_right, upper_leg_length * upper_leg_right_frame.y)\n",
    "knee_right.pos_from(ankle_left).express(inertial_frame).simplify()"
   ]
  },
  {
   "cell_type": "code",
   "execution_count": 16,
   "metadata": {},
   "outputs": [
    {
     "data": {
      "text/latex": [
       "$$(- l_{1} \\operatorname{sin}\\left(\\theta_{0} + \\theta_{1} + \\theta_{2} + \\theta_{3} + \\theta_{4}\\right) - l_{1} \\operatorname{sin}\\left(\\theta_{0}\\right) - l_{2} \\operatorname{sin}\\left(\\theta_{0} + \\theta_{1}\\right) - l_{2} \\operatorname{sin}\\left(\\theta_{0} + \\theta_{1} + \\theta_{2} + \\theta_{3}\\right) - l_{3} \\operatorname{sin}\\left(\\theta_{0} + \\theta_{1} + \\theta_{2}\\right))\\mathbf{\\hat{i}_x} + (l_{1} \\operatorname{cos}\\left(\\theta_{0} + \\theta_{1} + \\theta_{2} + \\theta_{3} + \\theta_{4}\\right) + l_{1} \\operatorname{cos}\\left(\\theta_{0}\\right) + l_{2} \\operatorname{cos}\\left(\\theta_{0} + \\theta_{1}\\right) + l_{2} \\operatorname{cos}\\left(\\theta_{0} + \\theta_{1} + \\theta_{2} + \\theta_{3}\\right) + l_{3} \\operatorname{cos}\\left(\\theta_{0} + \\theta_{1} + \\theta_{2}\\right))\\mathbf{\\hat{i}_y}$$"
      ],
      "text/plain": [
       "(-l1*sin(theta0 + theta1 + theta2 + theta3 + theta4) - l1*sin(theta0) - l2*sin(theta0 + theta1) - l2*sin(theta0 + theta1 + theta2 + theta3) - l3*sin(theta0 + theta1 + theta2))*I.x + (l1*cos(theta0 + theta1 + theta2 + theta3 + theta4) + l1*cos(theta0) + l2*cos(theta0 + theta1) + l2*cos(theta0 + theta1 + theta2 + theta3) + l3*cos(theta0 + theta1 + theta2))*I.y"
      ]
     },
     "execution_count": 16,
     "metadata": {},
     "output_type": "execute_result"
    }
   ],
   "source": [
    "ankle_right.set_pos(knee_right, lower_leg_length * lower_leg_right_frame.y)\n",
    "ankle_right.pos_from(ankle_left).express(inertial_frame).simplify()"
   ]
  },
  {
   "cell_type": "code",
   "execution_count": 17,
   "metadata": {
    "collapsed": true
   },
   "outputs": [],
   "source": [
    "lower_leg_left_com_length = lower_leg_length/2\n",
    "upper_leg_left_com_length = upper_leg_length/2\n",
    "hip_com_length = hip_length/2\n",
    "upper_leg_right_com_length = upper_leg_length/2\n",
    "lower_leg_right_com_length = lower_leg_length/2\n",
    "\n",
    "lower_leg_left_mass_center = Point('L_COMleft')\n",
    "upper_leg_left_mass_center = Point('U_COMleft')\n",
    "hip_mass_center = Point('H_COMleft')\n",
    "upper_leg_right_mass_center = Point('U_COMright')\n",
    "lower_leg_right_mass_center = Point('L_COMright')"
   ]
  },
  {
   "cell_type": "code",
   "execution_count": 18,
   "metadata": {},
   "outputs": [
    {
     "data": {
      "text/latex": [
       "$$-  \\frac{l_{1} \\operatorname{sin}\\left(\\theta_{0}\\right)}{2}\\mathbf{\\hat{i}_x} + \\frac{l_{1} \\operatorname{cos}\\left(\\theta_{0}\\right)}{2}\\mathbf{\\hat{i}_y}$$"
      ],
      "text/plain": [
       "- l1*sin(theta0)/2*I.x + l1*cos(theta0)/2*I.y"
      ]
     },
     "execution_count": 18,
     "metadata": {},
     "output_type": "execute_result"
    }
   ],
   "source": [
    "lower_leg_left_mass_center.set_pos(ankle_left, lower_leg_left_com_length * lower_leg_left_frame.y)\n",
    "lower_leg_left_mass_center.pos_from(ankle_left).express(inertial_frame).simplify()"
   ]
  },
  {
   "cell_type": "code",
   "execution_count": 19,
   "metadata": {},
   "outputs": [
    {
     "data": {
      "text/latex": [
       "$$(- l_{1} \\operatorname{sin}\\left(\\theta_{0}\\right) - \\frac{l_{2}}{2} \\operatorname{sin}\\left(\\theta_{0} + \\theta_{1}\\right))\\mathbf{\\hat{i}_x} + (l_{1} \\operatorname{cos}\\left(\\theta_{0}\\right) + \\frac{l_{2}}{2} \\operatorname{cos}\\left(\\theta_{0} + \\theta_{1}\\right))\\mathbf{\\hat{i}_y}$$"
      ],
      "text/plain": [
       "(-l1*sin(theta0) - l2*sin(theta0 + theta1)/2)*I.x + (l1*cos(theta0) + l2*cos(theta0 + theta1)/2)*I.y"
      ]
     },
     "execution_count": 19,
     "metadata": {},
     "output_type": "execute_result"
    }
   ],
   "source": [
    "upper_leg_left_mass_center.set_pos(knee_left, upper_leg_left_com_length * upper_leg_left_frame.y)\n",
    "upper_leg_left_mass_center.pos_from(ankle_left).express(inertial_frame).simplify()"
   ]
  },
  {
   "cell_type": "code",
   "execution_count": 20,
   "metadata": {},
   "outputs": [
    {
     "data": {
      "text/latex": [
       "$$(- l_{1} \\operatorname{sin}\\left(\\theta_{0}\\right) - l_{2} \\operatorname{sin}\\left(\\theta_{0} + \\theta_{1}\\right) - \\frac{l_{3}}{2} \\operatorname{sin}\\left(\\theta_{0} + \\theta_{1} + \\theta_{2}\\right))\\mathbf{\\hat{i}_x} + (l_{1} \\operatorname{cos}\\left(\\theta_{0}\\right) + l_{2} \\operatorname{cos}\\left(\\theta_{0} + \\theta_{1}\\right) + \\frac{l_{3}}{2} \\operatorname{cos}\\left(\\theta_{0} + \\theta_{1} + \\theta_{2}\\right))\\mathbf{\\hat{i}_y}$$"
      ],
      "text/plain": [
       "(-l1*sin(theta0) - l2*sin(theta0 + theta1) - l3*sin(theta0 + theta1 + theta2)/2)*I.x + (l1*cos(theta0) + l2*cos(theta0 + theta1) + l3*cos(theta0 + theta1 + theta2)/2)*I.y"
      ]
     },
     "execution_count": 20,
     "metadata": {},
     "output_type": "execute_result"
    }
   ],
   "source": [
    "hip_mass_center.set_pos(hip_left, hip_com_length * hip_frame.y)\n",
    "hip_mass_center.pos_from(ankle_left).express(inertial_frame).simplify()"
   ]
  },
  {
   "cell_type": "code",
   "execution_count": 21,
   "metadata": {},
   "outputs": [
    {
     "data": {
      "text/latex": [
       "$$(- l_{1} \\operatorname{sin}\\left(\\theta_{0}\\right) - l_{2} \\operatorname{sin}\\left(\\theta_{0} + \\theta_{1}\\right) - \\frac{l_{2}}{2} \\operatorname{sin}\\left(\\theta_{0} + \\theta_{1} + \\theta_{2} + \\theta_{3}\\right) - l_{3} \\operatorname{sin}\\left(\\theta_{0} + \\theta_{1} + \\theta_{2}\\right))\\mathbf{\\hat{i}_x} + (l_{1} \\operatorname{cos}\\left(\\theta_{0}\\right) + l_{2} \\operatorname{cos}\\left(\\theta_{0} + \\theta_{1}\\right) + \\frac{l_{2}}{2} \\operatorname{cos}\\left(\\theta_{0} + \\theta_{1} + \\theta_{2} + \\theta_{3}\\right) + l_{3} \\operatorname{cos}\\left(\\theta_{0} + \\theta_{1} + \\theta_{2}\\right))\\mathbf{\\hat{i}_y}$$"
      ],
      "text/plain": [
       "(-l1*sin(theta0) - l2*sin(theta0 + theta1) - l2*sin(theta0 + theta1 + theta2 + theta3)/2 - l3*sin(theta0 + theta1 + theta2))*I.x + (l1*cos(theta0) + l2*cos(theta0 + theta1) + l2*cos(theta0 + theta1 + theta2 + theta3)/2 + l3*cos(theta0 + theta1 + theta2))*I.y"
      ]
     },
     "execution_count": 21,
     "metadata": {},
     "output_type": "execute_result"
    }
   ],
   "source": [
    "upper_leg_right_mass_center.set_pos(hip_right, upper_leg_right_com_length * upper_leg_right_frame.y)\n",
    "upper_leg_right_mass_center.pos_from(ankle_left).express(inertial_frame).simplify()"
   ]
  },
  {
   "cell_type": "code",
   "execution_count": 22,
   "metadata": {},
   "outputs": [
    {
     "data": {
      "text/latex": [
       "$$(- \\frac{l_{1}}{2} \\operatorname{sin}\\left(\\theta_{0} + \\theta_{1} + \\theta_{2} + \\theta_{3} + \\theta_{4}\\right) - l_{1} \\operatorname{sin}\\left(\\theta_{0}\\right) - l_{2} \\operatorname{sin}\\left(\\theta_{0} + \\theta_{1}\\right) - l_{2} \\operatorname{sin}\\left(\\theta_{0} + \\theta_{1} + \\theta_{2} + \\theta_{3}\\right) - l_{3} \\operatorname{sin}\\left(\\theta_{0} + \\theta_{1} + \\theta_{2}\\right))\\mathbf{\\hat{i}_x} + (\\frac{l_{1}}{2} \\operatorname{cos}\\left(\\theta_{0} + \\theta_{1} + \\theta_{2} + \\theta_{3} + \\theta_{4}\\right) + l_{1} \\operatorname{cos}\\left(\\theta_{0}\\right) + l_{2} \\operatorname{cos}\\left(\\theta_{0} + \\theta_{1}\\right) + l_{2} \\operatorname{cos}\\left(\\theta_{0} + \\theta_{1} + \\theta_{2} + \\theta_{3}\\right) + l_{3} \\operatorname{cos}\\left(\\theta_{0} + \\theta_{1} + \\theta_{2}\\right))\\mathbf{\\hat{i}_y}$$"
      ],
      "text/plain": [
       "(-l1*sin(theta0 + theta1 + theta2 + theta3 + theta4)/2 - l1*sin(theta0) - l2*sin(theta0 + theta1) - l2*sin(theta0 + theta1 + theta2 + theta3) - l3*sin(theta0 + theta1 + theta2))*I.x + (l1*cos(theta0 + theta1 + theta2 + theta3 + theta4)/2 + l1*cos(theta0) + l2*cos(theta0 + theta1) + l2*cos(theta0 + theta1 + theta2 + theta3) + l3*cos(theta0 + theta1 + theta2))*I.y"
      ]
     },
     "execution_count": 22,
     "metadata": {},
     "output_type": "execute_result"
    }
   ],
   "source": [
    "lower_leg_right_mass_center.set_pos(knee_right, lower_leg_right_com_length * lower_leg_right_frame.y)\n",
    "lower_leg_right_mass_center.pos_from(ankle_left).express(inertial_frame).simplify()"
   ]
  },
  {
   "cell_type": "markdown",
   "metadata": {},
   "source": [
    "## Kinematical Differential Equations"
   ]
  },
  {
   "cell_type": "code",
   "execution_count": 23,
   "metadata": {},
   "outputs": [
    {
     "data": {
      "text/latex": [
       "$$\\left [ \\omega_{0} - \\dot{\\theta}_{0}, \\quad \\omega_{1} - \\dot{\\theta}_{1}, \\quad \\omega_{2} - \\dot{\\theta}_{2}, \\quad \\omega_{3} - \\dot{\\theta}_{3}, \\quad \\omega_{4} - \\dot{\\theta}_{4}\\right ]$$"
      ],
      "text/plain": [
       "[omega0 - theta0', omega1 - theta1', omega2 - theta2', omega3 - theta3', omega4 - theta4']"
      ]
     },
     "execution_count": 23,
     "metadata": {},
     "output_type": "execute_result"
    }
   ],
   "source": [
    "omega0, omega1, omega2, omega3, omega4 = dynamicsymbols('omega0, omega1, omega2, omega3, omega4')\n",
    "kinematical_differential_equations = [omega0 - theta0.diff(),\n",
    "                                      omega1 - theta1.diff(),\n",
    "                                      omega2 - theta2.diff(),\n",
    "                                      omega3 - theta3.diff(),\n",
    "                                      omega4 - theta4.diff(),]\n",
    "\n",
    "kinematical_differential_equations"
   ]
  },
  {
   "cell_type": "markdown",
   "metadata": {},
   "source": [
    "## Angular Velocities"
   ]
  },
  {
   "cell_type": "code",
   "execution_count": 24,
   "metadata": {},
   "outputs": [
    {
     "data": {
      "text/latex": [
       "$$\\omega_{0}\\mathbf{\\hat{i}_z}$$"
      ],
      "text/plain": [
       "omega0*I.z"
      ]
     },
     "execution_count": 24,
     "metadata": {},
     "output_type": "execute_result"
    }
   ],
   "source": [
    "lower_leg_left_frame.set_ang_vel(inertial_frame,         omega0 * inertial_frame.z)\n",
    "lower_leg_left_frame.ang_vel_in(inertial_frame)"
   ]
  },
  {
   "cell_type": "code",
   "execution_count": 25,
   "metadata": {},
   "outputs": [
    {
     "data": {
      "text/latex": [
       "$$(\\omega_{0} + \\omega_{1})\\mathbf{\\hat{i}_z}$$"
      ],
      "text/plain": [
       "(omega0 + omega1)*I.z"
      ]
     },
     "execution_count": 25,
     "metadata": {},
     "output_type": "execute_result"
    }
   ],
   "source": [
    "upper_leg_left_frame.set_ang_vel(lower_leg_left_frame,   omega1     * inertial_frame.z)\n",
    "upper_leg_left_frame.ang_vel_in(inertial_frame)"
   ]
  },
  {
   "cell_type": "code",
   "execution_count": 26,
   "metadata": {},
   "outputs": [
    {
     "data": {
      "text/latex": [
       "$$(\\omega_{0} + \\omega_{1} + \\omega_{2})\\mathbf{\\hat{i}_z}$$"
      ],
      "text/plain": [
       "(omega0 + omega1 + omega2)*I.z"
      ]
     },
     "execution_count": 26,
     "metadata": {},
     "output_type": "execute_result"
    }
   ],
   "source": [
    "hip_frame.set_ang_vel(upper_leg_left_frame,              omega2     * inertial_frame.z)\n",
    "hip_frame.ang_vel_in(inertial_frame)"
   ]
  },
  {
   "cell_type": "code",
   "execution_count": 27,
   "metadata": {},
   "outputs": [
    {
     "data": {
      "text/latex": [
       "$$(\\omega_{0} + \\omega_{1} + \\omega_{2} + \\omega_{3})\\mathbf{\\hat{i}_z}$$"
      ],
      "text/plain": [
       "(omega0 + omega1 + omega2 + omega3)*I.z"
      ]
     },
     "execution_count": 27,
     "metadata": {},
     "output_type": "execute_result"
    }
   ],
   "source": [
    "upper_leg_right_frame.set_ang_vel(hip_frame,             omega3     * inertial_frame.z)\n",
    "upper_leg_right_frame.ang_vel_in(inertial_frame)"
   ]
  },
  {
   "cell_type": "code",
   "execution_count": 28,
   "metadata": {},
   "outputs": [
    {
     "data": {
      "text/latex": [
       "$$(\\omega_{0} + \\omega_{1} + \\omega_{2} + \\omega_{3} + \\omega_{4})\\mathbf{\\hat{i}_z}$$"
      ],
      "text/plain": [
       "(omega0 + omega1 + omega2 + omega3 + omega4)*I.z"
      ]
     },
     "execution_count": 28,
     "metadata": {},
     "output_type": "execute_result"
    }
   ],
   "source": [
    "lower_leg_right_frame.set_ang_vel(upper_leg_right_frame, omega4     * inertial_frame.z)\n",
    "lower_leg_right_frame.ang_vel_in(inertial_frame)"
   ]
  },
  {
   "cell_type": "markdown",
   "metadata": {},
   "source": [
    "# Linear Velocities"
   ]
  },
  {
   "cell_type": "markdown",
   "metadata": {},
   "source": [
    "Finally, the linear velocities of the mass centers are needed. Starting at the ankle which has a velocity of 0."
   ]
  },
  {
   "cell_type": "code",
   "execution_count": 29,
   "metadata": {
    "collapsed": true
   },
   "outputs": [],
   "source": [
    "ankle_left.set_vel(inertial_frame, 0)"
   ]
  },
  {
   "cell_type": "markdown",
   "metadata": {},
   "source": [
    "Working our way up the chain we can make use of the fact that the joint points are located on two rigid bodies. Any fixed point in a reference frame can be computed if the linear velocity of another point on that frame is known and the frame's angular velocity is known.\n",
    "\n",
    "$$^I\\mathbf{v}^{P_2} = ^I\\mathbf{v}^{P_1} + ^I\\omega^A \\times \\mathbf{r}^{\\frac{P_2}{P_1}}$$\n",
    "\n",
    "The `Point.v2pt_theory()` method makes it easy to do this calculation."
   ]
  },
  {
   "cell_type": "code",
   "execution_count": 30,
   "metadata": {},
   "outputs": [
    {
     "data": {
      "text/latex": [
       "$$-  \\frac{l_{1} \\omega_{0}}{2}\\mathbf{\\hat{r_1}_x}$$"
      ],
      "text/plain": [
       "- l1*omega0/2*R_1.x"
      ]
     },
     "execution_count": 30,
     "metadata": {},
     "output_type": "execute_result"
    }
   ],
   "source": [
    "lower_leg_left_mass_center.v2pt_theory(ankle_left, inertial_frame, lower_leg_left_frame)\n",
    "lower_leg_left_mass_center.vel(inertial_frame)"
   ]
  },
  {
   "cell_type": "code",
   "execution_count": 31,
   "metadata": {},
   "outputs": [
    {
     "data": {
      "text/latex": [
       "$$-  l_{1} \\omega_{0}\\mathbf{\\hat{r_1}_x}$$"
      ],
      "text/plain": [
       "- l1*omega0*R_1.x"
      ]
     },
     "execution_count": 31,
     "metadata": {},
     "output_type": "execute_result"
    }
   ],
   "source": [
    "knee_left.v2pt_theory(ankle_left, inertial_frame, lower_leg_left_frame)\n",
    "knee_left.vel(inertial_frame)"
   ]
  },
  {
   "cell_type": "code",
   "execution_count": 32,
   "metadata": {},
   "outputs": [
    {
     "data": {
      "text/latex": [
       "$$-  l_{1} \\omega_{0}\\mathbf{\\hat{r_1}_x} -  \\frac{l_{2}}{2} \\left(\\omega_{0} + \\omega_{1}\\right)\\mathbf{\\hat{r_2}_x}$$"
      ],
      "text/plain": [
       "- l1*omega0*R_1.x - l2*(omega0 + omega1)/2*R_2.x"
      ]
     },
     "execution_count": 32,
     "metadata": {},
     "output_type": "execute_result"
    }
   ],
   "source": [
    "upper_leg_left_mass_center.v2pt_theory(knee_left, inertial_frame, upper_leg_left_frame)\n",
    "upper_leg_left_mass_center.vel(inertial_frame)"
   ]
  },
  {
   "cell_type": "code",
   "execution_count": 33,
   "metadata": {},
   "outputs": [
    {
     "data": {
      "text/latex": [
       "$$-  l_{1} \\omega_{0}\\mathbf{\\hat{r_1}_x} -  l_{2} \\left(\\omega_{0} + \\omega_{1}\\right)\\mathbf{\\hat{r_2}_x}$$"
      ],
      "text/plain": [
       "- l1*omega0*R_1.x - l2*(omega0 + omega1)*R_2.x"
      ]
     },
     "execution_count": 33,
     "metadata": {},
     "output_type": "execute_result"
    }
   ],
   "source": [
    "hip_left.v2pt_theory(knee_left, inertial_frame, upper_leg_left_frame)\n",
    "hip_left.vel(inertial_frame)"
   ]
  },
  {
   "cell_type": "code",
   "execution_count": 34,
   "metadata": {},
   "outputs": [
    {
     "data": {
      "text/latex": [
       "$$-  l_{1} \\omega_{0}\\mathbf{\\hat{r_1}_x} -  l_{2} \\left(\\omega_{0} + \\omega_{1}\\right)\\mathbf{\\hat{r_2}_x} -  \\frac{l_{3}}{2} \\left(\\omega_{0} + \\omega_{1} + \\omega_{2}\\right)\\mathbf{\\hat{r_3}_x}$$"
      ],
      "text/plain": [
       "- l1*omega0*R_1.x - l2*(omega0 + omega1)*R_2.x - l3*(omega0 + omega1 + omega2)/2*R_3.x"
      ]
     },
     "execution_count": 34,
     "metadata": {},
     "output_type": "execute_result"
    }
   ],
   "source": [
    "hip_mass_center.v2pt_theory(hip_left, inertial_frame, hip_frame)\n",
    "hip_mass_center.vel(inertial_frame)"
   ]
  },
  {
   "cell_type": "code",
   "execution_count": 35,
   "metadata": {},
   "outputs": [
    {
     "data": {
      "text/latex": [
       "$$-  l_{1} \\omega_{0}\\mathbf{\\hat{r_1}_x} -  l_{2} \\left(\\omega_{0} + \\omega_{1}\\right)\\mathbf{\\hat{r_2}_x} -  l_{3} \\left(\\omega_{0} + \\omega_{1} + \\omega_{2}\\right)\\mathbf{\\hat{r_3}_x}$$"
      ],
      "text/plain": [
       "- l1*omega0*R_1.x - l2*(omega0 + omega1)*R_2.x - l3*(omega0 + omega1 + omega2)*R_3.x"
      ]
     },
     "execution_count": 35,
     "metadata": {},
     "output_type": "execute_result"
    }
   ],
   "source": [
    "hip_right.v2pt_theory(hip_left, inertial_frame, hip_frame)\n",
    "hip_right.vel(inertial_frame)"
   ]
  },
  {
   "cell_type": "code",
   "execution_count": 36,
   "metadata": {},
   "outputs": [
    {
     "data": {
      "text/latex": [
       "$$-  l_{1} \\omega_{0}\\mathbf{\\hat{r_1}_x} -  l_{2} \\left(\\omega_{0} + \\omega_{1}\\right)\\mathbf{\\hat{r_2}_x} -  l_{3} \\left(\\omega_{0} + \\omega_{1} + \\omega_{2}\\right)\\mathbf{\\hat{r_3}_x} -  l_{2} \\left(\\omega_{0} + \\omega_{1} + \\omega_{2} + \\omega_{3}\\right)\\mathbf{\\hat{r_4}_x}$$"
      ],
      "text/plain": [
       "- l1*omega0*R_1.x - l2*(omega0 + omega1)*R_2.x - l3*(omega0 + omega1 + omega2)*R_3.x - l2*(omega0 + omega1 + omega2 + omega3)*R_4.x"
      ]
     },
     "execution_count": 36,
     "metadata": {},
     "output_type": "execute_result"
    }
   ],
   "source": [
    "knee_right.v2pt_theory(hip_right, inertial_frame, upper_leg_right_frame)\n",
    "knee_right.vel(inertial_frame)"
   ]
  },
  {
   "cell_type": "code",
   "execution_count": 37,
   "metadata": {},
   "outputs": [
    {
     "data": {
      "text/latex": [
       "$$-  l_{1} \\omega_{0}\\mathbf{\\hat{r_1}_x} -  l_{2} \\left(\\omega_{0} + \\omega_{1}\\right)\\mathbf{\\hat{r_2}_x} -  l_{3} \\left(\\omega_{0} + \\omega_{1} + \\omega_{2}\\right)\\mathbf{\\hat{r_3}_x} -  \\frac{l_{2}}{2} \\left(\\omega_{0} + \\omega_{1} + \\omega_{2} + \\omega_{3}\\right)\\mathbf{\\hat{r_4}_x}$$"
      ],
      "text/plain": [
       "- l1*omega0*R_1.x - l2*(omega0 + omega1)*R_2.x - l3*(omega0 + omega1 + omega2)*R_3.x - l2*(omega0 + omega1 + omega2 + omega3)/2*R_4.x"
      ]
     },
     "execution_count": 37,
     "metadata": {},
     "output_type": "execute_result"
    }
   ],
   "source": [
    "upper_leg_right_mass_center.v2pt_theory(knee_right, inertial_frame, upper_leg_right_frame)\n",
    "upper_leg_right_mass_center.vel(inertial_frame)"
   ]
  },
  {
   "cell_type": "code",
   "execution_count": 38,
   "metadata": {},
   "outputs": [
    {
     "data": {
      "text/latex": [
       "$$-  l_{1} \\omega_{0}\\mathbf{\\hat{r_1}_x} -  l_{2} \\left(\\omega_{0} + \\omega_{1}\\right)\\mathbf{\\hat{r_2}_x} -  l_{3} \\left(\\omega_{0} + \\omega_{1} + \\omega_{2}\\right)\\mathbf{\\hat{r_3}_x} -  l_{2} \\left(\\omega_{0} + \\omega_{1} + \\omega_{2} + \\omega_{3}\\right)\\mathbf{\\hat{r_4}_x} -  l_{1} \\left(\\omega_{0} + \\omega_{1} + \\omega_{2} + \\omega_{3} + \\omega_{4}\\right)\\mathbf{\\hat{r_5}_x}$$"
      ],
      "text/plain": [
       "- l1*omega0*R_1.x - l2*(omega0 + omega1)*R_2.x - l3*(omega0 + omega1 + omega2)*R_3.x - l2*(omega0 + omega1 + omega2 + omega3)*R_4.x - l1*(omega0 + omega1 + omega2 + omega3 + omega4)*R_5.x"
      ]
     },
     "execution_count": 38,
     "metadata": {},
     "output_type": "execute_result"
    }
   ],
   "source": [
    "ankle_right.v2pt_theory(knee_right, inertial_frame, lower_leg_right_frame)\n",
    "ankle_right.vel(inertial_frame)"
   ]
  },
  {
   "cell_type": "code",
   "execution_count": 39,
   "metadata": {},
   "outputs": [
    {
     "data": {
      "text/latex": [
       "$$-  l_{1} \\omega_{0}\\mathbf{\\hat{r_1}_x} -  l_{2} \\left(\\omega_{0} + \\omega_{1}\\right)\\mathbf{\\hat{r_2}_x} -  l_{3} \\left(\\omega_{0} + \\omega_{1} + \\omega_{2}\\right)\\mathbf{\\hat{r_3}_x} -  l_{2} \\left(\\omega_{0} + \\omega_{1} + \\omega_{2} + \\omega_{3}\\right)\\mathbf{\\hat{r_4}_x} -  \\frac{l_{1}}{2} \\left(\\omega_{0} + \\omega_{1} + \\omega_{2} + \\omega_{3} + \\omega_{4}\\right)\\mathbf{\\hat{r_5}_x}$$"
      ],
      "text/plain": [
       "- l1*omega0*R_1.x - l2*(omega0 + omega1)*R_2.x - l3*(omega0 + omega1 + omega2)*R_3.x - l2*(omega0 + omega1 + omega2 + omega3)*R_4.x - l1*(omega0 + omega1 + omega2 + omega3 + omega4)/2*R_5.x"
      ]
     },
     "execution_count": 39,
     "metadata": {},
     "output_type": "execute_result"
    }
   ],
   "source": [
    "lower_leg_right_mass_center.v2pt_theory(knee_right, inertial_frame, lower_leg_right_frame)\n",
    "lower_leg_right_mass_center.vel(inertial_frame)"
   ]
  },
  {
   "cell_type": "markdown",
   "metadata": {},
   "source": [
    "# Masses, Inertia, Rigid Bodies"
   ]
  },
  {
   "cell_type": "code",
   "execution_count": 40,
   "metadata": {
    "collapsed": true
   },
   "outputs": [],
   "source": [
    "lower_leg_mass, upper_leg_mass, hip_mass = symbols('m_L, m_U, m_H')"
   ]
  },
  {
   "cell_type": "code",
   "execution_count": 41,
   "metadata": {
    "collapsed": true
   },
   "outputs": [],
   "source": [
    "lower_leg_inertia, upper_leg_inertia, hip_inertia = symbols('I_Lz, I_Uz, I_Hz')"
   ]
  },
  {
   "cell_type": "code",
   "execution_count": 42,
   "metadata": {},
   "outputs": [
    {
     "data": {
      "text/latex": [
       "$$\\left[\\begin{matrix}0 & 0 & 0\\\\0 & 0 & 0\\\\0 & 0 & I_{Lz}\\end{matrix}\\right]$$"
      ],
      "text/plain": [
       "Matrix([\n",
       "[0, 0,    0],\n",
       "[0, 0,    0],\n",
       "[0, 0, I_Lz]])"
      ]
     },
     "execution_count": 42,
     "metadata": {},
     "output_type": "execute_result"
    }
   ],
   "source": [
    "lower_leg_left_inertia_dyadic = inertia(lower_leg_left_frame, 0, 0, lower_leg_inertia)\n",
    "lower_leg_left_central_inertia = (lower_leg_left_inertia_dyadic, lower_leg_left_mass_center)\n",
    "lower_leg_left_inertia_dyadic.to_matrix(lower_leg_left_frame)"
   ]
  },
  {
   "cell_type": "code",
   "execution_count": 43,
   "metadata": {},
   "outputs": [
    {
     "data": {
      "text/latex": [
       "$$\\left[\\begin{matrix}0 & 0 & 0\\\\0 & 0 & 0\\\\0 & 0 & I_{Uz}\\end{matrix}\\right]$$"
      ],
      "text/plain": [
       "Matrix([\n",
       "[0, 0,    0],\n",
       "[0, 0,    0],\n",
       "[0, 0, I_Uz]])"
      ]
     },
     "execution_count": 43,
     "metadata": {},
     "output_type": "execute_result"
    }
   ],
   "source": [
    "upper_leg_left_inertia_dyadic = inertia(upper_leg_left_frame, 0, 0, upper_leg_inertia)\n",
    "upper_leg_left_central_inertia = (upper_leg_left_inertia_dyadic, upper_leg_left_mass_center)\n",
    "upper_leg_left_inertia_dyadic.to_matrix(upper_leg_left_frame)"
   ]
  },
  {
   "cell_type": "code",
   "execution_count": 44,
   "metadata": {},
   "outputs": [
    {
     "data": {
      "text/latex": [
       "$$\\left[\\begin{matrix}0 & 0 & 0\\\\0 & 0 & 0\\\\0 & 0 & I_{Hz}\\end{matrix}\\right]$$"
      ],
      "text/plain": [
       "Matrix([\n",
       "[0, 0,    0],\n",
       "[0, 0,    0],\n",
       "[0, 0, I_Hz]])"
      ]
     },
     "execution_count": 44,
     "metadata": {},
     "output_type": "execute_result"
    }
   ],
   "source": [
    "hip_inertia_dyadic = inertia(hip_frame, 0, 0, hip_inertia)\n",
    "hip_central_inertia = (hip_inertia_dyadic, hip_mass_center)\n",
    "hip_inertia_dyadic.to_matrix(hip_frame)"
   ]
  },
  {
   "cell_type": "code",
   "execution_count": 45,
   "metadata": {},
   "outputs": [
    {
     "data": {
      "text/latex": [
       "$$\\left[\\begin{matrix}0 & 0 & 0\\\\0 & 0 & 0\\\\0 & 0 & I_{Uz}\\end{matrix}\\right]$$"
      ],
      "text/plain": [
       "Matrix([\n",
       "[0, 0,    0],\n",
       "[0, 0,    0],\n",
       "[0, 0, I_Uz]])"
      ]
     },
     "execution_count": 45,
     "metadata": {},
     "output_type": "execute_result"
    }
   ],
   "source": [
    "upper_leg_right_inertia_dyadic = inertia(upper_leg_right_frame, 0, 0, upper_leg_inertia)\n",
    "upper_leg_right_central_inertia = (upper_leg_right_inertia_dyadic, upper_leg_right_mass_center)\n",
    "upper_leg_right_inertia_dyadic.to_matrix(upper_leg_right_frame)"
   ]
  },
  {
   "cell_type": "code",
   "execution_count": 46,
   "metadata": {},
   "outputs": [
    {
     "data": {
      "text/latex": [
       "$$\\left[\\begin{matrix}0 & 0 & 0\\\\0 & 0 & 0\\\\0 & 0 & I_{Lz}\\end{matrix}\\right]$$"
      ],
      "text/plain": [
       "Matrix([\n",
       "[0, 0,    0],\n",
       "[0, 0,    0],\n",
       "[0, 0, I_Lz]])"
      ]
     },
     "execution_count": 46,
     "metadata": {},
     "output_type": "execute_result"
    }
   ],
   "source": [
    "lower_leg_right_inertia_dyadic = inertia(lower_leg_right_frame, 0, 0, lower_leg_inertia)\n",
    "lower_leg_right_central_inertia = (lower_leg_right_inertia_dyadic, lower_leg_right_mass_center)\n",
    "lower_leg_right_inertia_dyadic.to_matrix(lower_leg_right_frame)"
   ]
  },
  {
   "cell_type": "code",
   "execution_count": 47,
   "metadata": {
    "collapsed": true
   },
   "outputs": [],
   "source": [
    "lower_leg_left = RigidBody('Lower Leg Left', lower_leg_left_mass_center, lower_leg_left_frame,\n",
    "                      lower_leg_mass, lower_leg_left_central_inertia)"
   ]
  },
  {
   "cell_type": "code",
   "execution_count": 48,
   "metadata": {
    "collapsed": true
   },
   "outputs": [],
   "source": [
    "upper_leg_left = RigidBody('Upper Leg Left', upper_leg_left_mass_center, upper_leg_left_frame,\n",
    "                      upper_leg_mass, upper_leg_left_central_inertia)"
   ]
  },
  {
   "cell_type": "code",
   "execution_count": 49,
   "metadata": {
    "collapsed": true
   },
   "outputs": [],
   "source": [
    "hip = RigidBody('Hip', hip_mass_center, hip_frame, hip_mass, hip_central_inertia)"
   ]
  },
  {
   "cell_type": "code",
   "execution_count": 50,
   "metadata": {
    "collapsed": true
   },
   "outputs": [],
   "source": [
    "upper_leg_right = RigidBody('Upper Leg Right', upper_leg_right_mass_center, upper_leg_right_frame,\n",
    "                      upper_leg_mass, upper_leg_right_central_inertia)"
   ]
  },
  {
   "cell_type": "code",
   "execution_count": 51,
   "metadata": {
    "collapsed": true
   },
   "outputs": [],
   "source": [
    "lower_leg_right = RigidBody('Lower Leg Right', lower_leg_right_mass_center, lower_leg_right_frame,\n",
    "                      lower_leg_mass, lower_leg_right_central_inertia)"
   ]
  },
  {
   "cell_type": "markdown",
   "metadata": {},
   "source": [
    "# Forces and Torques"
   ]
  },
  {
   "cell_type": "code",
   "execution_count": 52,
   "metadata": {
    "collapsed": true
   },
   "outputs": [],
   "source": [
    "g = symbols('g')"
   ]
  },
  {
   "cell_type": "code",
   "execution_count": 53,
   "metadata": {
    "collapsed": true
   },
   "outputs": [],
   "source": [
    "lower_leg_left_grav_force = (lower_leg_left_mass_center, -lower_leg_mass * g * inertial_frame.y)\n",
    "upper_leg_left_grav_force = (upper_leg_left_mass_center, -upper_leg_mass * g * inertial_frame.y)\n",
    "hip_grav_force = (hip_mass_center, -hip_mass * g * inertial_frame.y)\n",
    "upper_leg_right_grav_force = (upper_leg_right_mass_center, -upper_leg_mass * g * inertial_frame.y)\n",
    "lower_leg_right_grav_force = (lower_leg_right_mass_center, -lower_leg_mass * g * inertial_frame.y)"
   ]
  },
  {
   "cell_type": "code",
   "execution_count": 54,
   "metadata": {
    "collapsed": true
   },
   "outputs": [],
   "source": [
    "ankle_torque0, knee_torque0, hip_torque0, hip_torque1, knee_torque1, ankle_torque1 = dynamicsymbols('T_a0, T_k0, T_h0, T_h1, T_k1, T_a1')"
   ]
  },
  {
   "cell_type": "code",
   "execution_count": 55,
   "metadata": {
    "collapsed": true
   },
   "outputs": [],
   "source": [
    "lower_leg_left_torque_vector = ankle_torque0 * inertial_frame.z - knee_torque0 * inertial_frame.z\n",
    "upper_leg_left_torque_vector = knee_torque0 * inertial_frame.z - hip_torque0 * inertial_frame.z\n",
    "hip_left_torque_vector = hip_torque0 * inertial_frame.z - hip_torque1 * inertial_frame.z\n",
    "hip_right_torque_vector = hip_torque1 * inertial_frame.z - knee_torque1 * inertial_frame.z\n",
    "upper_leg_right_torque_vector = knee_torque1 * inertial_frame.z - ankle_torque1 * inertial_frame.z\n",
    "lower_leg_right_torque_vector = ankle_torque1 * inertial_frame.z"
   ]
  },
  {
   "cell_type": "code",
   "execution_count": 56,
   "metadata": {
    "collapsed": true
   },
   "outputs": [],
   "source": [
    "lower_leg_left_torque = (lower_leg_left_frame, lower_leg_left_torque_vector)\n",
    "upper_leg_left_torque = (upper_leg_left_frame, upper_leg_left_torque_vector)\n",
    "hip_left_torque = (hip_frame, hip_left_torque_vector)\n",
    "hip_right_torque = (hip_frame, hip_right_torque_vector)\n",
    "upper_leg_right_torque = (upper_leg_right_frame, upper_leg_right_torque_vector)\n",
    "lower_leg_right_torque = (lower_leg_right_frame, lower_leg_right_torque_vector)"
   ]
  },
  {
   "cell_type": "markdown",
   "metadata": {},
   "source": [
    "# Equations of Motion"
   ]
  },
  {
   "cell_type": "code",
   "execution_count": 57,
   "metadata": {},
   "outputs": [
    {
     "data": {
      "text/latex": [
       "$$\\left [ \\theta_{0}, \\quad \\theta_{1}, \\quad \\theta_{2}, \\quad \\theta_{3}, \\quad \\theta_{4}\\right ]$$"
      ],
      "text/plain": [
       "[theta0, theta1, theta2, theta3, theta4]"
      ]
     },
     "execution_count": 57,
     "metadata": {},
     "output_type": "execute_result"
    }
   ],
   "source": [
    "coordinates = [theta0, theta1, theta2, theta3, theta4]\n",
    "coordinates"
   ]
  },
  {
   "cell_type": "code",
   "execution_count": 58,
   "metadata": {},
   "outputs": [
    {
     "data": {
      "text/latex": [
       "$$\\left [ \\omega_{0}, \\quad \\omega_{1}, \\quad \\omega_{2}, \\quad \\omega_{3}, \\quad \\omega_{4}\\right ]$$"
      ],
      "text/plain": [
       "[omega0, omega1, omega2, omega3, omega4]"
      ]
     },
     "execution_count": 58,
     "metadata": {},
     "output_type": "execute_result"
    }
   ],
   "source": [
    "speeds = [omega0, omega1, omega2, omega3, omega4]\n",
    "speeds"
   ]
  },
  {
   "cell_type": "code",
   "execution_count": 59,
   "metadata": {},
   "outputs": [
    {
     "data": {
      "text/latex": [
       "$$\\left [ \\omega_{0} - \\dot{\\theta}_{0}, \\quad \\omega_{1} - \\dot{\\theta}_{1}, \\quad \\omega_{2} - \\dot{\\theta}_{2}, \\quad \\omega_{3} - \\dot{\\theta}_{3}, \\quad \\omega_{4} - \\dot{\\theta}_{4}\\right ]$$"
      ],
      "text/plain": [
       "[omega0 - theta0', omega1 - theta1', omega2 - theta2', omega3 - theta3', omega4 - theta4']"
      ]
     },
     "execution_count": 59,
     "metadata": {},
     "output_type": "execute_result"
    }
   ],
   "source": [
    "kinematical_differential_equations"
   ]
  },
  {
   "cell_type": "code",
   "execution_count": 60,
   "metadata": {
    "collapsed": true
   },
   "outputs": [],
   "source": [
    "kane = KanesMethod(inertial_frame, coordinates, speeds, kinematical_differential_equations)"
   ]
  },
  {
   "cell_type": "code",
   "execution_count": 61,
   "metadata": {},
   "outputs": [
    {
     "data": {
      "text/plain": [
       "[(L_COMleft, - g*m_L*I.y),\n",
       " (U_COMleft, - g*m_U*I.y),\n",
       " (H_COMleft, - g*m_H*I.y),\n",
       " (U_COMright, - g*m_U*I.y),\n",
       " (L_COMright, - g*m_L*I.y),\n",
       " (R_1, (T_a0 - T_k0)*I.z),\n",
       " (R_2, (-T_h0 + T_k0)*I.z),\n",
       " (R_3, (T_h0 - T_h1)*I.z),\n",
       " (R_3, (T_h1 - T_k1)*I.z),\n",
       " (R_4, (-T_a1 + T_k1)*I.z),\n",
       " (R_5, T_a1*I.z)]"
      ]
     },
     "execution_count": 61,
     "metadata": {},
     "output_type": "execute_result"
    }
   ],
   "source": [
    "loads = [lower_leg_left_grav_force,\n",
    "         upper_leg_left_grav_force,\n",
    "         hip_grav_force, \n",
    "         upper_leg_right_grav_force,\n",
    "         lower_leg_right_grav_force,\n",
    "         lower_leg_left_torque,\n",
    "         upper_leg_left_torque,\n",
    "         hip_left_torque,\n",
    "         hip_right_torque,\n",
    "         upper_leg_right_torque,\n",
    "         lower_leg_right_torque]\n",
    "loads"
   ]
  },
  {
   "cell_type": "code",
   "execution_count": 62,
   "metadata": {},
   "outputs": [
    {
     "data": {
      "text/plain": [
       "[Lower Leg Left, Upper Leg Left, Hip, Upper Leg Right, Lower Leg Right]"
      ]
     },
     "execution_count": 62,
     "metadata": {},
     "output_type": "execute_result"
    }
   ],
   "source": [
    "bodies = [lower_leg_left, upper_leg_left, hip, upper_leg_right, lower_leg_right]\n",
    "bodies"
   ]
  },
  {
   "cell_type": "code",
   "execution_count": 63,
   "metadata": {
    "collapsed": true
   },
   "outputs": [],
   "source": [
    "fr, frstar = kane.kanes_equations(loads, bodies)"
   ]
  },
  {
   "cell_type": "code",
   "execution_count": 64,
   "metadata": {
    "collapsed": true
   },
   "outputs": [],
   "source": [
    "#trigsimp(fr + frstar)"
   ]
  },
  {
   "cell_type": "markdown",
   "metadata": {},
   "source": [
    "Keep in mind that out utlimate goal is to have the equations of motion in first order form:\n",
    "\n",
    "$$ \\dot{\\mathbf{x}} = \\mathbf{g}(\\mathbf{x}, t) $$\n",
    "\n",
    "The equations of motion are linear in terms of the derivatives of the generalized speeds and the `KanesMethod` class automatically puts the equations in a more useful form for the next step of numerical simulation:\n",
    "\n",
    "$$ \\mathbf{M}(\\mathbf{x}, t)\\dot{\\mathbf{x}} = \\mathbf{f}(\\mathbf{x}, t) $$\n",
    "\n",
    "Note that\n",
    "\n",
    "$$ \\mathbf{g} = \\mathbf{M}^{-1}(\\mathbf{x}, t) \\mathbf{f}(\\mathbf{x}, t) $$\n",
    "\n",
    "and that $\\mathbf{g}$ can be computed analytically but for non-toy problems, it is best to do this numerically. So we will simply generate the $\\mathbf{M}$ and $\\mathbf{f}$ matrices for later use.\n",
    "\n",
    "The mass matrix, $\\mathbf{M}$, can be accessed with the `mass_matrix` method (use `mass_matrix_full` to include the kinematical differential equations too. We can use `trigsimp` again to make this relatively compact: "
   ]
  },
  {
   "cell_type": "code",
   "execution_count": 65,
   "metadata": {},
   "outputs": [
    {
     "data": {
      "text/latex": [
       "$$\\left[\\begin{matrix}1 & 0 & 0 & 0 & 0 & 0 & 0 & 0 & 0 & 0\\\\0 & 1 & 0 & 0 & 0 & 0 & 0 & 0 & 0 & 0\\\\0 & 0 & 1 & 0 & 0 & 0 & 0 & 0 & 0 & 0\\\\0 & 0 & 0 & 1 & 0 & 0 & 0 & 0 & 0 & 0\\\\0 & 0 & 0 & 0 & 1 & 0 & 0 & 0 & 0 & 0\\\\0 & 0 & 0 & 0 & 0 & I_{Hz} + 2 I_{Lz} + 2 I_{Uz} + \\frac{l_{1}^{2} m_{L}}{4} + m_{H} \\left(l_{1}^{2} + 2 l_{1} l_{2} \\operatorname{cos}\\left(\\theta_{1}\\right) + l_{1} l_{3} \\operatorname{cos}\\left(\\theta_{1} + \\theta_{2}\\right) + l_{2}^{2} + l_{2} l_{3} \\operatorname{cos}\\left(\\theta_{2}\\right) + \\frac{l_{3}^{2}}{4}\\right) + m_{L} \\left(l_{1}^{2} \\operatorname{cos}\\left(\\theta_{1} + \\theta_{2} + \\theta_{3} + \\theta_{4}\\right) + \\frac{5 l_{1}^{2}}{4} + 2 l_{1} l_{2} \\operatorname{cos}\\left(\\theta_{1} + \\theta_{2} + \\theta_{3}\\right) + l_{1} l_{2} \\operatorname{cos}\\left(\\theta_{2} + \\theta_{3} + \\theta_{4}\\right) + 2 l_{1} l_{2} \\operatorname{cos}\\left(\\theta_{1}\\right) + l_{1} l_{2} \\operatorname{cos}\\left(\\theta_{4}\\right) + 2 l_{1} l_{3} \\operatorname{cos}\\left(\\theta_{1} + \\theta_{2}\\right) + l_{1} l_{3} \\operatorname{cos}\\left(\\theta_{3} + \\theta_{4}\\right) + 2 l_{2}^{2} \\operatorname{cos}\\left(\\theta_{2} + \\theta_{3}\\right) + 2 l_{2}^{2} + 2 l_{2} l_{3} \\operatorname{cos}\\left(\\theta_{2}\\right) + 2 l_{2} l_{3} \\operatorname{cos}\\left(\\theta_{3}\\right) + l_{3}^{2}\\right) + m_{U} \\left(l_{1}^{2} + l_{1} l_{2} \\operatorname{cos}\\left(\\theta_{1}\\right) + \\frac{l_{2}^{2}}{4}\\right) + m_{U} \\left(l_{1}^{2} + l_{1} l_{2} \\operatorname{cos}\\left(\\theta_{1} + \\theta_{2} + \\theta_{3}\\right) + 2 l_{1} l_{2} \\operatorname{cos}\\left(\\theta_{1}\\right) + 2 l_{1} l_{3} \\operatorname{cos}\\left(\\theta_{1} + \\theta_{2}\\right) + l_{2}^{2} \\operatorname{cos}\\left(\\theta_{2} + \\theta_{3}\\right) + \\frac{5 l_{2}^{2}}{4} + 2 l_{2} l_{3} \\operatorname{cos}\\left(\\theta_{2}\\right) + l_{2} l_{3} \\operatorname{cos}\\left(\\theta_{3}\\right) + l_{3}^{2}\\right) & I_{Hz} + I_{Lz} + 2 I_{Uz} + \\frac{l_{2} m_{U}}{4} \\left(2 l_{1} \\operatorname{cos}\\left(\\theta_{1}\\right) + l_{2}\\right) + m_{H} \\left(l_{1} l_{2} \\operatorname{cos}\\left(\\theta_{1}\\right) + \\frac{l_{1} l_{3}}{2} \\operatorname{cos}\\left(\\theta_{1} + \\theta_{2}\\right) + l_{2}^{2} + l_{2} l_{3} \\operatorname{cos}\\left(\\theta_{2}\\right) + \\frac{l_{3}^{2}}{4}\\right) + m_{L} \\left(\\frac{l_{1}^{2}}{2} \\operatorname{cos}\\left(\\theta_{1} + \\theta_{2} + \\theta_{3} + \\theta_{4}\\right) + \\frac{l_{1}^{2}}{4} + l_{1} l_{2} \\operatorname{cos}\\left(\\theta_{1} + \\theta_{2} + \\theta_{3}\\right) + l_{1} l_{2} \\operatorname{cos}\\left(\\theta_{2} + \\theta_{3} + \\theta_{4}\\right) + l_{1} l_{2} \\operatorname{cos}\\left(\\theta_{1}\\right) + l_{1} l_{2} \\operatorname{cos}\\left(\\theta_{4}\\right) + l_{1} l_{3} \\operatorname{cos}\\left(\\theta_{1} + \\theta_{2}\\right) + l_{1} l_{3} \\operatorname{cos}\\left(\\theta_{3} + \\theta_{4}\\right) + 2 l_{2}^{2} \\operatorname{cos}\\left(\\theta_{2} + \\theta_{3}\\right) + 2 l_{2}^{2} + 2 l_{2} l_{3} \\operatorname{cos}\\left(\\theta_{2}\\right) + 2 l_{2} l_{3} \\operatorname{cos}\\left(\\theta_{3}\\right) + l_{3}^{2}\\right) + m_{U} \\left(\\frac{l_{1} l_{2}}{2} \\operatorname{cos}\\left(\\theta_{1} + \\theta_{2} + \\theta_{3}\\right) + l_{1} l_{2} \\operatorname{cos}\\left(\\theta_{1}\\right) + l_{1} l_{3} \\operatorname{cos}\\left(\\theta_{1} + \\theta_{2}\\right) + l_{2}^{2} \\operatorname{cos}\\left(\\theta_{2} + \\theta_{3}\\right) + \\frac{5 l_{2}^{2}}{4} + 2 l_{2} l_{3} \\operatorname{cos}\\left(\\theta_{2}\\right) + l_{2} l_{3} \\operatorname{cos}\\left(\\theta_{3}\\right) + l_{3}^{2}\\right) & I_{Hz} + I_{Lz} + I_{Uz} + \\frac{l_{3} m_{H}}{4} \\left(2 l_{1} \\operatorname{cos}\\left(\\theta_{1} + \\theta_{2}\\right) + 2 l_{2} \\operatorname{cos}\\left(\\theta_{2}\\right) + l_{3}\\right) + m_{L} \\left(\\frac{l_{1}^{2}}{2} \\operatorname{cos}\\left(\\theta_{1} + \\theta_{2} + \\theta_{3} + \\theta_{4}\\right) + \\frac{l_{1}^{2}}{4} + l_{1} l_{2} \\operatorname{cos}\\left(\\theta_{1} + \\theta_{2} + \\theta_{3}\\right) + \\frac{l_{1} l_{2}}{2} \\operatorname{cos}\\left(\\theta_{2} + \\theta_{3} + \\theta_{4}\\right) + l_{1} l_{2} \\operatorname{cos}\\left(\\theta_{4}\\right) + l_{1} l_{3} \\operatorname{cos}\\left(\\theta_{1} + \\theta_{2}\\right) + l_{1} l_{3} \\operatorname{cos}\\left(\\theta_{3} + \\theta_{4}\\right) + l_{2}^{2} \\operatorname{cos}\\left(\\theta_{2} + \\theta_{3}\\right) + l_{2}^{2} + l_{2} l_{3} \\operatorname{cos}\\left(\\theta_{2}\\right) + 2 l_{2} l_{3} \\operatorname{cos}\\left(\\theta_{3}\\right) + l_{3}^{2}\\right) + m_{U} \\left(\\frac{l_{1} l_{2}}{2} \\operatorname{cos}\\left(\\theta_{1} + \\theta_{2} + \\theta_{3}\\right) + l_{1} l_{3} \\operatorname{cos}\\left(\\theta_{1} + \\theta_{2}\\right) + \\frac{l_{2}^{2}}{2} \\operatorname{cos}\\left(\\theta_{2} + \\theta_{3}\\right) + \\frac{l_{2}^{2}}{4} + l_{2} l_{3} \\operatorname{cos}\\left(\\theta_{2}\\right) + l_{2} l_{3} \\operatorname{cos}\\left(\\theta_{3}\\right) + l_{3}^{2}\\right) & I_{Lz} + I_{Uz} + \\frac{l_{2} m_{U}}{4} \\left(2 l_{1} \\operatorname{cos}\\left(\\theta_{1} + \\theta_{2} + \\theta_{3}\\right) + 2 l_{2} \\operatorname{cos}\\left(\\theta_{2} + \\theta_{3}\\right) + l_{2} + 2 l_{3} \\operatorname{cos}\\left(\\theta_{3}\\right)\\right) + m_{L} \\left(\\frac{l_{1}^{2}}{2} \\operatorname{cos}\\left(\\theta_{1} + \\theta_{2} + \\theta_{3} + \\theta_{4}\\right) + \\frac{l_{1}^{2}}{4} + l_{1} l_{2} \\operatorname{cos}\\left(\\theta_{1} + \\theta_{2} + \\theta_{3}\\right) + \\frac{l_{1} l_{2}}{2} \\operatorname{cos}\\left(\\theta_{2} + \\theta_{3} + \\theta_{4}\\right) + l_{1} l_{2} \\operatorname{cos}\\left(\\theta_{4}\\right) + \\frac{l_{1} l_{3}}{2} \\operatorname{cos}\\left(\\theta_{3} + \\theta_{4}\\right) + l_{2}^{2} \\operatorname{cos}\\left(\\theta_{2} + \\theta_{3}\\right) + l_{2}^{2} + l_{2} l_{3} \\operatorname{cos}\\left(\\theta_{3}\\right)\\right) & I_{Lz} + m_{L} \\left(\\frac{l_{1}^{2}}{2} \\operatorname{cos}\\left(\\theta_{1} + \\theta_{2} + \\theta_{3} + \\theta_{4}\\right) + \\frac{l_{1}^{2}}{4} + \\frac{l_{1} l_{2}}{2} \\operatorname{cos}\\left(\\theta_{2} + \\theta_{3} + \\theta_{4}\\right) + \\frac{l_{1} l_{2}}{2} \\operatorname{cos}\\left(\\theta_{4}\\right) + \\frac{l_{1} l_{3}}{2} \\operatorname{cos}\\left(\\theta_{3} + \\theta_{4}\\right)\\right)\\\\0 & 0 & 0 & 0 & 0 & I_{Hz} + I_{Lz} + 2 I_{Uz} + \\frac{l_{2} m_{U}}{4} \\left(2 l_{1} \\operatorname{cos}\\left(\\theta_{1}\\right) + l_{2}\\right) + m_{H} \\left(l_{1} l_{2} \\operatorname{cos}\\left(\\theta_{1}\\right) + \\frac{l_{1} l_{3}}{2} \\operatorname{cos}\\left(\\theta_{1} + \\theta_{2}\\right) + l_{2}^{2} + l_{2} l_{3} \\operatorname{cos}\\left(\\theta_{2}\\right) + \\frac{l_{3}^{2}}{4}\\right) + m_{L} \\left(\\frac{l_{1}^{2}}{2} \\operatorname{cos}\\left(\\theta_{1} + \\theta_{2} + \\theta_{3} + \\theta_{4}\\right) + \\frac{l_{1}^{2}}{4} + l_{1} l_{2} \\operatorname{cos}\\left(\\theta_{1} + \\theta_{2} + \\theta_{3}\\right) + l_{1} l_{2} \\operatorname{cos}\\left(\\theta_{2} + \\theta_{3} + \\theta_{4}\\right) + l_{1} l_{2} \\operatorname{cos}\\left(\\theta_{1}\\right) + l_{1} l_{2} \\operatorname{cos}\\left(\\theta_{4}\\right) + l_{1} l_{3} \\operatorname{cos}\\left(\\theta_{1} + \\theta_{2}\\right) + l_{1} l_{3} \\operatorname{cos}\\left(\\theta_{3} + \\theta_{4}\\right) + 2 l_{2}^{2} \\operatorname{cos}\\left(\\theta_{2} + \\theta_{3}\\right) + 2 l_{2}^{2} + 2 l_{2} l_{3} \\operatorname{cos}\\left(\\theta_{2}\\right) + 2 l_{2} l_{3} \\operatorname{cos}\\left(\\theta_{3}\\right) + l_{3}^{2}\\right) + m_{U} \\left(\\frac{l_{1} l_{2}}{2} \\operatorname{cos}\\left(\\theta_{1} + \\theta_{2} + \\theta_{3}\\right) + l_{1} l_{2} \\operatorname{cos}\\left(\\theta_{1}\\right) + l_{1} l_{3} \\operatorname{cos}\\left(\\theta_{1} + \\theta_{2}\\right) + l_{2}^{2} \\operatorname{cos}\\left(\\theta_{2} + \\theta_{3}\\right) + \\frac{5 l_{2}^{2}}{4} + 2 l_{2} l_{3} \\operatorname{cos}\\left(\\theta_{2}\\right) + l_{2} l_{3} \\operatorname{cos}\\left(\\theta_{3}\\right) + l_{3}^{2}\\right) & I_{Hz} + I_{Lz} + 2 I_{Uz} + \\frac{l_{2}^{2} m_{U}}{4} + m_{H} \\left(l_{2}^{2} + l_{2} l_{3} \\operatorname{cos}\\left(\\theta_{2}\\right) + \\frac{l_{3}^{2}}{4}\\right) + m_{L} \\left(\\frac{l_{1}^{2}}{4} + l_{1} l_{2} \\operatorname{cos}\\left(\\theta_{2} + \\theta_{3} + \\theta_{4}\\right) + l_{1} l_{2} \\operatorname{cos}\\left(\\theta_{4}\\right) + l_{1} l_{3} \\operatorname{cos}\\left(\\theta_{3} + \\theta_{4}\\right) + 2 l_{2}^{2} \\operatorname{cos}\\left(\\theta_{2} + \\theta_{3}\\right) + 2 l_{2}^{2} + 2 l_{2} l_{3} \\operatorname{cos}\\left(\\theta_{2}\\right) + 2 l_{2} l_{3} \\operatorname{cos}\\left(\\theta_{3}\\right) + l_{3}^{2}\\right) + m_{U} \\left(l_{2}^{2} \\operatorname{cos}\\left(\\theta_{2} + \\theta_{3}\\right) + \\frac{5 l_{2}^{2}}{4} + 2 l_{2} l_{3} \\operatorname{cos}\\left(\\theta_{2}\\right) + l_{2} l_{3} \\operatorname{cos}\\left(\\theta_{3}\\right) + l_{3}^{2}\\right) & I_{Hz} + I_{Lz} + I_{Uz} + \\frac{l_{3} m_{H}}{4} \\left(2 l_{2} \\operatorname{cos}\\left(\\theta_{2}\\right) + l_{3}\\right) + m_{L} \\left(\\frac{l_{1}^{2}}{4} + \\frac{l_{1} l_{2}}{2} \\operatorname{cos}\\left(\\theta_{2} + \\theta_{3} + \\theta_{4}\\right) + l_{1} l_{2} \\operatorname{cos}\\left(\\theta_{4}\\right) + l_{1} l_{3} \\operatorname{cos}\\left(\\theta_{3} + \\theta_{4}\\right) + l_{2}^{2} \\operatorname{cos}\\left(\\theta_{2} + \\theta_{3}\\right) + l_{2}^{2} + l_{2} l_{3} \\operatorname{cos}\\left(\\theta_{2}\\right) + 2 l_{2} l_{3} \\operatorname{cos}\\left(\\theta_{3}\\right) + l_{3}^{2}\\right) + m_{U} \\left(\\frac{l_{2}^{2}}{2} \\operatorname{cos}\\left(\\theta_{2} + \\theta_{3}\\right) + \\frac{l_{2}^{2}}{4} + l_{2} l_{3} \\operatorname{cos}\\left(\\theta_{2}\\right) + l_{2} l_{3} \\operatorname{cos}\\left(\\theta_{3}\\right) + l_{3}^{2}\\right) & I_{Lz} + I_{Uz} + \\frac{l_{2} m_{U}}{4} \\left(2 l_{2} \\operatorname{cos}\\left(\\theta_{2} + \\theta_{3}\\right) + l_{2} + 2 l_{3} \\operatorname{cos}\\left(\\theta_{3}\\right)\\right) + m_{L} \\left(\\frac{l_{1}^{2}}{4} + \\frac{l_{1} l_{2}}{2} \\operatorname{cos}\\left(\\theta_{2} + \\theta_{3} + \\theta_{4}\\right) + l_{1} l_{2} \\operatorname{cos}\\left(\\theta_{4}\\right) + \\frac{l_{1} l_{3}}{2} \\operatorname{cos}\\left(\\theta_{3} + \\theta_{4}\\right) + l_{2}^{2} \\operatorname{cos}\\left(\\theta_{2} + \\theta_{3}\\right) + l_{2}^{2} + l_{2} l_{3} \\operatorname{cos}\\left(\\theta_{3}\\right)\\right) & I_{Lz} + \\frac{l_{1} m_{L}}{4} \\left(l_{1} + 2 l_{2} \\operatorname{cos}\\left(\\theta_{2} + \\theta_{3} + \\theta_{4}\\right) + 2 l_{2} \\operatorname{cos}\\left(\\theta_{4}\\right) + 2 l_{3} \\operatorname{cos}\\left(\\theta_{3} + \\theta_{4}\\right)\\right)\\\\0 & 0 & 0 & 0 & 0 & I_{Hz} + I_{Lz} + I_{Uz} + \\frac{l_{3} m_{H}}{4} \\left(2 l_{1} \\operatorname{cos}\\left(\\theta_{1} + \\theta_{2}\\right) + 2 l_{2} \\operatorname{cos}\\left(\\theta_{2}\\right) + l_{3}\\right) + m_{L} \\left(\\frac{l_{1}^{2}}{2} \\operatorname{cos}\\left(\\theta_{1} + \\theta_{2} + \\theta_{3} + \\theta_{4}\\right) + \\frac{l_{1}^{2}}{4} + l_{1} l_{2} \\operatorname{cos}\\left(\\theta_{1} + \\theta_{2} + \\theta_{3}\\right) + \\frac{l_{1} l_{2}}{2} \\operatorname{cos}\\left(\\theta_{2} + \\theta_{3} + \\theta_{4}\\right) + l_{1} l_{2} \\operatorname{cos}\\left(\\theta_{4}\\right) + l_{1} l_{3} \\operatorname{cos}\\left(\\theta_{1} + \\theta_{2}\\right) + l_{1} l_{3} \\operatorname{cos}\\left(\\theta_{3} + \\theta_{4}\\right) + l_{2}^{2} \\operatorname{cos}\\left(\\theta_{2} + \\theta_{3}\\right) + l_{2}^{2} + l_{2} l_{3} \\operatorname{cos}\\left(\\theta_{2}\\right) + 2 l_{2} l_{3} \\operatorname{cos}\\left(\\theta_{3}\\right) + l_{3}^{2}\\right) + m_{U} \\left(\\frac{l_{1} l_{2}}{2} \\operatorname{cos}\\left(\\theta_{1} + \\theta_{2} + \\theta_{3}\\right) + l_{1} l_{3} \\operatorname{cos}\\left(\\theta_{1} + \\theta_{2}\\right) + \\frac{l_{2}^{2}}{2} \\operatorname{cos}\\left(\\theta_{2} + \\theta_{3}\\right) + \\frac{l_{2}^{2}}{4} + l_{2} l_{3} \\operatorname{cos}\\left(\\theta_{2}\\right) + l_{2} l_{3} \\operatorname{cos}\\left(\\theta_{3}\\right) + l_{3}^{2}\\right) & I_{Hz} + I_{Lz} + I_{Uz} + \\frac{l_{3} m_{H}}{4} \\left(2 l_{2} \\operatorname{cos}\\left(\\theta_{2}\\right) + l_{3}\\right) + m_{L} \\left(\\frac{l_{1}^{2}}{4} + \\frac{l_{1} l_{2}}{2} \\operatorname{cos}\\left(\\theta_{2} + \\theta_{3} + \\theta_{4}\\right) + l_{1} l_{2} \\operatorname{cos}\\left(\\theta_{4}\\right) + l_{1} l_{3} \\operatorname{cos}\\left(\\theta_{3} + \\theta_{4}\\right) + l_{2}^{2} \\operatorname{cos}\\left(\\theta_{2} + \\theta_{3}\\right) + l_{2}^{2} + l_{2} l_{3} \\operatorname{cos}\\left(\\theta_{2}\\right) + 2 l_{2} l_{3} \\operatorname{cos}\\left(\\theta_{3}\\right) + l_{3}^{2}\\right) + m_{U} \\left(\\frac{l_{2}^{2}}{2} \\operatorname{cos}\\left(\\theta_{2} + \\theta_{3}\\right) + \\frac{l_{2}^{2}}{4} + l_{2} l_{3} \\operatorname{cos}\\left(\\theta_{2}\\right) + l_{2} l_{3} \\operatorname{cos}\\left(\\theta_{3}\\right) + l_{3}^{2}\\right) & I_{Hz} + I_{Lz} + I_{Uz} + \\frac{l_{3}^{2} m_{H}}{4} + m_{L} \\left(\\frac{l_{1}^{2}}{4} + l_{1} l_{2} \\operatorname{cos}\\left(\\theta_{4}\\right) + l_{1} l_{3} \\operatorname{cos}\\left(\\theta_{3} + \\theta_{4}\\right) + l_{2}^{2} + 2 l_{2} l_{3} \\operatorname{cos}\\left(\\theta_{3}\\right) + l_{3}^{2}\\right) + m_{U} \\left(\\frac{l_{2}^{2}}{4} + l_{2} l_{3} \\operatorname{cos}\\left(\\theta_{3}\\right) + l_{3}^{2}\\right) & I_{Lz} + I_{Uz} + \\frac{l_{2} m_{U}}{4} \\left(l_{2} + 2 l_{3} \\operatorname{cos}\\left(\\theta_{3}\\right)\\right) + m_{L} \\left(\\frac{l_{1}^{2}}{4} + l_{1} l_{2} \\operatorname{cos}\\left(\\theta_{4}\\right) + \\frac{l_{1} l_{3}}{2} \\operatorname{cos}\\left(\\theta_{3} + \\theta_{4}\\right) + l_{2}^{2} + l_{2} l_{3} \\operatorname{cos}\\left(\\theta_{3}\\right)\\right) & I_{Lz} + \\frac{l_{1} m_{L}}{4} \\left(l_{1} + 2 l_{2} \\operatorname{cos}\\left(\\theta_{4}\\right) + 2 l_{3} \\operatorname{cos}\\left(\\theta_{3} + \\theta_{4}\\right)\\right)\\\\0 & 0 & 0 & 0 & 0 & I_{Lz} + I_{Uz} + \\frac{l_{2} m_{U}}{4} \\left(2 l_{1} \\operatorname{cos}\\left(\\theta_{1} + \\theta_{2} + \\theta_{3}\\right) + 2 l_{2} \\operatorname{cos}\\left(\\theta_{2} + \\theta_{3}\\right) + l_{2} + 2 l_{3} \\operatorname{cos}\\left(\\theta_{3}\\right)\\right) + m_{L} \\left(\\frac{l_{1}^{2}}{2} \\operatorname{cos}\\left(\\theta_{1} + \\theta_{2} + \\theta_{3} + \\theta_{4}\\right) + \\frac{l_{1}^{2}}{4} + l_{1} l_{2} \\operatorname{cos}\\left(\\theta_{1} + \\theta_{2} + \\theta_{3}\\right) + \\frac{l_{1} l_{2}}{2} \\operatorname{cos}\\left(\\theta_{2} + \\theta_{3} + \\theta_{4}\\right) + l_{1} l_{2} \\operatorname{cos}\\left(\\theta_{4}\\right) + \\frac{l_{1} l_{3}}{2} \\operatorname{cos}\\left(\\theta_{3} + \\theta_{4}\\right) + l_{2}^{2} \\operatorname{cos}\\left(\\theta_{2} + \\theta_{3}\\right) + l_{2}^{2} + l_{2} l_{3} \\operatorname{cos}\\left(\\theta_{3}\\right)\\right) & I_{Lz} + I_{Uz} + \\frac{l_{2} m_{U}}{4} \\left(2 l_{2} \\operatorname{cos}\\left(\\theta_{2} + \\theta_{3}\\right) + l_{2} + 2 l_{3} \\operatorname{cos}\\left(\\theta_{3}\\right)\\right) + m_{L} \\left(\\frac{l_{1}^{2}}{4} + \\frac{l_{1} l_{2}}{2} \\operatorname{cos}\\left(\\theta_{2} + \\theta_{3} + \\theta_{4}\\right) + l_{1} l_{2} \\operatorname{cos}\\left(\\theta_{4}\\right) + \\frac{l_{1} l_{3}}{2} \\operatorname{cos}\\left(\\theta_{3} + \\theta_{4}\\right) + l_{2}^{2} \\operatorname{cos}\\left(\\theta_{2} + \\theta_{3}\\right) + l_{2}^{2} + l_{2} l_{3} \\operatorname{cos}\\left(\\theta_{3}\\right)\\right) & I_{Lz} + I_{Uz} + \\frac{l_{2} m_{U}}{4} \\left(l_{2} + 2 l_{3} \\operatorname{cos}\\left(\\theta_{3}\\right)\\right) + m_{L} \\left(\\frac{l_{1}^{2}}{4} + l_{1} l_{2} \\operatorname{cos}\\left(\\theta_{4}\\right) + \\frac{l_{1} l_{3}}{2} \\operatorname{cos}\\left(\\theta_{3} + \\theta_{4}\\right) + l_{2}^{2} + l_{2} l_{3} \\operatorname{cos}\\left(\\theta_{3}\\right)\\right) & I_{Lz} + I_{Uz} + \\frac{l_{2}^{2} m_{U}}{4} + m_{L} \\left(\\frac{l_{1}^{2}}{4} + l_{1} l_{2} \\operatorname{cos}\\left(\\theta_{4}\\right) + l_{2}^{2}\\right) & I_{Lz} + \\frac{l_{1} m_{L}}{4} \\left(l_{1} + 2 l_{2} \\operatorname{cos}\\left(\\theta_{4}\\right)\\right)\\\\0 & 0 & 0 & 0 & 0 & I_{Lz} + m_{L} \\left(\\frac{l_{1}^{2}}{2} \\operatorname{cos}\\left(\\theta_{1} + \\theta_{2} + \\theta_{3} + \\theta_{4}\\right) + \\frac{l_{1}^{2}}{4} + \\frac{l_{1} l_{2}}{2} \\operatorname{cos}\\left(\\theta_{2} + \\theta_{3} + \\theta_{4}\\right) + \\frac{l_{1} l_{2}}{2} \\operatorname{cos}\\left(\\theta_{4}\\right) + \\frac{l_{1} l_{3}}{2} \\operatorname{cos}\\left(\\theta_{3} + \\theta_{4}\\right)\\right) & I_{Lz} + \\frac{l_{1} m_{L}}{4} \\left(l_{1} + 2 l_{2} \\operatorname{cos}\\left(\\theta_{2} + \\theta_{3} + \\theta_{4}\\right) + 2 l_{2} \\operatorname{cos}\\left(\\theta_{4}\\right) + 2 l_{3} \\operatorname{cos}\\left(\\theta_{3} + \\theta_{4}\\right)\\right) & I_{Lz} + \\frac{l_{1} m_{L}}{4} \\left(l_{1} + 2 l_{2} \\operatorname{cos}\\left(\\theta_{4}\\right) + 2 l_{3} \\operatorname{cos}\\left(\\theta_{3} + \\theta_{4}\\right)\\right) & I_{Lz} + \\frac{l_{1} m_{L}}{4} \\left(l_{1} + 2 l_{2} \\operatorname{cos}\\left(\\theta_{4}\\right)\\right) & I_{Lz} + \\frac{l_{1}^{2} m_{L}}{4}\\end{matrix}\\right]$$"
      ],
      "text/plain": [
       "Matrix([\n",
       "[1, 0, 0, 0, 0,                                                                                                                                                                                                                                                                                                                                                                                                                                                                                                                                                                                                                                                                                                                                             0,                                                                                                                                                                                                                                                                                                                                                                                                                                                                                                                                                                                                                                                                                            0,                                                                                                                                                                                                                                                                                                                                                                                                                                                                                                                                                                         0,                                                                                                                                                                                                                                                                                                                                                                          0,                                                                                                                                                                  0],\n",
       "[0, 1, 0, 0, 0,                                                                                                                                                                                                                                                                                                                                                                                                                                                                                                                                                                                                                                                                                                                                             0,                                                                                                                                                                                                                                                                                                                                                                                                                                                                                                                                                                                                                                                                                            0,                                                                                                                                                                                                                                                                                                                                                                                                                                                                                                                                                                         0,                                                                                                                                                                                                                                                                                                                                                                          0,                                                                                                                                                                  0],\n",
       "[0, 0, 1, 0, 0,                                                                                                                                                                                                                                                                                                                                                                                                                                                                                                                                                                                                                                                                                                                                             0,                                                                                                                                                                                                                                                                                                                                                                                                                                                                                                                                                                                                                                                                                            0,                                                                                                                                                                                                                                                                                                                                                                                                                                                                                                                                                                         0,                                                                                                                                                                                                                                                                                                                                                                          0,                                                                                                                                                                  0],\n",
       "[0, 0, 0, 1, 0,                                                                                                                                                                                                                                                                                                                                                                                                                                                                                                                                                                                                                                                                                                                                             0,                                                                                                                                                                                                                                                                                                                                                                                                                                                                                                                                                                                                                                                                                            0,                                                                                                                                                                                                                                                                                                                                                                                                                                                                                                                                                                         0,                                                                                                                                                                                                                                                                                                                                                                          0,                                                                                                                                                                  0],\n",
       "[0, 0, 0, 0, 1,                                                                                                                                                                                                                                                                                                                                                                                                                                                                                                                                                                                                                                                                                                                                             0,                                                                                                                                                                                                                                                                                                                                                                                                                                                                                                                                                                                                                                                                                            0,                                                                                                                                                                                                                                                                                                                                                                                                                                                                                                                                                                         0,                                                                                                                                                                                                                                                                                                                                                                          0,                                                                                                                                                                  0],\n",
       "[0, 0, 0, 0, 0, I_Hz + 2*I_Lz + 2*I_Uz + l1**2*m_L/4 + m_H*(l1**2 + 2*l1*l2*cos(theta1) + l1*l3*cos(theta1 + theta2) + l2**2 + l2*l3*cos(theta2) + l3**2/4) + m_L*(l1**2*cos(theta1 + theta2 + theta3 + theta4) + 5*l1**2/4 + 2*l1*l2*cos(theta1 + theta2 + theta3) + l1*l2*cos(theta2 + theta3 + theta4) + 2*l1*l2*cos(theta1) + l1*l2*cos(theta4) + 2*l1*l3*cos(theta1 + theta2) + l1*l3*cos(theta3 + theta4) + 2*l2**2*cos(theta2 + theta3) + 2*l2**2 + 2*l2*l3*cos(theta2) + 2*l2*l3*cos(theta3) + l3**2) + m_U*(l1**2 + l1*l2*cos(theta1) + l2**2/4) + m_U*(l1**2 + l1*l2*cos(theta1 + theta2 + theta3) + 2*l1*l2*cos(theta1) + 2*l1*l3*cos(theta1 + theta2) + l2**2*cos(theta2 + theta3) + 5*l2**2/4 + 2*l2*l3*cos(theta2) + l2*l3*cos(theta3) + l3**2), I_Hz + I_Lz + 2*I_Uz + l2*m_U*(2*l1*cos(theta1) + l2)/4 + m_H*(l1*l2*cos(theta1) + l1*l3*cos(theta1 + theta2)/2 + l2**2 + l2*l3*cos(theta2) + l3**2/4) + m_L*(l1**2*cos(theta1 + theta2 + theta3 + theta4)/2 + l1**2/4 + l1*l2*cos(theta1 + theta2 + theta3) + l1*l2*cos(theta2 + theta3 + theta4) + l1*l2*cos(theta1) + l1*l2*cos(theta4) + l1*l3*cos(theta1 + theta2) + l1*l3*cos(theta3 + theta4) + 2*l2**2*cos(theta2 + theta3) + 2*l2**2 + 2*l2*l3*cos(theta2) + 2*l2*l3*cos(theta3) + l3**2) + m_U*(l1*l2*cos(theta1 + theta2 + theta3)/2 + l1*l2*cos(theta1) + l1*l3*cos(theta1 + theta2) + l2**2*cos(theta2 + theta3) + 5*l2**2/4 + 2*l2*l3*cos(theta2) + l2*l3*cos(theta3) + l3**2), I_Hz + I_Lz + I_Uz + l3*m_H*(2*l1*cos(theta1 + theta2) + 2*l2*cos(theta2) + l3)/4 + m_L*(l1**2*cos(theta1 + theta2 + theta3 + theta4)/2 + l1**2/4 + l1*l2*cos(theta1 + theta2 + theta3) + l1*l2*cos(theta2 + theta3 + theta4)/2 + l1*l2*cos(theta4) + l1*l3*cos(theta1 + theta2) + l1*l3*cos(theta3 + theta4) + l2**2*cos(theta2 + theta3) + l2**2 + l2*l3*cos(theta2) + 2*l2*l3*cos(theta3) + l3**2) + m_U*(l1*l2*cos(theta1 + theta2 + theta3)/2 + l1*l3*cos(theta1 + theta2) + l2**2*cos(theta2 + theta3)/2 + l2**2/4 + l2*l3*cos(theta2) + l2*l3*cos(theta3) + l3**2), I_Lz + I_Uz + l2*m_U*(2*l1*cos(theta1 + theta2 + theta3) + 2*l2*cos(theta2 + theta3) + l2 + 2*l3*cos(theta3))/4 + m_L*(l1**2*cos(theta1 + theta2 + theta3 + theta4)/2 + l1**2/4 + l1*l2*cos(theta1 + theta2 + theta3) + l1*l2*cos(theta2 + theta3 + theta4)/2 + l1*l2*cos(theta4) + l1*l3*cos(theta3 + theta4)/2 + l2**2*cos(theta2 + theta3) + l2**2 + l2*l3*cos(theta3)), I_Lz + m_L*(l1**2*cos(theta1 + theta2 + theta3 + theta4)/2 + l1**2/4 + l1*l2*cos(theta2 + theta3 + theta4)/2 + l1*l2*cos(theta4)/2 + l1*l3*cos(theta3 + theta4)/2)],\n",
       "[0, 0, 0, 0, 0,                                                  I_Hz + I_Lz + 2*I_Uz + l2*m_U*(2*l1*cos(theta1) + l2)/4 + m_H*(l1*l2*cos(theta1) + l1*l3*cos(theta1 + theta2)/2 + l2**2 + l2*l3*cos(theta2) + l3**2/4) + m_L*(l1**2*cos(theta1 + theta2 + theta3 + theta4)/2 + l1**2/4 + l1*l2*cos(theta1 + theta2 + theta3) + l1*l2*cos(theta2 + theta3 + theta4) + l1*l2*cos(theta1) + l1*l2*cos(theta4) + l1*l3*cos(theta1 + theta2) + l1*l3*cos(theta3 + theta4) + 2*l2**2*cos(theta2 + theta3) + 2*l2**2 + 2*l2*l3*cos(theta2) + 2*l2*l3*cos(theta3) + l3**2) + m_U*(l1*l2*cos(theta1 + theta2 + theta3)/2 + l1*l2*cos(theta1) + l1*l3*cos(theta1 + theta2) + l2**2*cos(theta2 + theta3) + 5*l2**2/4 + 2*l2*l3*cos(theta2) + l2*l3*cos(theta3) + l3**2),                                                                                                                                                                                                                                                                                                          I_Hz + I_Lz + 2*I_Uz + l2**2*m_U/4 + m_H*(l2**2 + l2*l3*cos(theta2) + l3**2/4) + m_L*(l1**2/4 + l1*l2*cos(theta2 + theta3 + theta4) + l1*l2*cos(theta4) + l1*l3*cos(theta3 + theta4) + 2*l2**2*cos(theta2 + theta3) + 2*l2**2 + 2*l2*l3*cos(theta2) + 2*l2*l3*cos(theta3) + l3**2) + m_U*(l2**2*cos(theta2 + theta3) + 5*l2**2/4 + 2*l2*l3*cos(theta2) + l2*l3*cos(theta3) + l3**2),                                                                                                                                                                                                                      I_Hz + I_Lz + I_Uz + l3*m_H*(2*l2*cos(theta2) + l3)/4 + m_L*(l1**2/4 + l1*l2*cos(theta2 + theta3 + theta4)/2 + l1*l2*cos(theta4) + l1*l3*cos(theta3 + theta4) + l2**2*cos(theta2 + theta3) + l2**2 + l2*l3*cos(theta2) + 2*l2*l3*cos(theta3) + l3**2) + m_U*(l2**2*cos(theta2 + theta3)/2 + l2**2/4 + l2*l3*cos(theta2) + l2*l3*cos(theta3) + l3**2),                                                                                                                             I_Lz + I_Uz + l2*m_U*(2*l2*cos(theta2 + theta3) + l2 + 2*l3*cos(theta3))/4 + m_L*(l1**2/4 + l1*l2*cos(theta2 + theta3 + theta4)/2 + l1*l2*cos(theta4) + l1*l3*cos(theta3 + theta4)/2 + l2**2*cos(theta2 + theta3) + l2**2 + l2*l3*cos(theta3)),                                                           I_Lz + l1*m_L*(l1 + 2*l2*cos(theta2 + theta3 + theta4) + 2*l2*cos(theta4) + 2*l3*cos(theta3 + theta4))/4],\n",
       "[0, 0, 0, 0, 0,                                                                                                                                                                     I_Hz + I_Lz + I_Uz + l3*m_H*(2*l1*cos(theta1 + theta2) + 2*l2*cos(theta2) + l3)/4 + m_L*(l1**2*cos(theta1 + theta2 + theta3 + theta4)/2 + l1**2/4 + l1*l2*cos(theta1 + theta2 + theta3) + l1*l2*cos(theta2 + theta3 + theta4)/2 + l1*l2*cos(theta4) + l1*l3*cos(theta1 + theta2) + l1*l3*cos(theta3 + theta4) + l2**2*cos(theta2 + theta3) + l2**2 + l2*l3*cos(theta2) + 2*l2*l3*cos(theta3) + l3**2) + m_U*(l1*l2*cos(theta1 + theta2 + theta3)/2 + l1*l3*cos(theta1 + theta2) + l2**2*cos(theta2 + theta3)/2 + l2**2/4 + l2*l3*cos(theta2) + l2*l3*cos(theta3) + l3**2),                                                                                                                                                                                                                                                                                                                                         I_Hz + I_Lz + I_Uz + l3*m_H*(2*l2*cos(theta2) + l3)/4 + m_L*(l1**2/4 + l1*l2*cos(theta2 + theta3 + theta4)/2 + l1*l2*cos(theta4) + l1*l3*cos(theta3 + theta4) + l2**2*cos(theta2 + theta3) + l2**2 + l2*l3*cos(theta2) + 2*l2*l3*cos(theta3) + l3**2) + m_U*(l2**2*cos(theta2 + theta3)/2 + l2**2/4 + l2*l3*cos(theta2) + l2*l3*cos(theta3) + l3**2),                                                                                                                                                                                                                                                                                                                                                                                       I_Hz + I_Lz + I_Uz + l3**2*m_H/4 + m_L*(l1**2/4 + l1*l2*cos(theta4) + l1*l3*cos(theta3 + theta4) + l2**2 + 2*l2*l3*cos(theta3) + l3**2) + m_U*(l2**2/4 + l2*l3*cos(theta3) + l3**2),                                                                                                                                                                                                                              I_Lz + I_Uz + l2*m_U*(l2 + 2*l3*cos(theta3))/4 + m_L*(l1**2/4 + l1*l2*cos(theta4) + l1*l3*cos(theta3 + theta4)/2 + l2**2 + l2*l3*cos(theta3)),                                                                                                I_Lz + l1*m_L*(l1 + 2*l2*cos(theta4) + 2*l3*cos(theta3 + theta4))/4],\n",
       "[0, 0, 0, 0, 0,                                                                                                                                                                                                                                                                                                                                                                    I_Lz + I_Uz + l2*m_U*(2*l1*cos(theta1 + theta2 + theta3) + 2*l2*cos(theta2 + theta3) + l2 + 2*l3*cos(theta3))/4 + m_L*(l1**2*cos(theta1 + theta2 + theta3 + theta4)/2 + l1**2/4 + l1*l2*cos(theta1 + theta2 + theta3) + l1*l2*cos(theta2 + theta3 + theta4)/2 + l1*l2*cos(theta4) + l1*l3*cos(theta3 + theta4)/2 + l2**2*cos(theta2 + theta3) + l2**2 + l2*l3*cos(theta3)),                                                                                                                                                                                                                                                                                                                                                                                                                                               I_Lz + I_Uz + l2*m_U*(2*l2*cos(theta2 + theta3) + l2 + 2*l3*cos(theta3))/4 + m_L*(l1**2/4 + l1*l2*cos(theta2 + theta3 + theta4)/2 + l1*l2*cos(theta4) + l1*l3*cos(theta3 + theta4)/2 + l2**2*cos(theta2 + theta3) + l2**2 + l2*l3*cos(theta3)),                                                                                                                                                                                                                                                                                                                                                                                                                             I_Lz + I_Uz + l2*m_U*(l2 + 2*l3*cos(theta3))/4 + m_L*(l1**2/4 + l1*l2*cos(theta4) + l1*l3*cos(theta3 + theta4)/2 + l2**2 + l2*l3*cos(theta3)),                                                                                                                                                                                                                                                                                                      I_Lz + I_Uz + l2**2*m_U/4 + m_L*(l1**2/4 + l1*l2*cos(theta4) + l2**2),                                                                                                                            I_Lz + l1*m_L*(l1 + 2*l2*cos(theta4))/4],\n",
       "[0, 0, 0, 0, 0,                                                                                                                                                                                                                                                                                                                                                                                                                                                                                                                                                                            I_Lz + m_L*(l1**2*cos(theta1 + theta2 + theta3 + theta4)/2 + l1**2/4 + l1*l2*cos(theta2 + theta3 + theta4)/2 + l1*l2*cos(theta4)/2 + l1*l3*cos(theta3 + theta4)/2),                                                                                                                                                                                                                                                                                                                                                                                                                                                                                                                                                                                     I_Lz + l1*m_L*(l1 + 2*l2*cos(theta2 + theta3 + theta4) + 2*l2*cos(theta4) + 2*l3*cos(theta3 + theta4))/4,                                                                                                                                                                                                                                                                                                                                                                                                                                                                                                       I_Lz + l1*m_L*(l1 + 2*l2*cos(theta4) + 2*l3*cos(theta3 + theta4))/4,                                                                                                                                                                                                                                                                                                                                    I_Lz + l1*m_L*(l1 + 2*l2*cos(theta4))/4,                                                                                                                                                 I_Lz + l1**2*m_L/4]])"
      ]
     },
     "execution_count": 65,
     "metadata": {},
     "output_type": "execute_result"
    }
   ],
   "source": [
    "mass_matrix = trigsimp(kane.mass_matrix_full)\n",
    "mass_matrix"
   ]
  },
  {
   "cell_type": "markdown",
   "metadata": {},
   "source": [
    "The right hand side, $\\mathbf{f}$, is a vector function of all the non-inertial forces (gyroscopic, external, coriolis, etc):"
   ]
  },
  {
   "cell_type": "code",
   "execution_count": 66,
   "metadata": {},
   "outputs": [
    {
     "data": {
      "text/latex": [
       "$$\\left[\\begin{matrix}\\omega_{0}\\\\\\omega_{1}\\\\\\omega_{2}\\\\\\omega_{3}\\\\\\omega_{4}\\\\g l_{1} m_{H} \\operatorname{sin}\\left(\\theta_{0}\\right) + \\frac{g l_{1}}{2} m_{L} \\operatorname{sin}\\left(\\theta_{0} + \\theta_{1} + \\theta_{2} + \\theta_{3} + \\theta_{4}\\right) + \\frac{3 g}{2} l_{1} m_{L} \\operatorname{sin}\\left(\\theta_{0}\\right) + 2 g l_{1} m_{U} \\operatorname{sin}\\left(\\theta_{0}\\right) + g l_{2} m_{H} \\operatorname{sin}\\left(\\theta_{0} + \\theta_{1}\\right) + g l_{2} m_{L} \\operatorname{sin}\\left(\\theta_{0} + \\theta_{1}\\right) + g l_{2} m_{L} \\operatorname{sin}\\left(\\theta_{0} + \\theta_{1} + \\theta_{2} + \\theta_{3}\\right) + \\frac{3 g}{2} l_{2} m_{U} \\operatorname{sin}\\left(\\theta_{0} + \\theta_{1}\\right) + \\frac{g l_{2}}{2} m_{U} \\operatorname{sin}\\left(\\theta_{0} + \\theta_{1} + \\theta_{2} + \\theta_{3}\\right) + \\frac{g l_{3}}{2} m_{H} \\operatorname{sin}\\left(\\theta_{0} + \\theta_{1} + \\theta_{2}\\right) + g l_{3} m_{L} \\operatorname{sin}\\left(\\theta_{0} + \\theta_{1} + \\theta_{2}\\right) + g l_{3} m_{U} \\operatorname{sin}\\left(\\theta_{0} + \\theta_{1} + \\theta_{2}\\right) + \\frac{l_{1}^{2} m_{L}}{2} \\left(\\omega_{0} + \\omega_{1} + \\omega_{2} + \\omega_{3} + \\omega_{4}\\right)^{2} \\operatorname{sin}\\left(\\theta_{1} + \\theta_{2} + \\theta_{3} + \\theta_{4}\\right) - \\frac{l_{1}^{2} m_{L}}{2} \\omega^{2}_{0} \\operatorname{sin}\\left(\\theta_{1} + \\theta_{2} + \\theta_{3} + \\theta_{4}\\right) + l_{1} l_{2} m_{H} \\left(\\omega_{0} + \\omega_{1}\\right)^{2} \\operatorname{sin}\\left(\\theta_{1}\\right) - l_{1} l_{2} m_{H} \\omega^{2}_{0} \\operatorname{sin}\\left(\\theta_{1}\\right) - \\frac{l_{1} l_{2}}{2} m_{L} \\left(\\omega_{0} + \\omega_{1}\\right)^{2} \\operatorname{sin}\\left(\\theta_{2} + \\theta_{3} + \\theta_{4}\\right) + l_{1} l_{2} m_{L} \\left(\\omega_{0} + \\omega_{1}\\right)^{2} \\operatorname{sin}\\left(\\theta_{1}\\right) + l_{1} l_{2} m_{L} \\left(\\omega_{0} + \\omega_{1} + \\omega_{2} + \\omega_{3}\\right)^{2} \\operatorname{sin}\\left(\\theta_{1} + \\theta_{2} + \\theta_{3}\\right) - \\frac{l_{1} l_{2}}{2} m_{L} \\left(\\omega_{0} + \\omega_{1} + \\omega_{2} + \\omega_{3}\\right)^{2} \\operatorname{sin}\\left(\\theta_{4}\\right) + \\frac{l_{1} l_{2}}{2} m_{L} \\left(\\omega_{0} + \\omega_{1} + \\omega_{2} + \\omega_{3} + \\omega_{4}\\right)^{2} \\operatorname{sin}\\left(\\theta_{2} + \\theta_{3} + \\theta_{4}\\right) + \\frac{l_{1} l_{2}}{2} m_{L} \\left(\\omega_{0} + \\omega_{1} + \\omega_{2} + \\omega_{3} + \\omega_{4}\\right)^{2} \\operatorname{sin}\\left(\\theta_{4}\\right) - l_{1} l_{2} m_{L} \\omega^{2}_{0} \\operatorname{sin}\\left(\\theta_{1} + \\theta_{2} + \\theta_{3}\\right) - l_{1} l_{2} m_{L} \\omega^{2}_{0} \\operatorname{sin}\\left(\\theta_{1}\\right) + \\frac{3 l_{1}}{2} l_{2} m_{U} \\left(\\omega_{0} + \\omega_{1}\\right)^{2} \\operatorname{sin}\\left(\\theta_{1}\\right) + \\frac{l_{1} l_{2}}{2} m_{U} \\left(\\omega_{0} + \\omega_{1} + \\omega_{2} + \\omega_{3}\\right)^{2} \\operatorname{sin}\\left(\\theta_{1} + \\theta_{2} + \\theta_{3}\\right) - \\frac{l_{1} l_{2}}{2} m_{U} \\omega^{2}_{0} \\operatorname{sin}\\left(\\theta_{1} + \\theta_{2} + \\theta_{3}\\right) - \\frac{3 l_{1}}{2} l_{2} m_{U} \\omega^{2}_{0} \\operatorname{sin}\\left(\\theta_{1}\\right) + \\frac{l_{1} l_{3}}{2} m_{H} \\left(\\omega_{0} + \\omega_{1} + \\omega_{2}\\right)^{2} \\operatorname{sin}\\left(\\theta_{1} + \\theta_{2}\\right) - \\frac{l_{1} l_{3}}{2} m_{H} \\omega^{2}_{0} \\operatorname{sin}\\left(\\theta_{1} + \\theta_{2}\\right) + l_{1} l_{3} m_{L} \\left(\\omega_{0} + \\omega_{1} + \\omega_{2}\\right)^{2} \\operatorname{sin}\\left(\\theta_{1} + \\theta_{2}\\right) - \\frac{l_{1} l_{3}}{2} m_{L} \\left(\\omega_{0} + \\omega_{1} + \\omega_{2}\\right)^{2} \\operatorname{sin}\\left(\\theta_{3} + \\theta_{4}\\right) + \\frac{l_{1} l_{3}}{2} m_{L} \\left(\\omega_{0} + \\omega_{1} + \\omega_{2} + \\omega_{3} + \\omega_{4}\\right)^{2} \\operatorname{sin}\\left(\\theta_{3} + \\theta_{4}\\right) - l_{1} l_{3} m_{L} \\omega^{2}_{0} \\operatorname{sin}\\left(\\theta_{1} + \\theta_{2}\\right) + l_{1} l_{3} m_{U} \\left(\\omega_{0} + \\omega_{1} + \\omega_{2}\\right)^{2} \\operatorname{sin}\\left(\\theta_{1} + \\theta_{2}\\right) - l_{1} l_{3} m_{U} \\omega^{2}_{0} \\operatorname{sin}\\left(\\theta_{1} + \\theta_{2}\\right) - l_{2}^{2} m_{L} \\left(\\omega_{0} + \\omega_{1}\\right)^{2} \\operatorname{sin}\\left(\\theta_{2} + \\theta_{3}\\right) + l_{2}^{2} m_{L} \\left(\\omega_{0} + \\omega_{1} + \\omega_{2} + \\omega_{3}\\right)^{2} \\operatorname{sin}\\left(\\theta_{2} + \\theta_{3}\\right) - \\frac{l_{2}^{2} m_{U}}{2} \\left(\\omega_{0} + \\omega_{1}\\right)^{2} \\operatorname{sin}\\left(\\theta_{2} + \\theta_{3}\\right) + \\frac{l_{2}^{2} m_{U}}{2} \\left(\\omega_{0} + \\omega_{1} + \\omega_{2} + \\omega_{3}\\right)^{2} \\operatorname{sin}\\left(\\theta_{2} + \\theta_{3}\\right) - \\frac{l_{2} l_{3}}{2} m_{H} \\left(\\omega_{0} + \\omega_{1}\\right)^{2} \\operatorname{sin}\\left(\\theta_{2}\\right) + \\frac{l_{2} l_{3}}{2} m_{H} \\left(\\omega_{0} + \\omega_{1} + \\omega_{2}\\right)^{2} \\operatorname{sin}\\left(\\theta_{2}\\right) - l_{2} l_{3} m_{L} \\left(\\omega_{0} + \\omega_{1}\\right)^{2} \\operatorname{sin}\\left(\\theta_{2}\\right) + l_{2} l_{3} m_{L} \\left(\\omega_{0} + \\omega_{1} + \\omega_{2}\\right)^{2} \\operatorname{sin}\\left(\\theta_{2}\\right) - l_{2} l_{3} m_{L} \\left(\\omega_{0} + \\omega_{1} + \\omega_{2}\\right)^{2} \\operatorname{sin}\\left(\\theta_{3}\\right) + l_{2} l_{3} m_{L} \\left(\\omega_{0} + \\omega_{1} + \\omega_{2} + \\omega_{3}\\right)^{2} \\operatorname{sin}\\left(\\theta_{3}\\right) - l_{2} l_{3} m_{U} \\left(\\omega_{0} + \\omega_{1}\\right)^{2} \\operatorname{sin}\\left(\\theta_{2}\\right) + l_{2} l_{3} m_{U} \\left(\\omega_{0} + \\omega_{1} + \\omega_{2}\\right)^{2} \\operatorname{sin}\\left(\\theta_{2}\\right) - \\frac{l_{2} l_{3}}{2} m_{U} \\left(\\omega_{0} + \\omega_{1} + \\omega_{2}\\right)^{2} \\operatorname{sin}\\left(\\theta_{3}\\right) + \\frac{l_{2} l_{3}}{2} m_{U} \\left(\\omega_{0} + \\omega_{1} + \\omega_{2} + \\omega_{3}\\right)^{2} \\operatorname{sin}\\left(\\theta_{3}\\right) + T_{a0}\\\\\\frac{g l_{1}}{2} m_{L} \\operatorname{sin}\\left(\\theta_{0} + \\theta_{1} + \\theta_{2} + \\theta_{3} + \\theta_{4}\\right) + g l_{2} m_{H} \\operatorname{sin}\\left(\\theta_{0} + \\theta_{1}\\right) + g l_{2} m_{L} \\operatorname{sin}\\left(\\theta_{0} + \\theta_{1}\\right) + g l_{2} m_{L} \\operatorname{sin}\\left(\\theta_{0} + \\theta_{1} + \\theta_{2} + \\theta_{3}\\right) + \\frac{3 g}{2} l_{2} m_{U} \\operatorname{sin}\\left(\\theta_{0} + \\theta_{1}\\right) + \\frac{g l_{2}}{2} m_{U} \\operatorname{sin}\\left(\\theta_{0} + \\theta_{1} + \\theta_{2} + \\theta_{3}\\right) + \\frac{g l_{3}}{2} m_{H} \\operatorname{sin}\\left(\\theta_{0} + \\theta_{1} + \\theta_{2}\\right) + g l_{3} m_{L} \\operatorname{sin}\\left(\\theta_{0} + \\theta_{1} + \\theta_{2}\\right) + g l_{3} m_{U} \\operatorname{sin}\\left(\\theta_{0} + \\theta_{1} + \\theta_{2}\\right) - \\frac{l_{1}^{2} m_{L}}{2} \\omega^{2}_{0} \\operatorname{sin}\\left(\\theta_{1} + \\theta_{2} + \\theta_{3} + \\theta_{4}\\right) - l_{1} l_{2} m_{H} \\omega^{2}_{0} \\operatorname{sin}\\left(\\theta_{1}\\right) - \\frac{l_{1} l_{2}}{2} m_{L} \\left(\\omega_{0} + \\omega_{1}\\right)^{2} \\operatorname{sin}\\left(\\theta_{2} + \\theta_{3} + \\theta_{4}\\right) - \\frac{l_{1} l_{2}}{2} m_{L} \\left(\\omega_{0} + \\omega_{1} + \\omega_{2} + \\omega_{3}\\right)^{2} \\operatorname{sin}\\left(\\theta_{4}\\right) + \\frac{l_{1} l_{2}}{2} m_{L} \\left(\\omega_{0} + \\omega_{1} + \\omega_{2} + \\omega_{3} + \\omega_{4}\\right)^{2} \\operatorname{sin}\\left(\\theta_{2} + \\theta_{3} + \\theta_{4}\\right) + \\frac{l_{1} l_{2}}{2} m_{L} \\left(\\omega_{0} + \\omega_{1} + \\omega_{2} + \\omega_{3} + \\omega_{4}\\right)^{2} \\operatorname{sin}\\left(\\theta_{4}\\right) - l_{1} l_{2} m_{L} \\omega^{2}_{0} \\operatorname{sin}\\left(\\theta_{1} + \\theta_{2} + \\theta_{3}\\right) - l_{1} l_{2} m_{L} \\omega^{2}_{0} \\operatorname{sin}\\left(\\theta_{1}\\right) - \\frac{l_{1} l_{2}}{2} m_{U} \\omega^{2}_{0} \\operatorname{sin}\\left(\\theta_{1} + \\theta_{2} + \\theta_{3}\\right) - \\frac{3 l_{1}}{2} l_{2} m_{U} \\omega^{2}_{0} \\operatorname{sin}\\left(\\theta_{1}\\right) - \\frac{l_{1} l_{3}}{2} m_{H} \\omega^{2}_{0} \\operatorname{sin}\\left(\\theta_{1} + \\theta_{2}\\right) - \\frac{l_{1} l_{3}}{2} m_{L} \\left(\\omega_{0} + \\omega_{1} + \\omega_{2}\\right)^{2} \\operatorname{sin}\\left(\\theta_{3} + \\theta_{4}\\right) + \\frac{l_{1} l_{3}}{2} m_{L} \\left(\\omega_{0} + \\omega_{1} + \\omega_{2} + \\omega_{3} + \\omega_{4}\\right)^{2} \\operatorname{sin}\\left(\\theta_{3} + \\theta_{4}\\right) - l_{1} l_{3} m_{L} \\omega^{2}_{0} \\operatorname{sin}\\left(\\theta_{1} + \\theta_{2}\\right) - l_{1} l_{3} m_{U} \\omega^{2}_{0} \\operatorname{sin}\\left(\\theta_{1} + \\theta_{2}\\right) - l_{2}^{2} m_{L} \\left(\\omega_{0} + \\omega_{1}\\right)^{2} \\operatorname{sin}\\left(\\theta_{2} + \\theta_{3}\\right) + l_{2}^{2} m_{L} \\left(\\omega_{0} + \\omega_{1} + \\omega_{2} + \\omega_{3}\\right)^{2} \\operatorname{sin}\\left(\\theta_{2} + \\theta_{3}\\right) - \\frac{l_{2}^{2} m_{U}}{2} \\left(\\omega_{0} + \\omega_{1}\\right)^{2} \\operatorname{sin}\\left(\\theta_{2} + \\theta_{3}\\right) + \\frac{l_{2}^{2} m_{U}}{2} \\left(\\omega_{0} + \\omega_{1} + \\omega_{2} + \\omega_{3}\\right)^{2} \\operatorname{sin}\\left(\\theta_{2} + \\theta_{3}\\right) - \\frac{l_{2} l_{3}}{2} m_{H} \\left(\\omega_{0} + \\omega_{1}\\right)^{2} \\operatorname{sin}\\left(\\theta_{2}\\right) + \\frac{l_{2} l_{3}}{2} m_{H} \\left(\\omega_{0} + \\omega_{1} + \\omega_{2}\\right)^{2} \\operatorname{sin}\\left(\\theta_{2}\\right) - l_{2} l_{3} m_{L} \\left(\\omega_{0} + \\omega_{1}\\right)^{2} \\operatorname{sin}\\left(\\theta_{2}\\right) + l_{2} l_{3} m_{L} \\left(\\omega_{0} + \\omega_{1} + \\omega_{2}\\right)^{2} \\operatorname{sin}\\left(\\theta_{2}\\right) - l_{2} l_{3} m_{L} \\left(\\omega_{0} + \\omega_{1} + \\omega_{2}\\right)^{2} \\operatorname{sin}\\left(\\theta_{3}\\right) + l_{2} l_{3} m_{L} \\left(\\omega_{0} + \\omega_{1} + \\omega_{2} + \\omega_{3}\\right)^{2} \\operatorname{sin}\\left(\\theta_{3}\\right) - l_{2} l_{3} m_{U} \\left(\\omega_{0} + \\omega_{1}\\right)^{2} \\operatorname{sin}\\left(\\theta_{2}\\right) + l_{2} l_{3} m_{U} \\left(\\omega_{0} + \\omega_{1} + \\omega_{2}\\right)^{2} \\operatorname{sin}\\left(\\theta_{2}\\right) - \\frac{l_{2} l_{3}}{2} m_{U} \\left(\\omega_{0} + \\omega_{1} + \\omega_{2}\\right)^{2} \\operatorname{sin}\\left(\\theta_{3}\\right) + \\frac{l_{2} l_{3}}{2} m_{U} \\left(\\omega_{0} + \\omega_{1} + \\omega_{2} + \\omega_{3}\\right)^{2} \\operatorname{sin}\\left(\\theta_{3}\\right) + T_{k0}\\\\\\frac{g l_{1}}{2} m_{L} \\operatorname{sin}\\left(\\theta_{0} + \\theta_{1} + \\theta_{2} + \\theta_{3} + \\theta_{4}\\right) + g l_{2} m_{L} \\operatorname{sin}\\left(\\theta_{0} + \\theta_{1} + \\theta_{2} + \\theta_{3}\\right) + \\frac{g l_{2}}{2} m_{U} \\operatorname{sin}\\left(\\theta_{0} + \\theta_{1} + \\theta_{2} + \\theta_{3}\\right) + \\frac{g l_{3}}{2} m_{H} \\operatorname{sin}\\left(\\theta_{0} + \\theta_{1} + \\theta_{2}\\right) + g l_{3} m_{L} \\operatorname{sin}\\left(\\theta_{0} + \\theta_{1} + \\theta_{2}\\right) + g l_{3} m_{U} \\operatorname{sin}\\left(\\theta_{0} + \\theta_{1} + \\theta_{2}\\right) - \\frac{l_{1}^{2} m_{L}}{2} \\omega^{2}_{0} \\operatorname{sin}\\left(\\theta_{1} + \\theta_{2} + \\theta_{3} + \\theta_{4}\\right) - \\frac{l_{1} l_{2}}{2} m_{L} \\left(\\omega_{0} + \\omega_{1}\\right)^{2} \\operatorname{sin}\\left(\\theta_{2} + \\theta_{3} + \\theta_{4}\\right) - \\frac{l_{1} l_{2}}{2} m_{L} \\left(\\omega_{0} + \\omega_{1} + \\omega_{2} + \\omega_{3}\\right)^{2} \\operatorname{sin}\\left(\\theta_{4}\\right) + \\frac{l_{1} l_{2}}{2} m_{L} \\left(\\omega_{0} + \\omega_{1} + \\omega_{2} + \\omega_{3} + \\omega_{4}\\right)^{2} \\operatorname{sin}\\left(\\theta_{4}\\right) - l_{1} l_{2} m_{L} \\omega^{2}_{0} \\operatorname{sin}\\left(\\theta_{1} + \\theta_{2} + \\theta_{3}\\right) - \\frac{l_{1} l_{2}}{2} m_{U} \\omega^{2}_{0} \\operatorname{sin}\\left(\\theta_{1} + \\theta_{2} + \\theta_{3}\\right) - \\frac{l_{1} l_{3}}{2} m_{H} \\omega^{2}_{0} \\operatorname{sin}\\left(\\theta_{1} + \\theta_{2}\\right) - \\frac{l_{1} l_{3}}{2} m_{L} \\left(\\omega_{0} + \\omega_{1} + \\omega_{2}\\right)^{2} \\operatorname{sin}\\left(\\theta_{3} + \\theta_{4}\\right) + \\frac{l_{1} l_{3}}{2} m_{L} \\left(\\omega_{0} + \\omega_{1} + \\omega_{2} + \\omega_{3} + \\omega_{4}\\right)^{2} \\operatorname{sin}\\left(\\theta_{3} + \\theta_{4}\\right) - l_{1} l_{3} m_{L} \\omega^{2}_{0} \\operatorname{sin}\\left(\\theta_{1} + \\theta_{2}\\right) - l_{1} l_{3} m_{U} \\omega^{2}_{0} \\operatorname{sin}\\left(\\theta_{1} + \\theta_{2}\\right) - l_{2}^{2} m_{L} \\left(\\omega_{0} + \\omega_{1}\\right)^{2} \\operatorname{sin}\\left(\\theta_{2} + \\theta_{3}\\right) - \\frac{l_{2}^{2} m_{U}}{2} \\left(\\omega_{0} + \\omega_{1}\\right)^{2} \\operatorname{sin}\\left(\\theta_{2} + \\theta_{3}\\right) - \\frac{l_{2} l_{3}}{2} m_{H} \\left(\\omega_{0} + \\omega_{1}\\right)^{2} \\operatorname{sin}\\left(\\theta_{2}\\right) - l_{2} l_{3} m_{L} \\left(\\omega_{0} + \\omega_{1}\\right)^{2} \\operatorname{sin}\\left(\\theta_{2}\\right) - l_{2} l_{3} m_{L} \\left(\\omega_{0} + \\omega_{1} + \\omega_{2}\\right)^{2} \\operatorname{sin}\\left(\\theta_{3}\\right) + l_{2} l_{3} m_{L} \\left(\\omega_{0} + \\omega_{1} + \\omega_{2} + \\omega_{3}\\right)^{2} \\operatorname{sin}\\left(\\theta_{3}\\right) - l_{2} l_{3} m_{U} \\left(\\omega_{0} + \\omega_{1}\\right)^{2} \\operatorname{sin}\\left(\\theta_{2}\\right) - \\frac{l_{2} l_{3}}{2} m_{U} \\left(\\omega_{0} + \\omega_{1} + \\omega_{2}\\right)^{2} \\operatorname{sin}\\left(\\theta_{3}\\right) + \\frac{l_{2} l_{3}}{2} m_{U} \\left(\\omega_{0} + \\omega_{1} + \\omega_{2} + \\omega_{3}\\right)^{2} \\operatorname{sin}\\left(\\theta_{3}\\right) + T_{h0}\\\\\\frac{g l_{1}}{2} m_{L} \\operatorname{sin}\\left(\\theta_{0} + \\theta_{1} + \\theta_{2} + \\theta_{3} + \\theta_{4}\\right) + g l_{2} m_{L} \\operatorname{sin}\\left(\\theta_{0} + \\theta_{1} + \\theta_{2} + \\theta_{3}\\right) + \\frac{g l_{2}}{2} m_{U} \\operatorname{sin}\\left(\\theta_{0} + \\theta_{1} + \\theta_{2} + \\theta_{3}\\right) - \\frac{l_{1}^{2} m_{L}}{2} \\omega^{2}_{0} \\operatorname{sin}\\left(\\theta_{1} + \\theta_{2} + \\theta_{3} + \\theta_{4}\\right) - \\frac{l_{1} l_{2}}{2} m_{L} \\left(\\omega_{0} + \\omega_{1}\\right)^{2} \\operatorname{sin}\\left(\\theta_{2} + \\theta_{3} + \\theta_{4}\\right) - \\frac{l_{1} l_{2}}{2} m_{L} \\left(\\omega_{0} + \\omega_{1} + \\omega_{2} + \\omega_{3}\\right)^{2} \\operatorname{sin}\\left(\\theta_{4}\\right) + \\frac{l_{1} l_{2}}{2} m_{L} \\left(\\omega_{0} + \\omega_{1} + \\omega_{2} + \\omega_{3} + \\omega_{4}\\right)^{2} \\operatorname{sin}\\left(\\theta_{4}\\right) - l_{1} l_{2} m_{L} \\omega^{2}_{0} \\operatorname{sin}\\left(\\theta_{1} + \\theta_{2} + \\theta_{3}\\right) - \\frac{l_{1} l_{2}}{2} m_{U} \\omega^{2}_{0} \\operatorname{sin}\\left(\\theta_{1} + \\theta_{2} + \\theta_{3}\\right) - \\frac{l_{1} l_{3}}{2} m_{L} \\left(\\omega_{0} + \\omega_{1} + \\omega_{2}\\right)^{2} \\operatorname{sin}\\left(\\theta_{3} + \\theta_{4}\\right) - l_{2}^{2} m_{L} \\left(\\omega_{0} + \\omega_{1}\\right)^{2} \\operatorname{sin}\\left(\\theta_{2} + \\theta_{3}\\right) - \\frac{l_{2}^{2} m_{U}}{2} \\left(\\omega_{0} + \\omega_{1}\\right)^{2} \\operatorname{sin}\\left(\\theta_{2} + \\theta_{3}\\right) - l_{2} l_{3} m_{L} \\left(\\omega_{0} + \\omega_{1} + \\omega_{2}\\right)^{2} \\operatorname{sin}\\left(\\theta_{3}\\right) - \\frac{l_{2} l_{3}}{2} m_{U} \\left(\\omega_{0} + \\omega_{1} + \\omega_{2}\\right)^{2} \\operatorname{sin}\\left(\\theta_{3}\\right) + T_{k1}\\\\\\frac{g l_{1}}{2} m_{L} \\operatorname{sin}\\left(\\theta_{0} + \\theta_{1} + \\theta_{2} + \\theta_{3} + \\theta_{4}\\right) - \\frac{l_{1}^{2} m_{L}}{2} \\omega^{2}_{0} \\operatorname{sin}\\left(\\theta_{1} + \\theta_{2} + \\theta_{3} + \\theta_{4}\\right) - \\frac{l_{1} l_{2}}{2} m_{L} \\left(\\omega_{0} + \\omega_{1}\\right)^{2} \\operatorname{sin}\\left(\\theta_{2} + \\theta_{3} + \\theta_{4}\\right) - \\frac{l_{1} l_{2}}{2} m_{L} \\left(\\omega_{0} + \\omega_{1} + \\omega_{2} + \\omega_{3}\\right)^{2} \\operatorname{sin}\\left(\\theta_{4}\\right) - \\frac{l_{1} l_{3}}{2} m_{L} \\left(\\omega_{0} + \\omega_{1} + \\omega_{2}\\right)^{2} \\operatorname{sin}\\left(\\theta_{3} + \\theta_{4}\\right) + T_{a1}\\end{matrix}\\right]$$"
      ],
      "text/plain": [
       "Matrix([\n",
       "[                                                                                                                                                                                                                                                                                                                                                                                                                                                                                                                                                                                                                                                                                                                                                                                                                                                                                                                                                                                                                                                                                                                                                                                                                                                                                                                                                                                                                                                                                                                                                                                                                                                                                                                                                                                                                                                                                                                                                                                                                                                                                                                                                                                                                                                                                                                                                                                                                                                                                                                                                                                                                                                                                                                                                                                                             omega0],\n",
       "[                                                                                                                                                                                                                                                                                                                                                                                                                                                                                                                                                                                                                                                                                                                                                                                                                                                                                                                                                                                                                                                                                                                                                                                                                                                                                                                                                                                                                                                                                                                                                                                                                                                                                                                                                                                                                                                                                                                                                                                                                                                                                                                                                                                                                                                                                                                                                                                                                                                                                                                                                                                                                                                                                                                                                                                                             omega1],\n",
       "[                                                                                                                                                                                                                                                                                                                                                                                                                                                                                                                                                                                                                                                                                                                                                                                                                                                                                                                                                                                                                                                                                                                                                                                                                                                                                                                                                                                                                                                                                                                                                                                                                                                                                                                                                                                                                                                                                                                                                                                                                                                                                                                                                                                                                                                                                                                                                                                                                                                                                                                                                                                                                                                                                                                                                                                                             omega2],\n",
       "[                                                                                                                                                                                                                                                                                                                                                                                                                                                                                                                                                                                                                                                                                                                                                                                                                                                                                                                                                                                                                                                                                                                                                                                                                                                                                                                                                                                                                                                                                                                                                                                                                                                                                                                                                                                                                                                                                                                                                                                                                                                                                                                                                                                                                                                                                                                                                                                                                                                                                                                                                                                                                                                                                                                                                                                                             omega3],\n",
       "[                                                                                                                                                                                                                                                                                                                                                                                                                                                                                                                                                                                                                                                                                                                                                                                                                                                                                                                                                                                                                                                                                                                                                                                                                                                                                                                                                                                                                                                                                                                                                                                                                                                                                                                                                                                                                                                                                                                                                                                                                                                                                                                                                                                                                                                                                                                                                                                                                                                                                                                                                                                                                                                                                                                                                                                                             omega4],\n",
       "[g*l1*m_H*sin(theta0) + g*l1*m_L*sin(theta0 + theta1 + theta2 + theta3 + theta4)/2 + 3*g*l1*m_L*sin(theta0)/2 + 2*g*l1*m_U*sin(theta0) + g*l2*m_H*sin(theta0 + theta1) + g*l2*m_L*sin(theta0 + theta1) + g*l2*m_L*sin(theta0 + theta1 + theta2 + theta3) + 3*g*l2*m_U*sin(theta0 + theta1)/2 + g*l2*m_U*sin(theta0 + theta1 + theta2 + theta3)/2 + g*l3*m_H*sin(theta0 + theta1 + theta2)/2 + g*l3*m_L*sin(theta0 + theta1 + theta2) + g*l3*m_U*sin(theta0 + theta1 + theta2) + l1**2*m_L*(omega0 + omega1 + omega2 + omega3 + omega4)**2*sin(theta1 + theta2 + theta3 + theta4)/2 - l1**2*m_L*omega0**2*sin(theta1 + theta2 + theta3 + theta4)/2 + l1*l2*m_H*(omega0 + omega1)**2*sin(theta1) - l1*l2*m_H*omega0**2*sin(theta1) - l1*l2*m_L*(omega0 + omega1)**2*sin(theta2 + theta3 + theta4)/2 + l1*l2*m_L*(omega0 + omega1)**2*sin(theta1) + l1*l2*m_L*(omega0 + omega1 + omega2 + omega3)**2*sin(theta1 + theta2 + theta3) - l1*l2*m_L*(omega0 + omega1 + omega2 + omega3)**2*sin(theta4)/2 + l1*l2*m_L*(omega0 + omega1 + omega2 + omega3 + omega4)**2*sin(theta2 + theta3 + theta4)/2 + l1*l2*m_L*(omega0 + omega1 + omega2 + omega3 + omega4)**2*sin(theta4)/2 - l1*l2*m_L*omega0**2*sin(theta1 + theta2 + theta3) - l1*l2*m_L*omega0**2*sin(theta1) + 3*l1*l2*m_U*(omega0 + omega1)**2*sin(theta1)/2 + l1*l2*m_U*(omega0 + omega1 + omega2 + omega3)**2*sin(theta1 + theta2 + theta3)/2 - l1*l2*m_U*omega0**2*sin(theta1 + theta2 + theta3)/2 - 3*l1*l2*m_U*omega0**2*sin(theta1)/2 + l1*l3*m_H*(omega0 + omega1 + omega2)**2*sin(theta1 + theta2)/2 - l1*l3*m_H*omega0**2*sin(theta1 + theta2)/2 + l1*l3*m_L*(omega0 + omega1 + omega2)**2*sin(theta1 + theta2) - l1*l3*m_L*(omega0 + omega1 + omega2)**2*sin(theta3 + theta4)/2 + l1*l3*m_L*(omega0 + omega1 + omega2 + omega3 + omega4)**2*sin(theta3 + theta4)/2 - l1*l3*m_L*omega0**2*sin(theta1 + theta2) + l1*l3*m_U*(omega0 + omega1 + omega2)**2*sin(theta1 + theta2) - l1*l3*m_U*omega0**2*sin(theta1 + theta2) - l2**2*m_L*(omega0 + omega1)**2*sin(theta2 + theta3) + l2**2*m_L*(omega0 + omega1 + omega2 + omega3)**2*sin(theta2 + theta3) - l2**2*m_U*(omega0 + omega1)**2*sin(theta2 + theta3)/2 + l2**2*m_U*(omega0 + omega1 + omega2 + omega3)**2*sin(theta2 + theta3)/2 - l2*l3*m_H*(omega0 + omega1)**2*sin(theta2)/2 + l2*l3*m_H*(omega0 + omega1 + omega2)**2*sin(theta2)/2 - l2*l3*m_L*(omega0 + omega1)**2*sin(theta2) + l2*l3*m_L*(omega0 + omega1 + omega2)**2*sin(theta2) - l2*l3*m_L*(omega0 + omega1 + omega2)**2*sin(theta3) + l2*l3*m_L*(omega0 + omega1 + omega2 + omega3)**2*sin(theta3) - l2*l3*m_U*(omega0 + omega1)**2*sin(theta2) + l2*l3*m_U*(omega0 + omega1 + omega2)**2*sin(theta2) - l2*l3*m_U*(omega0 + omega1 + omega2)**2*sin(theta3)/2 + l2*l3*m_U*(omega0 + omega1 + omega2 + omega3)**2*sin(theta3)/2 + T_a0],\n",
       "[                                                                                                                                                                                                                                                                                                                                                                                                                                                                                                                                                                                                                                                                                              g*l1*m_L*sin(theta0 + theta1 + theta2 + theta3 + theta4)/2 + g*l2*m_H*sin(theta0 + theta1) + g*l2*m_L*sin(theta0 + theta1) + g*l2*m_L*sin(theta0 + theta1 + theta2 + theta3) + 3*g*l2*m_U*sin(theta0 + theta1)/2 + g*l2*m_U*sin(theta0 + theta1 + theta2 + theta3)/2 + g*l3*m_H*sin(theta0 + theta1 + theta2)/2 + g*l3*m_L*sin(theta0 + theta1 + theta2) + g*l3*m_U*sin(theta0 + theta1 + theta2) - l1**2*m_L*omega0**2*sin(theta1 + theta2 + theta3 + theta4)/2 - l1*l2*m_H*omega0**2*sin(theta1) - l1*l2*m_L*(omega0 + omega1)**2*sin(theta2 + theta3 + theta4)/2 - l1*l2*m_L*(omega0 + omega1 + omega2 + omega3)**2*sin(theta4)/2 + l1*l2*m_L*(omega0 + omega1 + omega2 + omega3 + omega4)**2*sin(theta2 + theta3 + theta4)/2 + l1*l2*m_L*(omega0 + omega1 + omega2 + omega3 + omega4)**2*sin(theta4)/2 - l1*l2*m_L*omega0**2*sin(theta1 + theta2 + theta3) - l1*l2*m_L*omega0**2*sin(theta1) - l1*l2*m_U*omega0**2*sin(theta1 + theta2 + theta3)/2 - 3*l1*l2*m_U*omega0**2*sin(theta1)/2 - l1*l3*m_H*omega0**2*sin(theta1 + theta2)/2 - l1*l3*m_L*(omega0 + omega1 + omega2)**2*sin(theta3 + theta4)/2 + l1*l3*m_L*(omega0 + omega1 + omega2 + omega3 + omega4)**2*sin(theta3 + theta4)/2 - l1*l3*m_L*omega0**2*sin(theta1 + theta2) - l1*l3*m_U*omega0**2*sin(theta1 + theta2) - l2**2*m_L*(omega0 + omega1)**2*sin(theta2 + theta3) + l2**2*m_L*(omega0 + omega1 + omega2 + omega3)**2*sin(theta2 + theta3) - l2**2*m_U*(omega0 + omega1)**2*sin(theta2 + theta3)/2 + l2**2*m_U*(omega0 + omega1 + omega2 + omega3)**2*sin(theta2 + theta3)/2 - l2*l3*m_H*(omega0 + omega1)**2*sin(theta2)/2 + l2*l3*m_H*(omega0 + omega1 + omega2)**2*sin(theta2)/2 - l2*l3*m_L*(omega0 + omega1)**2*sin(theta2) + l2*l3*m_L*(omega0 + omega1 + omega2)**2*sin(theta2) - l2*l3*m_L*(omega0 + omega1 + omega2)**2*sin(theta3) + l2*l3*m_L*(omega0 + omega1 + omega2 + omega3)**2*sin(theta3) - l2*l3*m_U*(omega0 + omega1)**2*sin(theta2) + l2*l3*m_U*(omega0 + omega1 + omega2)**2*sin(theta2) - l2*l3*m_U*(omega0 + omega1 + omega2)**2*sin(theta3)/2 + l2*l3*m_U*(omega0 + omega1 + omega2 + omega3)**2*sin(theta3)/2 + T_k0],\n",
       "[                                                                                                                                                                                                                                                                                                                                                                                                                                                                                                                                                                                                                                                                                                                                                                                                                                                                                                                                                                                                                                                                                                                                                                                                                                                                                                                              g*l1*m_L*sin(theta0 + theta1 + theta2 + theta3 + theta4)/2 + g*l2*m_L*sin(theta0 + theta1 + theta2 + theta3) + g*l2*m_U*sin(theta0 + theta1 + theta2 + theta3)/2 + g*l3*m_H*sin(theta0 + theta1 + theta2)/2 + g*l3*m_L*sin(theta0 + theta1 + theta2) + g*l3*m_U*sin(theta0 + theta1 + theta2) - l1**2*m_L*omega0**2*sin(theta1 + theta2 + theta3 + theta4)/2 - l1*l2*m_L*(omega0 + omega1)**2*sin(theta2 + theta3 + theta4)/2 - l1*l2*m_L*(omega0 + omega1 + omega2 + omega3)**2*sin(theta4)/2 + l1*l2*m_L*(omega0 + omega1 + omega2 + omega3 + omega4)**2*sin(theta4)/2 - l1*l2*m_L*omega0**2*sin(theta1 + theta2 + theta3) - l1*l2*m_U*omega0**2*sin(theta1 + theta2 + theta3)/2 - l1*l3*m_H*omega0**2*sin(theta1 + theta2)/2 - l1*l3*m_L*(omega0 + omega1 + omega2)**2*sin(theta3 + theta4)/2 + l1*l3*m_L*(omega0 + omega1 + omega2 + omega3 + omega4)**2*sin(theta3 + theta4)/2 - l1*l3*m_L*omega0**2*sin(theta1 + theta2) - l1*l3*m_U*omega0**2*sin(theta1 + theta2) - l2**2*m_L*(omega0 + omega1)**2*sin(theta2 + theta3) - l2**2*m_U*(omega0 + omega1)**2*sin(theta2 + theta3)/2 - l2*l3*m_H*(omega0 + omega1)**2*sin(theta2)/2 - l2*l3*m_L*(omega0 + omega1)**2*sin(theta2) - l2*l3*m_L*(omega0 + omega1 + omega2)**2*sin(theta3) + l2*l3*m_L*(omega0 + omega1 + omega2 + omega3)**2*sin(theta3) - l2*l3*m_U*(omega0 + omega1)**2*sin(theta2) - l2*l3*m_U*(omega0 + omega1 + omega2)**2*sin(theta3)/2 + l2*l3*m_U*(omega0 + omega1 + omega2 + omega3)**2*sin(theta3)/2 + T_h0],\n",
       "[                                                                                                                                                                                                                                                                                                                                                                                                                                                                                                                                                                                                                                                                                                                                                                                                                                                                                                                                                                                                                                                                                                                                                                                                                                                                                                                                                                                                                                                                                                                                                                                                                                                                                                                                                                                                                                                                                                                                                          g*l1*m_L*sin(theta0 + theta1 + theta2 + theta3 + theta4)/2 + g*l2*m_L*sin(theta0 + theta1 + theta2 + theta3) + g*l2*m_U*sin(theta0 + theta1 + theta2 + theta3)/2 - l1**2*m_L*omega0**2*sin(theta1 + theta2 + theta3 + theta4)/2 - l1*l2*m_L*(omega0 + omega1)**2*sin(theta2 + theta3 + theta4)/2 - l1*l2*m_L*(omega0 + omega1 + omega2 + omega3)**2*sin(theta4)/2 + l1*l2*m_L*(omega0 + omega1 + omega2 + omega3 + omega4)**2*sin(theta4)/2 - l1*l2*m_L*omega0**2*sin(theta1 + theta2 + theta3) - l1*l2*m_U*omega0**2*sin(theta1 + theta2 + theta3)/2 - l1*l3*m_L*(omega0 + omega1 + omega2)**2*sin(theta3 + theta4)/2 - l2**2*m_L*(omega0 + omega1)**2*sin(theta2 + theta3) - l2**2*m_U*(omega0 + omega1)**2*sin(theta2 + theta3)/2 - l2*l3*m_L*(omega0 + omega1 + omega2)**2*sin(theta3) - l2*l3*m_U*(omega0 + omega1 + omega2)**2*sin(theta3)/2 + T_k1],\n",
       "[                                                                                                                                                                                                                                                                                                                                                                                                                                                                                                                                                                                                                                                                                                                                                                                                                                                                                                                                                                                                                                                                                                                                                                                                                                                                                                                                                                                                                                                                                                                                                                                                                                                                                                                                                                                                                                                                                                                                                                                                                                                                                                                                                                                                                                                                                                                                                                                                                                                                                g*l1*m_L*sin(theta0 + theta1 + theta2 + theta3 + theta4)/2 - l1**2*m_L*omega0**2*sin(theta1 + theta2 + theta3 + theta4)/2 - l1*l2*m_L*(omega0 + omega1)**2*sin(theta2 + theta3 + theta4)/2 - l1*l2*m_L*(omega0 + omega1 + omega2 + omega3)**2*sin(theta4)/2 - l1*l3*m_L*(omega0 + omega1 + omega2)**2*sin(theta3 + theta4)/2 + T_a1]])"
      ]
     },
     "execution_count": 66,
     "metadata": {},
     "output_type": "execute_result"
    }
   ],
   "source": [
    "forcing_vector = trigsimp(kane.forcing_full)\n",
    "forcing_vector"
   ]
  },
  {
   "cell_type": "markdown",
   "metadata": {},
   "source": [
    "# Simulation"
   ]
  },
  {
   "cell_type": "code",
   "execution_count": 67,
   "metadata": {},
   "outputs": [],
   "source": [
    "from scipy.integrate import odeint\n",
    "from pydy.codegen.ode_function_generators import generate_ode_function\n",
    "%matplotlib inline\n",
    "from matplotlib.pyplot import plot, legend, xlabel, ylabel, rcParams\n",
    "rcParams['figure.figsize'] = (14.0, 6.0)"
   ]
  },
  {
   "cell_type": "code",
   "execution_count": 68,
   "metadata": {},
   "outputs": [
    {
     "data": {
      "text/latex": [
       "$$\\left [ l_{1}, \\quad l_{2}, \\quad l_{3}, \\quad \\frac{l_{1}}{2}, \\quad \\frac{l_{2}}{2}, \\quad \\frac{l_{3}}{2}, \\quad \\frac{l_{2}}{2}, \\quad \\frac{l_{1}}{2}, \\quad m_{L}, \\quad m_{U}, \\quad m_{H}, \\quad I_{Lz}, \\quad I_{Uz}, \\quad I_{Hz}, \\quad g\\right ]$$"
      ],
      "text/plain": [
       "[l1, l2, l3, l1/2, l2/2, l3/2, l2/2, l1/2, m_L, m_U, m_H, I_Lz, I_Uz, I_Hz, g]"
      ]
     },
     "execution_count": 68,
     "metadata": {},
     "output_type": "execute_result"
    }
   ],
   "source": [
    "constants = [lower_leg_length,\n",
    "             upper_leg_length,\n",
    "             hip_length,\n",
    "             \n",
    "             lower_leg_left_com_length,\n",
    "             upper_leg_left_com_length,\n",
    "             hip_com_length,\n",
    "             upper_leg_right_com_length,\n",
    "             lower_leg_right_com_length,\n",
    "             \n",
    "             lower_leg_mass,\n",
    "             upper_leg_mass,\n",
    "             hip_mass,\n",
    "             \n",
    "             lower_leg_inertia,\n",
    "             upper_leg_inertia,\n",
    "             hip_inertia,\n",
    "             \n",
    "             g]\n",
    "constants"
   ]
  },
  {
   "cell_type": "code",
   "execution_count": 69,
   "metadata": {},
   "outputs": [
    {
     "data": {
      "text/plain": [
       "array([ 0.42,  0.54,  0.2 ,  0.21,  0.27,  0.1 ,  0.27,  0.21,  1.  ,\n",
       "        1.5 ,  2.  ,  0.1 ,  0.2 ,  0.1 ,  9.81])"
      ]
     },
     "execution_count": 69,
     "metadata": {},
     "output_type": "execute_result"
    }
   ],
   "source": [
    "numerical_constants = array([0.42,  # lower_leg_length [m]\n",
    "                             0.54, # upper_leg_length [m]\n",
    "                             0.2, # hip_length\n",
    "                             \n",
    "                             0.21,  # lower_leg_com_length [m]\n",
    "                             0.27,  # upper_leg_com_length\n",
    "                             0.10,  # hip_com_length\n",
    "                             0.27,  # upper_leg_com_length\n",
    "                             0.21,  # lower_leg_com_length [m]\n",
    "                             \n",
    "                             1.0,  # lower_leg_mass [kg]\n",
    "                             1.5,  # upper_leg_mass [kg]\n",
    "                             2.0,  # hip_mass [kg]\n",
    "                             \n",
    "                             0.1,  # lower_leg_inertia [kg*m^2]                             \n",
    "                             0.2,  # upper_leg_inertia [kg*m^2]\n",
    "                             0.1,  # hip_inertia [kg*m^2]\n",
    "                             \n",
    "                             9.81],  # acceleration due to gravity [m/s^2]\n",
    "                            ) \n",
    "numerical_constants"
   ]
  },
  {
   "cell_type": "code",
   "execution_count": 70,
   "metadata": {},
   "outputs": [
    {
     "data": {
      "text/latex": [
       "$$\\left [ \\theta_{0}, \\quad \\theta_{1}, \\quad \\theta_{2}, \\quad \\theta_{3}, \\quad \\theta_{4}\\right ]$$"
      ],
      "text/plain": [
       "[theta0, theta1, theta2, theta3, theta4]"
      ]
     },
     "execution_count": 70,
     "metadata": {},
     "output_type": "execute_result"
    }
   ],
   "source": [
    "coordinates = [theta0, theta1, theta2, theta3, theta4]\n",
    "coordinates"
   ]
  },
  {
   "cell_type": "code",
   "execution_count": 71,
   "metadata": {},
   "outputs": [
    {
     "data": {
      "text/latex": [
       "$$\\left [ \\omega_{0}, \\quad \\omega_{1}, \\quad \\omega_{2}, \\quad \\omega_{3}, \\quad \\omega_{4}\\right ]$$"
      ],
      "text/plain": [
       "[omega0, omega1, omega2, omega3, omega4]"
      ]
     },
     "execution_count": 71,
     "metadata": {},
     "output_type": "execute_result"
    }
   ],
   "source": [
    "speeds = [omega0, omega1, omega2, omega3, omega4]\n",
    "speeds"
   ]
  },
  {
   "cell_type": "code",
   "execution_count": 72,
   "metadata": {
    "collapsed": true
   },
   "outputs": [],
   "source": [
    "specified = [ankle_torque0, knee_torque0, hip_torque0, hip_torque1, knee_torque1, ankle_torque1]"
   ]
  },
  {
   "cell_type": "code",
   "execution_count": 73,
   "metadata": {
    "collapsed": true
   },
   "outputs": [],
   "source": [
    "right_hand_side = generate_ode_function(forcing_vector, coordinates,\n",
    "                                        speeds, constants,\n",
    "                                        mass_matrix=mass_matrix,\n",
    "                                        specifieds=specified)"
   ]
  },
  {
   "cell_type": "code",
   "execution_count": 74,
   "metadata": {},
   "outputs": [
    {
     "data": {
      "text/plain": [
       "array([ 0.,  0.,  0.,  0.,  0.,  0.,  0.,  0.,  0.,  0.])"
      ]
     },
     "execution_count": 74,
     "metadata": {},
     "output_type": "execute_result"
    }
   ],
   "source": [
    "x0 = zeros(10)\n",
    "x0"
   ]
  },
  {
   "cell_type": "code",
   "execution_count": 75,
   "metadata": {},
   "outputs": [
    {
     "data": {
      "text/plain": [
       "array([ 1.04719755, -0.52359878, -0.52359878, -0.52359878, -0.52359878,\n",
       "        0.        ,  0.        ,  0.        ,  0.        ,  0.        ])"
      ]
     },
     "execution_count": 75,
     "metadata": {},
     "output_type": "execute_result"
    }
   ],
   "source": [
    "x0[0] = deg2rad(60)\n",
    "x0[1] = deg2rad(-30)\n",
    "x0[2] = deg2rad(-30)\n",
    "x0[3] = deg2rad(-30)\n",
    "x0[4] = deg2rad(-30)\n",
    "x0"
   ]
  },
  {
   "cell_type": "code",
   "execution_count": 76,
   "metadata": {},
   "outputs": [],
   "source": [
    "numerical_specified = zeros(6)\n",
    "\n",
    "args = {'constants': numerical_constants,\n",
    "        'specified': numerical_specified}\n",
    "frames_per_sec = 60\n",
    "final_time = 5.0\n",
    "\n",
    "t = linspace(0.0, final_time, final_time * frames_per_sec)"
   ]
  },
  {
   "cell_type": "code",
   "execution_count": 77,
   "metadata": {},
   "outputs": [
    {
     "name": "stderr",
     "output_type": "stream",
     "text": [
      "/usr/local/lib/python2.7/dist-packages/pydy-0.5.0.dev0-py2.7.egg/pydy/codegen/ode_function_generators.py:370: VisibleDeprecationWarning: using a non-integer number instead of an integer will result in an error in the future\n",
      "  self._constants_values[i] = p[c]\n"
     ]
    },
    {
     "data": {
      "text/plain": [
       "array([  0.        ,   0.        ,   0.        ,   0.        ,\n",
       "         0.        ,  24.38930964, -29.60348457,  -0.41358456,\n",
       "         1.9175048 ,   2.14208393])"
      ]
     },
     "execution_count": 77,
     "metadata": {},
     "output_type": "execute_result"
    }
   ],
   "source": [
    "right_hand_side(x0, 0.0, numerical_specified, numerical_constants)"
   ]
  },
  {
   "cell_type": "code",
   "execution_count": 78,
   "metadata": {},
   "outputs": [
    {
     "data": {
      "text/latex": [
       "$$\\left ( 300, \\quad 10\\right )$$"
      ],
      "text/plain": [
       "(300, 10)"
      ]
     },
     "execution_count": 78,
     "metadata": {},
     "output_type": "execute_result"
    }
   ],
   "source": [
    "y = odeint(right_hand_side, x0, t, args=(numerical_specified, numerical_constants))\n",
    "y.shape"
   ]
  },
  {
   "cell_type": "code",
   "execution_count": 79,
   "metadata": {},
   "outputs": [
    {
     "data": {
      "text/plain": [
       "<matplotlib.legend.Legend at 0x7fc0f2a40a10>"
      ]
     },
     "execution_count": 79,
     "metadata": {},
     "output_type": "execute_result"
    },
    {
     "data": {
      "image/png": "[encoded data removed]",
      "text/plain": [
       "<matplotlib.figure.Figure at 0x7fc14a289dd0>"
      ]
     },
     "metadata": {},
     "output_type": "display_data"
    }
   ],
   "source": [
    "plot(t, rad2deg(y[:, :5]))\n",
    "xlabel('Time [s]')\n",
    "ylabel('Angle [deg]')\n",
    "legend([\"${}$\".format(vlatex(c)) for c in coordinates])"
   ]
  },
  {
   "cell_type": "code",
   "execution_count": 80,
   "metadata": {},
   "outputs": [
    {
     "data": {
      "text/plain": [
       "<matplotlib.legend.Legend at 0x7fc0f29900d0>"
      ]
     },
     "execution_count": 80,
     "metadata": {},
     "output_type": "execute_result"
    },
    {
     "data": {
      "image/png": "[encoded data removed]",
      "text/plain": [
       "<matplotlib.figure.Figure at 0x7fc0f2990d10>"
      ]
     },
     "metadata": {},
     "output_type": "display_data"
    }
   ],
   "source": [
    "plot(t, rad2deg(y[:, 5:]))\n",
    "xlabel('Time [s]')\n",
    "ylabel('Angular Rate [deg/s]')\n",
    "legend([\"${}$\".format(vlatex(s)) for s in speeds])"
   ]
  },
  {
   "cell_type": "markdown",
   "metadata": {},
   "source": [
    "# Visualization"
   ]
  },
  {
   "cell_type": "code",
   "execution_count": 81,
   "metadata": {},
   "outputs": [],
   "source": [
    "import rospy\n",
    "from visualization_msgs.msg import Marker\n",
    "from geometry_msgs.msg import Point"
   ]
  },
  {
   "cell_type": "code",
   "execution_count": 82,
   "metadata": {},
   "outputs": [],
   "source": [
    "rospy.init_node('PaBiRoboy_dynamics', anonymous=False)\n",
    "\n",
    "visualization_pub = rospy.Publisher('/visualization_marker', Marker, queue_size=1)\n",
    "msg = Marker()\n",
    "msg.header.frame_id = \"world\"\n",
    "msg.header.stamp = rospy.Time.now()\n",
    "msg.type = Marker.ARROW\n",
    "msg.scale.x = 0.005\n",
    "msg.scale.y = 0.05\n",
    "msg.scale.z = 0.05\n",
    "msg.color.a = 0.5\n",
    "msg.color.r = 1.0\n",
    "msg.color.g = 0.0\n",
    "msg.color.b = 0.0"
   ]
  },
  {
   "cell_type": "code",
   "execution_count": 83,
   "metadata": {},
   "outputs": [],
   "source": [
    "ankle_left_pos_equation = ankle_left.pos_from(ankle_left).express(inertial_frame).simplify()\n",
    "knee_left_pos_equation = knee_left.pos_from(ankle_left).express(inertial_frame).simplify()\n",
    "hip_left_pos_equation = hip_left.pos_from(ankle_left).express(inertial_frame).simplify()\n",
    "hip_right_pos_equation = hip_right.pos_from(ankle_left).express(inertial_frame).simplify()\n",
    "knee_right_pos_equation = knee_right.pos_from(ankle_left).express(inertial_frame).simplify()\n",
    "ankle_right_pos_equation = ankle_right.pos_from(ankle_left).express(inertial_frame).simplify()"
   ]
  },
  {
   "cell_type": "code",
   "execution_count": 86,
   "metadata": {},
   "outputs": [],
   "source": [
    "for i in range(0,int(final_time * frames_per_sec)):#\n",
    "    values = {lower_leg_length: 0.4, upper_leg_length: 0.54, hip_length: 0.2, theta0: y[i, 0], theta1: y[i, 1], theta2: y[i, 2], theta3: y[i, 3], theta4: y[i, 4]}\n",
    "    \n",
    "    ankle_left_pos = ankle_left_pos_equation.subs(values).to_matrix(inertial_frame)\n",
    "    knee_left_pos = knee_left_pos_equation.subs(values).to_matrix(inertial_frame)\n",
    "    hip_left_pos = hip_left_pos_equation.subs(values).to_matrix(inertial_frame)\n",
    "    hip_right_pos = hip_right_pos_equation.subs(values).to_matrix(inertial_frame)\n",
    "    knee_right_pos = knee_right_pos_equation.subs(values).to_matrix(inertial_frame)\n",
    "    ankle_right_pos = ankle_right_pos_equation.subs(values).to_matrix(inertial_frame)\n",
    "    \n",
    "    msg.id = 0\n",
    "    del msg.points[:]\n",
    "    msg.points.append(Point(ankle_left_pos[0],ankle_left_pos[1],ankle_left_pos[2]))\n",
    "    msg.points.append(Point(knee_left_pos[0],knee_left_pos[1],knee_left_pos[2]))\n",
    "    visualization_pub.publish(msg)\n",
    "    \n",
    "    msg.id = 1\n",
    "    del msg.points[:]\n",
    "    msg.points.append(Point(knee_left_pos[0],knee_left_pos[1],knee_left_pos[2]))\n",
    "    msg.points.append(Point(hip_left_pos[0],hip_left_pos[1],hip_left_pos[2]))\n",
    "    visualization_pub.publish(msg)\n",
    "    \n",
    "    msg.id = 2\n",
    "    del msg.points[:]\n",
    "    msg.points.append(Point(hip_left_pos[0],hip_left_pos[1],hip_left_pos[2]))\n",
    "    msg.points.append(Point(hip_right_pos[0],hip_right_pos[1],hip_right_pos[2]))\n",
    "    visualization_pub.publish(msg)\n",
    "    \n",
    "    msg.id = 3\n",
    "    del msg.points[:]\n",
    "    msg.points.append(Point(hip_right_pos[0],hip_right_pos[1],hip_right_pos[2]))\n",
    "    msg.points.append(Point(knee_right_pos[0],knee_right_pos[1],knee_right_pos[2]))\n",
    "    visualization_pub.publish(msg)\n",
    "    \n",
    "    msg.id = 4\n",
    "    del msg.points[:]\n",
    "    msg.points.append(Point(knee_right_pos[0],knee_right_pos[1],knee_right_pos[2]))\n",
    "    msg.points.append(Point(ankle_right_pos[0],ankle_right_pos[1],ankle_right_pos[2]))\n",
    "    visualization_pub.publish(msg)\n",
    "    \n"
   ]
  },
  {
   "cell_type": "markdown",
   "metadata": {},
   "source": [
    "# Jacobian"
   ]
  },
  {
   "cell_type": "markdown",
   "metadata": {},
   "source": [
    "#### We want to control the hip com position. The hip com seen from ankle_left in inertial_frame is:"
   ]
  },
  {
   "cell_type": "code",
   "execution_count": 149,
   "metadata": {},
   "outputs": [
    {
     "data": {
      "text/latex": [
       "$$\\left[\\begin{matrix}l_{1} \\operatorname{sin}\\left(\\theta_{0}\\right) + l_{2} \\operatorname{sin}\\left(\\theta_{0} + \\theta_{1}\\right) + \\frac{l_{3}}{2} \\operatorname{sin}\\left(\\theta_{0} + \\theta_{1} + \\theta_{2}\\right)\\\\- l_{1} \\operatorname{cos}\\left(\\theta_{0}\\right) - l_{2} \\operatorname{cos}\\left(\\theta_{0} + \\theta_{1}\\right) - \\frac{l_{3}}{2} \\operatorname{cos}\\left(\\theta_{0} + \\theta_{1} + \\theta_{2}\\right)\\end{matrix}\\right]$$"
      ],
      "text/plain": [
       "Matrix([\n",
       "[ l1*sin(theta0) + l2*sin(theta0 + theta1) + l3*sin(theta0 + theta1 + theta2)/2],\n",
       "[-l1*cos(theta0) - l2*cos(theta0 + theta1) - l3*cos(theta0 + theta1 + theta2)/2]])"
      ]
     },
     "execution_count": 149,
     "metadata": {},
     "output_type": "execute_result"
    }
   ],
   "source": [
    "F0 = ankle_left.pos_from(hip_mass_center).express(inertial_frame).simplify().to_matrix(inertial_frame)\n",
    "F0 = Matrix([F0[0], F0[1]])\n",
    "F0"
   ]
  },
  {
   "cell_type": "code",
   "execution_count": 151,
   "metadata": {},
   "outputs": [
    {
     "data": {
      "text/latex": [
       "$$\\left[\\begin{matrix}l_{1} \\operatorname{cos}\\left(\\theta_{0}\\right) + l_{2} \\operatorname{cos}\\left(\\theta_{0} + \\theta_{1}\\right) + \\frac{l_{3}}{2} \\operatorname{cos}\\left(\\theta_{0} + \\theta_{1} + \\theta_{2}\\right) & l_{2} \\operatorname{cos}\\left(\\theta_{0} + \\theta_{1}\\right) + \\frac{l_{3}}{2} \\operatorname{cos}\\left(\\theta_{0} + \\theta_{1} + \\theta_{2}\\right) & \\frac{l_{3}}{2} \\operatorname{cos}\\left(\\theta_{0} + \\theta_{1} + \\theta_{2}\\right) & 0 & 0\\\\l_{1} \\operatorname{sin}\\left(\\theta_{0}\\right) + l_{2} \\operatorname{sin}\\left(\\theta_{0} + \\theta_{1}\\right) + \\frac{l_{3}}{2} \\operatorname{sin}\\left(\\theta_{0} + \\theta_{1} + \\theta_{2}\\right) & l_{2} \\operatorname{sin}\\left(\\theta_{0} + \\theta_{1}\\right) + \\frac{l_{3}}{2} \\operatorname{sin}\\left(\\theta_{0} + \\theta_{1} + \\theta_{2}\\right) & \\frac{l_{3}}{2} \\operatorname{sin}\\left(\\theta_{0} + \\theta_{1} + \\theta_{2}\\right) & 0 & 0\\end{matrix}\\right]$$"
      ],
      "text/plain": [
       "Matrix([\n",
       "[l1*cos(theta0) + l2*cos(theta0 + theta1) + l3*cos(theta0 + theta1 + theta2)/2, l2*cos(theta0 + theta1) + l3*cos(theta0 + theta1 + theta2)/2, l3*cos(theta0 + theta1 + theta2)/2, 0, 0],\n",
       "[l1*sin(theta0) + l2*sin(theta0 + theta1) + l3*sin(theta0 + theta1 + theta2)/2, l2*sin(theta0 + theta1) + l3*sin(theta0 + theta1 + theta2)/2, l3*sin(theta0 + theta1 + theta2)/2, 0, 0]])"
      ]
     },
     "execution_count": 151,
     "metadata": {},
     "output_type": "execute_result"
    }
   ],
   "source": [
    "J_hipCOM = F0.jacobian([theta0, theta1, theta2, theta3, theta4])\n",
    "J_hipCOM"
   ]
  },
  {
   "cell_type": "markdown",
   "metadata": {},
   "source": [
    "#### We want to constraint the ankle_right stay at the initial step size"
   ]
  },
  {
   "cell_type": "code",
   "execution_count": 152,
   "metadata": {
    "collapsed": true
   },
   "outputs": [],
   "source": [
    "step_length = symbols('L')"
   ]
  },
  {
   "cell_type": "code",
   "execution_count": 153,
   "metadata": {},
   "outputs": [
    {
     "data": {
      "text/latex": [
       "$$\\left[\\begin{matrix}- l_{1} \\operatorname{sin}\\left(\\theta_{0} + \\theta_{1} + \\theta_{2} + \\theta_{3} + \\theta_{4}\\right) - l_{1} \\operatorname{sin}\\left(\\theta_{0}\\right) - l_{2} \\operatorname{sin}\\left(\\theta_{0} + \\theta_{1}\\right) - l_{2} \\operatorname{sin}\\left(\\theta_{0} + \\theta_{1} + \\theta_{2} + \\theta_{3}\\right) - l_{3} \\operatorname{sin}\\left(\\theta_{0} + \\theta_{1} + \\theta_{2}\\right)\\\\l_{1} \\operatorname{cos}\\left(\\theta_{0} + \\theta_{1} + \\theta_{2} + \\theta_{3} + \\theta_{4}\\right) + l_{1} \\operatorname{cos}\\left(\\theta_{0}\\right) + l_{2} \\operatorname{cos}\\left(\\theta_{0} + \\theta_{1}\\right) + l_{2} \\operatorname{cos}\\left(\\theta_{0} + \\theta_{1} + \\theta_{2} + \\theta_{3}\\right) + l_{3} \\operatorname{cos}\\left(\\theta_{0} + \\theta_{1} + \\theta_{2}\\right)\\end{matrix}\\right]$$"
      ],
      "text/plain": [
       "Matrix([\n",
       "[-l1*sin(theta0 + theta1 + theta2 + theta3 + theta4) - l1*sin(theta0) - l2*sin(theta0 + theta1) - l2*sin(theta0 + theta1 + theta2 + theta3) - l3*sin(theta0 + theta1 + theta2)],\n",
       "[ l1*cos(theta0 + theta1 + theta2 + theta3 + theta4) + l1*cos(theta0) + l2*cos(theta0 + theta1) + l2*cos(theta0 + theta1 + theta2 + theta3) + l3*cos(theta0 + theta1 + theta2)]])"
      ]
     },
     "execution_count": 153,
     "metadata": {},
     "output_type": "execute_result"
    }
   ],
   "source": [
    "F1 = ankle_right.pos_from(ankle_left).express(inertial_frame).simplify().to_matrix(inertial_frame)\n",
    "F1 = Matrix([F1[0], F1[1]])\n",
    "F1"
   ]
  },
  {
   "cell_type": "code",
   "execution_count": 154,
   "metadata": {},
   "outputs": [
    {
     "data": {
      "text/latex": [
       "$$\\left[\\begin{matrix}L\\\\- l_{1} \\operatorname{cos}\\left(\\theta_{0}\\right) - l_{2} \\operatorname{cos}\\left(\\theta_{0} + \\theta_{1}\\right) - \\frac{l_{3}}{2} \\operatorname{cos}\\left(\\theta_{0} + \\theta_{1} + \\theta_{2}\\right)\\end{matrix}\\right]$$"
      ],
      "text/plain": [
       "Matrix([\n",
       "[                                                                             L],\n",
       "[-l1*cos(theta0) - l2*cos(theta0 + theta1) - l3*cos(theta0 + theta1 + theta2)/2]])"
      ]
     },
     "execution_count": 154,
     "metadata": {},
     "output_type": "execute_result"
    }
   ],
   "source": [
    "offset = Matrix([step_length, F0[1]])\n",
    "offset"
   ]
  },
  {
   "cell_type": "code",
   "execution_count": 155,
   "metadata": {},
   "outputs": [
    {
     "data": {
      "text/latex": [
       "$$\\left[\\begin{matrix}- l_{1} \\operatorname{cos}\\left(\\theta_{0} + \\theta_{1} + \\theta_{2} + \\theta_{3} + \\theta_{4}\\right) - l_{1} \\operatorname{cos}\\left(\\theta_{0}\\right) - l_{2} \\operatorname{cos}\\left(\\theta_{0} + \\theta_{1}\\right) - l_{2} \\operatorname{cos}\\left(\\theta_{0} + \\theta_{1} + \\theta_{2} + \\theta_{3}\\right) - l_{3} \\operatorname{cos}\\left(\\theta_{0} + \\theta_{1} + \\theta_{2}\\right) & - l_{1} \\operatorname{cos}\\left(\\theta_{0} + \\theta_{1} + \\theta_{2} + \\theta_{3} + \\theta_{4}\\right) - l_{2} \\operatorname{cos}\\left(\\theta_{0} + \\theta_{1}\\right) - l_{2} \\operatorname{cos}\\left(\\theta_{0} + \\theta_{1} + \\theta_{2} + \\theta_{3}\\right) - l_{3} \\operatorname{cos}\\left(\\theta_{0} + \\theta_{1} + \\theta_{2}\\right) & - l_{1} \\operatorname{cos}\\left(\\theta_{0} + \\theta_{1} + \\theta_{2} + \\theta_{3} + \\theta_{4}\\right) - l_{2} \\operatorname{cos}\\left(\\theta_{0} + \\theta_{1} + \\theta_{2} + \\theta_{3}\\right) - l_{3} \\operatorname{cos}\\left(\\theta_{0} + \\theta_{1} + \\theta_{2}\\right) & - l_{1} \\operatorname{cos}\\left(\\theta_{0} + \\theta_{1} + \\theta_{2} + \\theta_{3} + \\theta_{4}\\right) - l_{2} \\operatorname{cos}\\left(\\theta_{0} + \\theta_{1} + \\theta_{2} + \\theta_{3}\\right) & - l_{1} \\operatorname{cos}\\left(\\theta_{0} + \\theta_{1} + \\theta_{2} + \\theta_{3} + \\theta_{4}\\right)\\\\- l_{1} \\operatorname{sin}\\left(\\theta_{0} + \\theta_{1} + \\theta_{2} + \\theta_{3} + \\theta_{4}\\right) - 2 l_{1} \\operatorname{sin}\\left(\\theta_{0}\\right) - 2 l_{2} \\operatorname{sin}\\left(\\theta_{0} + \\theta_{1}\\right) - l_{2} \\operatorname{sin}\\left(\\theta_{0} + \\theta_{1} + \\theta_{2} + \\theta_{3}\\right) - \\frac{3 l_{3}}{2} \\operatorname{sin}\\left(\\theta_{0} + \\theta_{1} + \\theta_{2}\\right) & - l_{1} \\operatorname{sin}\\left(\\theta_{0} + \\theta_{1} + \\theta_{2} + \\theta_{3} + \\theta_{4}\\right) - 2 l_{2} \\operatorname{sin}\\left(\\theta_{0} + \\theta_{1}\\right) - l_{2} \\operatorname{sin}\\left(\\theta_{0} + \\theta_{1} + \\theta_{2} + \\theta_{3}\\right) - \\frac{3 l_{3}}{2} \\operatorname{sin}\\left(\\theta_{0} + \\theta_{1} + \\theta_{2}\\right) & - l_{1} \\operatorname{sin}\\left(\\theta_{0} + \\theta_{1} + \\theta_{2} + \\theta_{3} + \\theta_{4}\\right) - l_{2} \\operatorname{sin}\\left(\\theta_{0} + \\theta_{1} + \\theta_{2} + \\theta_{3}\\right) - \\frac{3 l_{3}}{2} \\operatorname{sin}\\left(\\theta_{0} + \\theta_{1} + \\theta_{2}\\right) & - l_{1} \\operatorname{sin}\\left(\\theta_{0} + \\theta_{1} + \\theta_{2} + \\theta_{3} + \\theta_{4}\\right) - l_{2} \\operatorname{sin}\\left(\\theta_{0} + \\theta_{1} + \\theta_{2} + \\theta_{3}\\right) & - l_{1} \\operatorname{sin}\\left(\\theta_{0} + \\theta_{1} + \\theta_{2} + \\theta_{3} + \\theta_{4}\\right)\\end{matrix}\\right]$$"
      ],
      "text/plain": [
       "Matrix([\n",
       "[        -l1*cos(theta0 + theta1 + theta2 + theta3 + theta4) - l1*cos(theta0) - l2*cos(theta0 + theta1) - l2*cos(theta0 + theta1 + theta2 + theta3) - l3*cos(theta0 + theta1 + theta2),       -l1*cos(theta0 + theta1 + theta2 + theta3 + theta4) - l2*cos(theta0 + theta1) - l2*cos(theta0 + theta1 + theta2 + theta3) - l3*cos(theta0 + theta1 + theta2),     -l1*cos(theta0 + theta1 + theta2 + theta3 + theta4) - l2*cos(theta0 + theta1 + theta2 + theta3) - l3*cos(theta0 + theta1 + theta2), -l1*cos(theta0 + theta1 + theta2 + theta3 + theta4) - l2*cos(theta0 + theta1 + theta2 + theta3), -l1*cos(theta0 + theta1 + theta2 + theta3 + theta4)],\n",
       "[-l1*sin(theta0 + theta1 + theta2 + theta3 + theta4) - 2*l1*sin(theta0) - 2*l2*sin(theta0 + theta1) - l2*sin(theta0 + theta1 + theta2 + theta3) - 3*l3*sin(theta0 + theta1 + theta2)/2, -l1*sin(theta0 + theta1 + theta2 + theta3 + theta4) - 2*l2*sin(theta0 + theta1) - l2*sin(theta0 + theta1 + theta2 + theta3) - 3*l3*sin(theta0 + theta1 + theta2)/2, -l1*sin(theta0 + theta1 + theta2 + theta3 + theta4) - l2*sin(theta0 + theta1 + theta2 + theta3) - 3*l3*sin(theta0 + theta1 + theta2)/2, -l1*sin(theta0 + theta1 + theta2 + theta3 + theta4) - l2*sin(theta0 + theta1 + theta2 + theta3), -l1*sin(theta0 + theta1 + theta2 + theta3 + theta4)]])"
      ]
     },
     "execution_count": 155,
     "metadata": {},
     "output_type": "execute_result"
    }
   ],
   "source": [
    "constraint = F1 - offset\n",
    "J_ankleRight = constraint.jacobian([theta0, theta1, theta2, theta3, theta4])\n",
    "J_ankleRight"
   ]
  },
  {
   "cell_type": "code",
   "execution_count": 156,
   "metadata": {
    "scrolled": true
   },
   "outputs": [
    {
     "data": {
      "text/latex": [
       "$$\\left[\\begin{matrix}l_{1} \\operatorname{cos}\\left(\\theta_{0}\\right) + l_{2} \\operatorname{cos}\\left(\\theta_{0} + \\theta_{1}\\right) + \\frac{l_{3}}{2} \\operatorname{cos}\\left(\\theta_{0} + \\theta_{1} + \\theta_{2}\\right) & l_{2} \\operatorname{cos}\\left(\\theta_{0} + \\theta_{1}\\right) + \\frac{l_{3}}{2} \\operatorname{cos}\\left(\\theta_{0} + \\theta_{1} + \\theta_{2}\\right) & \\frac{l_{3}}{2} \\operatorname{cos}\\left(\\theta_{0} + \\theta_{1} + \\theta_{2}\\right) & 0 & 0\\\\l_{1} \\operatorname{sin}\\left(\\theta_{0}\\right) + l_{2} \\operatorname{sin}\\left(\\theta_{0} + \\theta_{1}\\right) + \\frac{l_{3}}{2} \\operatorname{sin}\\left(\\theta_{0} + \\theta_{1} + \\theta_{2}\\right) & l_{2} \\operatorname{sin}\\left(\\theta_{0} + \\theta_{1}\\right) + \\frac{l_{3}}{2} \\operatorname{sin}\\left(\\theta_{0} + \\theta_{1} + \\theta_{2}\\right) & \\frac{l_{3}}{2} \\operatorname{sin}\\left(\\theta_{0} + \\theta_{1} + \\theta_{2}\\right) & 0 & 0\\\\- l_{1} \\operatorname{cos}\\left(\\theta_{0} + \\theta_{1} + \\theta_{2} + \\theta_{3} + \\theta_{4}\\right) - l_{1} \\operatorname{cos}\\left(\\theta_{0}\\right) - l_{2} \\operatorname{cos}\\left(\\theta_{0} + \\theta_{1}\\right) - l_{2} \\operatorname{cos}\\left(\\theta_{0} + \\theta_{1} + \\theta_{2} + \\theta_{3}\\right) - l_{3} \\operatorname{cos}\\left(\\theta_{0} + \\theta_{1} + \\theta_{2}\\right) & - l_{1} \\operatorname{cos}\\left(\\theta_{0} + \\theta_{1} + \\theta_{2} + \\theta_{3} + \\theta_{4}\\right) - l_{2} \\operatorname{cos}\\left(\\theta_{0} + \\theta_{1}\\right) - l_{2} \\operatorname{cos}\\left(\\theta_{0} + \\theta_{1} + \\theta_{2} + \\theta_{3}\\right) - l_{3} \\operatorname{cos}\\left(\\theta_{0} + \\theta_{1} + \\theta_{2}\\right) & - l_{1} \\operatorname{cos}\\left(\\theta_{0} + \\theta_{1} + \\theta_{2} + \\theta_{3} + \\theta_{4}\\right) - l_{2} \\operatorname{cos}\\left(\\theta_{0} + \\theta_{1} + \\theta_{2} + \\theta_{3}\\right) - l_{3} \\operatorname{cos}\\left(\\theta_{0} + \\theta_{1} + \\theta_{2}\\right) & - l_{1} \\operatorname{cos}\\left(\\theta_{0} + \\theta_{1} + \\theta_{2} + \\theta_{3} + \\theta_{4}\\right) - l_{2} \\operatorname{cos}\\left(\\theta_{0} + \\theta_{1} + \\theta_{2} + \\theta_{3}\\right) & - l_{1} \\operatorname{cos}\\left(\\theta_{0} + \\theta_{1} + \\theta_{2} + \\theta_{3} + \\theta_{4}\\right)\\\\- l_{1} \\operatorname{sin}\\left(\\theta_{0} + \\theta_{1} + \\theta_{2} + \\theta_{3} + \\theta_{4}\\right) - 2 l_{1} \\operatorname{sin}\\left(\\theta_{0}\\right) - 2 l_{2} \\operatorname{sin}\\left(\\theta_{0} + \\theta_{1}\\right) - l_{2} \\operatorname{sin}\\left(\\theta_{0} + \\theta_{1} + \\theta_{2} + \\theta_{3}\\right) - \\frac{3 l_{3}}{2} \\operatorname{sin}\\left(\\theta_{0} + \\theta_{1} + \\theta_{2}\\right) & - l_{1} \\operatorname{sin}\\left(\\theta_{0} + \\theta_{1} + \\theta_{2} + \\theta_{3} + \\theta_{4}\\right) - 2 l_{2} \\operatorname{sin}\\left(\\theta_{0} + \\theta_{1}\\right) - l_{2} \\operatorname{sin}\\left(\\theta_{0} + \\theta_{1} + \\theta_{2} + \\theta_{3}\\right) - \\frac{3 l_{3}}{2} \\operatorname{sin}\\left(\\theta_{0} + \\theta_{1} + \\theta_{2}\\right) & - l_{1} \\operatorname{sin}\\left(\\theta_{0} + \\theta_{1} + \\theta_{2} + \\theta_{3} + \\theta_{4}\\right) - l_{2} \\operatorname{sin}\\left(\\theta_{0} + \\theta_{1} + \\theta_{2} + \\theta_{3}\\right) - \\frac{3 l_{3}}{2} \\operatorname{sin}\\left(\\theta_{0} + \\theta_{1} + \\theta_{2}\\right) & - l_{1} \\operatorname{sin}\\left(\\theta_{0} + \\theta_{1} + \\theta_{2} + \\theta_{3} + \\theta_{4}\\right) - l_{2} \\operatorname{sin}\\left(\\theta_{0} + \\theta_{1} + \\theta_{2} + \\theta_{3}\\right) & - l_{1} \\operatorname{sin}\\left(\\theta_{0} + \\theta_{1} + \\theta_{2} + \\theta_{3} + \\theta_{4}\\right)\\end{matrix}\\right]$$"
      ],
      "text/plain": [
       "Matrix([\n",
       "[                                                                                                        l1*cos(theta0) + l2*cos(theta0 + theta1) + l3*cos(theta0 + theta1 + theta2)/2,                                                                                                       l2*cos(theta0 + theta1) + l3*cos(theta0 + theta1 + theta2)/2,                                                                                                     l3*cos(theta0 + theta1 + theta2)/2,                                                                                               0,                                                   0],\n",
       "[                                                                                                        l1*sin(theta0) + l2*sin(theta0 + theta1) + l3*sin(theta0 + theta1 + theta2)/2,                                                                                                       l2*sin(theta0 + theta1) + l3*sin(theta0 + theta1 + theta2)/2,                                                                                                     l3*sin(theta0 + theta1 + theta2)/2,                                                                                               0,                                                   0],\n",
       "[        -l1*cos(theta0 + theta1 + theta2 + theta3 + theta4) - l1*cos(theta0) - l2*cos(theta0 + theta1) - l2*cos(theta0 + theta1 + theta2 + theta3) - l3*cos(theta0 + theta1 + theta2),       -l1*cos(theta0 + theta1 + theta2 + theta3 + theta4) - l2*cos(theta0 + theta1) - l2*cos(theta0 + theta1 + theta2 + theta3) - l3*cos(theta0 + theta1 + theta2),     -l1*cos(theta0 + theta1 + theta2 + theta3 + theta4) - l2*cos(theta0 + theta1 + theta2 + theta3) - l3*cos(theta0 + theta1 + theta2), -l1*cos(theta0 + theta1 + theta2 + theta3 + theta4) - l2*cos(theta0 + theta1 + theta2 + theta3), -l1*cos(theta0 + theta1 + theta2 + theta3 + theta4)],\n",
       "[-l1*sin(theta0 + theta1 + theta2 + theta3 + theta4) - 2*l1*sin(theta0) - 2*l2*sin(theta0 + theta1) - l2*sin(theta0 + theta1 + theta2 + theta3) - 3*l3*sin(theta0 + theta1 + theta2)/2, -l1*sin(theta0 + theta1 + theta2 + theta3 + theta4) - 2*l2*sin(theta0 + theta1) - l2*sin(theta0 + theta1 + theta2 + theta3) - 3*l3*sin(theta0 + theta1 + theta2)/2, -l1*sin(theta0 + theta1 + theta2 + theta3 + theta4) - l2*sin(theta0 + theta1 + theta2 + theta3) - 3*l3*sin(theta0 + theta1 + theta2)/2, -l1*sin(theta0 + theta1 + theta2 + theta3 + theta4) - l2*sin(theta0 + theta1 + theta2 + theta3), -l1*sin(theta0 + theta1 + theta2 + theta3 + theta4)]])"
      ]
     },
     "execution_count": 156,
     "metadata": {},
     "output_type": "execute_result"
    }
   ],
   "source": [
    "J = J_hipCOM.col_join(J_ankleRight)\n",
    "J"
   ]
  },
  {
   "cell_type": "code",
   "execution_count": 166,
   "metadata": {},
   "outputs": [
    {
     "data": {
      "text/latex": [
       "$$\\left[\\begin{matrix}-2.46282216864513 & 3.19961586857846 & -0.445769063172015 & -0.35537241917395\\\\5.62262448427497 & -3.60102123826841 & 1.01769103788041 & 0.811315445557625\\\\-3.01109099021039 & -4.1206392316851 & -2.35499822739652 & -1.87743270307953\\\\-3.40391200078557 & 2.26878737983309 & -0.852503268101483 & 0.0255808512275877\\\\5.7923785067211 & 9.78300010904276 & 4.68981045761767 & 5.3706634252166\\end{matrix}\\right]$$"
      ],
      "text/plain": [
       "Matrix([\n",
       "[-2.46282216864513,  3.19961586857846, -0.445769063172015,  -0.35537241917395],\n",
       "[ 5.62262448427497, -3.60102123826841,   1.01769103788041,  0.811315445557625],\n",
       "[-3.01109099021039,  -4.1206392316851,  -2.35499822739652,  -1.87743270307953],\n",
       "[-3.40391200078557,  2.26878737983309, -0.852503268101483, 0.0255808512275877],\n",
       "[  5.7923785067211,  9.78300010904276,   4.68981045761767,    5.3706634252166]])"
      ]
     },
     "execution_count": 166,
     "metadata": {},
     "output_type": "execute_result"
    }
   ],
   "source": [
    "J.subs(values).pinv()"
   ]
  },
  {
   "cell_type": "code",
   "execution_count": 167,
   "metadata": {},
   "outputs": [
    {
     "data": {
      "text/latex": [
       "$$\\left[\\begin{matrix}0.5\\\\0.5\\\\1.5\\\\0\\end{matrix}\\right]$$"
      ],
      "text/plain": [
       "Matrix([\n",
       "[0.5],\n",
       "[0.5],\n",
       "[1.5],\n",
       "[  0]])"
      ]
     },
     "execution_count": 167,
     "metadata": {},
     "output_type": "execute_result"
    }
   ],
   "source": [
    "kp=5\n",
    "hip_desired = Matrix([0.5, 0.5])\n",
    "ankle_right_desired = Matrix([1.5, 0])\n",
    "x_des = Matrix([hip_desired, ankle_right_desired])\n",
    "x_des"
   ]
  },
  {
   "cell_type": "code",
   "execution_count": 176,
   "metadata": {},
   "outputs": [
    {
     "name": "stdout",
     "output_type": "stream",
     "text": [
      "Matrix([[20.7980172628412], [-22.1549651479114], [-34.7137774798543], [7.92496943748432], [67.4037096808214]])\n",
      "Matrix([[20.6659480696250], [-21.9357626984292], [-34.7106366846394], [7.80096694750196], [67.4754500119246]])\n",
      "Matrix([[20.2810304495740], [-21.2960110821189], [-34.7053922913102], [7.44374094264112], [67.6820599384748]])\n",
      "Matrix([[19.6749006878473], [-20.2858874669856], [-34.7087752946937], [6.89371968163365], [67.9995291368031]])\n",
      "Matrix([[18.8935289036121], [-18.9787088900525], [-34.7336463235983], [6.20690774938025], [68.3932141467565]])\n",
      "Matrix([[17.9892516320133], [-17.4586328286669], [-34.7901853172757], [5.44270586027933], [68.8237840829476]])\n",
      "Matrix([[17.0130227098830], [-15.8085166188023], [-34.8827169642306], [4.65372891154813], [69.2525297730152]])\n",
      "Matrix([[16.0085869852251], [-14.1006206264315], [-35.0089478335716], [3.87995186390773], [69.6449307729565]])\n",
      "Matrix([[15.0093144118689], [-12.3914306820643], [-35.1611440791387], [3.14730992529691], [69.9722893812321]])\n",
      "Matrix([[14.0374867726603], [-10.7204061177325], [-35.3282067228807], [2.46944283727178], [70.2118653189635]])\n",
      "Matrix([[13.1052723091816], [-9.11153331581974], [-35.4977076904753], [1.85091560110517], [70.3461437117496]])\n",
      "Matrix([[12.2165170105976], [-7.57633432572776], [-35.6573667690556], [1.29061444459492], [70.3617728134186]])\n",
      "Matrix([[11.3686702215036], [-6.11723691762086], [-35.7958418781021], [0.784604200355800], [70.2485076362907]])\n",
      "Matrix([[10.5544473916785], [-4.73064614322789], [-35.9029314629062], [0.328215874983907], [69.9983159052985]])\n",
      "Matrix([[9.76308368185854], [-3.40944852551671], [-35.9693596250785], [-0.0825899845920870], [69.6046850809491]])\n",
      "Matrix([[8.98120419566388], [-2.14494121679288], [-35.9862992190763], [-0.450436743554831], [69.0621076626630]])\n",
      "Matrix([[8.19344115629699], [-0.928313799148994], [-35.9447469790791], [-0.776179185681285], [68.3656953619436]])\n",
      "Matrix([[7.38299506988263], [0.248142732091225], [-35.8348358836709], [-1.05889516449876], [67.5108630501948]])\n",
      "Matrix([[6.53238929809261], [1.38993276885949], [-35.6451726077611], [-1.29619545665156], [66.4930210450812]])\n",
      "Matrix([[5.62470759976849], [2.49923745670452], [-35.3623295147471], [-1.48487653896766], [65.3072192519308]])\n",
      "Matrix([[4.64560121147513], [3.57374628435475], [-34.9706957005109], [-1.62195569991112], [63.9477075038218]])\n",
      "Matrix([[3.58623702368157], [4.60554329601582], [-34.4529700680850], [-1.70608167264349], [62.4074314476884]])\n",
      "Matrix([[2.44703968775528], [5.58034200964785], [-33.7915887618980], [-1.73919103576876], [60.6775886163611]])\n",
      "Matrix([[1.24151995419522], [6.47755123979950], [-32.9712109557602], [-1.72810547096706], [58.7475298049235]])\n",
      "Matrix([[-0.00117976482209570], [7.27171551022813], [-31.9819621076971], [-1.68563050254808], [56.6054589169092]])\n",
      "Matrix([[-1.23673853279743], [7.93564332690382], [-30.8225456860711], [-1.63075753227199], [54.2404417636560]])\n",
      "Matrix([[-2.41032458694349], [8.44495133994454], [-29.5019405200304], [-1.58784991340194], [51.6460140263941]])\n",
      "Matrix([[-3.46517412447468], [8.78301534381708], [-28.0386408146788], [-1.58509434084700], [48.8250838973735]])\n",
      "Matrix([[-4.35287639771509], [8.94488743235220], [-26.4573228173656], [-1.65281767496188], [45.7950387540888]])\n",
      "Matrix([[-5.04209371123618], [8.93901743965892], [-24.7838102125535], [-1.82249840142200], [42.5915347514677]])\n",
      "Matrix([[-5.52306586237159], [8.78660778864543], [-23.0393191136952], [-2.12780295653735], [39.2700798551592]])\n",
      "Matrix([[-5.80725123339603], [8.51968930209044], [-21.2334704959647], [-2.61057464236358], [35.9067614677354]])\n",
      "Matrix([[-5.92341703240078], [8.17971944649674], [-19.3509901880561], [-3.33991272761150], [32.6043067397876]])\n",
      "Matrix([[-5.90979452801055], [7.81453790628689], [-17.3098404188407], [-4.47257100327225], [29.5228706750401]])\n",
      "Matrix([[-5.76463765581034], [7.40900092978105], [-14.7720549335496], [-6.47302185701598], [27.0063128890992]])\n",
      "Matrix([[-4.72438386042665], [5.63265524216929], [-10.1011591089409], [-10.7383037344019], [25.9360961931426]])\n",
      "Matrix([[1.77814438056558], [-5.88980762861284], [-5.37964681474210], [-9.94658890641565], [23.0204828919043]])\n",
      "Matrix([[1.26565363139174], [-4.82717085898746], [-11.4438042964634], [-3.82848331614545], [18.8426251561300]])\n",
      "Matrix([[-1.26461893402182], [-0.0803368231914527], [-12.6683433437027], [-5.61601144799418], [18.5618049513213]])\n",
      "Matrix([[-3.83648909564507], [4.02720542909199], [-10.9953085753780], [-9.07574329663445], [17.7978777029238]])\n",
      "Matrix([[-6.23227275916644], [7.05589630629951], [-7.96341286850556], [-12.3660511867713], [15.6056713662938]])\n",
      "Matrix([[-8.17861885424911], [9.21618840107496], [-5.09413109725597], [-15.3905086885248], [12.9357310973474]])\n",
      "Matrix([[-10.0392117023087], [11.6316150452684], [-2.55374457786071], [-19.6784995945645], [10.7302897801107]])\n",
      "Matrix([[-11.8154613840209], [14.3881979579174], [2.70615639861590], [-29.4366554825595], [8.57614389294441]])\n",
      "Matrix([[-3.52237988409317], [0.389343740759478], [18.7626266942252], [-49.0889319674377], [6.00625964297107]])\n",
      "Matrix([[14.5853013131518], [-32.7625189163831], [8.67432427757170], [-31.9394089294999], [8.56151826181932]])\n",
      "Matrix([[18.4943539390352], [-43.7644073238400], [-21.2985876129943], [-12.9875989600274], [3.84993467418141]])\n",
      "Matrix([[3.00551037296446], [-13.5936821039356], [5.05707891741060], [32.8806394575036], [37.8756174152276]])\n",
      "Matrix([[2.29217744287639], [-12.9883850738940], [4.82097762548617], [7.38303868563723], [32.3383033806416]])\n",
      "Matrix([[2.88369060009701], [-15.1229402514971], [1.51519426538921], [3.25053198739727], [32.6131935255304]])\n",
      "Matrix([[3.81305719163272], [-17.5810336596037], [-0.781376758453237], [2.10461269254126], [35.3086171618732]])\n",
      "Matrix([[5.30501053335913], [-20.8414741822496], [-2.93432210176223], [1.97145991977162], [39.9847554631166]])\n",
      "Matrix([[7.56094362915256], [-25.4055521015211], [-5.74775100561015], [2.70385514177113], [47.3646423123442]])\n",
      "Matrix([[10.9902127267842], [-32.3204830189868], [-10.6668475452237], [5.23567407379908], [59.4363501085874]])\n",
      "Matrix([[16.8238963794595], [-44.6828923466588], [-21.9815469784288], [13.8708972697525], [80.8386155851343]])\n",
      "Matrix([[30.3328256464621], [-75.5649595824655], [-57.8582213545448], [53.8337376528651], [116.713541957439]])\n",
      "Matrix([[59.1511271049966], [-139.581380100765], [-116.876835701727], [211.441169238190], [-17.6586271267525]])\n",
      "Matrix([[39.4095367554783], [-77.5008027722742], [26.0942976381794], [67.8864873806844], [-144.296035094934]])\n",
      "Matrix([[43.6297031552179], [-72.4633372894293], [93.7161216195199], [-34.0118145911206], [-106.632338249928]])\n",
      "Matrix([[-21.9694393448286], [54.5790268961695], [107.809991647421], [-130.848766208223], [-86.5729419745902]])\n",
      "Matrix([[-45.8913178092609], [83.4135138099658], [21.0073073682283], [-57.9873320803704], [-54.1431859925555]])\n",
      "Matrix([[-36.7257805645089], [62.2335882975541], [0.186134808096475], [-31.9755853872710], [-41.9298087752835]])\n",
      "Matrix([[-31.5111664473254], [50.5585417729801], [-9.41627386173383], [-25.7663850439729], [-37.2331662708093]])\n",
      "Matrix([[-30.5367571273521], [45.7587523998640], [-23.5038609829821], [-27.1643429058622], [-38.8380223316828]])\n",
      "Matrix([[-43.0610508651092], [54.9036174680457], [-87.5542701202187], [-21.8146302626139], [-60.2812742453120]])\n",
      "Matrix([[-12.3983207356550], [24.4446666983191], [31.0320843781993], [76.5493177557870], [27.2206950312905]])\n",
      "Matrix([[-13.0217842704863], [23.9767787071396], [22.0680648537453], [19.2725854356286], [6.93540688198458]])\n",
      "Matrix([[-13.4153402971165], [23.4627099873069], [15.0005074376182], [8.40877676258584], [3.27765836213359]])\n",
      "Matrix([[-13.2530283548413], [22.6193582833497], [10.9511797999172], [4.14665477425144], [3.38078102853573]])\n",
      "Matrix([[-12.9732321764850], [21.7975281923972], [7.86859729062495], [2.03924629092862], [5.37172682730735]])\n",
      "Matrix([[-12.9006043837480], [21.2124192317006], [4.29494709642489], [1.36403626249715], [9.62522229578062]])\n",
      "Matrix([[-14.1317427037797], [21.5139108028613], [-4.20850179555628], [5.14532629794197], [18.2484465980627]])\n",
      "Matrix([[-18.0798444762641], [23.0879697843072], [-23.1684179967363], [33.2120219951037], [-0.586693114555231]])\n",
      "Matrix([[-11.2856125081450], [18.8304812852088], [1.09791493226358], [15.8314949098921], [-18.9404911969766]])\n"
     ]
    },
    {
     "name": "stdout",
     "output_type": "stream",
     "text": [
      "Matrix([[-9.50140054078999], [17.7982540907863], [5.77096798091807], [8.87291506980270], [-12.1471716769220]])\n",
      "Matrix([[-8.66273880227517], [17.3761290050951], [7.25005008851805], [7.40328493074288], [-7.81055036519815]])\n",
      "Matrix([[-7.99758265243778], [17.1985885310564], [8.88816351166952], [7.74316355567403], [-4.56764936624411]])\n",
      "Matrix([[-7.37248466694257], [17.3686020186711], [11.9625995748176], [9.29869585478845], [-1.30571445592225]])\n",
      "Matrix([[-6.73711307032948], [18.4299986560848], [19.0736835819402], [12.3858053997676], [3.51641705367792]])\n",
      "Matrix([[-5.96742538709686], [23.3780704985730], [43.5512155250028], [16.3176058667008], [15.4886855155837]])\n",
      "Matrix([[-9.81657403078147], [29.5141258810986], [67.1872072453308], [-140.490121003831], [-26.1878345084173]])\n",
      "Matrix([[-9.15263462992637], [8.46529716751925], [-21.2110318552743], [-34.9054014223504], [-29.7360312067555]])\n",
      "Matrix([[-10.5460757180890], [9.75787758300426], [-13.3919571095825], [-15.0983515493586], [-21.6547452491423]])\n",
      "Matrix([[-14.5172887625008], [10.5523905486336], [-9.32354151640610], [-4.82418570859707], [-20.2574649997224]])\n",
      "Matrix([[-19.6055358830077], [10.5455290436197], [-11.5813340124612], [9.80116667715769], [-23.1804207806019]])\n",
      "Matrix([[-8.96673269224831], [6.63923835387026], [-28.9343785035302], [27.3804378297487], [-29.0567330076963]])\n",
      "Matrix([[18.4691906678967], [0.641391312314704], [-36.0097711804686], [16.6209064096285], [-28.6788119399216]])\n",
      "Matrix([[25.9553907471109], [-1.21886163665691], [-24.7823325521293], [1.79325583296713], [-28.2271073469919]])\n",
      "Matrix([[25.5112006386814], [-2.06787501553551], [-13.6824362511649], [-4.81679555437744], [-32.0342748052514]])\n",
      "Matrix([[24.8595923369829], [-3.23661517517292], [-3.36107104132896], [-8.66040238419319], [-40.0991834997857]])\n",
      "Matrix([[26.2783809244448], [-5.27828922517602], [9.99155050356221], [-14.6393765838455], [-54.3566490433253]])\n",
      "Matrix([[33.3765033757785], [-9.81651575785334], [37.3360068460411], [-35.1702316932211], [-78.4185178283358]])\n",
      "Matrix([[54.3567360373976], [-21.3802392687451], [107.719320001259], [-129.042541552363], [-58.2330889495955]])\n",
      "Matrix([[26.5832885746600], [-10.7671427887736], [39.7510433341439], [-107.992226634036], [111.881340613624]])\n",
      "Matrix([[11.9454953385483], [-4.43017201418296], [-3.09236010998563], [-38.5681959994091], [83.8371026530036]])\n",
      "Matrix([[9.91731968251197], [-4.18939631631764], [-8.42416562442377], [-18.2787752228396], [58.9580662357049]])\n",
      "Matrix([[9.74412837714762], [-4.95097197229759], [-8.01235014356958], [-9.65174668449723], [44.8826693366564]])\n",
      "Matrix([[10.0216851330185], [-6.01223297753712], [-6.36414001072817], [-4.57630979494488], [36.0285198159330]])\n",
      "Matrix([[10.5066308462358], [-7.26756616530748], [-4.33309382918349], [-0.832673260941921], [29.8446858147845]])\n",
      "Matrix([[11.1630171175605], [-8.73610734360861], [-2.11094297093057], [2.40220292322790], [25.1578079782702]])\n",
      "Matrix([[12.0160483055623], [-10.4930961346031], [0.263347480957029], [5.53916465422753], [21.3869260058363]])\n",
      "Matrix([[13.1325059469425], [-12.6768925284892], [2.78444099908382], [8.88429715525363], [18.2352688708055]])\n",
      "Matrix([[14.6404231818864], [-15.5394869642303], [5.43453110241806], [12.8119602810135], [15.5599792205011]])\n",
      "Matrix([[16.7906246870900], [-19.5761950426974], [8.11306290498487], [18.0172359401920], [13.3082489118485]])\n",
      "Matrix([[20.0989198282313], [-25.8473534980407], [10.3376673695386], [26.2517895943694], [11.4508204141528]])\n",
      "Matrix([[25.4026771356453], [-36.4228850924899], [9.37922430653252], [43.4305798168975], [9.68532848400412]])\n",
      "Matrix([[26.3094201959671], [-42.7213829250851], [-13.7435727848327], [92.3206765281844], [5.82613101397962]])\n",
      "Matrix([[-24.7944421202225], [47.6491200258871], [-43.4035747139588], [111.496140748703], [14.7092235819995]])\n",
      "Matrix([[-39.0280602853642], [85.8602285472436], [23.9881209944639], [212.688142843998], [101.478436489558]])\n",
      "Matrix([[13.3203226770411], [-26.8873647126320], [-65.6694579790859], [-29.7348494035738], [-73.5665976764252]])\n",
      "Matrix([[2.57541006519916], [-0.425737485166917], [-27.3141437325551], [-13.9162423288909], [-38.6328460470747]])\n",
      "Matrix([[1.61136791219276], [3.16772269228029], [-15.7848540466676], [-7.73406853097968], [-30.5694504588697]])\n",
      "Matrix([[1.75533472285313], [3.66072566165655], [-9.85699750853513], [-4.04085606331827], [-27.8808430071622]])\n",
      "Matrix([[2.06269805366891], [3.36548867790314], [-6.21066574097816], [-1.11784657307830], [-27.2318836966299]])\n",
      "Matrix([[2.34501051038510], [2.80435593889089], [-3.82976906238034], [1.62053786164103], [-27.6532573948520]])\n",
      "Matrix([[2.56607196267585], [2.12561033326083], [-2.31771070615382], [4.45262881325603], [-28.8191568340758]])\n",
      "Matrix([[2.73630666891411], [1.36850293846057], [-1.51609905597712], [7.58809263517513], [-30.7083614864848]])\n",
      "Matrix([[2.89637876538655], [0.517159826374652], [-1.42022341175874], [11.3282627192706], [-33.5738163983024]])\n",
      "Matrix([[3.14521625528034], [-0.531663619799383], [-2.26743177210027], [16.3209685391020], [-38.0753738240560]])\n",
      "Matrix([[3.77274342419893], [-2.15221217498993], [-5.00810751122450], [24.2531485699454], [-45.6737840027135]])\n",
      "Matrix([[5.93728398948392], [-5.91618158888378], [-13.7172471388484], [40.6346857518781], [-59.4252868151993]])\n",
      "Matrix([[16.9034255115178], [-21.6175836768684], [-54.1130036161249], [89.2475273190028], [-74.6476087851184]])\n",
      "Matrix([[35.7344893249028], [-46.3164733675642], [-121.080766959768], [80.4475910171063], [100.754480829622]])\n",
      "Matrix([[8.36427519763906], [-9.93866202195879], [-26.1085730066129], [-5.66561866376676], [83.1354159062377]])\n",
      "Matrix([[2.16507251943675], [-2.33367569217939], [-6.92033444389856], [-9.19250051613125], [50.4253973539494]])\n",
      "Matrix([[-0.269678742539125], [0.426464926188522], [-1.49814909821378], [-6.79210037899960], [35.7024880543883]])\n",
      "Matrix([[-2.01603907568330], [2.46072170337856], [0.686207400388450], [-4.07641750916218], [27.8632331476218]])\n",
      "Matrix([[-3.88686375994768], [4.92311474111425], [1.62948891421564], [-1.34248079404496], [23.0670030349512]])\n",
      "Matrix([[-6.86431330867401], [9.44290025130617], [1.37424235810098], [1.73376970275011], [19.7414158631802]])\n",
      "Matrix([[-18.6784271316591], [30.0022435978600], [-9.19132686456708], [8.59573006067680], [17.7493617759982]])\n",
      "Matrix([[9.70905630251108], [-20.5812402119240], [17.5926669319657], [11.2087038682716], [13.4349898581355]])\n",
      "Matrix([[0.133605214470964], [-5.28959874595419], [16.9572723181986], [12.6923297250232], [8.02204666004049]])\n",
      "Matrix([[-2.89713450382661], [-1.01061963548430], [18.1726851506814], [14.6697969816400], [2.58756241909357]])\n",
      "Matrix([[-4.55863507436499], [1.09101152581555], [18.6911059296886], [15.3969154926027], [-3.17173430500564]])\n",
      "Matrix([[-5.36596498693770], [1.90684595661238], [18.2550537330355], [14.8609735176636], [-9.47690498355724]])\n",
      "Matrix([[-5.46925474450142], [1.61252768620816], [17.3766606584936], [13.1802573235520], [-16.2257896336394]])\n",
      "Matrix([[-4.90870974269597], [0.239422634920105], [16.5968700674378], [10.8874760447786], [-22.8426458343818]])\n",
      "Matrix([[-3.59328163060715], [-2.32421659215844], [16.2125922715592], [8.69605544043812], [-28.7716749278487]])\n",
      "Matrix([[-1.32163838163136], [-6.44286645561863], [16.9243041181140], [6.80184375911317], [-33.7539090047572]])\n",
      "Matrix([[2.45490840163483], [-13.3396753488880], [21.2191028116706], [3.99149766993431], [-37.8131740936672]])\n",
      "Matrix([[8.05426281647371], [-25.4432428436349], [42.9176629270358], [-10.3466327780576], [-39.8940938107673]])\n",
      "Matrix([[-39.9228363458063], [52.4881412718282], [41.0731979686606], [-37.1815927626770], [-38.3431706487264]])\n",
      "Matrix([[-27.2991579160582], [36.1779994802411], [6.43247907463535], [-2.42215417099586], [-45.6920636135964]])\n",
      "Matrix([[-22.4752307462149], [28.4437241408480], [4.06715016349476], [1.33876310170796], [-46.6534087647367]])\n",
      "Matrix([[-20.6822387457208], [25.6895681362843], [3.03899549570393], [1.76552797499357], [-46.3074277238866]])\n",
      "Matrix([[-19.7427870525468], [24.4991807586153], [2.01168826523613], [1.45538769118771], [-45.5388988862262]])\n",
      "Matrix([[-19.1585047113758], [23.9966130777452], [0.950803240869085], [0.872981305452771], [-44.6313284731064]])\n",
      "Matrix([[-18.7978141730067], [23.9059576865886], [-0.0962396233803935], [0.140411070761683], [-43.7061527132188]])\n",
      "Matrix([[-18.6243433334470], [24.1269282702536], [-1.08646050447612], [-0.710164583036025], [-42.8243602748223]])\n"
     ]
    },
    {
     "name": "stdout",
     "output_type": "stream",
     "text": [
      "Matrix([[-18.6214449022224], [24.6123430541960], [-1.97777675910131], [-1.68569495510827], [-42.0197213628486]])\n",
      "Matrix([[-18.7639234532554], [25.3188725839098], [-2.72384889880096], [-2.81322772406702], [-41.3140157566468]])\n",
      "Matrix([[-19.0078889632567], [26.1818513025610], [-3.27833897168656], [-4.11732897143930], [-40.7263701293072]])\n",
      "Matrix([[-19.2958549121807], [27.1102838538857], [-3.60903778159297], [-5.59115212161782], [-40.2767415748101]])\n",
      "Matrix([[-19.5744924183420], [28.0055735733021], [-3.71503125129246], [-7.17670829893784], [-39.9810982796146]])\n",
      "Matrix([[-19.8138503241627], [28.7940961105574], [-3.63465798295018], [-8.77190946130502], [-39.8411733006141]])\n",
      "Matrix([[-20.0146952389240], [29.4509903088068], [-3.43736063309599], [-10.2621965680354], [-39.8373826999630]])\n",
      "Matrix([[-20.2009563120397], [30.0006675374723], [-3.20561839567100], [-11.5544702298269], [-39.9306823192264]])\n",
      "Matrix([[-20.4054806218912], [30.4996171531998], [-3.01921778677740], [-12.5940289508010], [-40.0709393739485]])\n",
      "Matrix([[-20.6582732009803], [31.0163055338328], [-2.94869970580764], [-13.3628507514934], [-40.2056004766188]])\n",
      "Matrix([[-20.9805264995803], [31.6176491541342], [-3.05706534725637], [-13.8685345561832], [-40.2848322701121]])\n",
      "Matrix([[-21.3830753150734], [32.3631875710515], [-3.40566964573594], [-14.1325852114561], [-40.2629653314428]])\n",
      "Matrix([[-21.8668927658620], [33.3039584313432], [-4.06085145993307], [-14.1817247010448], [-40.0978729626634]])\n",
      "Matrix([[-22.4242992977331], [34.4827985154928], [-5.09923949639486], [-14.0420455520117], [-39.7501291956297]])\n",
      "Matrix([[-23.0410659096105], [35.9340357195677], [-6.61061861004300], [-13.7338305210750], [-39.1834671833420]])\n",
      "Matrix([[-23.7006354642796], [37.6820812638025], [-8.69850526158455], [-13.2637351495987], [-38.3675234070454]])\n",
      "Matrix([[-24.3910624671571], [39.7396025915045], [-11.4816644497531], [-12.6104347080759], [-37.2827915963454]])\n",
      "Matrix([[-25.1116431178961], [42.1050427666904], [-15.1042625386221], [-11.7005946500871], [-35.9262480553310]])\n",
      "Matrix([[-25.8707897439797], [44.7537713493213], [-19.7634002376170], [-10.3739677794115], [-34.3158105186228]])\n",
      "Matrix([[-26.6633325335686], [47.6061710809927], [-25.7560707865972], [-8.33569073576196], [-32.4941015703445]])\n",
      "Matrix([[-27.4113162265686], [50.4365408609070], [-33.5352341720007], [-5.08752492501633], [-30.5356437606244]])\n",
      "Matrix([[-27.8324039784751], [52.6430280638897], [-43.7347748043814], [0.169182980647101], [-28.5654608430854]])\n",
      "Matrix([[-27.1565574282924], [52.7178384277149], [-56.9946857327152], [8.59449110036915], [-26.8023983131419]])\n",
      "Matrix([[-23.6456444815394], [47.3154877764201], [-72.9940773041119], [21.3095008479734], [-25.6303746283395]])\n",
      "Matrix([[-14.5941183707240], [31.1760404042207], [-87.6435530816427], [37.2126893807055], [-25.5658820476138]])\n",
      "Matrix([[0.527302286920544], [3.02040737465158], [-91.0598985885770], [49.0581519943252], [-26.6595470876099]])\n",
      "Matrix([[15.3964397486405], [-25.3099536557635], [-77.8101904044607], [47.9116111708185], [-27.7265877886326]])\n",
      "Matrix([[23.3584137297238], [-40.9051377244285], [-57.6298163520988], [36.3400159760712], [-27.6351838120769]])\n",
      "Matrix([[25.0974797872764], [-44.7343180913360], [-41.0320595339808], [22.9859940746632], [-26.5972525468354]])\n",
      "Matrix([[23.8898531160236], [-42.9189354533507], [-30.2153736058621], [11.9748306800528], [-25.2313620209018]])\n",
      "Matrix([[21.7496514994762], [-39.3022892762761], [-23.7617833082375], [3.68432796469844], [-23.9006967553801]])\n",
      "Matrix([[19.4921870704583], [-35.4699444722976], [-20.0966916589256], [-2.52393423331867], [-22.7530085637000]])\n",
      "Matrix([[17.3807351273983], [-31.9532220870248], [-18.1707130289187], [-7.29459175571479], [-21.8429380805386]])\n",
      "Matrix([[15.4700069951683], [-28.8816742205316], [-17.3578057119752], [-11.1032969120771], [-21.1933427600528]])\n",
      "Matrix([[13.7414868331885], [-26.2447399915886], [-17.2931405848743], [-14.2835766522227], [-20.8196445384618]])\n",
      "Matrix([[12.1513233291577], [-23.9878595192956], [-17.7666228955432], [-17.0760717501969], [-20.7402520909840]])\n",
      "Matrix([[10.6449522510521], [-22.0460971931301], [-18.6629536018406], [-19.6676154087850], [-20.9830937863848]])\n",
      "Matrix([[9.15842482038333], [-20.3543770742441], [-19.9298002855609], [-22.2209439012298], [-21.5925744470238]])\n",
      "Matrix([[7.61277551759450], [-18.8483030617360], [-21.5626600962739], [-24.9018717939461], [-22.6399479448896]])\n",
      "Matrix([[5.90201528468082], [-17.4600196466064], [-23.6012239531477], [-27.9134729176114], [-24.2413186273223]])\n",
      "Matrix([[3.87169571264078], [-16.1094451272402], [-26.1367772162361], [-31.5543687437885], [-26.5918457891915]])\n",
      "Matrix([[1.28045940702724], [-14.6883076471700], [-29.3353486638005], [-36.3416403393880], [-30.0364048298351]])\n",
      "Matrix([[-2.27134829312189], [-13.0302900335841], [-33.4894002336264], [-43.3149146281073], [-35.2302858375121]])\n",
      "Matrix([[-7.47591497531393], [-10.8525998703432], [-39.1164258271863], [-54.9276877315720], [-43.5507033760049]])\n",
      "Matrix([[-15.5015904940447], [-7.65313927496987], [-46.9744227466014], [-78.3605493260193], [-58.3048042948712]])\n",
      "Matrix([[-26.3340594282199], [-3.05013429850422], [-54.3648850960712], [-143.456476527826], [-88.0636319625369]])\n",
      "Matrix([[47.2214507547369], [-23.8977606142485], [80.7790587614399], [-398.922374719754], [-67.4454916640224]])\n",
      "Matrix([[119.420516671114], [-51.3943543063269], [173.067604752955], [-1.29739601852939], [150.842081121309]])\n",
      "Matrix([[46.3282369744395], [-27.1159933522728], [73.6664091236522], [37.6477397023298], [79.5556883244294]])\n",
      "Matrix([[18.0719788076080], [-16.8226468609841], [47.7673228540665], [30.2151728263363], [52.5855383846192]])\n",
      "Matrix([[-0.255444752792159], [-9.50917782830816], [39.2530787476523], [23.4683623751362], [40.0875820745086]])\n",
      "Matrix([[-15.8191340777395], [-2.49932012307609], [34.9927103039431], [21.0453778839316], [33.3974934686749]])\n",
      "Matrix([[-27.3486608688441], [4.24420436312762], [27.5055259444867], [23.9208376953480], [29.8140609662631]])\n",
      "Matrix([[-29.2405243345323], [8.11252521502656], [15.8024756770711], [26.4719002387260], [28.6231440918803]])\n",
      "Matrix([[-24.1333249125626], [8.65027253124270], [6.81376446994975], [23.0941253603646], [29.5138489696614]])\n",
      "Matrix([[-17.9852966538013], [7.99844005453208], [2.21640404971278], [16.0910564910795], [32.2064193259312]])\n",
      "Matrix([[-12.4909461711384], [7.21300155634547], [-0.274900370590334], [8.26655410653717], [36.8423031958842]])\n",
      "Matrix([[-7.73912447650483], [6.42864192962667], [-2.30118108372893], [0.513558991717476], [44.4182233798406]])\n",
      "Matrix([[-3.93541386589928], [5.56012533511655], [-4.25591880495681], [-8.13254057919475], [58.2150267194520]])\n",
      "Matrix([[-2.05477494853834], [5.10229089599588], [-3.47043050298718], [-25.4950947990733], [90.5134296634104]])\n",
      "Matrix([[-18.0920303169335], [24.1286876683241], [72.4774644469357], [-150.440910812045], [179.242166297371]])\n",
      "Matrix([[-15.3713978433416], [28.0089387474372], [81.5361028119944], [-38.0441522175568], [-123.867334290394]])\n",
      "Matrix([[-4.15270808080021], [12.0005224157030], [26.5134542702012], [-0.0897666548277791], [-58.7610936726814]])\n",
      "Matrix([[-2.05545785073982], [8.26154552357264], [15.7777529311249], [4.13839325335332], [-34.7362213561408]])\n",
      "Matrix([[-1.44947973117238], [6.73601696532072], [11.9853961860187], [5.59154777319663], [-22.3023350292862]])\n",
      "Matrix([[-1.76434259756502], [6.75227215653469], [9.98514757354167], [7.03660038301431], [-14.2040192494228]])\n",
      "Matrix([[-2.24631208779958], [6.48417274458822], [3.30696706806537], [16.6832844352742], [-9.78495838640887]])\n",
      "Matrix([[4.20158893523052], [-5.05574738497777], [10.7131891691061], [16.9593307185425], [-6.33917050411736]])\n",
      "Matrix([[4.23505197902638], [-5.75937783400753], [15.1416621232948], [17.3058687977997], [-4.49943625846916]])\n",
      "Matrix([[3.60551489766814], [-6.15656788856741], [19.9876387145449], [19.5188071098874], [-3.51298192833169]])\n",
      "Matrix([[1.75813261481397], [-5.68297126241822], [25.9909875778438], [22.5932902061655], [-3.30250038169864]])\n",
      "Matrix([[-1.54370212103946], [-3.75352585421211], [32.0622019896881], [26.3843080880737], [-4.03759590898857]])\n",
      "Matrix([[-5.20383601918614], [-0.740143893049700], [36.1613523062379], [30.3362541494149], [-5.71002385702779]])\n",
      "Matrix([[-7.33609429421549], [1.99239032670577], [36.9452491267691], [33.1005320448584], [-8.23967154474648]])\n"
     ]
    },
    {
     "name": "stdout",
     "output_type": "stream",
     "text": [
      "Matrix([[-6.96016512412170], [3.22131868362874], [34.6733942312786], [33.4528252309989], [-11.5181163138042]])\n",
      "Matrix([[-4.58444826290712], [2.56112887595546], [30.4647118049188], [31.3717874638182], [-15.2236550633640]])\n",
      "Matrix([[-1.72398800086053], [0.367400339382651], [25.1972301382096], [27.8902976680179], [-18.8785454981932]])\n",
      "Matrix([[-0.390751601510706], [-2.30533280755169], [19.2575905754081], [23.8768391080864], [-22.2479039083710]])\n",
      "Matrix([[-2.12735461614524], [-3.84104869959787], [13.3402185730882], [18.8311405771677], [-25.6278695661814]])\n",
      "Matrix([[-6.47036493148212], [-3.27749581055256], [8.92607570202239], [11.2268510032357], [-29.4591101380712]])\n",
      "Matrix([[-11.4101297114607], [-1.24579634729355], [7.03848313392900], [0.110767683991858], [-33.7969749954531]])\n",
      "Matrix([[-15.4386054840984], [0.971842553681934], [8.00307584337384], [-15.7366912756670], [-38.7710193019291]])\n",
      "Matrix([[-17.2640165167304], [1.14891821069795], [18.4050932358480], [-42.5151007388334], [-44.5576112621269]])\n",
      "Matrix([[-24.4885479377767], [-5.69951637942140], [89.1929737857944], [-60.7746395267979], [-29.2320589911216]])\n",
      "Matrix([[-40.1332173106641], [5.38600665004582], [82.7438908404811], [34.0888869845186], [5.62324831450779]])\n",
      "Matrix([[-32.2709810677221], [10.8602037180671], [38.6518308565654], [40.7860666166093], [-1.89152000202121]])\n",
      "Matrix([[-25.8559288393246], [12.4426915857009], [23.8975060185736], [31.2423574047126], [-6.22877330777302]])\n",
      "Matrix([[-21.2509504218467], [13.8357852723530], [17.9338504862923], [22.4712558102618], [-7.22289284456539]])\n",
      "Matrix([[-17.8374850571613], [15.0615429681152], [14.6473339777155], [16.2616505844809], [-6.54129743217321]])\n",
      "Matrix([[-15.6330516985081], [15.8562073600871], [12.5304055583476], [12.4131677731846], [-5.03249076392921]])\n",
      "Matrix([[-14.4576055506355], [16.3026897087742], [11.1466452916013], [9.91549842969449], [-2.84739353000125]])\n",
      "Matrix([[-14.0259541953825], [16.5874520557679], [10.2450429420926], [7.88656547196767], [0.207755377012823]])\n",
      "Matrix([[-14.1296788308004], [16.8767457355742], [9.70522788834949], [5.68466166965317], [4.40819140067369]])\n",
      "Matrix([[-14.6362146820932], [17.3035149363483], [9.53341345214989], [2.81625673019920], [9.94401393954723]])\n",
      "Matrix([[-15.4841735772160], [17.9979703912191], [9.78896569542809], [-1.04093805839706], [16.7778901846642]])\n",
      "Matrix([[-16.7294215015556], [19.1994975491680], [10.4996348833584], [-6.03560385132862], [24.6245710027098]])\n",
      "Matrix([[-18.6127247885562], [21.4338880197428], [11.5993513969606], [-12.2584399128951], [33.1029767500311]])\n",
      "Matrix([[-21.6689144663490], [25.8102719542802], [12.7335974121845], [-19.9184536697761], [42.1410074895165]])\n",
      "Matrix([[-27.0101222639325], [34.6426047618221], [12.7714446874257], [-29.6433445725045], [53.0305244671591]])\n",
      "Matrix([[-37.7219733525809], [53.9181772790965], [7.88467438323821], [-42.9303933939082], [71.6758178207495]])\n",
      "Matrix([[-63.6771905188344], [103.230574369032], [-28.4015295068432], [-57.8940693289478], [136.479480908261]])\n",
      "Matrix([[123.684531531367], [-215.896981331692], [40.0279677568911], [-249.665674574696], [749.357030688725]])\n",
      "Matrix([[42.1742876760466], [-78.9820220465451], [50.8991067481234], [79.5594581047269], [-194.304332499019]])\n",
      "Matrix([[17.6736918047126], [-35.8004948122808], [16.0747188095552], [46.7423195127813], [-73.5180952331172]])\n",
      "Matrix([[11.3219173312306], [-25.1848113889844], [12.1612205823296], [32.9425582098094], [-39.5211149125148]])\n",
      "Matrix([[7.78102469943043], [-19.6603832800506], [11.4578451961818], [25.8051304094354], [-23.0239631955122]])\n",
      "Matrix([[5.17363420346946], [-15.9619381040940], [11.5519668818204], [21.4740610408803], [-12.4991881166812]])\n",
      "Matrix([[2.94673854944592], [-13.1241630385669], [11.9172128606588], [18.5363699264773], [-4.62060775459260]])\n",
      "Matrix([[0.900529913048376], [-10.7359917012889], [12.3126793555356], [16.3452288569744], [1.83296849433574]])\n",
      "Matrix([[-0.988221952399950], [-8.60326611273281], [12.5454857253595], [14.5363029250806], [7.35372332727552]])\n",
      "Matrix([[-2.62123393045259], [-6.66198406448648], [12.4529435923678], [12.8495561785619], [12.1399114971341]])\n",
      "Matrix([[-3.84957376372540], [-4.93620679897723], [11.9371912522384], [11.0615064570560], [16.2594718511750]])\n",
      "Matrix([[-4.56858886516461], [-3.48559923746007], [10.9739887747760], [8.98847392876660], [19.7098691048536]])\n",
      "Matrix([[-4.76854841390361], [-2.36277173470484], [9.57642568989340], [6.52763928428528], [22.4417157194366]])\n",
      "Matrix([[-4.51051536190895], [-1.61123311174878], [7.76632566907378], [3.68912008664009], [24.3843879573732]])\n",
      "Matrix([[-3.87687396395921], [-1.28873565269843], [5.59289801826900], [0.597066951104318], [25.4808974361159]])\n",
      "Matrix([[-2.94058212233113], [-1.48269266662706], [3.17852184944879], [-2.54259029526231], [25.7150080916454]])\n"
     ]
    },
    {
     "ename": "KeyboardInterrupt",
     "evalue": "",
     "output_type": "error",
     "traceback": [
      "\u001b[0;31m---------------------------------------------------------------------------\u001b[0m",
      "\u001b[0;31mKeyboardInterrupt\u001b[0m                         Traceback (most recent call last)",
      "\u001b[0;32m<ipython-input-176-3e09a058f427>\u001b[0m in \u001b[0;36m<module>\u001b[0;34m()\u001b[0m\n\u001b[1;32m      5\u001b[0m     \u001b[0mJpinv\u001b[0m \u001b[0;34m=\u001b[0m \u001b[0mJ\u001b[0m\u001b[0;34m.\u001b[0m\u001b[0msubs\u001b[0m\u001b[0;34m(\u001b[0m\u001b[0mvalues\u001b[0m\u001b[0;34m)\u001b[0m\u001b[0;34m.\u001b[0m\u001b[0mpinv\u001b[0m\u001b[0;34m(\u001b[0m\u001b[0;34m)\u001b[0m\u001b[0;34m\u001b[0m\u001b[0m\n\u001b[1;32m      6\u001b[0m     \u001b[0mx_mes_hip\u001b[0m \u001b[0;34m=\u001b[0m \u001b[0mhip_mass_center_pos_equation\u001b[0m\u001b[0;34m.\u001b[0m\u001b[0msubs\u001b[0m\u001b[0;34m(\u001b[0m\u001b[0mvalues\u001b[0m\u001b[0;34m)\u001b[0m\u001b[0;34m.\u001b[0m\u001b[0mto_matrix\u001b[0m\u001b[0;34m(\u001b[0m\u001b[0minertial_frame\u001b[0m\u001b[0;34m)\u001b[0m\u001b[0;34m\u001b[0m\u001b[0m\n\u001b[0;32m----> 7\u001b[0;31m     \u001b[0mx_mes_ankle_right\u001b[0m \u001b[0;34m=\u001b[0m \u001b[0mankle_right_pos_equation\u001b[0m\u001b[0;34m.\u001b[0m\u001b[0msubs\u001b[0m\u001b[0;34m(\u001b[0m\u001b[0mvalues\u001b[0m\u001b[0;34m)\u001b[0m\u001b[0;34m.\u001b[0m\u001b[0mto_matrix\u001b[0m\u001b[0;34m(\u001b[0m\u001b[0minertial_frame\u001b[0m\u001b[0;34m)\u001b[0m\u001b[0;34m\u001b[0m\u001b[0m\n\u001b[0m\u001b[1;32m      8\u001b[0m     \u001b[0mx_mes\u001b[0m \u001b[0;34m=\u001b[0m \u001b[0mMatrix\u001b[0m\u001b[0;34m(\u001b[0m\u001b[0;34m[\u001b[0m\u001b[0mx_mes_hip\u001b[0m\u001b[0;34m[\u001b[0m\u001b[0;36m0\u001b[0m\u001b[0;34m]\u001b[0m\u001b[0;34m,\u001b[0m \u001b[0mx_mes_hip\u001b[0m\u001b[0;34m[\u001b[0m\u001b[0;36m1\u001b[0m\u001b[0;34m]\u001b[0m\u001b[0;34m,\u001b[0m \u001b[0mx_mes_ankle_right\u001b[0m\u001b[0;34m[\u001b[0m\u001b[0;36m0\u001b[0m\u001b[0;34m]\u001b[0m\u001b[0;34m,\u001b[0m \u001b[0mx_mes_ankle_right\u001b[0m\u001b[0;34m[\u001b[0m\u001b[0;36m1\u001b[0m\u001b[0;34m]\u001b[0m\u001b[0;34m]\u001b[0m\u001b[0;34m)\u001b[0m\u001b[0;34m\u001b[0m\u001b[0m\n\u001b[1;32m      9\u001b[0m     \u001b[0mdq\u001b[0m\u001b[0;34m=\u001b[0m\u001b[0mJpinv\u001b[0m\u001b[0;34m*\u001b[0m\u001b[0;34m(\u001b[0m \u001b[0mx_des\u001b[0m \u001b[0;34m+\u001b[0m \u001b[0mkp\u001b[0m\u001b[0;34m*\u001b[0m\u001b[0;34m(\u001b[0m\u001b[0mx_des\u001b[0m \u001b[0;34m-\u001b[0m \u001b[0mx_mes\u001b[0m \u001b[0;34m)\u001b[0m\u001b[0;34m)\u001b[0m\u001b[0;34m\u001b[0m\u001b[0m\n",
      "\u001b[0;32m/usr/local/lib/python2.7/dist-packages/sympy-1.0-py2.7.egg/sympy/physics/vector/vector.pyc\u001b[0m in \u001b[0;36msubs\u001b[0;34m(self, *args, **kwargs)\u001b[0m\n\u001b[1;32m    646\u001b[0m         \u001b[0mov\u001b[0m \u001b[0;34m=\u001b[0m \u001b[0mVector\u001b[0m\u001b[0;34m(\u001b[0m\u001b[0;36m0\u001b[0m\u001b[0;34m)\u001b[0m\u001b[0;34m\u001b[0m\u001b[0m\n\u001b[1;32m    647\u001b[0m         \u001b[0;32mfor\u001b[0m \u001b[0mi\u001b[0m\u001b[0;34m,\u001b[0m \u001b[0mv\u001b[0m \u001b[0;32min\u001b[0m \u001b[0menumerate\u001b[0m\u001b[0;34m(\u001b[0m\u001b[0mself\u001b[0m\u001b[0;34m.\u001b[0m\u001b[0margs\u001b[0m\u001b[0;34m)\u001b[0m\u001b[0;34m:\u001b[0m\u001b[0;34m\u001b[0m\u001b[0m\n\u001b[0;32m--> 648\u001b[0;31m             \u001b[0mov\u001b[0m \u001b[0;34m+=\u001b[0m \u001b[0mVector\u001b[0m\u001b[0;34m(\u001b[0m\u001b[0;34m[\u001b[0m\u001b[0;34m(\u001b[0m\u001b[0mv\u001b[0m\u001b[0;34m[\u001b[0m\u001b[0;36m0\u001b[0m\u001b[0;34m]\u001b[0m\u001b[0;34m.\u001b[0m\u001b[0msubs\u001b[0m\u001b[0;34m(\u001b[0m\u001b[0;34m*\u001b[0m\u001b[0margs\u001b[0m\u001b[0;34m,\u001b[0m \u001b[0;34m**\u001b[0m\u001b[0mkwargs\u001b[0m\u001b[0;34m)\u001b[0m\u001b[0;34m,\u001b[0m \u001b[0mv\u001b[0m\u001b[0;34m[\u001b[0m\u001b[0;36m1\u001b[0m\u001b[0;34m]\u001b[0m\u001b[0;34m)\u001b[0m\u001b[0;34m]\u001b[0m\u001b[0;34m)\u001b[0m\u001b[0;34m\u001b[0m\u001b[0m\n\u001b[0m\u001b[1;32m    649\u001b[0m         \u001b[0;32mreturn\u001b[0m \u001b[0mov\u001b[0m\u001b[0;34m\u001b[0m\u001b[0m\n\u001b[1;32m    650\u001b[0m \u001b[0;34m\u001b[0m\u001b[0m\n",
      "\u001b[0;32m/usr/local/lib/python2.7/dist-packages/sympy-1.0-py2.7.egg/sympy/physics/vector/vector.pyc\u001b[0m in \u001b[0;36m__add__\u001b[0;34m(self, other)\u001b[0m\n\u001b[1;32m     64\u001b[0m         \u001b[0;34m\"\"\"The add operator for Vector. \"\"\"\u001b[0m\u001b[0;34m\u001b[0m\u001b[0m\n\u001b[1;32m     65\u001b[0m         \u001b[0mother\u001b[0m \u001b[0;34m=\u001b[0m \u001b[0m_check_vector\u001b[0m\u001b[0;34m(\u001b[0m\u001b[0mother\u001b[0m\u001b[0;34m)\u001b[0m\u001b[0;34m\u001b[0m\u001b[0m\n\u001b[0;32m---> 66\u001b[0;31m         \u001b[0;32mreturn\u001b[0m \u001b[0mVector\u001b[0m\u001b[0;34m(\u001b[0m\u001b[0mself\u001b[0m\u001b[0;34m.\u001b[0m\u001b[0margs\u001b[0m \u001b[0;34m+\u001b[0m \u001b[0mother\u001b[0m\u001b[0;34m.\u001b[0m\u001b[0margs\u001b[0m\u001b[0;34m)\u001b[0m\u001b[0;34m\u001b[0m\u001b[0m\n\u001b[0m\u001b[1;32m     67\u001b[0m \u001b[0;34m\u001b[0m\u001b[0m\n\u001b[1;32m     68\u001b[0m     \u001b[0;32mdef\u001b[0m \u001b[0m__and__\u001b[0m\u001b[0;34m(\u001b[0m\u001b[0mself\u001b[0m\u001b[0;34m,\u001b[0m \u001b[0mother\u001b[0m\u001b[0;34m)\u001b[0m\u001b[0;34m:\u001b[0m\u001b[0;34m\u001b[0m\u001b[0m\n",
      "\u001b[0;32m/usr/local/lib/python2.7/dist-packages/sympy-1.0-py2.7.egg/sympy/physics/vector/vector.pyc\u001b[0m in \u001b[0;36m__init__\u001b[0;34m(self, inlist)\u001b[0m\n\u001b[1;32m     53\u001b[0m         \u001b[0;31m# This code is to remove empty frames from the list\u001b[0m\u001b[0;34m\u001b[0m\u001b[0;34m\u001b[0m\u001b[0m\n\u001b[1;32m     54\u001b[0m         \u001b[0;32mwhile\u001b[0m \u001b[0mi\u001b[0m \u001b[0;34m<\u001b[0m \u001b[0mlen\u001b[0m\u001b[0;34m(\u001b[0m\u001b[0mself\u001b[0m\u001b[0;34m.\u001b[0m\u001b[0margs\u001b[0m\u001b[0;34m)\u001b[0m\u001b[0;34m:\u001b[0m\u001b[0;34m\u001b[0m\u001b[0m\n\u001b[0;32m---> 55\u001b[0;31m             \u001b[0;32mif\u001b[0m \u001b[0mself\u001b[0m\u001b[0;34m.\u001b[0m\u001b[0margs\u001b[0m\u001b[0;34m[\u001b[0m\u001b[0mi\u001b[0m\u001b[0;34m]\u001b[0m\u001b[0;34m[\u001b[0m\u001b[0;36m0\u001b[0m\u001b[0;34m]\u001b[0m \u001b[0;34m==\u001b[0m \u001b[0mMatrix\u001b[0m\u001b[0;34m(\u001b[0m\u001b[0;34m[\u001b[0m\u001b[0;36m0\u001b[0m\u001b[0;34m,\u001b[0m \u001b[0;36m0\u001b[0m\u001b[0;34m,\u001b[0m \u001b[0;36m0\u001b[0m\u001b[0;34m]\u001b[0m\u001b[0;34m)\u001b[0m\u001b[0;34m:\u001b[0m\u001b[0;34m\u001b[0m\u001b[0m\n\u001b[0m\u001b[1;32m     56\u001b[0m                 \u001b[0mself\u001b[0m\u001b[0;34m.\u001b[0m\u001b[0margs\u001b[0m\u001b[0;34m.\u001b[0m\u001b[0mremove\u001b[0m\u001b[0;34m(\u001b[0m\u001b[0mself\u001b[0m\u001b[0;34m.\u001b[0m\u001b[0margs\u001b[0m\u001b[0;34m[\u001b[0m\u001b[0mi\u001b[0m\u001b[0;34m]\u001b[0m\u001b[0;34m)\u001b[0m\u001b[0;34m\u001b[0m\u001b[0m\n\u001b[1;32m     57\u001b[0m                 \u001b[0mi\u001b[0m \u001b[0;34m-=\u001b[0m \u001b[0;36m1\u001b[0m\u001b[0;34m\u001b[0m\u001b[0m\n",
      "\u001b[0;32m/usr/local/lib/python2.7/dist-packages/sympy-1.0-py2.7.egg/sympy/matrices/immutable.pyc\u001b[0m in \u001b[0;36m__new__\u001b[0;34m(cls, *args, **kwargs)\u001b[0m\n\u001b[1;32m     49\u001b[0m         \u001b[0;32mreturn\u001b[0m \u001b[0mBasic\u001b[0m\u001b[0;34m.\u001b[0m\u001b[0m__new__\u001b[0m\u001b[0;34m(\u001b[0m\u001b[0mcls\u001b[0m\u001b[0;34m,\u001b[0m \u001b[0mrows\u001b[0m\u001b[0;34m,\u001b[0m \u001b[0mcols\u001b[0m\u001b[0;34m,\u001b[0m \u001b[0mmat\u001b[0m\u001b[0;34m)\u001b[0m\u001b[0;34m\u001b[0m\u001b[0m\n\u001b[1;32m     50\u001b[0m \u001b[0;34m\u001b[0m\u001b[0m\n\u001b[0;32m---> 51\u001b[0;31m     \u001b[0;32mdef\u001b[0m \u001b[0m__new__\u001b[0m\u001b[0;34m(\u001b[0m\u001b[0mcls\u001b[0m\u001b[0;34m,\u001b[0m \u001b[0;34m*\u001b[0m\u001b[0margs\u001b[0m\u001b[0;34m,\u001b[0m \u001b[0;34m**\u001b[0m\u001b[0mkwargs\u001b[0m\u001b[0;34m)\u001b[0m\u001b[0;34m:\u001b[0m\u001b[0;34m\u001b[0m\u001b[0m\n\u001b[0m\u001b[1;32m     52\u001b[0m         \u001b[0;32mreturn\u001b[0m \u001b[0mcls\u001b[0m\u001b[0;34m.\u001b[0m\u001b[0m_new\u001b[0m\u001b[0;34m(\u001b[0m\u001b[0;34m*\u001b[0m\u001b[0margs\u001b[0m\u001b[0;34m,\u001b[0m \u001b[0;34m**\u001b[0m\u001b[0mkwargs\u001b[0m\u001b[0;34m)\u001b[0m\u001b[0;34m\u001b[0m\u001b[0m\n\u001b[1;32m     53\u001b[0m \u001b[0;34m\u001b[0m\u001b[0m\n",
      "\u001b[0;31mKeyboardInterrupt\u001b[0m: "
     ]
    }
   ],
   "source": [
    "hip_mass_center_pos_equation = ankle_left.pos_from(hip_mass_center).express(inertial_frame).simplify()\n",
    "\n",
    "for i in range(0,int(final_time * frames_per_sec)):#\n",
    "    values = {lower_leg_length: 0.4, upper_leg_length: 0.54, hip_length: 0.2, theta0: y[i, 0], theta1: y[i, 1], theta2: y[i, 2], theta3: y[i, 3], theta4: y[i, 4]}\n",
    "    Jpinv = J.subs(values).pinv()\n",
    "    x_mes_hip = hip_mass_center_pos_equation.subs(values).to_matrix(inertial_frame)\n",
    "    x_mes_ankle_right = ankle_right_pos_equation.subs(values).to_matrix(inertial_frame)\n",
    "    x_mes = Matrix([x_mes_hip[0], x_mes_hip[1], x_mes_ankle_right[0], x_mes_ankle_right[1]])\n",
    "    dq=Jpinv*( x_des + kp*(x_des - x_mes ))\n",
    "    print (dq)\n"
   ]
  },
  {
   "cell_type": "code",
   "execution_count": 161,
   "metadata": {
    "collapsed": true
   },
   "outputs": [],
   "source": [
    "\n",
    "\n"
   ]
  },
  {
   "cell_type": "code",
   "execution_count": null,
   "metadata": {
    "collapsed": true
   },
   "outputs": [],
   "source": [
    "\n"
   ]
  }
 ],
 "metadata": {
  "kernelspec": {
   "display_name": "Python 2",
   "language": "python",
   "name": "python2"
  },
  "language_info": {
   "codemirror_mode": {
    "name": "ipython",
    "version": 2
   },
   "file_extension": ".py",
   "mimetype": "text/x-python",
   "name": "python",
   "nbconvert_exporter": "python",
   "pygments_lexer": "ipython2",
   "version": "2.7.12"
  }
 },
 "nbformat": 4,
 "nbformat_minor": 2
}
