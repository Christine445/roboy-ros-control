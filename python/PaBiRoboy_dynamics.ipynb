{
 "cells": [
  {
   "cell_type": "markdown",
   "metadata": {},
   "source": [
    "# PaBiRoboy dynamic equations"
   ]
  },
  {
   "cell_type": "markdown",
   "metadata": {},
   "source": [
    "First, import the necessary functions from SymPy that will allow us to construct time varying vectors in the reference frames."
   ]
  },
  {
   "cell_type": "code",
   "execution_count": 1,
   "metadata": {
    "collapsed": true
   },
   "outputs": [],
   "source": [
    "from __future__ import print_function, division\n",
    "from sympy import symbols, simplify\n",
    "from sympy import trigsimp\n",
    "from sympy.physics.mechanics import dynamicsymbols, ReferenceFrame, Point, inertia, RigidBody, KanesMethod\n",
    "from numpy import deg2rad, rad2deg, array, zeros, linspace"
   ]
  },
  {
   "cell_type": "markdown",
   "metadata": {},
   "source": [
    "SymPy has a rich printing system. Here we initialize printing so that all of the mathematical equations are rendered in standard mathematical notation."
   ]
  },
  {
   "cell_type": "code",
   "execution_count": 2,
   "metadata": {
    "collapsed": true
   },
   "outputs": [],
   "source": [
    "from sympy.physics.vector import init_vprinting\n",
    "init_vprinting(use_latex='mathjax', pretty_print=False)"
   ]
  },
  {
   "cell_type": "markdown",
   "metadata": {},
   "source": [
    "## Interial frames"
   ]
  },
  {
   "cell_type": "code",
   "execution_count": 3,
   "metadata": {
    "collapsed": true
   },
   "outputs": [],
   "source": [
    "inertial_frame = ReferenceFrame('I')\n",
    "lower_leg_left_frame = ReferenceFrame('R_1')\n",
    "upper_leg_left_frame = ReferenceFrame('R_2')\n",
    "hip_frame = ReferenceFrame('R_3')\n",
    "upper_leg_right_frame = ReferenceFrame('R_4')\n",
    "lower_leg_right_frame = ReferenceFrame('R_5')"
   ]
  },
  {
   "cell_type": "markdown",
   "metadata": {},
   "source": [
    "## Angles"
   ]
  },
  {
   "cell_type": "code",
   "execution_count": 4,
   "metadata": {},
   "outputs": [],
   "source": [
    "theta0, theta1, theta2, theta3, theta4, theta5 = dynamicsymbols('theta0, theta1, theta2, theta3, theta4, theta5')"
   ]
  },
  {
   "cell_type": "code",
   "execution_count": 5,
   "metadata": {},
   "outputs": [
    {
     "data": {
      "text/latex": [
       "$$\\left[\\begin{matrix}\\operatorname{cos}\\left(\\theta_{0}\\right) & \\operatorname{sin}\\left(\\theta_{0}\\right) & 0\\\\- \\operatorname{sin}\\left(\\theta_{0}\\right) & \\operatorname{cos}\\left(\\theta_{0}\\right) & 0\\\\0 & 0 & 1\\end{matrix}\\right]$$"
      ],
      "text/plain": [
       "Matrix([\n",
       "[ cos(theta0), sin(theta0), 0],\n",
       "[-sin(theta0), cos(theta0), 0],\n",
       "[           0,           0, 1]])"
      ]
     },
     "execution_count": 5,
     "metadata": {},
     "output_type": "execute_result"
    }
   ],
   "source": [
    "lower_leg_left_frame.orient(inertial_frame, 'Axis', (theta0, inertial_frame.z))\n",
    "lower_leg_left_frame.dcm(inertial_frame)"
   ]
  },
  {
   "cell_type": "code",
   "execution_count": 6,
   "metadata": {},
   "outputs": [
    {
     "data": {
      "text/latex": [
       "$$\\left[\\begin{matrix}\\operatorname{cos}\\left(\\theta_{0} + \\theta_{1}\\right) & \\operatorname{sin}\\left(\\theta_{0} + \\theta_{1}\\right) & 0\\\\- \\operatorname{sin}\\left(\\theta_{0} + \\theta_{1}\\right) & \\operatorname{cos}\\left(\\theta_{0} + \\theta_{1}\\right) & 0\\\\0 & 0 & 1\\end{matrix}\\right]$$"
      ],
      "text/plain": [
       "Matrix([\n",
       "[ cos(theta0 + theta1), sin(theta0 + theta1), 0],\n",
       "[-sin(theta0 + theta1), cos(theta0 + theta1), 0],\n",
       "[                    0,                    0, 1]])"
      ]
     },
     "execution_count": 6,
     "metadata": {},
     "output_type": "execute_result"
    }
   ],
   "source": [
    "upper_leg_left_frame.orient(lower_leg_left_frame, 'Axis', (theta1, lower_leg_left_frame.z))\n",
    "simplify(upper_leg_left_frame.dcm(inertial_frame))"
   ]
  },
  {
   "cell_type": "code",
   "execution_count": 7,
   "metadata": {},
   "outputs": [
    {
     "data": {
      "text/latex": [
       "$$\\left[\\begin{matrix}\\operatorname{cos}\\left(\\theta_{0} + \\theta_{1} + \\theta_{2}\\right) & \\operatorname{sin}\\left(\\theta_{0} + \\theta_{1} + \\theta_{2}\\right) & 0\\\\- \\operatorname{sin}\\left(\\theta_{0} + \\theta_{1} + \\theta_{2}\\right) & \\operatorname{cos}\\left(\\theta_{0} + \\theta_{1} + \\theta_{2}\\right) & 0\\\\0 & 0 & 1\\end{matrix}\\right]$$"
      ],
      "text/plain": [
       "Matrix([\n",
       "[ cos(theta0 + theta1 + theta2), sin(theta0 + theta1 + theta2), 0],\n",
       "[-sin(theta0 + theta1 + theta2), cos(theta0 + theta1 + theta2), 0],\n",
       "[                             0,                             0, 1]])"
      ]
     },
     "execution_count": 7,
     "metadata": {},
     "output_type": "execute_result"
    }
   ],
   "source": [
    "hip_frame.orient(upper_leg_left_frame, 'Axis', (theta2, upper_leg_left_frame.z))\n",
    "simplify(hip_frame.dcm(inertial_frame))"
   ]
  },
  {
   "cell_type": "code",
   "execution_count": 8,
   "metadata": {},
   "outputs": [
    {
     "data": {
      "text/latex": [
       "$$\\left[\\begin{matrix}\\operatorname{cos}\\left(\\theta_{0} + \\theta_{1} + \\theta_{2} + \\theta_{3}\\right) & \\operatorname{sin}\\left(\\theta_{0} + \\theta_{1} + \\theta_{2} + \\theta_{3}\\right) & 0\\\\- \\operatorname{sin}\\left(\\theta_{0} + \\theta_{1} + \\theta_{2} + \\theta_{3}\\right) & \\operatorname{cos}\\left(\\theta_{0} + \\theta_{1} + \\theta_{2} + \\theta_{3}\\right) & 0\\\\0 & 0 & 1\\end{matrix}\\right]$$"
      ],
      "text/plain": [
       "Matrix([\n",
       "[ cos(theta0 + theta1 + theta2 + theta3), sin(theta0 + theta1 + theta2 + theta3), 0],\n",
       "[-sin(theta0 + theta1 + theta2 + theta3), cos(theta0 + theta1 + theta2 + theta3), 0],\n",
       "[                                      0,                                      0, 1]])"
      ]
     },
     "execution_count": 8,
     "metadata": {},
     "output_type": "execute_result"
    }
   ],
   "source": [
    "upper_leg_right_frame.orient(hip_frame, 'Axis', (theta3, hip_frame.z))\n",
    "simplify(upper_leg_right_frame.dcm(inertial_frame))"
   ]
  },
  {
   "cell_type": "code",
   "execution_count": 9,
   "metadata": {},
   "outputs": [
    {
     "data": {
      "text/latex": [
       "$$\\left[\\begin{matrix}\\operatorname{cos}\\left(\\theta_{0} + \\theta_{1} + \\theta_{2} + \\theta_{3} + \\theta_{4}\\right) & \\operatorname{sin}\\left(\\theta_{0} + \\theta_{1} + \\theta_{2} + \\theta_{3} + \\theta_{4}\\right) & 0\\\\- \\operatorname{sin}\\left(\\theta_{0} + \\theta_{1} + \\theta_{2} + \\theta_{3} + \\theta_{4}\\right) & \\operatorname{cos}\\left(\\theta_{0} + \\theta_{1} + \\theta_{2} + \\theta_{3} + \\theta_{4}\\right) & 0\\\\0 & 0 & 1\\end{matrix}\\right]$$"
      ],
      "text/plain": [
       "Matrix([\n",
       "[ cos(theta0 + theta1 + theta2 + theta3 + theta4), sin(theta0 + theta1 + theta2 + theta3 + theta4), 0],\n",
       "[-sin(theta0 + theta1 + theta2 + theta3 + theta4), cos(theta0 + theta1 + theta2 + theta3 + theta4), 0],\n",
       "[                                               0,                                               0, 1]])"
      ]
     },
     "execution_count": 9,
     "metadata": {},
     "output_type": "execute_result"
    }
   ],
   "source": [
    "lower_leg_right_frame.orient(upper_leg_right_frame, 'Axis', (theta4, upper_leg_right_frame.z))\n",
    "simplify(lower_leg_right_frame.dcm(inertial_frame))"
   ]
  },
  {
   "cell_type": "markdown",
   "metadata": {},
   "source": [
    "## Points and Locations"
   ]
  },
  {
   "cell_type": "code",
   "execution_count": 10,
   "metadata": {
    "collapsed": true
   },
   "outputs": [],
   "source": [
    "ankle_left = Point('AnkleLeft')\n",
    "knee_left = Point('KneeLeft')\n",
    "hip_left = Point('HipLeft')\n",
    "hip_right = Point('HipRight')\n",
    "knee_right = Point('KneeRight')\n",
    "ankle_right = Point('AnkleRight')"
   ]
  },
  {
   "cell_type": "code",
   "execution_count": 11,
   "metadata": {
    "collapsed": true
   },
   "outputs": [],
   "source": [
    "lower_leg_length, upper_leg_length, hip_length = symbols('l1, l2, l3')"
   ]
  },
  {
   "cell_type": "code",
   "execution_count": 12,
   "metadata": {},
   "outputs": [
    {
     "data": {
      "text/latex": [
       "$$-  l_{1} \\operatorname{sin}\\left(\\theta_{0}\\right)\\mathbf{\\hat{i}_x} + l_{1} \\operatorname{cos}\\left(\\theta_{0}\\right)\\mathbf{\\hat{i}_y}$$"
      ],
      "text/plain": [
       "- l1*sin(theta0)*I.x + l1*cos(theta0)*I.y"
      ]
     },
     "execution_count": 12,
     "metadata": {},
     "output_type": "execute_result"
    }
   ],
   "source": [
    "knee_left.set_pos(ankle_left, lower_leg_length * lower_leg_left_frame.y)\n",
    "knee_left.pos_from(ankle_left).express(inertial_frame).simplify()"
   ]
  },
  {
   "cell_type": "code",
   "execution_count": 13,
   "metadata": {},
   "outputs": [
    {
     "data": {
      "text/latex": [
       "$$(- l_{1} \\operatorname{sin}\\left(\\theta_{0}\\right) - l_{2} \\operatorname{sin}\\left(\\theta_{0} + \\theta_{1}\\right))\\mathbf{\\hat{i}_x} + (l_{1} \\operatorname{cos}\\left(\\theta_{0}\\right) + l_{2} \\operatorname{cos}\\left(\\theta_{0} + \\theta_{1}\\right))\\mathbf{\\hat{i}_y}$$"
      ],
      "text/plain": [
       "(-l1*sin(theta0) - l2*sin(theta0 + theta1))*I.x + (l1*cos(theta0) + l2*cos(theta0 + theta1))*I.y"
      ]
     },
     "execution_count": 13,
     "metadata": {},
     "output_type": "execute_result"
    }
   ],
   "source": [
    "hip_left.set_pos(knee_left, upper_leg_length * upper_leg_left_frame.y)\n",
    "hip_left.pos_from(ankle_left).express(inertial_frame).simplify()"
   ]
  },
  {
   "cell_type": "code",
   "execution_count": 14,
   "metadata": {},
   "outputs": [
    {
     "data": {
      "text/latex": [
       "$$(- l_{1} \\operatorname{sin}\\left(\\theta_{0}\\right) - l_{2} \\operatorname{sin}\\left(\\theta_{0} + \\theta_{1}\\right) - l_{3} \\operatorname{sin}\\left(\\theta_{0} + \\theta_{1} + \\theta_{2}\\right))\\mathbf{\\hat{i}_x} + (l_{1} \\operatorname{cos}\\left(\\theta_{0}\\right) + l_{2} \\operatorname{cos}\\left(\\theta_{0} + \\theta_{1}\\right) + l_{3} \\operatorname{cos}\\left(\\theta_{0} + \\theta_{1} + \\theta_{2}\\right))\\mathbf{\\hat{i}_y}$$"
      ],
      "text/plain": [
       "(-l1*sin(theta0) - l2*sin(theta0 + theta1) - l3*sin(theta0 + theta1 + theta2))*I.x + (l1*cos(theta0) + l2*cos(theta0 + theta1) + l3*cos(theta0 + theta1 + theta2))*I.y"
      ]
     },
     "execution_count": 14,
     "metadata": {},
     "output_type": "execute_result"
    }
   ],
   "source": [
    "hip_right.set_pos(hip_left, hip_length * hip_frame.y)\n",
    "hip_right.pos_from(ankle_left).express(inertial_frame).simplify()"
   ]
  },
  {
   "cell_type": "code",
   "execution_count": 15,
   "metadata": {},
   "outputs": [
    {
     "data": {
      "text/latex": [
       "$$(- l_{1} \\operatorname{sin}\\left(\\theta_{0}\\right) - l_{2} \\operatorname{sin}\\left(\\theta_{0} + \\theta_{1}\\right) - l_{2} \\operatorname{sin}\\left(\\theta_{0} + \\theta_{1} + \\theta_{2} + \\theta_{3}\\right) - l_{3} \\operatorname{sin}\\left(\\theta_{0} + \\theta_{1} + \\theta_{2}\\right))\\mathbf{\\hat{i}_x} + (l_{1} \\operatorname{cos}\\left(\\theta_{0}\\right) + l_{2} \\operatorname{cos}\\left(\\theta_{0} + \\theta_{1}\\right) + l_{2} \\operatorname{cos}\\left(\\theta_{0} + \\theta_{1} + \\theta_{2} + \\theta_{3}\\right) + l_{3} \\operatorname{cos}\\left(\\theta_{0} + \\theta_{1} + \\theta_{2}\\right))\\mathbf{\\hat{i}_y}$$"
      ],
      "text/plain": [
       "(-l1*sin(theta0) - l2*sin(theta0 + theta1) - l2*sin(theta0 + theta1 + theta2 + theta3) - l3*sin(theta0 + theta1 + theta2))*I.x + (l1*cos(theta0) + l2*cos(theta0 + theta1) + l2*cos(theta0 + theta1 + theta2 + theta3) + l3*cos(theta0 + theta1 + theta2))*I.y"
      ]
     },
     "execution_count": 15,
     "metadata": {},
     "output_type": "execute_result"
    }
   ],
   "source": [
    "knee_right.set_pos(hip_right, upper_leg_length * upper_leg_right_frame.y)\n",
    "knee_right.pos_from(ankle_left).express(inertial_frame).simplify()"
   ]
  },
  {
   "cell_type": "code",
   "execution_count": 16,
   "metadata": {},
   "outputs": [
    {
     "data": {
      "text/latex": [
       "$$(- l_{1} \\operatorname{sin}\\left(\\theta_{0}\\right) - l_{2} \\operatorname{sin}\\left(\\theta_{0} + \\theta_{1}\\right) - l_{2} \\operatorname{sin}\\left(\\theta_{0} + \\theta_{1} + \\theta_{2} + \\theta_{3}\\right) - l_{2} \\operatorname{sin}\\left(\\theta_{0} + \\theta_{1} + \\theta_{2} + \\theta_{3} + \\theta_{4}\\right) - l_{3} \\operatorname{sin}\\left(\\theta_{0} + \\theta_{1} + \\theta_{2}\\right))\\mathbf{\\hat{i}_x} + (l_{1} \\operatorname{cos}\\left(\\theta_{0}\\right) + l_{2} \\operatorname{cos}\\left(\\theta_{0} + \\theta_{1}\\right) + l_{2} \\operatorname{cos}\\left(\\theta_{0} + \\theta_{1} + \\theta_{2} + \\theta_{3}\\right) + l_{2} \\operatorname{cos}\\left(\\theta_{0} + \\theta_{1} + \\theta_{2} + \\theta_{3} + \\theta_{4}\\right) + l_{3} \\operatorname{cos}\\left(\\theta_{0} + \\theta_{1} + \\theta_{2}\\right))\\mathbf{\\hat{i}_y}$$"
      ],
      "text/plain": [
       "(-l1*sin(theta0) - l2*sin(theta0 + theta1) - l2*sin(theta0 + theta1 + theta2 + theta3) - l2*sin(theta0 + theta1 + theta2 + theta3 + theta4) - l3*sin(theta0 + theta1 + theta2))*I.x + (l1*cos(theta0) + l2*cos(theta0 + theta1) + l2*cos(theta0 + theta1 + theta2 + theta3) + l2*cos(theta0 + theta1 + theta2 + theta3 + theta4) + l3*cos(theta0 + theta1 + theta2))*I.y"
      ]
     },
     "execution_count": 16,
     "metadata": {},
     "output_type": "execute_result"
    }
   ],
   "source": [
    "ankle_right.set_pos(knee_right, upper_leg_length * lower_leg_right_frame.y)\n",
    "ankle_right.pos_from(ankle_left).express(inertial_frame).simplify()"
   ]
  },
  {
   "cell_type": "code",
   "execution_count": 17,
   "metadata": {},
   "outputs": [],
   "source": [
    "lower_leg_left_com_length = lower_leg_length/2\n",
    "upper_leg_left_com_length = upper_leg_length/2\n",
    "hip_com_length = hip_length/2\n",
    "upper_leg_right_com_length = upper_leg_length/2\n",
    "lower_leg_right_com_length = lower_leg_length/2\n",
    "\n",
    "lower_leg_left_mass_center = Point('L_COMleft')\n",
    "upper_leg_left_mass_center = Point('U_COMleft')\n",
    "hip_mass_center = Point('H_COMleft')\n",
    "upper_leg_right_mass_center = Point('U_COMright')\n",
    "lower_leg_right_mass_center = Point('L_COMright')"
   ]
  },
  {
   "cell_type": "code",
   "execution_count": 18,
   "metadata": {},
   "outputs": [
    {
     "data": {
      "text/latex": [
       "$$-  \\frac{l_{1} \\operatorname{sin}\\left(\\theta_{0}\\right)}{2}\\mathbf{\\hat{i}_x} + \\frac{l_{1} \\operatorname{cos}\\left(\\theta_{0}\\right)}{2}\\mathbf{\\hat{i}_y}$$"
      ],
      "text/plain": [
       "- l1*sin(theta0)/2*I.x + l1*cos(theta0)/2*I.y"
      ]
     },
     "execution_count": 18,
     "metadata": {},
     "output_type": "execute_result"
    }
   ],
   "source": [
    "lower_leg_left_mass_center.set_pos(ankle_left, lower_leg_left_com_length * lower_leg_left_frame.y)\n",
    "lower_leg_left_mass_center.pos_from(ankle_left).express(inertial_frame).simplify()"
   ]
  },
  {
   "cell_type": "code",
   "execution_count": 19,
   "metadata": {},
   "outputs": [
    {
     "data": {
      "text/latex": [
       "$$(- l_{1} \\operatorname{sin}\\left(\\theta_{0}\\right) - \\frac{l_{2}}{2} \\operatorname{sin}\\left(\\theta_{0} + \\theta_{1}\\right))\\mathbf{\\hat{i}_x} + (l_{1} \\operatorname{cos}\\left(\\theta_{0}\\right) + \\frac{l_{2}}{2} \\operatorname{cos}\\left(\\theta_{0} + \\theta_{1}\\right))\\mathbf{\\hat{i}_y}$$"
      ],
      "text/plain": [
       "(-l1*sin(theta0) - l2*sin(theta0 + theta1)/2)*I.x + (l1*cos(theta0) + l2*cos(theta0 + theta1)/2)*I.y"
      ]
     },
     "execution_count": 19,
     "metadata": {},
     "output_type": "execute_result"
    }
   ],
   "source": [
    "upper_leg_left_mass_center.set_pos(knee_left, upper_leg_left_com_length * upper_leg_left_frame.y)\n",
    "upper_leg_left_mass_center.pos_from(ankle_left).express(inertial_frame).simplify()"
   ]
  },
  {
   "cell_type": "code",
   "execution_count": 20,
   "metadata": {},
   "outputs": [
    {
     "data": {
      "text/latex": [
       "$$(- l_{1} \\operatorname{sin}\\left(\\theta_{0}\\right) - l_{2} \\operatorname{sin}\\left(\\theta_{0} + \\theta_{1}\\right) - \\frac{l_{3}}{2} \\operatorname{sin}\\left(\\theta_{0} + \\theta_{1} + \\theta_{2}\\right))\\mathbf{\\hat{i}_x} + (l_{1} \\operatorname{cos}\\left(\\theta_{0}\\right) + l_{2} \\operatorname{cos}\\left(\\theta_{0} + \\theta_{1}\\right) + \\frac{l_{3}}{2} \\operatorname{cos}\\left(\\theta_{0} + \\theta_{1} + \\theta_{2}\\right))\\mathbf{\\hat{i}_y}$$"
      ],
      "text/plain": [
       "(-l1*sin(theta0) - l2*sin(theta0 + theta1) - l3*sin(theta0 + theta1 + theta2)/2)*I.x + (l1*cos(theta0) + l2*cos(theta0 + theta1) + l3*cos(theta0 + theta1 + theta2)/2)*I.y"
      ]
     },
     "execution_count": 20,
     "metadata": {},
     "output_type": "execute_result"
    }
   ],
   "source": [
    "hip_mass_center.set_pos(hip_left, hip_com_length * hip_frame.y)\n",
    "hip_mass_center.pos_from(ankle_left).express(inertial_frame).simplify()"
   ]
  },
  {
   "cell_type": "code",
   "execution_count": 21,
   "metadata": {},
   "outputs": [
    {
     "data": {
      "text/latex": [
       "$$(- l_{1} \\operatorname{sin}\\left(\\theta_{0}\\right) - l_{2} \\operatorname{sin}\\left(\\theta_{0} + \\theta_{1}\\right) - \\frac{l_{2}}{2} \\operatorname{sin}\\left(\\theta_{0} + \\theta_{1} + \\theta_{2} + \\theta_{3}\\right) - l_{3} \\operatorname{sin}\\left(\\theta_{0} + \\theta_{1} + \\theta_{2}\\right))\\mathbf{\\hat{i}_x} + (l_{1} \\operatorname{cos}\\left(\\theta_{0}\\right) + l_{2} \\operatorname{cos}\\left(\\theta_{0} + \\theta_{1}\\right) + \\frac{l_{2}}{2} \\operatorname{cos}\\left(\\theta_{0} + \\theta_{1} + \\theta_{2} + \\theta_{3}\\right) + l_{3} \\operatorname{cos}\\left(\\theta_{0} + \\theta_{1} + \\theta_{2}\\right))\\mathbf{\\hat{i}_y}$$"
      ],
      "text/plain": [
       "(-l1*sin(theta0) - l2*sin(theta0 + theta1) - l2*sin(theta0 + theta1 + theta2 + theta3)/2 - l3*sin(theta0 + theta1 + theta2))*I.x + (l1*cos(theta0) + l2*cos(theta0 + theta1) + l2*cos(theta0 + theta1 + theta2 + theta3)/2 + l3*cos(theta0 + theta1 + theta2))*I.y"
      ]
     },
     "execution_count": 21,
     "metadata": {},
     "output_type": "execute_result"
    }
   ],
   "source": [
    "upper_leg_right_mass_center.set_pos(hip_right, upper_leg_right_com_length * upper_leg_right_frame.y)\n",
    "upper_leg_right_mass_center.pos_from(ankle_left).express(inertial_frame).simplify()"
   ]
  },
  {
   "cell_type": "code",
   "execution_count": 22,
   "metadata": {},
   "outputs": [
    {
     "data": {
      "text/latex": [
       "$$(- \\frac{l_{1}}{2} \\operatorname{sin}\\left(\\theta_{0} + \\theta_{1} + \\theta_{2} + \\theta_{3} + \\theta_{4}\\right) - l_{1} \\operatorname{sin}\\left(\\theta_{0}\\right) - l_{2} \\operatorname{sin}\\left(\\theta_{0} + \\theta_{1}\\right) - l_{2} \\operatorname{sin}\\left(\\theta_{0} + \\theta_{1} + \\theta_{2} + \\theta_{3}\\right) - l_{3} \\operatorname{sin}\\left(\\theta_{0} + \\theta_{1} + \\theta_{2}\\right))\\mathbf{\\hat{i}_x} + (\\frac{l_{1}}{2} \\operatorname{cos}\\left(\\theta_{0} + \\theta_{1} + \\theta_{2} + \\theta_{3} + \\theta_{4}\\right) + l_{1} \\operatorname{cos}\\left(\\theta_{0}\\right) + l_{2} \\operatorname{cos}\\left(\\theta_{0} + \\theta_{1}\\right) + l_{2} \\operatorname{cos}\\left(\\theta_{0} + \\theta_{1} + \\theta_{2} + \\theta_{3}\\right) + l_{3} \\operatorname{cos}\\left(\\theta_{0} + \\theta_{1} + \\theta_{2}\\right))\\mathbf{\\hat{i}_y}$$"
      ],
      "text/plain": [
       "(-l1*sin(theta0 + theta1 + theta2 + theta3 + theta4)/2 - l1*sin(theta0) - l2*sin(theta0 + theta1) - l2*sin(theta0 + theta1 + theta2 + theta3) - l3*sin(theta0 + theta1 + theta2))*I.x + (l1*cos(theta0 + theta1 + theta2 + theta3 + theta4)/2 + l1*cos(theta0) + l2*cos(theta0 + theta1) + l2*cos(theta0 + theta1 + theta2 + theta3) + l3*cos(theta0 + theta1 + theta2))*I.y"
      ]
     },
     "execution_count": 22,
     "metadata": {},
     "output_type": "execute_result"
    }
   ],
   "source": [
    "lower_leg_right_mass_center.set_pos(knee_right, lower_leg_right_com_length * lower_leg_right_frame.y)\n",
    "lower_leg_right_mass_center.pos_from(ankle_left).express(inertial_frame).simplify()"
   ]
  },
  {
   "cell_type": "markdown",
   "metadata": {},
   "source": [
    "## Kinematical Differential Equations"
   ]
  },
  {
   "cell_type": "code",
   "execution_count": 23,
   "metadata": {},
   "outputs": [
    {
     "data": {
      "text/latex": [
       "$$\\left [ \\omega_{0} - \\dot{\\theta}_{0}, \\quad \\omega_{1} - \\dot{\\theta}_{1}, \\quad \\omega_{2} - \\dot{\\theta}_{2}, \\quad \\omega_{3} - \\dot{\\theta}_{3}, \\quad \\omega_{4} - \\dot{\\theta}_{4}\\right ]$$"
      ],
      "text/plain": [
       "[omega0 - theta0', omega1 - theta1', omega2 - theta2', omega3 - theta3', omega4 - theta4']"
      ]
     },
     "execution_count": 23,
     "metadata": {},
     "output_type": "execute_result"
    }
   ],
   "source": [
    "omega0, omega1, omega2, omega3, omega4 = dynamicsymbols('omega0, omega1, omega2, omega3, omega4')\n",
    "kinematical_differential_equations = [omega0 - theta0.diff(),\n",
    "                                      omega1 - theta1.diff(),\n",
    "                                      omega2 - theta2.diff(),\n",
    "                                      omega3 - theta3.diff(),\n",
    "                                      omega4 - theta4.diff(),]\n",
    "kinematical_differential_equations"
   ]
  },
  {
   "cell_type": "markdown",
   "metadata": {},
   "source": [
    "## Angular Velocities"
   ]
  },
  {
   "cell_type": "code",
   "execution_count": 24,
   "metadata": {},
   "outputs": [
    {
     "data": {
      "text/latex": [
       "$$\\omega_{0}\\mathbf{\\hat{i}_z}$$"
      ],
      "text/plain": [
       "omega0*I.z"
      ]
     },
     "execution_count": 24,
     "metadata": {},
     "output_type": "execute_result"
    }
   ],
   "source": [
    "lower_leg_left_frame.set_ang_vel(inertial_frame,         omega0 * inertial_frame.z)\n",
    "lower_leg_left_frame.ang_vel_in(inertial_frame)"
   ]
  },
  {
   "cell_type": "code",
   "execution_count": 25,
   "metadata": {},
   "outputs": [
    {
     "data": {
      "text/latex": [
       "$$(\\omega_{0} + \\omega_{1})\\mathbf{\\hat{i}_z}$$"
      ],
      "text/plain": [
       "(omega0 + omega1)*I.z"
      ]
     },
     "execution_count": 25,
     "metadata": {},
     "output_type": "execute_result"
    }
   ],
   "source": [
    "upper_leg_left_frame.set_ang_vel(lower_leg_left_frame,   omega1     * inertial_frame.z)\n",
    "upper_leg_left_frame.ang_vel_in(inertial_frame)"
   ]
  },
  {
   "cell_type": "code",
   "execution_count": 26,
   "metadata": {},
   "outputs": [
    {
     "data": {
      "text/latex": [
       "$$(\\omega_{0} + \\omega_{1} + \\omega_{2})\\mathbf{\\hat{i}_z}$$"
      ],
      "text/plain": [
       "(omega0 + omega1 + omega2)*I.z"
      ]
     },
     "execution_count": 26,
     "metadata": {},
     "output_type": "execute_result"
    }
   ],
   "source": [
    "hip_frame.set_ang_vel(upper_leg_left_frame,              omega2     * inertial_frame.z)\n",
    "hip_frame.ang_vel_in(inertial_frame)"
   ]
  },
  {
   "cell_type": "code",
   "execution_count": 27,
   "metadata": {},
   "outputs": [
    {
     "data": {
      "text/latex": [
       "$$(\\omega_{0} + \\omega_{1} + \\omega_{2} + \\omega_{3})\\mathbf{\\hat{i}_z}$$"
      ],
      "text/plain": [
       "(omega0 + omega1 + omega2 + omega3)*I.z"
      ]
     },
     "execution_count": 27,
     "metadata": {},
     "output_type": "execute_result"
    }
   ],
   "source": [
    "upper_leg_right_frame.set_ang_vel(hip_frame,             omega3     * inertial_frame.z)\n",
    "upper_leg_right_frame.ang_vel_in(inertial_frame)"
   ]
  },
  {
   "cell_type": "code",
   "execution_count": 28,
   "metadata": {},
   "outputs": [
    {
     "data": {
      "text/latex": [
       "$$(\\omega_{0} + \\omega_{1} + \\omega_{2} + \\omega_{3} + \\omega_{4})\\mathbf{\\hat{i}_z}$$"
      ],
      "text/plain": [
       "(omega0 + omega1 + omega2 + omega3 + omega4)*I.z"
      ]
     },
     "execution_count": 28,
     "metadata": {},
     "output_type": "execute_result"
    }
   ],
   "source": [
    "lower_leg_right_frame.set_ang_vel(upper_leg_right_frame, omega4     * inertial_frame.z)\n",
    "lower_leg_right_frame.ang_vel_in(inertial_frame)"
   ]
  },
  {
   "cell_type": "markdown",
   "metadata": {},
   "source": [
    "# Linear Velocities"
   ]
  },
  {
   "cell_type": "markdown",
   "metadata": {},
   "source": [
    "Finally, the linear velocities of the mass centers are needed. Starting at the ankle which has a velocity of 0."
   ]
  },
  {
   "cell_type": "code",
   "execution_count": 29,
   "metadata": {
    "collapsed": true
   },
   "outputs": [],
   "source": [
    "ankle_left.set_vel(inertial_frame, 0)"
   ]
  },
  {
   "cell_type": "markdown",
   "metadata": {},
   "source": [
    "Working our way up the chain we can make use of the fact that the joint points are located on two rigid bodies. Any fixed point in a reference frame can be computed if the linear velocity of another point on that frame is known and the frame's angular velocity is known.\n",
    "\n",
    "$$^I\\mathbf{v}^{P_2} = ^I\\mathbf{v}^{P_1} + ^I\\omega^A \\times \\mathbf{r}^{\\frac{P_2}{P_1}}$$\n",
    "\n",
    "The `Point.v2pt_theory()` method makes it easy to do this calculation."
   ]
  },
  {
   "cell_type": "code",
   "execution_count": 30,
   "metadata": {},
   "outputs": [
    {
     "data": {
      "text/latex": [
       "$$-  \\frac{l_{1} \\omega_{0}}{2}\\mathbf{\\hat{r_1}_x}$$"
      ],
      "text/plain": [
       "- l1*omega0/2*R_1.x"
      ]
     },
     "execution_count": 30,
     "metadata": {},
     "output_type": "execute_result"
    }
   ],
   "source": [
    "lower_leg_left_mass_center.v2pt_theory(ankle_left, inertial_frame, lower_leg_left_frame)\n",
    "lower_leg_left_mass_center.vel(inertial_frame)"
   ]
  },
  {
   "cell_type": "code",
   "execution_count": 31,
   "metadata": {},
   "outputs": [
    {
     "data": {
      "text/latex": [
       "$$-  l_{1} \\omega_{0}\\mathbf{\\hat{r_1}_x}$$"
      ],
      "text/plain": [
       "- l1*omega0*R_1.x"
      ]
     },
     "execution_count": 31,
     "metadata": {},
     "output_type": "execute_result"
    }
   ],
   "source": [
    "knee_left.v2pt_theory(ankle_left, inertial_frame, lower_leg_left_frame)\n",
    "knee_left.vel(inertial_frame)"
   ]
  },
  {
   "cell_type": "code",
   "execution_count": 32,
   "metadata": {},
   "outputs": [
    {
     "data": {
      "text/latex": [
       "$$-  l_{1} \\omega_{0}\\mathbf{\\hat{r_1}_x} -  \\frac{l_{2}}{2} \\left(\\omega_{0} + \\omega_{1}\\right)\\mathbf{\\hat{r_2}_x}$$"
      ],
      "text/plain": [
       "- l1*omega0*R_1.x - l2*(omega0 + omega1)/2*R_2.x"
      ]
     },
     "execution_count": 32,
     "metadata": {},
     "output_type": "execute_result"
    }
   ],
   "source": [
    "upper_leg_left_mass_center.v2pt_theory(knee_left, inertial_frame, upper_leg_left_frame)\n",
    "upper_leg_left_mass_center.vel(inertial_frame)"
   ]
  },
  {
   "cell_type": "code",
   "execution_count": 33,
   "metadata": {},
   "outputs": [
    {
     "data": {
      "text/latex": [
       "$$-  l_{1} \\omega_{0}\\mathbf{\\hat{r_1}_x} -  l_{2} \\left(\\omega_{0} + \\omega_{1}\\right)\\mathbf{\\hat{r_2}_x}$$"
      ],
      "text/plain": [
       "- l1*omega0*R_1.x - l2*(omega0 + omega1)*R_2.x"
      ]
     },
     "execution_count": 33,
     "metadata": {},
     "output_type": "execute_result"
    }
   ],
   "source": [
    "hip_left.v2pt_theory(knee_left, inertial_frame, upper_leg_left_frame)\n",
    "hip_left.vel(inertial_frame)"
   ]
  },
  {
   "cell_type": "code",
   "execution_count": 34,
   "metadata": {},
   "outputs": [
    {
     "data": {
      "text/latex": [
       "$$-  l_{1} \\omega_{0}\\mathbf{\\hat{r_1}_x} -  l_{2} \\left(\\omega_{0} + \\omega_{1}\\right)\\mathbf{\\hat{r_2}_x} -  \\frac{l_{3}}{2} \\left(\\omega_{0} + \\omega_{1} + \\omega_{2}\\right)\\mathbf{\\hat{r_3}_x}$$"
      ],
      "text/plain": [
       "- l1*omega0*R_1.x - l2*(omega0 + omega1)*R_2.x - l3*(omega0 + omega1 + omega2)/2*R_3.x"
      ]
     },
     "execution_count": 34,
     "metadata": {},
     "output_type": "execute_result"
    }
   ],
   "source": [
    "hip_mass_center.v2pt_theory(hip_left, inertial_frame, hip_frame)\n",
    "hip_mass_center.vel(inertial_frame)"
   ]
  },
  {
   "cell_type": "code",
   "execution_count": 35,
   "metadata": {},
   "outputs": [
    {
     "data": {
      "text/latex": [
       "$$-  l_{1} \\omega_{0}\\mathbf{\\hat{r_1}_x} -  l_{2} \\left(\\omega_{0} + \\omega_{1}\\right)\\mathbf{\\hat{r_2}_x} -  l_{3} \\left(\\omega_{0} + \\omega_{1} + \\omega_{2}\\right)\\mathbf{\\hat{r_3}_x}$$"
      ],
      "text/plain": [
       "- l1*omega0*R_1.x - l2*(omega0 + omega1)*R_2.x - l3*(omega0 + omega1 + omega2)*R_3.x"
      ]
     },
     "execution_count": 35,
     "metadata": {},
     "output_type": "execute_result"
    }
   ],
   "source": [
    "hip_right.v2pt_theory(hip_left, inertial_frame, hip_frame)\n",
    "hip_right.vel(inertial_frame)"
   ]
  },
  {
   "cell_type": "code",
   "execution_count": 36,
   "metadata": {},
   "outputs": [
    {
     "data": {
      "text/latex": [
       "$$-  l_{1} \\omega_{0}\\mathbf{\\hat{r_1}_x} -  l_{2} \\left(\\omega_{0} + \\omega_{1}\\right)\\mathbf{\\hat{r_2}_x} -  l_{3} \\left(\\omega_{0} + \\omega_{1} + \\omega_{2}\\right)\\mathbf{\\hat{r_3}_x} -  l_{2} \\left(\\omega_{0} + \\omega_{1} + \\omega_{2} + \\omega_{3}\\right)\\mathbf{\\hat{r_4}_x}$$"
      ],
      "text/plain": [
       "- l1*omega0*R_1.x - l2*(omega0 + omega1)*R_2.x - l3*(omega0 + omega1 + omega2)*R_3.x - l2*(omega0 + omega1 + omega2 + omega3)*R_4.x"
      ]
     },
     "execution_count": 36,
     "metadata": {},
     "output_type": "execute_result"
    }
   ],
   "source": [
    "knee_right.v2pt_theory(hip_right, inertial_frame, upper_leg_right_frame)\n",
    "knee_right.vel(inertial_frame)"
   ]
  },
  {
   "cell_type": "code",
   "execution_count": 37,
   "metadata": {},
   "outputs": [
    {
     "data": {
      "text/latex": [
       "$$-  l_{1} \\omega_{0}\\mathbf{\\hat{r_1}_x} -  l_{2} \\left(\\omega_{0} + \\omega_{1}\\right)\\mathbf{\\hat{r_2}_x} -  l_{3} \\left(\\omega_{0} + \\omega_{1} + \\omega_{2}\\right)\\mathbf{\\hat{r_3}_x} -  \\frac{l_{2}}{2} \\left(\\omega_{0} + \\omega_{1} + \\omega_{2} + \\omega_{3}\\right)\\mathbf{\\hat{r_4}_x}$$"
      ],
      "text/plain": [
       "- l1*omega0*R_1.x - l2*(omega0 + omega1)*R_2.x - l3*(omega0 + omega1 + omega2)*R_3.x - l2*(omega0 + omega1 + omega2 + omega3)/2*R_4.x"
      ]
     },
     "execution_count": 37,
     "metadata": {},
     "output_type": "execute_result"
    }
   ],
   "source": [
    "upper_leg_right_mass_center.v2pt_theory(knee_right, inertial_frame, upper_leg_right_frame)\n",
    "upper_leg_right_mass_center.vel(inertial_frame)"
   ]
  },
  {
   "cell_type": "code",
   "execution_count": 38,
   "metadata": {},
   "outputs": [
    {
     "data": {
      "text/latex": [
       "$$-  l_{1} \\omega_{0}\\mathbf{\\hat{r_1}_x} -  l_{2} \\left(\\omega_{0} + \\omega_{1}\\right)\\mathbf{\\hat{r_2}_x} -  l_{3} \\left(\\omega_{0} + \\omega_{1} + \\omega_{2}\\right)\\mathbf{\\hat{r_3}_x} -  l_{2} \\left(\\omega_{0} + \\omega_{1} + \\omega_{2} + \\omega_{3}\\right)\\mathbf{\\hat{r_4}_x} -  l_{2} \\left(\\omega_{0} + \\omega_{1} + \\omega_{2} + \\omega_{3} + \\omega_{4}\\right)\\mathbf{\\hat{r_5}_x}$$"
      ],
      "text/plain": [
       "- l1*omega0*R_1.x - l2*(omega0 + omega1)*R_2.x - l3*(omega0 + omega1 + omega2)*R_3.x - l2*(omega0 + omega1 + omega2 + omega3)*R_4.x - l2*(omega0 + omega1 + omega2 + omega3 + omega4)*R_5.x"
      ]
     },
     "execution_count": 38,
     "metadata": {},
     "output_type": "execute_result"
    }
   ],
   "source": [
    "ankle_right.v2pt_theory(knee_right, inertial_frame, lower_leg_right_frame)\n",
    "ankle_right.vel(inertial_frame)"
   ]
  },
  {
   "cell_type": "code",
   "execution_count": 39,
   "metadata": {},
   "outputs": [
    {
     "data": {
      "text/latex": [
       "$$-  l_{1} \\omega_{0}\\mathbf{\\hat{r_1}_x} -  l_{2} \\left(\\omega_{0} + \\omega_{1}\\right)\\mathbf{\\hat{r_2}_x} -  l_{3} \\left(\\omega_{0} + \\omega_{1} + \\omega_{2}\\right)\\mathbf{\\hat{r_3}_x} -  l_{2} \\left(\\omega_{0} + \\omega_{1} + \\omega_{2} + \\omega_{3}\\right)\\mathbf{\\hat{r_4}_x} -  \\frac{l_{1}}{2} \\left(\\omega_{0} + \\omega_{1} + \\omega_{2} + \\omega_{3} + \\omega_{4}\\right)\\mathbf{\\hat{r_5}_x}$$"
      ],
      "text/plain": [
       "- l1*omega0*R_1.x - l2*(omega0 + omega1)*R_2.x - l3*(omega0 + omega1 + omega2)*R_3.x - l2*(omega0 + omega1 + omega2 + omega3)*R_4.x - l1*(omega0 + omega1 + omega2 + omega3 + omega4)/2*R_5.x"
      ]
     },
     "execution_count": 39,
     "metadata": {},
     "output_type": "execute_result"
    }
   ],
   "source": [
    "lower_leg_right_mass_center.v2pt_theory(knee_right, inertial_frame, lower_leg_right_frame)\n",
    "lower_leg_right_mass_center.vel(inertial_frame)"
   ]
  },
  {
   "cell_type": "markdown",
   "metadata": {},
   "source": [
    "# Masses, Inertia, Rigid Bodies"
   ]
  },
  {
   "cell_type": "code",
   "execution_count": 40,
   "metadata": {
    "collapsed": true
   },
   "outputs": [],
   "source": [
    "lower_leg_mass, upper_leg_mass, hip_mass = symbols('m_L, m_U, m_H')"
   ]
  },
  {
   "cell_type": "code",
   "execution_count": 41,
   "metadata": {
    "collapsed": true
   },
   "outputs": [],
   "source": [
    "lower_leg_inertia, upper_leg_inertia, hip_inertia = symbols('I_Lz, I_Uz, I_Hz')"
   ]
  },
  {
   "cell_type": "code",
   "execution_count": 42,
   "metadata": {},
   "outputs": [
    {
     "data": {
      "text/latex": [
       "$$\\left[\\begin{matrix}0 & 0 & 0\\\\0 & 0 & 0\\\\0 & 0 & I_{Lz}\\end{matrix}\\right]$$"
      ],
      "text/plain": [
       "Matrix([\n",
       "[0, 0,    0],\n",
       "[0, 0,    0],\n",
       "[0, 0, I_Lz]])"
      ]
     },
     "execution_count": 42,
     "metadata": {},
     "output_type": "execute_result"
    }
   ],
   "source": [
    "lower_leg_left_inertia_dyadic = inertia(lower_leg_left_frame, 0, 0, lower_leg_inertia)\n",
    "lower_leg_left_central_inertia = (lower_leg_left_inertia_dyadic, lower_leg_left_mass_center)\n",
    "lower_leg_left_inertia_dyadic.to_matrix(lower_leg_left_frame)"
   ]
  },
  {
   "cell_type": "code",
   "execution_count": 43,
   "metadata": {},
   "outputs": [
    {
     "data": {
      "text/latex": [
       "$$\\left[\\begin{matrix}0 & 0 & 0\\\\0 & 0 & 0\\\\0 & 0 & I_{Uz}\\end{matrix}\\right]$$"
      ],
      "text/plain": [
       "Matrix([\n",
       "[0, 0,    0],\n",
       "[0, 0,    0],\n",
       "[0, 0, I_Uz]])"
      ]
     },
     "execution_count": 43,
     "metadata": {},
     "output_type": "execute_result"
    }
   ],
   "source": [
    "upper_leg_left_inertia_dyadic = inertia(upper_leg_left_frame, 0, 0, upper_leg_inertia)\n",
    "upper_leg_left_central_inertia = (upper_leg_left_inertia_dyadic, upper_leg_left_mass_center)\n",
    "upper_leg_left_inertia_dyadic.to_matrix(upper_leg_left_frame)"
   ]
  },
  {
   "cell_type": "code",
   "execution_count": 44,
   "metadata": {},
   "outputs": [
    {
     "data": {
      "text/latex": [
       "$$\\left[\\begin{matrix}0 & 0 & 0\\\\0 & 0 & 0\\\\0 & 0 & I_{Hz}\\end{matrix}\\right]$$"
      ],
      "text/plain": [
       "Matrix([\n",
       "[0, 0,    0],\n",
       "[0, 0,    0],\n",
       "[0, 0, I_Hz]])"
      ]
     },
     "execution_count": 44,
     "metadata": {},
     "output_type": "execute_result"
    }
   ],
   "source": [
    "hip_inertia_dyadic = inertia(hip_frame, 0, 0, hip_inertia)\n",
    "hip_central_inertia = (hip_inertia_dyadic, hip_mass_center)\n",
    "hip_inertia_dyadic.to_matrix(hip_frame)"
   ]
  },
  {
   "cell_type": "code",
   "execution_count": 45,
   "metadata": {},
   "outputs": [
    {
     "data": {
      "text/latex": [
       "$$\\left[\\begin{matrix}0 & 0 & 0\\\\0 & 0 & 0\\\\0 & 0 & I_{Uz}\\end{matrix}\\right]$$"
      ],
      "text/plain": [
       "Matrix([\n",
       "[0, 0,    0],\n",
       "[0, 0,    0],\n",
       "[0, 0, I_Uz]])"
      ]
     },
     "execution_count": 45,
     "metadata": {},
     "output_type": "execute_result"
    }
   ],
   "source": [
    "upper_leg_right_inertia_dyadic = inertia(upper_leg_right_frame, 0, 0, upper_leg_inertia)\n",
    "upper_leg_right_central_inertia = (upper_leg_right_inertia_dyadic, upper_leg_right_mass_center)\n",
    "upper_leg_right_inertia_dyadic.to_matrix(upper_leg_right_frame)"
   ]
  },
  {
   "cell_type": "code",
   "execution_count": 46,
   "metadata": {},
   "outputs": [
    {
     "data": {
      "text/latex": [
       "$$\\left[\\begin{matrix}0 & 0 & 0\\\\0 & 0 & 0\\\\0 & 0 & I_{Lz}\\end{matrix}\\right]$$"
      ],
      "text/plain": [
       "Matrix([\n",
       "[0, 0,    0],\n",
       "[0, 0,    0],\n",
       "[0, 0, I_Lz]])"
      ]
     },
     "execution_count": 46,
     "metadata": {},
     "output_type": "execute_result"
    }
   ],
   "source": [
    "lower_leg_right_inertia_dyadic = inertia(lower_leg_right_frame, 0, 0, lower_leg_inertia)\n",
    "lower_leg_right_central_inertia = (lower_leg_right_inertia_dyadic, lower_leg_right_mass_center)\n",
    "lower_leg_right_inertia_dyadic.to_matrix(lower_leg_right_frame)"
   ]
  },
  {
   "cell_type": "code",
   "execution_count": 47,
   "metadata": {},
   "outputs": [],
   "source": [
    "lower_leg_left = RigidBody('Lower Leg Left', lower_leg_left_mass_center, lower_leg_left_frame,\n",
    "                      lower_leg_mass, lower_leg_left_central_inertia)"
   ]
  },
  {
   "cell_type": "code",
   "execution_count": 48,
   "metadata": {
    "collapsed": true
   },
   "outputs": [],
   "source": [
    "upper_leg_left = RigidBody('Upper Leg Left', upper_leg_left_mass_center, upper_leg_left_frame,\n",
    "                      upper_leg_mass, upper_leg_left_central_inertia)"
   ]
  },
  {
   "cell_type": "code",
   "execution_count": 49,
   "metadata": {},
   "outputs": [],
   "source": [
    "hip = RigidBody('Hip', hip_mass_center, hip_frame, hip_mass, hip_central_inertia)"
   ]
  },
  {
   "cell_type": "code",
   "execution_count": 50,
   "metadata": {
    "collapsed": true
   },
   "outputs": [],
   "source": [
    "upper_leg_right = RigidBody('Upper Leg Right', upper_leg_right_mass_center, upper_leg_right_frame,\n",
    "                      upper_leg_mass, upper_leg_right_central_inertia)"
   ]
  },
  {
   "cell_type": "code",
   "execution_count": 51,
   "metadata": {
    "collapsed": true
   },
   "outputs": [],
   "source": [
    "lower_leg_right = RigidBody('Lower Leg Right', lower_leg_right_mass_center, lower_leg_right_frame,\n",
    "                      lower_leg_mass, lower_leg_right_central_inertia)"
   ]
  },
  {
   "cell_type": "markdown",
   "metadata": {},
   "source": [
    "# Forces and Torques"
   ]
  },
  {
   "cell_type": "code",
   "execution_count": 52,
   "metadata": {
    "collapsed": true
   },
   "outputs": [],
   "source": [
    "g = symbols('g')"
   ]
  },
  {
   "cell_type": "code",
   "execution_count": 53,
   "metadata": {},
   "outputs": [],
   "source": [
    "lower_leg_left_grav_force = (lower_leg_left_mass_center, -lower_leg_mass * g * inertial_frame.y)\n",
    "upper_leg_left_grav_force = (upper_leg_left_mass_center, -upper_leg_mass * g * inertial_frame.y)\n",
    "hip_grav_force = (hip_mass_center, -hip_mass * g * inertial_frame.y)\n",
    "upper_leg_right_grav_force = (upper_leg_right_mass_center, -upper_leg_mass * g * inertial_frame.y)\n",
    "lower_leg_right_grav_force = (lower_leg_right_mass_center, -lower_leg_mass * g * inertial_frame.y)"
   ]
  },
  {
   "cell_type": "code",
   "execution_count": 54,
   "metadata": {},
   "outputs": [],
   "source": [
    "ankle_left_torque, knee_left_torque, hip_left_torque, hip_right_torque, knee_right_torque, ankle_right_torque = dynamicsymbols('T_a0, T_k0, T_h0, T_h1, T_k1, T_a1')"
   ]
  },
  {
   "cell_type": "code",
   "execution_count": 55,
   "metadata": {},
   "outputs": [],
   "source": [
    "lower_leg_left_torque_vector = ankle_left_torque * inertial_frame.z - knee_left_torque * inertial_frame.z\n",
    "upper_leg_left_torque_vector = knee_left_torque * inertial_frame.z - hip_left_torque * inertial_frame.z\n",
    "hip_left_torque_vector = hip_left_torque * inertial_frame.z - hip_right_torque * inertial_frame.z\n",
    "hip_right_torque_vector = hip_right_torque * inertial_frame.z - knee_right_torque * inertial_frame.z\n",
    "upper_leg_right_torque_vector = knee_right_torque * inertial_frame.z - ankle_right_torque * inertial_frame.z\n",
    "lower_leg_right_torque_vector = ankle_right_torque * inertial_frame.z"
   ]
  },
  {
   "cell_type": "code",
   "execution_count": 56,
   "metadata": {},
   "outputs": [],
   "source": [
    "lower_leg_left_torque = (lower_leg_left_frame, lower_leg_left_torque_vector)\n",
    "upper_leg_left_torque = (upper_leg_left_frame, upper_leg_left_torque_vector)\n",
    "hip_left_torque = (hip_frame, hip_left_torque_vector)\n",
    "hip_right_torque = (hip_frame, hip_right_torque_vector)\n",
    "upper_leg_right_torque = (upper_leg_right_frame, upper_leg_right_torque_vector)\n",
    "lower_leg_right_torque = (lower_leg_right_frame, lower_leg_right_torque_vector)"
   ]
  },
  {
   "cell_type": "markdown",
   "metadata": {},
   "source": [
    "# Equations of Motion"
   ]
  },
  {
   "cell_type": "code",
   "execution_count": 57,
   "metadata": {},
   "outputs": [
    {
     "data": {
      "text/latex": [
       "$$\\left [ \\theta_{0}, \\quad \\theta_{1}, \\quad \\theta_{2}, \\quad \\theta_{3}, \\quad \\theta_{4}\\right ]$$"
      ],
      "text/plain": [
       "[theta0, theta1, theta2, theta3, theta4]"
      ]
     },
     "execution_count": 57,
     "metadata": {},
     "output_type": "execute_result"
    }
   ],
   "source": [
    "coordinates = [theta0, theta1, theta2, theta3, theta4]\n",
    "coordinates"
   ]
  },
  {
   "cell_type": "code",
   "execution_count": 58,
   "metadata": {},
   "outputs": [
    {
     "data": {
      "text/latex": [
       "$$\\left [ \\omega_{0}, \\quad \\omega_{1}, \\quad \\omega_{2}, \\quad \\omega_{3}, \\quad \\omega_{4}\\right ]$$"
      ],
      "text/plain": [
       "[omega0, omega1, omega2, omega3, omega4]"
      ]
     },
     "execution_count": 58,
     "metadata": {},
     "output_type": "execute_result"
    }
   ],
   "source": [
    "speeds = [omega0, omega1, omega2, omega3, omega4]\n",
    "speeds"
   ]
  },
  {
   "cell_type": "code",
   "execution_count": 59,
   "metadata": {},
   "outputs": [
    {
     "data": {
      "text/latex": [
       "$$\\left [ \\omega_{0} - \\dot{\\theta}_{0}, \\quad \\omega_{1} - \\dot{\\theta}_{1}, \\quad \\omega_{2} - \\dot{\\theta}_{2}, \\quad \\omega_{3} - \\dot{\\theta}_{3}, \\quad \\omega_{4} - \\dot{\\theta}_{4}\\right ]$$"
      ],
      "text/plain": [
       "[omega0 - theta0', omega1 - theta1', omega2 - theta2', omega3 - theta3', omega4 - theta4']"
      ]
     },
     "execution_count": 59,
     "metadata": {},
     "output_type": "execute_result"
    }
   ],
   "source": [
    "kinematical_differential_equations"
   ]
  },
  {
   "cell_type": "code",
   "execution_count": 60,
   "metadata": {
    "collapsed": true
   },
   "outputs": [],
   "source": [
    "kane = KanesMethod(inertial_frame, coordinates, speeds, kinematical_differential_equations)"
   ]
  },
  {
   "cell_type": "code",
   "execution_count": 61,
   "metadata": {},
   "outputs": [
    {
     "data": {
      "text/plain": [
       "[(L_COMleft, - g*m_L*I.y),\n",
       " (U_COMleft, - g*m_U*I.y),\n",
       " (H_COMleft, - g*m_H*I.y),\n",
       " (U_COMright, - g*m_U*I.y),\n",
       " (L_COMright, - g*m_L*I.y),\n",
       " (R_1, (T_a0 - T_k0)*I.z),\n",
       " (R_2, (-T_h0 + T_k0)*I.z),\n",
       " (R_3, (T_h0 - T_h1)*I.z),\n",
       " (R_3, (T_h1 - T_k1)*I.z),\n",
       " (R_4, (-T_a1 + T_k1)*I.z),\n",
       " (R_5, T_a1*I.z)]"
      ]
     },
     "execution_count": 61,
     "metadata": {},
     "output_type": "execute_result"
    }
   ],
   "source": [
    "loads = [lower_leg_left_grav_force,\n",
    "         upper_leg_left_grav_force,\n",
    "         hip_grav_force, \n",
    "         upper_leg_right_grav_force,\n",
    "         lower_leg_right_grav_force,\n",
    "         lower_leg_left_torque,\n",
    "         upper_leg_left_torque,\n",
    "         hip_left_torque,\n",
    "         hip_right_torque,\n",
    "         upper_leg_right_torque,\n",
    "         lower_leg_right_torque]\n",
    "loads"
   ]
  },
  {
   "cell_type": "code",
   "execution_count": 62,
   "metadata": {},
   "outputs": [
    {
     "data": {
      "text/plain": [
       "[Lower Leg Left, Upper Leg Left, Hip, Upper Leg Right, Lower Leg Right]"
      ]
     },
     "execution_count": 62,
     "metadata": {},
     "output_type": "execute_result"
    }
   ],
   "source": [
    "bodies = [lower_leg_left, upper_leg_left, hip, upper_leg_right, lower_leg_right]\n",
    "bodies"
   ]
  },
  {
   "cell_type": "code",
   "execution_count": 63,
   "metadata": {},
   "outputs": [],
   "source": [
    "fr, frstar = kane.kanes_equations(loads, bodies)"
   ]
  },
  {
   "cell_type": "code",
   "execution_count": null,
   "metadata": {},
   "outputs": [
    {
     "data": {
      "text/latex": [
       "$$\\left[\\begin{matrix}g l_{1} m_{H} \\operatorname{sin}\\left(\\theta_{0}\\right) + \\frac{g l_{1}}{2} m_{L} \\operatorname{sin}\\left(\\theta_{0} + \\theta_{1} + \\theta_{2} + \\theta_{3} + \\theta_{4}\\right) + \\frac{3 g}{2} l_{1} m_{L} \\operatorname{sin}\\left(\\theta_{0}\\right) + 2 g l_{1} m_{U} \\operatorname{sin}\\left(\\theta_{0}\\right) + g l_{2} m_{H} \\operatorname{sin}\\left(\\theta_{0} + \\theta_{1}\\right) + g l_{2} m_{L} \\operatorname{sin}\\left(\\theta_{0} + \\theta_{1}\\right) + g l_{2} m_{L} \\operatorname{sin}\\left(\\theta_{0} + \\theta_{1} + \\theta_{2} + \\theta_{3}\\right) + \\frac{3 g}{2} l_{2} m_{U} \\operatorname{sin}\\left(\\theta_{0} + \\theta_{1}\\right) + \\frac{g l_{2}}{2} m_{U} \\operatorname{sin}\\left(\\theta_{0} + \\theta_{1} + \\theta_{2} + \\theta_{3}\\right) + \\frac{g l_{3}}{2} m_{H} \\operatorname{sin}\\left(\\theta_{0} + \\theta_{1} + \\theta_{2}\\right) + g l_{3} m_{L} \\operatorname{sin}\\left(\\theta_{0} + \\theta_{1} + \\theta_{2}\\right) + g l_{3} m_{U} \\operatorname{sin}\\left(\\theta_{0} + \\theta_{1} + \\theta_{2}\\right) + \\frac{l_{1}^{2} m_{L}}{2} \\left(\\omega_{0} + \\omega_{1} + \\omega_{2} + \\omega_{3} + \\omega_{4}\\right)^{2} \\operatorname{sin}\\left(\\theta_{1} + \\theta_{2} + \\theta_{3} + \\theta_{4}\\right) - \\frac{l_{1}^{2} m_{L}}{2} \\omega^{2}_{0} \\operatorname{sin}\\left(\\theta_{1} + \\theta_{2} + \\theta_{3} + \\theta_{4}\\right) + l_{1} l_{2} m_{H} \\left(\\omega_{0} + \\omega_{1}\\right)^{2} \\operatorname{sin}\\left(\\theta_{1}\\right) - l_{1} l_{2} m_{H} \\omega^{2}_{0} \\operatorname{sin}\\left(\\theta_{1}\\right) - \\frac{l_{1} l_{2}}{2} m_{L} \\left(\\omega_{0} + \\omega_{1}\\right)^{2} \\operatorname{sin}\\left(\\theta_{2} + \\theta_{3} + \\theta_{4}\\right) + l_{1} l_{2} m_{L} \\left(\\omega_{0} + \\omega_{1}\\right)^{2} \\operatorname{sin}\\left(\\theta_{1}\\right) + l_{1} l_{2} m_{L} \\left(\\omega_{0} + \\omega_{1} + \\omega_{2} + \\omega_{3}\\right)^{2} \\operatorname{sin}\\left(\\theta_{1} + \\theta_{2} + \\theta_{3}\\right) - \\frac{l_{1} l_{2}}{2} m_{L} \\left(\\omega_{0} + \\omega_{1} + \\omega_{2} + \\omega_{3}\\right)^{2} \\operatorname{sin}\\left(\\theta_{4}\\right) + \\frac{l_{1} l_{2}}{2} m_{L} \\left(\\omega_{0} + \\omega_{1} + \\omega_{2} + \\omega_{3} + \\omega_{4}\\right)^{2} \\operatorname{sin}\\left(\\theta_{2} + \\theta_{3} + \\theta_{4}\\right) + \\frac{l_{1} l_{2}}{2} m_{L} \\left(\\omega_{0} + \\omega_{1} + \\omega_{2} + \\omega_{3} + \\omega_{4}\\right)^{2} \\operatorname{sin}\\left(\\theta_{4}\\right) - l_{1} l_{2} m_{L} \\omega^{2}_{0} \\operatorname{sin}\\left(\\theta_{1} + \\theta_{2} + \\theta_{3}\\right) - l_{1} l_{2} m_{L} \\omega^{2}_{0} \\operatorname{sin}\\left(\\theta_{1}\\right) + \\frac{3 l_{1}}{2} l_{2} m_{U} \\left(\\omega_{0} + \\omega_{1}\\right)^{2} \\operatorname{sin}\\left(\\theta_{1}\\right) + \\frac{l_{1} l_{2}}{2} m_{U} \\left(\\omega_{0} + \\omega_{1} + \\omega_{2} + \\omega_{3}\\right)^{2} \\operatorname{sin}\\left(\\theta_{1} + \\theta_{2} + \\theta_{3}\\right) - \\frac{l_{1} l_{2}}{2} m_{U} \\omega^{2}_{0} \\operatorname{sin}\\left(\\theta_{1} + \\theta_{2} + \\theta_{3}\\right) - \\frac{3 l_{1}}{2} l_{2} m_{U} \\omega^{2}_{0} \\operatorname{sin}\\left(\\theta_{1}\\right) + \\frac{l_{1} l_{3}}{2} m_{H} \\left(\\omega_{0} + \\omega_{1} + \\omega_{2}\\right)^{2} \\operatorname{sin}\\left(\\theta_{1} + \\theta_{2}\\right) - \\frac{l_{1} l_{3}}{2} m_{H} \\omega^{2}_{0} \\operatorname{sin}\\left(\\theta_{1} + \\theta_{2}\\right) + l_{1} l_{3} m_{L} \\left(\\omega_{0} + \\omega_{1} + \\omega_{2}\\right)^{2} \\operatorname{sin}\\left(\\theta_{1} + \\theta_{2}\\right) - \\frac{l_{1} l_{3}}{2} m_{L} \\left(\\omega_{0} + \\omega_{1} + \\omega_{2}\\right)^{2} \\operatorname{sin}\\left(\\theta_{3} + \\theta_{4}\\right) + \\frac{l_{1} l_{3}}{2} m_{L} \\left(\\omega_{0} + \\omega_{1} + \\omega_{2} + \\omega_{3} + \\omega_{4}\\right)^{2} \\operatorname{sin}\\left(\\theta_{3} + \\theta_{4}\\right) - l_{1} l_{3} m_{L} \\omega^{2}_{0} \\operatorname{sin}\\left(\\theta_{1} + \\theta_{2}\\right) + l_{1} l_{3} m_{U} \\left(\\omega_{0} + \\omega_{1} + \\omega_{2}\\right)^{2} \\operatorname{sin}\\left(\\theta_{1} + \\theta_{2}\\right) - l_{1} l_{3} m_{U} \\omega^{2}_{0} \\operatorname{sin}\\left(\\theta_{1} + \\theta_{2}\\right) - l_{2}^{2} m_{L} \\left(\\omega_{0} + \\omega_{1}\\right)^{2} \\operatorname{sin}\\left(\\theta_{2} + \\theta_{3}\\right) + l_{2}^{2} m_{L} \\left(\\omega_{0} + \\omega_{1} + \\omega_{2} + \\omega_{3}\\right)^{2} \\operatorname{sin}\\left(\\theta_{2} + \\theta_{3}\\right) - \\frac{l_{2}^{2} m_{U}}{2} \\left(\\omega_{0} + \\omega_{1}\\right)^{2} \\operatorname{sin}\\left(\\theta_{2} + \\theta_{3}\\right) + \\frac{l_{2}^{2} m_{U}}{2} \\left(\\omega_{0} + \\omega_{1} + \\omega_{2} + \\omega_{3}\\right)^{2} \\operatorname{sin}\\left(\\theta_{2} + \\theta_{3}\\right) - \\frac{l_{2} l_{3}}{2} m_{H} \\left(\\omega_{0} + \\omega_{1}\\right)^{2} \\operatorname{sin}\\left(\\theta_{2}\\right) + \\frac{l_{2} l_{3}}{2} m_{H} \\left(\\omega_{0} + \\omega_{1} + \\omega_{2}\\right)^{2} \\operatorname{sin}\\left(\\theta_{2}\\right) - l_{2} l_{3} m_{L} \\left(\\omega_{0} + \\omega_{1}\\right)^{2} \\operatorname{sin}\\left(\\theta_{2}\\right) + l_{2} l_{3} m_{L} \\left(\\omega_{0} + \\omega_{1} + \\omega_{2}\\right)^{2} \\operatorname{sin}\\left(\\theta_{2}\\right) - l_{2} l_{3} m_{L} \\left(\\omega_{0} + \\omega_{1} + \\omega_{2}\\right)^{2} \\operatorname{sin}\\left(\\theta_{3}\\right) + l_{2} l_{3} m_{L} \\left(\\omega_{0} + \\omega_{1} + \\omega_{2} + \\omega_{3}\\right)^{2} \\operatorname{sin}\\left(\\theta_{3}\\right) - l_{2} l_{3} m_{U} \\left(\\omega_{0} + \\omega_{1}\\right)^{2} \\operatorname{sin}\\left(\\theta_{2}\\right) + l_{2} l_{3} m_{U} \\left(\\omega_{0} + \\omega_{1} + \\omega_{2}\\right)^{2} \\operatorname{sin}\\left(\\theta_{2}\\right) - \\frac{l_{2} l_{3}}{2} m_{U} \\left(\\omega_{0} + \\omega_{1} + \\omega_{2}\\right)^{2} \\operatorname{sin}\\left(\\theta_{3}\\right) + \\frac{l_{2} l_{3}}{2} m_{U} \\left(\\omega_{0} + \\omega_{1} + \\omega_{2} + \\omega_{3}\\right)^{2} \\operatorname{sin}\\left(\\theta_{3}\\right) - \\left(I_{Lz} + m_{L} \\left(\\frac{l_{1}^{2}}{2} \\operatorname{cos}\\left(\\theta_{1} + \\theta_{2} + \\theta_{3} + \\theta_{4}\\right) + \\frac{l_{1}^{2}}{4} + \\frac{l_{1} l_{2}}{2} \\operatorname{cos}\\left(\\theta_{2} + \\theta_{3} + \\theta_{4}\\right) + \\frac{l_{1} l_{2}}{2} \\operatorname{cos}\\left(\\theta_{4}\\right) + \\frac{l_{1} l_{3}}{2} \\operatorname{cos}\\left(\\theta_{3} + \\theta_{4}\\right)\\right)\\right) \\dot{\\omega}_{4} - \\left(I_{Lz} + I_{Uz} + \\frac{l_{2} m_{U}}{4} \\left(2 l_{1} \\operatorname{cos}\\left(\\theta_{1} + \\theta_{2} + \\theta_{3}\\right) + 2 l_{2} \\operatorname{cos}\\left(\\theta_{2} + \\theta_{3}\\right) + l_{2} + 2 l_{3} \\operatorname{cos}\\left(\\theta_{3}\\right)\\right) + m_{L} \\left(\\frac{l_{1}^{2}}{2} \\operatorname{cos}\\left(\\theta_{1} + \\theta_{2} + \\theta_{3} + \\theta_{4}\\right) + \\frac{l_{1}^{2}}{4} + l_{1} l_{2} \\operatorname{cos}\\left(\\theta_{1} + \\theta_{2} + \\theta_{3}\\right) + \\frac{l_{1} l_{2}}{2} \\operatorname{cos}\\left(\\theta_{2} + \\theta_{3} + \\theta_{4}\\right) + l_{1} l_{2} \\operatorname{cos}\\left(\\theta_{4}\\right) + \\frac{l_{1} l_{3}}{2} \\operatorname{cos}\\left(\\theta_{3} + \\theta_{4}\\right) + l_{2}^{2} \\operatorname{cos}\\left(\\theta_{2} + \\theta_{3}\\right) + l_{2}^{2} + l_{2} l_{3} \\operatorname{cos}\\left(\\theta_{3}\\right)\\right)\\right) \\dot{\\omega}_{3} - \\left(I_{Hz} + I_{Lz} + I_{Uz} + \\frac{l_{3} m_{H}}{4} \\left(2 l_{1} \\operatorname{cos}\\left(\\theta_{1} + \\theta_{2}\\right) + 2 l_{2} \\operatorname{cos}\\left(\\theta_{2}\\right) + l_{3}\\right) + m_{L} \\left(\\frac{l_{1}^{2}}{2} \\operatorname{cos}\\left(\\theta_{1} + \\theta_{2} + \\theta_{3} + \\theta_{4}\\right) + \\frac{l_{1}^{2}}{4} + l_{1} l_{2} \\operatorname{cos}\\left(\\theta_{1} + \\theta_{2} + \\theta_{3}\\right) + \\frac{l_{1} l_{2}}{2} \\operatorname{cos}\\left(\\theta_{2} + \\theta_{3} + \\theta_{4}\\right) + l_{1} l_{2} \\operatorname{cos}\\left(\\theta_{4}\\right) + l_{1} l_{3} \\operatorname{cos}\\left(\\theta_{1} + \\theta_{2}\\right) + l_{1} l_{3} \\operatorname{cos}\\left(\\theta_{3} + \\theta_{4}\\right) + l_{2}^{2} \\operatorname{cos}\\left(\\theta_{2} + \\theta_{3}\\right) + l_{2}^{2} + l_{2} l_{3} \\operatorname{cos}\\left(\\theta_{2}\\right) + 2 l_{2} l_{3} \\operatorname{cos}\\left(\\theta_{3}\\right) + l_{3}^{2}\\right) + m_{U} \\left(\\frac{l_{1} l_{2}}{2} \\operatorname{cos}\\left(\\theta_{1} + \\theta_{2} + \\theta_{3}\\right) + l_{1} l_{3} \\operatorname{cos}\\left(\\theta_{1} + \\theta_{2}\\right) + \\frac{l_{2}^{2}}{2} \\operatorname{cos}\\left(\\theta_{2} + \\theta_{3}\\right) + \\frac{l_{2}^{2}}{4} + l_{2} l_{3} \\operatorname{cos}\\left(\\theta_{2}\\right) + l_{2} l_{3} \\operatorname{cos}\\left(\\theta_{3}\\right) + l_{3}^{2}\\right)\\right) \\dot{\\omega}_{2} - \\left(I_{Hz} + I_{Lz} + 2 I_{Uz} + \\frac{l_{2} m_{U}}{4} \\left(2 l_{1} \\operatorname{cos}\\left(\\theta_{1}\\right) + l_{2}\\right) + m_{H} \\left(l_{1} l_{2} \\operatorname{cos}\\left(\\theta_{1}\\right) + \\frac{l_{1} l_{3}}{2} \\operatorname{cos}\\left(\\theta_{1} + \\theta_{2}\\right) + l_{2}^{2} + l_{2} l_{3} \\operatorname{cos}\\left(\\theta_{2}\\right) + \\frac{l_{3}^{2}}{4}\\right) + m_{L} \\left(\\frac{l_{1}^{2}}{2} \\operatorname{cos}\\left(\\theta_{1} + \\theta_{2} + \\theta_{3} + \\theta_{4}\\right) + \\frac{l_{1}^{2}}{4} + l_{1} l_{2} \\operatorname{cos}\\left(\\theta_{1} + \\theta_{2} + \\theta_{3}\\right) + l_{1} l_{2} \\operatorname{cos}\\left(\\theta_{2} + \\theta_{3} + \\theta_{4}\\right) + l_{1} l_{2} \\operatorname{cos}\\left(\\theta_{1}\\right) + l_{1} l_{2} \\operatorname{cos}\\left(\\theta_{4}\\right) + l_{1} l_{3} \\operatorname{cos}\\left(\\theta_{1} + \\theta_{2}\\right) + l_{1} l_{3} \\operatorname{cos}\\left(\\theta_{3} + \\theta_{4}\\right) + 2 l_{2}^{2} \\operatorname{cos}\\left(\\theta_{2} + \\theta_{3}\\right) + 2 l_{2}^{2} + 2 l_{2} l_{3} \\operatorname{cos}\\left(\\theta_{2}\\right) + 2 l_{2} l_{3} \\operatorname{cos}\\left(\\theta_{3}\\right) + l_{3}^{2}\\right) + m_{U} \\left(\\frac{l_{1} l_{2}}{2} \\operatorname{cos}\\left(\\theta_{1} + \\theta_{2} + \\theta_{3}\\right) + l_{1} l_{2} \\operatorname{cos}\\left(\\theta_{1}\\right) + l_{1} l_{3} \\operatorname{cos}\\left(\\theta_{1} + \\theta_{2}\\right) + l_{2}^{2} \\operatorname{cos}\\left(\\theta_{2} + \\theta_{3}\\right) + \\frac{5 l_{2}^{2}}{4} + 2 l_{2} l_{3} \\operatorname{cos}\\left(\\theta_{2}\\right) + l_{2} l_{3} \\operatorname{cos}\\left(\\theta_{3}\\right) + l_{3}^{2}\\right)\\right) \\dot{\\omega}_{1} - \\left(I_{Hz} + 2 I_{Lz} + 2 I_{Uz} + \\frac{l_{1}^{2} m_{L}}{4} + m_{H} \\left(l_{1}^{2} + 2 l_{1} l_{2} \\operatorname{cos}\\left(\\theta_{1}\\right) + l_{1} l_{3} \\operatorname{cos}\\left(\\theta_{1} + \\theta_{2}\\right) + l_{2}^{2} + l_{2} l_{3} \\operatorname{cos}\\left(\\theta_{2}\\right) + \\frac{l_{3}^{2}}{4}\\right) + m_{L} \\left(l_{1}^{2} \\operatorname{cos}\\left(\\theta_{1} + \\theta_{2} + \\theta_{3} + \\theta_{4}\\right) + \\frac{5 l_{1}^{2}}{4} + 2 l_{1} l_{2} \\operatorname{cos}\\left(\\theta_{1} + \\theta_{2} + \\theta_{3}\\right) + l_{1} l_{2} \\operatorname{cos}\\left(\\theta_{2} + \\theta_{3} + \\theta_{4}\\right) + 2 l_{1} l_{2} \\operatorname{cos}\\left(\\theta_{1}\\right) + l_{1} l_{2} \\operatorname{cos}\\left(\\theta_{4}\\right) + 2 l_{1} l_{3} \\operatorname{cos}\\left(\\theta_{1} + \\theta_{2}\\right) + l_{1} l_{3} \\operatorname{cos}\\left(\\theta_{3} + \\theta_{4}\\right) + 2 l_{2}^{2} \\operatorname{cos}\\left(\\theta_{2} + \\theta_{3}\\right) + 2 l_{2}^{2} + 2 l_{2} l_{3} \\operatorname{cos}\\left(\\theta_{2}\\right) + 2 l_{2} l_{3} \\operatorname{cos}\\left(\\theta_{3}\\right) + l_{3}^{2}\\right) + m_{U} \\left(l_{1}^{2} + l_{1} l_{2} \\operatorname{cos}\\left(\\theta_{1}\\right) + \\frac{l_{2}^{2}}{4}\\right) + m_{U} \\left(l_{1}^{2} + l_{1} l_{2} \\operatorname{cos}\\left(\\theta_{1} + \\theta_{2} + \\theta_{3}\\right) + 2 l_{1} l_{2} \\operatorname{cos}\\left(\\theta_{1}\\right) + 2 l_{1} l_{3} \\operatorname{cos}\\left(\\theta_{1} + \\theta_{2}\\right) + l_{2}^{2} \\operatorname{cos}\\left(\\theta_{2} + \\theta_{3}\\right) + \\frac{5 l_{2}^{2}}{4} + 2 l_{2} l_{3} \\operatorname{cos}\\left(\\theta_{2}\\right) + l_{2} l_{3} \\operatorname{cos}\\left(\\theta_{3}\\right) + l_{3}^{2}\\right)\\right) \\dot{\\omega}_{0} + T_{a0}\\\\\\frac{g l_{1}}{2} m_{L} \\operatorname{sin}\\left(\\theta_{0} + \\theta_{1} + \\theta_{2} + \\theta_{3} + \\theta_{4}\\right) + g l_{2} m_{H} \\operatorname{sin}\\left(\\theta_{0} + \\theta_{1}\\right) + g l_{2} m_{L} \\operatorname{sin}\\left(\\theta_{0} + \\theta_{1}\\right) + g l_{2} m_{L} \\operatorname{sin}\\left(\\theta_{0} + \\theta_{1} + \\theta_{2} + \\theta_{3}\\right) + \\frac{3 g}{2} l_{2} m_{U} \\operatorname{sin}\\left(\\theta_{0} + \\theta_{1}\\right) + \\frac{g l_{2}}{2} m_{U} \\operatorname{sin}\\left(\\theta_{0} + \\theta_{1} + \\theta_{2} + \\theta_{3}\\right) + \\frac{g l_{3}}{2} m_{H} \\operatorname{sin}\\left(\\theta_{0} + \\theta_{1} + \\theta_{2}\\right) + g l_{3} m_{L} \\operatorname{sin}\\left(\\theta_{0} + \\theta_{1} + \\theta_{2}\\right) + g l_{3} m_{U} \\operatorname{sin}\\left(\\theta_{0} + \\theta_{1} + \\theta_{2}\\right) - \\frac{l_{1}^{2} m_{L}}{2} \\omega^{2}_{0} \\operatorname{sin}\\left(\\theta_{1} + \\theta_{2} + \\theta_{3} + \\theta_{4}\\right) - l_{1} l_{2} m_{H} \\omega^{2}_{0} \\operatorname{sin}\\left(\\theta_{1}\\right) - \\frac{l_{1} l_{2}}{2} m_{L} \\left(\\omega_{0} + \\omega_{1}\\right)^{2} \\operatorname{sin}\\left(\\theta_{2} + \\theta_{3} + \\theta_{4}\\right) - \\frac{l_{1} l_{2}}{2} m_{L} \\left(\\omega_{0} + \\omega_{1} + \\omega_{2} + \\omega_{3}\\right)^{2} \\operatorname{sin}\\left(\\theta_{4}\\right) + \\frac{l_{1} l_{2}}{2} m_{L} \\left(\\omega_{0} + \\omega_{1} + \\omega_{2} + \\omega_{3} + \\omega_{4}\\right)^{2} \\operatorname{sin}\\left(\\theta_{2} + \\theta_{3} + \\theta_{4}\\right) + \\frac{l_{1} l_{2}}{2} m_{L} \\left(\\omega_{0} + \\omega_{1} + \\omega_{2} + \\omega_{3} + \\omega_{4}\\right)^{2} \\operatorname{sin}\\left(\\theta_{4}\\right) - l_{1} l_{2} m_{L} \\omega^{2}_{0} \\operatorname{sin}\\left(\\theta_{1} + \\theta_{2} + \\theta_{3}\\right) - l_{1} l_{2} m_{L} \\omega^{2}_{0} \\operatorname{sin}\\left(\\theta_{1}\\right) - \\frac{l_{1} l_{2}}{2} m_{U} \\omega^{2}_{0} \\operatorname{sin}\\left(\\theta_{1} + \\theta_{2} + \\theta_{3}\\right) - \\frac{3 l_{1}}{2} l_{2} m_{U} \\omega^{2}_{0} \\operatorname{sin}\\left(\\theta_{1}\\right) - \\frac{l_{1} l_{3}}{2} m_{H} \\omega^{2}_{0} \\operatorname{sin}\\left(\\theta_{1} + \\theta_{2}\\right) - \\frac{l_{1} l_{3}}{2} m_{L} \\left(\\omega_{0} + \\omega_{1} + \\omega_{2}\\right)^{2} \\operatorname{sin}\\left(\\theta_{3} + \\theta_{4}\\right) + \\frac{l_{1} l_{3}}{2} m_{L} \\left(\\omega_{0} + \\omega_{1} + \\omega_{2} + \\omega_{3} + \\omega_{4}\\right)^{2} \\operatorname{sin}\\left(\\theta_{3} + \\theta_{4}\\right) - l_{1} l_{3} m_{L} \\omega^{2}_{0} \\operatorname{sin}\\left(\\theta_{1} + \\theta_{2}\\right) - l_{1} l_{3} m_{U} \\omega^{2}_{0} \\operatorname{sin}\\left(\\theta_{1} + \\theta_{2}\\right) - l_{2}^{2} m_{L} \\left(\\omega_{0} + \\omega_{1}\\right)^{2} \\operatorname{sin}\\left(\\theta_{2} + \\theta_{3}\\right) + l_{2}^{2} m_{L} \\left(\\omega_{0} + \\omega_{1} + \\omega_{2} + \\omega_{3}\\right)^{2} \\operatorname{sin}\\left(\\theta_{2} + \\theta_{3}\\right) - \\frac{l_{2}^{2} m_{U}}{2} \\left(\\omega_{0} + \\omega_{1}\\right)^{2} \\operatorname{sin}\\left(\\theta_{2} + \\theta_{3}\\right) + \\frac{l_{2}^{2} m_{U}}{2} \\left(\\omega_{0} + \\omega_{1} + \\omega_{2} + \\omega_{3}\\right)^{2} \\operatorname{sin}\\left(\\theta_{2} + \\theta_{3}\\right) - \\frac{l_{2} l_{3}}{2} m_{H} \\left(\\omega_{0} + \\omega_{1}\\right)^{2} \\operatorname{sin}\\left(\\theta_{2}\\right) + \\frac{l_{2} l_{3}}{2} m_{H} \\left(\\omega_{0} + \\omega_{1} + \\omega_{2}\\right)^{2} \\operatorname{sin}\\left(\\theta_{2}\\right) - l_{2} l_{3} m_{L} \\left(\\omega_{0} + \\omega_{1}\\right)^{2} \\operatorname{sin}\\left(\\theta_{2}\\right) + l_{2} l_{3} m_{L} \\left(\\omega_{0} + \\omega_{1} + \\omega_{2}\\right)^{2} \\operatorname{sin}\\left(\\theta_{2}\\right) - l_{2} l_{3} m_{L} \\left(\\omega_{0} + \\omega_{1} + \\omega_{2}\\right)^{2} \\operatorname{sin}\\left(\\theta_{3}\\right) + l_{2} l_{3} m_{L} \\left(\\omega_{0} + \\omega_{1} + \\omega_{2} + \\omega_{3}\\right)^{2} \\operatorname{sin}\\left(\\theta_{3}\\right) - l_{2} l_{3} m_{U} \\left(\\omega_{0} + \\omega_{1}\\right)^{2} \\operatorname{sin}\\left(\\theta_{2}\\right) + l_{2} l_{3} m_{U} \\left(\\omega_{0} + \\omega_{1} + \\omega_{2}\\right)^{2} \\operatorname{sin}\\left(\\theta_{2}\\right) - \\frac{l_{2} l_{3}}{2} m_{U} \\left(\\omega_{0} + \\omega_{1} + \\omega_{2}\\right)^{2} \\operatorname{sin}\\left(\\theta_{3}\\right) + \\frac{l_{2} l_{3}}{2} m_{U} \\left(\\omega_{0} + \\omega_{1} + \\omega_{2} + \\omega_{3}\\right)^{2} \\operatorname{sin}\\left(\\theta_{3}\\right) - \\left(I_{Lz} + \\frac{l_{1} m_{L}}{4} \\left(l_{1} + 2 l_{2} \\operatorname{cos}\\left(\\theta_{2} + \\theta_{3} + \\theta_{4}\\right) + 2 l_{2} \\operatorname{cos}\\left(\\theta_{4}\\right) + 2 l_{3} \\operatorname{cos}\\left(\\theta_{3} + \\theta_{4}\\right)\\right)\\right) \\dot{\\omega}_{4} - \\left(I_{Lz} + I_{Uz} + \\frac{l_{2} m_{U}}{4} \\left(2 l_{2} \\operatorname{cos}\\left(\\theta_{2} + \\theta_{3}\\right) + l_{2} + 2 l_{3} \\operatorname{cos}\\left(\\theta_{3}\\right)\\right) + m_{L} \\left(\\frac{l_{1}^{2}}{4} + \\frac{l_{1} l_{2}}{2} \\operatorname{cos}\\left(\\theta_{2} + \\theta_{3} + \\theta_{4}\\right) + l_{1} l_{2} \\operatorname{cos}\\left(\\theta_{4}\\right) + \\frac{l_{1} l_{3}}{2} \\operatorname{cos}\\left(\\theta_{3} + \\theta_{4}\\right) + l_{2}^{2} \\operatorname{cos}\\left(\\theta_{2} + \\theta_{3}\\right) + l_{2}^{2} + l_{2} l_{3} \\operatorname{cos}\\left(\\theta_{3}\\right)\\right)\\right) \\dot{\\omega}_{3} - \\left(I_{Hz} + I_{Lz} + I_{Uz} + \\frac{l_{3} m_{H}}{4} \\left(2 l_{2} \\operatorname{cos}\\left(\\theta_{2}\\right) + l_{3}\\right) + m_{L} \\left(\\frac{l_{1}^{2}}{4} + \\frac{l_{1} l_{2}}{2} \\operatorname{cos}\\left(\\theta_{2} + \\theta_{3} + \\theta_{4}\\right) + l_{1} l_{2} \\operatorname{cos}\\left(\\theta_{4}\\right) + l_{1} l_{3} \\operatorname{cos}\\left(\\theta_{3} + \\theta_{4}\\right) + l_{2}^{2} \\operatorname{cos}\\left(\\theta_{2} + \\theta_{3}\\right) + l_{2}^{2} + l_{2} l_{3} \\operatorname{cos}\\left(\\theta_{2}\\right) + 2 l_{2} l_{3} \\operatorname{cos}\\left(\\theta_{3}\\right) + l_{3}^{2}\\right) + m_{U} \\left(\\frac{l_{2}^{2}}{2} \\operatorname{cos}\\left(\\theta_{2} + \\theta_{3}\\right) + \\frac{l_{2}^{2}}{4} + l_{2} l_{3} \\operatorname{cos}\\left(\\theta_{2}\\right) + l_{2} l_{3} \\operatorname{cos}\\left(\\theta_{3}\\right) + l_{3}^{2}\\right)\\right) \\dot{\\omega}_{2} - \\left(I_{Hz} + I_{Lz} + 2 I_{Uz} + \\frac{l_{2}^{2} m_{U}}{4} + m_{H} \\left(l_{2}^{2} + l_{2} l_{3} \\operatorname{cos}\\left(\\theta_{2}\\right) + \\frac{l_{3}^{2}}{4}\\right) + m_{L} \\left(\\frac{l_{1}^{2}}{4} + l_{1} l_{2} \\operatorname{cos}\\left(\\theta_{2} + \\theta_{3} + \\theta_{4}\\right) + l_{1} l_{2} \\operatorname{cos}\\left(\\theta_{4}\\right) + l_{1} l_{3} \\operatorname{cos}\\left(\\theta_{3} + \\theta_{4}\\right) + 2 l_{2}^{2} \\operatorname{cos}\\left(\\theta_{2} + \\theta_{3}\\right) + 2 l_{2}^{2} + 2 l_{2} l_{3} \\operatorname{cos}\\left(\\theta_{2}\\right) + 2 l_{2} l_{3} \\operatorname{cos}\\left(\\theta_{3}\\right) + l_{3}^{2}\\right) + m_{U} \\left(l_{2}^{2} \\operatorname{cos}\\left(\\theta_{2} + \\theta_{3}\\right) + \\frac{5 l_{2}^{2}}{4} + 2 l_{2} l_{3} \\operatorname{cos}\\left(\\theta_{2}\\right) + l_{2} l_{3} \\operatorname{cos}\\left(\\theta_{3}\\right) + l_{3}^{2}\\right)\\right) \\dot{\\omega}_{1} - \\left(I_{Hz} + I_{Lz} + 2 I_{Uz} + \\frac{l_{2} m_{U}}{4} \\left(2 l_{1} \\operatorname{cos}\\left(\\theta_{1}\\right) + l_{2}\\right) + m_{H} \\left(l_{1} l_{2} \\operatorname{cos}\\left(\\theta_{1}\\right) + \\frac{l_{1} l_{3}}{2} \\operatorname{cos}\\left(\\theta_{1} + \\theta_{2}\\right) + l_{2}^{2} + l_{2} l_{3} \\operatorname{cos}\\left(\\theta_{2}\\right) + \\frac{l_{3}^{2}}{4}\\right) + m_{L} \\left(\\frac{l_{1}^{2}}{2} \\operatorname{cos}\\left(\\theta_{1} + \\theta_{2} + \\theta_{3} + \\theta_{4}\\right) + \\frac{l_{1}^{2}}{4} + l_{1} l_{2} \\operatorname{cos}\\left(\\theta_{1} + \\theta_{2} + \\theta_{3}\\right) + l_{1} l_{2} \\operatorname{cos}\\left(\\theta_{2} + \\theta_{3} + \\theta_{4}\\right) + l_{1} l_{2} \\operatorname{cos}\\left(\\theta_{1}\\right) + l_{1} l_{2} \\operatorname{cos}\\left(\\theta_{4}\\right) + l_{1} l_{3} \\operatorname{cos}\\left(\\theta_{1} + \\theta_{2}\\right) + l_{1} l_{3} \\operatorname{cos}\\left(\\theta_{3} + \\theta_{4}\\right) + 2 l_{2}^{2} \\operatorname{cos}\\left(\\theta_{2} + \\theta_{3}\\right) + 2 l_{2}^{2} + 2 l_{2} l_{3} \\operatorname{cos}\\left(\\theta_{2}\\right) + 2 l_{2} l_{3} \\operatorname{cos}\\left(\\theta_{3}\\right) + l_{3}^{2}\\right) + m_{U} \\left(\\frac{l_{1} l_{2}}{2} \\operatorname{cos}\\left(\\theta_{1} + \\theta_{2} + \\theta_{3}\\right) + l_{1} l_{2} \\operatorname{cos}\\left(\\theta_{1}\\right) + l_{1} l_{3} \\operatorname{cos}\\left(\\theta_{1} + \\theta_{2}\\right) + l_{2}^{2} \\operatorname{cos}\\left(\\theta_{2} + \\theta_{3}\\right) + \\frac{5 l_{2}^{2}}{4} + 2 l_{2} l_{3} \\operatorname{cos}\\left(\\theta_{2}\\right) + l_{2} l_{3} \\operatorname{cos}\\left(\\theta_{3}\\right) + l_{3}^{2}\\right)\\right) \\dot{\\omega}_{0} + T_{k0}\\\\\\frac{g l_{1}}{2} m_{L} \\operatorname{sin}\\left(\\theta_{0} + \\theta_{1} + \\theta_{2} + \\theta_{3} + \\theta_{4}\\right) + g l_{2} m_{L} \\operatorname{sin}\\left(\\theta_{0} + \\theta_{1} + \\theta_{2} + \\theta_{3}\\right) + \\frac{g l_{2}}{2} m_{U} \\operatorname{sin}\\left(\\theta_{0} + \\theta_{1} + \\theta_{2} + \\theta_{3}\\right) + \\frac{g l_{3}}{2} m_{H} \\operatorname{sin}\\left(\\theta_{0} + \\theta_{1} + \\theta_{2}\\right) + g l_{3} m_{L} \\operatorname{sin}\\left(\\theta_{0} + \\theta_{1} + \\theta_{2}\\right) + g l_{3} m_{U} \\operatorname{sin}\\left(\\theta_{0} + \\theta_{1} + \\theta_{2}\\right) - \\frac{l_{1}^{2} m_{L}}{2} \\omega^{2}_{0} \\operatorname{sin}\\left(\\theta_{1} + \\theta_{2} + \\theta_{3} + \\theta_{4}\\right) - \\frac{l_{1} l_{2}}{2} m_{L} \\left(\\omega_{0} + \\omega_{1}\\right)^{2} \\operatorname{sin}\\left(\\theta_{2} + \\theta_{3} + \\theta_{4}\\right) - \\frac{l_{1} l_{2}}{2} m_{L} \\left(\\omega_{0} + \\omega_{1} + \\omega_{2} + \\omega_{3}\\right)^{2} \\operatorname{sin}\\left(\\theta_{4}\\right) + \\frac{l_{1} l_{2}}{2} m_{L} \\left(\\omega_{0} + \\omega_{1} + \\omega_{2} + \\omega_{3} + \\omega_{4}\\right)^{2} \\operatorname{sin}\\left(\\theta_{4}\\right) - l_{1} l_{2} m_{L} \\omega^{2}_{0} \\operatorname{sin}\\left(\\theta_{1} + \\theta_{2} + \\theta_{3}\\right) - \\frac{l_{1} l_{2}}{2} m_{U} \\omega^{2}_{0} \\operatorname{sin}\\left(\\theta_{1} + \\theta_{2} + \\theta_{3}\\right) - \\frac{l_{1} l_{3}}{2} m_{H} \\omega^{2}_{0} \\operatorname{sin}\\left(\\theta_{1} + \\theta_{2}\\right) - \\frac{l_{1} l_{3}}{2} m_{L} \\left(\\omega_{0} + \\omega_{1} + \\omega_{2}\\right)^{2} \\operatorname{sin}\\left(\\theta_{3} + \\theta_{4}\\right) + \\frac{l_{1} l_{3}}{2} m_{L} \\left(\\omega_{0} + \\omega_{1} + \\omega_{2} + \\omega_{3} + \\omega_{4}\\right)^{2} \\operatorname{sin}\\left(\\theta_{3} + \\theta_{4}\\right) - l_{1} l_{3} m_{L} \\omega^{2}_{0} \\operatorname{sin}\\left(\\theta_{1} + \\theta_{2}\\right) - l_{1} l_{3} m_{U} \\omega^{2}_{0} \\operatorname{sin}\\left(\\theta_{1} + \\theta_{2}\\right) - l_{2}^{2} m_{L} \\left(\\omega_{0} + \\omega_{1}\\right)^{2} \\operatorname{sin}\\left(\\theta_{2} + \\theta_{3}\\right) - \\frac{l_{2}^{2} m_{U}}{2} \\left(\\omega_{0} + \\omega_{1}\\right)^{2} \\operatorname{sin}\\left(\\theta_{2} + \\theta_{3}\\right) - \\frac{l_{2} l_{3}}{2} m_{H} \\left(\\omega_{0} + \\omega_{1}\\right)^{2} \\operatorname{sin}\\left(\\theta_{2}\\right) - l_{2} l_{3} m_{L} \\left(\\omega_{0} + \\omega_{1}\\right)^{2} \\operatorname{sin}\\left(\\theta_{2}\\right) - l_{2} l_{3} m_{L} \\left(\\omega_{0} + \\omega_{1} + \\omega_{2}\\right)^{2} \\operatorname{sin}\\left(\\theta_{3}\\right) + l_{2} l_{3} m_{L} \\left(\\omega_{0} + \\omega_{1} + \\omega_{2} + \\omega_{3}\\right)^{2} \\operatorname{sin}\\left(\\theta_{3}\\right) - l_{2} l_{3} m_{U} \\left(\\omega_{0} + \\omega_{1}\\right)^{2} \\operatorname{sin}\\left(\\theta_{2}\\right) - \\frac{l_{2} l_{3}}{2} m_{U} \\left(\\omega_{0} + \\omega_{1} + \\omega_{2}\\right)^{2} \\operatorname{sin}\\left(\\theta_{3}\\right) + \\frac{l_{2} l_{3}}{2} m_{U} \\left(\\omega_{0} + \\omega_{1} + \\omega_{2} + \\omega_{3}\\right)^{2} \\operatorname{sin}\\left(\\theta_{3}\\right) - \\left(I_{Lz} + \\frac{l_{1} m_{L}}{4} \\left(l_{1} + 2 l_{2} \\operatorname{cos}\\left(\\theta_{4}\\right) + 2 l_{3} \\operatorname{cos}\\left(\\theta_{3} + \\theta_{4}\\right)\\right)\\right) \\dot{\\omega}_{4} - \\left(I_{Lz} + I_{Uz} + \\frac{l_{2} m_{U}}{4} \\left(l_{2} + 2 l_{3} \\operatorname{cos}\\left(\\theta_{3}\\right)\\right) + m_{L} \\left(\\frac{l_{1}^{2}}{4} + l_{1} l_{2} \\operatorname{cos}\\left(\\theta_{4}\\right) + \\frac{l_{1} l_{3}}{2} \\operatorname{cos}\\left(\\theta_{3} + \\theta_{4}\\right) + l_{2}^{2} + l_{2} l_{3} \\operatorname{cos}\\left(\\theta_{3}\\right)\\right)\\right) \\dot{\\omega}_{3} - \\left(I_{Hz} + I_{Lz} + I_{Uz} + \\frac{l_{3}^{2} m_{H}}{4} + m_{L} \\left(\\frac{l_{1}^{2}}{4} + l_{1} l_{2} \\operatorname{cos}\\left(\\theta_{4}\\right) + l_{1} l_{3} \\operatorname{cos}\\left(\\theta_{3} + \\theta_{4}\\right) + l_{2}^{2} + 2 l_{2} l_{3} \\operatorname{cos}\\left(\\theta_{3}\\right) + l_{3}^{2}\\right) + m_{U} \\left(\\frac{l_{2}^{2}}{4} + l_{2} l_{3} \\operatorname{cos}\\left(\\theta_{3}\\right) + l_{3}^{2}\\right)\\right) \\dot{\\omega}_{2} - \\left(I_{Hz} + I_{Lz} + I_{Uz} + \\frac{l_{3} m_{H}}{4} \\left(2 l_{2} \\operatorname{cos}\\left(\\theta_{2}\\right) + l_{3}\\right) + m_{L} \\left(\\frac{l_{1}^{2}}{4} + \\frac{l_{1} l_{2}}{2} \\operatorname{cos}\\left(\\theta_{2} + \\theta_{3} + \\theta_{4}\\right) + l_{1} l_{2} \\operatorname{cos}\\left(\\theta_{4}\\right) + l_{1} l_{3} \\operatorname{cos}\\left(\\theta_{3} + \\theta_{4}\\right) + l_{2}^{2} \\operatorname{cos}\\left(\\theta_{2} + \\theta_{3}\\right) + l_{2}^{2} + l_{2} l_{3} \\operatorname{cos}\\left(\\theta_{2}\\right) + 2 l_{2} l_{3} \\operatorname{cos}\\left(\\theta_{3}\\right) + l_{3}^{2}\\right) + m_{U} \\left(\\frac{l_{2}^{2}}{2} \\operatorname{cos}\\left(\\theta_{2} + \\theta_{3}\\right) + \\frac{l_{2}^{2}}{4} + l_{2} l_{3} \\operatorname{cos}\\left(\\theta_{2}\\right) + l_{2} l_{3} \\operatorname{cos}\\left(\\theta_{3}\\right) + l_{3}^{2}\\right)\\right) \\dot{\\omega}_{1} - \\left(I_{Hz} + I_{Lz} + I_{Uz} + \\frac{l_{3} m_{H}}{4} \\left(2 l_{1} \\operatorname{cos}\\left(\\theta_{1} + \\theta_{2}\\right) + 2 l_{2} \\operatorname{cos}\\left(\\theta_{2}\\right) + l_{3}\\right) + m_{L} \\left(\\frac{l_{1}^{2}}{2} \\operatorname{cos}\\left(\\theta_{1} + \\theta_{2} + \\theta_{3} + \\theta_{4}\\right) + \\frac{l_{1}^{2}}{4} + l_{1} l_{2} \\operatorname{cos}\\left(\\theta_{1} + \\theta_{2} + \\theta_{3}\\right) + \\frac{l_{1} l_{2}}{2} \\operatorname{cos}\\left(\\theta_{2} + \\theta_{3} + \\theta_{4}\\right) + l_{1} l_{2} \\operatorname{cos}\\left(\\theta_{4}\\right) + l_{1} l_{3} \\operatorname{cos}\\left(\\theta_{1} + \\theta_{2}\\right) + l_{1} l_{3} \\operatorname{cos}\\left(\\theta_{3} + \\theta_{4}\\right) + l_{2}^{2} \\operatorname{cos}\\left(\\theta_{2} + \\theta_{3}\\right) + l_{2}^{2} + l_{2} l_{3} \\operatorname{cos}\\left(\\theta_{2}\\right) + 2 l_{2} l_{3} \\operatorname{cos}\\left(\\theta_{3}\\right) + l_{3}^{2}\\right) + m_{U} \\left(\\frac{l_{1} l_{2}}{2} \\operatorname{cos}\\left(\\theta_{1} + \\theta_{2} + \\theta_{3}\\right) + l_{1} l_{3} \\operatorname{cos}\\left(\\theta_{1} + \\theta_{2}\\right) + \\frac{l_{2}^{2}}{2} \\operatorname{cos}\\left(\\theta_{2} + \\theta_{3}\\right) + \\frac{l_{2}^{2}}{4} + l_{2} l_{3} \\operatorname{cos}\\left(\\theta_{2}\\right) + l_{2} l_{3} \\operatorname{cos}\\left(\\theta_{3}\\right) + l_{3}^{2}\\right)\\right) \\dot{\\omega}_{0} + T_{h0}\\\\\\frac{g l_{1}}{2} m_{L} \\operatorname{sin}\\left(\\theta_{0} + \\theta_{1} + \\theta_{2} + \\theta_{3} + \\theta_{4}\\right) + g l_{2} m_{L} \\operatorname{sin}\\left(\\theta_{0} + \\theta_{1} + \\theta_{2} + \\theta_{3}\\right) + \\frac{g l_{2}}{2} m_{U} \\operatorname{sin}\\left(\\theta_{0} + \\theta_{1} + \\theta_{2} + \\theta_{3}\\right) - \\frac{l_{1}^{2} m_{L}}{2} \\omega^{2}_{0} \\operatorname{sin}\\left(\\theta_{1} + \\theta_{2} + \\theta_{3} + \\theta_{4}\\right) - \\frac{l_{1} l_{2}}{2} m_{L} \\left(\\omega_{0} + \\omega_{1}\\right)^{2} \\operatorname{sin}\\left(\\theta_{2} + \\theta_{3} + \\theta_{4}\\right) - \\frac{l_{1} l_{2}}{2} m_{L} \\left(\\omega_{0} + \\omega_{1} + \\omega_{2} + \\omega_{3}\\right)^{2} \\operatorname{sin}\\left(\\theta_{4}\\right) + \\frac{l_{1} l_{2}}{2} m_{L} \\left(\\omega_{0} + \\omega_{1} + \\omega_{2} + \\omega_{3} + \\omega_{4}\\right)^{2} \\operatorname{sin}\\left(\\theta_{4}\\right) - l_{1} l_{2} m_{L} \\omega^{2}_{0} \\operatorname{sin}\\left(\\theta_{1} + \\theta_{2} + \\theta_{3}\\right) - \\frac{l_{1} l_{2}}{2} m_{U} \\omega^{2}_{0} \\operatorname{sin}\\left(\\theta_{1} + \\theta_{2} + \\theta_{3}\\right) - \\frac{l_{1} l_{3}}{2} m_{L} \\left(\\omega_{0} + \\omega_{1} + \\omega_{2}\\right)^{2} \\operatorname{sin}\\left(\\theta_{3} + \\theta_{4}\\right) - l_{2}^{2} m_{L} \\left(\\omega_{0} + \\omega_{1}\\right)^{2} \\operatorname{sin}\\left(\\theta_{2} + \\theta_{3}\\right) - \\frac{l_{2}^{2} m_{U}}{2} \\left(\\omega_{0} + \\omega_{1}\\right)^{2} \\operatorname{sin}\\left(\\theta_{2} + \\theta_{3}\\right) - l_{2} l_{3} m_{L} \\left(\\omega_{0} + \\omega_{1} + \\omega_{2}\\right)^{2} \\operatorname{sin}\\left(\\theta_{3}\\right) - \\frac{l_{2} l_{3}}{2} m_{U} \\left(\\omega_{0} + \\omega_{1} + \\omega_{2}\\right)^{2} \\operatorname{sin}\\left(\\theta_{3}\\right) - \\left(I_{Lz} + \\frac{l_{1} m_{L}}{4} \\left(l_{1} + 2 l_{2} \\operatorname{cos}\\left(\\theta_{4}\\right)\\right)\\right) \\dot{\\omega}_{4} - \\left(I_{Lz} + I_{Uz} + \\frac{l_{2}^{2} m_{U}}{4} + m_{L} \\left(\\frac{l_{1}^{2}}{4} + l_{1} l_{2} \\operatorname{cos}\\left(\\theta_{4}\\right) + l_{2}^{2}\\right)\\right) \\dot{\\omega}_{3} - \\left(I_{Lz} + I_{Uz} + \\frac{l_{2} m_{U}}{4} \\left(l_{2} + 2 l_{3} \\operatorname{cos}\\left(\\theta_{3}\\right)\\right) + m_{L} \\left(\\frac{l_{1}^{2}}{4} + l_{1} l_{2} \\operatorname{cos}\\left(\\theta_{4}\\right) + \\frac{l_{1} l_{3}}{2} \\operatorname{cos}\\left(\\theta_{3} + \\theta_{4}\\right) + l_{2}^{2} + l_{2} l_{3} \\operatorname{cos}\\left(\\theta_{3}\\right)\\right)\\right) \\dot{\\omega}_{2} - \\left(I_{Lz} + I_{Uz} + \\frac{l_{2} m_{U}}{4} \\left(2 l_{2} \\operatorname{cos}\\left(\\theta_{2} + \\theta_{3}\\right) + l_{2} + 2 l_{3} \\operatorname{cos}\\left(\\theta_{3}\\right)\\right) + m_{L} \\left(\\frac{l_{1}^{2}}{4} + \\frac{l_{1} l_{2}}{2} \\operatorname{cos}\\left(\\theta_{2} + \\theta_{3} + \\theta_{4}\\right) + l_{1} l_{2} \\operatorname{cos}\\left(\\theta_{4}\\right) + \\frac{l_{1} l_{3}}{2} \\operatorname{cos}\\left(\\theta_{3} + \\theta_{4}\\right) + l_{2}^{2} \\operatorname{cos}\\left(\\theta_{2} + \\theta_{3}\\right) + l_{2}^{2} + l_{2} l_{3} \\operatorname{cos}\\left(\\theta_{3}\\right)\\right)\\right) \\dot{\\omega}_{1} - \\left(I_{Lz} + I_{Uz} + \\frac{l_{2} m_{U}}{4} \\left(2 l_{1} \\operatorname{cos}\\left(\\theta_{1} + \\theta_{2} + \\theta_{3}\\right) + 2 l_{2} \\operatorname{cos}\\left(\\theta_{2} + \\theta_{3}\\right) + l_{2} + 2 l_{3} \\operatorname{cos}\\left(\\theta_{3}\\right)\\right) + m_{L} \\left(\\frac{l_{1}^{2}}{2} \\operatorname{cos}\\left(\\theta_{1} + \\theta_{2} + \\theta_{3} + \\theta_{4}\\right) + \\frac{l_{1}^{2}}{4} + l_{1} l_{2} \\operatorname{cos}\\left(\\theta_{1} + \\theta_{2} + \\theta_{3}\\right) + \\frac{l_{1} l_{2}}{2} \\operatorname{cos}\\left(\\theta_{2} + \\theta_{3} + \\theta_{4}\\right) + l_{1} l_{2} \\operatorname{cos}\\left(\\theta_{4}\\right) + \\frac{l_{1} l_{3}}{2} \\operatorname{cos}\\left(\\theta_{3} + \\theta_{4}\\right) + l_{2}^{2} \\operatorname{cos}\\left(\\theta_{2} + \\theta_{3}\\right) + l_{2}^{2} + l_{2} l_{3} \\operatorname{cos}\\left(\\theta_{3}\\right)\\right)\\right) \\dot{\\omega}_{0} + T_{k1}\\\\\\frac{g l_{1}}{2} m_{L} \\operatorname{sin}\\left(\\theta_{0} + \\theta_{1} + \\theta_{2} + \\theta_{3} + \\theta_{4}\\right) - \\frac{l_{1}^{2} m_{L}}{2} \\omega^{2}_{0} \\operatorname{sin}\\left(\\theta_{1} + \\theta_{2} + \\theta_{3} + \\theta_{4}\\right) - \\frac{l_{1} l_{2}}{2} m_{L} \\left(\\omega_{0} + \\omega_{1}\\right)^{2} \\operatorname{sin}\\left(\\theta_{2} + \\theta_{3} + \\theta_{4}\\right) - \\frac{l_{1} l_{2}}{2} m_{L} \\left(\\omega_{0} + \\omega_{1} + \\omega_{2} + \\omega_{3}\\right)^{2} \\operatorname{sin}\\left(\\theta_{4}\\right) - \\frac{l_{1} l_{3}}{2} m_{L} \\left(\\omega_{0} + \\omega_{1} + \\omega_{2}\\right)^{2} \\operatorname{sin}\\left(\\theta_{3} + \\theta_{4}\\right) - \\left(I_{Lz} + \\frac{l_{1}^{2} m_{L}}{4}\\right) \\dot{\\omega}_{4} - \\left(I_{Lz} + m_{L} \\left(\\frac{l_{1}^{2}}{2} \\operatorname{cos}\\left(\\theta_{1} + \\theta_{2} + \\theta_{3} + \\theta_{4}\\right) + \\frac{l_{1}^{2}}{4} + \\frac{l_{1} l_{2}}{2} \\operatorname{cos}\\left(\\theta_{2} + \\theta_{3} + \\theta_{4}\\right) + \\frac{l_{1} l_{2}}{2} \\operatorname{cos}\\left(\\theta_{4}\\right) + \\frac{l_{1} l_{3}}{2} \\operatorname{cos}\\left(\\theta_{3} + \\theta_{4}\\right)\\right)\\right) \\dot{\\omega}_{0} - \\left(I_{Lz} + \\frac{l_{1} m_{L}}{4} \\left(l_{1} + 2 l_{2} \\operatorname{cos}\\left(\\theta_{4}\\right)\\right)\\right) \\dot{\\omega}_{3} - \\left(I_{Lz} + \\frac{l_{1} m_{L}}{4} \\left(l_{1} + 2 l_{2} \\operatorname{cos}\\left(\\theta_{4}\\right) + 2 l_{3} \\operatorname{cos}\\left(\\theta_{3} + \\theta_{4}\\right)\\right)\\right) \\dot{\\omega}_{2} - \\left(I_{Lz} + \\frac{l_{1} m_{L}}{4} \\left(l_{1} + 2 l_{2} \\operatorname{cos}\\left(\\theta_{2} + \\theta_{3} + \\theta_{4}\\right) + 2 l_{2} \\operatorname{cos}\\left(\\theta_{4}\\right) + 2 l_{3} \\operatorname{cos}\\left(\\theta_{3} + \\theta_{4}\\right)\\right)\\right) \\dot{\\omega}_{1} + T_{a1}\\end{matrix}\\right]$$"
      ],
      "text/plain": [
       "Matrix([\n",
       "[g*l1*m_H*sin(theta0) + g*l1*m_L*sin(theta0 + theta1 + theta2 + theta3 + theta4)/2 + 3*g*l1*m_L*sin(theta0)/2 + 2*g*l1*m_U*sin(theta0) + g*l2*m_H*sin(theta0 + theta1) + g*l2*m_L*sin(theta0 + theta1) + g*l2*m_L*sin(theta0 + theta1 + theta2 + theta3) + 3*g*l2*m_U*sin(theta0 + theta1)/2 + g*l2*m_U*sin(theta0 + theta1 + theta2 + theta3)/2 + g*l3*m_H*sin(theta0 + theta1 + theta2)/2 + g*l3*m_L*sin(theta0 + theta1 + theta2) + g*l3*m_U*sin(theta0 + theta1 + theta2) + l1**2*m_L*(omega0 + omega1 + omega2 + omega3 + omega4)**2*sin(theta1 + theta2 + theta3 + theta4)/2 - l1**2*m_L*omega0**2*sin(theta1 + theta2 + theta3 + theta4)/2 + l1*l2*m_H*(omega0 + omega1)**2*sin(theta1) - l1*l2*m_H*omega0**2*sin(theta1) - l1*l2*m_L*(omega0 + omega1)**2*sin(theta2 + theta3 + theta4)/2 + l1*l2*m_L*(omega0 + omega1)**2*sin(theta1) + l1*l2*m_L*(omega0 + omega1 + omega2 + omega3)**2*sin(theta1 + theta2 + theta3) - l1*l2*m_L*(omega0 + omega1 + omega2 + omega3)**2*sin(theta4)/2 + l1*l2*m_L*(omega0 + omega1 + omega2 + omega3 + omega4)**2*sin(theta2 + theta3 + theta4)/2 + l1*l2*m_L*(omega0 + omega1 + omega2 + omega3 + omega4)**2*sin(theta4)/2 - l1*l2*m_L*omega0**2*sin(theta1 + theta2 + theta3) - l1*l2*m_L*omega0**2*sin(theta1) + 3*l1*l2*m_U*(omega0 + omega1)**2*sin(theta1)/2 + l1*l2*m_U*(omega0 + omega1 + omega2 + omega3)**2*sin(theta1 + theta2 + theta3)/2 - l1*l2*m_U*omega0**2*sin(theta1 + theta2 + theta3)/2 - 3*l1*l2*m_U*omega0**2*sin(theta1)/2 + l1*l3*m_H*(omega0 + omega1 + omega2)**2*sin(theta1 + theta2)/2 - l1*l3*m_H*omega0**2*sin(theta1 + theta2)/2 + l1*l3*m_L*(omega0 + omega1 + omega2)**2*sin(theta1 + theta2) - l1*l3*m_L*(omega0 + omega1 + omega2)**2*sin(theta3 + theta4)/2 + l1*l3*m_L*(omega0 + omega1 + omega2 + omega3 + omega4)**2*sin(theta3 + theta4)/2 - l1*l3*m_L*omega0**2*sin(theta1 + theta2) + l1*l3*m_U*(omega0 + omega1 + omega2)**2*sin(theta1 + theta2) - l1*l3*m_U*omega0**2*sin(theta1 + theta2) - l2**2*m_L*(omega0 + omega1)**2*sin(theta2 + theta3) + l2**2*m_L*(omega0 + omega1 + omega2 + omega3)**2*sin(theta2 + theta3) - l2**2*m_U*(omega0 + omega1)**2*sin(theta2 + theta3)/2 + l2**2*m_U*(omega0 + omega1 + omega2 + omega3)**2*sin(theta2 + theta3)/2 - l2*l3*m_H*(omega0 + omega1)**2*sin(theta2)/2 + l2*l3*m_H*(omega0 + omega1 + omega2)**2*sin(theta2)/2 - l2*l3*m_L*(omega0 + omega1)**2*sin(theta2) + l2*l3*m_L*(omega0 + omega1 + omega2)**2*sin(theta2) - l2*l3*m_L*(omega0 + omega1 + omega2)**2*sin(theta3) + l2*l3*m_L*(omega0 + omega1 + omega2 + omega3)**2*sin(theta3) - l2*l3*m_U*(omega0 + omega1)**2*sin(theta2) + l2*l3*m_U*(omega0 + omega1 + omega2)**2*sin(theta2) - l2*l3*m_U*(omega0 + omega1 + omega2)**2*sin(theta3)/2 + l2*l3*m_U*(omega0 + omega1 + omega2 + omega3)**2*sin(theta3)/2 - (I_Lz + m_L*(l1**2*cos(theta1 + theta2 + theta3 + theta4)/2 + l1**2/4 + l1*l2*cos(theta2 + theta3 + theta4)/2 + l1*l2*cos(theta4)/2 + l1*l3*cos(theta3 + theta4)/2))*omega4' - (I_Lz + I_Uz + l2*m_U*(2*l1*cos(theta1 + theta2 + theta3) + 2*l2*cos(theta2 + theta3) + l2 + 2*l3*cos(theta3))/4 + m_L*(l1**2*cos(theta1 + theta2 + theta3 + theta4)/2 + l1**2/4 + l1*l2*cos(theta1 + theta2 + theta3) + l1*l2*cos(theta2 + theta3 + theta4)/2 + l1*l2*cos(theta4) + l1*l3*cos(theta3 + theta4)/2 + l2**2*cos(theta2 + theta3) + l2**2 + l2*l3*cos(theta3)))*omega3' - (I_Hz + I_Lz + I_Uz + l3*m_H*(2*l1*cos(theta1 + theta2) + 2*l2*cos(theta2) + l3)/4 + m_L*(l1**2*cos(theta1 + theta2 + theta3 + theta4)/2 + l1**2/4 + l1*l2*cos(theta1 + theta2 + theta3) + l1*l2*cos(theta2 + theta3 + theta4)/2 + l1*l2*cos(theta4) + l1*l3*cos(theta1 + theta2) + l1*l3*cos(theta3 + theta4) + l2**2*cos(theta2 + theta3) + l2**2 + l2*l3*cos(theta2) + 2*l2*l3*cos(theta3) + l3**2) + m_U*(l1*l2*cos(theta1 + theta2 + theta3)/2 + l1*l3*cos(theta1 + theta2) + l2**2*cos(theta2 + theta3)/2 + l2**2/4 + l2*l3*cos(theta2) + l2*l3*cos(theta3) + l3**2))*omega2' - (I_Hz + I_Lz + 2*I_Uz + l2*m_U*(2*l1*cos(theta1) + l2)/4 + m_H*(l1*l2*cos(theta1) + l1*l3*cos(theta1 + theta2)/2 + l2**2 + l2*l3*cos(theta2) + l3**2/4) + m_L*(l1**2*cos(theta1 + theta2 + theta3 + theta4)/2 + l1**2/4 + l1*l2*cos(theta1 + theta2 + theta3) + l1*l2*cos(theta2 + theta3 + theta4) + l1*l2*cos(theta1) + l1*l2*cos(theta4) + l1*l3*cos(theta1 + theta2) + l1*l3*cos(theta3 + theta4) + 2*l2**2*cos(theta2 + theta3) + 2*l2**2 + 2*l2*l3*cos(theta2) + 2*l2*l3*cos(theta3) + l3**2) + m_U*(l1*l2*cos(theta1 + theta2 + theta3)/2 + l1*l2*cos(theta1) + l1*l3*cos(theta1 + theta2) + l2**2*cos(theta2 + theta3) + 5*l2**2/4 + 2*l2*l3*cos(theta2) + l2*l3*cos(theta3) + l3**2))*omega1' - (I_Hz + 2*I_Lz + 2*I_Uz + l1**2*m_L/4 + m_H*(l1**2 + 2*l1*l2*cos(theta1) + l1*l3*cos(theta1 + theta2) + l2**2 + l2*l3*cos(theta2) + l3**2/4) + m_L*(l1**2*cos(theta1 + theta2 + theta3 + theta4) + 5*l1**2/4 + 2*l1*l2*cos(theta1 + theta2 + theta3) + l1*l2*cos(theta2 + theta3 + theta4) + 2*l1*l2*cos(theta1) + l1*l2*cos(theta4) + 2*l1*l3*cos(theta1 + theta2) + l1*l3*cos(theta3 + theta4) + 2*l2**2*cos(theta2 + theta3) + 2*l2**2 + 2*l2*l3*cos(theta2) + 2*l2*l3*cos(theta3) + l3**2) + m_U*(l1**2 + l1*l2*cos(theta1) + l2**2/4) + m_U*(l1**2 + l1*l2*cos(theta1 + theta2 + theta3) + 2*l1*l2*cos(theta1) + 2*l1*l3*cos(theta1 + theta2) + l2**2*cos(theta2 + theta3) + 5*l2**2/4 + 2*l2*l3*cos(theta2) + l2*l3*cos(theta3) + l3**2))*omega0' + T_a0],\n",
       "[                                                                                                                                                                                                                                                                                                                                                                                                                                                                                                                                                                                                                                                                                                                                                                                                                                                                                                                                                                                                                                                                                                                                                                                                                                                                                                                                                                                                                                                                   g*l1*m_L*sin(theta0 + theta1 + theta2 + theta3 + theta4)/2 + g*l2*m_H*sin(theta0 + theta1) + g*l2*m_L*sin(theta0 + theta1) + g*l2*m_L*sin(theta0 + theta1 + theta2 + theta3) + 3*g*l2*m_U*sin(theta0 + theta1)/2 + g*l2*m_U*sin(theta0 + theta1 + theta2 + theta3)/2 + g*l3*m_H*sin(theta0 + theta1 + theta2)/2 + g*l3*m_L*sin(theta0 + theta1 + theta2) + g*l3*m_U*sin(theta0 + theta1 + theta2) - l1**2*m_L*omega0**2*sin(theta1 + theta2 + theta3 + theta4)/2 - l1*l2*m_H*omega0**2*sin(theta1) - l1*l2*m_L*(omega0 + omega1)**2*sin(theta2 + theta3 + theta4)/2 - l1*l2*m_L*(omega0 + omega1 + omega2 + omega3)**2*sin(theta4)/2 + l1*l2*m_L*(omega0 + omega1 + omega2 + omega3 + omega4)**2*sin(theta2 + theta3 + theta4)/2 + l1*l2*m_L*(omega0 + omega1 + omega2 + omega3 + omega4)**2*sin(theta4)/2 - l1*l2*m_L*omega0**2*sin(theta1 + theta2 + theta3) - l1*l2*m_L*omega0**2*sin(theta1) - l1*l2*m_U*omega0**2*sin(theta1 + theta2 + theta3)/2 - 3*l1*l2*m_U*omega0**2*sin(theta1)/2 - l1*l3*m_H*omega0**2*sin(theta1 + theta2)/2 - l1*l3*m_L*(omega0 + omega1 + omega2)**2*sin(theta3 + theta4)/2 + l1*l3*m_L*(omega0 + omega1 + omega2 + omega3 + omega4)**2*sin(theta3 + theta4)/2 - l1*l3*m_L*omega0**2*sin(theta1 + theta2) - l1*l3*m_U*omega0**2*sin(theta1 + theta2) - l2**2*m_L*(omega0 + omega1)**2*sin(theta2 + theta3) + l2**2*m_L*(omega0 + omega1 + omega2 + omega3)**2*sin(theta2 + theta3) - l2**2*m_U*(omega0 + omega1)**2*sin(theta2 + theta3)/2 + l2**2*m_U*(omega0 + omega1 + omega2 + omega3)**2*sin(theta2 + theta3)/2 - l2*l3*m_H*(omega0 + omega1)**2*sin(theta2)/2 + l2*l3*m_H*(omega0 + omega1 + omega2)**2*sin(theta2)/2 - l2*l3*m_L*(omega0 + omega1)**2*sin(theta2) + l2*l3*m_L*(omega0 + omega1 + omega2)**2*sin(theta2) - l2*l3*m_L*(omega0 + omega1 + omega2)**2*sin(theta3) + l2*l3*m_L*(omega0 + omega1 + omega2 + omega3)**2*sin(theta3) - l2*l3*m_U*(omega0 + omega1)**2*sin(theta2) + l2*l3*m_U*(omega0 + omega1 + omega2)**2*sin(theta2) - l2*l3*m_U*(omega0 + omega1 + omega2)**2*sin(theta3)/2 + l2*l3*m_U*(omega0 + omega1 + omega2 + omega3)**2*sin(theta3)/2 - (I_Lz + l1*m_L*(l1 + 2*l2*cos(theta2 + theta3 + theta4) + 2*l2*cos(theta4) + 2*l3*cos(theta3 + theta4))/4)*omega4' - (I_Lz + I_Uz + l2*m_U*(2*l2*cos(theta2 + theta3) + l2 + 2*l3*cos(theta3))/4 + m_L*(l1**2/4 + l1*l2*cos(theta2 + theta3 + theta4)/2 + l1*l2*cos(theta4) + l1*l3*cos(theta3 + theta4)/2 + l2**2*cos(theta2 + theta3) + l2**2 + l2*l3*cos(theta3)))*omega3' - (I_Hz + I_Lz + I_Uz + l3*m_H*(2*l2*cos(theta2) + l3)/4 + m_L*(l1**2/4 + l1*l2*cos(theta2 + theta3 + theta4)/2 + l1*l2*cos(theta4) + l1*l3*cos(theta3 + theta4) + l2**2*cos(theta2 + theta3) + l2**2 + l2*l3*cos(theta2) + 2*l2*l3*cos(theta3) + l3**2) + m_U*(l2**2*cos(theta2 + theta3)/2 + l2**2/4 + l2*l3*cos(theta2) + l2*l3*cos(theta3) + l3**2))*omega2' - (I_Hz + I_Lz + 2*I_Uz + l2**2*m_U/4 + m_H*(l2**2 + l2*l3*cos(theta2) + l3**2/4) + m_L*(l1**2/4 + l1*l2*cos(theta2 + theta3 + theta4) + l1*l2*cos(theta4) + l1*l3*cos(theta3 + theta4) + 2*l2**2*cos(theta2 + theta3) + 2*l2**2 + 2*l2*l3*cos(theta2) + 2*l2*l3*cos(theta3) + l3**2) + m_U*(l2**2*cos(theta2 + theta3) + 5*l2**2/4 + 2*l2*l3*cos(theta2) + l2*l3*cos(theta3) + l3**2))*omega1' - (I_Hz + I_Lz + 2*I_Uz + l2*m_U*(2*l1*cos(theta1) + l2)/4 + m_H*(l1*l2*cos(theta1) + l1*l3*cos(theta1 + theta2)/2 + l2**2 + l2*l3*cos(theta2) + l3**2/4) + m_L*(l1**2*cos(theta1 + theta2 + theta3 + theta4)/2 + l1**2/4 + l1*l2*cos(theta1 + theta2 + theta3) + l1*l2*cos(theta2 + theta3 + theta4) + l1*l2*cos(theta1) + l1*l2*cos(theta4) + l1*l3*cos(theta1 + theta2) + l1*l3*cos(theta3 + theta4) + 2*l2**2*cos(theta2 + theta3) + 2*l2**2 + 2*l2*l3*cos(theta2) + 2*l2*l3*cos(theta3) + l3**2) + m_U*(l1*l2*cos(theta1 + theta2 + theta3)/2 + l1*l2*cos(theta1) + l1*l3*cos(theta1 + theta2) + l2**2*cos(theta2 + theta3) + 5*l2**2/4 + 2*l2*l3*cos(theta2) + l2*l3*cos(theta3) + l3**2))*omega0' + T_k0],\n",
       "[                                                                                                                                                                                                                                                                                                                                                                                                                                                                                                                                                                                                                                                                                                                                                                                                                                                                                                                                                                                                                                                                                                                                                                                                                                                                                                                                                                                                                                                                                                                                                                                                                                                                                                                                                                                                                                                                                                                                                                                                                                                                                                                                                                                                                                                                                                                                                                                                                                                                                                                                                            g*l1*m_L*sin(theta0 + theta1 + theta2 + theta3 + theta4)/2 + g*l2*m_L*sin(theta0 + theta1 + theta2 + theta3) + g*l2*m_U*sin(theta0 + theta1 + theta2 + theta3)/2 + g*l3*m_H*sin(theta0 + theta1 + theta2)/2 + g*l3*m_L*sin(theta0 + theta1 + theta2) + g*l3*m_U*sin(theta0 + theta1 + theta2) - l1**2*m_L*omega0**2*sin(theta1 + theta2 + theta3 + theta4)/2 - l1*l2*m_L*(omega0 + omega1)**2*sin(theta2 + theta3 + theta4)/2 - l1*l2*m_L*(omega0 + omega1 + omega2 + omega3)**2*sin(theta4)/2 + l1*l2*m_L*(omega0 + omega1 + omega2 + omega3 + omega4)**2*sin(theta4)/2 - l1*l2*m_L*omega0**2*sin(theta1 + theta2 + theta3) - l1*l2*m_U*omega0**2*sin(theta1 + theta2 + theta3)/2 - l1*l3*m_H*omega0**2*sin(theta1 + theta2)/2 - l1*l3*m_L*(omega0 + omega1 + omega2)**2*sin(theta3 + theta4)/2 + l1*l3*m_L*(omega0 + omega1 + omega2 + omega3 + omega4)**2*sin(theta3 + theta4)/2 - l1*l3*m_L*omega0**2*sin(theta1 + theta2) - l1*l3*m_U*omega0**2*sin(theta1 + theta2) - l2**2*m_L*(omega0 + omega1)**2*sin(theta2 + theta3) - l2**2*m_U*(omega0 + omega1)**2*sin(theta2 + theta3)/2 - l2*l3*m_H*(omega0 + omega1)**2*sin(theta2)/2 - l2*l3*m_L*(omega0 + omega1)**2*sin(theta2) - l2*l3*m_L*(omega0 + omega1 + omega2)**2*sin(theta3) + l2*l3*m_L*(omega0 + omega1 + omega2 + omega3)**2*sin(theta3) - l2*l3*m_U*(omega0 + omega1)**2*sin(theta2) - l2*l3*m_U*(omega0 + omega1 + omega2)**2*sin(theta3)/2 + l2*l3*m_U*(omega0 + omega1 + omega2 + omega3)**2*sin(theta3)/2 - (I_Lz + l1*m_L*(l1 + 2*l2*cos(theta4) + 2*l3*cos(theta3 + theta4))/4)*omega4' - (I_Lz + I_Uz + l2*m_U*(l2 + 2*l3*cos(theta3))/4 + m_L*(l1**2/4 + l1*l2*cos(theta4) + l1*l3*cos(theta3 + theta4)/2 + l2**2 + l2*l3*cos(theta3)))*omega3' - (I_Hz + I_Lz + I_Uz + l3**2*m_H/4 + m_L*(l1**2/4 + l1*l2*cos(theta4) + l1*l3*cos(theta3 + theta4) + l2**2 + 2*l2*l3*cos(theta3) + l3**2) + m_U*(l2**2/4 + l2*l3*cos(theta3) + l3**2))*omega2' - (I_Hz + I_Lz + I_Uz + l3*m_H*(2*l2*cos(theta2) + l3)/4 + m_L*(l1**2/4 + l1*l2*cos(theta2 + theta3 + theta4)/2 + l1*l2*cos(theta4) + l1*l3*cos(theta3 + theta4) + l2**2*cos(theta2 + theta3) + l2**2 + l2*l3*cos(theta2) + 2*l2*l3*cos(theta3) + l3**2) + m_U*(l2**2*cos(theta2 + theta3)/2 + l2**2/4 + l2*l3*cos(theta2) + l2*l3*cos(theta3) + l3**2))*omega1' - (I_Hz + I_Lz + I_Uz + l3*m_H*(2*l1*cos(theta1 + theta2) + 2*l2*cos(theta2) + l3)/4 + m_L*(l1**2*cos(theta1 + theta2 + theta3 + theta4)/2 + l1**2/4 + l1*l2*cos(theta1 + theta2 + theta3) + l1*l2*cos(theta2 + theta3 + theta4)/2 + l1*l2*cos(theta4) + l1*l3*cos(theta1 + theta2) + l1*l3*cos(theta3 + theta4) + l2**2*cos(theta2 + theta3) + l2**2 + l2*l3*cos(theta2) + 2*l2*l3*cos(theta3) + l3**2) + m_U*(l1*l2*cos(theta1 + theta2 + theta3)/2 + l1*l3*cos(theta1 + theta2) + l2**2*cos(theta2 + theta3)/2 + l2**2/4 + l2*l3*cos(theta2) + l2*l3*cos(theta3) + l3**2))*omega0' + T_h0],\n",
       "[                                                                                                                                                                                                                                                                                                                                                                                                                                                                                                                                                                                                                                                                                                                                                                                                                                                                                                                                                                                                                                                                                                                                                                                                                                                                                                                                                                                                                                                                                                                                                                                                                                                                                                                                                                                                                                                                                                                                                                                                                                                                                                                                                                                                                                                                                                                                                                                                                                                                                                                                                                                                                                                                                                                                                                                                                                                                                                                                                                                                                                                                                                                                                                                                                                                                                                                                                                                                                                                                                                                                                                                                                                       g*l1*m_L*sin(theta0 + theta1 + theta2 + theta3 + theta4)/2 + g*l2*m_L*sin(theta0 + theta1 + theta2 + theta3) + g*l2*m_U*sin(theta0 + theta1 + theta2 + theta3)/2 - l1**2*m_L*omega0**2*sin(theta1 + theta2 + theta3 + theta4)/2 - l1*l2*m_L*(omega0 + omega1)**2*sin(theta2 + theta3 + theta4)/2 - l1*l2*m_L*(omega0 + omega1 + omega2 + omega3)**2*sin(theta4)/2 + l1*l2*m_L*(omega0 + omega1 + omega2 + omega3 + omega4)**2*sin(theta4)/2 - l1*l2*m_L*omega0**2*sin(theta1 + theta2 + theta3) - l1*l2*m_U*omega0**2*sin(theta1 + theta2 + theta3)/2 - l1*l3*m_L*(omega0 + omega1 + omega2)**2*sin(theta3 + theta4)/2 - l2**2*m_L*(omega0 + omega1)**2*sin(theta2 + theta3) - l2**2*m_U*(omega0 + omega1)**2*sin(theta2 + theta3)/2 - l2*l3*m_L*(omega0 + omega1 + omega2)**2*sin(theta3) - l2*l3*m_U*(omega0 + omega1 + omega2)**2*sin(theta3)/2 - (I_Lz + l1*m_L*(l1 + 2*l2*cos(theta4))/4)*omega4' - (I_Lz + I_Uz + l2**2*m_U/4 + m_L*(l1**2/4 + l1*l2*cos(theta4) + l2**2))*omega3' - (I_Lz + I_Uz + l2*m_U*(l2 + 2*l3*cos(theta3))/4 + m_L*(l1**2/4 + l1*l2*cos(theta4) + l1*l3*cos(theta3 + theta4)/2 + l2**2 + l2*l3*cos(theta3)))*omega2' - (I_Lz + I_Uz + l2*m_U*(2*l2*cos(theta2 + theta3) + l2 + 2*l3*cos(theta3))/4 + m_L*(l1**2/4 + l1*l2*cos(theta2 + theta3 + theta4)/2 + l1*l2*cos(theta4) + l1*l3*cos(theta3 + theta4)/2 + l2**2*cos(theta2 + theta3) + l2**2 + l2*l3*cos(theta3)))*omega1' - (I_Lz + I_Uz + l2*m_U*(2*l1*cos(theta1 + theta2 + theta3) + 2*l2*cos(theta2 + theta3) + l2 + 2*l3*cos(theta3))/4 + m_L*(l1**2*cos(theta1 + theta2 + theta3 + theta4)/2 + l1**2/4 + l1*l2*cos(theta1 + theta2 + theta3) + l1*l2*cos(theta2 + theta3 + theta4)/2 + l1*l2*cos(theta4) + l1*l3*cos(theta3 + theta4)/2 + l2**2*cos(theta2 + theta3) + l2**2 + l2*l3*cos(theta3)))*omega0' + T_k1],\n",
       "[                                                                                                                                                                                                                                                                                                                                                                                                                                                                                                                                                                                                                                                                                                                                                                                                                                                                                                                                                                                                                                                                                                                                                                                                                                                                                                                                                                                                                                                                                                                                                                                                                                                                                                                                                                                                                                                                                                                                                                                                                                                                                                                                                                                                                                                                                                                                                                                                                                                                                                                                                                                                                                                                                                                                                                                                                                                                                                                                                                                                                                                                                                                                                                                                                                                                                                                                                                                                                                                                                                                                                                                                                                                                                                                                                                                                                                                                                                                                                                                                                                                                                                                                                                                                                                                                                                                                                                                                                                                                                                                                                                                                                                        g*l1*m_L*sin(theta0 + theta1 + theta2 + theta3 + theta4)/2 - l1**2*m_L*omega0**2*sin(theta1 + theta2 + theta3 + theta4)/2 - l1*l2*m_L*(omega0 + omega1)**2*sin(theta2 + theta3 + theta4)/2 - l1*l2*m_L*(omega0 + omega1 + omega2 + omega3)**2*sin(theta4)/2 - l1*l3*m_L*(omega0 + omega1 + omega2)**2*sin(theta3 + theta4)/2 - (I_Lz + l1**2*m_L/4)*omega4' - (I_Lz + m_L*(l1**2*cos(theta1 + theta2 + theta3 + theta4)/2 + l1**2/4 + l1*l2*cos(theta2 + theta3 + theta4)/2 + l1*l2*cos(theta4)/2 + l1*l3*cos(theta3 + theta4)/2))*omega0' - (I_Lz + l1*m_L*(l1 + 2*l2*cos(theta4))/4)*omega3' - (I_Lz + l1*m_L*(l1 + 2*l2*cos(theta4) + 2*l3*cos(theta3 + theta4))/4)*omega2' - (I_Lz + l1*m_L*(l1 + 2*l2*cos(theta2 + theta3 + theta4) + 2*l2*cos(theta4) + 2*l3*cos(theta3 + theta4))/4)*omega1' + T_a1]])"
      ]
     },
     "execution_count": 64,
     "metadata": {},
     "output_type": "execute_result"
    }
   ],
   "source": [
    "trigsimp(fr + frstar)"
   ]
  },
  {
   "cell_type": "markdown",
   "metadata": {},
   "source": [
    "Keep in mind that out utlimate goal is to have the equations of motion in first order form:\n",
    "\n",
    "$$ \\dot{\\mathbf{x}} = \\mathbf{g}(\\mathbf{x}, t) $$\n",
    "\n",
    "The equations of motion are linear in terms of the derivatives of the generalized speeds and the `KanesMethod` class automatically puts the equations in a more useful form for the next step of numerical simulation:\n",
    "\n",
    "$$ \\mathbf{M}(\\mathbf{x}, t)\\dot{\\mathbf{x}} = \\mathbf{f}(\\mathbf{x}, t) $$\n",
    "\n",
    "Note that\n",
    "\n",
    "$$ \\mathbf{g} = \\mathbf{M}^{-1}(\\mathbf{x}, t) \\mathbf{f}(\\mathbf{x}, t) $$\n",
    "\n",
    "and that $\\mathbf{g}$ can be computed analytically but for non-toy problems, it is best to do this numerically. So we will simply generate the $\\mathbf{M}$ and $\\mathbf{f}$ matrices for later use.\n",
    "\n",
    "The mass matrix, $\\mathbf{M}$, can be accessed with the `mass_matrix` method (use `mass_matrix_full` to include the kinematical differential equations too. We can use `trigsimp` again to make this relatively compact: "
   ]
  },
  {
   "cell_type": "code",
   "execution_count": null,
   "metadata": {},
   "outputs": [],
   "source": [
    "mass_matrix = trigsimp(kane.mass_matrix_full)\n",
    "mass_matrix"
   ]
  },
  {
   "cell_type": "markdown",
   "metadata": {},
   "source": [
    "The right hand side, $\\mathbf{f}$, is a vector function of all the non-inertial forces (gyroscopic, external, coriolis, etc):"
   ]
  },
  {
   "cell_type": "code",
   "execution_count": null,
   "metadata": {},
   "outputs": [],
   "source": [
    "forcing_vector = trigsimp(kane.forcing_full)\n",
    "forcing_vector"
   ]
  },
  {
   "cell_type": "markdown",
   "metadata": {},
   "source": [
    "# Simulation"
   ]
  },
  {
   "cell_type": "code",
   "execution_count": null,
   "metadata": {
    "collapsed": true
   },
   "outputs": [],
   "source": [
    "from scipy.integrate import odeint\n",
    "from pydy.codegen.ode_function_generators import generate_ode_function\n",
    "%matplotlib inline\n",
    "from matplotlib.pyplot import plot, legend, xlabel, ylabel, rcParams\n",
    "rcParams['figure.figsize'] = (14.0, 6.0)"
   ]
  },
  {
   "cell_type": "code",
   "execution_count": null,
   "metadata": {},
   "outputs": [],
   "source": [
    "constants = [lower_leg_length,\n",
    "             upper_leg_length,\n",
    "             hip_length,\n",
    "             \n",
    "             lower_leg_left_com_length,\n",
    "             upper_leg_left_com_length,\n",
    "             hip_com_length,\n",
    "             upper_leg_right_com_length,\n",
    "             lower_leg_right_com_length,\n",
    "             \n",
    "             lower_leg_mass,\n",
    "             upper_leg_mass,\n",
    "             hip_mass,\n",
    "             \n",
    "             lower_leg_inertia,\n",
    "             upper_leg_inertia,\n",
    "             hip_inertia,\n",
    "             \n",
    "             g]\n",
    "constants"
   ]
  },
  {
   "cell_type": "code",
   "execution_count": null,
   "metadata": {},
   "outputs": [],
   "source": [
    "numerical_constants = array([0.42,  # lower_leg_length [m]\n",
    "                             0.54, # upper_leg_length [m]\n",
    "                             0.2, # hip_length\n",
    "                             \n",
    "                             0.21,  # lower_leg_com_length [m]\n",
    "                             0.27,  # upper_leg_com_length\n",
    "                             0.10,  # hip_com_length\n",
    "                             0.27,  # upper_leg_com_length\n",
    "                             0.21,  # lower_leg_com_length [m]\n",
    "                             \n",
    "                             1.0,  # lower_leg_mass [kg]\n",
    "                             1.5,  # upper_leg_mass [kg]\n",
    "                             2.0,  # hip_mass [kg]\n",
    "                             \n",
    "                             0.1,  # lower_leg_inertia [kg*m^2]                             \n",
    "                             0.2,  # upper_leg_inertia [kg*m^2]\n",
    "                             0.1,  # hip_inertia [kg*m^2]\n",
    "                             \n",
    "                             9.81],  # acceleration due to gravity [m/s^2]\n",
    "                            ) \n",
    "numerical_constants"
   ]
  },
  {
   "cell_type": "code",
   "execution_count": null,
   "metadata": {},
   "outputs": [],
   "source": [
    "coordinates = [theta0, theta1, theta2, theta3, theta4]\n",
    "coordinates"
   ]
  },
  {
   "cell_type": "code",
   "execution_count": null,
   "metadata": {},
   "outputs": [],
   "source": [
    "speeds = [omega0, omega1, omega2, omega3, omega4]\n",
    "speeds"
   ]
  },
  {
   "cell_type": "code",
   "execution_count": null,
   "metadata": {
    "collapsed": true
   },
   "outputs": [],
   "source": [
    "specified = [ankle_left_torque, knee_left_torque, hip_left_torque, hip_right_torque, knee_right_torque, ankle_right_torque]"
   ]
  },
  {
   "cell_type": "code",
   "execution_count": null,
   "metadata": {},
   "outputs": [],
   "source": [
    "right_hand_side = generate_ode_function(forcing_vector, coordinates,\n",
    "                                        speeds, constants,\n",
    "                                        mass_matrix=mass_matrix,\n",
    "                                        specifieds=specified)"
   ]
  },
  {
   "cell_type": "code",
   "execution_count": null,
   "metadata": {},
   "outputs": [],
   "source": [
    "x0 = zeros(10)\n",
    "x0"
   ]
  },
  {
   "cell_type": "code",
   "execution_count": null,
   "metadata": {},
   "outputs": [],
   "source": [
    "x0[:6] = deg2rad(2.0)\n",
    "x0"
   ]
  },
  {
   "cell_type": "code",
   "execution_count": null,
   "metadata": {},
   "outputs": [],
   "source": [
    "numerical_specified = zeros(5)\n",
    "\n",
    "args = {'constants': numerical_constants,\n",
    "        'specified': numerical_specified}\n",
    "frames_per_sec = 60\n",
    "final_time = 5.0\n",
    "\n",
    "t = linspace(0.0, final_time, final_time * frames_per_sec)"
   ]
  },
  {
   "cell_type": "code",
   "execution_count": null,
   "metadata": {},
   "outputs": [],
   "source": [
    "right_hand_side(x0, 0.0, numerical_specified, numerical_constants)"
   ]
  },
  {
   "cell_type": "code",
   "execution_count": null,
   "metadata": {},
   "outputs": [],
   "source": [
    "upper_leg_left_torque"
   ]
  },
  {
   "cell_type": "code",
   "execution_count": null,
   "metadata": {
    "collapsed": true
   },
   "outputs": [],
   "source": []
  }
 ],
 "metadata": {
  "kernelspec": {
   "display_name": "Python 2",
   "language": "python",
   "name": "python2"
  },
  "language_info": {
   "codemirror_mode": {
    "name": "ipython",
    "version": 2
   },
   "file_extension": ".py",
   "mimetype": "text/x-python",
   "name": "python",
   "nbconvert_exporter": "python",
   "pygments_lexer": "ipython2",
   "version": "2.7.13"
  }
 },
 "nbformat": 4,
 "nbformat_minor": 2
}
